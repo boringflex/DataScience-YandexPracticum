{
 "cells": [
  {
   "cell_type": "markdown",
   "id": "b379efd6",
   "metadata": {},
   "source": [
    "# Проект: Рекомендация тарифов"
   ]
  },
  {
   "cell_type": "markdown",
   "id": "e90d33fc",
   "metadata": {},
   "source": [
    "___\n",
    "**Описание проекта**  \n",
    "\n",
    "Оператор мобильной связи «Мегалайн» выяснил: многие клиенты пользуются архивными тарифами. Они хотят построить систему, способную проанализировать поведение клиентов и предложить пользователям новый тариф: «Смарт» или «Ультра».  \n",
    "В вашем распоряжении данные о поведении клиентов, которые уже перешли на эти тарифы (из проекта курса «Статистический анализ данных»). Нужно построить модель для задачи классификации, которая выберет подходящий тариф. Предобработка данных не понадобится — вы её уже сделали.\n",
    "___\n",
    "**Цель**  \n",
    "\n",
    "Постройте модель с максимально большим значением *accuracy*. Чтобы сдать проект успешно, нужно довести долю правильных ответов по крайней мере до 0.75. Проверьте *accuracy* на тестовой выборке самостоятельно.\n",
    "___\n",
    "**Описание данных:**  \n",
    "\n",
    "Каждый объект в наборе данных — это информация о поведении одного пользователя за месяц. Известно:  \n",
    "\n",
    "- `сalls` — количество звонков,\n",
    "- `minutes` — суммарная длительность звонков в минутах,\n",
    "- `messages` — количество sms-сообщений,\n",
    "- `mb_used` — израсходованный интернет-трафик в Мб,\n",
    "- `is_ultra` — каким тарифом пользовался в течение месяца («Ультра» — 1, «Смарт» — 0).\n",
    "___\n",
    "**План работы:**\n",
    "\n",
    "1. Изучение общей информации\n",
    "2. Предобработка данных\n",
    "3. Разбивка данных на выборки\n",
    "4. Исследование моделей\n",
    "5. Проверка модели на тестовой выборке\n",
    "6. Проверка модели на адекватность\n",
    "7. Общий вывод"
   ]
  },
  {
   "cell_type": "markdown",
   "id": "30d0c975",
   "metadata": {},
   "source": [
    "## Откроем файл с данными и изучим общую информацию"
   ]
  },
  {
   "cell_type": "markdown",
   "id": "b484259e",
   "metadata": {},
   "source": [
    "### Считаем данные из csv-файла в датафрейм и сохраним в переменную `df`. Путь к файлу:\n",
    "\n",
    "`/datasets/users_behavior.csv`"
   ]
  },
  {
   "cell_type": "code",
   "execution_count": 1,
   "id": "f2698dc9",
   "metadata": {},
   "outputs": [],
   "source": [
    "import pandas as pd\n",
    "import numpy as np\n",
    "import matplotlib.pyplot as plt\n",
    "import seaborn as sns\n",
    "\n",
    "from datetime import datetime\n",
    "from scipy import stats as st"
   ]
  },
  {
   "cell_type": "code",
   "execution_count": 2,
   "id": "3ea50b38",
   "metadata": {},
   "outputs": [],
   "source": [
    "#Инициализация модели дерева решений\n",
    "from sklearn.tree import DecisionTreeClassifier\n",
    "\n",
    "#Инициализация модели случайного леса\n",
    "from sklearn.ensemble import RandomForestClassifier\n",
    "\n",
    "#Инициализация модели логистической регрессии\n",
    "from sklearn.linear_model import LogisticRegression\n",
    "\n",
    "#Поиск лучших параметров модели\n",
    "from sklearn.model_selection import GridSearchCV\n",
    "\n",
    "#Проверка модели на адекватность\n",
    "from sklearn.dummy import DummyClassifier\n",
    "\n",
    "#Разделение выборки в заданных пропорциях\n",
    "from sklearn.model_selection import train_test_split\n",
    "\n",
    "#Вычисление доли правильных ответов\n",
    "from sklearn.metrics import accuracy_score\n",
    "\n",
    "#Сохранение и загрузка обученной модели\n",
    "import joblib"
   ]
  },
  {
   "cell_type": "code",
   "execution_count": 3,
   "id": "90053a81",
   "metadata": {},
   "outputs": [],
   "source": [
    "try:\n",
    "    df = pd.read_csv('./users_behavior.csv')\n",
    "except:\n",
    "    print('File_not_found')"
   ]
  },
  {
   "cell_type": "markdown",
   "id": "c906008b",
   "metadata": {},
   "source": [
    "### Изучим общую информацию о полученном датафрейме"
   ]
  },
  {
   "cell_type": "markdown",
   "id": "f07834b8",
   "metadata": {},
   "source": [
    "**Добавим настройки для удобства отображения данных**"
   ]
  },
  {
   "cell_type": "code",
   "execution_count": 4,
   "id": "3b5d0d2c",
   "metadata": {},
   "outputs": [],
   "source": [
    "pd.set_option('display.max_columns', None)\n",
    "pd.set_option('display.max_rows', 200)\n",
    "pd.options.display.float_format = '{:,.2f}'.format\n",
    "\n",
    "#Если необходимо вернуть дефолтные настройки, раскомментируй строку ниже\n",
    "#pd.reset_option('all')"
   ]
  },
  {
   "cell_type": "markdown",
   "id": "3357904b",
   "metadata": {},
   "source": [
    "**Выведем первые 10 строчек датафрейма `df` на экран.**"
   ]
  },
  {
   "cell_type": "code",
   "execution_count": 5,
   "id": "0ca03333",
   "metadata": {},
   "outputs": [
    {
     "data": {
      "text/html": [
       "<div>\n",
       "<style scoped>\n",
       "    .dataframe tbody tr th:only-of-type {\n",
       "        vertical-align: middle;\n",
       "    }\n",
       "\n",
       "    .dataframe tbody tr th {\n",
       "        vertical-align: top;\n",
       "    }\n",
       "\n",
       "    .dataframe thead th {\n",
       "        text-align: right;\n",
       "    }\n",
       "</style>\n",
       "<table border=\"1\" class=\"dataframe\">\n",
       "  <thead>\n",
       "    <tr style=\"text-align: right;\">\n",
       "      <th></th>\n",
       "      <th>calls</th>\n",
       "      <th>minutes</th>\n",
       "      <th>messages</th>\n",
       "      <th>mb_used</th>\n",
       "      <th>is_ultra</th>\n",
       "    </tr>\n",
       "  </thead>\n",
       "  <tbody>\n",
       "    <tr>\n",
       "      <th>0</th>\n",
       "      <td>40.00</td>\n",
       "      <td>311.90</td>\n",
       "      <td>83.00</td>\n",
       "      <td>19,915.42</td>\n",
       "      <td>0</td>\n",
       "    </tr>\n",
       "    <tr>\n",
       "      <th>1</th>\n",
       "      <td>85.00</td>\n",
       "      <td>516.75</td>\n",
       "      <td>56.00</td>\n",
       "      <td>22,696.96</td>\n",
       "      <td>0</td>\n",
       "    </tr>\n",
       "    <tr>\n",
       "      <th>2</th>\n",
       "      <td>77.00</td>\n",
       "      <td>467.66</td>\n",
       "      <td>86.00</td>\n",
       "      <td>21,060.45</td>\n",
       "      <td>0</td>\n",
       "    </tr>\n",
       "    <tr>\n",
       "      <th>3</th>\n",
       "      <td>106.00</td>\n",
       "      <td>745.53</td>\n",
       "      <td>81.00</td>\n",
       "      <td>8,437.39</td>\n",
       "      <td>1</td>\n",
       "    </tr>\n",
       "    <tr>\n",
       "      <th>4</th>\n",
       "      <td>66.00</td>\n",
       "      <td>418.74</td>\n",
       "      <td>1.00</td>\n",
       "      <td>14,502.75</td>\n",
       "      <td>0</td>\n",
       "    </tr>\n",
       "    <tr>\n",
       "      <th>5</th>\n",
       "      <td>58.00</td>\n",
       "      <td>344.56</td>\n",
       "      <td>21.00</td>\n",
       "      <td>15,823.37</td>\n",
       "      <td>0</td>\n",
       "    </tr>\n",
       "    <tr>\n",
       "      <th>6</th>\n",
       "      <td>57.00</td>\n",
       "      <td>431.64</td>\n",
       "      <td>20.00</td>\n",
       "      <td>3,738.90</td>\n",
       "      <td>1</td>\n",
       "    </tr>\n",
       "    <tr>\n",
       "      <th>7</th>\n",
       "      <td>15.00</td>\n",
       "      <td>132.40</td>\n",
       "      <td>6.00</td>\n",
       "      <td>21,911.60</td>\n",
       "      <td>0</td>\n",
       "    </tr>\n",
       "    <tr>\n",
       "      <th>8</th>\n",
       "      <td>7.00</td>\n",
       "      <td>43.39</td>\n",
       "      <td>3.00</td>\n",
       "      <td>2,538.67</td>\n",
       "      <td>1</td>\n",
       "    </tr>\n",
       "    <tr>\n",
       "      <th>9</th>\n",
       "      <td>90.00</td>\n",
       "      <td>665.41</td>\n",
       "      <td>38.00</td>\n",
       "      <td>17,358.61</td>\n",
       "      <td>0</td>\n",
       "    </tr>\n",
       "  </tbody>\n",
       "</table>\n",
       "</div>"
      ],
      "text/plain": [
       "   calls  minutes  messages   mb_used  is_ultra\n",
       "0  40.00   311.90     83.00 19,915.42         0\n",
       "1  85.00   516.75     56.00 22,696.96         0\n",
       "2  77.00   467.66     86.00 21,060.45         0\n",
       "3 106.00   745.53     81.00  8,437.39         1\n",
       "4  66.00   418.74      1.00 14,502.75         0\n",
       "5  58.00   344.56     21.00 15,823.37         0\n",
       "6  57.00   431.64     20.00  3,738.90         1\n",
       "7  15.00   132.40      6.00 21,911.60         0\n",
       "8   7.00    43.39      3.00  2,538.67         1\n",
       "9  90.00   665.41     38.00 17,358.61         0"
      ]
     },
     "execution_count": 5,
     "metadata": {},
     "output_type": "execute_result"
    }
   ],
   "source": [
    "df.head(10)"
   ]
  },
  {
   "cell_type": "markdown",
   "id": "18ff4083",
   "metadata": {},
   "source": [
    "**Посмотрим на размер данных (количество строк, колонок).**"
   ]
  },
  {
   "cell_type": "code",
   "execution_count": 6,
   "id": "2fef6417",
   "metadata": {},
   "outputs": [
    {
     "data": {
      "text/plain": [
       "(3214, 5)"
      ]
     },
     "execution_count": 6,
     "metadata": {},
     "output_type": "execute_result"
    }
   ],
   "source": [
    "df.shape"
   ]
  },
  {
   "cell_type": "markdown",
   "id": "a96c3ac0",
   "metadata": {},
   "source": [
    "**Просмотрим статистическую сводку каждой колонки, чтобы узнать распределение данных в каждой колонки. Используем метод `describe()`.**"
   ]
  },
  {
   "cell_type": "code",
   "execution_count": 7,
   "id": "b5ba11a7",
   "metadata": {},
   "outputs": [
    {
     "data": {
      "text/html": [
       "<div>\n",
       "<style scoped>\n",
       "    .dataframe tbody tr th:only-of-type {\n",
       "        vertical-align: middle;\n",
       "    }\n",
       "\n",
       "    .dataframe tbody tr th {\n",
       "        vertical-align: top;\n",
       "    }\n",
       "\n",
       "    .dataframe thead th {\n",
       "        text-align: right;\n",
       "    }\n",
       "</style>\n",
       "<table border=\"1\" class=\"dataframe\">\n",
       "  <thead>\n",
       "    <tr style=\"text-align: right;\">\n",
       "      <th></th>\n",
       "      <th>calls</th>\n",
       "      <th>minutes</th>\n",
       "      <th>messages</th>\n",
       "      <th>mb_used</th>\n",
       "      <th>is_ultra</th>\n",
       "    </tr>\n",
       "  </thead>\n",
       "  <tbody>\n",
       "    <tr>\n",
       "      <th>count</th>\n",
       "      <td>3,214.00</td>\n",
       "      <td>3,214.00</td>\n",
       "      <td>3,214.00</td>\n",
       "      <td>3,214.00</td>\n",
       "      <td>3,214.00</td>\n",
       "    </tr>\n",
       "    <tr>\n",
       "      <th>mean</th>\n",
       "      <td>63.04</td>\n",
       "      <td>438.21</td>\n",
       "      <td>38.28</td>\n",
       "      <td>17,207.67</td>\n",
       "      <td>0.31</td>\n",
       "    </tr>\n",
       "    <tr>\n",
       "      <th>std</th>\n",
       "      <td>33.24</td>\n",
       "      <td>234.57</td>\n",
       "      <td>36.15</td>\n",
       "      <td>7,570.97</td>\n",
       "      <td>0.46</td>\n",
       "    </tr>\n",
       "    <tr>\n",
       "      <th>min</th>\n",
       "      <td>0.00</td>\n",
       "      <td>0.00</td>\n",
       "      <td>0.00</td>\n",
       "      <td>0.00</td>\n",
       "      <td>0.00</td>\n",
       "    </tr>\n",
       "    <tr>\n",
       "      <th>25%</th>\n",
       "      <td>40.00</td>\n",
       "      <td>274.58</td>\n",
       "      <td>9.00</td>\n",
       "      <td>12,491.90</td>\n",
       "      <td>0.00</td>\n",
       "    </tr>\n",
       "    <tr>\n",
       "      <th>50%</th>\n",
       "      <td>62.00</td>\n",
       "      <td>430.60</td>\n",
       "      <td>30.00</td>\n",
       "      <td>16,943.24</td>\n",
       "      <td>0.00</td>\n",
       "    </tr>\n",
       "    <tr>\n",
       "      <th>75%</th>\n",
       "      <td>82.00</td>\n",
       "      <td>571.93</td>\n",
       "      <td>57.00</td>\n",
       "      <td>21,424.70</td>\n",
       "      <td>1.00</td>\n",
       "    </tr>\n",
       "    <tr>\n",
       "      <th>max</th>\n",
       "      <td>244.00</td>\n",
       "      <td>1,632.06</td>\n",
       "      <td>224.00</td>\n",
       "      <td>49,745.73</td>\n",
       "      <td>1.00</td>\n",
       "    </tr>\n",
       "  </tbody>\n",
       "</table>\n",
       "</div>"
      ],
      "text/plain": [
       "         calls  minutes  messages   mb_used  is_ultra\n",
       "count 3,214.00 3,214.00  3,214.00  3,214.00  3,214.00\n",
       "mean     63.04   438.21     38.28 17,207.67      0.31\n",
       "std      33.24   234.57     36.15  7,570.97      0.46\n",
       "min       0.00     0.00      0.00      0.00      0.00\n",
       "25%      40.00   274.58      9.00 12,491.90      0.00\n",
       "50%      62.00   430.60     30.00 16,943.24      0.00\n",
       "75%      82.00   571.93     57.00 21,424.70      1.00\n",
       "max     244.00 1,632.06    224.00 49,745.73      1.00"
      ]
     },
     "execution_count": 7,
     "metadata": {},
     "output_type": "execute_result"
    }
   ],
   "source": [
    "df.describe(include = \"all\")"
   ]
  },
  {
   "cell_type": "markdown",
   "id": "702bc63a",
   "metadata": {},
   "source": [
    "**Выведем основную информацию о датафрейме с помощью метода `info()`.**"
   ]
  },
  {
   "cell_type": "code",
   "execution_count": 8,
   "id": "f0346c45",
   "metadata": {},
   "outputs": [
    {
     "name": "stdout",
     "output_type": "stream",
     "text": [
      "<class 'pandas.core.frame.DataFrame'>\n",
      "RangeIndex: 3214 entries, 0 to 3213\n",
      "Data columns (total 5 columns):\n",
      " #   Column    Non-Null Count  Dtype  \n",
      "---  ------    --------------  -----  \n",
      " 0   calls     3214 non-null   float64\n",
      " 1   minutes   3214 non-null   float64\n",
      " 2   messages  3214 non-null   float64\n",
      " 3   mb_used   3214 non-null   float64\n",
      " 4   is_ultra  3214 non-null   int64  \n",
      "dtypes: float64(4), int64(1)\n",
      "memory usage: 125.7 KB\n"
     ]
    }
   ],
   "source": [
    "df.info()"
   ]
  },
  {
   "cell_type": "markdown",
   "id": "34433843",
   "metadata": {},
   "source": [
    "**Выведем количество пропущенных значений для каждой колонки.**"
   ]
  },
  {
   "cell_type": "code",
   "execution_count": 9,
   "id": "79d033bc",
   "metadata": {
    "scrolled": true
   },
   "outputs": [
    {
     "data": {
      "text/html": [
       "<style type=\"text/css\">\n",
       "#T_439fd_row0_col0, #T_439fd_row1_col0, #T_439fd_row2_col0, #T_439fd_row3_col0, #T_439fd_row4_col0 {\n",
       "  background-color: #3b4cc0;\n",
       "  color: #f1f1f1;\n",
       "}\n",
       "</style>\n",
       "<table id=\"T_439fd\">\n",
       "  <thead>\n",
       "    <tr>\n",
       "      <th class=\"blank level0\" >&nbsp;</th>\n",
       "      <th id=\"T_439fd_level0_col0\" class=\"col_heading level0 col0\" >0</th>\n",
       "    </tr>\n",
       "  </thead>\n",
       "  <tbody>\n",
       "    <tr>\n",
       "      <th id=\"T_439fd_level0_row0\" class=\"row_heading level0 row0\" >calls</th>\n",
       "      <td id=\"T_439fd_row0_col0\" class=\"data row0 col0\" >0</td>\n",
       "    </tr>\n",
       "    <tr>\n",
       "      <th id=\"T_439fd_level0_row1\" class=\"row_heading level0 row1\" >minutes</th>\n",
       "      <td id=\"T_439fd_row1_col0\" class=\"data row1 col0\" >0</td>\n",
       "    </tr>\n",
       "    <tr>\n",
       "      <th id=\"T_439fd_level0_row2\" class=\"row_heading level0 row2\" >messages</th>\n",
       "      <td id=\"T_439fd_row2_col0\" class=\"data row2 col0\" >0</td>\n",
       "    </tr>\n",
       "    <tr>\n",
       "      <th id=\"T_439fd_level0_row3\" class=\"row_heading level0 row3\" >mb_used</th>\n",
       "      <td id=\"T_439fd_row3_col0\" class=\"data row3 col0\" >0</td>\n",
       "    </tr>\n",
       "    <tr>\n",
       "      <th id=\"T_439fd_level0_row4\" class=\"row_heading level0 row4\" >is_ultra</th>\n",
       "      <td id=\"T_439fd_row4_col0\" class=\"data row4 col0\" >0</td>\n",
       "    </tr>\n",
       "  </tbody>\n",
       "</table>\n"
      ],
      "text/plain": [
       "<pandas.io.formats.style.Styler at 0x7f0150a8c610>"
      ]
     },
     "execution_count": 9,
     "metadata": {},
     "output_type": "execute_result"
    }
   ],
   "source": [
    "pd.DataFrame(df.isna().sum()).style.background_gradient('coolwarm')"
   ]
  },
  {
   "cell_type": "markdown",
   "id": "912de544",
   "metadata": {},
   "source": [
    "**Выведем пропущенные значения в процентном соотношении.**"
   ]
  },
  {
   "cell_type": "code",
   "execution_count": 10,
   "id": "10c0684c",
   "metadata": {},
   "outputs": [
    {
     "data": {
      "text/html": [
       "<style type=\"text/css\">\n",
       "#T_cae6c_row0_col0, #T_cae6c_row1_col0, #T_cae6c_row2_col0, #T_cae6c_row3_col0, #T_cae6c_row4_col0 {\n",
       "  background-color: #3b4cc0;\n",
       "  color: #f1f1f1;\n",
       "}\n",
       "</style>\n",
       "<table id=\"T_cae6c\">\n",
       "  <thead>\n",
       "    <tr>\n",
       "      <th class=\"blank level0\" >&nbsp;</th>\n",
       "      <th id=\"T_cae6c_level0_col0\" class=\"col_heading level0 col0\" >0</th>\n",
       "    </tr>\n",
       "  </thead>\n",
       "  <tbody>\n",
       "    <tr>\n",
       "      <th id=\"T_cae6c_level0_row0\" class=\"row_heading level0 row0\" >calls</th>\n",
       "      <td id=\"T_cae6c_row0_col0\" class=\"data row0 col0\" >0.00%</td>\n",
       "    </tr>\n",
       "    <tr>\n",
       "      <th id=\"T_cae6c_level0_row1\" class=\"row_heading level0 row1\" >minutes</th>\n",
       "      <td id=\"T_cae6c_row1_col0\" class=\"data row1 col0\" >0.00%</td>\n",
       "    </tr>\n",
       "    <tr>\n",
       "      <th id=\"T_cae6c_level0_row2\" class=\"row_heading level0 row2\" >messages</th>\n",
       "      <td id=\"T_cae6c_row2_col0\" class=\"data row2 col0\" >0.00%</td>\n",
       "    </tr>\n",
       "    <tr>\n",
       "      <th id=\"T_cae6c_level0_row3\" class=\"row_heading level0 row3\" >mb_used</th>\n",
       "      <td id=\"T_cae6c_row3_col0\" class=\"data row3 col0\" >0.00%</td>\n",
       "    </tr>\n",
       "    <tr>\n",
       "      <th id=\"T_cae6c_level0_row4\" class=\"row_heading level0 row4\" >is_ultra</th>\n",
       "      <td id=\"T_cae6c_row4_col0\" class=\"data row4 col0\" >0.00%</td>\n",
       "    </tr>\n",
       "  </tbody>\n",
       "</table>\n"
      ],
      "text/plain": [
       "<pandas.io.formats.style.Styler at 0x7f01506bfee0>"
      ]
     },
     "execution_count": 10,
     "metadata": {},
     "output_type": "execute_result"
    }
   ],
   "source": [
    "pd.DataFrame(df.isna().mean()).style.format(\"{:.2%}\").background_gradient('coolwarm')"
   ]
  },
  {
   "cell_type": "markdown",
   "id": "9ccad575",
   "metadata": {},
   "source": [
    "**Проверим дубликаты.**"
   ]
  },
  {
   "cell_type": "code",
   "execution_count": 11,
   "id": "81af5224",
   "metadata": {},
   "outputs": [
    {
     "data": {
      "text/plain": [
       "0"
      ]
     },
     "execution_count": 11,
     "metadata": {},
     "output_type": "execute_result"
    }
   ],
   "source": [
    "df.duplicated().sum()"
   ]
  },
  {
   "cell_type": "markdown",
   "id": "b24dbfc4",
   "metadata": {},
   "source": [
    "**Выявлены следующие проблемы:**\n",
    "\n",
    ">* тип значений `float64` в колонке `calls` следует изменить на `int64`\n",
    ">* тип значений `float64` в колонке `messages` следует изменить на `int64`\n"
   ]
  },
  {
   "cell_type": "markdown",
   "id": "3dfb1a46",
   "metadata": {},
   "source": [
    "## Предобработка данных"
   ]
  },
  {
   "cell_type": "markdown",
   "id": "b207e375",
   "metadata": {},
   "source": [
    "**Изменим тип значений `float64` в колонке `calls` на `int64`.**"
   ]
  },
  {
   "cell_type": "code",
   "execution_count": 12,
   "id": "ff79b904",
   "metadata": {},
   "outputs": [],
   "source": [
    "df['calls'] = df['calls'].astype('int64')"
   ]
  },
  {
   "cell_type": "markdown",
   "id": "0660bf3d",
   "metadata": {},
   "source": [
    "**Изменим тип значений `float64` в колонке `messages` на `int64`.**"
   ]
  },
  {
   "cell_type": "code",
   "execution_count": 13,
   "id": "e2a8bb57",
   "metadata": {},
   "outputs": [],
   "source": [
    "df['messages'] = df['messages'].astype('int64')"
   ]
  },
  {
   "cell_type": "markdown",
   "id": "a568861f",
   "metadata": {},
   "source": [
    "**В вашем распоряжении обучающий набор данных и целевой признак, который нужно предсказать по остальным признакам. Целевой признак — значение в колонке `is_ultra`. Такие задачи относятся к классу «обучение с учителем» (от англ. supervised learning).  \n",
    "В нашем случае, целевой признак `категориальный`, тем самым будет решается задача `классификации`. Категорий всего две — речь идёт о `бинарной (двоичной) классификации`.**"
   ]
  },
  {
   "cell_type": "markdown",
   "id": "4b9bfbe0",
   "metadata": {},
   "source": [
    "**Многие библиотеки машинного обучения, для решения задач `классификации`, требуют, чтобы признаки были сохранены в отдельных переменных. Объявим две переменные:**  \n",
    "* `features` (англ. «признаки») — запишем в неё колонки `calls`, `minutes`, `messages`, `mb_used`:\n",
    "* `target` (англ. «цель») — целевой признак, запишем в неё колонку `is_ultra`."
   ]
  },
  {
   "cell_type": "code",
   "execution_count": 14,
   "id": "783553b2",
   "metadata": {},
   "outputs": [
    {
     "data": {
      "text/plain": [
       "(3214, 4)"
      ]
     },
     "metadata": {},
     "output_type": "display_data"
    }
   ],
   "source": [
    "features = df.drop(['is_ultra'], axis=1)\n",
    "display(features.shape)"
   ]
  },
  {
   "cell_type": "code",
   "execution_count": 15,
   "id": "6346a46b",
   "metadata": {},
   "outputs": [
    {
     "data": {
      "text/plain": [
       "(3214,)"
      ]
     },
     "metadata": {},
     "output_type": "display_data"
    }
   ],
   "source": [
    "target = df['is_ultra']\n",
    "display(target.shape)"
   ]
  },
  {
   "cell_type": "markdown",
   "id": "a81eb7b6",
   "metadata": {},
   "source": [
    "## Разбъём данные на выборки"
   ]
  },
  {
   "cell_type": "markdown",
   "id": "d4cda007",
   "metadata": {},
   "source": [
    "**Разделим исходные данные на `обучающую`, `валидационную` и `тестовую` выборки в пропорции `60`:`20`:`20`.**\n",
    "\n",
    "**Данные запишем в новые переменные:**  \n",
    "\n",
    "`features_train` - `60%`  \n",
    "`features_valid` - `20%`  \n",
    "`features_test` - `20%`  \n",
    "`target_train` - `60%`  \n",
    "`target_valid` - `20%`  \n",
    "`target_test` - `20%`  "
   ]
  },
  {
   "cell_type": "markdown",
   "id": "9c78d05d",
   "metadata": {},
   "source": [
    "**В начале разделим данные на `обучающую` и `валидационную` в пропорции `60`:`40`.**"
   ]
  },
  {
   "cell_type": "code",
   "execution_count": 16,
   "id": "40a335a8",
   "metadata": {},
   "outputs": [],
   "source": [
    "features_train, features_valid, target_train, target_valid = train_test_split(\n",
    "    features, target, test_size=0.4, random_state=12345, stratify=target)"
   ]
  },
  {
   "cell_type": "markdown",
   "id": "778e9b80",
   "metadata": {},
   "source": [
    "**Далее разделим данные на `валидационную` и `тестовую`, разделив полученную на предыдущем шаге `валидационную` выборку, в пропорции `50`:`50`, в итоге получим выборки в пропорции `60`:`20`:`20`.**"
   ]
  },
  {
   "cell_type": "code",
   "execution_count": 17,
   "id": "61e5e805",
   "metadata": {},
   "outputs": [],
   "source": [
    "features_valid, features_test, target_valid, target_test = train_test_split(\n",
    "    features_valid, target_valid, test_size=0.5, random_state=12345, stratify=target_valid)"
   ]
  },
  {
   "cell_type": "markdown",
   "id": "79438bd4",
   "metadata": {},
   "source": [
    "**Посмотрим на полученные данные.**"
   ]
  },
  {
   "cell_type": "code",
   "execution_count": 18,
   "id": "66ea08d7",
   "metadata": {},
   "outputs": [
    {
     "data": {
      "text/plain": [
       "(1928, 4)"
      ]
     },
     "metadata": {},
     "output_type": "display_data"
    },
    {
     "data": {
      "text/plain": [
       "(1928,)"
      ]
     },
     "metadata": {},
     "output_type": "display_data"
    }
   ],
   "source": [
    "display(features_train.shape, target_train.shape)"
   ]
  },
  {
   "cell_type": "code",
   "execution_count": 19,
   "id": "80764d8d",
   "metadata": {},
   "outputs": [
    {
     "data": {
      "text/plain": [
       "(643, 4)"
      ]
     },
     "metadata": {},
     "output_type": "display_data"
    },
    {
     "data": {
      "text/plain": [
       "(643,)"
      ]
     },
     "metadata": {},
     "output_type": "display_data"
    }
   ],
   "source": [
    "display(features_valid.shape, target_valid.shape)"
   ]
  },
  {
   "cell_type": "code",
   "execution_count": 20,
   "id": "ce312673",
   "metadata": {},
   "outputs": [
    {
     "data": {
      "text/plain": [
       "(643, 4)"
      ]
     },
     "metadata": {},
     "output_type": "display_data"
    },
    {
     "data": {
      "text/plain": [
       "(643,)"
      ]
     },
     "metadata": {},
     "output_type": "display_data"
    }
   ],
   "source": [
    "display(features_test.shape, target_test.shape)"
   ]
  },
  {
   "cell_type": "markdown",
   "id": "566188be",
   "metadata": {},
   "source": [
    "## Исследуем модели"
   ]
  },
  {
   "cell_type": "markdown",
   "id": "8534e4a3",
   "metadata": {},
   "source": [
    "**Для решения задач классификации, используем:**  \n",
    "\n",
    "* модель `решающее дерево DecisionTreeClassifier`;\n",
    "* модель `случайного леса RandomForestClassifier`;\n",
    "* модель `логистической регрессии LogisticRegression`."
   ]
  },
  {
   "cell_type": "markdown",
   "id": "1deed2d6",
   "metadata": {},
   "source": [
    "**Решающее дерево**"
   ]
  },
  {
   "cell_type": "markdown",
   "id": "c9badbc3",
   "metadata": {},
   "source": [
    "**Обучим модель `DecisionTreeClassifier` с используя цикл `for`.**"
   ]
  },
  {
   "cell_type": "code",
   "execution_count": 21,
   "id": "2abf9eef",
   "metadata": {},
   "outputs": [
    {
     "name": "stdout",
     "output_type": "stream",
     "text": [
      "Score лучшей модели: 0.8040435458786936\n",
      "Гиперпараметры лучшей модели: DecisionTreeClassifier(max_depth=8, min_samples_leaf=3, min_samples_split=8,\n",
      "                       random_state=12345)\n",
      "CPU times: user 19.7 s, sys: 97.9 ms, total: 19.8 s\n",
      "Wall time: 20 s\n"
     ]
    }
   ],
   "source": [
    "%%time\n",
    "\n",
    "best_model = None\n",
    "best_result = 0\n",
    "for criterion in ['gini', 'entropy']:\n",
    "    for max_depth in range(1, 11):\n",
    "        for min_samples_split in range(2, 11):\n",
    "            for min_samples_leaf in range(1, 11):\n",
    "                model = DecisionTreeClassifier(criterion=criterion,\n",
    "                                               max_depth=max_depth,\n",
    "                                               min_samples_split=min_samples_split,\n",
    "                                               min_samples_leaf=min_samples_leaf,\n",
    "                                               random_state=12345)\n",
    "                model.fit(features_train, target_train)\n",
    "                result = model.score(features_valid, target_valid)\n",
    "                if result > best_result:\n",
    "                    best_model = model\n",
    "                    best_result = result\n",
    "        \n",
    "print(\"Score лучшей модели:\", best_result)\n",
    "print(\"Гиперпараметры лучшей модели:\", best_model)"
   ]
  },
  {
   "cell_type": "markdown",
   "id": "aa9aff2b",
   "metadata": {},
   "source": [
    "**Обучим модель `DecisionTreeClassifier` с помощью библиотеки `GridSearchCV`.**"
   ]
  },
  {
   "cell_type": "code",
   "execution_count": 22,
   "id": "bf69a9e1",
   "metadata": {},
   "outputs": [],
   "source": [
    "model = DecisionTreeClassifier(random_state=12345)\n",
    "\n",
    "param_search = {\n",
    "    'criterion': ['gini', 'entropy'],\n",
    "    'max_depth': list(range(1, 11)),\n",
    "    'min_samples_split': list(range(2, 11)),\n",
    "    'min_samples_leaf': list(range(1, 11))\n",
    "}\n",
    "\n",
    "\n",
    "gs = GridSearchCV(estimator=model,\n",
    "                  cv=5,\n",
    "                  param_grid=param_search,\n",
    "                  scoring='accuracy')"
   ]
  },
  {
   "cell_type": "markdown",
   "id": "e79adc8b",
   "metadata": {},
   "source": [
    "**Для обучения и кросс-валидации объединим ранее разделенные `features_train`, `features_valid` и `target_train`, `target_valid` в новые переменные `features_for_gsearch` и `target_for_gsearch` соответственно.**"
   ]
  },
  {
   "cell_type": "code",
   "execution_count": 23,
   "id": "dd9aa581",
   "metadata": {},
   "outputs": [],
   "source": [
    "features_for_gsearch = pd.concat([features_train, features_valid])"
   ]
  },
  {
   "cell_type": "code",
   "execution_count": 24,
   "id": "14d23165",
   "metadata": {},
   "outputs": [],
   "source": [
    "target_for_gsearch = pd.concat([target_train, target_valid])"
   ]
  },
  {
   "cell_type": "markdown",
   "id": "c88f63e2",
   "metadata": {},
   "source": [
    "**Обучим модель на выборках `features_for_gsearch` и `target_for_gsearch`.**"
   ]
  },
  {
   "cell_type": "code",
   "execution_count": 25,
   "id": "b1fd9047",
   "metadata": {},
   "outputs": [
    {
     "name": "stdout",
     "output_type": "stream",
     "text": [
      "CPU times: user 2min 3s, sys: 338 ms, total: 2min 3s\n",
      "Wall time: 2min 7s\n"
     ]
    },
    {
     "data": {
      "text/plain": [
       "GridSearchCV(cv=5, estimator=DecisionTreeClassifier(random_state=12345),\n",
       "             param_grid={'criterion': ['gini', 'entropy'],\n",
       "                         'max_depth': [1, 2, 3, 4, 5, 6, 7, 8, 9, 10],\n",
       "                         'min_samples_leaf': [1, 2, 3, 4, 5, 6, 7, 8, 9, 10],\n",
       "                         'min_samples_split': [2, 3, 4, 5, 6, 7, 8, 9, 10]},\n",
       "             scoring='accuracy')"
      ]
     },
     "execution_count": 25,
     "metadata": {},
     "output_type": "execute_result"
    }
   ],
   "source": [
    "%%time\n",
    "\n",
    "gs.fit(features_for_gsearch, target_for_gsearch)"
   ]
  },
  {
   "cell_type": "code",
   "execution_count": 26,
   "id": "0ed2baf3",
   "metadata": {
    "scrolled": true
   },
   "outputs": [
    {
     "data": {
      "text/plain": [
       "DecisionTreeClassifier(max_depth=7, min_samples_leaf=9, random_state=12345)"
      ]
     },
     "execution_count": 26,
     "metadata": {},
     "output_type": "execute_result"
    }
   ],
   "source": [
    "gs.best_estimator_"
   ]
  },
  {
   "cell_type": "code",
   "execution_count": 27,
   "id": "88e1ea61",
   "metadata": {},
   "outputs": [
    {
     "data": {
      "text/plain": [
       "0.7942435117675947"
      ]
     },
     "execution_count": 27,
     "metadata": {},
     "output_type": "execute_result"
    }
   ],
   "source": [
    "gs.best_score_"
   ]
  },
  {
   "cell_type": "markdown",
   "id": "7b4dc00f",
   "metadata": {},
   "source": [
    "**Сохраним обученную модель с помощью библиотеки `GridSearchCV` в `model_DecisionTreeClassifier.joblib`.**"
   ]
  },
  {
   "cell_type": "code",
   "execution_count": 28,
   "id": "57726278",
   "metadata": {},
   "outputs": [
    {
     "data": {
      "text/plain": [
       "['model_DecisionTreeClassifier.joblib']"
      ]
     },
     "execution_count": 28,
     "metadata": {},
     "output_type": "execute_result"
    }
   ],
   "source": [
    "joblib.dump(gs.best_estimator_, 'model_DecisionTreeClassifier.joblib')"
   ]
  },
  {
   "cell_type": "markdown",
   "id": "fa911a39",
   "metadata": {},
   "source": [
    "**Случайный лес**"
   ]
  },
  {
   "cell_type": "markdown",
   "id": "b3722a70",
   "metadata": {},
   "source": [
    "**Обучим модель `RandomForestClassifier` с используя цикл `for`.**"
   ]
  },
  {
   "cell_type": "code",
   "execution_count": 29,
   "id": "6291b4f3",
   "metadata": {},
   "outputs": [
    {
     "data": {
      "text/plain": [
       "'Score наилучшей модели на валидационной выборке:'"
      ]
     },
     "metadata": {},
     "output_type": "display_data"
    },
    {
     "data": {
      "text/plain": [
       "0.8242612752721618"
      ]
     },
     "metadata": {},
     "output_type": "display_data"
    },
    {
     "data": {
      "text/plain": [
       "'Гиперпараметры лучшей модели:'"
      ]
     },
     "metadata": {},
     "output_type": "display_data"
    },
    {
     "data": {
      "text/plain": [
       "RandomForestClassifier(max_depth=10, min_samples_split=4, n_estimators=101,\n",
       "                       n_jobs=-1, random_state=12345)"
      ]
     },
     "metadata": {},
     "output_type": "display_data"
    },
    {
     "name": "stdout",
     "output_type": "stream",
     "text": [
      "CPU times: user 18min 47s, sys: 1min 46s, total: 20min 33s\n",
      "Wall time: 12min 21s\n"
     ]
    }
   ],
   "source": [
    "%%time\n",
    "\n",
    "best_model = None\n",
    "best_result = 0\n",
    "for criterion in ['gini', 'entropy']:\n",
    "    for n_estimators in (1, 101):\n",
    "        for max_depth in range(2, 11):\n",
    "            for min_samples_split in range(2, 11):\n",
    "                for min_samples_leaf in range(1, 11):\n",
    "                    model = RandomForestClassifier(n_jobs=-1,\n",
    "                                                   criterion=criterion,\n",
    "                                                   n_estimators=n_estimators,\n",
    "                                                   max_depth=max_depth,\n",
    "                                                   min_samples_split=min_samples_split,\n",
    "                                                   min_samples_leaf=min_samples_leaf,\n",
    "                                                   random_state=12345)\n",
    "                    model.fit(features_train, target_train)\n",
    "                    result = model.score(features_valid, target_valid)\n",
    "                    if result > best_result:\n",
    "                        best_model = model\n",
    "                        best_result = result\n",
    "\n",
    "display(\"Score наилучшей модели на валидационной выборке:\", best_result)\n",
    "display(\"Гиперпараметры лучшей модели:\", best_model)"
   ]
  },
  {
   "cell_type": "markdown",
   "id": "01ef9415",
   "metadata": {},
   "source": [
    "**Обучим модель `RandomForestClassifier` с помощью библиотеки `GridSearchCV`.**"
   ]
  },
  {
   "cell_type": "code",
   "execution_count": 30,
   "id": "c8e2a48a",
   "metadata": {},
   "outputs": [],
   "source": [
    "model = RandomForestClassifier(n_jobs=-1, random_state=12345)\n",
    "\n",
    "param_search = {\n",
    "    'criterion': ['gini', 'entropy'],\n",
    "    'n_estimators': list(range(1, 51)),\n",
    "    'max_depth': list(range(1, 11)),\n",
    "    'min_samples_split': list(range(2, 11))\n",
    "}\n",
    "\n",
    "\n",
    "gs = GridSearchCV(estimator=model,\n",
    "                  cv=5,\n",
    "                  param_grid=param_search,\n",
    "                  scoring='accuracy')"
   ]
  },
  {
   "cell_type": "code",
   "execution_count": 31,
   "id": "47d733d0",
   "metadata": {},
   "outputs": [
    {
     "name": "stdout",
     "output_type": "stream",
     "text": [
      "CPU times: user 47min 54s, sys: 4min 38s, total: 52min 32s\n",
      "Wall time: 1h 12min 59s\n"
     ]
    },
    {
     "data": {
      "text/plain": [
       "GridSearchCV(cv=5,\n",
       "             estimator=RandomForestClassifier(n_jobs=-1, random_state=12345),\n",
       "             param_grid={'criterion': ['gini', 'entropy'],\n",
       "                         'max_depth': [1, 2, 3, 4, 5, 6, 7, 8, 9, 10],\n",
       "                         'min_samples_split': [2, 3, 4, 5, 6, 7, 8, 9, 10],\n",
       "                         'n_estimators': [1, 2, 3, 4, 5, 6, 7, 8, 9, 10, 11, 12,\n",
       "                                          13, 14, 15, 16, 17, 18, 19, 20, 21,\n",
       "                                          22, 23, 24, 25, 26, 27, 28, 29, 30, ...]},\n",
       "             scoring='accuracy')"
      ]
     },
     "execution_count": 31,
     "metadata": {},
     "output_type": "execute_result"
    }
   ],
   "source": [
    "%%time\n",
    "\n",
    "gs.fit(features_for_gsearch, target_for_gsearch)"
   ]
  },
  {
   "cell_type": "code",
   "execution_count": 32,
   "id": "76248275",
   "metadata": {
    "scrolled": true
   },
   "outputs": [
    {
     "data": {
      "text/plain": [
       "RandomForestClassifier(criterion='entropy', max_depth=9, min_samples_split=10,\n",
       "                       n_estimators=16, n_jobs=-1, random_state=12345)"
      ]
     },
     "execution_count": 32,
     "metadata": {},
     "output_type": "execute_result"
    }
   ],
   "source": [
    "gs.best_estimator_"
   ]
  },
  {
   "cell_type": "code",
   "execution_count": 33,
   "id": "069b7b2f",
   "metadata": {},
   "outputs": [
    {
     "data": {
      "text/plain": [
       "0.8074662838578066"
      ]
     },
     "execution_count": 33,
     "metadata": {},
     "output_type": "execute_result"
    }
   ],
   "source": [
    "gs.best_score_"
   ]
  },
  {
   "cell_type": "markdown",
   "id": "0fb5924e",
   "metadata": {},
   "source": [
    "**Сохраним обученную модель с помощью библиотеки `GridSearchCV` в `model_RandomForestClassifier.joblib`.**"
   ]
  },
  {
   "cell_type": "code",
   "execution_count": 34,
   "id": "e4bb6622",
   "metadata": {},
   "outputs": [
    {
     "data": {
      "text/plain": [
       "['model_RandomForestClassifier.joblib']"
      ]
     },
     "execution_count": 34,
     "metadata": {},
     "output_type": "execute_result"
    }
   ],
   "source": [
    "joblib.dump(gs.best_estimator_, 'model_RandomForestClassifier.joblib')"
   ]
  },
  {
   "cell_type": "markdown",
   "id": "675180ca",
   "metadata": {},
   "source": [
    "**Логистическая регрессия**"
   ]
  },
  {
   "cell_type": "markdown",
   "id": "0cf837cd",
   "metadata": {},
   "source": [
    "**Обучим модель `LogisticRegression` с используя цикл `for`.**"
   ]
  },
  {
   "cell_type": "code",
   "execution_count": 35,
   "id": "815e5d21",
   "metadata": {},
   "outputs": [
    {
     "data": {
      "text/plain": [
       "'Score наилучшей модели на валидационной выборке:'"
      ]
     },
     "metadata": {},
     "output_type": "display_data"
    },
    {
     "data": {
      "text/plain": [
       "0.7387247278382582"
      ]
     },
     "metadata": {},
     "output_type": "display_data"
    },
    {
     "data": {
      "text/plain": [
       "'Гиперпараметры лучшей модели:'"
      ]
     },
     "metadata": {},
     "output_type": "display_data"
    },
    {
     "data": {
      "text/plain": [
       "LogisticRegression(C=1, max_iter=1000, random_state=12345)"
      ]
     },
     "metadata": {},
     "output_type": "display_data"
    },
    {
     "name": "stdout",
     "output_type": "stream",
     "text": [
      "CPU times: user 1min 20s, sys: 1.19 s, total: 1min 21s\n",
      "Wall time: 40.7 s\n"
     ]
    }
   ],
   "source": [
    "%%time\n",
    "\n",
    "best_model = None\n",
    "best_result = 0\n",
    "for C in range(1, 1_001):\n",
    "    model = LogisticRegression(max_iter=1_000, random_state=12345, C=C)\n",
    "    model.fit(features_train, target_train)\n",
    "    result = model.score(features_valid, target_valid)\n",
    "    if result > best_result:\n",
    "        best_model = model\n",
    "        best_result = result\n",
    "\n",
    "display(\"Score наилучшей модели на валидационной выборке:\", best_result)\n",
    "display(\"Гиперпараметры лучшей модели:\", best_model)"
   ]
  },
  {
   "cell_type": "markdown",
   "id": "705ffb32",
   "metadata": {},
   "source": [
    "**Обучим модель `LogisticRegression` с помощью библиотеки `GridSearchCV`.**"
   ]
  },
  {
   "cell_type": "code",
   "execution_count": 36,
   "id": "ad400cfd",
   "metadata": {},
   "outputs": [],
   "source": [
    "model = LogisticRegression(max_iter=1000, n_jobs=-1, random_state=12345)\n",
    "\n",
    "param_search = {\n",
    "    'C': list(range(1, 1_001))\n",
    "}\n",
    "\n",
    "gs = GridSearchCV(estimator=model,\n",
    "                  cv=5,\n",
    "                  param_grid=param_search,\n",
    "                  scoring='accuracy')"
   ]
  },
  {
   "cell_type": "code",
   "execution_count": 37,
   "id": "651516c1",
   "metadata": {},
   "outputs": [
    {
     "name": "stdout",
     "output_type": "stream",
     "text": [
      "CPU times: user 53.7 s, sys: 1.71 s, total: 55.5 s\n",
      "Wall time: 3min 7s\n"
     ]
    },
    {
     "data": {
      "text/plain": [
       "GridSearchCV(cv=5,\n",
       "             estimator=LogisticRegression(max_iter=1000, n_jobs=-1,\n",
       "                                          random_state=12345),\n",
       "             param_grid={'C': [1, 2, 3, 4, 5, 6, 7, 8, 9, 10, 11, 12, 13, 14,\n",
       "                               15, 16, 17, 18, 19, 20, 21, 22, 23, 24, 25, 26,\n",
       "                               27, 28, 29, 30, ...]},\n",
       "             scoring='accuracy')"
      ]
     },
     "execution_count": 37,
     "metadata": {},
     "output_type": "execute_result"
    }
   ],
   "source": [
    "%%time\n",
    "\n",
    "gs.fit(features_for_gsearch, target_for_gsearch)"
   ]
  },
  {
   "cell_type": "code",
   "execution_count": 38,
   "id": "1fe3a5a0",
   "metadata": {
    "scrolled": true
   },
   "outputs": [
    {
     "data": {
      "text/plain": [
       "LogisticRegression(C=2, max_iter=1000, n_jobs=-1, random_state=12345)"
      ]
     },
     "execution_count": 38,
     "metadata": {},
     "output_type": "execute_result"
    }
   ],
   "source": [
    "gs.best_estimator_"
   ]
  },
  {
   "cell_type": "code",
   "execution_count": 39,
   "id": "3bda0963",
   "metadata": {},
   "outputs": [
    {
     "data": {
      "text/plain": [
       "0.7355037588304183"
      ]
     },
     "execution_count": 39,
     "metadata": {},
     "output_type": "execute_result"
    }
   ],
   "source": [
    "gs.best_score_"
   ]
  },
  {
   "cell_type": "markdown",
   "id": "3b7dd1e7",
   "metadata": {},
   "source": [
    "**Сохраним обученную модель с помощью библиотеки `GridSearchCV` в `model_LogisticRegression.joblib`.**"
   ]
  },
  {
   "cell_type": "code",
   "execution_count": 40,
   "id": "1c86268b",
   "metadata": {},
   "outputs": [
    {
     "data": {
      "text/plain": [
       "['model_LogisticRegression.joblib']"
      ]
     },
     "execution_count": 40,
     "metadata": {},
     "output_type": "execute_result"
    }
   ],
   "source": [
    "joblib.dump(gs.best_estimator_, 'model_LogisticRegression.joblib')"
   ]
  },
  {
   "cell_type": "markdown",
   "id": "d67733b0",
   "metadata": {},
   "source": [
    "#### Краткие выводы:\n",
    "\n",
    "* модель `решающее дерево` показала `среднюю скорость обучения` и `средний результат`;\n",
    "* модель `случайный лес` показала `низкую скорость обучения` и `высокий результат`;\n",
    "* модель `логистическая регрессия` показала `более высокую скорость обучения` и `низкий результат`."
   ]
  },
  {
   "cell_type": "markdown",
   "id": "5feb5245",
   "metadata": {},
   "source": [
    "**Выберем модель `случайного леса RandomForestClassifier` как лучшую модель, и продолжим на ней тестирование.**"
   ]
  },
  {
   "cell_type": "markdown",
   "id": "b1813d93",
   "metadata": {},
   "source": [
    "## Проверем модель на тестовой выборке"
   ]
  },
  {
   "cell_type": "markdown",
   "id": "23f4d621",
   "metadata": {},
   "source": [
    "**Проверим модель `случайного леса RandomForestClassifier` на тестовой выборке.**"
   ]
  },
  {
   "cell_type": "code",
   "execution_count": 41,
   "id": "ba80ece9",
   "metadata": {},
   "outputs": [],
   "source": [
    "model = joblib.load('model_RandomForestClassifier.joblib')"
   ]
  },
  {
   "cell_type": "code",
   "execution_count": 42,
   "id": "1cb78e4d",
   "metadata": {},
   "outputs": [
    {
     "data": {
      "text/plain": [
       "0.8289269051321928"
      ]
     },
     "execution_count": 42,
     "metadata": {},
     "output_type": "execute_result"
    }
   ],
   "source": [
    "model.score(features_test, target_test)"
   ]
  },
  {
   "cell_type": "markdown",
   "id": "73b556d5",
   "metadata": {},
   "source": [
    "## (бонус) Проверим модели на адекватность"
   ]
  },
  {
   "cell_type": "code",
   "execution_count": 43,
   "id": "21c6241c",
   "metadata": {},
   "outputs": [
    {
     "data": {
      "text/plain": [
       "'most_frequent = 0.6936236391912908'"
      ]
     },
     "metadata": {},
     "output_type": "display_data"
    },
    {
     "data": {
      "text/plain": [
       "'prior = 0.6936236391912908'"
      ]
     },
     "metadata": {},
     "output_type": "display_data"
    },
    {
     "data": {
      "text/plain": [
       "'stratified = 0.5567651632970451'"
      ]
     },
     "metadata": {},
     "output_type": "display_data"
    },
    {
     "data": {
      "text/plain": [
       "'uniform = 0.49455676516329705'"
      ]
     },
     "metadata": {},
     "output_type": "display_data"
    }
   ],
   "source": [
    "strategies = ['most_frequent', 'prior', 'stratified', 'uniform']\n",
    "\n",
    "for strategy in strategies:\n",
    "    model = DummyClassifier(strategy=strategy, random_state=12345)\n",
    "    model.fit(features_train, target_train)\n",
    "    result = model.score(features_test, target_test)\n",
    "    display(f'{strategy} = {result}')"
   ]
  },
  {
   "cell_type": "markdown",
   "id": "7caf709d",
   "metadata": {},
   "source": [
    "**Результаты `обученных моделей` на `тестовой выборке` показали результат выше, чем результаты `DummyClassifier`. Это даёт право сделать вывод, что модели проходят проверку на адекватность.**"
   ]
  },
  {
   "cell_type": "markdown",
   "id": "9ea7b4a1",
   "metadata": {},
   "source": [
    "## Общий вывод"
   ]
  },
  {
   "cell_type": "markdown",
   "id": "6468b660",
   "metadata": {},
   "source": [
    "**Были исследованы три модели:**\n",
    "\n",
    "* Решающее дерево\n",
    "* Случайный лес\n",
    "* Логистическая регрессия\n",
    "\n",
    "Наилучший результат показала модель `случайный лес`, качество которой, на `валидационной выборке`, показала результат - `0.807`, на `тестовой выборке` - `0.790`.\n"
   ]
  },
  {
   "cell_type": "markdown",
   "id": "efcf5698",
   "metadata": {},
   "source": [
    "## Чек-лист готовности проекта"
   ]
  },
  {
   "cell_type": "markdown",
   "id": "d129ffab",
   "metadata": {},
   "source": [
    "Поставьте 'x' в выполненных пунктах. Далее нажмите Shift+Enter."
   ]
  },
  {
   "cell_type": "markdown",
   "id": "9cf20133",
   "metadata": {},
   "source": [
    "- [x] Jupyter Notebook открыт\n",
    "- [x] Весь код исполняется без ошибок\n",
    "- [x] Ячейки с кодом расположены в порядке исполнения\n",
    "- [x] Выполнено задание 1: данные загружены и изучены\n",
    "- [x] Выполнено задание 2: данные разбиты на три выборки\n",
    "- [x] Выполнено задание 3: проведено исследование моделей\n",
    "    - [x] Рассмотрено больше одной модели\n",
    "    - [x] Рассмотрено хотя бы 3 значения гипепараметров для какой-нибудь модели\n",
    "    - [x] Написаны выводы по результатам исследования\n",
    "- [x] Выполнено задание 3: Проведено тестирование\n",
    "- [x] Удалось достичь accuracy не меньше 0.75\n"
   ]
  }
 ],
 "metadata": {
  "ExecuteTimeLog": [
   {
    "duration": 1299,
    "start_time": "2022-12-06T19:23:37.413Z"
   },
   {
    "duration": 195,
    "start_time": "2022-12-06T19:23:38.714Z"
   },
   {
    "duration": 642,
    "start_time": "2022-12-06T19:23:38.911Z"
   },
   {
    "duration": 3,
    "start_time": "2022-12-06T19:23:39.555Z"
   },
   {
    "duration": 20,
    "start_time": "2022-12-06T19:23:39.560Z"
   },
   {
    "duration": 4,
    "start_time": "2022-12-06T19:23:39.581Z"
   },
   {
    "duration": 59,
    "start_time": "2022-12-06T19:23:39.586Z"
   },
   {
    "duration": 12,
    "start_time": "2022-12-06T19:23:39.647Z"
   },
   {
    "duration": 61,
    "start_time": "2022-12-06T19:23:39.661Z"
   },
   {
    "duration": 13,
    "start_time": "2022-12-06T19:23:39.724Z"
   },
   {
    "duration": 13,
    "start_time": "2022-12-06T19:23:39.739Z"
   },
   {
    "duration": 1238,
    "start_time": "2022-12-06T19:23:39.754Z"
   },
   {
    "duration": 0,
    "start_time": "2022-12-06T19:23:40.996Z"
   },
   {
    "duration": 0,
    "start_time": "2022-12-06T19:23:40.997Z"
   },
   {
    "duration": 0,
    "start_time": "2022-12-06T19:23:40.998Z"
   },
   {
    "duration": 0,
    "start_time": "2022-12-06T19:23:41.000Z"
   },
   {
    "duration": 0,
    "start_time": "2022-12-06T19:23:41.001Z"
   },
   {
    "duration": 0,
    "start_time": "2022-12-06T19:23:41.002Z"
   },
   {
    "duration": 0,
    "start_time": "2022-12-06T19:23:41.003Z"
   },
   {
    "duration": 0,
    "start_time": "2022-12-06T19:23:41.004Z"
   },
   {
    "duration": 0,
    "start_time": "2022-12-06T19:23:41.005Z"
   },
   {
    "duration": 0,
    "start_time": "2022-12-06T19:23:41.006Z"
   },
   {
    "duration": 0,
    "start_time": "2022-12-06T19:23:41.007Z"
   },
   {
    "duration": 0,
    "start_time": "2022-12-06T19:23:41.008Z"
   },
   {
    "duration": 0,
    "start_time": "2022-12-06T19:23:41.009Z"
   },
   {
    "duration": 1,
    "start_time": "2022-12-06T19:23:41.010Z"
   },
   {
    "duration": 0,
    "start_time": "2022-12-06T19:23:41.011Z"
   },
   {
    "duration": 0,
    "start_time": "2022-12-06T19:23:41.013Z"
   },
   {
    "duration": 0,
    "start_time": "2022-12-06T19:23:41.014Z"
   },
   {
    "duration": 0,
    "start_time": "2022-12-06T19:23:41.015Z"
   },
   {
    "duration": 0,
    "start_time": "2022-12-06T19:23:41.016Z"
   },
   {
    "duration": 0,
    "start_time": "2022-12-06T19:23:41.017Z"
   },
   {
    "duration": 0,
    "start_time": "2022-12-06T19:23:41.018Z"
   },
   {
    "duration": 1122,
    "start_time": "2022-12-06T21:11:16.684Z"
   },
   {
    "duration": 52,
    "start_time": "2022-12-06T21:11:17.808Z"
   },
   {
    "duration": 747,
    "start_time": "2022-12-06T21:11:17.861Z"
   },
   {
    "duration": 2,
    "start_time": "2022-12-06T21:11:18.610Z"
   },
   {
    "duration": 56,
    "start_time": "2022-12-06T21:11:18.614Z"
   },
   {
    "duration": 33,
    "start_time": "2022-12-06T21:11:18.671Z"
   },
   {
    "duration": 73,
    "start_time": "2022-12-06T21:11:18.706Z"
   },
   {
    "duration": 26,
    "start_time": "2022-12-06T21:11:18.780Z"
   },
   {
    "duration": 61,
    "start_time": "2022-12-06T21:11:18.808Z"
   },
   {
    "duration": 14,
    "start_time": "2022-12-06T21:11:18.870Z"
   },
   {
    "duration": 30,
    "start_time": "2022-12-06T21:11:18.885Z"
   },
   {
    "duration": 1369,
    "start_time": "2022-12-06T21:11:18.916Z"
   },
   {
    "duration": 0,
    "start_time": "2022-12-06T21:11:20.289Z"
   },
   {
    "duration": 0,
    "start_time": "2022-12-06T21:11:20.290Z"
   },
   {
    "duration": 0,
    "start_time": "2022-12-06T21:11:20.291Z"
   },
   {
    "duration": 0,
    "start_time": "2022-12-06T21:11:20.292Z"
   },
   {
    "duration": 0,
    "start_time": "2022-12-06T21:11:20.293Z"
   },
   {
    "duration": 0,
    "start_time": "2022-12-06T21:11:20.294Z"
   },
   {
    "duration": 0,
    "start_time": "2022-12-06T21:11:20.295Z"
   },
   {
    "duration": 0,
    "start_time": "2022-12-06T21:11:20.296Z"
   },
   {
    "duration": 0,
    "start_time": "2022-12-06T21:11:20.297Z"
   },
   {
    "duration": 0,
    "start_time": "2022-12-06T21:11:20.298Z"
   },
   {
    "duration": 0,
    "start_time": "2022-12-06T21:11:20.299Z"
   },
   {
    "duration": 0,
    "start_time": "2022-12-06T21:11:20.300Z"
   },
   {
    "duration": 0,
    "start_time": "2022-12-06T21:11:20.301Z"
   },
   {
    "duration": 0,
    "start_time": "2022-12-06T21:11:20.302Z"
   },
   {
    "duration": 0,
    "start_time": "2022-12-06T21:11:20.303Z"
   },
   {
    "duration": 0,
    "start_time": "2022-12-06T21:11:20.304Z"
   },
   {
    "duration": 0,
    "start_time": "2022-12-06T21:11:20.305Z"
   },
   {
    "duration": 0,
    "start_time": "2022-12-06T21:11:20.306Z"
   },
   {
    "duration": 0,
    "start_time": "2022-12-06T21:11:20.307Z"
   },
   {
    "duration": 0,
    "start_time": "2022-12-06T21:11:20.308Z"
   },
   {
    "duration": 0,
    "start_time": "2022-12-06T21:11:20.309Z"
   },
   {
    "duration": 57,
    "start_time": "2022-12-06T21:16:19.862Z"
   },
   {
    "duration": 4,
    "start_time": "2022-12-06T21:16:25.981Z"
   },
   {
    "duration": 3,
    "start_time": "2022-12-06T21:16:26.624Z"
   },
   {
    "duration": 13,
    "start_time": "2022-12-06T21:16:27.377Z"
   },
   {
    "duration": 1253,
    "start_time": "2022-12-07T03:12:31.009Z"
   },
   {
    "duration": 75,
    "start_time": "2022-12-07T03:12:32.264Z"
   },
   {
    "duration": 268,
    "start_time": "2022-12-07T03:12:39.689Z"
   },
   {
    "duration": 3,
    "start_time": "2022-12-07T03:12:47.429Z"
   },
   {
    "duration": 12,
    "start_time": "2022-12-07T03:12:49.808Z"
   },
   {
    "duration": 3,
    "start_time": "2022-12-07T03:12:52.689Z"
   },
   {
    "duration": 22,
    "start_time": "2022-12-07T03:12:55.359Z"
   },
   {
    "duration": 11,
    "start_time": "2022-12-07T03:12:58.558Z"
   },
   {
    "duration": 46,
    "start_time": "2022-12-07T03:13:01.770Z"
   },
   {
    "duration": 11,
    "start_time": "2022-12-07T03:13:04.308Z"
   },
   {
    "duration": 7,
    "start_time": "2022-12-07T03:13:06.949Z"
   },
   {
    "duration": 3,
    "start_time": "2022-12-07T03:13:10.519Z"
   },
   {
    "duration": 4,
    "start_time": "2022-12-07T03:13:12.339Z"
   },
   {
    "duration": 5,
    "start_time": "2022-12-07T03:13:15.290Z"
   },
   {
    "duration": 5,
    "start_time": "2022-12-07T03:13:15.709Z"
   },
   {
    "duration": 5,
    "start_time": "2022-12-07T03:13:18.288Z"
   },
   {
    "duration": 5,
    "start_time": "2022-12-07T03:13:20.580Z"
   },
   {
    "duration": 5,
    "start_time": "2022-12-07T03:13:22.178Z"
   },
   {
    "duration": 4,
    "start_time": "2022-12-07T03:13:22.789Z"
   },
   {
    "duration": 5,
    "start_time": "2022-12-07T03:13:23.368Z"
   },
   {
    "duration": 564,
    "start_time": "2022-12-07T03:13:26.868Z"
   },
   {
    "duration": 129,
    "start_time": "2022-12-07T03:13:31.858Z"
   },
   {
    "duration": 31655,
    "start_time": "2022-12-07T03:13:33.799Z"
   },
   {
    "duration": 119,
    "start_time": "2022-12-07T03:14:10.028Z"
   },
   {
    "duration": 538,
    "start_time": "2022-12-07T03:14:14.128Z"
   },
   {
    "duration": 123,
    "start_time": "2022-12-07T03:14:20.669Z"
   },
   {
    "duration": 52,
    "start_time": "2022-12-07T03:14:26.861Z"
   },
   {
    "duration": 6,
    "start_time": "2022-12-07T03:14:28.568Z"
   },
   {
    "duration": 43,
    "start_time": "2022-12-07T03:14:32.839Z"
   },
   {
    "duration": 8,
    "start_time": "2022-12-07T03:14:34.220Z"
   },
   {
    "duration": 51,
    "start_time": "2022-12-07T03:14:36.148Z"
   },
   {
    "duration": 6,
    "start_time": "2022-12-07T03:14:37.659Z"
   },
   {
    "duration": 14,
    "start_time": "2022-12-07T03:14:50.608Z"
   },
   {
    "duration": 75,
    "start_time": "2022-12-07T03:17:14.327Z"
   },
   {
    "duration": 1448,
    "start_time": "2022-12-07T08:44:45.636Z"
   },
   {
    "duration": 75,
    "start_time": "2022-12-07T08:44:47.086Z"
   },
   {
    "duration": 723,
    "start_time": "2022-12-07T08:44:47.162Z"
   },
   {
    "duration": 3,
    "start_time": "2022-12-07T08:44:47.887Z"
   },
   {
    "duration": 17,
    "start_time": "2022-12-07T08:44:47.892Z"
   },
   {
    "duration": 7,
    "start_time": "2022-12-07T08:44:47.911Z"
   },
   {
    "duration": 41,
    "start_time": "2022-12-07T08:44:47.919Z"
   },
   {
    "duration": 11,
    "start_time": "2022-12-07T08:44:47.962Z"
   },
   {
    "duration": 50,
    "start_time": "2022-12-07T08:44:47.974Z"
   },
   {
    "duration": 28,
    "start_time": "2022-12-07T08:44:48.026Z"
   },
   {
    "duration": 7,
    "start_time": "2022-12-07T08:44:48.055Z"
   },
   {
    "duration": 4,
    "start_time": "2022-12-07T08:44:48.064Z"
   },
   {
    "duration": 6,
    "start_time": "2022-12-07T08:44:48.069Z"
   },
   {
    "duration": 7,
    "start_time": "2022-12-07T08:44:48.076Z"
   },
   {
    "duration": 7,
    "start_time": "2022-12-07T08:44:48.085Z"
   },
   {
    "duration": 7,
    "start_time": "2022-12-07T08:44:48.093Z"
   },
   {
    "duration": 10,
    "start_time": "2022-12-07T08:44:48.102Z"
   },
   {
    "duration": 39,
    "start_time": "2022-12-07T08:44:48.114Z"
   },
   {
    "duration": 7,
    "start_time": "2022-12-07T08:44:48.154Z"
   },
   {
    "duration": 5,
    "start_time": "2022-12-07T08:44:48.163Z"
   },
   {
    "duration": 689,
    "start_time": "2022-12-07T08:44:48.170Z"
   },
   {
    "duration": 127,
    "start_time": "2022-12-07T08:44:48.860Z"
   },
   {
    "duration": 35318,
    "start_time": "2022-12-07T08:44:48.989Z"
   },
   {
    "duration": 144,
    "start_time": "2022-12-07T08:45:24.309Z"
   },
   {
    "duration": 562,
    "start_time": "2022-12-07T08:45:24.454Z"
   },
   {
    "duration": 175,
    "start_time": "2022-12-07T08:45:25.017Z"
   },
   {
    "duration": 80,
    "start_time": "2022-12-07T08:45:25.194Z"
   },
   {
    "duration": 7,
    "start_time": "2022-12-07T08:45:25.277Z"
   },
   {
    "duration": 80,
    "start_time": "2022-12-07T08:45:25.286Z"
   },
   {
    "duration": 9,
    "start_time": "2022-12-07T08:45:25.368Z"
   },
   {
    "duration": 83,
    "start_time": "2022-12-07T08:45:25.379Z"
   },
   {
    "duration": 7,
    "start_time": "2022-12-07T08:45:25.464Z"
   },
   {
    "duration": 34,
    "start_time": "2022-12-07T08:45:25.472Z"
   },
   {
    "duration": 295,
    "start_time": "2022-12-07T10:22:21.665Z"
   },
   {
    "duration": 125,
    "start_time": "2022-12-07T10:24:33.261Z"
   },
   {
    "duration": 1352,
    "start_time": "2022-12-07T12:33:37.751Z"
   },
   {
    "duration": 257,
    "start_time": "2022-12-07T12:33:40.760Z"
   },
   {
    "duration": 34,
    "start_time": "2022-12-07T12:33:44.371Z"
   },
   {
    "duration": 34,
    "start_time": "2022-12-07T12:33:56.400Z"
   },
   {
    "duration": 34,
    "start_time": "2022-12-07T12:34:04.881Z"
   },
   {
    "duration": 74,
    "start_time": "2022-12-07T12:34:17.020Z"
   },
   {
    "duration": 3,
    "start_time": "2022-12-07T12:36:31.161Z"
   },
   {
    "duration": 12,
    "start_time": "2022-12-07T12:36:32.602Z"
   },
   {
    "duration": 4,
    "start_time": "2022-12-07T12:36:34.747Z"
   },
   {
    "duration": 18,
    "start_time": "2022-12-07T12:36:37.670Z"
   },
   {
    "duration": 11,
    "start_time": "2022-12-07T12:36:40.816Z"
   },
   {
    "duration": 47,
    "start_time": "2022-12-07T12:36:43.657Z"
   },
   {
    "duration": 11,
    "start_time": "2022-12-07T12:36:45.602Z"
   },
   {
    "duration": 5,
    "start_time": "2022-12-07T12:36:48.148Z"
   },
   {
    "duration": 3,
    "start_time": "2022-12-07T12:37:59.322Z"
   },
   {
    "duration": 4,
    "start_time": "2022-12-07T12:38:01.418Z"
   },
   {
    "duration": 5,
    "start_time": "2022-12-07T12:38:10.002Z"
   },
   {
    "duration": 4,
    "start_time": "2022-12-07T12:38:11.500Z"
   },
   {
    "duration": 1318,
    "start_time": "2022-12-12T11:25:12.783Z"
   },
   {
    "duration": 244,
    "start_time": "2022-12-12T11:25:20.600Z"
   },
   {
    "duration": 123,
    "start_time": "2022-12-12T11:25:21.008Z"
   },
   {
    "duration": 3,
    "start_time": "2022-12-12T11:25:37.853Z"
   },
   {
    "duration": 13,
    "start_time": "2022-12-12T11:25:38.817Z"
   },
   {
    "duration": 4,
    "start_time": "2022-12-12T11:25:42.213Z"
   },
   {
    "duration": 20,
    "start_time": "2022-12-12T11:25:43.238Z"
   },
   {
    "duration": 11,
    "start_time": "2022-12-12T11:25:45.316Z"
   },
   {
    "duration": 63,
    "start_time": "2022-12-12T11:25:46.148Z"
   },
   {
    "duration": 12,
    "start_time": "2022-12-12T11:25:47.359Z"
   },
   {
    "duration": 6,
    "start_time": "2022-12-12T11:25:51.478Z"
   },
   {
    "duration": 4,
    "start_time": "2022-12-12T11:25:59.118Z"
   },
   {
    "duration": 4,
    "start_time": "2022-12-12T11:25:59.961Z"
   },
   {
    "duration": 6,
    "start_time": "2022-12-12T13:32:34.336Z"
   },
   {
    "duration": 4,
    "start_time": "2022-12-12T13:32:34.575Z"
   },
   {
    "duration": 1280,
    "start_time": "2022-12-14T13:49:15.831Z"
   },
   {
    "duration": 346,
    "start_time": "2022-12-14T13:49:17.830Z"
   },
   {
    "duration": 82,
    "start_time": "2022-12-14T13:49:18.890Z"
   },
   {
    "duration": 4,
    "start_time": "2022-12-14T13:49:21.739Z"
   },
   {
    "duration": 12,
    "start_time": "2022-12-14T13:49:22.467Z"
   },
   {
    "duration": 5,
    "start_time": "2022-12-14T13:49:22.841Z"
   },
   {
    "duration": 21,
    "start_time": "2022-12-14T13:49:23.516Z"
   },
   {
    "duration": 11,
    "start_time": "2022-12-14T13:49:24.241Z"
   },
   {
    "duration": 48,
    "start_time": "2022-12-14T13:49:24.927Z"
   },
   {
    "duration": 11,
    "start_time": "2022-12-14T13:49:28.016Z"
   },
   {
    "duration": 6,
    "start_time": "2022-12-14T13:49:29.694Z"
   },
   {
    "duration": 3,
    "start_time": "2022-12-14T13:49:32.574Z"
   },
   {
    "duration": 4,
    "start_time": "2022-12-14T13:49:33.206Z"
   },
   {
    "duration": 1260,
    "start_time": "2022-12-15T01:35:15.459Z"
   },
   {
    "duration": 228,
    "start_time": "2022-12-15T01:35:16.721Z"
   },
   {
    "duration": 135,
    "start_time": "2022-12-15T01:35:16.950Z"
   },
   {
    "duration": 3,
    "start_time": "2022-12-15T01:35:19.170Z"
   },
   {
    "duration": 12,
    "start_time": "2022-12-15T01:35:19.826Z"
   },
   {
    "duration": 4,
    "start_time": "2022-12-15T01:35:21.665Z"
   },
   {
    "duration": 22,
    "start_time": "2022-12-15T01:35:22.109Z"
   },
   {
    "duration": 11,
    "start_time": "2022-12-15T01:35:24.038Z"
   },
   {
    "duration": 47,
    "start_time": "2022-12-15T01:35:24.269Z"
   },
   {
    "duration": 13,
    "start_time": "2022-12-15T01:35:26.266Z"
   },
   {
    "duration": 6,
    "start_time": "2022-12-15T01:35:26.689Z"
   },
   {
    "duration": 5,
    "start_time": "2022-12-15T01:35:32.608Z"
   },
   {
    "duration": 4,
    "start_time": "2022-12-15T01:35:33.309Z"
   },
   {
    "duration": 5,
    "start_time": "2022-12-15T01:48:43.031Z"
   },
   {
    "duration": 4,
    "start_time": "2022-12-15T01:48:43.687Z"
   },
   {
    "duration": 5,
    "start_time": "2022-12-15T01:58:27.327Z"
   },
   {
    "duration": 152,
    "start_time": "2022-12-15T01:58:29.797Z"
   },
   {
    "duration": 65,
    "start_time": "2022-12-15T02:03:46.258Z"
   },
   {
    "duration": 59,
    "start_time": "2022-12-15T02:04:10.148Z"
   },
   {
    "duration": 9,
    "start_time": "2022-12-15T02:05:30.748Z"
   },
   {
    "duration": 37,
    "start_time": "2022-12-15T02:05:54.215Z"
   },
   {
    "duration": 61,
    "start_time": "2022-12-15T02:06:47.766Z"
   },
   {
    "duration": 44,
    "start_time": "2022-12-15T02:06:51.226Z"
   },
   {
    "duration": 60,
    "start_time": "2022-12-15T02:06:58.045Z"
   },
   {
    "duration": 11,
    "start_time": "2022-12-15T02:07:59.035Z"
   },
   {
    "duration": 33,
    "start_time": "2022-12-15T02:08:09.546Z"
   },
   {
    "duration": 45,
    "start_time": "2022-12-15T02:08:29.336Z"
   },
   {
    "duration": 13,
    "start_time": "2022-12-15T02:08:40.706Z"
   },
   {
    "duration": 33,
    "start_time": "2022-12-15T02:23:51.402Z"
   },
   {
    "duration": 16,
    "start_time": "2022-12-15T02:24:31.212Z"
   },
   {
    "duration": 74,
    "start_time": "2022-12-15T02:24:52.391Z"
   },
   {
    "duration": 15,
    "start_time": "2022-12-15T02:25:01.805Z"
   },
   {
    "duration": 12,
    "start_time": "2022-12-15T02:25:20.862Z"
   },
   {
    "duration": 46,
    "start_time": "2022-12-15T02:25:31.313Z"
   },
   {
    "duration": 8,
    "start_time": "2022-12-15T02:25:41.725Z"
   },
   {
    "duration": 51,
    "start_time": "2022-12-15T02:26:00.213Z"
   },
   {
    "duration": 15,
    "start_time": "2022-12-15T02:27:54.156Z"
   },
   {
    "duration": 6,
    "start_time": "2022-12-15T02:31:12.585Z"
   },
   {
    "duration": 47,
    "start_time": "2022-12-15T02:31:27.586Z"
   },
   {
    "duration": 15,
    "start_time": "2022-12-15T02:31:35.665Z"
   },
   {
    "duration": 10,
    "start_time": "2022-12-15T02:31:47.093Z"
   },
   {
    "duration": 32,
    "start_time": "2022-12-15T02:32:49.155Z"
   },
   {
    "duration": 1061,
    "start_time": "2022-12-15T02:33:12.545Z"
   },
   {
    "duration": 240,
    "start_time": "2022-12-15T02:33:13.608Z"
   },
   {
    "duration": 31,
    "start_time": "2022-12-15T02:33:13.849Z"
   },
   {
    "duration": 3,
    "start_time": "2022-12-15T02:33:13.882Z"
   },
   {
    "duration": 14,
    "start_time": "2022-12-15T02:33:13.887Z"
   },
   {
    "duration": 4,
    "start_time": "2022-12-15T02:33:14.115Z"
   },
   {
    "duration": 19,
    "start_time": "2022-12-15T02:33:14.705Z"
   },
   {
    "duration": 11,
    "start_time": "2022-12-15T02:33:14.973Z"
   },
   {
    "duration": 49,
    "start_time": "2022-12-15T02:33:15.145Z"
   },
   {
    "duration": 11,
    "start_time": "2022-12-15T02:33:15.484Z"
   },
   {
    "duration": 6,
    "start_time": "2022-12-15T02:33:15.815Z"
   },
   {
    "duration": 3,
    "start_time": "2022-12-15T02:33:17.495Z"
   },
   {
    "duration": 4,
    "start_time": "2022-12-15T02:33:17.693Z"
   },
   {
    "duration": 5,
    "start_time": "2022-12-15T02:33:20.495Z"
   },
   {
    "duration": 4,
    "start_time": "2022-12-15T02:33:21.154Z"
   },
   {
    "duration": 130,
    "start_time": "2022-12-15T02:33:24.544Z"
   },
   {
    "duration": 35,
    "start_time": "2022-12-15T02:33:32.515Z"
   },
   {
    "duration": 6,
    "start_time": "2022-12-15T02:42:22.210Z"
   },
   {
    "duration": 5,
    "start_time": "2022-12-15T02:42:40.773Z"
   },
   {
    "duration": 5,
    "start_time": "2022-12-15T02:42:44.595Z"
   },
   {
    "duration": 5,
    "start_time": "2022-12-15T02:42:44.785Z"
   },
   {
    "duration": 5,
    "start_time": "2022-12-15T02:42:45.010Z"
   },
   {
    "duration": 4,
    "start_time": "2022-12-15T06:15:11.756Z"
   },
   {
    "duration": 12,
    "start_time": "2022-12-15T06:33:36.778Z"
   },
   {
    "duration": 4,
    "start_time": "2022-12-15T06:34:06.303Z"
   },
   {
    "duration": 620,
    "start_time": "2022-12-15T06:55:27.842Z"
   },
   {
    "duration": 57,
    "start_time": "2022-12-15T06:55:45.804Z"
   },
   {
    "duration": 3,
    "start_time": "2022-12-15T06:56:01.917Z"
   },
   {
    "duration": 294,
    "start_time": "2022-12-15T06:56:02.534Z"
   },
   {
    "duration": 3,
    "start_time": "2022-12-15T06:58:26.473Z"
   },
   {
    "duration": 3236,
    "start_time": "2022-12-15T06:58:28.650Z"
   },
   {
    "duration": 5,
    "start_time": "2022-12-15T06:59:43.011Z"
   },
   {
    "duration": 4,
    "start_time": "2022-12-15T06:59:50.198Z"
   },
   {
    "duration": 4,
    "start_time": "2022-12-15T06:59:57.954Z"
   },
   {
    "duration": 4,
    "start_time": "2022-12-15T07:00:03.138Z"
   },
   {
    "duration": 4,
    "start_time": "2022-12-15T07:01:45.498Z"
   },
   {
    "duration": 6793,
    "start_time": "2022-12-15T07:01:46.108Z"
   },
   {
    "duration": 4,
    "start_time": "2022-12-15T07:01:59.256Z"
   },
   {
    "duration": 3,
    "start_time": "2022-12-15T07:02:05.910Z"
   },
   {
    "duration": 8846,
    "start_time": "2022-12-15T07:03:15.423Z"
   },
   {
    "duration": 5,
    "start_time": "2022-12-15T07:03:28.693Z"
   },
   {
    "duration": 3,
    "start_time": "2022-12-15T07:03:29.952Z"
   },
   {
    "duration": 11774,
    "start_time": "2022-12-15T07:08:08.320Z"
   },
   {
    "duration": 4,
    "start_time": "2022-12-15T07:10:16.551Z"
   },
   {
    "duration": 123845,
    "start_time": "2022-12-15T07:10:18.576Z"
   },
   {
    "duration": 5,
    "start_time": "2022-12-15T07:12:26.758Z"
   },
   {
    "duration": 173844,
    "start_time": "2022-12-15T07:12:27.497Z"
   },
   {
    "duration": 121,
    "start_time": "2022-12-15T07:16:00.601Z"
   },
   {
    "duration": 11898,
    "start_time": "2022-12-15T07:16:29.974Z"
   },
   {
    "duration": 4,
    "start_time": "2022-12-15T07:16:42.627Z"
   },
   {
    "duration": 3,
    "start_time": "2022-12-15T07:16:44.671Z"
   },
   {
    "duration": 130953,
    "start_time": "2022-12-15T07:17:06.999Z"
   },
   {
    "duration": 4,
    "start_time": "2022-12-15T07:25:32.760Z"
   },
   {
    "duration": 9,
    "start_time": "2022-12-15T07:25:50.417Z"
   },
   {
    "duration": 128833,
    "start_time": "2022-12-15T07:25:55.602Z"
   },
   {
    "duration": 4,
    "start_time": "2022-12-15T07:28:46.803Z"
   },
   {
    "duration": 4,
    "start_time": "2022-12-15T07:28:47.656Z"
   },
   {
    "duration": 86,
    "start_time": "2022-12-15T07:31:30.815Z"
   },
   {
    "duration": 845472,
    "start_time": "2022-12-15T07:31:38.946Z"
   },
   {
    "duration": 8,
    "start_time": "2022-12-15T07:49:35.285Z"
   },
   {
    "duration": 5,
    "start_time": "2022-12-15T07:49:47.744Z"
   },
   {
    "duration": 7,
    "start_time": "2022-12-15T07:49:58.521Z"
   },
   {
    "duration": 5,
    "start_time": "2022-12-15T07:50:05.593Z"
   },
   {
    "duration": 7,
    "start_time": "2022-12-15T07:50:06.572Z"
   },
   {
    "duration": 8,
    "start_time": "2022-12-15T07:50:11.383Z"
   },
   {
    "duration": 6,
    "start_time": "2022-12-15T07:50:54.374Z"
   },
   {
    "duration": 4,
    "start_time": "2022-12-15T07:58:37.186Z"
   },
   {
    "duration": 149863,
    "start_time": "2022-12-15T07:58:58.045Z"
   },
   {
    "duration": 69,
    "start_time": "2022-12-15T08:03:49.034Z"
   },
   {
    "duration": 4,
    "start_time": "2022-12-15T08:04:36.254Z"
   },
   {
    "duration": 96,
    "start_time": "2022-12-15T10:41:18.968Z"
   },
   {
    "duration": 1331,
    "start_time": "2022-12-15T10:41:29.310Z"
   },
   {
    "duration": 253,
    "start_time": "2022-12-15T10:41:30.643Z"
   },
   {
    "duration": 128,
    "start_time": "2022-12-15T10:41:30.898Z"
   },
   {
    "duration": 3,
    "start_time": "2022-12-15T10:41:31.028Z"
   },
   {
    "duration": 14,
    "start_time": "2022-12-15T10:41:31.152Z"
   },
   {
    "duration": 4,
    "start_time": "2022-12-15T10:41:31.452Z"
   },
   {
    "duration": 22,
    "start_time": "2022-12-15T10:41:31.776Z"
   },
   {
    "duration": 14,
    "start_time": "2022-12-15T10:41:32.153Z"
   },
   {
    "duration": 53,
    "start_time": "2022-12-15T10:41:32.436Z"
   },
   {
    "duration": 13,
    "start_time": "2022-12-15T10:41:32.794Z"
   },
   {
    "duration": 6,
    "start_time": "2022-12-15T10:41:33.437Z"
   },
   {
    "duration": 4,
    "start_time": "2022-12-15T10:41:33.963Z"
   },
   {
    "duration": 3,
    "start_time": "2022-12-15T10:41:34.351Z"
   },
   {
    "duration": 6,
    "start_time": "2022-12-15T10:41:35.032Z"
   },
   {
    "duration": 21,
    "start_time": "2022-12-15T10:41:35.039Z"
   },
   {
    "duration": 7,
    "start_time": "2022-12-15T10:41:36.694Z"
   },
   {
    "duration": 6,
    "start_time": "2022-12-15T10:41:37.060Z"
   },
   {
    "duration": 4,
    "start_time": "2022-12-15T10:41:37.633Z"
   },
   {
    "duration": 7,
    "start_time": "2022-12-15T10:41:37.639Z"
   },
   {
    "duration": 5,
    "start_time": "2022-12-15T10:41:37.952Z"
   },
   {
    "duration": 7,
    "start_time": "2022-12-15T10:41:56.405Z"
   },
   {
    "duration": 4,
    "start_time": "2022-12-15T10:41:57.067Z"
   },
   {
    "duration": 1261383,
    "start_time": "2022-12-15T10:42:08.477Z"
   },
   {
    "duration": 435307,
    "start_time": "2022-12-15T12:00:22.686Z"
   },
   {
    "duration": 4,
    "start_time": "2022-12-15T12:11:26.838Z"
   },
   {
    "duration": 1865052,
    "start_time": "2022-12-15T12:11:33.641Z"
   },
   {
    "duration": 3,
    "start_time": "2022-12-15T12:44:33.298Z"
   },
   {
    "duration": 11739,
    "start_time": "2022-12-15T12:44:46.254Z"
   },
   {
    "duration": 4,
    "start_time": "2022-12-15T12:45:30.332Z"
   },
   {
    "duration": 24273,
    "start_time": "2022-12-15T12:46:57.738Z"
   },
   {
    "duration": 11,
    "start_time": "2022-12-15T12:47:31.619Z"
   },
   {
    "duration": 11,
    "start_time": "2022-12-15T12:48:56.624Z"
   },
   {
    "duration": 4,
    "start_time": "2022-12-15T12:59:37.096Z"
   },
   {
    "duration": 1183,
    "start_time": "2022-12-15T13:07:57.410Z"
   },
   {
    "duration": 249,
    "start_time": "2022-12-15T13:08:02.430Z"
   },
   {
    "duration": 30,
    "start_time": "2022-12-15T13:08:02.681Z"
   },
   {
    "duration": 4,
    "start_time": "2022-12-15T13:08:04.822Z"
   },
   {
    "duration": 12,
    "start_time": "2022-12-15T13:08:04.978Z"
   },
   {
    "duration": 5,
    "start_time": "2022-12-15T13:08:07.198Z"
   },
   {
    "duration": 24,
    "start_time": "2022-12-15T13:08:07.205Z"
   },
   {
    "duration": 10,
    "start_time": "2022-12-15T13:08:07.231Z"
   },
   {
    "duration": 48,
    "start_time": "2022-12-15T13:08:07.799Z"
   },
   {
    "duration": 9,
    "start_time": "2022-12-15T13:08:07.849Z"
   },
   {
    "duration": 10,
    "start_time": "2022-12-15T13:08:07.859Z"
   },
   {
    "duration": 3,
    "start_time": "2022-12-15T13:09:01.636Z"
   },
   {
    "duration": 4,
    "start_time": "2022-12-15T13:09:02.036Z"
   },
   {
    "duration": 6,
    "start_time": "2022-12-15T13:09:03.036Z"
   },
   {
    "duration": 4,
    "start_time": "2022-12-15T13:09:03.675Z"
   },
   {
    "duration": 6,
    "start_time": "2022-12-15T13:09:06.431Z"
   },
   {
    "duration": 5,
    "start_time": "2022-12-15T13:09:08.736Z"
   },
   {
    "duration": 5,
    "start_time": "2022-12-15T13:09:10.142Z"
   },
   {
    "duration": 5,
    "start_time": "2022-12-15T13:09:10.431Z"
   },
   {
    "duration": 4,
    "start_time": "2022-12-15T13:09:10.572Z"
   },
   {
    "duration": 11547,
    "start_time": "2022-12-15T13:09:14.082Z"
   },
   {
    "duration": 3,
    "start_time": "2022-12-15T13:10:04.445Z"
   },
   {
    "duration": 6,
    "start_time": "2022-12-15T13:10:04.636Z"
   },
   {
    "duration": 4,
    "start_time": "2022-12-15T13:10:05.024Z"
   },
   {
    "duration": 123,
    "start_time": "2022-12-15T13:19:45.265Z"
   },
   {
    "duration": 0,
    "start_time": "2022-12-15T13:19:45.390Z"
   },
   {
    "duration": 13,
    "start_time": "2022-12-15T13:20:33.655Z"
   },
   {
    "duration": 4,
    "start_time": "2022-12-15T13:21:48.525Z"
   },
   {
    "duration": 11,
    "start_time": "2022-12-15T13:21:56.813Z"
   },
   {
    "duration": 10,
    "start_time": "2022-12-15T13:23:10.234Z"
   },
   {
    "duration": 13,
    "start_time": "2022-12-15T13:24:22.477Z"
   },
   {
    "duration": 5,
    "start_time": "2022-12-15T13:26:13.375Z"
   },
   {
    "duration": 13,
    "start_time": "2022-12-15T13:26:14.182Z"
   },
   {
    "duration": 10,
    "start_time": "2022-12-15T13:26:35.286Z"
   },
   {
    "duration": 4,
    "start_time": "2022-12-15T13:27:02.965Z"
   },
   {
    "duration": 69796,
    "start_time": "2022-12-15T13:27:14.416Z"
   },
   {
    "duration": 8,
    "start_time": "2022-12-15T13:28:47.366Z"
   },
   {
    "duration": 0,
    "start_time": "2022-12-15T13:28:47.375Z"
   },
   {
    "duration": 4,
    "start_time": "2022-12-15T13:29:05.676Z"
   },
   {
    "duration": 4,
    "start_time": "2022-12-15T13:29:06.605Z"
   },
   {
    "duration": 3,
    "start_time": "2022-12-15T13:31:29.844Z"
   },
   {
    "duration": 69481,
    "start_time": "2022-12-15T13:31:38.092Z"
   },
   {
    "duration": 4,
    "start_time": "2022-12-15T13:32:51.715Z"
   },
   {
    "duration": 4,
    "start_time": "2022-12-15T13:32:54.925Z"
   },
   {
    "duration": 9,
    "start_time": "2022-12-15T13:33:32.886Z"
   },
   {
    "duration": 51,
    "start_time": "2022-12-15T13:33:37.304Z"
   },
   {
    "duration": 432114,
    "start_time": "2022-12-15T13:33:54.817Z"
   },
   {
    "duration": 5,
    "start_time": "2022-12-15T14:09:26.061Z"
   },
   {
    "duration": 326,
    "start_time": "2022-12-15T14:09:34.130Z"
   },
   {
    "duration": 299,
    "start_time": "2022-12-15T14:10:10.487Z"
   },
   {
    "duration": 30715,
    "start_time": "2022-12-15T14:10:18.966Z"
   },
   {
    "duration": 3,
    "start_time": "2022-12-15T14:11:02.268Z"
   },
   {
    "duration": 16747,
    "start_time": "2022-12-15T14:11:03.377Z"
   },
   {
    "duration": 4,
    "start_time": "2022-12-15T14:12:44.207Z"
   },
   {
    "duration": 4,
    "start_time": "2022-12-15T14:12:47.021Z"
   },
   {
    "duration": 62,
    "start_time": "2022-12-15T14:13:28.037Z"
   },
   {
    "duration": 62044,
    "start_time": "2022-12-15T14:13:42.284Z"
   },
   {
    "duration": 4,
    "start_time": "2022-12-15T14:15:19.323Z"
   },
   {
    "duration": 123476,
    "start_time": "2022-12-15T14:15:22.344Z"
   },
   {
    "duration": 4,
    "start_time": "2022-12-15T14:17:43.076Z"
   },
   {
    "duration": 4,
    "start_time": "2022-12-15T14:23:57.485Z"
   },
   {
    "duration": 50,
    "start_time": "2022-12-15T14:24:03.451Z"
   },
   {
    "duration": 429857,
    "start_time": "2022-12-15T14:27:57.457Z"
   },
   {
    "duration": 4,
    "start_time": "2022-12-15T14:36:18.051Z"
   },
   {
    "duration": 36264265,
    "start_time": "2022-12-15T14:36:20.051Z"
   },
   {
    "duration": 415492,
    "start_time": "2022-12-16T00:44:22.904Z"
   },
   {
    "duration": 4,
    "start_time": "2022-12-16T00:53:05.975Z"
   },
   {
    "duration": 3087184,
    "start_time": "2022-12-16T00:53:08.422Z"
   }
  ],
  "kernelspec": {
   "display_name": "Python 3 (ipykernel)",
   "language": "python",
   "name": "python3"
  },
  "language_info": {
   "codemirror_mode": {
    "name": "ipython",
    "version": 3
   },
   "file_extension": ".py",
   "mimetype": "text/x-python",
   "name": "python",
   "nbconvert_exporter": "python",
   "pygments_lexer": "ipython3",
   "version": "3.9.13"
  },
  "toc": {
   "base_numbering": 1,
   "nav_menu": {},
   "number_sections": true,
   "sideBar": true,
   "skip_h1_title": true,
   "title_cell": "Table of Contents",
   "title_sidebar": "Contents",
   "toc_cell": false,
   "toc_position": {},
   "toc_section_display": true,
   "toc_window_display": false
  }
 },
 "nbformat": 4,
 "nbformat_minor": 5
}

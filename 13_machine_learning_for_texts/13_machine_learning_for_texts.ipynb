{
 "cells": [
  {
   "cell_type": "markdown",
   "id": "5511148f",
   "metadata": {},
   "source": [
    "# Проект для «Викишоп»"
   ]
  },
  {
   "cell_type": "markdown",
   "id": "458bc2b1",
   "metadata": {},
   "source": [
    "___\n",
    "**Описание проекта**  \n",
    "\n",
    "Интернет-магазин «Викишоп» запускает новый сервис. Теперь пользователи могут редактировать и дополнять описания товаров, как в вики-сообществах. То есть клиенты предлагают свои правки и комментируют изменения других. Магазину нужен инструмент, который будет искать токсичные комментарии и отправлять их на модерацию.    \n",
    "___\n",
    "**Цель**  \n",
    "\n",
    "- Обучите модель классифицировать комментарии на позитивные и негативные. В вашем распоряжении набор данных с разметкой о токсичности правок.  \n",
    "- Постройте модель со значением метрики качества F1 не меньше 0.75.  \n",
    "___\n",
    "**Инструкция по выполнению проекта.**  \n",
    "\n",
    "1. Загрузите и подготовьте данные.\n",
    "2. Обучите разные модели.\n",
    "3. Сделайте выводы.  \n",
    "\n",
    "Для выполнения проекта применять *BERT* необязательно, но вы можете попробовать.  \n",
    "___\n",
    "**Описание данных:**  \n",
    "\n",
    "Данные находятся в файле `/datasets/toxic_comments.csv`\n",
    "\n",
    "*Признаки*\n",
    "\n",
    "- `text` - содержит текст комментария\n",
    "\n",
    "*Целевой признак*\n",
    "\n",
    "- `toxic` - целевой признак"
   ]
  },
  {
   "cell_type": "markdown",
   "id": "54730b6a",
   "metadata": {},
   "source": [
    "<h1>Содержание<span class=\"tocSkip\"></span></h1>\n",
    "<div class=\"toc\">\n",
    "    <ul class=\"toc-item\">\n",
    "        <li><span><a href=\"#Подготовка\" data-toc-modified-id=\"Подготовка-1\"><span class=\"toc-item-num\">1&nbsp;&nbsp;</span>Подготовка</a></span></li>\n",
    "        <li><span><a href=\"#Обучение\" data-toc-modified-id=\"Обучение-2\"><span class=\"toc-item-num\">2&nbsp;&nbsp;</span>Обучение</a></span></li>\n",
    "        <li><span><a href=\"#Тестирование\" data-toc-modified-id=\"Тестирование-3\"><span class=\"toc-item-num\">3&nbsp;&nbsp;</span>Тестирование</a></span></li>\n",
    "        <li><span><a href=\"#Выводы\" data-toc-modified-id=\"Выводы-4\"><span class=\"toc-item-num\">4&nbsp;&nbsp;</span>Выводы</a></span></li>\n",
    "        <li><span><a href=\"#Чек-лист-проверки\" data-toc-modified-id=\"Чек-лист-проверки-5\"><span class=\"toc-item-num\">5&nbsp;&nbsp;</span>Чек-лист проверки</a></span></li>\n",
    "    </ul>\n",
    "</div>"
   ]
  },
  {
   "cell_type": "markdown",
   "id": "33376898",
   "metadata": {},
   "source": [
    "## Подготовка"
   ]
  },
  {
   "cell_type": "markdown",
   "id": "52e00cfe",
   "metadata": {},
   "source": [
    "### Импортируем необходимые библиотеки. Считаем данные из csv-файла в датафрейм и сохраним в переменную `df`. Путь к файлу:\n",
    "\n",
    "`/datasets/toxic_comments.csv`"
   ]
  },
  {
   "cell_type": "code",
   "execution_count": 2,
   "id": "cc25fb1e",
   "metadata": {},
   "outputs": [],
   "source": [
    "import pandas as pd\n",
    "import numpy as np\n",
    "import matplotlib.pyplot as plt\n",
    "import seaborn as sns\n",
    "\n",
    "from datetime import datetime\n",
    "from scipy import stats as st"
   ]
  },
  {
   "cell_type": "code",
   "execution_count": 3,
   "id": "587db2f7",
   "metadata": {
    "scrolled": false
   },
   "outputs": [
    {
     "name": "stderr",
     "output_type": "stream",
     "text": [
      "[nltk_data] Downloading package wordnet to /home/jovyan/nltk_data...\n",
      "[nltk_data]   Package wordnet is already up-to-date!\n",
      "[nltk_data] Downloading package punkt to /home/jovyan/nltk_data...\n",
      "[nltk_data]   Package punkt is already up-to-date!\n",
      "[nltk_data] Downloading package stopwords to /home/jovyan/nltk_data...\n",
      "[nltk_data]   Package stopwords is already up-to-date!\n"
     ]
    }
   ],
   "source": [
    "import re\n",
    "from sklearn.feature_extraction.text import TfidfVectorizer, CountVectorizer\n",
    "import nltk\n",
    "from nltk.corpus import stopwords as nltk_stopwords\n",
    "from nltk.stem import WordNetLemmatizer\n",
    "nltk.download('wordnet')\n",
    "nltk.download('punkt')\n",
    "nltk.download('stopwords')\n",
    "import torch\n",
    "import transformers\n",
    "from tqdm import notebook\n",
    "\n",
    "#Инициализация модели LogisticRegression\n",
    "from sklearn.linear_model import LogisticRegression\n",
    "\n",
    "#Инициализация модели LinearSVC\n",
    "from sklearn.svm import LinearSVC\n",
    "\n",
    "#Разделение выборки в заданных пропорциях. Поиск лучших параметров модели\n",
    "from sklearn.model_selection import train_test_split, cross_val_score, GridSearchCV\n",
    "\n",
    "#Метрики классификации\n",
    "from sklearn.metrics import f1_score, accuracy_score\n",
    "\n",
    "#Последовательное перемешивание массивов или разреженных матриц\n",
    "from sklearn.utils import shuffle\n",
    "\n",
    "#Сохранение и загрузка обученной модели\n",
    "import joblib"
   ]
  },
  {
   "cell_type": "code",
   "execution_count": 4,
   "id": "20004273",
   "metadata": {},
   "outputs": [],
   "source": [
    "try:\n",
    "    df = pd.read_csv('./toxic_comments.csv')\n",
    "except:\n",
    "    print('File_not_found')"
   ]
  },
  {
   "cell_type": "markdown",
   "id": "51c13e23",
   "metadata": {},
   "source": [
    "### Изучим общую информацию о полученном датафрейме"
   ]
  },
  {
   "cell_type": "markdown",
   "id": "3c339fb8",
   "metadata": {},
   "source": [
    "**Добавим настройки для удобства отображения данных**"
   ]
  },
  {
   "cell_type": "code",
   "execution_count": 5,
   "id": "c8c95029",
   "metadata": {},
   "outputs": [],
   "source": [
    "pd.set_option('display.max_columns', None)\n",
    "pd.set_option('display.max_rows', 200)\n",
    "pd.options.display.float_format = '{:,.2f}'.format\n",
    "np.set_printoptions(suppress=True)\n",
    "\n",
    "#Если необходимо вернуть дефолтные настройки, раскомментируй строку ниже\n",
    "#pd.reset_option('all')"
   ]
  },
  {
   "cell_type": "markdown",
   "id": "e5d94471",
   "metadata": {},
   "source": [
    "**Выведем первые 10 строчек датафрейма `df` на экран.**"
   ]
  },
  {
   "cell_type": "code",
   "execution_count": 6,
   "id": "9bd2ccd3",
   "metadata": {},
   "outputs": [
    {
     "data": {
      "text/html": [
       "<div>\n",
       "<style scoped>\n",
       "    .dataframe tbody tr th:only-of-type {\n",
       "        vertical-align: middle;\n",
       "    }\n",
       "\n",
       "    .dataframe tbody tr th {\n",
       "        vertical-align: top;\n",
       "    }\n",
       "\n",
       "    .dataframe thead th {\n",
       "        text-align: right;\n",
       "    }\n",
       "</style>\n",
       "<table border=\"1\" class=\"dataframe\">\n",
       "  <thead>\n",
       "    <tr style=\"text-align: right;\">\n",
       "      <th></th>\n",
       "      <th>Unnamed: 0</th>\n",
       "      <th>text</th>\n",
       "      <th>toxic</th>\n",
       "    </tr>\n",
       "  </thead>\n",
       "  <tbody>\n",
       "    <tr>\n",
       "      <th>0</th>\n",
       "      <td>0</td>\n",
       "      <td>Explanation\\nWhy the edits made under my usern...</td>\n",
       "      <td>0</td>\n",
       "    </tr>\n",
       "    <tr>\n",
       "      <th>1</th>\n",
       "      <td>1</td>\n",
       "      <td>D'aww! He matches this background colour I'm s...</td>\n",
       "      <td>0</td>\n",
       "    </tr>\n",
       "    <tr>\n",
       "      <th>2</th>\n",
       "      <td>2</td>\n",
       "      <td>Hey man, I'm really not trying to edit war. It...</td>\n",
       "      <td>0</td>\n",
       "    </tr>\n",
       "    <tr>\n",
       "      <th>3</th>\n",
       "      <td>3</td>\n",
       "      <td>\"\\nMore\\nI can't make any real suggestions on ...</td>\n",
       "      <td>0</td>\n",
       "    </tr>\n",
       "    <tr>\n",
       "      <th>4</th>\n",
       "      <td>4</td>\n",
       "      <td>You, sir, are my hero. Any chance you remember...</td>\n",
       "      <td>0</td>\n",
       "    </tr>\n",
       "    <tr>\n",
       "      <th>5</th>\n",
       "      <td>5</td>\n",
       "      <td>\"\\n\\nCongratulations from me as well, use the ...</td>\n",
       "      <td>0</td>\n",
       "    </tr>\n",
       "    <tr>\n",
       "      <th>6</th>\n",
       "      <td>6</td>\n",
       "      <td>COCKSUCKER BEFORE YOU PISS AROUND ON MY WORK</td>\n",
       "      <td>1</td>\n",
       "    </tr>\n",
       "    <tr>\n",
       "      <th>7</th>\n",
       "      <td>7</td>\n",
       "      <td>Your vandalism to the Matt Shirvington article...</td>\n",
       "      <td>0</td>\n",
       "    </tr>\n",
       "    <tr>\n",
       "      <th>8</th>\n",
       "      <td>8</td>\n",
       "      <td>Sorry if the word 'nonsense' was offensive to ...</td>\n",
       "      <td>0</td>\n",
       "    </tr>\n",
       "    <tr>\n",
       "      <th>9</th>\n",
       "      <td>9</td>\n",
       "      <td>alignment on this subject and which are contra...</td>\n",
       "      <td>0</td>\n",
       "    </tr>\n",
       "  </tbody>\n",
       "</table>\n",
       "</div>"
      ],
      "text/plain": [
       "   Unnamed: 0                                               text  toxic\n",
       "0           0  Explanation\\nWhy the edits made under my usern...      0\n",
       "1           1  D'aww! He matches this background colour I'm s...      0\n",
       "2           2  Hey man, I'm really not trying to edit war. It...      0\n",
       "3           3  \"\\nMore\\nI can't make any real suggestions on ...      0\n",
       "4           4  You, sir, are my hero. Any chance you remember...      0\n",
       "5           5  \"\\n\\nCongratulations from me as well, use the ...      0\n",
       "6           6       COCKSUCKER BEFORE YOU PISS AROUND ON MY WORK      1\n",
       "7           7  Your vandalism to the Matt Shirvington article...      0\n",
       "8           8  Sorry if the word 'nonsense' was offensive to ...      0\n",
       "9           9  alignment on this subject and which are contra...      0"
      ]
     },
     "execution_count": 6,
     "metadata": {},
     "output_type": "execute_result"
    }
   ],
   "source": [
    "df.head(10)"
   ]
  },
  {
   "cell_type": "markdown",
   "id": "02312c44",
   "metadata": {},
   "source": [
    "**Посмотрим на размер данных (количество строк, колонок).**"
   ]
  },
  {
   "cell_type": "code",
   "execution_count": 7,
   "id": "eaa5e7b0",
   "metadata": {},
   "outputs": [
    {
     "name": "stdout",
     "output_type": "stream",
     "text": [
      "\n",
      "Количество строк: 159292\n",
      "Количество колонок: 3\n",
      "\n"
     ]
    }
   ],
   "source": [
    "print(f'\\nКоличество строк: {df.shape[0]}\\nКоличество колонок: {df.shape[1]}\\n')"
   ]
  },
  {
   "cell_type": "markdown",
   "id": "5a2739f6",
   "metadata": {},
   "source": [
    "**Просмотрим статистическую сводку каждой колонки, чтобы узнать распределение данных в каждой колонки. Используем метод `describe()`.**"
   ]
  },
  {
   "cell_type": "code",
   "execution_count": 8,
   "id": "6b711a13",
   "metadata": {},
   "outputs": [
    {
     "data": {
      "text/html": [
       "<div>\n",
       "<style scoped>\n",
       "    .dataframe tbody tr th:only-of-type {\n",
       "        vertical-align: middle;\n",
       "    }\n",
       "\n",
       "    .dataframe tbody tr th {\n",
       "        vertical-align: top;\n",
       "    }\n",
       "\n",
       "    .dataframe thead th {\n",
       "        text-align: right;\n",
       "    }\n",
       "</style>\n",
       "<table border=\"1\" class=\"dataframe\">\n",
       "  <thead>\n",
       "    <tr style=\"text-align: right;\">\n",
       "      <th></th>\n",
       "      <th>Unnamed: 0</th>\n",
       "      <th>text</th>\n",
       "      <th>toxic</th>\n",
       "    </tr>\n",
       "  </thead>\n",
       "  <tbody>\n",
       "    <tr>\n",
       "      <th>count</th>\n",
       "      <td>159,292.00</td>\n",
       "      <td>159292</td>\n",
       "      <td>159,292.00</td>\n",
       "    </tr>\n",
       "    <tr>\n",
       "      <th>unique</th>\n",
       "      <td>NaN</td>\n",
       "      <td>159292</td>\n",
       "      <td>NaN</td>\n",
       "    </tr>\n",
       "    <tr>\n",
       "      <th>top</th>\n",
       "      <td>NaN</td>\n",
       "      <td>\"\\n\\n Table size dispute on How the Earth Was ...</td>\n",
       "      <td>NaN</td>\n",
       "    </tr>\n",
       "    <tr>\n",
       "      <th>freq</th>\n",
       "      <td>NaN</td>\n",
       "      <td>1</td>\n",
       "      <td>NaN</td>\n",
       "    </tr>\n",
       "    <tr>\n",
       "      <th>mean</th>\n",
       "      <td>79,725.70</td>\n",
       "      <td>NaN</td>\n",
       "      <td>0.10</td>\n",
       "    </tr>\n",
       "    <tr>\n",
       "      <th>std</th>\n",
       "      <td>46,028.84</td>\n",
       "      <td>NaN</td>\n",
       "      <td>0.30</td>\n",
       "    </tr>\n",
       "    <tr>\n",
       "      <th>min</th>\n",
       "      <td>0.00</td>\n",
       "      <td>NaN</td>\n",
       "      <td>0.00</td>\n",
       "    </tr>\n",
       "    <tr>\n",
       "      <th>25%</th>\n",
       "      <td>39,872.75</td>\n",
       "      <td>NaN</td>\n",
       "      <td>0.00</td>\n",
       "    </tr>\n",
       "    <tr>\n",
       "      <th>50%</th>\n",
       "      <td>79,721.50</td>\n",
       "      <td>NaN</td>\n",
       "      <td>0.00</td>\n",
       "    </tr>\n",
       "    <tr>\n",
       "      <th>75%</th>\n",
       "      <td>119,573.25</td>\n",
       "      <td>NaN</td>\n",
       "      <td>0.00</td>\n",
       "    </tr>\n",
       "    <tr>\n",
       "      <th>max</th>\n",
       "      <td>159,450.00</td>\n",
       "      <td>NaN</td>\n",
       "      <td>1.00</td>\n",
       "    </tr>\n",
       "  </tbody>\n",
       "</table>\n",
       "</div>"
      ],
      "text/plain": [
       "        Unnamed: 0                                               text  \\\n",
       "count   159,292.00                                             159292   \n",
       "unique         NaN                                             159292   \n",
       "top            NaN  \"\\n\\n Table size dispute on How the Earth Was ...   \n",
       "freq           NaN                                                  1   \n",
       "mean     79,725.70                                                NaN   \n",
       "std      46,028.84                                                NaN   \n",
       "min           0.00                                                NaN   \n",
       "25%      39,872.75                                                NaN   \n",
       "50%      79,721.50                                                NaN   \n",
       "75%     119,573.25                                                NaN   \n",
       "max     159,450.00                                                NaN   \n",
       "\n",
       "            toxic  \n",
       "count  159,292.00  \n",
       "unique        NaN  \n",
       "top           NaN  \n",
       "freq          NaN  \n",
       "mean         0.10  \n",
       "std          0.30  \n",
       "min          0.00  \n",
       "25%          0.00  \n",
       "50%          0.00  \n",
       "75%          0.00  \n",
       "max          1.00  "
      ]
     },
     "execution_count": 8,
     "metadata": {},
     "output_type": "execute_result"
    }
   ],
   "source": [
    "df.describe(include = \"all\")"
   ]
  },
  {
   "cell_type": "markdown",
   "id": "96b816bf",
   "metadata": {},
   "source": [
    "- `text` — признак\n",
    "- `toxic` — целевой признак"
   ]
  },
  {
   "cell_type": "markdown",
   "id": "216158fb",
   "metadata": {},
   "source": [
    "**Выведем основную информацию о датафрейме с помощью метода `info()`.**"
   ]
  },
  {
   "cell_type": "code",
   "execution_count": 9,
   "id": "cf21cb6f",
   "metadata": {},
   "outputs": [
    {
     "name": "stdout",
     "output_type": "stream",
     "text": [
      "<class 'pandas.core.frame.DataFrame'>\n",
      "RangeIndex: 159292 entries, 0 to 159291\n",
      "Data columns (total 3 columns):\n",
      " #   Column      Non-Null Count   Dtype \n",
      "---  ------      --------------   ----- \n",
      " 0   Unnamed: 0  159292 non-null  int64 \n",
      " 1   text        159292 non-null  object\n",
      " 2   toxic       159292 non-null  int64 \n",
      "dtypes: int64(2), object(1)\n",
      "memory usage: 3.6+ MB\n"
     ]
    }
   ],
   "source": [
    "df.info()"
   ]
  },
  {
   "cell_type": "markdown",
   "id": "0dfaf5c2",
   "metadata": {},
   "source": [
    "**Выведем количество пропущенных значений для каждой колонки.**"
   ]
  },
  {
   "cell_type": "code",
   "execution_count": 10,
   "id": "da66b166",
   "metadata": {},
   "outputs": [
    {
     "data": {
      "text/html": [
       "<style  type=\"text/css\" >\n",
       "#T_3112a_row0_col0,#T_3112a_row1_col0,#T_3112a_row2_col0{\n",
       "            background-color:  #3b4cc0;\n",
       "            color:  #f1f1f1;\n",
       "        }</style><table id=\"T_3112a_\" ><thead>    <tr>        <th class=\"blank level0\" ></th>        <th class=\"col_heading level0 col0\" >0</th>    </tr></thead><tbody>\n",
       "                <tr>\n",
       "                        <th id=\"T_3112a_level0_row0\" class=\"row_heading level0 row0\" >Unnamed: 0</th>\n",
       "                        <td id=\"T_3112a_row0_col0\" class=\"data row0 col0\" >0</td>\n",
       "            </tr>\n",
       "            <tr>\n",
       "                        <th id=\"T_3112a_level0_row1\" class=\"row_heading level0 row1\" >text</th>\n",
       "                        <td id=\"T_3112a_row1_col0\" class=\"data row1 col0\" >0</td>\n",
       "            </tr>\n",
       "            <tr>\n",
       "                        <th id=\"T_3112a_level0_row2\" class=\"row_heading level0 row2\" >toxic</th>\n",
       "                        <td id=\"T_3112a_row2_col0\" class=\"data row2 col0\" >0</td>\n",
       "            </tr>\n",
       "    </tbody></table>"
      ],
      "text/plain": [
       "<pandas.io.formats.style.Styler at 0x7f4ca3441df0>"
      ]
     },
     "execution_count": 10,
     "metadata": {},
     "output_type": "execute_result"
    }
   ],
   "source": [
    "pd.DataFrame(df.isna().sum()).style.background_gradient('coolwarm')"
   ]
  },
  {
   "cell_type": "markdown",
   "id": "c713d3bb",
   "metadata": {},
   "source": [
    "**Выведем пропущенные значения в процентном соотношении.**"
   ]
  },
  {
   "cell_type": "code",
   "execution_count": 11,
   "id": "b9628c22",
   "metadata": {},
   "outputs": [
    {
     "data": {
      "text/html": [
       "<style  type=\"text/css\" >\n",
       "#T_aea38_row0_col0,#T_aea38_row1_col0,#T_aea38_row2_col0{\n",
       "            background-color:  #3b4cc0;\n",
       "            color:  #f1f1f1;\n",
       "        }</style><table id=\"T_aea38_\" ><thead>    <tr>        <th class=\"blank level0\" ></th>        <th class=\"col_heading level0 col0\" >0</th>    </tr></thead><tbody>\n",
       "                <tr>\n",
       "                        <th id=\"T_aea38_level0_row0\" class=\"row_heading level0 row0\" >Unnamed: 0</th>\n",
       "                        <td id=\"T_aea38_row0_col0\" class=\"data row0 col0\" >0.00%</td>\n",
       "            </tr>\n",
       "            <tr>\n",
       "                        <th id=\"T_aea38_level0_row1\" class=\"row_heading level0 row1\" >text</th>\n",
       "                        <td id=\"T_aea38_row1_col0\" class=\"data row1 col0\" >0.00%</td>\n",
       "            </tr>\n",
       "            <tr>\n",
       "                        <th id=\"T_aea38_level0_row2\" class=\"row_heading level0 row2\" >toxic</th>\n",
       "                        <td id=\"T_aea38_row2_col0\" class=\"data row2 col0\" >0.00%</td>\n",
       "            </tr>\n",
       "    </tbody></table>"
      ],
      "text/plain": [
       "<pandas.io.formats.style.Styler at 0x7f4ca34413d0>"
      ]
     },
     "execution_count": 11,
     "metadata": {},
     "output_type": "execute_result"
    }
   ],
   "source": [
    "pd.DataFrame(df.isna().mean()).style.format(\"{:.2%}\").background_gradient('coolwarm')"
   ]
  },
  {
   "cell_type": "markdown",
   "id": "df8add0c",
   "metadata": {},
   "source": [
    "**Проверим дубликаты.**"
   ]
  },
  {
   "cell_type": "code",
   "execution_count": 12,
   "id": "506dc3e3",
   "metadata": {
    "scrolled": true
   },
   "outputs": [
    {
     "data": {
      "text/plain": [
       "0"
      ]
     },
     "execution_count": 12,
     "metadata": {},
     "output_type": "execute_result"
    }
   ],
   "source": [
    "df.duplicated().sum()"
   ]
  },
  {
   "cell_type": "markdown",
   "id": "bcec1599",
   "metadata": {},
   "source": [
    "**Посмотрим на токсичные комментарии.**"
   ]
  },
  {
   "cell_type": "code",
   "execution_count": 13,
   "id": "88c94351",
   "metadata": {},
   "outputs": [
    {
     "data": {
      "text/html": [
       "<div>\n",
       "<style scoped>\n",
       "    .dataframe tbody tr th:only-of-type {\n",
       "        vertical-align: middle;\n",
       "    }\n",
       "\n",
       "    .dataframe tbody tr th {\n",
       "        vertical-align: top;\n",
       "    }\n",
       "\n",
       "    .dataframe thead th {\n",
       "        text-align: right;\n",
       "    }\n",
       "</style>\n",
       "<table border=\"1\" class=\"dataframe\">\n",
       "  <thead>\n",
       "    <tr style=\"text-align: right;\">\n",
       "      <th></th>\n",
       "      <th>Unnamed: 0</th>\n",
       "      <th>text</th>\n",
       "      <th>toxic</th>\n",
       "    </tr>\n",
       "  </thead>\n",
       "  <tbody>\n",
       "    <tr>\n",
       "      <th>6</th>\n",
       "      <td>6</td>\n",
       "      <td>COCKSUCKER BEFORE YOU PISS AROUND ON MY WORK</td>\n",
       "      <td>1</td>\n",
       "    </tr>\n",
       "    <tr>\n",
       "      <th>12</th>\n",
       "      <td>12</td>\n",
       "      <td>Hey... what is it..\\n@ | talk .\\nWhat is it......</td>\n",
       "      <td>1</td>\n",
       "    </tr>\n",
       "    <tr>\n",
       "      <th>16</th>\n",
       "      <td>16</td>\n",
       "      <td>Bye! \\n\\nDon't look, come or think of comming ...</td>\n",
       "      <td>1</td>\n",
       "    </tr>\n",
       "    <tr>\n",
       "      <th>42</th>\n",
       "      <td>42</td>\n",
       "      <td>You are gay or antisemmitian? \\n\\nArchangel WH...</td>\n",
       "      <td>1</td>\n",
       "    </tr>\n",
       "    <tr>\n",
       "      <th>43</th>\n",
       "      <td>43</td>\n",
       "      <td>FUCK YOUR FILTHY MOTHER IN THE ASS, DRY!</td>\n",
       "      <td>1</td>\n",
       "    </tr>\n",
       "    <tr>\n",
       "      <th>...</th>\n",
       "      <td>...</td>\n",
       "      <td>...</td>\n",
       "      <td>...</td>\n",
       "    </tr>\n",
       "    <tr>\n",
       "      <th>159215</th>\n",
       "      <td>159374</td>\n",
       "      <td>\"\\n\\n our previous conversation \\n\\nyou fuckin...</td>\n",
       "      <td>1</td>\n",
       "    </tr>\n",
       "    <tr>\n",
       "      <th>159235</th>\n",
       "      <td>159394</td>\n",
       "      <td>YOU ARE A MISCHIEVIOUS PUBIC HAIR</td>\n",
       "      <td>1</td>\n",
       "    </tr>\n",
       "    <tr>\n",
       "      <th>159262</th>\n",
       "      <td>159421</td>\n",
       "      <td>Your absurd edits \\n\\nYour absurd edits on gre...</td>\n",
       "      <td>1</td>\n",
       "    </tr>\n",
       "    <tr>\n",
       "      <th>159267</th>\n",
       "      <td>159426</td>\n",
       "      <td>\"\\n\\nHey listen don't you ever!!!! Delete my e...</td>\n",
       "      <td>1</td>\n",
       "    </tr>\n",
       "    <tr>\n",
       "      <th>159275</th>\n",
       "      <td>159434</td>\n",
       "      <td>and i'm going to keep posting the stuff u dele...</td>\n",
       "      <td>1</td>\n",
       "    </tr>\n",
       "  </tbody>\n",
       "</table>\n",
       "<p>16186 rows × 3 columns</p>\n",
       "</div>"
      ],
      "text/plain": [
       "        Unnamed: 0                                               text  toxic\n",
       "6                6       COCKSUCKER BEFORE YOU PISS AROUND ON MY WORK      1\n",
       "12              12  Hey... what is it..\\n@ | talk .\\nWhat is it......      1\n",
       "16              16  Bye! \\n\\nDon't look, come or think of comming ...      1\n",
       "42              42  You are gay or antisemmitian? \\n\\nArchangel WH...      1\n",
       "43              43           FUCK YOUR FILTHY MOTHER IN THE ASS, DRY!      1\n",
       "...            ...                                                ...    ...\n",
       "159215      159374  \"\\n\\n our previous conversation \\n\\nyou fuckin...      1\n",
       "159235      159394                  YOU ARE A MISCHIEVIOUS PUBIC HAIR      1\n",
       "159262      159421  Your absurd edits \\n\\nYour absurd edits on gre...      1\n",
       "159267      159426  \"\\n\\nHey listen don't you ever!!!! Delete my e...      1\n",
       "159275      159434  and i'm going to keep posting the stuff u dele...      1\n",
       "\n",
       "[16186 rows x 3 columns]"
      ]
     },
     "execution_count": 13,
     "metadata": {},
     "output_type": "execute_result"
    }
   ],
   "source": [
    "df.query('toxic == 1')"
   ]
  },
  {
   "cell_type": "markdown",
   "id": "2b0ffab8",
   "metadata": {},
   "source": [
    "**Посмотрим на распределение целевого признака `toxic`.**"
   ]
  },
  {
   "cell_type": "code",
   "execution_count": 14,
   "id": "a8526d9a",
   "metadata": {},
   "outputs": [
    {
     "data": {
      "image/png": "[encoded data removed]",
      "text/plain": [
       "<Figure size 288x288 with 1 Axes>"
      ]
     },
     "metadata": {
      "needs_background": "light"
     },
     "output_type": "display_data"
    }
   ],
   "source": [
    "plt.figure(figsize=(4, 4))\n",
    "palette = {0: 'green', 1: 'red'}\n",
    "sns.countplot(data=df, x='toxic', palette=palette, saturation=1)\n",
    "plt.xlabel(None)\n",
    "plt.ylabel('Количество комментариев')\n",
    "plt.title('Распределение целевого признака `toxic`')\n",
    "plt.show()"
   ]
  },
  {
   "cell_type": "code",
   "execution_count": 15,
   "id": "74ba83a8",
   "metadata": {},
   "outputs": [
    {
     "name": "stdout",
     "output_type": "stream",
     "text": [
      "Процент объектов класса 1 к общему объёму датасета: 10.16%\n"
     ]
    }
   ],
   "source": [
    "print(f\"Процент объектов класса 1 к общему объёму датасета: {(sum(df['toxic']) / len(df) * 100):.2f}%\")"
   ]
  },
  {
   "cell_type": "markdown",
   "id": "e6cf9204",
   "metadata": {},
   "source": [
    ">**Проблем с данными не выявлено**"
   ]
  },
  {
   "cell_type": "markdown",
   "id": "3e5542ff",
   "metadata": {},
   "source": [
    "### Подготовим данные для векторизации"
   ]
  },
  {
   "cell_type": "markdown",
   "id": "3c92c99f",
   "metadata": {},
   "source": [
    "#### Проведём лемматизацию слов с помощью `WordNetLemmatizer()` из библиотеки `nltk`"
   ]
  },
  {
   "cell_type": "code",
   "execution_count": 16,
   "id": "ac23586b",
   "metadata": {},
   "outputs": [],
   "source": [
    "lemmatizer = WordNetLemmatizer()\n",
    "def lemmatize(text):\n",
    "    word_list = nltk.word_tokenize(text)\n",
    "    lemmatized_output = ' '.join([lemmatizer.lemmatize(w) for w in word_list])\n",
    "    return lemmatized_output"
   ]
  },
  {
   "cell_type": "markdown",
   "id": "98e137a6",
   "metadata": {},
   "source": [
    "#### Удалим пунктуацию и лишние пробелы"
   ]
  },
  {
   "cell_type": "code",
   "execution_count": 17,
   "id": "77a26d07",
   "metadata": {},
   "outputs": [],
   "source": [
    "def clear_text(text):\n",
    "    text = re.sub(r'[^a-zA-Z ]', ' ', text)\n",
    "    return \" \".join(text.split())"
   ]
  },
  {
   "cell_type": "code",
   "execution_count": 18,
   "id": "0fb9ca00",
   "metadata": {},
   "outputs": [],
   "source": [
    "corpus = df['text'].values.astype('U')"
   ]
  },
  {
   "cell_type": "code",
   "execution_count": 19,
   "id": "0943aecb",
   "metadata": {},
   "outputs": [],
   "source": [
    "corpus_lemm = [lemmatize(clear_text(corpus[i])) for i in range(len(corpus))]"
   ]
  },
  {
   "cell_type": "markdown",
   "id": "a3f22f3e",
   "metadata": {},
   "source": [
    "#### Удалим стоп-слова (пока загрузим список, удалять будем в процессе tf-idf векторизации)"
   ]
  },
  {
   "cell_type": "code",
   "execution_count": 20,
   "id": "2997c060",
   "metadata": {},
   "outputs": [],
   "source": [
    "stopwords = set(nltk_stopwords.words('english'))"
   ]
  },
  {
   "cell_type": "markdown",
   "id": "8c432b06",
   "metadata": {},
   "source": [
    "#### Разделим данные на тренировочную и тестовую выборки"
   ]
  },
  {
   "cell_type": "code",
   "execution_count": 21,
   "id": "e4bc2c4f",
   "metadata": {},
   "outputs": [],
   "source": [
    "X_train, X_test, y_train, y_test = train_test_split(corpus_lemm, df['toxic'], \n",
    "                                                    test_size=0.2,\n",
    "                                                    random_state=42)"
   ]
  },
  {
   "cell_type": "code",
   "execution_count": 22,
   "id": "cac2d59e",
   "metadata": {},
   "outputs": [
    {
     "data": {
      "text/plain": [
       "(127433, 31859, 127433, 31859)"
      ]
     },
     "execution_count": 22,
     "metadata": {},
     "output_type": "execute_result"
    }
   ],
   "source": [
    "len(X_train), len(X_test), len(y_train), len(y_test)"
   ]
  },
  {
   "cell_type": "markdown",
   "id": "4e68b08f",
   "metadata": {},
   "source": [
    "#### Проведём векторизацию корпусов с помощью TfidfVectorizer, заодно удалим стоп-слова. Попробуем обучить модель без использования n-gramm"
   ]
  },
  {
   "cell_type": "code",
   "execution_count": 23,
   "id": "de07273c",
   "metadata": {},
   "outputs": [],
   "source": [
    "tf_idf_vec = TfidfVectorizer(ngram_range=(1,1), stop_words=stopwords, min_df=3, max_df=0.9,\n",
    "                             strip_accents='unicode', use_idf=1, smooth_idf=1, sublinear_tf=1)"
   ]
  },
  {
   "cell_type": "code",
   "execution_count": 24,
   "id": "702b8b47",
   "metadata": {},
   "outputs": [],
   "source": [
    "X_train_vec = tf_idf_vec.fit_transform(X_train)"
   ]
  },
  {
   "cell_type": "code",
   "execution_count": 25,
   "id": "6712450c",
   "metadata": {},
   "outputs": [],
   "source": [
    "X_test_vec = tf_idf_vec.transform(X_test)"
   ]
  },
  {
   "cell_type": "code",
   "execution_count": 26,
   "id": "2555b2d5",
   "metadata": {},
   "outputs": [
    {
     "name": "stdout",
     "output_type": "stream",
     "text": [
      "Размер тренировочного датасета: (127433, 41662)\n",
      "Размер тренировочного датасета: (31859, 41662)\n"
     ]
    }
   ],
   "source": [
    "print(f\"Размер тренировочного датасета: {X_train_vec.shape}\")\n",
    "print(f\"Размер тренировочного датасета: {X_test_vec.shape}\")"
   ]
  },
  {
   "cell_type": "markdown",
   "id": "bd8d791f",
   "metadata": {},
   "source": [
    "## Обучение"
   ]
  },
  {
   "cell_type": "markdown",
   "id": "44071795",
   "metadata": {},
   "source": [
    "**Обучим различные модели и добавим модели и рассчитанный показатель f1 в массив.**"
   ]
  },
  {
   "cell_type": "code",
   "execution_count": 53,
   "id": "f4f58b76",
   "metadata": {},
   "outputs": [],
   "source": [
    "train_models = []"
   ]
  },
  {
   "cell_type": "markdown",
   "id": "2b76c271",
   "metadata": {},
   "source": [
    "### Logistic Regression"
   ]
  },
  {
   "cell_type": "code",
   "execution_count": 28,
   "id": "d76b4195",
   "metadata": {},
   "outputs": [],
   "source": [
    "model = LogisticRegression()\n",
    "\n",
    "parameters = {'C': np.linspace(10, 20, num = 11, endpoint = True),\n",
    "             'max_iter': [1000]}\n",
    "clf = GridSearchCV(model,\n",
    "                   parameters,\n",
    "                   cv=5,\n",
    "                   scoring='f1',\n",
    "                   n_jobs=-1,\n",
    "                   verbose=2)"
   ]
  },
  {
   "cell_type": "code",
   "execution_count": 29,
   "id": "0c785ae6",
   "metadata": {
    "scrolled": true
   },
   "outputs": [
    {
     "name": "stdout",
     "output_type": "stream",
     "text": [
      "Fitting 5 folds for each of 11 candidates, totalling 55 fits\n",
      "[CV] END ..............................C=10.0, max_iter=1000; total time=  55.6s\n",
      "[CV] END ..............................C=10.0, max_iter=1000; total time=  42.8s\n",
      "[CV] END ..............................C=10.0, max_iter=1000; total time= 1.1min\n",
      "[CV] END ..............................C=10.0, max_iter=1000; total time= 1.2min\n",
      "[CV] END ..............................C=10.0, max_iter=1000; total time=  57.2s\n",
      "[CV] END ..............................C=11.0, max_iter=1000; total time=  58.1s\n",
      "[CV] END ..............................C=11.0, max_iter=1000; total time= 1.2min\n",
      "[CV] END ..............................C=11.0, max_iter=1000; total time= 1.2min\n",
      "[CV] END ..............................C=11.0, max_iter=1000; total time= 1.2min\n",
      "[CV] END ..............................C=11.0, max_iter=1000; total time= 1.1min\n",
      "[CV] END ..............................C=12.0, max_iter=1000; total time= 1.1min\n",
      "[CV] END ..............................C=12.0, max_iter=1000; total time= 1.2min\n",
      "[CV] END ..............................C=12.0, max_iter=1000; total time= 1.4min\n",
      "[CV] END ..............................C=12.0, max_iter=1000; total time= 1.2min\n",
      "[CV] END ..............................C=12.0, max_iter=1000; total time= 1.2min\n",
      "[CV] END ..............................C=13.0, max_iter=1000; total time= 1.1min\n",
      "[CV] END ..............................C=13.0, max_iter=1000; total time=  56.2s\n",
      "[CV] END ..............................C=13.0, max_iter=1000; total time= 1.1min\n",
      "[CV] END ..............................C=13.0, max_iter=1000; total time= 1.1min\n",
      "[CV] END ..............................C=13.0, max_iter=1000; total time= 1.1min\n",
      "[CV] END ..............................C=14.0, max_iter=1000; total time= 1.3min\n",
      "[CV] END ..............................C=14.0, max_iter=1000; total time= 1.2min\n",
      "[CV] END ..............................C=14.0, max_iter=1000; total time= 1.1min\n",
      "[CV] END ..............................C=14.0, max_iter=1000; total time= 1.1min\n",
      "[CV] END ..............................C=14.0, max_iter=1000; total time=  59.0s\n",
      "[CV] END ..............................C=15.0, max_iter=1000; total time= 1.3min\n",
      "[CV] END ..............................C=15.0, max_iter=1000; total time= 1.1min\n",
      "[CV] END ..............................C=15.0, max_iter=1000; total time=  44.9s\n",
      "[CV] END ..............................C=15.0, max_iter=1000; total time= 1.2min\n",
      "[CV] END ..............................C=15.0, max_iter=1000; total time= 1.2min\n",
      "[CV] END ..............................C=16.0, max_iter=1000; total time= 1.3min\n",
      "[CV] END ..............................C=16.0, max_iter=1000; total time= 1.4min\n",
      "[CV] END ..............................C=16.0, max_iter=1000; total time= 1.3min\n",
      "[CV] END ..............................C=16.0, max_iter=1000; total time= 1.1min\n",
      "[CV] END ..............................C=16.0, max_iter=1000; total time= 1.3min\n",
      "[CV] END ..............................C=17.0, max_iter=1000; total time= 1.2min\n",
      "[CV] END ..............................C=17.0, max_iter=1000; total time= 1.1min\n",
      "[CV] END ..............................C=17.0, max_iter=1000; total time= 1.3min\n",
      "[CV] END ..............................C=17.0, max_iter=1000; total time= 1.4min\n",
      "[CV] END ..............................C=17.0, max_iter=1000; total time=  56.6s\n",
      "[CV] END ..............................C=18.0, max_iter=1000; total time= 1.0min\n",
      "[CV] END ..............................C=18.0, max_iter=1000; total time= 1.1min\n",
      "[CV] END ..............................C=18.0, max_iter=1000; total time= 1.3min\n",
      "[CV] END ..............................C=18.0, max_iter=1000; total time= 1.1min\n",
      "[CV] END ..............................C=18.0, max_iter=1000; total time=  35.8s\n",
      "[CV] END ..............................C=19.0, max_iter=1000; total time= 1.4min\n",
      "[CV] END ..............................C=19.0, max_iter=1000; total time= 1.5min\n",
      "[CV] END ..............................C=19.0, max_iter=1000; total time= 1.3min\n",
      "[CV] END ..............................C=19.0, max_iter=1000; total time= 1.3min\n",
      "[CV] END ..............................C=20.0, max_iter=1000; total time= 1.4min\n",
      "[CV] END ..............................C=20.0, max_iter=1000; total time= 1.2min\n",
      "[CV] END ..............................C=20.0, max_iter=1000; total time= 1.3min\n",
      "[CV] END ..............................C=20.0, max_iter=1000; total time= 1.3min\n",
      "[CV] END ..............................C=20.0, max_iter=1000; total time= 1.2min\n",
      "CPU times: user 20min 39s, sys: 44min 33s, total: 1h 5min 12s\n",
      "Wall time: 1h 5min 18s\n"
     ]
    },
    {
     "data": {
      "text/plain": [
       "GridSearchCV(cv=5, estimator=LogisticRegression(), n_jobs=-1,\n",
       "             param_grid={'C': array([10., 11., 12., 13., 14., 15., 16., 17., 18., 19., 20.]),\n",
       "                         'max_iter': [1000]},\n",
       "             scoring='f1', verbose=2)"
      ]
     },
     "execution_count": 29,
     "metadata": {},
     "output_type": "execute_result"
    }
   ],
   "source": [
    "%%time\n",
    "\n",
    "clf.fit(X_train_vec, y_train)"
   ]
  },
  {
   "cell_type": "code",
   "execution_count": 30,
   "id": "73b65895",
   "metadata": {
    "scrolled": true
   },
   "outputs": [
    {
     "name": "stdout",
     "output_type": "stream",
     "text": [
      "Наилучший показатель f1 на кросс-валидации : 0.773\n",
      "Параметр регуляризации для лучшей модели: {'C': 12.0, 'max_iter': 1000}\n"
     ]
    }
   ],
   "source": [
    "print(f\"Наилучший показатель f1 на кросс-валидации : {clf.best_score_:.3f}\")\n",
    "print(f\"Параметр регуляризации для лучшей модели: {clf.best_params_}\")"
   ]
  },
  {
   "cell_type": "code",
   "execution_count": 54,
   "id": "bbf231da",
   "metadata": {},
   "outputs": [],
   "source": [
    "train_models.append([clf, clf.best_score_])"
   ]
  },
  {
   "cell_type": "markdown",
   "id": "00e1abe1",
   "metadata": {},
   "source": [
    "### LinearSVC"
   ]
  },
  {
   "cell_type": "code",
   "execution_count": 40,
   "id": "9cafedd1",
   "metadata": {},
   "outputs": [],
   "source": [
    "parameters = {'C': np.linspace(1, 31, num = 7, endpoint = True)}\n",
    "model = LinearSVC(max_iter = 1000)\n",
    "clf_lsvc = GridSearchCV(model,\n",
    "                        parameters,\n",
    "                        cv=5,\n",
    "                        scoring='f1',\n",
    "                        n_jobs=-1,\n",
    "                        verbose=2)"
   ]
  },
  {
   "cell_type": "code",
   "execution_count": 41,
   "id": "8e121cb4",
   "metadata": {
    "scrolled": true
   },
   "outputs": [
    {
     "name": "stdout",
     "output_type": "stream",
     "text": [
      "Fitting 5 folds for each of 7 candidates, totalling 35 fits\n",
      "[CV] END ..............................................C=1.0; total time=   0.4s\n",
      "[CV] END ..............................................C=1.0; total time=   0.4s\n",
      "[CV] END ..............................................C=1.0; total time=   0.4s\n",
      "[CV] END ..............................................C=1.0; total time=   0.4s\n",
      "[CV] END ..............................................C=1.0; total time=   0.4s\n",
      "[CV] END ..............................................C=6.0; total time=   1.1s\n",
      "[CV] END ..............................................C=6.0; total time=   1.1s\n",
      "[CV] END ..............................................C=6.0; total time=   1.1s\n",
      "[CV] END ..............................................C=6.0; total time=   1.1s\n",
      "[CV] END ..............................................C=6.0; total time=   1.1s\n",
      "[CV] END .............................................C=11.0; total time=   1.7s\n",
      "[CV] END .............................................C=11.0; total time=   1.8s\n",
      "[CV] END .............................................C=11.0; total time=   1.7s\n",
      "[CV] END .............................................C=11.0; total time=   2.2s\n",
      "[CV] END .............................................C=11.0; total time=   2.2s\n",
      "[CV] END .............................................C=16.0; total time=   2.3s\n",
      "[CV] END .............................................C=16.0; total time=   3.0s\n",
      "[CV] END .............................................C=16.0; total time=   3.1s\n",
      "[CV] END .............................................C=16.0; total time=   3.1s\n",
      "[CV] END .............................................C=16.0; total time=   2.4s\n"
     ]
    },
    {
     "name": "stderr",
     "output_type": "stream",
     "text": [
      "/opt/conda/lib/python3.9/site-packages/sklearn/svm/_base.py:985: ConvergenceWarning: Liblinear failed to converge, increase the number of iterations.\n",
      "  warnings.warn(\"Liblinear failed to converge, increase \"\n"
     ]
    },
    {
     "name": "stdout",
     "output_type": "stream",
     "text": [
      "[CV] END .............................................C=21.0; total time=   3.1s\n"
     ]
    },
    {
     "name": "stderr",
     "output_type": "stream",
     "text": [
      "/opt/conda/lib/python3.9/site-packages/sklearn/svm/_base.py:985: ConvergenceWarning: Liblinear failed to converge, increase the number of iterations.\n",
      "  warnings.warn(\"Liblinear failed to converge, increase \"\n"
     ]
    },
    {
     "name": "stdout",
     "output_type": "stream",
     "text": [
      "[CV] END .............................................C=21.0; total time=   3.0s\n"
     ]
    },
    {
     "name": "stderr",
     "output_type": "stream",
     "text": [
      "/opt/conda/lib/python3.9/site-packages/sklearn/svm/_base.py:985: ConvergenceWarning: Liblinear failed to converge, increase the number of iterations.\n",
      "  warnings.warn(\"Liblinear failed to converge, increase \"\n"
     ]
    },
    {
     "name": "stdout",
     "output_type": "stream",
     "text": [
      "[CV] END .............................................C=21.0; total time=   3.2s\n",
      "[CV] END .............................................C=21.0; total time=   3.0s\n",
      "[CV] END .............................................C=21.0; total time=   3.2s\n"
     ]
    },
    {
     "name": "stderr",
     "output_type": "stream",
     "text": [
      "/opt/conda/lib/python3.9/site-packages/sklearn/svm/_base.py:985: ConvergenceWarning: Liblinear failed to converge, increase the number of iterations.\n",
      "  warnings.warn(\"Liblinear failed to converge, increase \"\n"
     ]
    },
    {
     "name": "stdout",
     "output_type": "stream",
     "text": [
      "[CV] END .............................................C=26.0; total time=   3.2s\n"
     ]
    },
    {
     "name": "stderr",
     "output_type": "stream",
     "text": [
      "/opt/conda/lib/python3.9/site-packages/sklearn/svm/_base.py:985: ConvergenceWarning: Liblinear failed to converge, increase the number of iterations.\n",
      "  warnings.warn(\"Liblinear failed to converge, increase \"\n"
     ]
    },
    {
     "name": "stdout",
     "output_type": "stream",
     "text": [
      "[CV] END .............................................C=26.0; total time=   3.2s\n"
     ]
    },
    {
     "name": "stderr",
     "output_type": "stream",
     "text": [
      "/opt/conda/lib/python3.9/site-packages/sklearn/svm/_base.py:985: ConvergenceWarning: Liblinear failed to converge, increase the number of iterations.\n",
      "  warnings.warn(\"Liblinear failed to converge, increase \"\n"
     ]
    },
    {
     "name": "stdout",
     "output_type": "stream",
     "text": [
      "[CV] END .............................................C=26.0; total time=   3.0s\n"
     ]
    },
    {
     "name": "stderr",
     "output_type": "stream",
     "text": [
      "/opt/conda/lib/python3.9/site-packages/sklearn/svm/_base.py:985: ConvergenceWarning: Liblinear failed to converge, increase the number of iterations.\n",
      "  warnings.warn(\"Liblinear failed to converge, increase \"\n"
     ]
    },
    {
     "name": "stdout",
     "output_type": "stream",
     "text": [
      "[CV] END .............................................C=26.0; total time=   2.9s\n"
     ]
    },
    {
     "name": "stderr",
     "output_type": "stream",
     "text": [
      "/opt/conda/lib/python3.9/site-packages/sklearn/svm/_base.py:985: ConvergenceWarning: Liblinear failed to converge, increase the number of iterations.\n",
      "  warnings.warn(\"Liblinear failed to converge, increase \"\n"
     ]
    },
    {
     "name": "stdout",
     "output_type": "stream",
     "text": [
      "[CV] END .............................................C=26.0; total time=   3.2s\n"
     ]
    },
    {
     "name": "stderr",
     "output_type": "stream",
     "text": [
      "/opt/conda/lib/python3.9/site-packages/sklearn/svm/_base.py:985: ConvergenceWarning: Liblinear failed to converge, increase the number of iterations.\n",
      "  warnings.warn(\"Liblinear failed to converge, increase \"\n"
     ]
    },
    {
     "name": "stdout",
     "output_type": "stream",
     "text": [
      "[CV] END .............................................C=31.0; total time=   3.0s\n"
     ]
    },
    {
     "name": "stderr",
     "output_type": "stream",
     "text": [
      "/opt/conda/lib/python3.9/site-packages/sklearn/svm/_base.py:985: ConvergenceWarning: Liblinear failed to converge, increase the number of iterations.\n",
      "  warnings.warn(\"Liblinear failed to converge, increase \"\n"
     ]
    },
    {
     "name": "stdout",
     "output_type": "stream",
     "text": [
      "[CV] END .............................................C=31.0; total time=   3.1s\n"
     ]
    },
    {
     "name": "stderr",
     "output_type": "stream",
     "text": [
      "/opt/conda/lib/python3.9/site-packages/sklearn/svm/_base.py:985: ConvergenceWarning: Liblinear failed to converge, increase the number of iterations.\n",
      "  warnings.warn(\"Liblinear failed to converge, increase \"\n"
     ]
    },
    {
     "name": "stdout",
     "output_type": "stream",
     "text": [
      "[CV] END .............................................C=31.0; total time=   3.2s\n"
     ]
    },
    {
     "name": "stderr",
     "output_type": "stream",
     "text": [
      "/opt/conda/lib/python3.9/site-packages/sklearn/svm/_base.py:985: ConvergenceWarning: Liblinear failed to converge, increase the number of iterations.\n",
      "  warnings.warn(\"Liblinear failed to converge, increase \"\n"
     ]
    },
    {
     "name": "stdout",
     "output_type": "stream",
     "text": [
      "[CV] END .............................................C=31.0; total time=   3.1s\n"
     ]
    },
    {
     "name": "stderr",
     "output_type": "stream",
     "text": [
      "/opt/conda/lib/python3.9/site-packages/sklearn/svm/_base.py:985: ConvergenceWarning: Liblinear failed to converge, increase the number of iterations.\n",
      "  warnings.warn(\"Liblinear failed to converge, increase \"\n"
     ]
    },
    {
     "name": "stdout",
     "output_type": "stream",
     "text": [
      "[CV] END .............................................C=31.0; total time=   3.3s\n"
     ]
    },
    {
     "data": {
      "text/plain": [
       "GridSearchCV(cv=5, estimator=LinearSVC(), n_jobs=-1,\n",
       "             param_grid={'C': array([ 1.,  6., 11., 16., 21., 26., 31.])},\n",
       "             scoring='f1', verbose=2)"
      ]
     },
     "execution_count": 41,
     "metadata": {},
     "output_type": "execute_result"
    }
   ],
   "source": [
    "clf_lsvc.fit(X_train_vec, y_train)"
   ]
  },
  {
   "cell_type": "code",
   "execution_count": 42,
   "id": "11d503cb",
   "metadata": {},
   "outputs": [
    {
     "name": "stdout",
     "output_type": "stream",
     "text": [
      "Наилучший показатель f1 на кросс-валидации : 0.776\n",
      "Параметр регуляризации для лучшей модели: {'C': 1.0}\n"
     ]
    }
   ],
   "source": [
    "print(f\"Наилучший показатель f1 на кросс-валидации : {clf_lsvc.best_score_:.3f}\")\n",
    "print(f\"Параметр регуляризации для лучшей модели: {clf_lsvc.best_params_}\")"
   ]
  },
  {
   "cell_type": "code",
   "execution_count": 55,
   "id": "fb95a787",
   "metadata": {},
   "outputs": [],
   "source": [
    "train_models.append([clf_lsvc, clf_lsvc.best_score_])"
   ]
  },
  {
   "cell_type": "code",
   "execution_count": 56,
   "id": "60ea20f0",
   "metadata": {},
   "outputs": [],
   "source": [
    "results = pd.DataFrame(train_models, columns=['model', 'f1_score'])"
   ]
  },
  {
   "cell_type": "code",
   "execution_count": 57,
   "id": "2145a73e",
   "metadata": {},
   "outputs": [
    {
     "name": "stdout",
     "output_type": "stream",
     "text": [
      "                                               model  f1_score\n",
      "0  GridSearchCV(cv=5, estimator=LogisticRegressio...      0.77\n",
      "1  GridSearchCV(cv=5, estimator=LinearSVC(), n_jo...      0.78\n"
     ]
    }
   ],
   "source": [
    "print(results)"
   ]
  },
  {
   "cell_type": "markdown",
   "id": "67ad20e5",
   "metadata": {},
   "source": [
    "## Тестирование"
   ]
  },
  {
   "cell_type": "markdown",
   "id": "d96bb54e",
   "metadata": {},
   "source": [
    "**Лучший результат показала модель `LogisticRegression`. Возьмём её для дальнейшего тестирования.**"
   ]
  },
  {
   "cell_type": "code",
   "execution_count": 35,
   "id": "dd27dd5c",
   "metadata": {},
   "outputs": [],
   "source": [
    "predictions = clf.predict(X_test_vec)\n",
    "f1_lr = f1_score(y_test, predictions)"
   ]
  },
  {
   "cell_type": "code",
   "execution_count": 36,
   "id": "67a6b264",
   "metadata": {},
   "outputs": [
    {
     "name": "stdout",
     "output_type": "stream",
     "text": [
      "Показатель f1 на тестовой выборке: 0.775\n"
     ]
    }
   ],
   "source": [
    "print(f\"Показатель f1 на тестовой выборке: {f1_lr:.3f}\")"
   ]
  },
  {
   "cell_type": "markdown",
   "id": "870c1e56",
   "metadata": {},
   "source": [
    "## Выводы"
   ]
  },
  {
   "cell_type": "markdown",
   "id": "ffc3bf75",
   "metadata": {},
   "source": [
    "**Данные о токсичности твитов успешно загружены и обработаны:**  \n",
    "\n",
    "- Лемматизация проведена с помощью `WordNetLemmatizer` библиотеки `nltk`\n",
    "- Знаки пунктуации, а также лишние пробелы удалены\n",
    "- Стоп слова удалены (список взят из библиотеки `nltk`)\n",
    "- Корпус векторизован с помощью `TfidfVectorizer`  \n",
    "\n",
    "**На получившихся данных обучены модели: `LogisticRegression`, `LinearSVC`**\n",
    "\n",
    "|Модель            |f1 score|\n",
    "|------------------|--------|\n",
    "|LogisticRegression|   0.773|\n",
    "|LinearSVC         |   0.776|\n",
    "\n",
    "**Качество моделей практически одинаково. Разница не более `2%`.**  \n",
    "**Максимальный показатель `f1` на тестовой выборке для `LogisticRegression`: `0.775`**  \n",
    "\n",
    "**Кросс-валидация моделей и подбор гиперпараметров проводились с помощью `GridSearchCV`.**"
   ]
  },
  {
   "cell_type": "markdown",
   "id": "8b127501",
   "metadata": {},
   "source": [
    "## Чек-лист проверки"
   ]
  },
  {
   "cell_type": "markdown",
   "id": "6cdbf7ad",
   "metadata": {},
   "source": [
    "Поставьте 'x' в выполненных пунктах. Далее нажмите Shift+Enter."
   ]
  },
  {
   "cell_type": "markdown",
   "id": "6c47d8c4",
   "metadata": {},
   "source": [
    "- [x]  Jupyter Notebook открыт\n",
    "- [x]  Весь код выполняется без ошибок\n",
    "- [x]  Ячейки с кодом расположены в порядке исполнения\n",
    "- [x]  Данные загружены и подготовлены\n",
    "- [x]  Модели обучены\n",
    "- [x]  Значение метрики *F1* не меньше 0.75\n",
    "- [x]  Выводы написаны"
   ]
  }
 ],
 "metadata": {
  "ExecuteTimeLog": [
   {
    "duration": 8,
    "start_time": "2023-03-28T23:55:00.233Z"
   },
   {
    "duration": 1189,
    "start_time": "2023-03-28T23:55:11.083Z"
   },
   {
    "duration": 1566,
    "start_time": "2023-03-28T23:55:12.273Z"
   },
   {
    "duration": 2364,
    "start_time": "2023-03-28T23:55:13.840Z"
   },
   {
    "duration": 3,
    "start_time": "2023-03-28T23:55:16.206Z"
   },
   {
    "duration": 16,
    "start_time": "2023-03-28T23:55:16.210Z"
   },
   {
    "duration": 3,
    "start_time": "2023-03-28T23:55:16.228Z"
   },
   {
    "duration": 212,
    "start_time": "2023-03-28T23:55:16.232Z"
   },
   {
    "duration": 27,
    "start_time": "2023-03-28T23:55:16.445Z"
   },
   {
    "duration": 58,
    "start_time": "2023-03-28T23:55:16.473Z"
   },
   {
    "duration": 24,
    "start_time": "2023-03-28T23:55:16.533Z"
   },
   {
    "duration": 239,
    "start_time": "2023-03-28T23:55:16.571Z"
   },
   {
    "duration": 13,
    "start_time": "2023-03-28T23:55:16.812Z"
   },
   {
    "duration": 113,
    "start_time": "2023-03-28T23:55:16.826Z"
   },
   {
    "duration": 11,
    "start_time": "2023-03-28T23:55:16.940Z"
   },
   {
    "duration": 12,
    "start_time": "2023-03-28T23:55:16.953Z"
   },
   {
    "duration": 5,
    "start_time": "2023-03-28T23:55:16.967Z"
   },
   {
    "duration": 1680,
    "start_time": "2023-03-28T23:55:16.974Z"
   },
   {
    "duration": 76563,
    "start_time": "2023-03-28T23:55:18.656Z"
   },
   {
    "duration": 3,
    "start_time": "2023-03-28T23:56:35.221Z"
   },
   {
    "duration": 84,
    "start_time": "2023-03-28T23:56:35.225Z"
   },
   {
    "duration": 4,
    "start_time": "2023-03-28T23:56:35.311Z"
   },
   {
    "duration": 21,
    "start_time": "2023-03-28T23:56:35.316Z"
   },
   {
    "duration": 4632,
    "start_time": "2023-03-28T23:56:35.338Z"
   },
   {
    "duration": 1131,
    "start_time": "2023-03-28T23:56:39.971Z"
   },
   {
    "duration": 2,
    "start_time": "2023-03-28T23:56:41.104Z"
   },
   {
    "duration": 5,
    "start_time": "2023-03-28T23:56:41.107Z"
   },
   {
    "duration": 3,
    "start_time": "2023-03-29T00:06:24.464Z"
   },
   {
    "duration": 3918217,
    "start_time": "2023-03-29T00:06:25.564Z"
   },
   {
    "duration": 4,
    "start_time": "2023-03-29T01:11:43.871Z"
   },
   {
    "duration": 6,
    "start_time": "2023-03-29T01:14:44.497Z"
   },
   {
    "duration": 176,
    "start_time": "2023-03-29T01:14:59.637Z"
   },
   {
    "duration": 18,
    "start_time": "2023-03-29T01:15:12.908Z"
   },
   {
    "duration": 3,
    "start_time": "2023-03-29T01:15:16.768Z"
   },
   {
    "duration": 13,
    "start_time": "2023-03-29T01:15:59.748Z"
   },
   {
    "duration": 6,
    "start_time": "2023-03-29T01:15:59.763Z"
   },
   {
    "duration": 3,
    "start_time": "2023-03-29T01:16:36.867Z"
   },
   {
    "duration": 4,
    "start_time": "2023-03-29T01:16:43.778Z"
   },
   {
    "duration": 3,
    "start_time": "2023-03-29T01:22:09.817Z"
   },
   {
    "duration": 4,
    "start_time": "2023-03-29T01:22:14.087Z"
   },
   {
    "duration": 78701,
    "start_time": "2023-03-29T01:22:15.067Z"
   },
   {
    "duration": 4,
    "start_time": "2023-03-29T01:25:51.717Z"
   },
   {
    "duration": 3,
    "start_time": "2023-03-29T01:25:52.957Z"
   },
   {
    "duration": 3,
    "start_time": "2023-03-29T01:25:55.437Z"
   },
   {
    "duration": 9,
    "start_time": "2023-03-29T01:25:56.267Z"
   },
   {
    "duration": 18,
    "start_time": "2023-03-29T01:26:21.538Z"
   },
   {
    "duration": 94,
    "start_time": "2023-03-29T01:26:40.037Z"
   },
   {
    "duration": 2,
    "start_time": "2023-03-29T01:26:49.677Z"
   },
   {
    "duration": 10,
    "start_time": "2023-03-29T01:26:50.898Z"
   },
   {
    "duration": 7,
    "start_time": "2023-03-29T01:27:17.398Z"
   },
   {
    "duration": 3,
    "start_time": "2023-03-29T01:27:50.857Z"
   },
   {
    "duration": 11,
    "start_time": "2023-03-29T01:27:52.487Z"
   },
   {
    "duration": 2,
    "start_time": "2023-03-29T01:27:56.648Z"
   },
   {
    "duration": 3,
    "start_time": "2023-03-29T01:28:01.867Z"
   },
   {
    "duration": 3,
    "start_time": "2023-03-29T01:28:14.178Z"
   },
   {
    "duration": 3,
    "start_time": "2023-03-29T01:28:15.678Z"
   },
   {
    "duration": 7,
    "start_time": "2023-03-29T01:28:25.877Z"
   }
  ],
  "kernelspec": {
   "display_name": "Python 3 (ipykernel)",
   "language": "python",
   "name": "python3"
  },
  "language_info": {
   "codemirror_mode": {
    "name": "ipython",
    "version": 3
   },
   "file_extension": ".py",
   "mimetype": "text/x-python",
   "name": "python",
   "nbconvert_exporter": "python",
   "pygments_lexer": "ipython3",
   "version": "3.9.13"
  },
  "toc": {
   "base_numbering": 1,
   "nav_menu": {},
   "number_sections": true,
   "sideBar": true,
   "skip_h1_title": true,
   "title_cell": "Table of Contents",
   "title_sidebar": "Contents",
   "toc_cell": false,
   "toc_position": {},
   "toc_section_display": true,
   "toc_window_display": false
  }
 },
 "nbformat": 4,
 "nbformat_minor": 5
}

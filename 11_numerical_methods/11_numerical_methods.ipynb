{
 "cells": [
  {
   "cell_type": "markdown",
   "id": "5511148f",
   "metadata": {},
   "source": [
    "# Проект: Определение стоимости автомобилей"
   ]
  },
  {
   "cell_type": "markdown",
   "id": "458bc2b1",
   "metadata": {},
   "source": [
    "___\n",
    "**Описание проекта**  \n",
    "\n",
    "Сервис по продаже автомобилей с пробегом «Не бит, не крашен» разрабатывает приложение для привлечения новых клиентов. В нём можно быстро узнать рыночную стоимость своего автомобиля. В вашем распоряжении исторические данные: технические характеристики, комплектации и цены автомобилей.\n",
    "\n",
    "Заказчику важны:\n",
    "\n",
    "- качество предсказания;\n",
    "- скорость предсказания;\n",
    "- время обучения.\n",
    "___\n",
    "**Цель**  \n",
    "\n",
    "Вам нужно построить модель для определения стоимости. Постройте модель, которая умеет её определять. В вашем распоряжении данные о технических характеристиках, комплектации и ценах других автомобилей.\n",
    "___\n",
    "**Примечания:**\n",
    "\n",
    "- Для оценки качества моделей применяйте метрику RMSE.\n",
    "- Значение метрики RMSE должно быть меньше 2500.\n",
    "- Самостоятельно освойте библиотеку LightGBM и её средствами постройте модели градиентного бустинга.\n",
    "- Время выполнения ячейки кода Jupyter Notebook можно получить специальной командой. Найдите её.\n",
    "- Модель градиентного бустинга может долго обучаться, поэтому измените у неё только два-три параметра.\n",
    "- Если перестанет работать Jupyter Notebook, удалите лишние переменные оператором `del`.\n",
    "___\n",
    "**Описание данных:**  \n",
    "\n",
    "Данные находятся в файле `/datasets/autos.csv`\n",
    "\n",
    "*Признаки*\n",
    "\n",
    "- `DateCrawled` — дата скачивания анкеты из базы\n",
    "- `VehicleType` — тип автомобильного кузова\n",
    "- `RegistrationYear` — год регистрации автомобиля\n",
    "- `Gearbox` — тип коробки передач\n",
    "- `Power` — мощность (л. с.)\n",
    "- `Model` — модель автомобиля\n",
    "- `Kilometer` — пробег (км)\n",
    "- `RegistrationMonth` — месяц регистрации автомобиля\n",
    "- `FuelType` — тип топлива\n",
    "- `Brand` — марка автомобиля\n",
    "- `Repaired` — была машина в ремонте или нет\n",
    "- `DateCreated` — дата создания анкеты\n",
    "- `NumberOfPictures` — количество фотографий автомобиля\n",
    "- `PostalCode` — почтовый индекс владельца анкеты (пользователя)\n",
    "- `LastSeen` — дата последней активности пользователя\n",
    "\n",
    "*Целевой признак*\n",
    "\n",
    "- `Price` — цена (евро)"
   ]
  },
  {
   "cell_type": "markdown",
   "id": "54730b6a",
   "metadata": {},
   "source": [
    "<h1>Содержание<span class=\"tocSkip\"></span></h1><br>\n",
    "<div class=\"toc\">\n",
    "    <ul class=\"toc-item\">\n",
    "        <li><span><a href=\"#Подготовка-данных\" data-toc-modified-id=\"Подготовка-данных-1\">\n",
    "            <span class=\"toc-item-num\">1.&nbsp;&nbsp;</span>Подготовка данных</a></span>\n",
    "        </li>\n",
    "        <li><span><a href=\"#Обучение-моделей\" data-toc-modified-id=\"Обучение-моделей-2\">\n",
    "            <span class=\"toc-item-num\">2.&nbsp;&nbsp;</span>Обучение моделей</a></span>\n",
    "        </li>\n",
    "        <li><span><a href=\"#Анализ-моделей\" data-toc-modified-id=\"Анализ-моделей-3\">\n",
    "            <span class=\"toc-item-num\">3.&nbsp;&nbsp;</span>Анализ моделей</a></span>\n",
    "        </li>\n",
    "        <li><span><a href=\"#Проверка-моделей-на-адекватность\" data-toc-modified-id=\"Проверка-моделей-на-адекватность-4\">\n",
    "            <span class=\"toc-item-num\">4.&nbsp;&nbsp;</span>Проверка моделей на адекватность</a></span>\n",
    "        </li>\n",
    "        <li><span><a href=\"#Общий-вывод\" data-toc-modified-id=\"Общий-вывод-5\">\n",
    "            <span class=\"toc-item-num\">5.&nbsp;&nbsp;</span>Общий вывод</a></span>\n",
    "        </li>\n",
    "        <li><span><a href=\"#Чек-лист-готовности-проекта\" data-toc-modified-id=\"Чек-лист-готовности-проекта-6\">\n",
    "            <span class=\"toc-item-num\">6.&nbsp;&nbsp;</span>Чек-лист готовности проекта</a></span>\n",
    "        </li>\n",
    "    </ul>\n",
    "</div>"
   ]
  },
  {
   "cell_type": "markdown",
   "id": "33376898",
   "metadata": {},
   "source": [
    "## Подготовка данных"
   ]
  },
  {
   "cell_type": "markdown",
   "id": "52e00cfe",
   "metadata": {},
   "source": [
    "### Импортируем необходимые библиотеки. Считаем данные из csv-файла в датафрейм и сохраним в переменную `df`. Путь к файлу:\n",
    "\n",
    "`/datasets/autos.csv`"
   ]
  },
  {
   "cell_type": "code",
   "execution_count": 1,
   "id": "cc25fb1e",
   "metadata": {},
   "outputs": [],
   "source": [
    "import pandas as pd\n",
    "import numpy as np\n",
    "import matplotlib.pyplot as plt\n",
    "import seaborn as sns\n",
    "\n",
    "from datetime import datetime\n",
    "from scipy import stats as st"
   ]
  },
  {
   "cell_type": "code",
   "execution_count": 2,
   "id": "587db2f7",
   "metadata": {},
   "outputs": [],
   "source": [
    "#Инициализация модели SGDRegressor\n",
    "from sklearn.linear_model import SGDRegressor\n",
    "\n",
    "#Инициализация модели CatBoostRegressor\n",
    "from catboost import CatBoostRegressor\n",
    "\n",
    "#Инициализация модели LightGBM\n",
    "import lightgbm as lgb\n",
    "\n",
    "#Кодирование категориальных признаков в виде одноточечного числового массива\n",
    "from sklearn.preprocessing import OneHotEncoder\n",
    "\n",
    "#Кодирование категориальных признаков в виде целочисленного массива.\n",
    "from sklearn.preprocessing import OrdinalEncoder\n",
    "\n",
    "#Разделение выборки в заданных пропорциях\n",
    "from sklearn.model_selection import train_test_split\n",
    "\n",
    "#Преобразователь масштаба методом стандартизации\n",
    "from sklearn.preprocessing import StandardScaler\n",
    "\n",
    "#Создание оценки из метрики производительности или функции потерь\n",
    "from sklearn.metrics import make_scorer\n",
    "\n",
    "#Поиск лучших параметров модели\n",
    "from sklearn.model_selection import GridSearchCV\n",
    "\n",
    "#Проверка модели на адекватность\n",
    "from sklearn.dummy import DummyRegressor\n",
    "\n",
    "#Метрики регрессии\n",
    "from sklearn.metrics import r2_score, mean_squared_error\n",
    "\n",
    "#Последовательное перемешивание массивов или разреженных матриц\n",
    "from sklearn.utils import shuffle\n",
    "\n",
    "#Сохранение и загрузка обученной модели\n",
    "import joblib"
   ]
  },
  {
   "cell_type": "code",
   "execution_count": 3,
   "id": "20004273",
   "metadata": {},
   "outputs": [],
   "source": [
    "try:\n",
    "    df = pd.read_csv('./autos.csv')\n",
    "except:\n",
    "    print('File_not_found')"
   ]
  },
  {
   "cell_type": "markdown",
   "id": "51c13e23",
   "metadata": {},
   "source": [
    "### Изучим общую информацию о полученном датафрейме"
   ]
  },
  {
   "cell_type": "markdown",
   "id": "3c339fb8",
   "metadata": {},
   "source": [
    "**Добавим настройки для удобства отображения данных**"
   ]
  },
  {
   "cell_type": "code",
   "execution_count": 4,
   "id": "c8c95029",
   "metadata": {},
   "outputs": [],
   "source": [
    "pd.set_option('display.max_columns', None)\n",
    "pd.set_option('display.max_rows', 200)\n",
    "pd.options.display.float_format = '{:,.2f}'.format\n",
    "np.set_printoptions(suppress=True)\n",
    "\n",
    "#Если необходимо вернуть дефолтные настройки, раскомментируй строку ниже\n",
    "#pd.reset_option('all')"
   ]
  },
  {
   "cell_type": "markdown",
   "id": "e5d94471",
   "metadata": {},
   "source": [
    "**Выведем первые 10 строчек датафрейма `df` на экран.**"
   ]
  },
  {
   "cell_type": "code",
   "execution_count": 5,
   "id": "9bd2ccd3",
   "metadata": {},
   "outputs": [
    {
     "data": {
      "text/html": [
       "<div>\n",
       "<style scoped>\n",
       "    .dataframe tbody tr th:only-of-type {\n",
       "        vertical-align: middle;\n",
       "    }\n",
       "\n",
       "    .dataframe tbody tr th {\n",
       "        vertical-align: top;\n",
       "    }\n",
       "\n",
       "    .dataframe thead th {\n",
       "        text-align: right;\n",
       "    }\n",
       "</style>\n",
       "<table border=\"1\" class=\"dataframe\">\n",
       "  <thead>\n",
       "    <tr style=\"text-align: right;\">\n",
       "      <th></th>\n",
       "      <th>DateCrawled</th>\n",
       "      <th>Price</th>\n",
       "      <th>VehicleType</th>\n",
       "      <th>RegistrationYear</th>\n",
       "      <th>Gearbox</th>\n",
       "      <th>Power</th>\n",
       "      <th>Model</th>\n",
       "      <th>Kilometer</th>\n",
       "      <th>RegistrationMonth</th>\n",
       "      <th>FuelType</th>\n",
       "      <th>Brand</th>\n",
       "      <th>Repaired</th>\n",
       "      <th>DateCreated</th>\n",
       "      <th>NumberOfPictures</th>\n",
       "      <th>PostalCode</th>\n",
       "      <th>LastSeen</th>\n",
       "    </tr>\n",
       "  </thead>\n",
       "  <tbody>\n",
       "    <tr>\n",
       "      <th>0</th>\n",
       "      <td>2016-03-24 11:52:17</td>\n",
       "      <td>480</td>\n",
       "      <td>NaN</td>\n",
       "      <td>1993</td>\n",
       "      <td>manual</td>\n",
       "      <td>0</td>\n",
       "      <td>golf</td>\n",
       "      <td>150000</td>\n",
       "      <td>0</td>\n",
       "      <td>petrol</td>\n",
       "      <td>volkswagen</td>\n",
       "      <td>NaN</td>\n",
       "      <td>2016-03-24 00:00:00</td>\n",
       "      <td>0</td>\n",
       "      <td>70435</td>\n",
       "      <td>2016-04-07 03:16:57</td>\n",
       "    </tr>\n",
       "    <tr>\n",
       "      <th>1</th>\n",
       "      <td>2016-03-24 10:58:45</td>\n",
       "      <td>18300</td>\n",
       "      <td>coupe</td>\n",
       "      <td>2011</td>\n",
       "      <td>manual</td>\n",
       "      <td>190</td>\n",
       "      <td>NaN</td>\n",
       "      <td>125000</td>\n",
       "      <td>5</td>\n",
       "      <td>gasoline</td>\n",
       "      <td>audi</td>\n",
       "      <td>yes</td>\n",
       "      <td>2016-03-24 00:00:00</td>\n",
       "      <td>0</td>\n",
       "      <td>66954</td>\n",
       "      <td>2016-04-07 01:46:50</td>\n",
       "    </tr>\n",
       "    <tr>\n",
       "      <th>2</th>\n",
       "      <td>2016-03-14 12:52:21</td>\n",
       "      <td>9800</td>\n",
       "      <td>suv</td>\n",
       "      <td>2004</td>\n",
       "      <td>auto</td>\n",
       "      <td>163</td>\n",
       "      <td>grand</td>\n",
       "      <td>125000</td>\n",
       "      <td>8</td>\n",
       "      <td>gasoline</td>\n",
       "      <td>jeep</td>\n",
       "      <td>NaN</td>\n",
       "      <td>2016-03-14 00:00:00</td>\n",
       "      <td>0</td>\n",
       "      <td>90480</td>\n",
       "      <td>2016-04-05 12:47:46</td>\n",
       "    </tr>\n",
       "    <tr>\n",
       "      <th>3</th>\n",
       "      <td>2016-03-17 16:54:04</td>\n",
       "      <td>1500</td>\n",
       "      <td>small</td>\n",
       "      <td>2001</td>\n",
       "      <td>manual</td>\n",
       "      <td>75</td>\n",
       "      <td>golf</td>\n",
       "      <td>150000</td>\n",
       "      <td>6</td>\n",
       "      <td>petrol</td>\n",
       "      <td>volkswagen</td>\n",
       "      <td>no</td>\n",
       "      <td>2016-03-17 00:00:00</td>\n",
       "      <td>0</td>\n",
       "      <td>91074</td>\n",
       "      <td>2016-03-17 17:40:17</td>\n",
       "    </tr>\n",
       "    <tr>\n",
       "      <th>4</th>\n",
       "      <td>2016-03-31 17:25:20</td>\n",
       "      <td>3600</td>\n",
       "      <td>small</td>\n",
       "      <td>2008</td>\n",
       "      <td>manual</td>\n",
       "      <td>69</td>\n",
       "      <td>fabia</td>\n",
       "      <td>90000</td>\n",
       "      <td>7</td>\n",
       "      <td>gasoline</td>\n",
       "      <td>skoda</td>\n",
       "      <td>no</td>\n",
       "      <td>2016-03-31 00:00:00</td>\n",
       "      <td>0</td>\n",
       "      <td>60437</td>\n",
       "      <td>2016-04-06 10:17:21</td>\n",
       "    </tr>\n",
       "    <tr>\n",
       "      <th>5</th>\n",
       "      <td>2016-04-04 17:36:23</td>\n",
       "      <td>650</td>\n",
       "      <td>sedan</td>\n",
       "      <td>1995</td>\n",
       "      <td>manual</td>\n",
       "      <td>102</td>\n",
       "      <td>3er</td>\n",
       "      <td>150000</td>\n",
       "      <td>10</td>\n",
       "      <td>petrol</td>\n",
       "      <td>bmw</td>\n",
       "      <td>yes</td>\n",
       "      <td>2016-04-04 00:00:00</td>\n",
       "      <td>0</td>\n",
       "      <td>33775</td>\n",
       "      <td>2016-04-06 19:17:07</td>\n",
       "    </tr>\n",
       "    <tr>\n",
       "      <th>6</th>\n",
       "      <td>2016-04-01 20:48:51</td>\n",
       "      <td>2200</td>\n",
       "      <td>convertible</td>\n",
       "      <td>2004</td>\n",
       "      <td>manual</td>\n",
       "      <td>109</td>\n",
       "      <td>2_reihe</td>\n",
       "      <td>150000</td>\n",
       "      <td>8</td>\n",
       "      <td>petrol</td>\n",
       "      <td>peugeot</td>\n",
       "      <td>no</td>\n",
       "      <td>2016-04-01 00:00:00</td>\n",
       "      <td>0</td>\n",
       "      <td>67112</td>\n",
       "      <td>2016-04-05 18:18:39</td>\n",
       "    </tr>\n",
       "    <tr>\n",
       "      <th>7</th>\n",
       "      <td>2016-03-21 18:54:38</td>\n",
       "      <td>0</td>\n",
       "      <td>sedan</td>\n",
       "      <td>1980</td>\n",
       "      <td>manual</td>\n",
       "      <td>50</td>\n",
       "      <td>other</td>\n",
       "      <td>40000</td>\n",
       "      <td>7</td>\n",
       "      <td>petrol</td>\n",
       "      <td>volkswagen</td>\n",
       "      <td>no</td>\n",
       "      <td>2016-03-21 00:00:00</td>\n",
       "      <td>0</td>\n",
       "      <td>19348</td>\n",
       "      <td>2016-03-25 16:47:58</td>\n",
       "    </tr>\n",
       "    <tr>\n",
       "      <th>8</th>\n",
       "      <td>2016-04-04 23:42:13</td>\n",
       "      <td>14500</td>\n",
       "      <td>bus</td>\n",
       "      <td>2014</td>\n",
       "      <td>manual</td>\n",
       "      <td>125</td>\n",
       "      <td>c_max</td>\n",
       "      <td>30000</td>\n",
       "      <td>8</td>\n",
       "      <td>petrol</td>\n",
       "      <td>ford</td>\n",
       "      <td>NaN</td>\n",
       "      <td>2016-04-04 00:00:00</td>\n",
       "      <td>0</td>\n",
       "      <td>94505</td>\n",
       "      <td>2016-04-04 23:42:13</td>\n",
       "    </tr>\n",
       "    <tr>\n",
       "      <th>9</th>\n",
       "      <td>2016-03-17 10:53:50</td>\n",
       "      <td>999</td>\n",
       "      <td>small</td>\n",
       "      <td>1998</td>\n",
       "      <td>manual</td>\n",
       "      <td>101</td>\n",
       "      <td>golf</td>\n",
       "      <td>150000</td>\n",
       "      <td>0</td>\n",
       "      <td>NaN</td>\n",
       "      <td>volkswagen</td>\n",
       "      <td>NaN</td>\n",
       "      <td>2016-03-17 00:00:00</td>\n",
       "      <td>0</td>\n",
       "      <td>27472</td>\n",
       "      <td>2016-03-31 17:17:06</td>\n",
       "    </tr>\n",
       "  </tbody>\n",
       "</table>\n",
       "</div>"
      ],
      "text/plain": [
       "           DateCrawled  Price  VehicleType  RegistrationYear Gearbox  Power  \\\n",
       "0  2016-03-24 11:52:17    480          NaN              1993  manual      0   \n",
       "1  2016-03-24 10:58:45  18300        coupe              2011  manual    190   \n",
       "2  2016-03-14 12:52:21   9800          suv              2004    auto    163   \n",
       "3  2016-03-17 16:54:04   1500        small              2001  manual     75   \n",
       "4  2016-03-31 17:25:20   3600        small              2008  manual     69   \n",
       "5  2016-04-04 17:36:23    650        sedan              1995  manual    102   \n",
       "6  2016-04-01 20:48:51   2200  convertible              2004  manual    109   \n",
       "7  2016-03-21 18:54:38      0        sedan              1980  manual     50   \n",
       "8  2016-04-04 23:42:13  14500          bus              2014  manual    125   \n",
       "9  2016-03-17 10:53:50    999        small              1998  manual    101   \n",
       "\n",
       "     Model  Kilometer  RegistrationMonth  FuelType       Brand Repaired  \\\n",
       "0     golf     150000                  0    petrol  volkswagen      NaN   \n",
       "1      NaN     125000                  5  gasoline        audi      yes   \n",
       "2    grand     125000                  8  gasoline        jeep      NaN   \n",
       "3     golf     150000                  6    petrol  volkswagen       no   \n",
       "4    fabia      90000                  7  gasoline       skoda       no   \n",
       "5      3er     150000                 10    petrol         bmw      yes   \n",
       "6  2_reihe     150000                  8    petrol     peugeot       no   \n",
       "7    other      40000                  7    petrol  volkswagen       no   \n",
       "8    c_max      30000                  8    petrol        ford      NaN   \n",
       "9     golf     150000                  0       NaN  volkswagen      NaN   \n",
       "\n",
       "           DateCreated  NumberOfPictures  PostalCode             LastSeen  \n",
       "0  2016-03-24 00:00:00                 0       70435  2016-04-07 03:16:57  \n",
       "1  2016-03-24 00:00:00                 0       66954  2016-04-07 01:46:50  \n",
       "2  2016-03-14 00:00:00                 0       90480  2016-04-05 12:47:46  \n",
       "3  2016-03-17 00:00:00                 0       91074  2016-03-17 17:40:17  \n",
       "4  2016-03-31 00:00:00                 0       60437  2016-04-06 10:17:21  \n",
       "5  2016-04-04 00:00:00                 0       33775  2016-04-06 19:17:07  \n",
       "6  2016-04-01 00:00:00                 0       67112  2016-04-05 18:18:39  \n",
       "7  2016-03-21 00:00:00                 0       19348  2016-03-25 16:47:58  \n",
       "8  2016-04-04 00:00:00                 0       94505  2016-04-04 23:42:13  \n",
       "9  2016-03-17 00:00:00                 0       27472  2016-03-31 17:17:06  "
      ]
     },
     "execution_count": 5,
     "metadata": {},
     "output_type": "execute_result"
    }
   ],
   "source": [
    "df.head(10)"
   ]
  },
  {
   "cell_type": "markdown",
   "id": "02312c44",
   "metadata": {},
   "source": [
    "**Посмотрим на размер данных (количество строк, колонок).**"
   ]
  },
  {
   "cell_type": "code",
   "execution_count": 6,
   "id": "eaa5e7b0",
   "metadata": {},
   "outputs": [
    {
     "name": "stdout",
     "output_type": "stream",
     "text": [
      "\n",
      "Количество строк: 354369\n",
      "Количество колонок: 16\n",
      "\n"
     ]
    }
   ],
   "source": [
    "print(f'\\nКоличество строк: {df.shape[0]}\\nКоличество колонок: {df.shape[1]}\\n')"
   ]
  },
  {
   "cell_type": "markdown",
   "id": "b8315e34",
   "metadata": {},
   "source": [
    "**Для удобства, сразу приведем обозначения признаков к \"змеиному\" регистру.**"
   ]
  },
  {
   "cell_type": "code",
   "execution_count": 7,
   "id": "dc462379",
   "metadata": {},
   "outputs": [],
   "source": [
    "df.columns = df.columns.str.lower()"
   ]
  },
  {
   "cell_type": "code",
   "execution_count": 8,
   "id": "62ddf8fa",
   "metadata": {},
   "outputs": [],
   "source": [
    "df = df.rename(columns={\n",
    "    'datecrawled': 'date_crawled',\n",
    "    'vehicletype': 'vehicle_type',\n",
    "    'registrationyear': 'registration_year',\n",
    "    'registrationmonth': 'registration_month',\n",
    "    'fueltype': 'fuel_type',\n",
    "    'datecreated': 'date_created',\n",
    "    'numberofpictures': 'number_of_pictures',\n",
    "    'postalcode': 'postal_code',\n",
    "    'lastseen': 'last_seen'\n",
    "})"
   ]
  },
  {
   "cell_type": "code",
   "execution_count": 9,
   "id": "1e6a224b",
   "metadata": {},
   "outputs": [
    {
     "data": {
      "text/plain": [
       "Index(['date_crawled', 'price', 'vehicle_type', 'registration_year', 'gearbox',\n",
       "       'power', 'model', 'kilometer', 'registration_month', 'fuel_type',\n",
       "       'brand', 'repaired', 'date_created', 'number_of_pictures',\n",
       "       'postal_code', 'last_seen'],\n",
       "      dtype='object')"
      ]
     },
     "execution_count": 9,
     "metadata": {},
     "output_type": "execute_result"
    }
   ],
   "source": [
    "df.columns"
   ]
  },
  {
   "cell_type": "markdown",
   "id": "5a2739f6",
   "metadata": {},
   "source": [
    "**Просмотрим статистическую сводку каждой колонки, чтобы узнать распределение данных в каждой колонки. Используем метод `describe()`.**"
   ]
  },
  {
   "cell_type": "code",
   "execution_count": 10,
   "id": "6b711a13",
   "metadata": {},
   "outputs": [
    {
     "data": {
      "text/html": [
       "<div>\n",
       "<style scoped>\n",
       "    .dataframe tbody tr th:only-of-type {\n",
       "        vertical-align: middle;\n",
       "    }\n",
       "\n",
       "    .dataframe tbody tr th {\n",
       "        vertical-align: top;\n",
       "    }\n",
       "\n",
       "    .dataframe thead th {\n",
       "        text-align: right;\n",
       "    }\n",
       "</style>\n",
       "<table border=\"1\" class=\"dataframe\">\n",
       "  <thead>\n",
       "    <tr style=\"text-align: right;\">\n",
       "      <th></th>\n",
       "      <th>date_crawled</th>\n",
       "      <th>price</th>\n",
       "      <th>vehicle_type</th>\n",
       "      <th>registration_year</th>\n",
       "      <th>gearbox</th>\n",
       "      <th>power</th>\n",
       "      <th>model</th>\n",
       "      <th>kilometer</th>\n",
       "      <th>registration_month</th>\n",
       "      <th>fuel_type</th>\n",
       "      <th>brand</th>\n",
       "      <th>repaired</th>\n",
       "      <th>date_created</th>\n",
       "      <th>number_of_pictures</th>\n",
       "      <th>postal_code</th>\n",
       "      <th>last_seen</th>\n",
       "    </tr>\n",
       "  </thead>\n",
       "  <tbody>\n",
       "    <tr>\n",
       "      <th>count</th>\n",
       "      <td>354369</td>\n",
       "      <td>354,369.00</td>\n",
       "      <td>316879</td>\n",
       "      <td>354,369.00</td>\n",
       "      <td>334536</td>\n",
       "      <td>354,369.00</td>\n",
       "      <td>334664</td>\n",
       "      <td>354,369.00</td>\n",
       "      <td>354,369.00</td>\n",
       "      <td>321474</td>\n",
       "      <td>354369</td>\n",
       "      <td>283215</td>\n",
       "      <td>354369</td>\n",
       "      <td>354,369.00</td>\n",
       "      <td>354,369.00</td>\n",
       "      <td>354369</td>\n",
       "    </tr>\n",
       "    <tr>\n",
       "      <th>unique</th>\n",
       "      <td>271174</td>\n",
       "      <td>NaN</td>\n",
       "      <td>8</td>\n",
       "      <td>NaN</td>\n",
       "      <td>2</td>\n",
       "      <td>NaN</td>\n",
       "      <td>250</td>\n",
       "      <td>NaN</td>\n",
       "      <td>NaN</td>\n",
       "      <td>7</td>\n",
       "      <td>40</td>\n",
       "      <td>2</td>\n",
       "      <td>109</td>\n",
       "      <td>NaN</td>\n",
       "      <td>NaN</td>\n",
       "      <td>179150</td>\n",
       "    </tr>\n",
       "    <tr>\n",
       "      <th>top</th>\n",
       "      <td>2016-03-24 14:49:47</td>\n",
       "      <td>NaN</td>\n",
       "      <td>sedan</td>\n",
       "      <td>NaN</td>\n",
       "      <td>manual</td>\n",
       "      <td>NaN</td>\n",
       "      <td>golf</td>\n",
       "      <td>NaN</td>\n",
       "      <td>NaN</td>\n",
       "      <td>petrol</td>\n",
       "      <td>volkswagen</td>\n",
       "      <td>no</td>\n",
       "      <td>2016-04-03 00:00:00</td>\n",
       "      <td>NaN</td>\n",
       "      <td>NaN</td>\n",
       "      <td>2016-04-06 13:45:54</td>\n",
       "    </tr>\n",
       "    <tr>\n",
       "      <th>freq</th>\n",
       "      <td>7</td>\n",
       "      <td>NaN</td>\n",
       "      <td>91457</td>\n",
       "      <td>NaN</td>\n",
       "      <td>268251</td>\n",
       "      <td>NaN</td>\n",
       "      <td>29232</td>\n",
       "      <td>NaN</td>\n",
       "      <td>NaN</td>\n",
       "      <td>216352</td>\n",
       "      <td>77013</td>\n",
       "      <td>247161</td>\n",
       "      <td>13719</td>\n",
       "      <td>NaN</td>\n",
       "      <td>NaN</td>\n",
       "      <td>17</td>\n",
       "    </tr>\n",
       "    <tr>\n",
       "      <th>mean</th>\n",
       "      <td>NaN</td>\n",
       "      <td>4,416.66</td>\n",
       "      <td>NaN</td>\n",
       "      <td>2,004.23</td>\n",
       "      <td>NaN</td>\n",
       "      <td>110.09</td>\n",
       "      <td>NaN</td>\n",
       "      <td>128,211.17</td>\n",
       "      <td>5.71</td>\n",
       "      <td>NaN</td>\n",
       "      <td>NaN</td>\n",
       "      <td>NaN</td>\n",
       "      <td>NaN</td>\n",
       "      <td>0.00</td>\n",
       "      <td>50,508.69</td>\n",
       "      <td>NaN</td>\n",
       "    </tr>\n",
       "    <tr>\n",
       "      <th>std</th>\n",
       "      <td>NaN</td>\n",
       "      <td>4,514.16</td>\n",
       "      <td>NaN</td>\n",
       "      <td>90.23</td>\n",
       "      <td>NaN</td>\n",
       "      <td>189.85</td>\n",
       "      <td>NaN</td>\n",
       "      <td>37,905.34</td>\n",
       "      <td>3.73</td>\n",
       "      <td>NaN</td>\n",
       "      <td>NaN</td>\n",
       "      <td>NaN</td>\n",
       "      <td>NaN</td>\n",
       "      <td>0.00</td>\n",
       "      <td>25,783.10</td>\n",
       "      <td>NaN</td>\n",
       "    </tr>\n",
       "    <tr>\n",
       "      <th>min</th>\n",
       "      <td>NaN</td>\n",
       "      <td>0.00</td>\n",
       "      <td>NaN</td>\n",
       "      <td>1,000.00</td>\n",
       "      <td>NaN</td>\n",
       "      <td>0.00</td>\n",
       "      <td>NaN</td>\n",
       "      <td>5,000.00</td>\n",
       "      <td>0.00</td>\n",
       "      <td>NaN</td>\n",
       "      <td>NaN</td>\n",
       "      <td>NaN</td>\n",
       "      <td>NaN</td>\n",
       "      <td>0.00</td>\n",
       "      <td>1,067.00</td>\n",
       "      <td>NaN</td>\n",
       "    </tr>\n",
       "    <tr>\n",
       "      <th>25%</th>\n",
       "      <td>NaN</td>\n",
       "      <td>1,050.00</td>\n",
       "      <td>NaN</td>\n",
       "      <td>1,999.00</td>\n",
       "      <td>NaN</td>\n",
       "      <td>69.00</td>\n",
       "      <td>NaN</td>\n",
       "      <td>125,000.00</td>\n",
       "      <td>3.00</td>\n",
       "      <td>NaN</td>\n",
       "      <td>NaN</td>\n",
       "      <td>NaN</td>\n",
       "      <td>NaN</td>\n",
       "      <td>0.00</td>\n",
       "      <td>30,165.00</td>\n",
       "      <td>NaN</td>\n",
       "    </tr>\n",
       "    <tr>\n",
       "      <th>50%</th>\n",
       "      <td>NaN</td>\n",
       "      <td>2,700.00</td>\n",
       "      <td>NaN</td>\n",
       "      <td>2,003.00</td>\n",
       "      <td>NaN</td>\n",
       "      <td>105.00</td>\n",
       "      <td>NaN</td>\n",
       "      <td>150,000.00</td>\n",
       "      <td>6.00</td>\n",
       "      <td>NaN</td>\n",
       "      <td>NaN</td>\n",
       "      <td>NaN</td>\n",
       "      <td>NaN</td>\n",
       "      <td>0.00</td>\n",
       "      <td>49,413.00</td>\n",
       "      <td>NaN</td>\n",
       "    </tr>\n",
       "    <tr>\n",
       "      <th>75%</th>\n",
       "      <td>NaN</td>\n",
       "      <td>6,400.00</td>\n",
       "      <td>NaN</td>\n",
       "      <td>2,008.00</td>\n",
       "      <td>NaN</td>\n",
       "      <td>143.00</td>\n",
       "      <td>NaN</td>\n",
       "      <td>150,000.00</td>\n",
       "      <td>9.00</td>\n",
       "      <td>NaN</td>\n",
       "      <td>NaN</td>\n",
       "      <td>NaN</td>\n",
       "      <td>NaN</td>\n",
       "      <td>0.00</td>\n",
       "      <td>71,083.00</td>\n",
       "      <td>NaN</td>\n",
       "    </tr>\n",
       "    <tr>\n",
       "      <th>max</th>\n",
       "      <td>NaN</td>\n",
       "      <td>20,000.00</td>\n",
       "      <td>NaN</td>\n",
       "      <td>9,999.00</td>\n",
       "      <td>NaN</td>\n",
       "      <td>20,000.00</td>\n",
       "      <td>NaN</td>\n",
       "      <td>150,000.00</td>\n",
       "      <td>12.00</td>\n",
       "      <td>NaN</td>\n",
       "      <td>NaN</td>\n",
       "      <td>NaN</td>\n",
       "      <td>NaN</td>\n",
       "      <td>0.00</td>\n",
       "      <td>99,998.00</td>\n",
       "      <td>NaN</td>\n",
       "    </tr>\n",
       "  </tbody>\n",
       "</table>\n",
       "</div>"
      ],
      "text/plain": [
       "               date_crawled      price vehicle_type  registration_year  \\\n",
       "count                354369 354,369.00       316879         354,369.00   \n",
       "unique               271174        NaN            8                NaN   \n",
       "top     2016-03-24 14:49:47        NaN        sedan                NaN   \n",
       "freq                      7        NaN        91457                NaN   \n",
       "mean                    NaN   4,416.66          NaN           2,004.23   \n",
       "std                     NaN   4,514.16          NaN              90.23   \n",
       "min                     NaN       0.00          NaN           1,000.00   \n",
       "25%                     NaN   1,050.00          NaN           1,999.00   \n",
       "50%                     NaN   2,700.00          NaN           2,003.00   \n",
       "75%                     NaN   6,400.00          NaN           2,008.00   \n",
       "max                     NaN  20,000.00          NaN           9,999.00   \n",
       "\n",
       "       gearbox      power   model  kilometer  registration_month fuel_type  \\\n",
       "count   334536 354,369.00  334664 354,369.00          354,369.00    321474   \n",
       "unique       2        NaN     250        NaN                 NaN         7   \n",
       "top     manual        NaN    golf        NaN                 NaN    petrol   \n",
       "freq    268251        NaN   29232        NaN                 NaN    216352   \n",
       "mean       NaN     110.09     NaN 128,211.17                5.71       NaN   \n",
       "std        NaN     189.85     NaN  37,905.34                3.73       NaN   \n",
       "min        NaN       0.00     NaN   5,000.00                0.00       NaN   \n",
       "25%        NaN      69.00     NaN 125,000.00                3.00       NaN   \n",
       "50%        NaN     105.00     NaN 150,000.00                6.00       NaN   \n",
       "75%        NaN     143.00     NaN 150,000.00                9.00       NaN   \n",
       "max        NaN  20,000.00     NaN 150,000.00               12.00       NaN   \n",
       "\n",
       "             brand repaired         date_created  number_of_pictures  \\\n",
       "count       354369   283215               354369          354,369.00   \n",
       "unique          40        2                  109                 NaN   \n",
       "top     volkswagen       no  2016-04-03 00:00:00                 NaN   \n",
       "freq         77013   247161                13719                 NaN   \n",
       "mean           NaN      NaN                  NaN                0.00   \n",
       "std            NaN      NaN                  NaN                0.00   \n",
       "min            NaN      NaN                  NaN                0.00   \n",
       "25%            NaN      NaN                  NaN                0.00   \n",
       "50%            NaN      NaN                  NaN                0.00   \n",
       "75%            NaN      NaN                  NaN                0.00   \n",
       "max            NaN      NaN                  NaN                0.00   \n",
       "\n",
       "        postal_code            last_seen  \n",
       "count    354,369.00               354369  \n",
       "unique          NaN               179150  \n",
       "top             NaN  2016-04-06 13:45:54  \n",
       "freq            NaN                   17  \n",
       "mean      50,508.69                  NaN  \n",
       "std       25,783.10                  NaN  \n",
       "min        1,067.00                  NaN  \n",
       "25%       30,165.00                  NaN  \n",
       "50%       49,413.00                  NaN  \n",
       "75%       71,083.00                  NaN  \n",
       "max       99,998.00                  NaN  "
      ]
     },
     "execution_count": 10,
     "metadata": {},
     "output_type": "execute_result"
    }
   ],
   "source": [
    "df.describe(include = \"all\")"
   ]
  },
  {
   "cell_type": "markdown",
   "id": "96b816bf",
   "metadata": {},
   "source": [
    "*Признаки*\n",
    "\n",
    "- `date_crawled` — дата скачивания анкеты из базы\n",
    "- `vehicle_type` — тип автомобильного кузова\n",
    "- `registration_year` — год регистрации автомобиля\n",
    "- `gearbox` — тип коробки передач\n",
    "- `power` — мощность (л. с.)\n",
    "- `model` — модель автомобиля\n",
    "- `kilometer` — пробег (км)\n",
    "- `registration_month` — месяц регистрации автомобиля\n",
    "- `fuel_type` — тип топлива\n",
    "- `brand` — марка автомобиля\n",
    "- `repaired` — была машина в ремонте или нет\n",
    "- `date_created` — дата создания анкеты\n",
    "- `number_of_pictures` — количество фотографий автомобиля\n",
    "- `postal_code` — почтовый индекс владельца анкеты (пользователя)\n",
    "- `last_seen` — дата последней активности пользователя\n",
    "\n",
    "*Целевой признак*\n",
    "\n",
    "- `price` — цена (евро)"
   ]
  },
  {
   "cell_type": "markdown",
   "id": "216158fb",
   "metadata": {},
   "source": [
    "**Выведем основную информацию о датафрейме с помощью метода `info()`.**"
   ]
  },
  {
   "cell_type": "code",
   "execution_count": 11,
   "id": "cf21cb6f",
   "metadata": {},
   "outputs": [
    {
     "name": "stdout",
     "output_type": "stream",
     "text": [
      "<class 'pandas.core.frame.DataFrame'>\n",
      "RangeIndex: 354369 entries, 0 to 354368\n",
      "Data columns (total 16 columns):\n",
      " #   Column              Non-Null Count   Dtype \n",
      "---  ------              --------------   ----- \n",
      " 0   date_crawled        354369 non-null  object\n",
      " 1   price               354369 non-null  int64 \n",
      " 2   vehicle_type        316879 non-null  object\n",
      " 3   registration_year   354369 non-null  int64 \n",
      " 4   gearbox             334536 non-null  object\n",
      " 5   power               354369 non-null  int64 \n",
      " 6   model               334664 non-null  object\n",
      " 7   kilometer           354369 non-null  int64 \n",
      " 8   registration_month  354369 non-null  int64 \n",
      " 9   fuel_type           321474 non-null  object\n",
      " 10  brand               354369 non-null  object\n",
      " 11  repaired            283215 non-null  object\n",
      " 12  date_created        354369 non-null  object\n",
      " 13  number_of_pictures  354369 non-null  int64 \n",
      " 14  postal_code         354369 non-null  int64 \n",
      " 15  last_seen           354369 non-null  object\n",
      "dtypes: int64(7), object(9)\n",
      "memory usage: 43.3+ MB\n"
     ]
    }
   ],
   "source": [
    "df.info()"
   ]
  },
  {
   "cell_type": "markdown",
   "id": "0dfaf5c2",
   "metadata": {},
   "source": [
    "**Выведем количество пропущенных значений для каждой колонки.**"
   ]
  },
  {
   "cell_type": "code",
   "execution_count": 12,
   "id": "da66b166",
   "metadata": {},
   "outputs": [
    {
     "data": {
      "text/html": [
       "<style  type=\"text/css\" >\n",
       "#T_a8f4d_row0_col0,#T_a8f4d_row1_col0,#T_a8f4d_row3_col0,#T_a8f4d_row5_col0,#T_a8f4d_row7_col0,#T_a8f4d_row8_col0,#T_a8f4d_row10_col0,#T_a8f4d_row12_col0,#T_a8f4d_row13_col0,#T_a8f4d_row14_col0,#T_a8f4d_row15_col0{\n",
       "            background-color:  #3b4cc0;\n",
       "            color:  #f1f1f1;\n",
       "        }#T_a8f4d_row2_col0{\n",
       "            background-color:  #e3d9d3;\n",
       "            color:  #000000;\n",
       "        }#T_a8f4d_row4_col0{\n",
       "            background-color:  #97b8ff;\n",
       "            color:  #000000;\n",
       "        }#T_a8f4d_row6_col0{\n",
       "            background-color:  #96b7ff;\n",
       "            color:  #000000;\n",
       "        }#T_a8f4d_row9_col0{\n",
       "            background-color:  #d3dbe7;\n",
       "            color:  #000000;\n",
       "        }#T_a8f4d_row11_col0{\n",
       "            background-color:  #b40426;\n",
       "            color:  #f1f1f1;\n",
       "        }</style><table id=\"T_a8f4d_\" ><thead>    <tr>        <th class=\"blank level0\" ></th>        <th class=\"col_heading level0 col0\" >0</th>    </tr></thead><tbody>\n",
       "                <tr>\n",
       "                        <th id=\"T_a8f4d_level0_row0\" class=\"row_heading level0 row0\" >date_crawled</th>\n",
       "                        <td id=\"T_a8f4d_row0_col0\" class=\"data row0 col0\" >0</td>\n",
       "            </tr>\n",
       "            <tr>\n",
       "                        <th id=\"T_a8f4d_level0_row1\" class=\"row_heading level0 row1\" >price</th>\n",
       "                        <td id=\"T_a8f4d_row1_col0\" class=\"data row1 col0\" >0</td>\n",
       "            </tr>\n",
       "            <tr>\n",
       "                        <th id=\"T_a8f4d_level0_row2\" class=\"row_heading level0 row2\" >vehicle_type</th>\n",
       "                        <td id=\"T_a8f4d_row2_col0\" class=\"data row2 col0\" >37490</td>\n",
       "            </tr>\n",
       "            <tr>\n",
       "                        <th id=\"T_a8f4d_level0_row3\" class=\"row_heading level0 row3\" >registration_year</th>\n",
       "                        <td id=\"T_a8f4d_row3_col0\" class=\"data row3 col0\" >0</td>\n",
       "            </tr>\n",
       "            <tr>\n",
       "                        <th id=\"T_a8f4d_level0_row4\" class=\"row_heading level0 row4\" >gearbox</th>\n",
       "                        <td id=\"T_a8f4d_row4_col0\" class=\"data row4 col0\" >19833</td>\n",
       "            </tr>\n",
       "            <tr>\n",
       "                        <th id=\"T_a8f4d_level0_row5\" class=\"row_heading level0 row5\" >power</th>\n",
       "                        <td id=\"T_a8f4d_row5_col0\" class=\"data row5 col0\" >0</td>\n",
       "            </tr>\n",
       "            <tr>\n",
       "                        <th id=\"T_a8f4d_level0_row6\" class=\"row_heading level0 row6\" >model</th>\n",
       "                        <td id=\"T_a8f4d_row6_col0\" class=\"data row6 col0\" >19705</td>\n",
       "            </tr>\n",
       "            <tr>\n",
       "                        <th id=\"T_a8f4d_level0_row7\" class=\"row_heading level0 row7\" >kilometer</th>\n",
       "                        <td id=\"T_a8f4d_row7_col0\" class=\"data row7 col0\" >0</td>\n",
       "            </tr>\n",
       "            <tr>\n",
       "                        <th id=\"T_a8f4d_level0_row8\" class=\"row_heading level0 row8\" >registration_month</th>\n",
       "                        <td id=\"T_a8f4d_row8_col0\" class=\"data row8 col0\" >0</td>\n",
       "            </tr>\n",
       "            <tr>\n",
       "                        <th id=\"T_a8f4d_level0_row9\" class=\"row_heading level0 row9\" >fuel_type</th>\n",
       "                        <td id=\"T_a8f4d_row9_col0\" class=\"data row9 col0\" >32895</td>\n",
       "            </tr>\n",
       "            <tr>\n",
       "                        <th id=\"T_a8f4d_level0_row10\" class=\"row_heading level0 row10\" >brand</th>\n",
       "                        <td id=\"T_a8f4d_row10_col0\" class=\"data row10 col0\" >0</td>\n",
       "            </tr>\n",
       "            <tr>\n",
       "                        <th id=\"T_a8f4d_level0_row11\" class=\"row_heading level0 row11\" >repaired</th>\n",
       "                        <td id=\"T_a8f4d_row11_col0\" class=\"data row11 col0\" >71154</td>\n",
       "            </tr>\n",
       "            <tr>\n",
       "                        <th id=\"T_a8f4d_level0_row12\" class=\"row_heading level0 row12\" >date_created</th>\n",
       "                        <td id=\"T_a8f4d_row12_col0\" class=\"data row12 col0\" >0</td>\n",
       "            </tr>\n",
       "            <tr>\n",
       "                        <th id=\"T_a8f4d_level0_row13\" class=\"row_heading level0 row13\" >number_of_pictures</th>\n",
       "                        <td id=\"T_a8f4d_row13_col0\" class=\"data row13 col0\" >0</td>\n",
       "            </tr>\n",
       "            <tr>\n",
       "                        <th id=\"T_a8f4d_level0_row14\" class=\"row_heading level0 row14\" >postal_code</th>\n",
       "                        <td id=\"T_a8f4d_row14_col0\" class=\"data row14 col0\" >0</td>\n",
       "            </tr>\n",
       "            <tr>\n",
       "                        <th id=\"T_a8f4d_level0_row15\" class=\"row_heading level0 row15\" >last_seen</th>\n",
       "                        <td id=\"T_a8f4d_row15_col0\" class=\"data row15 col0\" >0</td>\n",
       "            </tr>\n",
       "    </tbody></table>"
      ],
      "text/plain": [
       "<pandas.io.formats.style.Styler at 0x7fc01cf85b20>"
      ]
     },
     "execution_count": 12,
     "metadata": {},
     "output_type": "execute_result"
    }
   ],
   "source": [
    "pd.DataFrame(df.isna().sum()).style.background_gradient('coolwarm')"
   ]
  },
  {
   "cell_type": "markdown",
   "id": "c713d3bb",
   "metadata": {},
   "source": [
    "**Выведем пропущенные значения в процентном соотношении.**"
   ]
  },
  {
   "cell_type": "code",
   "execution_count": 13,
   "id": "b9628c22",
   "metadata": {},
   "outputs": [
    {
     "data": {
      "text/html": [
       "<style  type=\"text/css\" >\n",
       "#T_bbfcb_row0_col0,#T_bbfcb_row1_col0,#T_bbfcb_row3_col0,#T_bbfcb_row5_col0,#T_bbfcb_row7_col0,#T_bbfcb_row8_col0,#T_bbfcb_row10_col0,#T_bbfcb_row12_col0,#T_bbfcb_row13_col0,#T_bbfcb_row14_col0,#T_bbfcb_row15_col0{\n",
       "            background-color:  #3b4cc0;\n",
       "            color:  #f1f1f1;\n",
       "        }#T_bbfcb_row2_col0{\n",
       "            background-color:  #e3d9d3;\n",
       "            color:  #000000;\n",
       "        }#T_bbfcb_row4_col0{\n",
       "            background-color:  #97b8ff;\n",
       "            color:  #000000;\n",
       "        }#T_bbfcb_row6_col0{\n",
       "            background-color:  #96b7ff;\n",
       "            color:  #000000;\n",
       "        }#T_bbfcb_row9_col0{\n",
       "            background-color:  #d3dbe7;\n",
       "            color:  #000000;\n",
       "        }#T_bbfcb_row11_col0{\n",
       "            background-color:  #b40426;\n",
       "            color:  #f1f1f1;\n",
       "        }</style><table id=\"T_bbfcb_\" ><thead>    <tr>        <th class=\"blank level0\" ></th>        <th class=\"col_heading level0 col0\" >0</th>    </tr></thead><tbody>\n",
       "                <tr>\n",
       "                        <th id=\"T_bbfcb_level0_row0\" class=\"row_heading level0 row0\" >date_crawled</th>\n",
       "                        <td id=\"T_bbfcb_row0_col0\" class=\"data row0 col0\" >0.00%</td>\n",
       "            </tr>\n",
       "            <tr>\n",
       "                        <th id=\"T_bbfcb_level0_row1\" class=\"row_heading level0 row1\" >price</th>\n",
       "                        <td id=\"T_bbfcb_row1_col0\" class=\"data row1 col0\" >0.00%</td>\n",
       "            </tr>\n",
       "            <tr>\n",
       "                        <th id=\"T_bbfcb_level0_row2\" class=\"row_heading level0 row2\" >vehicle_type</th>\n",
       "                        <td id=\"T_bbfcb_row2_col0\" class=\"data row2 col0\" >10.58%</td>\n",
       "            </tr>\n",
       "            <tr>\n",
       "                        <th id=\"T_bbfcb_level0_row3\" class=\"row_heading level0 row3\" >registration_year</th>\n",
       "                        <td id=\"T_bbfcb_row3_col0\" class=\"data row3 col0\" >0.00%</td>\n",
       "            </tr>\n",
       "            <tr>\n",
       "                        <th id=\"T_bbfcb_level0_row4\" class=\"row_heading level0 row4\" >gearbox</th>\n",
       "                        <td id=\"T_bbfcb_row4_col0\" class=\"data row4 col0\" >5.60%</td>\n",
       "            </tr>\n",
       "            <tr>\n",
       "                        <th id=\"T_bbfcb_level0_row5\" class=\"row_heading level0 row5\" >power</th>\n",
       "                        <td id=\"T_bbfcb_row5_col0\" class=\"data row5 col0\" >0.00%</td>\n",
       "            </tr>\n",
       "            <tr>\n",
       "                        <th id=\"T_bbfcb_level0_row6\" class=\"row_heading level0 row6\" >model</th>\n",
       "                        <td id=\"T_bbfcb_row6_col0\" class=\"data row6 col0\" >5.56%</td>\n",
       "            </tr>\n",
       "            <tr>\n",
       "                        <th id=\"T_bbfcb_level0_row7\" class=\"row_heading level0 row7\" >kilometer</th>\n",
       "                        <td id=\"T_bbfcb_row7_col0\" class=\"data row7 col0\" >0.00%</td>\n",
       "            </tr>\n",
       "            <tr>\n",
       "                        <th id=\"T_bbfcb_level0_row8\" class=\"row_heading level0 row8\" >registration_month</th>\n",
       "                        <td id=\"T_bbfcb_row8_col0\" class=\"data row8 col0\" >0.00%</td>\n",
       "            </tr>\n",
       "            <tr>\n",
       "                        <th id=\"T_bbfcb_level0_row9\" class=\"row_heading level0 row9\" >fuel_type</th>\n",
       "                        <td id=\"T_bbfcb_row9_col0\" class=\"data row9 col0\" >9.28%</td>\n",
       "            </tr>\n",
       "            <tr>\n",
       "                        <th id=\"T_bbfcb_level0_row10\" class=\"row_heading level0 row10\" >brand</th>\n",
       "                        <td id=\"T_bbfcb_row10_col0\" class=\"data row10 col0\" >0.00%</td>\n",
       "            </tr>\n",
       "            <tr>\n",
       "                        <th id=\"T_bbfcb_level0_row11\" class=\"row_heading level0 row11\" >repaired</th>\n",
       "                        <td id=\"T_bbfcb_row11_col0\" class=\"data row11 col0\" >20.08%</td>\n",
       "            </tr>\n",
       "            <tr>\n",
       "                        <th id=\"T_bbfcb_level0_row12\" class=\"row_heading level0 row12\" >date_created</th>\n",
       "                        <td id=\"T_bbfcb_row12_col0\" class=\"data row12 col0\" >0.00%</td>\n",
       "            </tr>\n",
       "            <tr>\n",
       "                        <th id=\"T_bbfcb_level0_row13\" class=\"row_heading level0 row13\" >number_of_pictures</th>\n",
       "                        <td id=\"T_bbfcb_row13_col0\" class=\"data row13 col0\" >0.00%</td>\n",
       "            </tr>\n",
       "            <tr>\n",
       "                        <th id=\"T_bbfcb_level0_row14\" class=\"row_heading level0 row14\" >postal_code</th>\n",
       "                        <td id=\"T_bbfcb_row14_col0\" class=\"data row14 col0\" >0.00%</td>\n",
       "            </tr>\n",
       "            <tr>\n",
       "                        <th id=\"T_bbfcb_level0_row15\" class=\"row_heading level0 row15\" >last_seen</th>\n",
       "                        <td id=\"T_bbfcb_row15_col0\" class=\"data row15 col0\" >0.00%</td>\n",
       "            </tr>\n",
       "    </tbody></table>"
      ],
      "text/plain": [
       "<pandas.io.formats.style.Styler at 0x7fc00b459eb0>"
      ]
     },
     "execution_count": 13,
     "metadata": {},
     "output_type": "execute_result"
    }
   ],
   "source": [
    "pd.DataFrame(df.isna().mean()).style.format(\"{:.2%}\").background_gradient('coolwarm')"
   ]
  },
  {
   "cell_type": "markdown",
   "id": "df8add0c",
   "metadata": {},
   "source": [
    "**Проверим дубликаты.**"
   ]
  },
  {
   "cell_type": "code",
   "execution_count": 14,
   "id": "506dc3e3",
   "metadata": {
    "scrolled": true
   },
   "outputs": [
    {
     "data": {
      "text/plain": [
       "4"
      ]
     },
     "execution_count": 14,
     "metadata": {},
     "output_type": "execute_result"
    }
   ],
   "source": [
    "df.duplicated().sum()"
   ]
  },
  {
   "cell_type": "markdown",
   "id": "e6cf9204",
   "metadata": {},
   "source": [
    "**Выявлены следующие проблемы:**\n",
    "\n",
    ">1. Привести обозначения признаков на латиницу и к \"змеиному\" регистру;\n",
    ">2. В признаках `date_crawled`, `date_created`, `last_seen`, тип значений `object` следует изменить на `datetime64`;\n",
    ">3. Определить и переместить данные признаков, которые не будут использоваться для обучения модели, в отдельный датафрейм `df_client_info`.\n",
    ">4. Необходимо преобразовать категориальные признаки `vehicle_type`, `gearbox`, `model`, `fuel_type`, `brand`, `repaired` в численные.\n",
    ">5. В признаках `vehicle_type`, `gearbox`, `model`, `fuel_type`, `repaired` следует избавится от пропусков;\n",
    ">6. Избавится от дубликатов."
   ]
  },
  {
   "cell_type": "markdown",
   "id": "3e5542ff",
   "metadata": {},
   "source": [
    "### Работа с вторичными признаками"
   ]
  },
  {
   "cell_type": "markdown",
   "id": "5b73036a",
   "metadata": {},
   "source": [
    "**Изменим тип значений `object` на `datetime64` в признаках `date_crawled`, `date_created`, `last_seen`.**"
   ]
  },
  {
   "cell_type": "code",
   "execution_count": 15,
   "id": "1bfc875a",
   "metadata": {},
   "outputs": [],
   "source": [
    "df['date_crawled'] = pd.to_datetime(df['date_crawled'], format='%Y-%m-%d %H:%M:%S')"
   ]
  },
  {
   "cell_type": "code",
   "execution_count": 16,
   "id": "105f4f09",
   "metadata": {},
   "outputs": [],
   "source": [
    "df['date_created'] = pd.to_datetime(df['date_created'], format='%Y-%m-%d %H:%M:%S')"
   ]
  },
  {
   "cell_type": "code",
   "execution_count": 17,
   "id": "4482939f",
   "metadata": {},
   "outputs": [],
   "source": [
    "df['last_seen'] = pd.to_datetime(df['last_seen'], format='%Y-%m-%d %H:%M:%S')"
   ]
  },
  {
   "cell_type": "markdown",
   "id": "87ef86fa",
   "metadata": {},
   "source": [
    "**Определим те столбцы, которые не потребуются при обучении моделей:**\n",
    "\n",
    "- `date_crawled`\n",
    "- `date_created`\n",
    "- `registration_month`\n",
    "- `number_of_pictures`\n",
    "- `postal_code`\n",
    "- `last_seen`"
   ]
  },
  {
   "cell_type": "markdown",
   "id": "b834ec8e",
   "metadata": {},
   "source": [
    "**Переместим данные признаков, определенных свыше, в датафрейм `df_client_info`.**"
   ]
  },
  {
   "cell_type": "code",
   "execution_count": 18,
   "id": "515d20d0",
   "metadata": {},
   "outputs": [],
   "source": [
    "df_client_info = df[['date_crawled', 'date_created', 'registration_month', 'number_of_pictures', 'postal_code', 'last_seen']]"
   ]
  },
  {
   "cell_type": "code",
   "execution_count": 19,
   "id": "d501b950",
   "metadata": {},
   "outputs": [],
   "source": [
    "df = df.drop(columns=['date_crawled', 'date_created', 'registration_month', 'number_of_pictures', 'postal_code', 'last_seen'])"
   ]
  },
  {
   "cell_type": "markdown",
   "id": "ba088698",
   "metadata": {},
   "source": [
    "### Работа с пропусками"
   ]
  },
  {
   "cell_type": "markdown",
   "id": "076cce81",
   "metadata": {},
   "source": [
    "**Избавимся от пропусков в признаках `vehicle_type`, `gearbox`, `model`, `fuel_type`, `repaired`.**"
   ]
  },
  {
   "cell_type": "markdown",
   "id": "6dd0d54e",
   "metadata": {},
   "source": [
    "**Признак `model` является одним из основных. Пропущено `5,56%` данных в этом признаке. Возможность восстановить корректно нет, удалим пропуски.**"
   ]
  },
  {
   "cell_type": "code",
   "execution_count": 20,
   "id": "6bc304c9",
   "metadata": {},
   "outputs": [],
   "source": [
    "df = df.loc[~df['model'].isna()]"
   ]
  },
  {
   "cell_type": "markdown",
   "id": "683d3400",
   "metadata": {},
   "source": [
    "**Скорее всего, пропуски в столбце `repaired` означают отсутствие ремонта (т.е. `no`).**"
   ]
  },
  {
   "cell_type": "code",
   "execution_count": 21,
   "id": "290d4440",
   "metadata": {},
   "outputs": [],
   "source": [
    "df['repaired'] = df['repaired'].fillna('no')"
   ]
  },
  {
   "cell_type": "markdown",
   "id": "5a5c33fa",
   "metadata": {},
   "source": [
    "**В признаках `vehicle_type`, `gearbox`, `fuel_type` заполним пропуски в данных наиболее частым значением той же модели.**"
   ]
  },
  {
   "cell_type": "code",
   "execution_count": 22,
   "id": "fab5a7c1",
   "metadata": {},
   "outputs": [],
   "source": [
    "df['vehicle_type'] = df['vehicle_type'].fillna(df.groupby('model')['vehicle_type']\n",
    "                                               .transform(lambda x: x.value_counts().idxmax()))"
   ]
  },
  {
   "cell_type": "code",
   "execution_count": 23,
   "id": "72fce256",
   "metadata": {},
   "outputs": [],
   "source": [
    "df['gearbox'] = df['gearbox'].fillna(df.groupby('model')['gearbox']\n",
    "                                     .transform(lambda x: x.value_counts().idxmax()))"
   ]
  },
  {
   "cell_type": "code",
   "execution_count": 24,
   "id": "0572e70c",
   "metadata": {},
   "outputs": [],
   "source": [
    "df['fuel_type'] = df['fuel_type'].fillna(df.groupby('model')['fuel_type']\n",
    "                                         .transform(lambda x: x.value_counts().idxmax()))"
   ]
  },
  {
   "cell_type": "markdown",
   "id": "517871e3",
   "metadata": {},
   "source": [
    "### Работа с графиками"
   ]
  },
  {
   "cell_type": "markdown",
   "id": "1af3dc58",
   "metadata": {},
   "source": [
    "**Посмотрим на распределения категориальных признаков `vehicle_type`, `gearbox`, `model`, `fuel_type`, `brand`, `repaired`.**"
   ]
  },
  {
   "cell_type": "code",
   "execution_count": 25,
   "id": "f8a02f15",
   "metadata": {},
   "outputs": [],
   "source": [
    "def countplot_categories(data, x, xlabel=None, ylabel=None, title=None, suptitle=None, nrows=1, ncols=1, hue=None, rotation=0, figsize=(3 , 3)):\n",
    "    \n",
    "    plt.figure(figsize=figsize)\n",
    "    \n",
    "    for i in enumerate(x):\n",
    "        plt.subplot(nrows, ncols, i[0] + 1)\n",
    "        plt.subplots_adjust(wspace=0.1, hspace=0.4)\n",
    "        sns.countplot(data=data, x=i[1])\n",
    "        plt.xlabel(i[1])\n",
    "        plt.ylabel(ylabel)\n",
    "        plt.title(title[i[1]], fontsize=18, pad=10)\n",
    "        plt.xticks(rotation=rotation)\n",
    "\n",
    "    plt.suptitle(suptitle, fontsize=22)\n",
    "    plt.show()"
   ]
  },
  {
   "cell_type": "code",
   "execution_count": 26,
   "id": "9c176551",
   "metadata": {},
   "outputs": [
    {
     "data": {
      "image/png": "[encoded data removed]",
      "text/plain": [
       "<Figure size 3000x2000 with 2 Axes>"
      ]
     },
     "metadata": {},
     "output_type": "display_data"
    }
   ],
   "source": [
    "categories = ['model', 'brand']\n",
    "\n",
    "countplot_categories(data=df,\n",
    "                     x=categories,\n",
    "                     xlabel=None,\n",
    "                     ylabel=None,\n",
    "                     title={'model': 'модель автомобиля',\n",
    "                            'brand': 'марка автомобиля',},\n",
    "                     suptitle=(f'Распределения признаков: {categories}'),\n",
    "                     nrows=2,\n",
    "                     ncols=1,\n",
    "                     rotation=90,\n",
    "                     figsize=(30, 20))"
   ]
  },
  {
   "cell_type": "code",
   "execution_count": 27,
   "id": "b27f1208",
   "metadata": {},
   "outputs": [
    {
     "data": {
      "image/png": "[encoded data removed]",
      "text/plain": [
       "<Figure size 2000x1500 with 4 Axes>"
      ]
     },
     "metadata": {},
     "output_type": "display_data"
    }
   ],
   "source": [
    "categories = ['vehicle_type', 'gearbox', 'fuel_type', 'repaired']\n",
    "\n",
    "countplot_categories(data=df,\n",
    "                     x=categories,\n",
    "                     xlabel=None,\n",
    "                     ylabel=None,\n",
    "                     title={'vehicle_type': 'тип автомобильного кузова',\n",
    "                            'gearbox': 'тип коробки передач',\n",
    "                            'fuel_type': 'тип топлива',\n",
    "                            'repaired': 'была машина в ремонте или нет'},\n",
    "                     suptitle=(f'Распределения признаков: {categories}'),\n",
    "                     nrows=2,\n",
    "                     ncols=2,\n",
    "                     rotation=0,\n",
    "                     figsize=(20, 15))"
   ]
  },
  {
   "cell_type": "code",
   "execution_count": 28,
   "id": "571f85f8",
   "metadata": {},
   "outputs": [],
   "source": [
    "df.loc[((df['model'] == 'range_rover_evoque') | \n",
    "        (df['model'] == 'range_rover_sport') | \n",
    "        (df['model'] == 'rangerover')), \n",
    "       'model'] = 'range_rover'"
   ]
  },
  {
   "cell_type": "markdown",
   "id": "e08fa7e7",
   "metadata": {},
   "source": [
    "**Выводы изучения распределения категориальных признаков:**\n",
    "\n",
    ">1. Значимых аномалий в распределении данных - нет;\n",
    ">2. Во всех представленных категориальных признаках имеется дисбаланс классов. Возможно необходимо будет применить Upsampling и Downsampling для борьбы с дисбанасом."
   ]
  },
  {
   "cell_type": "markdown",
   "id": "e7f755b0",
   "metadata": {},
   "source": [
    "**Посмотрим на распределения числовых признаков `price`, `registration_year`, `power`, `kilometer`.**"
   ]
  },
  {
   "cell_type": "code",
   "execution_count": 29,
   "id": "7baadc4d",
   "metadata": {},
   "outputs": [],
   "source": [
    "def histplot_numeric(data, x, xlabel=None, ylabel=None, title=None, suptitle=None, nrows=1, ncols=1, hue=None, figsize=(3 , 3)):\n",
    "    \n",
    "    plt.figure(figsize=figsize)\n",
    "    \n",
    "    for i in enumerate(x):\n",
    "        plt.subplot(nrows, ncols, i[0] + 1)\n",
    "        plt.subplots_adjust(wspace=0.1, hspace=0.6)\n",
    "        sns.histplot(x=data[i[1]])\n",
    "        plt.xlabel(i[1])\n",
    "        plt.ylabel(ylabel)\n",
    "        plt.title(title[i[1]], fontsize=18, pad=10)\n",
    "        plt.xticks(rotation=0)\n",
    "\n",
    "    plt.suptitle(suptitle, fontsize=22)\n",
    "    plt.show()"
   ]
  },
  {
   "cell_type": "code",
   "execution_count": 30,
   "id": "17b5a807",
   "metadata": {},
   "outputs": [
    {
     "data": {
      "image/png": "[encoded data removed]",
      "text/plain": [
       "<Figure size 2000x1500 with 4 Axes>"
      ]
     },
     "metadata": {},
     "output_type": "display_data"
    }
   ],
   "source": [
    "numeric = ['price', 'registration_year', 'power', 'kilometer']\n",
    "\n",
    "histplot_numeric(data=df,\n",
    "                 x=numeric,\n",
    "                 xlabel=None,\n",
    "                 ylabel=None,\n",
    "                 title={'price': 'цена (евро)',\n",
    "                        'registration_year': 'год регистрации автомобиля',\n",
    "                        'power': 'мощность (л. с.)',\n",
    "                        'kilometer': 'пробег (км)'},\n",
    "                 suptitle=(f'Распределения признаков: {numeric}'),\n",
    "                 nrows=2,\n",
    "                 ncols=2,\n",
    "                 figsize=(20, 15))"
   ]
  },
  {
   "cell_type": "code",
   "execution_count": 31,
   "id": "0667c13e",
   "metadata": {},
   "outputs": [],
   "source": [
    "def boxplot_numeric(data, x, xlabel=None, ylabel=None, title=None, suptitle=None, nrows=1, ncols=1, hue=None, figsize=(3 , 3)):\n",
    "    \n",
    "    plt.figure(figsize=figsize)\n",
    "    \n",
    "    for i in enumerate(x):\n",
    "        plt.subplot(nrows, ncols, i[0] + 1)\n",
    "        plt.subplots_adjust(wspace=0.1, hspace=0.6)\n",
    "        sns.boxplot(x=data[i[1]])\n",
    "        plt.xlabel(i[1])\n",
    "        plt.ylabel(ylabel)\n",
    "        plt.title(title[i[1]], fontsize=18, pad=10)\n",
    "        plt.xticks(rotation=0)\n",
    "\n",
    "    plt.suptitle(suptitle, fontsize=22)\n",
    "    plt.show()"
   ]
  },
  {
   "cell_type": "code",
   "execution_count": 32,
   "id": "4a11d519",
   "metadata": {
    "scrolled": false
   },
   "outputs": [
    {
     "data": {
      "image/png": "[encoded data removed]",
      "text/plain": [
       "<Figure size 2000x1500 with 4 Axes>"
      ]
     },
     "metadata": {},
     "output_type": "display_data"
    }
   ],
   "source": [
    "numeric = ['price', 'registration_year', 'power', 'kilometer']\n",
    "\n",
    "boxplot_numeric(data=df,\n",
    "                x=numeric,\n",
    "                xlabel=None,\n",
    "                ylabel=None,\n",
    "                title={'price': 'цена (евро)',\n",
    "                       'registration_year': 'год регистрации автомобиля',\n",
    "                       'power': 'мощность (л. с.)',\n",
    "                       'kilometer': 'пробег (км)'},\n",
    "                suptitle=(f'Распределения признаков: {numeric}'),\n",
    "                nrows=4,\n",
    "                ncols=1,\n",
    "                figsize=(20, 15))"
   ]
  },
  {
   "cell_type": "markdown",
   "id": "7eed718b",
   "metadata": {},
   "source": [
    "**Выводы изучения распределения числовых признаков:**\n",
    "\n",
    ">1. В признаке `registration_year` обнаружены выбросы аномальных значений. Необходимо ограничить диапазон значений между `1950` и `2023` годом.\n",
    ">2. В признаке `power`  обнаружены выбросы аномальных значений. Необходимо ограничить диапазон значений между `30` и `1500` л.с.\n",
    ">2. В признаке `price`  обнаружены нулевые значения. Необходимо ограничить диапазон значений от `10` евро.\n",
    ">3. В признаке`kilometer` данные распредены нормально. Аномалий не обнаружено."
   ]
  },
  {
   "cell_type": "markdown",
   "id": "c6743859",
   "metadata": {},
   "source": [
    "**В признаке `registration_year` удалим значения меньше `1970` и больше `2023` года.**"
   ]
  },
  {
   "cell_type": "code",
   "execution_count": 33,
   "id": "5f581114",
   "metadata": {},
   "outputs": [
    {
     "data": {
      "text/plain": [
       "852"
      ]
     },
     "execution_count": 33,
     "metadata": {},
     "output_type": "execute_result"
    }
   ],
   "source": [
    "df.query('registration_year < 1970').shape[0]"
   ]
  },
  {
   "cell_type": "code",
   "execution_count": 34,
   "id": "e7b00b32",
   "metadata": {
    "scrolled": true
   },
   "outputs": [
    {
     "data": {
      "text/plain": [
       "12483"
      ]
     },
     "execution_count": 34,
     "metadata": {},
     "output_type": "execute_result"
    }
   ],
   "source": [
    "df.query('registration_year > 2016').shape[0]"
   ]
  },
  {
   "cell_type": "code",
   "execution_count": 35,
   "id": "ab129426",
   "metadata": {},
   "outputs": [
    {
     "data": {
      "text/html": [
       "<div>\n",
       "<style scoped>\n",
       "    .dataframe tbody tr th:only-of-type {\n",
       "        vertical-align: middle;\n",
       "    }\n",
       "\n",
       "    .dataframe tbody tr th {\n",
       "        vertical-align: top;\n",
       "    }\n",
       "\n",
       "    .dataframe thead th {\n",
       "        text-align: right;\n",
       "    }\n",
       "</style>\n",
       "<table border=\"1\" class=\"dataframe\">\n",
       "  <thead>\n",
       "    <tr style=\"text-align: right;\">\n",
       "      <th></th>\n",
       "      <th>price</th>\n",
       "      <th>vehicle_type</th>\n",
       "      <th>registration_year</th>\n",
       "      <th>gearbox</th>\n",
       "      <th>power</th>\n",
       "      <th>model</th>\n",
       "      <th>kilometer</th>\n",
       "      <th>fuel_type</th>\n",
       "      <th>brand</th>\n",
       "      <th>repaired</th>\n",
       "    </tr>\n",
       "  </thead>\n",
       "  <tbody>\n",
       "    <tr>\n",
       "      <th>0</th>\n",
       "      <td>480</td>\n",
       "      <td>sedan</td>\n",
       "      <td>1993</td>\n",
       "      <td>manual</td>\n",
       "      <td>0</td>\n",
       "      <td>golf</td>\n",
       "      <td>150000</td>\n",
       "      <td>petrol</td>\n",
       "      <td>volkswagen</td>\n",
       "      <td>no</td>\n",
       "    </tr>\n",
       "    <tr>\n",
       "      <th>2</th>\n",
       "      <td>9800</td>\n",
       "      <td>suv</td>\n",
       "      <td>2004</td>\n",
       "      <td>auto</td>\n",
       "      <td>163</td>\n",
       "      <td>grand</td>\n",
       "      <td>125000</td>\n",
       "      <td>gasoline</td>\n",
       "      <td>jeep</td>\n",
       "      <td>no</td>\n",
       "    </tr>\n",
       "    <tr>\n",
       "      <th>3</th>\n",
       "      <td>1500</td>\n",
       "      <td>small</td>\n",
       "      <td>2001</td>\n",
       "      <td>manual</td>\n",
       "      <td>75</td>\n",
       "      <td>golf</td>\n",
       "      <td>150000</td>\n",
       "      <td>petrol</td>\n",
       "      <td>volkswagen</td>\n",
       "      <td>no</td>\n",
       "    </tr>\n",
       "    <tr>\n",
       "      <th>4</th>\n",
       "      <td>3600</td>\n",
       "      <td>small</td>\n",
       "      <td>2008</td>\n",
       "      <td>manual</td>\n",
       "      <td>69</td>\n",
       "      <td>fabia</td>\n",
       "      <td>90000</td>\n",
       "      <td>gasoline</td>\n",
       "      <td>skoda</td>\n",
       "      <td>no</td>\n",
       "    </tr>\n",
       "    <tr>\n",
       "      <th>5</th>\n",
       "      <td>650</td>\n",
       "      <td>sedan</td>\n",
       "      <td>1995</td>\n",
       "      <td>manual</td>\n",
       "      <td>102</td>\n",
       "      <td>3er</td>\n",
       "      <td>150000</td>\n",
       "      <td>petrol</td>\n",
       "      <td>bmw</td>\n",
       "      <td>yes</td>\n",
       "    </tr>\n",
       "    <tr>\n",
       "      <th>...</th>\n",
       "      <td>...</td>\n",
       "      <td>...</td>\n",
       "      <td>...</td>\n",
       "      <td>...</td>\n",
       "      <td>...</td>\n",
       "      <td>...</td>\n",
       "      <td>...</td>\n",
       "      <td>...</td>\n",
       "      <td>...</td>\n",
       "      <td>...</td>\n",
       "    </tr>\n",
       "    <tr>\n",
       "      <th>354363</th>\n",
       "      <td>1150</td>\n",
       "      <td>bus</td>\n",
       "      <td>2000</td>\n",
       "      <td>manual</td>\n",
       "      <td>0</td>\n",
       "      <td>zafira</td>\n",
       "      <td>150000</td>\n",
       "      <td>petrol</td>\n",
       "      <td>opel</td>\n",
       "      <td>no</td>\n",
       "    </tr>\n",
       "    <tr>\n",
       "      <th>354364</th>\n",
       "      <td>0</td>\n",
       "      <td>sedan</td>\n",
       "      <td>2005</td>\n",
       "      <td>manual</td>\n",
       "      <td>0</td>\n",
       "      <td>colt</td>\n",
       "      <td>150000</td>\n",
       "      <td>petrol</td>\n",
       "      <td>mitsubishi</td>\n",
       "      <td>yes</td>\n",
       "    </tr>\n",
       "    <tr>\n",
       "      <th>354366</th>\n",
       "      <td>1199</td>\n",
       "      <td>convertible</td>\n",
       "      <td>2000</td>\n",
       "      <td>auto</td>\n",
       "      <td>101</td>\n",
       "      <td>fortwo</td>\n",
       "      <td>125000</td>\n",
       "      <td>petrol</td>\n",
       "      <td>smart</td>\n",
       "      <td>no</td>\n",
       "    </tr>\n",
       "    <tr>\n",
       "      <th>354367</th>\n",
       "      <td>9200</td>\n",
       "      <td>bus</td>\n",
       "      <td>1996</td>\n",
       "      <td>manual</td>\n",
       "      <td>102</td>\n",
       "      <td>transporter</td>\n",
       "      <td>150000</td>\n",
       "      <td>gasoline</td>\n",
       "      <td>volkswagen</td>\n",
       "      <td>no</td>\n",
       "    </tr>\n",
       "    <tr>\n",
       "      <th>354368</th>\n",
       "      <td>3400</td>\n",
       "      <td>wagon</td>\n",
       "      <td>2002</td>\n",
       "      <td>manual</td>\n",
       "      <td>100</td>\n",
       "      <td>golf</td>\n",
       "      <td>150000</td>\n",
       "      <td>gasoline</td>\n",
       "      <td>volkswagen</td>\n",
       "      <td>no</td>\n",
       "    </tr>\n",
       "  </tbody>\n",
       "</table>\n",
       "<p>334664 rows × 10 columns</p>\n",
       "</div>"
      ],
      "text/plain": [
       "        price vehicle_type  registration_year gearbox  power        model  \\\n",
       "0         480        sedan               1993  manual      0         golf   \n",
       "2        9800          suv               2004    auto    163        grand   \n",
       "3        1500        small               2001  manual     75         golf   \n",
       "4        3600        small               2008  manual     69        fabia   \n",
       "5         650        sedan               1995  manual    102          3er   \n",
       "...       ...          ...                ...     ...    ...          ...   \n",
       "354363   1150          bus               2000  manual      0       zafira   \n",
       "354364      0        sedan               2005  manual      0         colt   \n",
       "354366   1199  convertible               2000    auto    101       fortwo   \n",
       "354367   9200          bus               1996  manual    102  transporter   \n",
       "354368   3400        wagon               2002  manual    100         golf   \n",
       "\n",
       "        kilometer fuel_type       brand repaired  \n",
       "0          150000    petrol  volkswagen       no  \n",
       "2          125000  gasoline        jeep       no  \n",
       "3          150000    petrol  volkswagen       no  \n",
       "4           90000  gasoline       skoda       no  \n",
       "5          150000    petrol         bmw      yes  \n",
       "...           ...       ...         ...      ...  \n",
       "354363     150000    petrol        opel       no  \n",
       "354364     150000    petrol  mitsubishi      yes  \n",
       "354366     125000    petrol       smart       no  \n",
       "354367     150000  gasoline  volkswagen       no  \n",
       "354368     150000  gasoline  volkswagen       no  \n",
       "\n",
       "[334664 rows x 10 columns]"
      ]
     },
     "execution_count": 35,
     "metadata": {},
     "output_type": "execute_result"
    }
   ],
   "source": [
    "df"
   ]
  },
  {
   "cell_type": "code",
   "execution_count": 36,
   "id": "00c2cebf",
   "metadata": {},
   "outputs": [],
   "source": [
    "df.drop(df.loc[df['registration_year'] < 1970].index, inplace=True)"
   ]
  },
  {
   "cell_type": "code",
   "execution_count": 37,
   "id": "2f099eaf",
   "metadata": {},
   "outputs": [],
   "source": [
    "df.drop(df.loc[df['registration_year'] > 2016].index, inplace=True)"
   ]
  },
  {
   "cell_type": "markdown",
   "id": "ba8247bb",
   "metadata": {},
   "source": [
    "**В признаке `power` удалим значения меньше `30` и больше `500` л.с.**"
   ]
  },
  {
   "cell_type": "code",
   "execution_count": 38,
   "id": "0b325efa",
   "metadata": {},
   "outputs": [
    {
     "data": {
      "text/plain": [
       "31122"
      ]
     },
     "execution_count": 38,
     "metadata": {},
     "output_type": "execute_result"
    }
   ],
   "source": [
    "df.query('power < 30').shape[0]"
   ]
  },
  {
   "cell_type": "code",
   "execution_count": 39,
   "id": "e9219b1b",
   "metadata": {},
   "outputs": [
    {
     "data": {
      "text/plain": [
       "305"
      ]
     },
     "execution_count": 39,
     "metadata": {},
     "output_type": "execute_result"
    }
   ],
   "source": [
    "df.query('power > 600').shape[0]"
   ]
  },
  {
   "cell_type": "code",
   "execution_count": 40,
   "id": "ff872c22",
   "metadata": {},
   "outputs": [],
   "source": [
    "df.drop(df.loc[df['power'] < 30].index, inplace=True)"
   ]
  },
  {
   "cell_type": "code",
   "execution_count": 41,
   "id": "15178fa2",
   "metadata": {},
   "outputs": [],
   "source": [
    "df.drop(df.loc[df['power'] > 600].index, inplace=True)"
   ]
  },
  {
   "cell_type": "markdown",
   "id": "a3eb494a",
   "metadata": {},
   "source": [
    "**В признаке `price` удалим значения меньше `10` евро.**"
   ]
  },
  {
   "cell_type": "code",
   "execution_count": 42,
   "id": "2fc68f25",
   "metadata": {},
   "outputs": [
    {
     "data": {
      "text/plain": [
       "6128"
      ]
     },
     "execution_count": 42,
     "metadata": {},
     "output_type": "execute_result"
    }
   ],
   "source": [
    "df.query('price < 10').shape[0]"
   ]
  },
  {
   "cell_type": "code",
   "execution_count": 43,
   "id": "40509e18",
   "metadata": {},
   "outputs": [],
   "source": [
    "df.drop(df.loc[df['price'] < 10].index, inplace=True)"
   ]
  },
  {
   "cell_type": "markdown",
   "id": "cc0aed0b",
   "metadata": {},
   "source": [
    "**Посмотрим как изменились графики.**"
   ]
  },
  {
   "cell_type": "code",
   "execution_count": 44,
   "id": "0aa76898",
   "metadata": {},
   "outputs": [
    {
     "data": {
      "image/png": "[encoded data removed]",
      "text/plain": [
       "<Figure size 2000x1500 with 4 Axes>"
      ]
     },
     "metadata": {},
     "output_type": "display_data"
    }
   ],
   "source": [
    "numeric = ['price', 'registration_year', 'power', 'kilometer']\n",
    "\n",
    "histplot_numeric(data=df,\n",
    "                 x=numeric,\n",
    "                 xlabel=None,\n",
    "                 ylabel=None,\n",
    "                 title={'price': 'цена (евро)',\n",
    "                        'registration_year': 'год регистрации автомобиля',\n",
    "                        'power': 'мощность (л. с.)',\n",
    "                        'kilometer': 'пробег (км)'},\n",
    "                 suptitle=(f'Распределения признаков: {numeric}'),\n",
    "                 nrows=2,\n",
    "                 ncols=2,\n",
    "                 figsize=(20, 15))"
   ]
  },
  {
   "cell_type": "markdown",
   "id": "b7bc5a5b",
   "metadata": {},
   "source": [
    "**Матрица корреляций:**"
   ]
  },
  {
   "cell_type": "code",
   "execution_count": 45,
   "id": "9c69fb7d",
   "metadata": {},
   "outputs": [
    {
     "data": {
      "image/png": "[encoded data removed]",
      "text/plain": [
       "<Figure size 600x500 with 2 Axes>"
      ]
     },
     "metadata": {},
     "output_type": "display_data"
    }
   ],
   "source": [
    "plt.figure(figsize=(6, 5))\n",
    "\n",
    "sns.set(font_scale=1.4)\n",
    "\n",
    "corr_matrix = df.corr()\n",
    "corr_matrix = np.round(corr_matrix, 2)\n",
    "corr_matrix[np.abs(corr_matrix) < 0.3] = 0\n",
    "\n",
    "sns.heatmap(corr_matrix, annot=True, linewidths=.5, cmap='viridis')\n",
    "\n",
    "plt.title('Матрица корреляций', fontsize=18, pad=15)\n",
    "plt.show()"
   ]
  },
  {
   "cell_type": "markdown",
   "id": "e8a49a00",
   "metadata": {},
   "source": [
    "**Видим `среднюю положительную корреляцию` признаков `price` и `registration_year`, `power`.**  \n",
    "**А также `среднюю отрицательную корреляцию` признаков `kilometer` и `price`, `registration_year`.**"
   ]
  },
  {
   "cell_type": "markdown",
   "id": "5f93795e",
   "metadata": {},
   "source": [
    "### Работа с дубликатами"
   ]
  },
  {
   "cell_type": "markdown",
   "id": "9000dca9",
   "metadata": {},
   "source": [
    "**Удалим дубликаты.**"
   ]
  },
  {
   "cell_type": "code",
   "execution_count": 46,
   "id": "cdc3b54a",
   "metadata": {},
   "outputs": [],
   "source": [
    "df = df.drop_duplicates()"
   ]
  },
  {
   "cell_type": "markdown",
   "id": "eb9ef53d",
   "metadata": {},
   "source": [
    "### Работа с целевым признаком"
   ]
  },
  {
   "cell_type": "markdown",
   "id": "387c6899",
   "metadata": {},
   "source": [
    "**Разделим данные на `признаки` и `целевой признак`:**  \n",
    "* `X` — «признаки»;\n",
    "* `y` — «целевой признак»."
   ]
  },
  {
   "cell_type": "code",
   "execution_count": 47,
   "id": "852a271c",
   "metadata": {},
   "outputs": [
    {
     "name": "stdout",
     "output_type": "stream",
     "text": [
      "(236106, 9)\n"
     ]
    }
   ],
   "source": [
    "X = df.drop(['price'], axis=1)\n",
    "print(X.shape)"
   ]
  },
  {
   "cell_type": "code",
   "execution_count": 48,
   "id": "389cc174",
   "metadata": {},
   "outputs": [
    {
     "name": "stdout",
     "output_type": "stream",
     "text": [
      "(236106,)\n"
     ]
    }
   ],
   "source": [
    "y = df['price']\n",
    "print(y.shape)"
   ]
  },
  {
   "cell_type": "markdown",
   "id": "52962003",
   "metadata": {},
   "source": [
    "**Разделим полученные данные в переменных `X`, `y` на `обучающую` и `тестовую` выборки в пропорции `80`:`20`.**\n",
    "\n",
    "**Данные запишем в новые переменные:**  \n",
    "\n",
    "`X_train` - `80%`  \n",
    "`X_test` - `20%`  \n",
    "`y_train` - `80%`  \n",
    "`y_test` - `20%`  "
   ]
  },
  {
   "cell_type": "code",
   "execution_count": 49,
   "id": "088b4182",
   "metadata": {},
   "outputs": [],
   "source": [
    "X_train, X_test, y_train, y_test = train_test_split(\n",
    "    X, y, test_size=0.2, random_state=42, shuffle=True)"
   ]
  },
  {
   "cell_type": "markdown",
   "id": "eae75851",
   "metadata": {},
   "source": [
    "**Посмотрим на полученные данные.**"
   ]
  },
  {
   "cell_type": "code",
   "execution_count": 50,
   "id": "a017019b",
   "metadata": {},
   "outputs": [
    {
     "name": "stdout",
     "output_type": "stream",
     "text": [
      "(188884, 9) (47222, 9)\n"
     ]
    }
   ],
   "source": [
    "print(X_train.shape, X_test.shape)"
   ]
  },
  {
   "cell_type": "code",
   "execution_count": 51,
   "id": "f08ed632",
   "metadata": {},
   "outputs": [
    {
     "name": "stdout",
     "output_type": "stream",
     "text": [
      "(188884,) (47222,)\n"
     ]
    }
   ],
   "source": [
    "print(y_train.shape, y_test.shape)"
   ]
  },
  {
   "cell_type": "markdown",
   "id": "0c753522",
   "metadata": {},
   "source": [
    "### Преобразование категориальных признаков"
   ]
  },
  {
   "cell_type": "markdown",
   "id": "a689ee23",
   "metadata": {},
   "source": [
    "**Преобразуем категориальные признаки `vehicle_type`, `gearbox`, `model`, `fuel_type`, `brand`, `repaired` в численные методом `OrdinalEncoder()`.**"
   ]
  },
  {
   "cell_type": "code",
   "execution_count": 52,
   "id": "12cfee4c",
   "metadata": {},
   "outputs": [],
   "source": [
    "def ordinal_encoder(fit_data, conversion_data):\n",
    "\n",
    "    object_cols = fit_data.select_dtypes(include=['object']).columns\n",
    "    encoder = OrdinalEncoder()\n",
    "    encoder.fit(fit_data[object_cols])\n",
    "    \n",
    "    encoded_data = encoder.transform(conversion_data[object_cols])\n",
    "    \n",
    "    encoded_data = pd.DataFrame(encoded_data, columns=conversion_data[object_cols].columns)\n",
    "    encoded_data.index = conversion_data.index\n",
    "    new_df = pd.concat([conversion_data.drop(object_cols, axis=1), encoded_data], axis=1)\n",
    "    \n",
    "    return new_df"
   ]
  },
  {
   "cell_type": "code",
   "execution_count": 53,
   "id": "eec98c75",
   "metadata": {},
   "outputs": [],
   "source": [
    "X_train_encoded = ordinal_encoder(fit_data=X_train, conversion_data=X_train)"
   ]
  },
  {
   "cell_type": "code",
   "execution_count": 54,
   "id": "184e1cb8",
   "metadata": {},
   "outputs": [],
   "source": [
    "X_test_encoded = ordinal_encoder(fit_data=X_train, conversion_data=X_test)"
   ]
  },
  {
   "cell_type": "code",
   "execution_count": 55,
   "id": "3a94d2a2",
   "metadata": {},
   "outputs": [
    {
     "data": {
      "text/html": [
       "<div>\n",
       "<style scoped>\n",
       "    .dataframe tbody tr th:only-of-type {\n",
       "        vertical-align: middle;\n",
       "    }\n",
       "\n",
       "    .dataframe tbody tr th {\n",
       "        vertical-align: top;\n",
       "    }\n",
       "\n",
       "    .dataframe thead th {\n",
       "        text-align: right;\n",
       "    }\n",
       "</style>\n",
       "<table border=\"1\" class=\"dataframe\">\n",
       "  <thead>\n",
       "    <tr style=\"text-align: right;\">\n",
       "      <th></th>\n",
       "      <th>registration_year</th>\n",
       "      <th>power</th>\n",
       "      <th>kilometer</th>\n",
       "      <th>vehicle_type</th>\n",
       "      <th>gearbox</th>\n",
       "      <th>model</th>\n",
       "      <th>fuel_type</th>\n",
       "      <th>brand</th>\n",
       "      <th>repaired</th>\n",
       "    </tr>\n",
       "  </thead>\n",
       "  <tbody>\n",
       "    <tr>\n",
       "      <th>275924</th>\n",
       "      <td>2003</td>\n",
       "      <td>110</td>\n",
       "      <td>150000</td>\n",
       "      <td>3.00</td>\n",
       "      <td>1.00</td>\n",
       "      <td>209.00</td>\n",
       "      <td>2.00</td>\n",
       "      <td>20.00</td>\n",
       "      <td>0.00</td>\n",
       "    </tr>\n",
       "    <tr>\n",
       "      <th>312214</th>\n",
       "      <td>2007</td>\n",
       "      <td>101</td>\n",
       "      <td>20000</td>\n",
       "      <td>5.00</td>\n",
       "      <td>1.00</td>\n",
       "      <td>169.00</td>\n",
       "      <td>6.00</td>\n",
       "      <td>9.00</td>\n",
       "      <td>0.00</td>\n",
       "    </tr>\n",
       "    <tr>\n",
       "      <th>199602</th>\n",
       "      <td>2004</td>\n",
       "      <td>150</td>\n",
       "      <td>150000</td>\n",
       "      <td>0.00</td>\n",
       "      <td>0.00</td>\n",
       "      <td>232.00</td>\n",
       "      <td>2.00</td>\n",
       "      <td>20.00</td>\n",
       "      <td>0.00</td>\n",
       "    </tr>\n",
       "  </tbody>\n",
       "</table>\n",
       "</div>"
      ],
      "text/plain": [
       "        registration_year  power  kilometer  vehicle_type  gearbox  model  \\\n",
       "275924               2003    110     150000          3.00     1.00 209.00   \n",
       "312214               2007    101      20000          5.00     1.00 169.00   \n",
       "199602               2004    150     150000          0.00     0.00 232.00   \n",
       "\n",
       "        fuel_type  brand  repaired  \n",
       "275924       2.00  20.00      0.00  \n",
       "312214       6.00   9.00      0.00  \n",
       "199602       2.00  20.00      0.00  "
      ]
     },
     "execution_count": 55,
     "metadata": {},
     "output_type": "execute_result"
    }
   ],
   "source": [
    "X_train_encoded.head(3)"
   ]
  },
  {
   "cell_type": "code",
   "execution_count": 56,
   "id": "38ea9dc2",
   "metadata": {},
   "outputs": [
    {
     "data": {
      "text/html": [
       "<div>\n",
       "<style scoped>\n",
       "    .dataframe tbody tr th:only-of-type {\n",
       "        vertical-align: middle;\n",
       "    }\n",
       "\n",
       "    .dataframe tbody tr th {\n",
       "        vertical-align: top;\n",
       "    }\n",
       "\n",
       "    .dataframe thead th {\n",
       "        text-align: right;\n",
       "    }\n",
       "</style>\n",
       "<table border=\"1\" class=\"dataframe\">\n",
       "  <thead>\n",
       "    <tr style=\"text-align: right;\">\n",
       "      <th></th>\n",
       "      <th>registration_year</th>\n",
       "      <th>power</th>\n",
       "      <th>kilometer</th>\n",
       "      <th>vehicle_type</th>\n",
       "      <th>gearbox</th>\n",
       "      <th>model</th>\n",
       "      <th>fuel_type</th>\n",
       "      <th>brand</th>\n",
       "      <th>repaired</th>\n",
       "    </tr>\n",
       "  </thead>\n",
       "  <tbody>\n",
       "    <tr>\n",
       "      <th>22869</th>\n",
       "      <td>2001</td>\n",
       "      <td>68</td>\n",
       "      <td>80000</td>\n",
       "      <td>0.00</td>\n",
       "      <td>1.00</td>\n",
       "      <td>220.00</td>\n",
       "      <td>2.00</td>\n",
       "      <td>37.00</td>\n",
       "      <td>0.00</td>\n",
       "    </tr>\n",
       "    <tr>\n",
       "      <th>97392</th>\n",
       "      <td>2004</td>\n",
       "      <td>136</td>\n",
       "      <td>150000</td>\n",
       "      <td>0.00</td>\n",
       "      <td>1.00</td>\n",
       "      <td>218.00</td>\n",
       "      <td>2.00</td>\n",
       "      <td>37.00</td>\n",
       "      <td>0.00</td>\n",
       "    </tr>\n",
       "    <tr>\n",
       "      <th>136045</th>\n",
       "      <td>2003</td>\n",
       "      <td>122</td>\n",
       "      <td>150000</td>\n",
       "      <td>7.00</td>\n",
       "      <td>1.00</td>\n",
       "      <td>59.00</td>\n",
       "      <td>2.00</td>\n",
       "      <td>20.00</td>\n",
       "      <td>0.00</td>\n",
       "    </tr>\n",
       "  </tbody>\n",
       "</table>\n",
       "</div>"
      ],
      "text/plain": [
       "        registration_year  power  kilometer  vehicle_type  gearbox  model  \\\n",
       "22869                2001     68      80000          0.00     1.00 220.00   \n",
       "97392                2004    136     150000          0.00     1.00 218.00   \n",
       "136045               2003    122     150000          7.00     1.00  59.00   \n",
       "\n",
       "        fuel_type  brand  repaired  \n",
       "22869        2.00  37.00      0.00  \n",
       "97392        2.00  37.00      0.00  \n",
       "136045       2.00  20.00      0.00  "
      ]
     },
     "execution_count": 56,
     "metadata": {},
     "output_type": "execute_result"
    }
   ],
   "source": [
    "X_test_encoded.head(3)"
   ]
  },
  {
   "cell_type": "code",
   "execution_count": 57,
   "id": "9766ac18",
   "metadata": {},
   "outputs": [
    {
     "name": "stdout",
     "output_type": "stream",
     "text": [
      "(188884, 9) (47222, 9)\n"
     ]
    }
   ],
   "source": [
    "print(X_train_encoded.shape, X_test_encoded.shape)"
   ]
  },
  {
   "cell_type": "markdown",
   "id": "cfba4a4c",
   "metadata": {},
   "source": [
    "### Стандартизация признаков"
   ]
  },
  {
   "cell_type": "markdown",
   "id": "74a673a3",
   "metadata": {},
   "source": [
    "**Для `линейных моделей ML обучения` преобразуем масштаб количественных признаков `registration_year`, `power`, `kilometer`, методом стандартизации.**  \n",
    "**Данные запишем в новые переменные `X_train_scaled` и `X_test_scaled`.**"
   ]
  },
  {
   "cell_type": "code",
   "execution_count": 58,
   "id": "5b42ec8e",
   "metadata": {},
   "outputs": [],
   "source": [
    "X_train_scaled, X_test_scaled = X_train_encoded.copy(), X_test_encoded.copy()"
   ]
  },
  {
   "cell_type": "code",
   "execution_count": 59,
   "id": "a4b19e61",
   "metadata": {},
   "outputs": [],
   "source": [
    "features = ['registration_year', 'power', 'kilometer']"
   ]
  },
  {
   "cell_type": "code",
   "execution_count": 60,
   "id": "ba0c7107",
   "metadata": {},
   "outputs": [],
   "source": [
    "scaler = StandardScaler()"
   ]
  },
  {
   "cell_type": "code",
   "execution_count": 61,
   "id": "e8f2d89a",
   "metadata": {},
   "outputs": [
    {
     "data": {
      "text/plain": [
       "StandardScaler()"
      ]
     },
     "execution_count": 61,
     "metadata": {},
     "output_type": "execute_result"
    }
   ],
   "source": [
    "scaler.fit(X_train_encoded[features])"
   ]
  },
  {
   "cell_type": "code",
   "execution_count": 62,
   "id": "10116109",
   "metadata": {},
   "outputs": [],
   "source": [
    "X_train_scaled[features] = scaler.transform(X_train_scaled[features])"
   ]
  },
  {
   "cell_type": "code",
   "execution_count": 63,
   "id": "3c485d95",
   "metadata": {},
   "outputs": [],
   "source": [
    "X_test_scaled[features] = scaler.transform(X_test_scaled[features])"
   ]
  },
  {
   "cell_type": "code",
   "execution_count": 64,
   "id": "90c6984b",
   "metadata": {},
   "outputs": [
    {
     "data": {
      "text/html": [
       "<div>\n",
       "<style scoped>\n",
       "    .dataframe tbody tr th:only-of-type {\n",
       "        vertical-align: middle;\n",
       "    }\n",
       "\n",
       "    .dataframe tbody tr th {\n",
       "        vertical-align: top;\n",
       "    }\n",
       "\n",
       "    .dataframe thead th {\n",
       "        text-align: right;\n",
       "    }\n",
       "</style>\n",
       "<table border=\"1\" class=\"dataframe\">\n",
       "  <thead>\n",
       "    <tr style=\"text-align: right;\">\n",
       "      <th></th>\n",
       "      <th>registration_year</th>\n",
       "      <th>power</th>\n",
       "      <th>kilometer</th>\n",
       "      <th>vehicle_type</th>\n",
       "      <th>gearbox</th>\n",
       "      <th>model</th>\n",
       "      <th>fuel_type</th>\n",
       "      <th>brand</th>\n",
       "      <th>repaired</th>\n",
       "    </tr>\n",
       "  </thead>\n",
       "  <tbody>\n",
       "    <tr>\n",
       "      <th>275924</th>\n",
       "      <td>-0.02</td>\n",
       "      <td>-0.23</td>\n",
       "      <td>0.62</td>\n",
       "      <td>3.00</td>\n",
       "      <td>1.00</td>\n",
       "      <td>209.00</td>\n",
       "      <td>2.00</td>\n",
       "      <td>20.00</td>\n",
       "      <td>0.00</td>\n",
       "    </tr>\n",
       "    <tr>\n",
       "      <th>312214</th>\n",
       "      <td>0.62</td>\n",
       "      <td>-0.40</td>\n",
       "      <td>-2.85</td>\n",
       "      <td>5.00</td>\n",
       "      <td>1.00</td>\n",
       "      <td>169.00</td>\n",
       "      <td>6.00</td>\n",
       "      <td>9.00</td>\n",
       "      <td>0.00</td>\n",
       "    </tr>\n",
       "    <tr>\n",
       "      <th>199602</th>\n",
       "      <td>0.14</td>\n",
       "      <td>0.51</td>\n",
       "      <td>0.62</td>\n",
       "      <td>0.00</td>\n",
       "      <td>0.00</td>\n",
       "      <td>232.00</td>\n",
       "      <td>2.00</td>\n",
       "      <td>20.00</td>\n",
       "      <td>0.00</td>\n",
       "    </tr>\n",
       "  </tbody>\n",
       "</table>\n",
       "</div>"
      ],
      "text/plain": [
       "        registration_year  power  kilometer  vehicle_type  gearbox  model  \\\n",
       "275924              -0.02  -0.23       0.62          3.00     1.00 209.00   \n",
       "312214               0.62  -0.40      -2.85          5.00     1.00 169.00   \n",
       "199602               0.14   0.51       0.62          0.00     0.00 232.00   \n",
       "\n",
       "        fuel_type  brand  repaired  \n",
       "275924       2.00  20.00      0.00  \n",
       "312214       6.00   9.00      0.00  \n",
       "199602       2.00  20.00      0.00  "
      ]
     },
     "execution_count": 64,
     "metadata": {},
     "output_type": "execute_result"
    }
   ],
   "source": [
    "X_train_scaled.head(3)"
   ]
  },
  {
   "cell_type": "code",
   "execution_count": 65,
   "id": "01ace560",
   "metadata": {},
   "outputs": [
    {
     "data": {
      "text/html": [
       "<div>\n",
       "<style scoped>\n",
       "    .dataframe tbody tr th:only-of-type {\n",
       "        vertical-align: middle;\n",
       "    }\n",
       "\n",
       "    .dataframe tbody tr th {\n",
       "        vertical-align: top;\n",
       "    }\n",
       "\n",
       "    .dataframe thead th {\n",
       "        text-align: right;\n",
       "    }\n",
       "</style>\n",
       "<table border=\"1\" class=\"dataframe\">\n",
       "  <thead>\n",
       "    <tr style=\"text-align: right;\">\n",
       "      <th></th>\n",
       "      <th>registration_year</th>\n",
       "      <th>power</th>\n",
       "      <th>kilometer</th>\n",
       "      <th>vehicle_type</th>\n",
       "      <th>gearbox</th>\n",
       "      <th>model</th>\n",
       "      <th>fuel_type</th>\n",
       "      <th>brand</th>\n",
       "      <th>repaired</th>\n",
       "    </tr>\n",
       "  </thead>\n",
       "  <tbody>\n",
       "    <tr>\n",
       "      <th>22869</th>\n",
       "      <td>-0.34</td>\n",
       "      <td>-1.02</td>\n",
       "      <td>-1.25</td>\n",
       "      <td>0.00</td>\n",
       "      <td>1.00</td>\n",
       "      <td>220.00</td>\n",
       "      <td>2.00</td>\n",
       "      <td>37.00</td>\n",
       "      <td>0.00</td>\n",
       "    </tr>\n",
       "    <tr>\n",
       "      <th>97392</th>\n",
       "      <td>0.14</td>\n",
       "      <td>0.25</td>\n",
       "      <td>0.62</td>\n",
       "      <td>0.00</td>\n",
       "      <td>1.00</td>\n",
       "      <td>218.00</td>\n",
       "      <td>2.00</td>\n",
       "      <td>37.00</td>\n",
       "      <td>0.00</td>\n",
       "    </tr>\n",
       "    <tr>\n",
       "      <th>136045</th>\n",
       "      <td>-0.02</td>\n",
       "      <td>-0.01</td>\n",
       "      <td>0.62</td>\n",
       "      <td>7.00</td>\n",
       "      <td>1.00</td>\n",
       "      <td>59.00</td>\n",
       "      <td>2.00</td>\n",
       "      <td>20.00</td>\n",
       "      <td>0.00</td>\n",
       "    </tr>\n",
       "  </tbody>\n",
       "</table>\n",
       "</div>"
      ],
      "text/plain": [
       "        registration_year  power  kilometer  vehicle_type  gearbox  model  \\\n",
       "22869               -0.34  -1.02      -1.25          0.00     1.00 220.00   \n",
       "97392                0.14   0.25       0.62          0.00     1.00 218.00   \n",
       "136045              -0.02  -0.01       0.62          7.00     1.00  59.00   \n",
       "\n",
       "        fuel_type  brand  repaired  \n",
       "22869        2.00  37.00      0.00  \n",
       "97392        2.00  37.00      0.00  \n",
       "136045       2.00  20.00      0.00  "
      ]
     },
     "execution_count": 65,
     "metadata": {},
     "output_type": "execute_result"
    }
   ],
   "source": [
    "X_test_scaled.head(3)"
   ]
  },
  {
   "cell_type": "code",
   "execution_count": 66,
   "id": "61a763c6",
   "metadata": {},
   "outputs": [
    {
     "name": "stdout",
     "output_type": "stream",
     "text": [
      "(188884, 9) (47222, 9)\n"
     ]
    }
   ],
   "source": [
    "print(X_train_scaled.shape, X_test_scaled.shape)"
   ]
  },
  {
   "cell_type": "markdown",
   "id": "bd8d791f",
   "metadata": {},
   "source": [
    "## Обучение моделей"
   ]
  },
  {
   "cell_type": "markdown",
   "id": "860578c9",
   "metadata": {},
   "source": [
    "### SGDRegressor"
   ]
  },
  {
   "cell_type": "markdown",
   "id": "c72866b8",
   "metadata": {},
   "source": [
    "**Обучим модель `SGDRegressor` на стандартизированной выборке `X_train_scaled`.**"
   ]
  },
  {
   "cell_type": "code",
   "execution_count": 67,
   "id": "23234919",
   "metadata": {},
   "outputs": [],
   "source": [
    "model = SGDRegressor(random_state=42)\n",
    "\n",
    "scoring = {'R2': 'r2',\n",
    "           'RMSE': 'neg_root_mean_squared_error'}\n",
    "\n",
    "param_search = {\n",
    "    'alpha' : [0.0001, 0.001],\n",
    "    'max_iter': list(range(1_000, 3_000, 100))\n",
    "}\n",
    "\n",
    "gs = GridSearchCV(estimator=model,\n",
    "                  cv=4,\n",
    "                  param_grid=param_search,\n",
    "                  scoring=scoring,\n",
    "                  refit='RMSE',\n",
    "                  n_jobs=-1,\n",
    "                  return_train_score=True)"
   ]
  },
  {
   "cell_type": "code",
   "execution_count": 68,
   "id": "8c861615",
   "metadata": {},
   "outputs": [
    {
     "name": "stdout",
     "output_type": "stream",
     "text": [
      "CPU times: user 14.6 s, sys: 463 ms, total: 15.1 s\n",
      "Wall time: 11min 20s\n"
     ]
    }
   ],
   "source": [
    "%%time\n",
    "\n",
    "gs.fit(X_train_scaled, y_train)\n",
    "results_model_SGDRegressor = gs.cv_results_"
   ]
  },
  {
   "cell_type": "code",
   "execution_count": 69,
   "id": "646968c6",
   "metadata": {},
   "outputs": [
    {
     "data": {
      "text/plain": [
       "-384416476025.7215"
      ]
     },
     "execution_count": 69,
     "metadata": {},
     "output_type": "execute_result"
    }
   ],
   "source": [
    "gs.best_score_"
   ]
  },
  {
   "cell_type": "code",
   "execution_count": 70,
   "id": "103987df",
   "metadata": {},
   "outputs": [
    {
     "data": {
      "text/plain": [
       "-384416476025.7215"
      ]
     },
     "execution_count": 70,
     "metadata": {},
     "output_type": "execute_result"
    }
   ],
   "source": [
    "results_model_SGDRegressor['mean_test_RMSE'][gs.best_index_]"
   ]
  },
  {
   "cell_type": "code",
   "execution_count": 71,
   "id": "b8137e2c",
   "metadata": {
    "scrolled": true
   },
   "outputs": [
    {
     "data": {
      "text/plain": [
       "-9848298172990306.0"
      ]
     },
     "execution_count": 71,
     "metadata": {},
     "output_type": "execute_result"
    }
   ],
   "source": [
    "results_model_SGDRegressor['mean_test_R2'][gs.best_index_]"
   ]
  },
  {
   "cell_type": "markdown",
   "id": "0dc3ff5a",
   "metadata": {},
   "source": [
    "**Сохраним обученную модель с помощью библиотеки `GridSearchCV` в `model_SGDRegressor.joblib`.**"
   ]
  },
  {
   "cell_type": "code",
   "execution_count": 72,
   "id": "7c2fc9ca",
   "metadata": {},
   "outputs": [
    {
     "data": {
      "text/plain": [
       "['model_SGDRegressor.joblib']"
      ]
     },
     "execution_count": 72,
     "metadata": {},
     "output_type": "execute_result"
    }
   ],
   "source": [
    "joblib.dump(gs.best_estimator_, 'model_SGDRegressor.joblib')"
   ]
  },
  {
   "cell_type": "markdown",
   "id": "e41cf05b",
   "metadata": {},
   "source": [
    "### CatBoostRegressor"
   ]
  },
  {
   "cell_type": "markdown",
   "id": "41574500",
   "metadata": {},
   "source": [
    "**Обучим модель `CatBoostRegressor` на выборке `X_train_encoded`.**"
   ]
  },
  {
   "cell_type": "code",
   "execution_count": 73,
   "id": "902e59cd",
   "metadata": {},
   "outputs": [],
   "source": [
    "model = CatBoostRegressor(random_state=42)\n",
    "\n",
    "scoring = {'R2': 'r2',\n",
    "           'RMSE': 'neg_root_mean_squared_error'}\n",
    "\n",
    "param_search = {\n",
    "    'max_depth': [2, 4, 6],\n",
    "    'learning_rate': [0.01, 0.02, 0.03, 0.04, 0.1],\n",
    "    'l2_leaf_reg': [1, 3, 5, 7, 9],\n",
    "    'iterations': list(range(10, 210, 30)),\n",
    "    'logging_level': ['Silent']\n",
    "}\n",
    "\n",
    "gs = GridSearchCV(estimator=model,\n",
    "                  cv=4,\n",
    "                  param_grid=param_search,\n",
    "                  scoring=scoring,\n",
    "                  refit='RMSE',\n",
    "                  n_jobs=-1,\n",
    "                  return_train_score=True)"
   ]
  },
  {
   "cell_type": "code",
   "execution_count": 74,
   "id": "55237c6c",
   "metadata": {},
   "outputs": [
    {
     "name": "stdout",
     "output_type": "stream",
     "text": [
      "CPU times: user 21.3 s, sys: 3.81 s, total: 25.1 s\n",
      "Wall time: 49min 58s\n"
     ]
    }
   ],
   "source": [
    "%%time\n",
    "\n",
    "gs.fit(X_train_encoded, y_train)\n",
    "results_model_CatBoostRegressor = gs.cv_results_"
   ]
  },
  {
   "cell_type": "code",
   "execution_count": 75,
   "id": "e3f8262d",
   "metadata": {},
   "outputs": [
    {
     "data": {
      "text/plain": [
       "-1720.5596017148114"
      ]
     },
     "execution_count": 75,
     "metadata": {},
     "output_type": "execute_result"
    }
   ],
   "source": [
    "gs.best_score_"
   ]
  },
  {
   "cell_type": "code",
   "execution_count": 76,
   "id": "d63b6e4c",
   "metadata": {},
   "outputs": [
    {
     "data": {
      "text/plain": [
       "-1720.5596017148114"
      ]
     },
     "execution_count": 76,
     "metadata": {},
     "output_type": "execute_result"
    }
   ],
   "source": [
    "results_model_CatBoostRegressor['mean_test_RMSE'][gs.best_index_]"
   ]
  },
  {
   "cell_type": "code",
   "execution_count": 77,
   "id": "277a1a14",
   "metadata": {
    "scrolled": true
   },
   "outputs": [
    {
     "data": {
      "text/plain": [
       "0.865755062560889"
      ]
     },
     "execution_count": 77,
     "metadata": {},
     "output_type": "execute_result"
    }
   ],
   "source": [
    "results_model_CatBoostRegressor['mean_test_R2'][gs.best_index_]"
   ]
  },
  {
   "cell_type": "markdown",
   "id": "93c3f5a8",
   "metadata": {},
   "source": [
    "**Сохраним обученную модель с помощью библиотеки `GridSearchCV` в `model_CatBoostRegressor.joblib`.**"
   ]
  },
  {
   "cell_type": "code",
   "execution_count": 78,
   "id": "f1076305",
   "metadata": {},
   "outputs": [
    {
     "data": {
      "text/plain": [
       "['model_CatBoostRegressor.joblib']"
      ]
     },
     "execution_count": 78,
     "metadata": {},
     "output_type": "execute_result"
    }
   ],
   "source": [
    "joblib.dump(gs.best_estimator_, 'model_CatBoostRegressor.joblib')"
   ]
  },
  {
   "cell_type": "markdown",
   "id": "f696275c",
   "metadata": {},
   "source": [
    "###  LGBMRegressor"
   ]
  },
  {
   "cell_type": "markdown",
   "id": "a81c24de",
   "metadata": {},
   "source": [
    "**Обучим модель `LGBMRegressor` на выборке `X_train`.**"
   ]
  },
  {
   "cell_type": "code",
   "execution_count": 79,
   "id": "0c44cab0",
   "metadata": {},
   "outputs": [],
   "source": [
    "model = lgb.LGBMRegressor(random_state=42)\n",
    "\n",
    "scoring = {'R2': 'r2',\n",
    "           'RMSE': 'neg_root_mean_squared_error'}\n",
    "\n",
    "param_search = {\n",
    "    'max_depth': [2, 4, 6],\n",
    "    'learning_rate': [0.03, 0.1],\n",
    "    'n_estimators': [100, 200, 500]\n",
    "}\n",
    "\n",
    "gs = GridSearchCV(estimator=model,\n",
    "                  cv=4,\n",
    "                  param_grid=param_search,\n",
    "                  scoring=scoring,\n",
    "                  refit='RMSE',\n",
    "                  n_jobs=-1,\n",
    "                  return_train_score=True)"
   ]
  },
  {
   "cell_type": "code",
   "execution_count": 80,
   "id": "4b308b55",
   "metadata": {},
   "outputs": [
    {
     "name": "stdout",
     "output_type": "stream",
     "text": [
      "CPU times: user 13.5 s, sys: 267 ms, total: 13.8 s\n",
      "Wall time: 3min 43s\n"
     ]
    }
   ],
   "source": [
    "%%time\n",
    "\n",
    "gs.fit(X_train_encoded, y_train)\n",
    "results_model_LGBMRegressor = gs.cv_results_"
   ]
  },
  {
   "cell_type": "code",
   "execution_count": 81,
   "id": "6d54dc6e",
   "metadata": {},
   "outputs": [
    {
     "data": {
      "text/plain": [
       "-1610.6652876589278"
      ]
     },
     "execution_count": 81,
     "metadata": {},
     "output_type": "execute_result"
    }
   ],
   "source": [
    "gs.best_score_"
   ]
  },
  {
   "cell_type": "code",
   "execution_count": 82,
   "id": "6bcbf9a2",
   "metadata": {},
   "outputs": [
    {
     "data": {
      "text/plain": [
       "-1610.6652876589278"
      ]
     },
     "execution_count": 82,
     "metadata": {},
     "output_type": "execute_result"
    }
   ],
   "source": [
    "results_model_LGBMRegressor['mean_test_RMSE'][gs.best_index_]"
   ]
  },
  {
   "cell_type": "code",
   "execution_count": 83,
   "id": "4333e5db",
   "metadata": {
    "scrolled": true
   },
   "outputs": [
    {
     "data": {
      "text/plain": [
       "0.8823564773978645"
      ]
     },
     "execution_count": 83,
     "metadata": {},
     "output_type": "execute_result"
    }
   ],
   "source": [
    "results_model_LGBMRegressor['mean_test_R2'][gs.best_index_]"
   ]
  },
  {
   "cell_type": "markdown",
   "id": "73a323c7",
   "metadata": {},
   "source": [
    "**Сохраним обученную модель с помощью библиотеки `GridSearchCV` в `model_LGBMRegressor.joblib`.**"
   ]
  },
  {
   "cell_type": "code",
   "execution_count": 84,
   "id": "b8bbbb64",
   "metadata": {},
   "outputs": [
    {
     "data": {
      "text/plain": [
       "['model_LGBMRegressor.joblib']"
      ]
     },
     "execution_count": 84,
     "metadata": {},
     "output_type": "execute_result"
    }
   ],
   "source": [
    "joblib.dump(gs.best_estimator_, 'model_LGBMRegressor.joblib')"
   ]
  },
  {
   "cell_type": "markdown",
   "id": "d8ac8fb8",
   "metadata": {},
   "source": [
    "###  Выводы из проведенного обучения моделей:"
   ]
  },
  {
   "cell_type": "markdown",
   "id": "9ca79cd6",
   "metadata": {},
   "source": [
    "1. Модель стохастического градиентного спуска `SGDRegressor`:\n",
    "- подбор гиперпараметров - 56.4 s, \n",
    "- скорость обучения - 28.2 s, \n",
    "- скорость предсказания - 11 ms\n",
    "2. Модель градиентного бустинга `CatBoostRegressor`:\n",
    "- подбор гиперпараметров - 59min 35s, \n",
    "- скорость обучения - 4.29 s, \n",
    "- скорость предсказания - 21.3 ms\n",
    "3. Модель градиентного бустинга `LGBMRegressor`:\n",
    "- подбор гиперпараметров - 3min 44s, \n",
    "- скорость обучения - 6.98 s, \n",
    "- скорость предсказания - 2.1 s\n",
    "\n",
    "**`LGBMRegressor` демонстрирует высокую скорость обучения и высокое качество, достаточно информативная документация.**\n",
    "\n",
    "**Для данной задачи, лучшая для заказчика в плане качества предсказания, скорости предсказания, времени обучения - `LGBMRegressor`.**"
   ]
  },
  {
   "cell_type": "markdown",
   "id": "5bd761dc",
   "metadata": {},
   "source": [
    "## Анализ модели"
   ]
  },
  {
   "cell_type": "markdown",
   "id": "104227dd",
   "metadata": {},
   "source": [
    "**Функция потерь и оценки качества моделей RMSE:**"
   ]
  },
  {
   "cell_type": "code",
   "execution_count": 85,
   "id": "936f081c",
   "metadata": {},
   "outputs": [],
   "source": [
    "def RMSE(y, predict):\n",
    "    RMSE = mean_squared_error(y, predict) ** 0.5\n",
    "    return RMSE\n",
    "\n",
    "score = make_scorer(RMSE, greater_is_better=False)"
   ]
  },
  {
   "cell_type": "markdown",
   "id": "377e712a",
   "metadata": {},
   "source": [
    "**Проанализируем `LGBMRegressor` на скорость обучения и предсказания.**  \n",
    "**Анализ модели проведем на выборках `X_test`, `y_test`.**"
   ]
  },
  {
   "cell_type": "code",
   "execution_count": 86,
   "id": "d5d390c5",
   "metadata": {},
   "outputs": [],
   "source": [
    "model_LGBMRegressor = joblib.load('model_LGBMRegressor.joblib')"
   ]
  },
  {
   "cell_type": "code",
   "execution_count": 87,
   "id": "49b59ff5",
   "metadata": {},
   "outputs": [
    {
     "name": "stdout",
     "output_type": "stream",
     "text": [
      "CPU times: user 13.9 s, sys: 141 ms, total: 14 s\n",
      "Wall time: 3.65 s\n"
     ]
    },
    {
     "data": {
      "text/plain": [
       "LGBMRegressor(max_depth=6, n_estimators=500, random_state=42)"
      ]
     },
     "execution_count": 87,
     "metadata": {},
     "output_type": "execute_result"
    }
   ],
   "source": [
    "%%time\n",
    "\n",
    "model_LGBMRegressor.fit(X_train_encoded, y_train)"
   ]
  },
  {
   "cell_type": "code",
   "execution_count": 88,
   "id": "67ea472f",
   "metadata": {},
   "outputs": [
    {
     "name": "stdout",
     "output_type": "stream",
     "text": [
      "CPU times: user 3.12 s, sys: 3.52 ms, total: 3.12 s\n",
      "Wall time: 813 ms\n"
     ]
    }
   ],
   "source": [
    "%%time\n",
    "\n",
    "predictions = model_LGBMRegressor.predict(X_test_encoded)"
   ]
  },
  {
   "cell_type": "code",
   "execution_count": 89,
   "id": "8bb94a09",
   "metadata": {},
   "outputs": [
    {
     "name": "stdout",
     "output_type": "stream",
     "text": [
      "RMSE на тестовой выборке:  1611.14\n"
     ]
    }
   ],
   "source": [
    "print('RMSE на тестовой выборке: ', RMSE(y_test, predictions).round(2))"
   ]
  },
  {
   "cell_type": "markdown",
   "id": "46a448c4",
   "metadata": {},
   "source": [
    "`LGBMRegressor`:\n",
    "- RMSE на тестовой выборке: - 1610.05, \n",
    "- подбор гиперпараметров - 3min 44s, \n",
    "- скорость обучения - 4.79 s, \n",
    "- скорость предсказания - 942 ms"
   ]
  },
  {
   "cell_type": "markdown",
   "id": "ec144629",
   "metadata": {},
   "source": [
    "## Проверка моделей на адекватность"
   ]
  },
  {
   "cell_type": "markdown",
   "id": "26edba96",
   "metadata": {},
   "source": [
    "**DummyRegressor**"
   ]
  },
  {
   "cell_type": "code",
   "execution_count": 90,
   "id": "878b6ddb",
   "metadata": {},
   "outputs": [
    {
     "name": "stdout",
     "output_type": "stream",
     "text": [
      "mean = 4680.71\n",
      "median = 4956.53\n"
     ]
    }
   ],
   "source": [
    "strategies = ['mean', 'median']\n",
    "\n",
    "for strategy in strategies:\n",
    "    \n",
    "    model = DummyRegressor(strategy=strategy)\n",
    "    model.fit(X_train, y_train)\n",
    "    predictions = model.predict(X_test)\n",
    "    result = RMSE(y_test, predictions).round(2)\n",
    "    \n",
    "    print(f'{strategy} = {result}')"
   ]
  },
  {
   "cell_type": "markdown",
   "id": "435d642c",
   "metadata": {},
   "source": [
    "**Результаты `обученных моделей` на `тестовой выборке` показали результат выше, чем результаты `DummyRegressor`. Это даёт право сделать вывод, что модели проходят проверку на адекватность.**"
   ]
  },
  {
   "cell_type": "markdown",
   "id": "22c74dc6",
   "metadata": {},
   "source": [
    "## Общий вывод"
   ]
  },
  {
   "cell_type": "markdown",
   "id": "d3ace20c",
   "metadata": {},
   "source": [
    "**По результатам исследований моделей для поставленной задачи наиболее оптимальными являются модели:**  \n",
    "\n",
    "- `CatBoostRegressor`\n",
    "- `LGBMRegressor`\n",
    "\n",
    "**`CatBoostRegressor` показывает хорошие показатели метрик и скорости обучения и предсказания, интуитивно понятная документация с широкими возможностями реализации.**\n",
    "\n",
    "**`LGBMRegressor` демонстрирует высокую скорость обучения и высокое качество, достаточно информативная документация.**\n",
    "\n",
    "**Для данной задачи, лучшая для заказчика в плане качества предсказания, скорости предсказания, времени обучения - `LGBMRegressor`.**"
   ]
  },
  {
   "cell_type": "markdown",
   "id": "8b127501",
   "metadata": {},
   "source": [
    "## Чек-лист проверки"
   ]
  },
  {
   "cell_type": "markdown",
   "id": "6cdbf7ad",
   "metadata": {},
   "source": [
    "Поставьте 'x' в выполненных пунктах. Далее нажмите Shift+Enter."
   ]
  },
  {
   "cell_type": "markdown",
   "id": "6c47d8c4",
   "metadata": {},
   "source": [
    "- [x]  Jupyter Notebook открыт\n",
    "- [x]  Весь код выполняется без ошибок\n",
    "- [x]  Ячейки с кодом расположены в порядке исполнения\n",
    "- [x]  Выполнена загрузка и подготовка данных\n",
    "- [x]  Выполнено обучение моделей\n",
    "- [x]  Есть анализ скорости работы и качества моделей"
   ]
  }
 ],
 "metadata": {
  "ExecuteTimeLog": [
   {
    "duration": 2539,
    "start_time": "2023-03-22T20:32:36.045Z"
   },
   {
    "duration": 7761,
    "start_time": "2023-03-22T20:32:38.587Z"
   },
   {
    "duration": 3031,
    "start_time": "2023-03-22T20:32:46.355Z"
   },
   {
    "duration": 44,
    "start_time": "2023-03-22T20:32:49.388Z"
   },
   {
    "duration": 123,
    "start_time": "2023-03-22T20:32:49.435Z"
   },
   {
    "duration": 6,
    "start_time": "2023-03-22T20:32:49.564Z"
   },
   {
    "duration": 70,
    "start_time": "2023-03-22T20:32:49.573Z"
   },
   {
    "duration": 113,
    "start_time": "2023-03-22T20:32:49.645Z"
   },
   {
    "duration": 5,
    "start_time": "2023-03-22T20:32:49.760Z"
   },
   {
    "duration": 2748,
    "start_time": "2023-03-22T20:32:49.823Z"
   },
   {
    "duration": 455,
    "start_time": "2023-03-22T20:32:52.621Z"
   },
   {
    "duration": 591,
    "start_time": "2023-03-22T20:32:53.078Z"
   },
   {
    "duration": 597,
    "start_time": "2023-03-22T20:32:53.671Z"
   },
   {
    "duration": 1593,
    "start_time": "2023-03-22T20:32:54.274Z"
   },
   {
    "duration": 400,
    "start_time": "2023-03-22T20:32:55.872Z"
   },
   {
    "duration": 459,
    "start_time": "2023-03-22T20:32:56.276Z"
   },
   {
    "duration": 298,
    "start_time": "2023-03-22T20:32:56.741Z"
   },
   {
    "duration": 97,
    "start_time": "2023-03-22T20:32:57.046Z"
   },
   {
    "duration": 120,
    "start_time": "2023-03-22T20:32:57.148Z"
   },
   {
    "duration": 205,
    "start_time": "2023-03-22T20:32:57.329Z"
   },
   {
    "duration": 90,
    "start_time": "2023-03-22T20:32:57.541Z"
   },
   {
    "duration": 818,
    "start_time": "2023-03-22T20:32:57.637Z"
   },
   {
    "duration": 711,
    "start_time": "2023-03-22T20:32:58.457Z"
   },
   {
    "duration": 962,
    "start_time": "2023-03-22T20:32:59.170Z"
   },
   {
    "duration": 12,
    "start_time": "2023-03-22T20:33:00.138Z"
   },
   {
    "duration": 14281,
    "start_time": "2023-03-22T20:33:00.152Z"
   },
   {
    "duration": 3826,
    "start_time": "2023-03-22T20:33:14.437Z"
   },
   {
    "duration": 71,
    "start_time": "2023-03-22T20:33:18.272Z"
   },
   {
    "duration": 190176,
    "start_time": "2023-03-22T20:33:18.352Z"
   },
   {
    "duration": 16,
    "start_time": "2023-03-22T20:36:28.530Z"
   },
   {
    "duration": 1592,
    "start_time": "2023-03-22T20:36:28.547Z"
   },
   {
    "duration": 16,
    "start_time": "2023-03-22T20:36:30.144Z"
   },
   {
    "duration": 38,
    "start_time": "2023-03-22T20:36:30.165Z"
   },
   {
    "duration": 144,
    "start_time": "2023-03-22T20:36:30.223Z"
   },
   {
    "duration": 118,
    "start_time": "2023-03-22T20:36:30.384Z"
   },
   {
    "duration": 36,
    "start_time": "2023-03-22T20:36:30.523Z"
   },
   {
    "duration": 64,
    "start_time": "2023-03-22T20:36:30.563Z"
   },
   {
    "duration": 177,
    "start_time": "2023-03-22T20:36:30.629Z"
   },
   {
    "duration": 72,
    "start_time": "2023-03-22T20:36:30.808Z"
   },
   {
    "duration": 64,
    "start_time": "2023-03-22T20:36:30.882Z"
   },
   {
    "duration": 90,
    "start_time": "2023-03-22T20:36:30.954Z"
   },
   {
    "duration": 17051,
    "start_time": "2023-03-22T20:36:31.048Z"
   },
   {
    "duration": 835,
    "start_time": "2023-03-22T20:36:48.100Z"
   },
   {
    "duration": 408,
    "start_time": "2023-03-22T20:36:48.944Z"
   },
   {
    "duration": 9,
    "start_time": "2023-03-22T20:36:49.354Z"
   },
   {
    "duration": 1287,
    "start_time": "2023-03-22T20:36:49.365Z"
   },
   {
    "duration": 107,
    "start_time": "2023-03-22T20:36:50.654Z"
   },
   {
    "duration": 28,
    "start_time": "2023-03-22T20:36:50.763Z"
   },
   {
    "duration": 11,
    "start_time": "2023-03-22T20:36:50.792Z"
   },
   {
    "duration": 30,
    "start_time": "2023-03-22T20:36:50.805Z"
   },
   {
    "duration": 143,
    "start_time": "2023-03-22T20:36:50.837Z"
   },
   {
    "duration": 27,
    "start_time": "2023-03-22T20:36:50.996Z"
   },
   {
    "duration": 68,
    "start_time": "2023-03-22T20:36:51.025Z"
   },
   {
    "duration": 39,
    "start_time": "2023-03-22T20:36:51.095Z"
   },
   {
    "duration": 9,
    "start_time": "2023-03-22T20:36:51.139Z"
   },
   {
    "duration": 42,
    "start_time": "2023-03-22T20:36:51.150Z"
   },
   {
    "duration": 101,
    "start_time": "2023-03-22T20:36:51.194Z"
   },
   {
    "duration": 652,
    "start_time": "2023-03-22T20:36:51.297Z"
   },
   {
    "duration": 235,
    "start_time": "2023-03-22T20:36:51.951Z"
   },
   {
    "duration": 40,
    "start_time": "2023-03-22T20:36:52.188Z"
   },
   {
    "duration": 113,
    "start_time": "2023-03-22T20:36:52.230Z"
   },
   {
    "duration": 42,
    "start_time": "2023-03-22T20:36:52.352Z"
   },
   {
    "duration": 15,
    "start_time": "2023-03-22T20:36:52.397Z"
   },
   {
    "duration": 254938,
    "start_time": "2023-03-22T20:36:52.414Z"
   },
   {
    "duration": 14,
    "start_time": "2023-03-22T20:41:07.357Z"
   },
   {
    "duration": 24,
    "start_time": "2023-03-22T20:41:07.375Z"
   },
   {
    "duration": 37,
    "start_time": "2023-03-22T20:41:07.441Z"
   },
   {
    "duration": 176,
    "start_time": "2023-03-22T20:41:07.480Z"
   },
   {
    "duration": 18,
    "start_time": "2023-03-22T20:41:07.659Z"
   },
   {
    "duration": 1492,
    "start_time": "2023-03-24T01:02:59.514Z"
   },
   {
    "duration": 2653,
    "start_time": "2023-03-24T01:03:02.883Z"
   },
   {
    "duration": 1355,
    "start_time": "2023-03-24T01:03:05.539Z"
   },
   {
    "duration": 4,
    "start_time": "2023-03-24T01:03:08.712Z"
   },
   {
    "duration": 29,
    "start_time": "2023-03-24T01:03:09.227Z"
   },
   {
    "duration": 4,
    "start_time": "2023-03-24T01:03:09.650Z"
   },
   {
    "duration": 5,
    "start_time": "2023-03-24T01:03:10.002Z"
   },
   {
    "duration": 61,
    "start_time": "2023-03-24T01:03:10.210Z"
   },
   {
    "duration": 4,
    "start_time": "2023-03-24T01:03:10.403Z"
   },
   {
    "duration": 1085,
    "start_time": "2023-03-24T01:03:10.842Z"
   },
   {
    "duration": 129,
    "start_time": "2023-03-24T01:03:11.929Z"
   },
   {
    "duration": 160,
    "start_time": "2023-03-24T01:03:12.082Z"
   },
   {
    "duration": 127,
    "start_time": "2023-03-24T01:03:12.243Z"
   },
   {
    "duration": 559,
    "start_time": "2023-03-24T01:03:12.483Z"
   },
   {
    "duration": 106,
    "start_time": "2023-03-24T01:03:13.423Z"
   },
   {
    "duration": 96,
    "start_time": "2023-03-24T01:03:13.612Z"
   },
   {
    "duration": 92,
    "start_time": "2023-03-24T01:03:13.823Z"
   },
   {
    "duration": 14,
    "start_time": "2023-03-24T01:03:18.782Z"
   },
   {
    "duration": 32,
    "start_time": "2023-03-24T01:03:18.892Z"
   },
   {
    "duration": 43,
    "start_time": "2023-03-24T01:03:19.735Z"
   },
   {
    "duration": 21,
    "start_time": "2023-03-24T01:03:20.122Z"
   },
   {
    "duration": 291,
    "start_time": "2023-03-24T01:03:20.702Z"
   },
   {
    "duration": 309,
    "start_time": "2023-03-24T01:03:20.995Z"
   },
   {
    "duration": 281,
    "start_time": "2023-03-24T01:03:21.306Z"
   },
   {
    "duration": 6,
    "start_time": "2023-03-24T01:03:21.809Z"
   },
   {
    "duration": 4487,
    "start_time": "2023-03-24T01:03:22.012Z"
   },
   {
    "duration": 1068,
    "start_time": "2023-03-24T01:03:26.501Z"
   },
   {
    "duration": 6,
    "start_time": "2023-03-24T01:03:27.570Z"
   },
   {
    "duration": 75853,
    "start_time": "2023-03-24T01:03:27.578Z"
   },
   {
    "duration": 5,
    "start_time": "2023-03-24T01:04:43.440Z"
   },
   {
    "duration": 664,
    "start_time": "2023-03-24T01:04:43.447Z"
   },
   {
    "duration": 10,
    "start_time": "2023-03-24T01:04:44.115Z"
   },
   {
    "duration": 20,
    "start_time": "2023-03-24T01:04:44.142Z"
   },
   {
    "duration": 43,
    "start_time": "2023-03-24T01:05:04.442Z"
   },
   {
    "duration": 51,
    "start_time": "2023-03-24T01:05:04.983Z"
   },
   {
    "duration": 16,
    "start_time": "2023-03-24T01:05:07.422Z"
   },
   {
    "duration": 9,
    "start_time": "2023-03-24T01:05:08.631Z"
   },
   {
    "duration": 54,
    "start_time": "2023-03-24T01:05:13.454Z"
   },
   {
    "duration": 46,
    "start_time": "2023-03-24T01:05:13.511Z"
   },
   {
    "duration": 12,
    "start_time": "2023-03-24T01:05:14.583Z"
   },
   {
    "duration": 44,
    "start_time": "2023-03-24T01:05:15.492Z"
   },
   {
    "duration": 10218,
    "start_time": "2023-03-24T01:05:18.333Z"
   },
   {
    "duration": 467,
    "start_time": "2023-03-24T01:05:28.553Z"
   },
   {
    "duration": 150,
    "start_time": "2023-03-24T01:05:48.209Z"
   },
   {
    "duration": 132,
    "start_time": "2023-03-24T01:08:49.570Z"
   },
   {
    "duration": 115,
    "start_time": "2023-03-24T01:09:02.482Z"
   },
   {
    "duration": 51,
    "start_time": "2023-03-24T01:09:13.810Z"
   },
   {
    "duration": 15,
    "start_time": "2023-03-24T01:10:10.192Z"
   },
   {
    "duration": 4,
    "start_time": "2023-03-24T01:10:13.226Z"
   },
   {
    "duration": 58,
    "start_time": "2023-03-24T01:10:15.392Z"
   },
   {
    "duration": 3,
    "start_time": "2023-03-24T01:10:16.375Z"
   },
   {
    "duration": 5,
    "start_time": "2023-03-24T01:10:16.605Z"
   },
   {
    "duration": 11,
    "start_time": "2023-03-24T01:11:53.488Z"
   },
   {
    "duration": 11,
    "start_time": "2023-03-24T01:11:53.985Z"
   },
   {
    "duration": 40,
    "start_time": "2023-03-24T01:12:35.878Z"
   },
   {
    "duration": 5,
    "start_time": "2023-03-24T01:15:20.323Z"
   },
   {
    "duration": 365,
    "start_time": "2023-03-24T01:15:23.031Z"
   },
   {
    "duration": 344,
    "start_time": "2023-03-24T01:15:29.412Z"
   },
   {
    "duration": 16,
    "start_time": "2023-03-24T01:15:31.991Z"
   },
   {
    "duration": 9,
    "start_time": "2023-03-24T01:15:37.161Z"
   },
   {
    "duration": 10,
    "start_time": "2023-03-24T01:16:23.501Z"
   },
   {
    "duration": 12,
    "start_time": "2023-03-24T01:19:53.772Z"
   },
   {
    "duration": 3,
    "start_time": "2023-03-24T01:19:55.061Z"
   },
   {
    "duration": 6,
    "start_time": "2023-03-24T01:19:55.807Z"
   },
   {
    "duration": 32,
    "start_time": "2023-03-24T01:19:56.951Z"
   },
   {
    "duration": 25,
    "start_time": "2023-03-24T01:20:14.360Z"
   },
   {
    "duration": 22,
    "start_time": "2023-03-24T01:20:16.381Z"
   },
   {
    "duration": 10,
    "start_time": "2023-03-24T01:20:17.681Z"
   },
   {
    "duration": 10,
    "start_time": "2023-03-24T01:20:32.722Z"
   },
   {
    "duration": 3,
    "start_time": "2023-03-24T01:20:36.141Z"
   },
   {
    "duration": 4,
    "start_time": "2023-03-24T01:21:08.950Z"
   },
   {
    "duration": 102,
    "start_time": "2023-03-24T01:21:47.583Z"
   },
   {
    "duration": 52,
    "start_time": "2023-03-24T01:26:23.123Z"
   },
   {
    "duration": 4,
    "start_time": "2023-03-24T01:26:28.623Z"
   },
   {
    "duration": 4,
    "start_time": "2023-03-24T01:26:30.212Z"
   },
   {
    "duration": 4,
    "start_time": "2023-03-24T01:26:33.643Z"
   },
   {
    "duration": 309,
    "start_time": "2023-03-24T01:26:34.704Z"
   },
   {
    "duration": 105,
    "start_time": "2023-03-24T01:26:35.844Z"
   },
   {
    "duration": 7,
    "start_time": "2023-03-24T01:26:39.004Z"
   },
   {
    "duration": 3,
    "start_time": "2023-03-24T01:26:39.893Z"
   },
   {
    "duration": 3,
    "start_time": "2023-03-24T01:26:40.763Z"
   },
   {
    "duration": 19,
    "start_time": "2023-03-24T01:26:41.433Z"
   },
   {
    "duration": 70,
    "start_time": "2023-03-24T01:26:43.334Z"
   },
   {
    "duration": 23,
    "start_time": "2023-03-24T01:26:44.664Z"
   },
   {
    "duration": 10,
    "start_time": "2023-03-24T01:26:45.503Z"
   },
   {
    "duration": 11,
    "start_time": "2023-03-24T01:26:47.771Z"
   },
   {
    "duration": 4,
    "start_time": "2023-03-24T01:26:48.503Z"
   },
   {
    "duration": 4,
    "start_time": "2023-03-24T01:27:06.456Z"
   },
   {
    "duration": 1560189,
    "start_time": "2023-03-24T01:27:07.222Z"
   },
   {
    "duration": 6,
    "start_time": "2023-03-24T01:57:04.605Z"
   },
   {
    "duration": 5,
    "start_time": "2023-03-24T01:57:36.405Z"
   },
   {
    "duration": 5,
    "start_time": "2023-03-24T01:57:37.614Z"
   },
   {
    "duration": 4,
    "start_time": "2023-03-24T01:58:14.164Z"
   },
   {
    "duration": 5,
    "start_time": "2023-03-24T01:58:17.091Z"
   },
   {
    "duration": 5,
    "start_time": "2023-03-24T01:58:19.085Z"
   },
   {
    "duration": 5,
    "start_time": "2023-03-24T01:58:30.164Z"
   },
   {
    "duration": 7,
    "start_time": "2023-03-24T01:59:16.284Z"
   },
   {
    "duration": 65034,
    "start_time": "2023-03-24T01:59:16.293Z"
   },
   {
    "duration": 6,
    "start_time": "2023-03-24T02:00:25.215Z"
   },
   {
    "duration": 1307,
    "start_time": "2023-03-24T07:08:37.093Z"
   },
   {
    "duration": 3326,
    "start_time": "2023-03-24T07:08:43.582Z"
   },
   {
    "duration": 1393,
    "start_time": "2023-03-24T07:08:46.911Z"
   },
   {
    "duration": 6,
    "start_time": "2023-03-24T07:08:50.573Z"
   },
   {
    "duration": 47,
    "start_time": "2023-03-24T07:08:50.967Z"
   },
   {
    "duration": 5,
    "start_time": "2023-03-24T07:08:51.305Z"
   },
   {
    "duration": 5,
    "start_time": "2023-03-24T07:08:51.712Z"
   },
   {
    "duration": 84,
    "start_time": "2023-03-24T07:08:51.782Z"
   },
   {
    "duration": 6,
    "start_time": "2023-03-24T07:08:51.899Z"
   },
   {
    "duration": 1418,
    "start_time": "2023-03-24T07:08:58.214Z"
   },
   {
    "duration": 231,
    "start_time": "2023-03-24T07:08:59.640Z"
   },
   {
    "duration": 217,
    "start_time": "2023-03-24T07:08:59.874Z"
   },
   {
    "duration": 164,
    "start_time": "2023-03-24T07:09:00.094Z"
   },
   {
    "duration": 852,
    "start_time": "2023-03-24T07:09:00.261Z"
   },
   {
    "duration": 166,
    "start_time": "2023-03-24T07:09:01.115Z"
   },
   {
    "duration": 173,
    "start_time": "2023-03-24T07:09:01.284Z"
   },
   {
    "duration": 145,
    "start_time": "2023-03-24T07:09:01.469Z"
   },
   {
    "duration": 52,
    "start_time": "2023-03-24T07:09:01.616Z"
   },
   {
    "duration": 76,
    "start_time": "2023-03-24T07:09:01.672Z"
   },
   {
    "duration": 143,
    "start_time": "2023-03-24T07:09:01.758Z"
   },
   {
    "duration": 92,
    "start_time": "2023-03-24T07:09:01.903Z"
   },
   {
    "duration": 484,
    "start_time": "2023-03-24T07:09:01.998Z"
   },
   {
    "duration": 470,
    "start_time": "2023-03-24T07:09:02.487Z"
   },
   {
    "duration": 436,
    "start_time": "2023-03-24T07:09:02.970Z"
   },
   {
    "duration": 7,
    "start_time": "2023-03-24T07:09:03.409Z"
   },
   {
    "duration": 6084,
    "start_time": "2023-03-24T07:09:03.419Z"
   },
   {
    "duration": 1201,
    "start_time": "2023-03-24T07:09:09.507Z"
   },
   {
    "duration": 5,
    "start_time": "2023-03-24T07:09:10.711Z"
   },
   {
    "duration": 89536,
    "start_time": "2023-03-24T07:09:10.718Z"
   },
   {
    "duration": 9,
    "start_time": "2023-03-24T07:10:40.262Z"
   },
   {
    "duration": 762,
    "start_time": "2023-03-24T07:10:40.274Z"
   },
   {
    "duration": 15,
    "start_time": "2023-03-24T07:10:41.042Z"
   },
   {
    "duration": 26,
    "start_time": "2023-03-24T07:10:41.064Z"
   },
   {
    "duration": 60,
    "start_time": "2023-03-24T07:10:41.093Z"
   },
   {
    "duration": 78,
    "start_time": "2023-03-24T07:10:41.155Z"
   },
   {
    "duration": 30,
    "start_time": "2023-03-24T07:10:41.236Z"
   },
   {
    "duration": 13,
    "start_time": "2023-03-24T07:10:41.268Z"
   },
   {
    "duration": 66,
    "start_time": "2023-03-24T07:10:41.285Z"
   },
   {
    "duration": 49,
    "start_time": "2023-03-24T07:10:41.354Z"
   },
   {
    "duration": 14,
    "start_time": "2023-03-24T07:10:41.405Z"
   },
   {
    "duration": 51,
    "start_time": "2023-03-24T07:10:41.442Z"
   },
   {
    "duration": 10472,
    "start_time": "2023-03-24T07:10:41.496Z"
   },
   {
    "duration": 502,
    "start_time": "2023-03-24T07:10:51.971Z"
   },
   {
    "duration": 203,
    "start_time": "2023-03-24T07:10:52.476Z"
   },
   {
    "duration": 17,
    "start_time": "2023-03-24T07:10:52.682Z"
   },
   {
    "duration": 4,
    "start_time": "2023-03-24T07:10:52.701Z"
   },
   {
    "duration": 103,
    "start_time": "2023-03-24T07:10:52.707Z"
   },
   {
    "duration": 5,
    "start_time": "2023-03-24T07:10:52.813Z"
   },
   {
    "duration": 20,
    "start_time": "2023-03-24T07:10:52.820Z"
   },
   {
    "duration": 23,
    "start_time": "2023-03-24T07:10:52.845Z"
   },
   {
    "duration": 396,
    "start_time": "2023-03-24T07:10:52.870Z"
   },
   {
    "duration": 143,
    "start_time": "2023-03-24T07:10:53.268Z"
   },
   {
    "duration": 8,
    "start_time": "2023-03-24T07:10:53.413Z"
   },
   {
    "duration": 18,
    "start_time": "2023-03-24T07:10:53.423Z"
   },
   {
    "duration": 48,
    "start_time": "2023-03-24T07:10:53.444Z"
   },
   {
    "duration": 43,
    "start_time": "2023-03-24T07:10:53.494Z"
   },
   {
    "duration": 125,
    "start_time": "2023-03-24T07:10:53.540Z"
   },
   {
    "duration": 31,
    "start_time": "2023-03-24T07:10:53.670Z"
   },
   {
    "duration": 16,
    "start_time": "2023-03-24T07:10:53.704Z"
   },
   {
    "duration": 34,
    "start_time": "2023-03-24T07:10:53.723Z"
   },
   {
    "duration": 19,
    "start_time": "2023-03-24T07:10:53.760Z"
   },
   {
    "duration": 6098,
    "start_time": "2023-03-24T09:09:14.357Z"
   },
   {
    "duration": 15113,
    "start_time": "2023-03-24T09:09:20.550Z"
   },
   {
    "duration": 17001,
    "start_time": "2023-03-24T09:09:35.755Z"
   },
   {
    "duration": 4,
    "start_time": "2023-03-24T09:09:52.758Z"
   },
   {
    "duration": 410,
    "start_time": "2023-03-24T09:09:52.848Z"
   },
   {
    "duration": 291,
    "start_time": "2023-03-24T09:09:53.262Z"
   },
   {
    "duration": 497,
    "start_time": "2023-03-24T09:09:53.554Z"
   },
   {
    "duration": 597,
    "start_time": "2023-03-24T09:09:54.052Z"
   },
   {
    "duration": 22,
    "start_time": "2023-03-24T09:09:54.651Z"
   },
   {
    "duration": 6610,
    "start_time": "2023-03-24T09:09:54.751Z"
   },
   {
    "duration": 897,
    "start_time": "2023-03-24T09:10:01.366Z"
   },
   {
    "duration": 1313,
    "start_time": "2023-03-24T09:10:02.350Z"
   },
   {
    "duration": 1217,
    "start_time": "2023-03-24T09:10:03.754Z"
   },
   {
    "duration": 2904,
    "start_time": "2023-03-24T09:10:05.051Z"
   },
   {
    "duration": 606,
    "start_time": "2023-03-24T09:10:07.961Z"
   },
   {
    "duration": 799,
    "start_time": "2023-03-24T09:10:08.652Z"
   },
   {
    "duration": 788,
    "start_time": "2023-03-24T09:10:09.461Z"
   },
   {
    "duration": 102,
    "start_time": "2023-03-24T09:10:10.250Z"
   },
   {
    "duration": 505,
    "start_time": "2023-03-24T09:10:10.353Z"
   },
   {
    "duration": 693,
    "start_time": "2023-03-24T09:10:10.860Z"
   },
   {
    "duration": 405,
    "start_time": "2023-03-24T09:10:11.555Z"
   },
   {
    "duration": 2299,
    "start_time": "2023-03-24T09:10:11.961Z"
   },
   {
    "duration": 1601,
    "start_time": "2023-03-24T09:10:14.262Z"
   },
   {
    "duration": 1903,
    "start_time": "2023-03-24T09:10:15.948Z"
   },
   {
    "duration": 7,
    "start_time": "2023-03-24T09:10:17.852Z"
   },
   {
    "duration": 30403,
    "start_time": "2023-03-24T09:10:17.861Z"
   },
   {
    "duration": 8199,
    "start_time": "2023-03-24T09:10:48.350Z"
   },
   {
    "duration": 7,
    "start_time": "2023-03-24T09:10:56.554Z"
   },
   {
    "duration": 429786,
    "start_time": "2023-03-24T09:10:56.570Z"
   },
   {
    "duration": 96,
    "start_time": "2023-03-24T09:18:06.358Z"
   },
   {
    "duration": 4595,
    "start_time": "2023-03-24T09:18:06.456Z"
   },
   {
    "duration": 94,
    "start_time": "2023-03-24T09:18:11.055Z"
   },
   {
    "duration": 200,
    "start_time": "2023-03-24T09:18:11.154Z"
   },
   {
    "duration": 103,
    "start_time": "2023-03-24T09:18:11.358Z"
   },
   {
    "duration": 506,
    "start_time": "2023-03-24T09:18:11.549Z"
   },
   {
    "duration": 296,
    "start_time": "2023-03-24T09:18:12.059Z"
   },
   {
    "duration": 102,
    "start_time": "2023-03-24T09:18:12.357Z"
   },
   {
    "duration": 291,
    "start_time": "2023-03-24T09:18:12.463Z"
   },
   {
    "duration": 594,
    "start_time": "2023-03-24T09:18:12.755Z"
   },
   {
    "duration": 597,
    "start_time": "2023-03-24T09:18:13.351Z"
   },
   {
    "duration": 184,
    "start_time": "2023-03-24T09:18:13.964Z"
   },
   {
    "duration": 595,
    "start_time": "2023-03-24T09:18:14.159Z"
   },
   {
    "duration": 51786,
    "start_time": "2023-03-24T09:18:14.763Z"
   },
   {
    "duration": 2212,
    "start_time": "2023-03-24T09:19:06.551Z"
   },
   {
    "duration": 1207,
    "start_time": "2023-03-24T09:19:08.852Z"
   },
   {
    "duration": 102,
    "start_time": "2023-03-24T09:19:10.150Z"
   },
   {
    "duration": 396,
    "start_time": "2023-03-24T09:19:10.254Z"
   },
   {
    "duration": 397,
    "start_time": "2023-03-24T09:19:10.651Z"
   },
   {
    "duration": 5,
    "start_time": "2023-03-24T09:19:11.050Z"
   },
   {
    "duration": 294,
    "start_time": "2023-03-24T09:19:11.056Z"
   },
   {
    "duration": 313,
    "start_time": "2023-03-24T09:19:11.351Z"
   },
   {
    "duration": 2808,
    "start_time": "2023-03-24T09:19:11.751Z"
   },
   {
    "duration": 801,
    "start_time": "2023-03-24T09:19:14.651Z"
   },
   {
    "duration": 95,
    "start_time": "2023-03-24T09:19:15.453Z"
   },
   {
    "duration": 293,
    "start_time": "2023-03-24T09:19:15.557Z"
   },
   {
    "duration": 499,
    "start_time": "2023-03-24T09:19:15.851Z"
   },
   {
    "duration": 699,
    "start_time": "2023-03-24T09:19:16.351Z"
   },
   {
    "duration": 710,
    "start_time": "2023-03-24T09:19:17.148Z"
   },
   {
    "duration": 203,
    "start_time": "2023-03-24T09:19:17.949Z"
   },
   {
    "duration": 201,
    "start_time": "2023-03-24T09:19:18.156Z"
   },
   {
    "duration": 399,
    "start_time": "2023-03-24T09:19:18.358Z"
   },
   {
    "duration": 493,
    "start_time": "2023-03-24T09:19:18.758Z"
   },
   {
    "duration": 399,
    "start_time": "2023-03-24T09:19:19.252Z"
   },
   {
    "duration": 1019,
    "start_time": "2023-03-24T09:23:27.395Z"
   },
   {
    "duration": 2200,
    "start_time": "2023-03-24T09:23:28.416Z"
   },
   {
    "duration": 712,
    "start_time": "2023-03-24T09:23:30.618Z"
   },
   {
    "duration": 4,
    "start_time": "2023-03-24T09:23:31.331Z"
   },
   {
    "duration": 63,
    "start_time": "2023-03-24T09:23:31.338Z"
   },
   {
    "duration": 11,
    "start_time": "2023-03-24T09:23:31.402Z"
   },
   {
    "duration": 37,
    "start_time": "2023-03-24T09:23:31.415Z"
   },
   {
    "duration": 66,
    "start_time": "2023-03-24T09:23:31.453Z"
   },
   {
    "duration": 4,
    "start_time": "2023-03-24T09:23:31.520Z"
   },
   {
    "duration": 723,
    "start_time": "2023-03-24T09:23:31.526Z"
   },
   {
    "duration": 107,
    "start_time": "2023-03-24T09:23:32.250Z"
   },
   {
    "duration": 142,
    "start_time": "2023-03-24T09:23:32.359Z"
   },
   {
    "duration": 105,
    "start_time": "2023-03-24T09:23:32.503Z"
   },
   {
    "duration": 379,
    "start_time": "2023-03-24T09:23:32.610Z"
   },
   {
    "duration": 90,
    "start_time": "2023-03-24T09:23:32.991Z"
   },
   {
    "duration": 84,
    "start_time": "2023-03-24T09:23:33.083Z"
   },
   {
    "duration": 71,
    "start_time": "2023-03-24T09:23:33.169Z"
   },
   {
    "duration": 15,
    "start_time": "2023-03-24T09:23:33.241Z"
   },
   {
    "duration": 31,
    "start_time": "2023-03-24T09:23:33.257Z"
   },
   {
    "duration": 39,
    "start_time": "2023-03-24T09:23:33.289Z"
   },
   {
    "duration": 27,
    "start_time": "2023-03-24T09:23:33.330Z"
   },
   {
    "duration": 222,
    "start_time": "2023-03-24T09:23:33.358Z"
   },
   {
    "duration": 212,
    "start_time": "2023-03-24T09:23:33.582Z"
   },
   {
    "duration": 218,
    "start_time": "2023-03-24T09:23:33.795Z"
   },
   {
    "duration": 4,
    "start_time": "2023-03-24T09:23:34.015Z"
   },
   {
    "duration": 3579,
    "start_time": "2023-03-24T09:23:34.020Z"
   },
   {
    "duration": 913,
    "start_time": "2023-03-24T09:23:37.601Z"
   },
   {
    "duration": 5,
    "start_time": "2023-03-24T09:23:38.516Z"
   },
   {
    "duration": 53799,
    "start_time": "2023-03-24T09:23:38.522Z"
   },
   {
    "duration": 4,
    "start_time": "2023-03-24T09:24:32.323Z"
   },
   {
    "duration": 545,
    "start_time": "2023-03-24T09:24:32.329Z"
   },
   {
    "duration": 8,
    "start_time": "2023-03-24T09:24:32.876Z"
   },
   {
    "duration": 9,
    "start_time": "2023-03-24T09:24:32.886Z"
   },
   {
    "duration": 15,
    "start_time": "2023-03-24T09:24:32.897Z"
   },
   {
    "duration": 55,
    "start_time": "2023-03-24T09:24:32.913Z"
   },
   {
    "duration": 33,
    "start_time": "2023-03-24T09:24:32.970Z"
   },
   {
    "duration": 12,
    "start_time": "2023-03-24T09:24:33.004Z"
   },
   {
    "duration": 11,
    "start_time": "2023-03-24T09:24:33.017Z"
   },
   {
    "duration": 42,
    "start_time": "2023-03-24T09:24:33.048Z"
   },
   {
    "duration": 28,
    "start_time": "2023-03-24T09:24:33.092Z"
   },
   {
    "duration": 26,
    "start_time": "2023-03-24T09:24:33.124Z"
   },
   {
    "duration": 30,
    "start_time": "2023-03-24T09:24:33.151Z"
   },
   {
    "duration": 7277,
    "start_time": "2023-03-24T09:24:33.182Z"
   },
   {
    "duration": 389,
    "start_time": "2023-03-24T09:24:40.460Z"
   },
   {
    "duration": 121,
    "start_time": "2023-03-24T09:24:40.851Z"
   },
   {
    "duration": 11,
    "start_time": "2023-03-24T09:24:40.973Z"
   },
   {
    "duration": 3,
    "start_time": "2023-03-24T09:24:40.986Z"
   },
   {
    "duration": 47,
    "start_time": "2023-03-24T09:24:40.990Z"
   },
   {
    "duration": 3,
    "start_time": "2023-03-24T09:24:41.039Z"
   },
   {
    "duration": 4,
    "start_time": "2023-03-24T09:24:41.049Z"
   },
   {
    "duration": 15,
    "start_time": "2023-03-24T09:24:41.054Z"
   },
   {
    "duration": 269,
    "start_time": "2023-03-24T09:24:41.070Z"
   },
   {
    "duration": 77,
    "start_time": "2023-03-24T09:24:41.340Z"
   },
   {
    "duration": 5,
    "start_time": "2023-03-24T09:24:41.419Z"
   },
   {
    "duration": 6,
    "start_time": "2023-03-24T09:24:41.425Z"
   },
   {
    "duration": 29,
    "start_time": "2023-03-24T09:24:41.433Z"
   },
   {
    "duration": 25,
    "start_time": "2023-03-24T09:24:41.464Z"
   },
   {
    "duration": 60,
    "start_time": "2023-03-24T09:24:41.491Z"
   },
   {
    "duration": 33,
    "start_time": "2023-03-24T09:24:41.552Z"
   },
   {
    "duration": 9,
    "start_time": "2023-03-24T09:24:41.587Z"
   },
   {
    "duration": 27,
    "start_time": "2023-03-24T09:24:41.597Z"
   },
   {
    "duration": 7,
    "start_time": "2023-03-24T09:24:41.626Z"
   },
   {
    "duration": 10,
    "start_time": "2023-03-24T09:24:41.635Z"
   },
   {
    "duration": 53,
    "start_time": "2023-03-24T10:13:20.348Z"
   },
   {
    "duration": 5,
    "start_time": "2023-03-24T10:14:07.435Z"
   },
   {
    "duration": 7,
    "start_time": "2023-03-24T10:14:48.798Z"
   },
   {
    "duration": 3729,
    "start_time": "2023-03-24T10:15:11.649Z"
   },
   {
    "duration": 401,
    "start_time": "2023-03-24T10:15:23.888Z"
   },
   {
    "duration": 3040,
    "start_time": "2023-03-24T10:15:28.917Z"
   },
   {
    "duration": 4,
    "start_time": "2023-03-24T10:15:33.441Z"
   },
   {
    "duration": 18,
    "start_time": "2023-03-24T10:15:35.518Z"
   },
   {
    "duration": 19,
    "start_time": "2023-03-24T10:15:35.538Z"
   },
   {
    "duration": 26,
    "start_time": "2023-03-24T10:15:35.558Z"
   },
   {
    "duration": 58,
    "start_time": "2023-03-24T10:15:35.585Z"
   },
   {
    "duration": 4,
    "start_time": "2023-03-24T10:15:35.645Z"
   },
   {
    "duration": 956,
    "start_time": "2023-03-24T10:15:35.650Z"
   },
   {
    "duration": 159,
    "start_time": "2023-03-24T10:15:36.608Z"
   },
   {
    "duration": 184,
    "start_time": "2023-03-24T10:15:36.769Z"
   },
   {
    "duration": 144,
    "start_time": "2023-03-24T10:15:36.954Z"
   },
   {
    "duration": 542,
    "start_time": "2023-03-24T10:15:37.100Z"
   },
   {
    "duration": 97,
    "start_time": "2023-03-24T10:15:37.968Z"
   },
   {
    "duration": 86,
    "start_time": "2023-03-24T10:15:38.138Z"
   },
   {
    "duration": 86,
    "start_time": "2023-03-24T10:15:38.329Z"
   },
   {
    "duration": 12,
    "start_time": "2023-03-24T10:15:39.229Z"
   },
   {
    "duration": 34,
    "start_time": "2023-03-24T10:15:39.429Z"
   },
   {
    "duration": 44,
    "start_time": "2023-03-24T10:15:44.789Z"
   },
   {
    "duration": 23,
    "start_time": "2023-03-24T10:15:44.835Z"
   },
   {
    "duration": 295,
    "start_time": "2023-03-24T10:15:44.860Z"
   },
   {
    "duration": 258,
    "start_time": "2023-03-24T10:15:45.157Z"
   },
   {
    "duration": 259,
    "start_time": "2023-03-24T10:15:45.418Z"
   },
   {
    "duration": 5,
    "start_time": "2023-03-24T10:15:45.679Z"
   },
   {
    "duration": 4716,
    "start_time": "2023-03-24T10:15:45.690Z"
   },
   {
    "duration": 1157,
    "start_time": "2023-03-24T10:15:50.408Z"
   },
   {
    "duration": 5,
    "start_time": "2023-03-24T10:15:51.567Z"
   },
   {
    "duration": 69321,
    "start_time": "2023-03-24T10:15:51.573Z"
   },
   {
    "duration": 4,
    "start_time": "2023-03-24T10:17:00.896Z"
   },
   {
    "duration": 673,
    "start_time": "2023-03-24T10:17:00.902Z"
   },
   {
    "duration": 18,
    "start_time": "2023-03-24T10:17:01.577Z"
   },
   {
    "duration": 38,
    "start_time": "2023-03-24T10:17:01.598Z"
   },
   {
    "duration": 23,
    "start_time": "2023-03-24T10:17:01.638Z"
   },
   {
    "duration": 67,
    "start_time": "2023-03-24T10:17:01.662Z"
   },
   {
    "duration": 62,
    "start_time": "2023-03-24T10:17:01.731Z"
   },
   {
    "duration": 12,
    "start_time": "2023-03-24T10:17:01.795Z"
   },
   {
    "duration": 23,
    "start_time": "2023-03-24T10:17:01.808Z"
   },
   {
    "duration": 96,
    "start_time": "2023-03-24T10:17:01.833Z"
   },
   {
    "duration": 35,
    "start_time": "2023-03-24T10:17:01.931Z"
   },
   {
    "duration": 23,
    "start_time": "2023-03-24T10:17:01.967Z"
   },
   {
    "duration": 39,
    "start_time": "2023-03-24T10:17:01.992Z"
   },
   {
    "duration": 8128,
    "start_time": "2023-03-24T10:17:02.033Z"
   },
   {
    "duration": 450,
    "start_time": "2023-03-24T10:17:10.163Z"
   },
   {
    "duration": 154,
    "start_time": "2023-03-24T10:17:10.616Z"
   },
   {
    "duration": 17,
    "start_time": "2023-03-24T10:17:10.773Z"
   },
   {
    "duration": 3,
    "start_time": "2023-03-24T10:17:10.792Z"
   },
   {
    "duration": 75,
    "start_time": "2023-03-24T10:17:10.797Z"
   },
   {
    "duration": 3,
    "start_time": "2023-03-24T10:17:10.874Z"
   },
   {
    "duration": 36,
    "start_time": "2023-03-24T10:17:10.879Z"
   },
   {
    "duration": 5,
    "start_time": "2023-03-24T10:18:09.148Z"
   },
   {
    "duration": 336,
    "start_time": "2023-03-24T10:18:10.567Z"
   },
   {
    "duration": 151,
    "start_time": "2023-03-24T10:18:12.668Z"
   },
   {
    "duration": 47,
    "start_time": "2023-03-24T10:19:03.159Z"
   },
   {
    "duration": 3,
    "start_time": "2023-03-24T10:19:04.069Z"
   },
   {
    "duration": 3,
    "start_time": "2023-03-24T10:19:04.486Z"
   },
   {
    "duration": 320,
    "start_time": "2023-03-24T10:20:17.761Z"
   },
   {
    "duration": 111,
    "start_time": "2023-03-24T10:20:20.288Z"
   },
   {
    "duration": 33,
    "start_time": "2023-03-24T10:21:27.411Z"
   },
   {
    "duration": 55,
    "start_time": "2023-03-24T10:21:38.671Z"
   },
   {
    "duration": 377,
    "start_time": "2023-03-24T10:21:50.143Z"
   },
   {
    "duration": 137,
    "start_time": "2023-03-24T10:21:55.171Z"
   },
   {
    "duration": 32,
    "start_time": "2023-03-24T10:29:13.379Z"
   },
   {
    "duration": 40,
    "start_time": "2023-03-24T10:30:33.211Z"
   },
   {
    "duration": 45,
    "start_time": "2023-03-24T10:32:25.561Z"
   },
   {
    "duration": 796,
    "start_time": "2023-03-24T10:32:36.602Z"
   },
   {
    "duration": 3,
    "start_time": "2023-03-24T10:32:38.502Z"
   },
   {
    "duration": 24,
    "start_time": "2023-03-24T10:32:38.889Z"
   },
   {
    "duration": 4,
    "start_time": "2023-03-24T10:32:39.207Z"
   },
   {
    "duration": 3,
    "start_time": "2023-03-24T10:32:39.642Z"
   },
   {
    "duration": 52,
    "start_time": "2023-03-24T10:32:39.934Z"
   },
   {
    "duration": 4,
    "start_time": "2023-03-24T10:32:40.062Z"
   },
   {
    "duration": 943,
    "start_time": "2023-03-24T10:32:40.699Z"
   },
   {
    "duration": 146,
    "start_time": "2023-03-24T10:32:41.644Z"
   },
   {
    "duration": 131,
    "start_time": "2023-03-24T10:32:42.042Z"
   },
   {
    "duration": 141,
    "start_time": "2023-03-24T10:32:42.175Z"
   },
   {
    "duration": 448,
    "start_time": "2023-03-24T10:32:42.771Z"
   },
   {
    "duration": 70,
    "start_time": "2023-03-24T10:32:46.250Z"
   },
   {
    "duration": 71,
    "start_time": "2023-03-24T10:32:46.322Z"
   },
   {
    "duration": 67,
    "start_time": "2023-03-24T10:32:46.394Z"
   },
   {
    "duration": 17,
    "start_time": "2023-03-24T10:32:48.781Z"
   },
   {
    "duration": 30,
    "start_time": "2023-03-24T10:32:48.901Z"
   },
   {
    "duration": 36,
    "start_time": "2023-03-24T10:32:49.934Z"
   },
   {
    "duration": 21,
    "start_time": "2023-03-24T10:32:54.052Z"
   },
   {
    "duration": 248,
    "start_time": "2023-03-24T10:32:54.167Z"
   },
   {
    "duration": 255,
    "start_time": "2023-03-24T10:32:54.417Z"
   },
   {
    "duration": 271,
    "start_time": "2023-03-24T10:32:54.674Z"
   },
   {
    "duration": 50,
    "start_time": "2023-03-24T10:33:01.342Z"
   },
   {
    "duration": 31,
    "start_time": "2023-03-24T10:34:30.489Z"
   },
   {
    "duration": 27,
    "start_time": "2023-03-24T10:34:48.271Z"
   },
   {
    "duration": 28,
    "start_time": "2023-03-24T10:35:08.136Z"
   },
   {
    "duration": 53,
    "start_time": "2023-03-24T10:35:40.916Z"
   },
   {
    "duration": 799,
    "start_time": "2023-03-24T10:35:49.037Z"
   },
   {
    "duration": 3,
    "start_time": "2023-03-24T10:35:50.157Z"
   },
   {
    "duration": 14,
    "start_time": "2023-03-24T10:35:51.177Z"
   },
   {
    "duration": 3,
    "start_time": "2023-03-24T10:35:52.205Z"
   },
   {
    "duration": 29,
    "start_time": "2023-03-24T10:35:52.210Z"
   },
   {
    "duration": 45,
    "start_time": "2023-03-24T10:35:52.241Z"
   },
   {
    "duration": 13,
    "start_time": "2023-03-24T10:35:52.288Z"
   },
   {
    "duration": 937,
    "start_time": "2023-03-24T10:35:52.656Z"
   },
   {
    "duration": 135,
    "start_time": "2023-03-24T10:35:53.595Z"
   },
   {
    "duration": 140,
    "start_time": "2023-03-24T10:35:53.732Z"
   },
   {
    "duration": 128,
    "start_time": "2023-03-24T10:35:53.946Z"
   },
   {
    "duration": 414,
    "start_time": "2023-03-24T10:35:54.076Z"
   },
   {
    "duration": 70,
    "start_time": "2023-03-24T10:35:54.858Z"
   },
   {
    "duration": 65,
    "start_time": "2023-03-24T10:35:55.032Z"
   },
   {
    "duration": 63,
    "start_time": "2023-03-24T10:35:55.164Z"
   },
   {
    "duration": 10,
    "start_time": "2023-03-24T10:35:55.977Z"
   },
   {
    "duration": 17,
    "start_time": "2023-03-24T10:35:56.087Z"
   },
   {
    "duration": 34,
    "start_time": "2023-03-24T10:35:57.035Z"
   },
   {
    "duration": 27,
    "start_time": "2023-03-24T10:35:57.493Z"
   },
   {
    "duration": 261,
    "start_time": "2023-03-24T10:35:58.164Z"
   },
   {
    "duration": 294,
    "start_time": "2023-03-24T10:35:58.426Z"
   },
   {
    "duration": 289,
    "start_time": "2023-03-24T10:35:58.722Z"
   },
   {
    "duration": 56,
    "start_time": "2023-03-24T10:36:06.417Z"
   },
   {
    "duration": 9,
    "start_time": "2023-03-24T10:36:15.897Z"
   },
   {
    "duration": 12,
    "start_time": "2023-03-24T10:36:16.068Z"
   },
   {
    "duration": 17,
    "start_time": "2023-03-24T10:36:16.248Z"
   },
   {
    "duration": 38,
    "start_time": "2023-03-24T10:36:18.947Z"
   },
   {
    "duration": 44,
    "start_time": "2023-03-24T10:36:20.239Z"
   },
   {
    "duration": 13,
    "start_time": "2023-03-24T10:36:20.285Z"
   },
   {
    "duration": 20,
    "start_time": "2023-03-24T10:36:20.300Z"
   },
   {
    "duration": 47,
    "start_time": "2023-03-24T10:36:20.322Z"
   },
   {
    "duration": 43,
    "start_time": "2023-03-24T10:36:20.371Z"
   },
   {
    "duration": 10,
    "start_time": "2023-03-24T10:36:22.317Z"
   },
   {
    "duration": 36,
    "start_time": "2023-03-24T10:36:22.497Z"
   },
   {
    "duration": 2056,
    "start_time": "2023-03-24T10:36:26.381Z"
   },
   {
    "duration": 407,
    "start_time": "2023-03-24T10:36:36.236Z"
   },
   {
    "duration": 135,
    "start_time": "2023-03-24T10:36:36.646Z"
   },
   {
    "duration": 14,
    "start_time": "2023-03-24T10:36:41.483Z"
   },
   {
    "duration": 3,
    "start_time": "2023-03-24T10:36:41.972Z"
   },
   {
    "duration": 51,
    "start_time": "2023-03-24T10:36:42.658Z"
   },
   {
    "duration": 4,
    "start_time": "2023-03-24T10:36:47.116Z"
   },
   {
    "duration": 31,
    "start_time": "2023-03-24T10:36:47.122Z"
   },
   {
    "duration": 4,
    "start_time": "2023-03-24T10:36:50.059Z"
   },
   {
    "duration": 332,
    "start_time": "2023-03-24T10:36:52.617Z"
   },
   {
    "duration": 124,
    "start_time": "2023-03-24T10:36:54.997Z"
   },
   {
    "duration": 5,
    "start_time": "2023-03-24T10:45:24.563Z"
   },
   {
    "duration": 1608,
    "start_time": "2023-03-24T10:45:27.564Z"
   },
   {
    "duration": 4,
    "start_time": "2023-03-24T10:45:44.862Z"
   },
   {
    "duration": 1504,
    "start_time": "2023-03-24T10:45:46.372Z"
   },
   {
    "duration": 7,
    "start_time": "2023-03-24T10:46:42.360Z"
   },
   {
    "duration": 3,
    "start_time": "2023-03-24T10:46:43.050Z"
   },
   {
    "duration": 3,
    "start_time": "2023-03-24T10:46:43.778Z"
   },
   {
    "duration": 15,
    "start_time": "2023-03-24T10:47:05.695Z"
   },
   {
    "duration": 79,
    "start_time": "2023-03-24T10:47:16.193Z"
   },
   {
    "duration": 26,
    "start_time": "2023-03-24T10:47:17.253Z"
   },
   {
    "duration": 10,
    "start_time": "2023-03-24T10:47:18.303Z"
   },
   {
    "duration": 10,
    "start_time": "2023-03-24T10:47:24.243Z"
   },
   {
    "duration": 4,
    "start_time": "2023-03-24T10:47:26.064Z"
   },
   {
    "duration": 21293,
    "start_time": "2023-03-24T10:48:16.772Z"
   },
   {
    "duration": 3,
    "start_time": "2023-03-24T10:48:40.853Z"
   },
   {
    "duration": 80816,
    "start_time": "2023-03-24T10:48:41.762Z"
   },
   {
    "duration": 3,
    "start_time": "2023-03-24T10:50:04.535Z"
   },
   {
    "duration": 173741,
    "start_time": "2023-03-24T10:50:05.233Z"
   },
   {
    "duration": 4,
    "start_time": "2023-03-24T10:53:14.183Z"
   }
  ],
  "kernelspec": {
   "display_name": "Python 3 (ipykernel)",
   "language": "python",
   "name": "python3"
  },
  "language_info": {
   "codemirror_mode": {
    "name": "ipython",
    "version": 3
   },
   "file_extension": ".py",
   "mimetype": "text/x-python",
   "name": "python",
   "nbconvert_exporter": "python",
   "pygments_lexer": "ipython3",
   "version": "3.9.16"
  },
  "toc": {
   "base_numbering": 1,
   "nav_menu": {},
   "number_sections": true,
   "sideBar": true,
   "skip_h1_title": true,
   "title_cell": "Table of Contents",
   "title_sidebar": "Contents",
   "toc_cell": false,
   "toc_position": {
    "height": "calc(100% - 180px)",
    "left": "10px",
    "top": "150px",
    "width": "244.2px"
   },
   "toc_section_display": true,
   "toc_window_display": true
  }
 },
 "nbformat": 4,
 "nbformat_minor": 5
}

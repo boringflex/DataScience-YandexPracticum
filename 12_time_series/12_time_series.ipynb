{
 "cells": [
  {
   "cell_type": "markdown",
   "id": "5511148f",
   "metadata": {},
   "source": [
    "# Проект: Прогнозирование заказов такси"
   ]
  },
  {
   "cell_type": "markdown",
   "id": "458bc2b1",
   "metadata": {},
   "source": [
    "___\n",
    "**Описание проекта**  \n",
    "\n",
    "Компания «Чётенькое такси» собрала исторические данные о заказах такси в аэропортах.\n",
    "___\n",
    "**Цель**  \n",
    "\n",
    "Чтобы привлекать больше водителей в период пиковой нагрузки, нужно спрогнозировать количество заказов такси на следующий час. Постройте модель для такого предсказания. Значение метрики RMSE на тестовой выборке должно быть не больше 48.\n",
    "___\n",
    "**Инструкция по выполнению проекта.**  \n",
    "\n",
    "1. Загрузите данные и выполните их ресемплирование по одному часу.\n",
    "2. Проанализируйте данные.\n",
    "3. Обучите разные модели с различными гиперпараметрами. Сделайте тестовую выборку размером 10% от исходных данных.\n",
    "4. Проверьте данные на тестовой выборке и сделайте выводы.\n",
    "___\n",
    "**Описание данных:**  \n",
    "\n",
    "Данные находятся в файле `/datasets/taxi.csv`\n",
    "\n",
    "*Признаки*\n",
    "\n",
    "- Количество заказов находится в столбце `num_orders` (от англ. number of orders, «число заказов»)."
   ]
  },
  {
   "cell_type": "markdown",
   "id": "54730b6a",
   "metadata": {},
   "source": [
    "<h1>Содержание<span class=\"tocSkip\"></span></h1><br>\n",
    "<div class=\"toc\">\n",
    "    <ul class=\"toc-item\">\n",
    "        <li><span><a href=\"#Подготовка-данных\" data-toc-modified-id=\"Подготовка-данных-1\">\n",
    "            <span class=\"toc-item-num\">1.&nbsp;&nbsp;</span>Подготовка данных</a></span>\n",
    "        </li>\n",
    "        <li><span><a href=\"#Анализ\" data-toc-modified-id=\"Анализ-2\">\n",
    "            <span class=\"toc-item-num\">2.&nbsp;&nbsp;</span>Анализ</a></span>\n",
    "        </li>\n",
    "        <li><span><a href=\"#Обучение\" data-toc-modified-id=\"Обучение-3\">\n",
    "            <span class=\"toc-item-num\">3.&nbsp;&nbsp;</span>Обучение</a></span>\n",
    "        </li>\n",
    "        <li><span><a href=\"#Тестирование\" data-toc-modified-id=\"Тестирование-4\">\n",
    "            <span class=\"toc-item-num\">4.&nbsp;&nbsp;</span>Тестирование</a></span>\n",
    "        </li>\n",
    "        <li><span><a href=\"#Общий-вывод\" data-toc-modified-id=\"Общий-вывод-5\">\n",
    "            <span class=\"toc-item-num\">5.&nbsp;&nbsp;</span>Общий вывод</a></span>\n",
    "        </li>\n",
    "        <li><span><a href=\"#Чек-лист-готовности-проекта\" data-toc-modified-id=\"Чек-лист-готовности-проекта-6\">\n",
    "            <span class=\"toc-item-num\">6.&nbsp;&nbsp;</span>Чек-лист готовности проекта</a></span>\n",
    "        </li>\n",
    "    </ul>\n",
    "</div>"
   ]
  },
  {
   "cell_type": "markdown",
   "id": "33376898",
   "metadata": {},
   "source": [
    "## Подготовка данных"
   ]
  },
  {
   "cell_type": "markdown",
   "id": "52e00cfe",
   "metadata": {},
   "source": [
    "### Импортируем необходимые библиотеки. Считаем данные из csv-файла в датафрейм и сохраним в переменную `df`. Путь к файлу:\n",
    "\n",
    "`/datasets/taxi.csv`"
   ]
  },
  {
   "cell_type": "code",
   "execution_count": 1,
   "id": "cc25fb1e",
   "metadata": {},
   "outputs": [],
   "source": [
    "import pandas as pd\n",
    "import numpy as np\n",
    "import matplotlib.pyplot as plt\n",
    "import seaborn as sns\n",
    "\n",
    "from datetime import datetime\n",
    "from scipy import stats as st"
   ]
  },
  {
   "cell_type": "code",
   "execution_count": 2,
   "id": "587db2f7",
   "metadata": {
    "scrolled": false
   },
   "outputs": [
    {
     "name": "stdout",
     "output_type": "stream",
     "text": [
      "Requirement already satisfied: lightgbm in /opt/conda/lib/python3.9/site-packages (3.3.1)\n",
      "Requirement already satisfied: wheel in /opt/conda/lib/python3.9/site-packages (from lightgbm) (0.36.2)\n",
      "Requirement already satisfied: numpy in /opt/conda/lib/python3.9/site-packages (from lightgbm) (1.21.1)\n",
      "Requirement already satisfied: scikit-learn!=0.22.0 in /opt/conda/lib/python3.9/site-packages (from lightgbm) (0.24.1)\n",
      "Requirement already satisfied: scipy in /opt/conda/lib/python3.9/site-packages (from lightgbm) (1.9.1)\n",
      "Requirement already satisfied: threadpoolctl>=2.0.0 in /opt/conda/lib/python3.9/site-packages (from scikit-learn!=0.22.0->lightgbm) (3.1.0)\n",
      "Requirement already satisfied: joblib>=0.11 in /opt/conda/lib/python3.9/site-packages (from scikit-learn!=0.22.0->lightgbm) (1.1.0)\n"
     ]
    }
   ],
   "source": [
    "# импортируем функцию seasonal_decompose из statsmodels \n",
    "from statsmodels.tsa.seasonal import seasonal_decompose\n",
    "from pylab import rcParams\n",
    "\n",
    "#Инициализация модели LinearRegression\n",
    "from sklearn.linear_model import LinearRegression\n",
    "\n",
    "#Инициализация модели DecisionTreeRegressor\n",
    "from sklearn.tree import DecisionTreeRegressor\n",
    "\n",
    "#Инициализация модели CatBoostRegressor\n",
    "from catboost import CatBoostRegressor\n",
    "\n",
    "#Инициализация модели LightGBM\n",
    "!pip install lightgbm\n",
    "import lightgbm as lgb\n",
    "\n",
    "#Кодирование категориальных признаков в виде одноточечного числового массива\n",
    "from sklearn.preprocessing import OneHotEncoder\n",
    "\n",
    "#Кодирование категориальных признаков в виде целочисленного массива.\n",
    "from sklearn.preprocessing import OrdinalEncoder\n",
    "\n",
    "#Разделение выборки в заданных пропорциях\n",
    "from sklearn.model_selection import train_test_split\n",
    "\n",
    "#Преобразователь масштаба методом стандартизации\n",
    "from sklearn.preprocessing import StandardScaler\n",
    "\n",
    "#Поиск лучших параметров модели\n",
    "from sklearn.model_selection import TimeSeriesSplit, GridSearchCV\n",
    "\n",
    "#Проверка модели на адекватность\n",
    "from sklearn.dummy import DummyRegressor\n",
    "\n",
    "#Метрики регрессии\n",
    "from sklearn.metrics import r2_score, mean_squared_error\n",
    "\n",
    "#Последовательное перемешивание массивов или разреженных матриц\n",
    "from sklearn.utils import shuffle\n",
    "\n",
    "#Сохранение и загрузка обученной модели\n",
    "import joblib"
   ]
  },
  {
   "cell_type": "code",
   "execution_count": 3,
   "id": "20004273",
   "metadata": {},
   "outputs": [],
   "source": [
    "try:\n",
    "    df = pd.read_csv('./taxi.csv')\n",
    "except:\n",
    "    print('File_not_found')"
   ]
  },
  {
   "cell_type": "markdown",
   "id": "51c13e23",
   "metadata": {},
   "source": [
    "### Изучим общую информацию о полученном датафрейме"
   ]
  },
  {
   "cell_type": "markdown",
   "id": "3c339fb8",
   "metadata": {},
   "source": [
    "**Добавим настройки для удобства отображения данных**"
   ]
  },
  {
   "cell_type": "code",
   "execution_count": 4,
   "id": "c8c95029",
   "metadata": {},
   "outputs": [],
   "source": [
    "pd.set_option('display.max_columns', None)\n",
    "pd.set_option('display.max_rows', 200)\n",
    "pd.options.display.float_format = '{:,.2f}'.format\n",
    "np.set_printoptions(suppress=True)\n",
    "\n",
    "#Если необходимо вернуть дефолтные настройки, раскомментируй строку ниже\n",
    "#pd.reset_option('all')"
   ]
  },
  {
   "cell_type": "markdown",
   "id": "e5d94471",
   "metadata": {},
   "source": [
    "**Выведем первые 10 строчек датафрейма `df` на экран.**"
   ]
  },
  {
   "cell_type": "code",
   "execution_count": 5,
   "id": "9bd2ccd3",
   "metadata": {},
   "outputs": [
    {
     "data": {
      "text/html": [
       "<div>\n",
       "<style scoped>\n",
       "    .dataframe tbody tr th:only-of-type {\n",
       "        vertical-align: middle;\n",
       "    }\n",
       "\n",
       "    .dataframe tbody tr th {\n",
       "        vertical-align: top;\n",
       "    }\n",
       "\n",
       "    .dataframe thead th {\n",
       "        text-align: right;\n",
       "    }\n",
       "</style>\n",
       "<table border=\"1\" class=\"dataframe\">\n",
       "  <thead>\n",
       "    <tr style=\"text-align: right;\">\n",
       "      <th></th>\n",
       "      <th>datetime</th>\n",
       "      <th>num_orders</th>\n",
       "    </tr>\n",
       "  </thead>\n",
       "  <tbody>\n",
       "    <tr>\n",
       "      <th>0</th>\n",
       "      <td>2018-03-01 00:00:00</td>\n",
       "      <td>9</td>\n",
       "    </tr>\n",
       "    <tr>\n",
       "      <th>1</th>\n",
       "      <td>2018-03-01 00:10:00</td>\n",
       "      <td>14</td>\n",
       "    </tr>\n",
       "    <tr>\n",
       "      <th>2</th>\n",
       "      <td>2018-03-01 00:20:00</td>\n",
       "      <td>28</td>\n",
       "    </tr>\n",
       "    <tr>\n",
       "      <th>3</th>\n",
       "      <td>2018-03-01 00:30:00</td>\n",
       "      <td>20</td>\n",
       "    </tr>\n",
       "    <tr>\n",
       "      <th>4</th>\n",
       "      <td>2018-03-01 00:40:00</td>\n",
       "      <td>32</td>\n",
       "    </tr>\n",
       "    <tr>\n",
       "      <th>5</th>\n",
       "      <td>2018-03-01 00:50:00</td>\n",
       "      <td>21</td>\n",
       "    </tr>\n",
       "    <tr>\n",
       "      <th>6</th>\n",
       "      <td>2018-03-01 01:00:00</td>\n",
       "      <td>7</td>\n",
       "    </tr>\n",
       "    <tr>\n",
       "      <th>7</th>\n",
       "      <td>2018-03-01 01:10:00</td>\n",
       "      <td>5</td>\n",
       "    </tr>\n",
       "    <tr>\n",
       "      <th>8</th>\n",
       "      <td>2018-03-01 01:20:00</td>\n",
       "      <td>17</td>\n",
       "    </tr>\n",
       "    <tr>\n",
       "      <th>9</th>\n",
       "      <td>2018-03-01 01:30:00</td>\n",
       "      <td>12</td>\n",
       "    </tr>\n",
       "  </tbody>\n",
       "</table>\n",
       "</div>"
      ],
      "text/plain": [
       "              datetime  num_orders\n",
       "0  2018-03-01 00:00:00           9\n",
       "1  2018-03-01 00:10:00          14\n",
       "2  2018-03-01 00:20:00          28\n",
       "3  2018-03-01 00:30:00          20\n",
       "4  2018-03-01 00:40:00          32\n",
       "5  2018-03-01 00:50:00          21\n",
       "6  2018-03-01 01:00:00           7\n",
       "7  2018-03-01 01:10:00           5\n",
       "8  2018-03-01 01:20:00          17\n",
       "9  2018-03-01 01:30:00          12"
      ]
     },
     "execution_count": 5,
     "metadata": {},
     "output_type": "execute_result"
    }
   ],
   "source": [
    "df.head(10)"
   ]
  },
  {
   "cell_type": "markdown",
   "id": "02312c44",
   "metadata": {},
   "source": [
    "**Посмотрим на размер данных (количество строк, колонок).**"
   ]
  },
  {
   "cell_type": "code",
   "execution_count": 6,
   "id": "eaa5e7b0",
   "metadata": {},
   "outputs": [
    {
     "name": "stdout",
     "output_type": "stream",
     "text": [
      "\n",
      "Количество строк: 26496\n",
      "Количество колонок: 2\n",
      "\n"
     ]
    }
   ],
   "source": [
    "print(f'\\nКоличество строк: {df.shape[0]}\\nКоличество колонок: {df.shape[1]}\\n')"
   ]
  },
  {
   "cell_type": "markdown",
   "id": "5a2739f6",
   "metadata": {},
   "source": [
    "**Просмотрим статистическую сводку каждой колонки, чтобы узнать распределение данных в каждой колонки. Используем метод `describe()`.**"
   ]
  },
  {
   "cell_type": "code",
   "execution_count": 7,
   "id": "6b711a13",
   "metadata": {},
   "outputs": [
    {
     "data": {
      "text/html": [
       "<div>\n",
       "<style scoped>\n",
       "    .dataframe tbody tr th:only-of-type {\n",
       "        vertical-align: middle;\n",
       "    }\n",
       "\n",
       "    .dataframe tbody tr th {\n",
       "        vertical-align: top;\n",
       "    }\n",
       "\n",
       "    .dataframe thead th {\n",
       "        text-align: right;\n",
       "    }\n",
       "</style>\n",
       "<table border=\"1\" class=\"dataframe\">\n",
       "  <thead>\n",
       "    <tr style=\"text-align: right;\">\n",
       "      <th></th>\n",
       "      <th>datetime</th>\n",
       "      <th>num_orders</th>\n",
       "    </tr>\n",
       "  </thead>\n",
       "  <tbody>\n",
       "    <tr>\n",
       "      <th>count</th>\n",
       "      <td>26496</td>\n",
       "      <td>26,496.00</td>\n",
       "    </tr>\n",
       "    <tr>\n",
       "      <th>unique</th>\n",
       "      <td>26496</td>\n",
       "      <td>NaN</td>\n",
       "    </tr>\n",
       "    <tr>\n",
       "      <th>top</th>\n",
       "      <td>2018-04-27 04:00:00</td>\n",
       "      <td>NaN</td>\n",
       "    </tr>\n",
       "    <tr>\n",
       "      <th>freq</th>\n",
       "      <td>1</td>\n",
       "      <td>NaN</td>\n",
       "    </tr>\n",
       "    <tr>\n",
       "      <th>mean</th>\n",
       "      <td>NaN</td>\n",
       "      <td>14.07</td>\n",
       "    </tr>\n",
       "    <tr>\n",
       "      <th>std</th>\n",
       "      <td>NaN</td>\n",
       "      <td>9.21</td>\n",
       "    </tr>\n",
       "    <tr>\n",
       "      <th>min</th>\n",
       "      <td>NaN</td>\n",
       "      <td>0.00</td>\n",
       "    </tr>\n",
       "    <tr>\n",
       "      <th>25%</th>\n",
       "      <td>NaN</td>\n",
       "      <td>8.00</td>\n",
       "    </tr>\n",
       "    <tr>\n",
       "      <th>50%</th>\n",
       "      <td>NaN</td>\n",
       "      <td>13.00</td>\n",
       "    </tr>\n",
       "    <tr>\n",
       "      <th>75%</th>\n",
       "      <td>NaN</td>\n",
       "      <td>19.00</td>\n",
       "    </tr>\n",
       "    <tr>\n",
       "      <th>max</th>\n",
       "      <td>NaN</td>\n",
       "      <td>119.00</td>\n",
       "    </tr>\n",
       "  </tbody>\n",
       "</table>\n",
       "</div>"
      ],
      "text/plain": [
       "                   datetime  num_orders\n",
       "count                 26496   26,496.00\n",
       "unique                26496         NaN\n",
       "top     2018-04-27 04:00:00         NaN\n",
       "freq                      1         NaN\n",
       "mean                    NaN       14.07\n",
       "std                     NaN        9.21\n",
       "min                     NaN        0.00\n",
       "25%                     NaN        8.00\n",
       "50%                     NaN       13.00\n",
       "75%                     NaN       19.00\n",
       "max                     NaN      119.00"
      ]
     },
     "execution_count": 7,
     "metadata": {},
     "output_type": "execute_result"
    }
   ],
   "source": [
    "df.describe(include = \"all\")"
   ]
  },
  {
   "cell_type": "markdown",
   "id": "96b816bf",
   "metadata": {},
   "source": [
    "*Признаки*\n",
    "\n",
    "- `datetime` — Дата\n",
    "- `num_orders` — Количество заказов"
   ]
  },
  {
   "cell_type": "markdown",
   "id": "216158fb",
   "metadata": {},
   "source": [
    "**Выведем основную информацию о датафрейме с помощью метода `info()`.**"
   ]
  },
  {
   "cell_type": "code",
   "execution_count": 8,
   "id": "cf21cb6f",
   "metadata": {},
   "outputs": [
    {
     "name": "stdout",
     "output_type": "stream",
     "text": [
      "<class 'pandas.core.frame.DataFrame'>\n",
      "RangeIndex: 26496 entries, 0 to 26495\n",
      "Data columns (total 2 columns):\n",
      " #   Column      Non-Null Count  Dtype \n",
      "---  ------      --------------  ----- \n",
      " 0   datetime    26496 non-null  object\n",
      " 1   num_orders  26496 non-null  int64 \n",
      "dtypes: int64(1), object(1)\n",
      "memory usage: 414.1+ KB\n"
     ]
    }
   ],
   "source": [
    "df.info()"
   ]
  },
  {
   "cell_type": "markdown",
   "id": "0dfaf5c2",
   "metadata": {},
   "source": [
    "**Выведем количество пропущенных значений для каждой колонки.**"
   ]
  },
  {
   "cell_type": "code",
   "execution_count": 9,
   "id": "da66b166",
   "metadata": {},
   "outputs": [
    {
     "data": {
      "text/html": [
       "<style  type=\"text/css\" >\n",
       "#T_cf201_row0_col0,#T_cf201_row1_col0{\n",
       "            background-color:  #3b4cc0;\n",
       "            color:  #f1f1f1;\n",
       "        }</style><table id=\"T_cf201_\" ><thead>    <tr>        <th class=\"blank level0\" ></th>        <th class=\"col_heading level0 col0\" >0</th>    </tr></thead><tbody>\n",
       "                <tr>\n",
       "                        <th id=\"T_cf201_level0_row0\" class=\"row_heading level0 row0\" >datetime</th>\n",
       "                        <td id=\"T_cf201_row0_col0\" class=\"data row0 col0\" >0</td>\n",
       "            </tr>\n",
       "            <tr>\n",
       "                        <th id=\"T_cf201_level0_row1\" class=\"row_heading level0 row1\" >num_orders</th>\n",
       "                        <td id=\"T_cf201_row1_col0\" class=\"data row1 col0\" >0</td>\n",
       "            </tr>\n",
       "    </tbody></table>"
      ],
      "text/plain": [
       "<pandas.io.formats.style.Styler at 0x7f6f20eb40d0>"
      ]
     },
     "execution_count": 9,
     "metadata": {},
     "output_type": "execute_result"
    }
   ],
   "source": [
    "pd.DataFrame(df.isna().sum()).style.background_gradient('coolwarm')"
   ]
  },
  {
   "cell_type": "markdown",
   "id": "c713d3bb",
   "metadata": {},
   "source": [
    "**Выведем пропущенные значения в процентном соотношении.**"
   ]
  },
  {
   "cell_type": "code",
   "execution_count": 10,
   "id": "b9628c22",
   "metadata": {},
   "outputs": [
    {
     "data": {
      "text/html": [
       "<style  type=\"text/css\" >\n",
       "#T_a80ae_row0_col0,#T_a80ae_row1_col0{\n",
       "            background-color:  #3b4cc0;\n",
       "            color:  #f1f1f1;\n",
       "        }</style><table id=\"T_a80ae_\" ><thead>    <tr>        <th class=\"blank level0\" ></th>        <th class=\"col_heading level0 col0\" >0</th>    </tr></thead><tbody>\n",
       "                <tr>\n",
       "                        <th id=\"T_a80ae_level0_row0\" class=\"row_heading level0 row0\" >datetime</th>\n",
       "                        <td id=\"T_a80ae_row0_col0\" class=\"data row0 col0\" >0.00%</td>\n",
       "            </tr>\n",
       "            <tr>\n",
       "                        <th id=\"T_a80ae_level0_row1\" class=\"row_heading level0 row1\" >num_orders</th>\n",
       "                        <td id=\"T_a80ae_row1_col0\" class=\"data row1 col0\" >0.00%</td>\n",
       "            </tr>\n",
       "    </tbody></table>"
      ],
      "text/plain": [
       "<pandas.io.formats.style.Styler at 0x7f6f20eb4f40>"
      ]
     },
     "execution_count": 10,
     "metadata": {},
     "output_type": "execute_result"
    }
   ],
   "source": [
    "pd.DataFrame(df.isna().mean()).style.format(\"{:.2%}\").background_gradient('coolwarm')"
   ]
  },
  {
   "cell_type": "markdown",
   "id": "df8add0c",
   "metadata": {},
   "source": [
    "**Проверим дубликаты.**"
   ]
  },
  {
   "cell_type": "code",
   "execution_count": 11,
   "id": "506dc3e3",
   "metadata": {
    "scrolled": true
   },
   "outputs": [
    {
     "data": {
      "text/plain": [
       "0"
      ]
     },
     "execution_count": 11,
     "metadata": {},
     "output_type": "execute_result"
    }
   ],
   "source": [
    "df.duplicated().sum()"
   ]
  },
  {
   "cell_type": "markdown",
   "id": "e6cf9204",
   "metadata": {},
   "source": [
    "**Выявлены следующие проблемы:**\n",
    "\n",
    ">1. Измените тип данных в признаке `datetime` с `object` на `datetime64`;\n",
    ">2. Установить индекс таблицы равным столбцу `datetime`;\n",
    ">3. Проверить, находятся ли в хронологическом ли порядке даты и время;\n",
    ">4. Выполнить ресемплирование даты по одному часу."
   ]
  },
  {
   "cell_type": "markdown",
   "id": "3e5542ff",
   "metadata": {},
   "source": [
    "### Работа с типом данных"
   ]
  },
  {
   "cell_type": "markdown",
   "id": "5b73036a",
   "metadata": {},
   "source": [
    "**Изменим тип значений `object` на `datetime64` в признаках `datetime`.**"
   ]
  },
  {
   "cell_type": "code",
   "execution_count": 12,
   "id": "1bfc875a",
   "metadata": {},
   "outputs": [],
   "source": [
    "df['datetime'] = pd.to_datetime(df['datetime'], format='%Y-%m-%d %H:%M:%S')"
   ]
  },
  {
   "cell_type": "markdown",
   "id": "ba088698",
   "metadata": {},
   "source": [
    "### Изменение индекса датафрейма"
   ]
  },
  {
   "cell_type": "markdown",
   "id": "076cce81",
   "metadata": {},
   "source": [
    "**Установим индекс датафрейма равным столбцу `datetime`.**"
   ]
  },
  {
   "cell_type": "code",
   "execution_count": 13,
   "id": "6bc304c9",
   "metadata": {},
   "outputs": [],
   "source": [
    "df.set_index('datetime', inplace=True)"
   ]
  },
  {
   "cell_type": "markdown",
   "id": "c494cf15",
   "metadata": {},
   "source": [
    "### Проверка хронологического порядка"
   ]
  },
  {
   "cell_type": "markdown",
   "id": "5651830a",
   "metadata": {},
   "source": [
    "**Посмотрим атрибут индекса датафрейма `is_monotonic`. Если порядок соблюдён, атрибут вернёт `True`, если нет — `False`.**"
   ]
  },
  {
   "cell_type": "code",
   "execution_count": 14,
   "id": "580f8b19",
   "metadata": {},
   "outputs": [
    {
     "name": "stdout",
     "output_type": "stream",
     "text": [
      "True\n"
     ]
    }
   ],
   "source": [
    "print(df.index.is_monotonic)"
   ]
  },
  {
   "cell_type": "markdown",
   "id": "e4b7bf18",
   "metadata": {},
   "source": [
    "### Ресемплирование"
   ]
  },
  {
   "cell_type": "markdown",
   "id": "86ada021",
   "metadata": {},
   "source": [
    "**Выполнить ресемплирование даты по одному часу.**"
   ]
  },
  {
   "cell_type": "code",
   "execution_count": 15,
   "id": "56416feb",
   "metadata": {},
   "outputs": [],
   "source": [
    "df = df.resample('1H').sum()"
   ]
  },
  {
   "cell_type": "markdown",
   "id": "9c17cd6b",
   "metadata": {},
   "source": [
    "## Анализ"
   ]
  },
  {
   "cell_type": "markdown",
   "id": "517871e3",
   "metadata": {},
   "source": [
    "### Работа с графиками"
   ]
  },
  {
   "cell_type": "markdown",
   "id": "ddf616d4",
   "metadata": {},
   "source": [
    "**Построим простой график изменения данных во времени.**"
   ]
  },
  {
   "cell_type": "code",
   "execution_count": 16,
   "id": "4c99c918",
   "metadata": {},
   "outputs": [
    {
     "data": {
      "image/png": "[encoded data removed]",
      "text/plain": [
       "<Figure size 1080x576 with 1 Axes>"
      ]
     },
     "metadata": {
      "needs_background": "light"
     },
     "output_type": "display_data"
    }
   ],
   "source": [
    "# зададим размер графика\n",
    "plt.figure(figsize = (15,8))\n",
    "plt.style.use('seaborn-white')\n",
    "\n",
    "# поочередно зададим кривые (перевозки и скользящее среднее) с подписями и цветом\n",
    "plt.plot(df, label = 'Перевозки пассажиров по часам', color = 'steelblue')\n",
    "plt.plot(df.rolling(window = 40).mean(), label = 'Скользящее среднее', color = 'orange')\n",
    "\n",
    "# добавим легенду, ее положение на графике и размер шрифта\n",
    "plt.legend(title = '', loc = 'upper left', fontsize = 14)\n",
    "\n",
    "# добавим подписи к осям и заголовки\n",
    "plt.xlabel('Месяцы', fontsize = 14)\n",
    "plt.ylabel('Количество пассажиров', fontsize = 14)\n",
    "plt.title('Исторические данные о заказах такси в аэропортах', fontsize = 16)\n",
    "\n",
    "# выведем обе кривые на одном графике\n",
    "plt.show()"
   ]
  },
  {
   "cell_type": "markdown",
   "id": "c1f5bfbe",
   "metadata": {},
   "source": [
    "**Разложение временного ряда на компоненты.**"
   ]
  },
  {
   "cell_type": "code",
   "execution_count": 17,
   "id": "9577bd6d",
   "metadata": {},
   "outputs": [
    {
     "data": {
      "image/png": "[encoded data removed]",
      "text/plain": [
       "<Figure size 1080x864 with 4 Axes>"
      ]
     },
     "metadata": {},
     "output_type": "display_data"
    }
   ],
   "source": [
    "rcParams['figure.figsize'] = (15, 12)\n",
    "\n",
    "decompose = seasonal_decompose(df)\n",
    "decompose.plot()\n",
    "\n",
    "plt.show()"
   ]
  },
  {
   "cell_type": "markdown",
   "id": "fdb5a030",
   "metadata": {},
   "source": [
    "**Тренд за последний месяц.**"
   ]
  },
  {
   "cell_type": "code",
   "execution_count": 18,
   "id": "b50d386a",
   "metadata": {
    "scrolled": false
   },
   "outputs": [
    {
     "data": {
      "image/png": "[encoded data removed]",
      "text/plain": [
       "<Figure size 1080x432 with 1 Axes>"
      ]
     },
     "metadata": {},
     "output_type": "display_data"
    }
   ],
   "source": [
    "rcParams['figure.figsize'] = (15, 6)\n",
    "\n",
    "decompose = seasonal_decompose(df['2018-08':'2018-08'])\n",
    "decompose.trend.plot()\n",
    "decompose.seasonal.plot()\n",
    "plt.title('Season')\n",
    "\n",
    "plt.show()"
   ]
  },
  {
   "cell_type": "markdown",
   "id": "7eed718b",
   "metadata": {},
   "source": [
    "**Выводы изучения распределения числовых признаков:**\n",
    "\n",
    ">1. Наблюдается тренд равномерного роста заказов с периодическими небольшими падениями\n",
    ">2. Распределение сезонной части выглядит статическим в интервале суток. Ночью такси почти не заказывают, пик ближе к вечеру.\n",
    ">3. Случайная часть также имеет постоянной среднее значение, но периодически возникают большие всплески (объясняются повышенным спросом на такси по выходным и праздникам)\n",
    ">4. Трэнд показывает линейный рост количества заказов со временем."
   ]
  },
  {
   "cell_type": "markdown",
   "id": "bd8d791f",
   "metadata": {},
   "source": [
    "## Обучение"
   ]
  },
  {
   "cell_type": "markdown",
   "id": "860578c9",
   "metadata": {},
   "source": [
    "### Подготовка признаков"
   ]
  },
  {
   "cell_type": "markdown",
   "id": "95d6ce8e",
   "metadata": {},
   "source": [
    "**Создадим признаки для обучения модели.**\n",
    "**Напишем функцию для создания признаков.**"
   ]
  },
  {
   "cell_type": "code",
   "execution_count": 19,
   "id": "238812a3",
   "metadata": {},
   "outputs": [],
   "source": [
    "def get_features(df_learning):\n",
    "    df_learning['month'] = df_learning.index.month\n",
    "    df_learning['day'] = df_learning.index.day\n",
    "    df_learning['dayofweek'] = df_learning.index.dayofweek\n",
    "    df_learning['hour'] = df_learning.index.hour\n",
    "    \n",
    "    for lag in range(1, 6):\n",
    "        df_learning['lag_{}'.format(lag)] = df_learning['num_orders'].shift(lag)\n",
    "    \n",
    "    df_learning['rolling_mean'] = df_learning['num_orders'].shift().rolling(1).mean()\n",
    "    df_learning.dropna(inplace=True)\n",
    "    \n",
    "    return df_learning"
   ]
  },
  {
   "cell_type": "code",
   "execution_count": 20,
   "id": "48c3c5e7",
   "metadata": {},
   "outputs": [],
   "source": [
    "df_learning = df.copy()\n",
    "df_learning = get_features(df_learning)"
   ]
  },
  {
   "cell_type": "code",
   "execution_count": 21,
   "id": "2b347c04",
   "metadata": {},
   "outputs": [
    {
     "data": {
      "text/plain": [
       "(4411, 11)"
      ]
     },
     "execution_count": 21,
     "metadata": {},
     "output_type": "execute_result"
    }
   ],
   "source": [
    "df_learning.shape"
   ]
  },
  {
   "cell_type": "markdown",
   "id": "05582b07",
   "metadata": {},
   "source": [
    "**Выделение признаков.**"
   ]
  },
  {
   "cell_type": "code",
   "execution_count": 22,
   "id": "ab88facf",
   "metadata": {},
   "outputs": [],
   "source": [
    "features = df_learning.drop(['num_orders'], axis=1)\n",
    "target = df_learning['num_orders']"
   ]
  },
  {
   "cell_type": "markdown",
   "id": "f58b8a8d",
   "metadata": {},
   "source": [
    "**Разделим исходные данные на `обучающую` и `тестовую`.**"
   ]
  },
  {
   "cell_type": "code",
   "execution_count": 23,
   "id": "c57d7c73",
   "metadata": {},
   "outputs": [],
   "source": [
    "features_train, features_test, target_train, target_test = train_test_split(\n",
    "    features, target, shuffle=False, test_size=0.1, random_state=42)"
   ]
  },
  {
   "cell_type": "markdown",
   "id": "8081e767",
   "metadata": {},
   "source": [
    "**Выберем следующие регрессоры для обучения модели:**\n",
    "\n",
    "- `DecisionTreeRegressor`\n",
    "- `CatBoostRegressor`\n",
    "- `LGBMRegressor`"
   ]
  },
  {
   "cell_type": "markdown",
   "id": "730da7bc",
   "metadata": {},
   "source": [
    "**Обучим различные модели и добавим модели и рассчитанный RMSE в массив.**"
   ]
  },
  {
   "cell_type": "code",
   "execution_count": 24,
   "id": "8b78a7fb",
   "metadata": {},
   "outputs": [],
   "source": [
    "train_models = []"
   ]
  },
  {
   "cell_type": "markdown",
   "id": "f13cb25e",
   "metadata": {},
   "source": [
    "### DecisionTreeRegressor"
   ]
  },
  {
   "cell_type": "code",
   "execution_count": 25,
   "id": "bc0f8ad0",
   "metadata": {},
   "outputs": [],
   "source": [
    "model = DecisionTreeRegressor(random_state=42)"
   ]
  },
  {
   "cell_type": "code",
   "execution_count": 26,
   "id": "7254439d",
   "metadata": {},
   "outputs": [],
   "source": [
    "parameters = {'max_depth':range(1,11,2)}\n",
    "\n",
    "tscv = TimeSeriesSplit(n_splits=2)"
   ]
  },
  {
   "cell_type": "code",
   "execution_count": 27,
   "id": "d3e49361",
   "metadata": {},
   "outputs": [],
   "source": [
    "gsearch = GridSearchCV(estimator=model, cv=tscv, scoring='neg_root_mean_squared_error', param_grid=parameters)"
   ]
  },
  {
   "cell_type": "code",
   "execution_count": 28,
   "id": "eddbd604",
   "metadata": {},
   "outputs": [
    {
     "name": "stdout",
     "output_type": "stream",
     "text": [
      "CPU times: user 153 ms, sys: 3.81 ms, total: 157 ms\n",
      "Wall time: 164 ms\n"
     ]
    },
    {
     "data": {
      "text/plain": [
       "{'max_depth': 9}"
      ]
     },
     "execution_count": 28,
     "metadata": {},
     "output_type": "execute_result"
    }
   ],
   "source": [
    "%%time\n",
    "\n",
    "gsearch.fit(features_train, target_train)\n",
    "gsearch.best_params_"
   ]
  },
  {
   "cell_type": "code",
   "execution_count": 29,
   "id": "e32a03b2",
   "metadata": {},
   "outputs": [
    {
     "data": {
      "text/plain": [
       "-33.167060920806236"
      ]
     },
     "execution_count": 29,
     "metadata": {},
     "output_type": "execute_result"
    }
   ],
   "source": [
    "rmse = gsearch.best_score_\n",
    "rmse"
   ]
  },
  {
   "cell_type": "code",
   "execution_count": 30,
   "id": "cd2866dd",
   "metadata": {},
   "outputs": [],
   "source": [
    "train_models.append([model, rmse])"
   ]
  },
  {
   "cell_type": "markdown",
   "id": "4a875854",
   "metadata": {},
   "source": [
    "### CatBoostRegressor"
   ]
  },
  {
   "cell_type": "code",
   "execution_count": 31,
   "id": "902d08c2",
   "metadata": {},
   "outputs": [],
   "source": [
    "model = CatBoostRegressor()"
   ]
  },
  {
   "cell_type": "code",
   "execution_count": 32,
   "id": "89290f40",
   "metadata": {},
   "outputs": [],
   "source": [
    "parameters = {'max_depth': [2, 4, 6],\n",
    "              'learning_rate': [0.01, 0.02, 0.03],\n",
    "              'l2_leaf_reg': [1, 3, 5],\n",
    "              'logging_level': ['Silent']}\n",
    "\n",
    "tscv = TimeSeriesSplit(n_splits=2)"
   ]
  },
  {
   "cell_type": "code",
   "execution_count": 33,
   "id": "94c78efd",
   "metadata": {},
   "outputs": [],
   "source": [
    "gsearch = GridSearchCV(estimator=model, cv=tscv, scoring='neg_root_mean_squared_error', param_grid=parameters)"
   ]
  },
  {
   "cell_type": "code",
   "execution_count": 34,
   "id": "43176884",
   "metadata": {},
   "outputs": [
    {
     "name": "stdout",
     "output_type": "stream",
     "text": [
      "CPU times: user 55.1 s, sys: 4.62 s, total: 59.7 s\n",
      "Wall time: 1min 38s\n"
     ]
    },
    {
     "data": {
      "text/plain": [
       "{'l2_leaf_reg': 3,\n",
       " 'learning_rate': 0.03,\n",
       " 'logging_level': 'Silent',\n",
       " 'max_depth': 4}"
      ]
     },
     "execution_count": 34,
     "metadata": {},
     "output_type": "execute_result"
    }
   ],
   "source": [
    "%%time\n",
    "\n",
    "gsearch.fit(features_train, target_train)\n",
    "gsearch.best_params_"
   ]
  },
  {
   "cell_type": "code",
   "execution_count": 35,
   "id": "f56816df",
   "metadata": {},
   "outputs": [
    {
     "data": {
      "text/plain": [
       "-28.248427554786872"
      ]
     },
     "execution_count": 35,
     "metadata": {},
     "output_type": "execute_result"
    }
   ],
   "source": [
    "rmse = gsearch.best_score_\n",
    "rmse"
   ]
  },
  {
   "cell_type": "code",
   "execution_count": 36,
   "id": "32703b49",
   "metadata": {},
   "outputs": [],
   "source": [
    "train_models.append([model, rmse])"
   ]
  },
  {
   "cell_type": "markdown",
   "id": "af1424fc",
   "metadata": {},
   "source": [
    "### LGBMRegressor"
   ]
  },
  {
   "cell_type": "code",
   "execution_count": 39,
   "id": "4f28dab8",
   "metadata": {},
   "outputs": [],
   "source": [
    "model = lgb.LGBMRegressor()"
   ]
  },
  {
   "cell_type": "code",
   "execution_count": 40,
   "id": "0d546edc",
   "metadata": {},
   "outputs": [],
   "source": [
    "parameters = {'max_depth': [2, 4, 6],\n",
    "              'learning_rate': [0.03, 0.1],\n",
    "              'n_estimators': [50, 100, 200]}\n",
    "\n",
    "tscv = TimeSeriesSplit(n_splits=2)"
   ]
  },
  {
   "cell_type": "code",
   "execution_count": 41,
   "id": "0162d431",
   "metadata": {},
   "outputs": [],
   "source": [
    "gsearch = GridSearchCV(estimator=model, cv=tscv, scoring='neg_root_mean_squared_error', param_grid=parameters)"
   ]
  },
  {
   "cell_type": "code",
   "execution_count": 48,
   "id": "d8ff4bbb",
   "metadata": {},
   "outputs": [],
   "source": [
    "%%time\n",
    "\n",
    "gsearch.fit(features_train, target_train)\n",
    "gsearch.best_params_"
   ]
  },
  {
   "cell_type": "code",
   "execution_count": 49,
   "id": "900207ce",
   "metadata": {},
   "outputs": [],
   "source": [
    "rmse = gsearch.best_score_\n",
    "rmse"
   ]
  },
  {
   "cell_type": "code",
   "execution_count": null,
   "id": "e35a28ab",
   "metadata": {},
   "outputs": [],
   "source": [
    "train_models.append([model, rmse])"
   ]
  },
  {
   "cell_type": "markdown",
   "id": "83e073db",
   "metadata": {},
   "source": [
    "### Промежуточные результаты"
   ]
  },
  {
   "cell_type": "code",
   "execution_count": null,
   "id": "6bbf9e5f",
   "metadata": {},
   "outputs": [],
   "source": [
    "results = pd.DataFrame(train_models, columns=['model', 'rmse_train'])"
   ]
  },
  {
   "cell_type": "code",
   "execution_count": null,
   "id": "e2569c4a",
   "metadata": {},
   "outputs": [],
   "source": [
    "print(results)"
   ]
  },
  {
   "cell_type": "markdown",
   "id": "d8f4eeff",
   "metadata": {},
   "source": [
    "**Лучший результат показала модель `LGBMRegressor`. Возьмём её для дальнейшего тестирования.**"
   ]
  },
  {
   "cell_type": "markdown",
   "id": "5bd761dc",
   "metadata": {},
   "source": [
    "## Тестирование"
   ]
  },
  {
   "cell_type": "markdown",
   "id": "290ae886",
   "metadata": {},
   "source": [
    "**Протестируем обученную модель `LGBMRegressor` на тестовых данных, а также построим графики исходного и предсказанных рядов для модели.**"
   ]
  },
  {
   "cell_type": "code",
   "execution_count": null,
   "id": "32f47fb5",
   "metadata": {},
   "outputs": [],
   "source": [
    "train_models[3][0]"
   ]
  },
  {
   "cell_type": "code",
   "execution_count": 44,
   "id": "b9f691bf",
   "metadata": {},
   "outputs": [],
   "source": [
    "model = train_models[1][0]"
   ]
  },
  {
   "cell_type": "code",
   "execution_count": 45,
   "id": "09b89961",
   "metadata": {},
   "outputs": [
    {
     "name": "stdout",
     "output_type": "stream",
     "text": [
      "Learning rate set to 0.050906\n",
      "0:\tlearn: 37.7743742\ttotal: 2.65ms\tremaining: 2.64s\n",
      "1:\tlearn: 36.8695321\ttotal: 4.82ms\tremaining: 2.41s\n",
      "2:\tlearn: 36.0198954\ttotal: 6.89ms\tremaining: 2.29s\n",
      "3:\tlearn: 35.2578773\ttotal: 8.72ms\tremaining: 2.17s\n",
      "4:\tlearn: 34.5713357\ttotal: 10.8ms\tremaining: 2.15s\n",
      "5:\tlearn: 33.9829491\ttotal: 12.7ms\tremaining: 2.1s\n",
      "6:\tlearn: 33.3311582\ttotal: 14.6ms\tremaining: 2.07s\n",
      "7:\tlearn: 32.7042455\ttotal: 16.5ms\tremaining: 2.04s\n",
      "8:\tlearn: 32.1821754\ttotal: 18.5ms\tremaining: 2.04s\n",
      "9:\tlearn: 31.7210654\ttotal: 20.5ms\tremaining: 2.03s\n",
      "10:\tlearn: 31.3847531\ttotal: 22.3ms\tremaining: 2s\n",
      "11:\tlearn: 30.8651137\ttotal: 24.4ms\tremaining: 2.01s\n",
      "12:\tlearn: 30.4809884\ttotal: 26.4ms\tremaining: 2s\n",
      "13:\tlearn: 30.0946252\ttotal: 28.5ms\tremaining: 2.01s\n",
      "14:\tlearn: 29.7039210\ttotal: 30.5ms\tremaining: 2s\n",
      "15:\tlearn: 29.3434094\ttotal: 32.4ms\tremaining: 1.99s\n",
      "16:\tlearn: 29.0514076\ttotal: 34.7ms\tremaining: 2.01s\n",
      "17:\tlearn: 28.8113547\ttotal: 36.8ms\tremaining: 2.01s\n",
      "18:\tlearn: 28.5026188\ttotal: 38.8ms\tremaining: 2s\n",
      "19:\tlearn: 28.2302431\ttotal: 40.9ms\tremaining: 2s\n",
      "20:\tlearn: 27.9814621\ttotal: 42.9ms\tremaining: 2s\n",
      "21:\tlearn: 27.7646661\ttotal: 46.2ms\tremaining: 2.05s\n",
      "22:\tlearn: 27.5291073\ttotal: 49.3ms\tremaining: 2.09s\n",
      "23:\tlearn: 27.3421721\ttotal: 52.3ms\tremaining: 2.13s\n",
      "24:\tlearn: 27.1932857\ttotal: 55.3ms\tremaining: 2.16s\n",
      "25:\tlearn: 27.0050460\ttotal: 58.3ms\tremaining: 2.18s\n",
      "26:\tlearn: 26.7886380\ttotal: 61.4ms\tremaining: 2.21s\n",
      "27:\tlearn: 26.6331039\ttotal: 64.3ms\tremaining: 2.23s\n",
      "28:\tlearn: 26.5409132\ttotal: 67.3ms\tremaining: 2.25s\n",
      "29:\tlearn: 26.3264579\ttotal: 70.2ms\tremaining: 2.27s\n",
      "30:\tlearn: 26.1395355\ttotal: 73.7ms\tremaining: 2.3s\n",
      "31:\tlearn: 25.9906272\ttotal: 75.9ms\tremaining: 2.3s\n",
      "32:\tlearn: 25.8225794\ttotal: 78.1ms\tremaining: 2.29s\n",
      "33:\tlearn: 25.7536638\ttotal: 79.9ms\tremaining: 2.27s\n",
      "34:\tlearn: 25.6177072\ttotal: 81.8ms\tremaining: 2.25s\n",
      "35:\tlearn: 25.5145365\ttotal: 83.8ms\tremaining: 2.24s\n",
      "36:\tlearn: 25.4489580\ttotal: 85.8ms\tremaining: 2.23s\n",
      "37:\tlearn: 25.4000229\ttotal: 87.6ms\tremaining: 2.22s\n",
      "38:\tlearn: 25.2814327\ttotal: 89.5ms\tremaining: 2.21s\n",
      "39:\tlearn: 25.1811897\ttotal: 91.4ms\tremaining: 2.19s\n",
      "40:\tlearn: 25.0871255\ttotal: 93.3ms\tremaining: 2.18s\n",
      "41:\tlearn: 24.9679726\ttotal: 95.3ms\tremaining: 2.17s\n",
      "42:\tlearn: 24.8234304\ttotal: 97.4ms\tremaining: 2.17s\n",
      "43:\tlearn: 24.6703269\ttotal: 99.5ms\tremaining: 2.16s\n",
      "44:\tlearn: 24.5874279\ttotal: 102ms\tremaining: 2.15s\n",
      "45:\tlearn: 24.5045190\ttotal: 103ms\tremaining: 2.15s\n",
      "46:\tlearn: 24.4725603\ttotal: 106ms\tremaining: 2.14s\n",
      "47:\tlearn: 24.3865724\ttotal: 108ms\tremaining: 2.15s\n",
      "48:\tlearn: 24.3433932\ttotal: 111ms\tremaining: 2.16s\n",
      "49:\tlearn: 24.3344942\ttotal: 112ms\tremaining: 2.13s\n",
      "50:\tlearn: 24.3115240\ttotal: 114ms\tremaining: 2.12s\n",
      "51:\tlearn: 24.2648413\ttotal: 116ms\tremaining: 2.11s\n",
      "52:\tlearn: 24.1440087\ttotal: 118ms\tremaining: 2.1s\n",
      "53:\tlearn: 24.1075052\ttotal: 120ms\tremaining: 2.1s\n",
      "54:\tlearn: 24.0808867\ttotal: 122ms\tremaining: 2.09s\n",
      "55:\tlearn: 24.0702937\ttotal: 124ms\tremaining: 2.09s\n",
      "56:\tlearn: 24.0205191\ttotal: 128ms\tremaining: 2.11s\n",
      "57:\tlearn: 23.9703655\ttotal: 130ms\tremaining: 2.11s\n",
      "58:\tlearn: 23.9015942\ttotal: 133ms\tremaining: 2.12s\n",
      "59:\tlearn: 23.8509672\ttotal: 135ms\tremaining: 2.12s\n",
      "60:\tlearn: 23.8406746\ttotal: 137ms\tremaining: 2.11s\n",
      "61:\tlearn: 23.8308595\ttotal: 139ms\tremaining: 2.1s\n",
      "62:\tlearn: 23.7616510\ttotal: 142ms\tremaining: 2.11s\n",
      "63:\tlearn: 23.7343168\ttotal: 145ms\tremaining: 2.12s\n",
      "64:\tlearn: 23.6922404\ttotal: 147ms\tremaining: 2.12s\n",
      "65:\tlearn: 23.6763125\ttotal: 149ms\tremaining: 2.11s\n",
      "66:\tlearn: 23.6215580\ttotal: 151ms\tremaining: 2.1s\n",
      "67:\tlearn: 23.5524787\ttotal: 153ms\tremaining: 2.1s\n",
      "68:\tlearn: 23.5462051\ttotal: 154ms\tremaining: 2.07s\n",
      "69:\tlearn: 23.5417012\ttotal: 155ms\tremaining: 2.05s\n",
      "70:\tlearn: 23.4981620\ttotal: 158ms\tremaining: 2.06s\n",
      "71:\tlearn: 23.4786817\ttotal: 160ms\tremaining: 2.06s\n",
      "72:\tlearn: 23.4264206\ttotal: 162ms\tremaining: 2.06s\n",
      "73:\tlearn: 23.3919203\ttotal: 165ms\tremaining: 2.07s\n",
      "74:\tlearn: 23.3512986\ttotal: 167ms\tremaining: 2.06s\n",
      "75:\tlearn: 23.3304383\ttotal: 169ms\tremaining: 2.05s\n",
      "76:\tlearn: 23.2851151\ttotal: 171ms\tremaining: 2.05s\n",
      "77:\tlearn: 23.2784143\ttotal: 173ms\tremaining: 2.04s\n",
      "78:\tlearn: 23.2676935\ttotal: 175ms\tremaining: 2.04s\n",
      "79:\tlearn: 23.1957414\ttotal: 177ms\tremaining: 2.04s\n",
      "80:\tlearn: 23.1896435\ttotal: 179ms\tremaining: 2.04s\n",
      "81:\tlearn: 23.1588873\ttotal: 182ms\tremaining: 2.03s\n",
      "82:\tlearn: 23.1457963\ttotal: 185ms\tremaining: 2.04s\n",
      "83:\tlearn: 23.0965683\ttotal: 187ms\tremaining: 2.04s\n",
      "84:\tlearn: 23.0361621\ttotal: 189ms\tremaining: 2.03s\n",
      "85:\tlearn: 23.0315196\ttotal: 190ms\tremaining: 2.02s\n",
      "86:\tlearn: 22.9794820\ttotal: 193ms\tremaining: 2.02s\n",
      "87:\tlearn: 22.9325960\ttotal: 197ms\tremaining: 2.04s\n",
      "88:\tlearn: 22.8948467\ttotal: 200ms\tremaining: 2.04s\n",
      "89:\tlearn: 22.8290901\ttotal: 202ms\tremaining: 2.04s\n",
      "90:\tlearn: 22.7745907\ttotal: 203ms\tremaining: 2.03s\n",
      "91:\tlearn: 22.7628937\ttotal: 205ms\tremaining: 2.02s\n",
      "92:\tlearn: 22.7135123\ttotal: 207ms\tremaining: 2.02s\n",
      "93:\tlearn: 22.6715342\ttotal: 209ms\tremaining: 2.01s\n",
      "94:\tlearn: 22.6417252\ttotal: 211ms\tremaining: 2s\n",
      "95:\tlearn: 22.6030776\ttotal: 212ms\tremaining: 2s\n",
      "96:\tlearn: 22.5969405\ttotal: 214ms\tremaining: 1.99s\n",
      "97:\tlearn: 22.5747495\ttotal: 216ms\tremaining: 1.99s\n",
      "98:\tlearn: 22.5608562\ttotal: 218ms\tremaining: 1.98s\n",
      "99:\tlearn: 22.5448352\ttotal: 220ms\tremaining: 1.98s\n",
      "100:\tlearn: 22.5361552\ttotal: 222ms\tremaining: 1.97s\n",
      "101:\tlearn: 22.5072715\ttotal: 224ms\tremaining: 1.97s\n",
      "102:\tlearn: 22.4759080\ttotal: 226ms\tremaining: 1.96s\n",
      "103:\tlearn: 22.4194391\ttotal: 228ms\tremaining: 1.96s\n",
      "104:\tlearn: 22.4126478\ttotal: 230ms\tremaining: 1.96s\n",
      "105:\tlearn: 22.3899736\ttotal: 232ms\tremaining: 1.95s\n",
      "106:\tlearn: 22.3798087\ttotal: 233ms\tremaining: 1.95s\n",
      "107:\tlearn: 22.3642379\ttotal: 235ms\tremaining: 1.94s\n",
      "108:\tlearn: 22.3180141\ttotal: 237ms\tremaining: 1.94s\n",
      "109:\tlearn: 22.2816246\ttotal: 239ms\tremaining: 1.93s\n",
      "110:\tlearn: 22.2553918\ttotal: 241ms\tremaining: 1.93s\n",
      "111:\tlearn: 22.2332782\ttotal: 243ms\tremaining: 1.93s\n",
      "112:\tlearn: 22.1908607\ttotal: 245ms\tremaining: 1.92s\n",
      "113:\tlearn: 22.1862791\ttotal: 247ms\tremaining: 1.92s\n",
      "114:\tlearn: 22.1765717\ttotal: 248ms\tremaining: 1.91s\n",
      "115:\tlearn: 22.1425996\ttotal: 251ms\tremaining: 1.91s\n",
      "116:\tlearn: 22.1130256\ttotal: 253ms\tremaining: 1.91s\n",
      "117:\tlearn: 22.1002478\ttotal: 255ms\tremaining: 1.9s\n",
      "118:\tlearn: 22.0943669\ttotal: 257ms\tremaining: 1.9s\n",
      "119:\tlearn: 22.0665858\ttotal: 259ms\tremaining: 1.9s\n",
      "120:\tlearn: 22.0443974\ttotal: 261ms\tremaining: 1.89s\n",
      "121:\tlearn: 22.0224258\ttotal: 263ms\tremaining: 1.89s\n",
      "122:\tlearn: 22.0090913\ttotal: 264ms\tremaining: 1.89s\n",
      "123:\tlearn: 21.9645684\ttotal: 266ms\tremaining: 1.88s\n",
      "124:\tlearn: 21.9492263\ttotal: 268ms\tremaining: 1.88s\n",
      "125:\tlearn: 21.9200394\ttotal: 270ms\tremaining: 1.87s\n",
      "126:\tlearn: 21.9057991\ttotal: 273ms\tremaining: 1.88s\n",
      "127:\tlearn: 21.8599683\ttotal: 276ms\tremaining: 1.88s\n",
      "128:\tlearn: 21.8143231\ttotal: 278ms\tremaining: 1.88s\n",
      "129:\tlearn: 21.7746415\ttotal: 280ms\tremaining: 1.87s\n",
      "130:\tlearn: 21.7196302\ttotal: 282ms\tremaining: 1.87s\n",
      "131:\tlearn: 21.6909508\ttotal: 284ms\tremaining: 1.87s\n",
      "132:\tlearn: 21.6716826\ttotal: 286ms\tremaining: 1.86s\n",
      "133:\tlearn: 21.6413337\ttotal: 288ms\tremaining: 1.86s\n",
      "134:\tlearn: 21.5980209\ttotal: 290ms\tremaining: 1.85s\n",
      "135:\tlearn: 21.5954709\ttotal: 291ms\tremaining: 1.85s\n",
      "136:\tlearn: 21.5691105\ttotal: 293ms\tremaining: 1.85s\n",
      "137:\tlearn: 21.5305560\ttotal: 295ms\tremaining: 1.84s\n",
      "138:\tlearn: 21.5102565\ttotal: 297ms\tremaining: 1.84s\n",
      "139:\tlearn: 21.4834542\ttotal: 299ms\tremaining: 1.84s\n",
      "140:\tlearn: 21.4675283\ttotal: 301ms\tremaining: 1.83s\n",
      "141:\tlearn: 21.4589536\ttotal: 303ms\tremaining: 1.83s\n",
      "142:\tlearn: 21.4259641\ttotal: 305ms\tremaining: 1.83s\n",
      "143:\tlearn: 21.3791730\ttotal: 307ms\tremaining: 1.83s\n",
      "144:\tlearn: 21.3640377\ttotal: 309ms\tremaining: 1.82s\n",
      "145:\tlearn: 21.3317572\ttotal: 313ms\tremaining: 1.83s\n",
      "146:\tlearn: 21.3154662\ttotal: 316ms\tremaining: 1.83s\n",
      "147:\tlearn: 21.2977894\ttotal: 319ms\tremaining: 1.84s\n",
      "148:\tlearn: 21.2912329\ttotal: 322ms\tremaining: 1.84s\n",
      "149:\tlearn: 21.2510475\ttotal: 325ms\tremaining: 1.84s\n",
      "150:\tlearn: 21.2323785\ttotal: 327ms\tremaining: 1.84s\n",
      "151:\tlearn: 21.2281842\ttotal: 329ms\tremaining: 1.84s\n",
      "152:\tlearn: 21.2058317\ttotal: 331ms\tremaining: 1.83s\n",
      "153:\tlearn: 21.1911452\ttotal: 333ms\tremaining: 1.83s\n",
      "154:\tlearn: 21.1692763\ttotal: 335ms\tremaining: 1.82s\n",
      "155:\tlearn: 21.1443864\ttotal: 337ms\tremaining: 1.82s\n",
      "156:\tlearn: 21.1311352\ttotal: 339ms\tremaining: 1.82s\n",
      "157:\tlearn: 21.1027026\ttotal: 341ms\tremaining: 1.81s\n",
      "158:\tlearn: 21.0898142\ttotal: 343ms\tremaining: 1.81s\n",
      "159:\tlearn: 21.0880278\ttotal: 345ms\tremaining: 1.81s\n",
      "160:\tlearn: 21.0603380\ttotal: 347ms\tremaining: 1.81s\n",
      "161:\tlearn: 21.0376822\ttotal: 349ms\tremaining: 1.8s\n",
      "162:\tlearn: 20.9900807\ttotal: 353ms\tremaining: 1.81s\n",
      "163:\tlearn: 20.9595809\ttotal: 355ms\tremaining: 1.81s\n",
      "164:\tlearn: 20.9324084\ttotal: 358ms\tremaining: 1.81s\n",
      "165:\tlearn: 20.9308552\ttotal: 362ms\tremaining: 1.82s\n",
      "166:\tlearn: 20.9032020\ttotal: 364ms\tremaining: 1.81s\n",
      "167:\tlearn: 20.8991188\ttotal: 366ms\tremaining: 1.81s\n",
      "168:\tlearn: 20.8697313\ttotal: 368ms\tremaining: 1.81s\n",
      "169:\tlearn: 20.8625249\ttotal: 369ms\tremaining: 1.8s\n",
      "170:\tlearn: 20.8552811\ttotal: 371ms\tremaining: 1.8s\n",
      "171:\tlearn: 20.8430190\ttotal: 373ms\tremaining: 1.8s\n",
      "172:\tlearn: 20.8410723\ttotal: 375ms\tremaining: 1.79s\n",
      "173:\tlearn: 20.8281144\ttotal: 377ms\tremaining: 1.79s\n",
      "174:\tlearn: 20.8041480\ttotal: 379ms\tremaining: 1.79s\n",
      "175:\tlearn: 20.7784793\ttotal: 381ms\tremaining: 1.78s\n",
      "176:\tlearn: 20.7652095\ttotal: 383ms\tremaining: 1.78s\n",
      "177:\tlearn: 20.7408801\ttotal: 385ms\tremaining: 1.78s\n",
      "178:\tlearn: 20.7332644\ttotal: 387ms\tremaining: 1.78s\n",
      "179:\tlearn: 20.6888629\ttotal: 389ms\tremaining: 1.77s\n",
      "180:\tlearn: 20.6775663\ttotal: 391ms\tremaining: 1.77s\n",
      "181:\tlearn: 20.6631157\ttotal: 394ms\tremaining: 1.77s\n",
      "182:\tlearn: 20.6347391\ttotal: 396ms\tremaining: 1.77s\n",
      "183:\tlearn: 20.6163074\ttotal: 398ms\tremaining: 1.76s\n",
      "184:\tlearn: 20.5877407\ttotal: 400ms\tremaining: 1.76s\n",
      "185:\tlearn: 20.5493211\ttotal: 402ms\tremaining: 1.76s\n",
      "186:\tlearn: 20.5360400\ttotal: 404ms\tremaining: 1.75s\n",
      "187:\tlearn: 20.5234311\ttotal: 406ms\tremaining: 1.75s\n",
      "188:\tlearn: 20.5076796\ttotal: 408ms\tremaining: 1.75s\n",
      "189:\tlearn: 20.4868274\ttotal: 409ms\tremaining: 1.74s\n",
      "190:\tlearn: 20.4636292\ttotal: 411ms\tremaining: 1.74s\n",
      "191:\tlearn: 20.4369974\ttotal: 413ms\tremaining: 1.74s\n",
      "192:\tlearn: 20.4218414\ttotal: 415ms\tremaining: 1.74s\n",
      "193:\tlearn: 20.4020293\ttotal: 417ms\tremaining: 1.73s\n",
      "194:\tlearn: 20.3802758\ttotal: 419ms\tremaining: 1.73s\n",
      "195:\tlearn: 20.3351423\ttotal: 421ms\tremaining: 1.73s\n",
      "196:\tlearn: 20.3013790\ttotal: 423ms\tremaining: 1.72s\n",
      "197:\tlearn: 20.2791357\ttotal: 425ms\tremaining: 1.72s\n",
      "198:\tlearn: 20.2557996\ttotal: 427ms\tremaining: 1.72s\n",
      "199:\tlearn: 20.2302334\ttotal: 429ms\tremaining: 1.71s\n",
      "200:\tlearn: 20.2106055\ttotal: 431ms\tremaining: 1.71s\n",
      "201:\tlearn: 20.2086748\ttotal: 438ms\tremaining: 1.73s\n",
      "202:\tlearn: 20.1848016\ttotal: 440ms\tremaining: 1.73s\n",
      "203:\tlearn: 20.1419880\ttotal: 443ms\tremaining: 1.73s\n",
      "204:\tlearn: 20.1254836\ttotal: 445ms\tremaining: 1.72s\n",
      "205:\tlearn: 20.0885580\ttotal: 447ms\tremaining: 1.72s\n",
      "206:\tlearn: 20.0658993\ttotal: 449ms\tremaining: 1.72s\n",
      "207:\tlearn: 20.0415703\ttotal: 451ms\tremaining: 1.72s\n",
      "208:\tlearn: 20.0124731\ttotal: 453ms\tremaining: 1.71s\n",
      "209:\tlearn: 19.9932079\ttotal: 455ms\tremaining: 1.71s\n",
      "210:\tlearn: 19.9904703\ttotal: 457ms\tremaining: 1.71s\n",
      "211:\tlearn: 19.9879204\ttotal: 460ms\tremaining: 1.71s\n",
      "212:\tlearn: 19.9619146\ttotal: 462ms\tremaining: 1.71s\n",
      "213:\tlearn: 19.9604279\ttotal: 464ms\tremaining: 1.71s\n",
      "214:\tlearn: 19.9447230\ttotal: 466ms\tremaining: 1.7s\n",
      "215:\tlearn: 19.9328313\ttotal: 468ms\tremaining: 1.7s\n",
      "216:\tlearn: 19.9045373\ttotal: 470ms\tremaining: 1.7s\n",
      "217:\tlearn: 19.8883967\ttotal: 472ms\tremaining: 1.69s\n",
      "218:\tlearn: 19.8693851\ttotal: 474ms\tremaining: 1.69s\n",
      "219:\tlearn: 19.8352981\ttotal: 476ms\tremaining: 1.69s\n",
      "220:\tlearn: 19.8331651\ttotal: 478ms\tremaining: 1.69s\n",
      "221:\tlearn: 19.8141396\ttotal: 480ms\tremaining: 1.68s\n",
      "222:\tlearn: 19.7962248\ttotal: 482ms\tremaining: 1.68s\n",
      "223:\tlearn: 19.7678052\ttotal: 484ms\tremaining: 1.68s\n",
      "224:\tlearn: 19.7438077\ttotal: 486ms\tremaining: 1.67s\n",
      "225:\tlearn: 19.7220272\ttotal: 488ms\tremaining: 1.67s\n",
      "226:\tlearn: 19.7204866\ttotal: 490ms\tremaining: 1.67s\n",
      "227:\tlearn: 19.6989955\ttotal: 492ms\tremaining: 1.67s\n",
      "228:\tlearn: 19.6771770\ttotal: 494ms\tremaining: 1.66s\n",
      "229:\tlearn: 19.6756402\ttotal: 496ms\tremaining: 1.66s\n",
      "230:\tlearn: 19.6448565\ttotal: 498ms\tremaining: 1.66s\n",
      "231:\tlearn: 19.6335103\ttotal: 499ms\tremaining: 1.65s\n",
      "232:\tlearn: 19.6181648\ttotal: 501ms\tremaining: 1.65s\n",
      "233:\tlearn: 19.6099150\ttotal: 503ms\tremaining: 1.65s\n",
      "234:\tlearn: 19.6085018\ttotal: 505ms\tremaining: 1.64s\n",
      "235:\tlearn: 19.6071272\ttotal: 507ms\tremaining: 1.64s\n",
      "236:\tlearn: 19.5850376\ttotal: 510ms\tremaining: 1.64s\n",
      "237:\tlearn: 19.5621675\ttotal: 512ms\tremaining: 1.64s\n",
      "238:\tlearn: 19.5401893\ttotal: 513ms\tremaining: 1.63s\n",
      "239:\tlearn: 19.5056237\ttotal: 515ms\tremaining: 1.63s\n",
      "240:\tlearn: 19.4811115\ttotal: 517ms\tremaining: 1.63s\n",
      "241:\tlearn: 19.4526240\ttotal: 519ms\tremaining: 1.63s\n",
      "242:\tlearn: 19.4298757\ttotal: 521ms\tremaining: 1.62s\n",
      "243:\tlearn: 19.4126720\ttotal: 523ms\tremaining: 1.62s\n",
      "244:\tlearn: 19.3951100\ttotal: 525ms\tremaining: 1.62s\n",
      "245:\tlearn: 19.3676192\ttotal: 527ms\tremaining: 1.61s\n",
      "246:\tlearn: 19.3577976\ttotal: 529ms\tremaining: 1.61s\n",
      "247:\tlearn: 19.3436295\ttotal: 531ms\tremaining: 1.61s\n",
      "248:\tlearn: 19.3225794\ttotal: 533ms\tremaining: 1.61s\n",
      "249:\tlearn: 19.2965631\ttotal: 535ms\tremaining: 1.6s\n",
      "250:\tlearn: 19.2733488\ttotal: 537ms\tremaining: 1.6s\n",
      "251:\tlearn: 19.2544096\ttotal: 539ms\tremaining: 1.6s\n",
      "252:\tlearn: 19.2422533\ttotal: 541ms\tremaining: 1.6s\n",
      "253:\tlearn: 19.2202035\ttotal: 543ms\tremaining: 1.59s\n",
      "254:\tlearn: 19.2052668\ttotal: 545ms\tremaining: 1.59s\n",
      "255:\tlearn: 19.2011023\ttotal: 547ms\tremaining: 1.59s\n",
      "256:\tlearn: 19.1883320\ttotal: 548ms\tremaining: 1.58s\n",
      "257:\tlearn: 19.1709161\ttotal: 550ms\tremaining: 1.58s\n",
      "258:\tlearn: 19.1502667\ttotal: 552ms\tremaining: 1.58s\n",
      "259:\tlearn: 19.1313482\ttotal: 554ms\tremaining: 1.58s\n",
      "260:\tlearn: 19.1174930\ttotal: 556ms\tremaining: 1.57s\n",
      "261:\tlearn: 19.1056265\ttotal: 558ms\tremaining: 1.57s\n",
      "262:\tlearn: 19.0908259\ttotal: 560ms\tremaining: 1.57s\n",
      "263:\tlearn: 19.0779021\ttotal: 562ms\tremaining: 1.56s\n",
      "264:\tlearn: 19.0531349\ttotal: 564ms\tremaining: 1.56s\n",
      "265:\tlearn: 19.0372245\ttotal: 566ms\tremaining: 1.56s\n",
      "266:\tlearn: 19.0130672\ttotal: 568ms\tremaining: 1.56s\n",
      "267:\tlearn: 18.9874935\ttotal: 570ms\tremaining: 1.56s\n",
      "268:\tlearn: 18.9726525\ttotal: 572ms\tremaining: 1.55s\n",
      "269:\tlearn: 18.9565689\ttotal: 574ms\tremaining: 1.55s\n",
      "270:\tlearn: 18.9402030\ttotal: 576ms\tremaining: 1.55s\n",
      "271:\tlearn: 18.9243043\ttotal: 578ms\tremaining: 1.55s\n",
      "272:\tlearn: 18.9056294\ttotal: 580ms\tremaining: 1.54s\n",
      "273:\tlearn: 18.8842726\ttotal: 583ms\tremaining: 1.54s\n",
      "274:\tlearn: 18.8623633\ttotal: 586ms\tremaining: 1.54s\n",
      "275:\tlearn: 18.8416486\ttotal: 589ms\tremaining: 1.54s\n",
      "276:\tlearn: 18.8307897\ttotal: 592ms\tremaining: 1.54s\n",
      "277:\tlearn: 18.8118544\ttotal: 595ms\tremaining: 1.54s\n",
      "278:\tlearn: 18.8103846\ttotal: 598ms\tremaining: 1.54s\n",
      "279:\tlearn: 18.7921876\ttotal: 601ms\tremaining: 1.54s\n",
      "280:\tlearn: 18.7666281\ttotal: 604ms\tremaining: 1.54s\n",
      "281:\tlearn: 18.7446162\ttotal: 607ms\tremaining: 1.54s\n",
      "282:\tlearn: 18.7251113\ttotal: 610ms\tremaining: 1.54s\n",
      "283:\tlearn: 18.7048817\ttotal: 613ms\tremaining: 1.54s\n",
      "284:\tlearn: 18.6767073\ttotal: 616ms\tremaining: 1.54s\n",
      "285:\tlearn: 18.6757266\ttotal: 619ms\tremaining: 1.54s\n",
      "286:\tlearn: 18.6745130\ttotal: 622ms\tremaining: 1.54s\n",
      "287:\tlearn: 18.6643419\ttotal: 625ms\tremaining: 1.55s\n",
      "288:\tlearn: 18.6568661\ttotal: 629ms\tremaining: 1.55s\n",
      "289:\tlearn: 18.6423157\ttotal: 631ms\tremaining: 1.54s\n",
      "290:\tlearn: 18.6283946\ttotal: 633ms\tremaining: 1.54s\n",
      "291:\tlearn: 18.6271845\ttotal: 634ms\tremaining: 1.54s\n",
      "292:\tlearn: 18.6148568\ttotal: 636ms\tremaining: 1.53s\n",
      "293:\tlearn: 18.6137625\ttotal: 638ms\tremaining: 1.53s\n",
      "294:\tlearn: 18.5991835\ttotal: 640ms\tremaining: 1.53s\n",
      "295:\tlearn: 18.5851214\ttotal: 642ms\tremaining: 1.53s\n",
      "296:\tlearn: 18.5716649\ttotal: 644ms\tremaining: 1.52s\n",
      "297:\tlearn: 18.5642921\ttotal: 646ms\tremaining: 1.52s\n",
      "298:\tlearn: 18.5381035\ttotal: 648ms\tremaining: 1.52s\n",
      "299:\tlearn: 18.5257409\ttotal: 651ms\tremaining: 1.52s\n",
      "300:\tlearn: 18.5144737\ttotal: 653ms\tremaining: 1.51s\n",
      "301:\tlearn: 18.5036710\ttotal: 655ms\tremaining: 1.51s\n",
      "302:\tlearn: 18.4890650\ttotal: 657ms\tremaining: 1.51s\n",
      "303:\tlearn: 18.4820353\ttotal: 660ms\tremaining: 1.51s\n",
      "304:\tlearn: 18.4671667\ttotal: 662ms\tremaining: 1.51s\n",
      "305:\tlearn: 18.4660999\ttotal: 665ms\tremaining: 1.51s\n",
      "306:\tlearn: 18.4474973\ttotal: 669ms\tremaining: 1.51s\n",
      "307:\tlearn: 18.4238571\ttotal: 672ms\tremaining: 1.51s\n",
      "308:\tlearn: 18.4142513\ttotal: 675ms\tremaining: 1.51s\n",
      "309:\tlearn: 18.4132471\ttotal: 678ms\tremaining: 1.51s\n",
      "310:\tlearn: 18.3986708\ttotal: 681ms\tremaining: 1.51s\n",
      "311:\tlearn: 18.3975991\ttotal: 684ms\tremaining: 1.51s\n",
      "312:\tlearn: 18.3828290\ttotal: 687ms\tremaining: 1.51s\n",
      "313:\tlearn: 18.3658569\ttotal: 691ms\tremaining: 1.51s\n",
      "314:\tlearn: 18.3481460\ttotal: 694ms\tremaining: 1.51s\n",
      "315:\tlearn: 18.3368999\ttotal: 696ms\tremaining: 1.51s\n",
      "316:\tlearn: 18.3251557\ttotal: 698ms\tremaining: 1.5s\n",
      "317:\tlearn: 18.3133324\ttotal: 700ms\tremaining: 1.5s\n",
      "318:\tlearn: 18.2990117\ttotal: 702ms\tremaining: 1.5s\n",
      "319:\tlearn: 18.2866727\ttotal: 705ms\tremaining: 1.5s\n",
      "320:\tlearn: 18.2691005\ttotal: 707ms\tremaining: 1.49s\n",
      "321:\tlearn: 18.2432855\ttotal: 709ms\tremaining: 1.49s\n",
      "322:\tlearn: 18.2249578\ttotal: 711ms\tremaining: 1.49s\n",
      "323:\tlearn: 18.2182004\ttotal: 713ms\tremaining: 1.49s\n",
      "324:\tlearn: 18.1982844\ttotal: 716ms\tremaining: 1.49s\n",
      "325:\tlearn: 18.1867960\ttotal: 719ms\tremaining: 1.49s\n",
      "326:\tlearn: 18.1728084\ttotal: 722ms\tremaining: 1.49s\n",
      "327:\tlearn: 18.1537841\ttotal: 724ms\tremaining: 1.48s\n",
      "328:\tlearn: 18.1303646\ttotal: 726ms\tremaining: 1.48s\n",
      "329:\tlearn: 18.1253858\ttotal: 728ms\tremaining: 1.48s\n",
      "330:\tlearn: 18.1242846\ttotal: 730ms\tremaining: 1.48s\n",
      "331:\tlearn: 18.1012100\ttotal: 732ms\tremaining: 1.47s\n",
      "332:\tlearn: 18.0850913\ttotal: 735ms\tremaining: 1.47s\n",
      "333:\tlearn: 18.0750598\ttotal: 737ms\tremaining: 1.47s\n",
      "334:\tlearn: 18.0587201\ttotal: 740ms\tremaining: 1.47s\n",
      "335:\tlearn: 18.0418989\ttotal: 742ms\tremaining: 1.47s\n",
      "336:\tlearn: 18.0270636\ttotal: 744ms\tremaining: 1.46s\n",
      "337:\tlearn: 18.0259564\ttotal: 746ms\tremaining: 1.46s\n",
      "338:\tlearn: 18.0168263\ttotal: 748ms\tremaining: 1.46s\n",
      "339:\tlearn: 18.0039243\ttotal: 750ms\tremaining: 1.46s\n",
      "340:\tlearn: 17.9825408\ttotal: 752ms\tremaining: 1.45s\n",
      "341:\tlearn: 17.9733873\ttotal: 754ms\tremaining: 1.45s\n",
      "342:\tlearn: 17.9656444\ttotal: 756ms\tremaining: 1.45s\n",
      "343:\tlearn: 17.9598207\ttotal: 758ms\tremaining: 1.45s\n",
      "344:\tlearn: 17.9402956\ttotal: 760ms\tremaining: 1.44s\n",
      "345:\tlearn: 17.9333004\ttotal: 762ms\tremaining: 1.44s\n",
      "346:\tlearn: 17.9199176\ttotal: 764ms\tremaining: 1.44s\n",
      "347:\tlearn: 17.9057057\ttotal: 766ms\tremaining: 1.44s\n",
      "348:\tlearn: 17.9020850\ttotal: 768ms\tremaining: 1.43s\n",
      "349:\tlearn: 17.8819885\ttotal: 770ms\tremaining: 1.43s\n",
      "350:\tlearn: 17.8678576\ttotal: 773ms\tremaining: 1.43s\n",
      "351:\tlearn: 17.8579829\ttotal: 775ms\tremaining: 1.43s\n",
      "352:\tlearn: 17.8460977\ttotal: 777ms\tremaining: 1.42s\n",
      "353:\tlearn: 17.8287488\ttotal: 778ms\tremaining: 1.42s\n",
      "354:\tlearn: 17.8182093\ttotal: 781ms\tremaining: 1.42s\n",
      "355:\tlearn: 17.8049293\ttotal: 783ms\tremaining: 1.42s\n",
      "356:\tlearn: 17.8040325\ttotal: 785ms\tremaining: 1.41s\n",
      "357:\tlearn: 17.7985150\ttotal: 787ms\tremaining: 1.41s\n",
      "358:\tlearn: 17.7897303\ttotal: 789ms\tremaining: 1.41s\n",
      "359:\tlearn: 17.7803315\ttotal: 791ms\tremaining: 1.41s\n",
      "360:\tlearn: 17.7796612\ttotal: 793ms\tremaining: 1.4s\n",
      "361:\tlearn: 17.7738236\ttotal: 795ms\tremaining: 1.4s\n",
      "362:\tlearn: 17.7661648\ttotal: 797ms\tremaining: 1.4s\n",
      "363:\tlearn: 17.7507364\ttotal: 799ms\tremaining: 1.4s\n",
      "364:\tlearn: 17.7381840\ttotal: 801ms\tremaining: 1.39s\n",
      "365:\tlearn: 17.7267785\ttotal: 803ms\tremaining: 1.39s\n",
      "366:\tlearn: 17.7176883\ttotal: 805ms\tremaining: 1.39s\n",
      "367:\tlearn: 17.7112336\ttotal: 811ms\tremaining: 1.39s\n",
      "368:\tlearn: 17.7085998\ttotal: 814ms\tremaining: 1.39s\n",
      "369:\tlearn: 17.7009925\ttotal: 816ms\tremaining: 1.39s\n",
      "370:\tlearn: 17.6852726\ttotal: 819ms\tremaining: 1.39s\n",
      "371:\tlearn: 17.6699362\ttotal: 821ms\tremaining: 1.39s\n",
      "372:\tlearn: 17.6550757\ttotal: 824ms\tremaining: 1.38s\n",
      "373:\tlearn: 17.6433743\ttotal: 826ms\tremaining: 1.38s\n",
      "374:\tlearn: 17.6316296\ttotal: 828ms\tremaining: 1.38s\n",
      "375:\tlearn: 17.6207877\ttotal: 830ms\tremaining: 1.38s\n",
      "376:\tlearn: 17.6199752\ttotal: 832ms\tremaining: 1.37s\n",
      "377:\tlearn: 17.6051225\ttotal: 834ms\tremaining: 1.37s\n",
      "378:\tlearn: 17.5929664\ttotal: 836ms\tremaining: 1.37s\n",
      "379:\tlearn: 17.5874545\ttotal: 838ms\tremaining: 1.37s\n",
      "380:\tlearn: 17.5724590\ttotal: 840ms\tremaining: 1.36s\n",
      "381:\tlearn: 17.5627877\ttotal: 843ms\tremaining: 1.36s\n",
      "382:\tlearn: 17.5623794\ttotal: 845ms\tremaining: 1.36s\n",
      "383:\tlearn: 17.5399241\ttotal: 847ms\tremaining: 1.36s\n",
      "384:\tlearn: 17.5223126\ttotal: 849ms\tremaining: 1.36s\n",
      "385:\tlearn: 17.5216778\ttotal: 851ms\tremaining: 1.35s\n",
      "386:\tlearn: 17.5112026\ttotal: 853ms\tremaining: 1.35s\n",
      "387:\tlearn: 17.5016307\ttotal: 855ms\tremaining: 1.35s\n",
      "388:\tlearn: 17.4870191\ttotal: 858ms\tremaining: 1.35s\n",
      "389:\tlearn: 17.4753340\ttotal: 860ms\tremaining: 1.34s\n",
      "390:\tlearn: 17.4603039\ttotal: 862ms\tremaining: 1.34s\n",
      "391:\tlearn: 17.4458666\ttotal: 864ms\tremaining: 1.34s\n",
      "392:\tlearn: 17.4376164\ttotal: 866ms\tremaining: 1.34s\n",
      "393:\tlearn: 17.4279662\ttotal: 868ms\tremaining: 1.33s\n",
      "394:\tlearn: 17.4168248\ttotal: 870ms\tremaining: 1.33s\n",
      "395:\tlearn: 17.4160417\ttotal: 872ms\tremaining: 1.33s\n",
      "396:\tlearn: 17.4092302\ttotal: 874ms\tremaining: 1.33s\n",
      "397:\tlearn: 17.4081741\ttotal: 876ms\tremaining: 1.32s\n",
      "398:\tlearn: 17.3909210\ttotal: 878ms\tremaining: 1.32s\n",
      "399:\tlearn: 17.3852085\ttotal: 880ms\tremaining: 1.32s\n",
      "400:\tlearn: 17.3844842\ttotal: 883ms\tremaining: 1.32s\n",
      "401:\tlearn: 17.3778062\ttotal: 885ms\tremaining: 1.32s\n",
      "402:\tlearn: 17.3714584\ttotal: 887ms\tremaining: 1.31s\n",
      "403:\tlearn: 17.3643372\ttotal: 889ms\tremaining: 1.31s\n",
      "404:\tlearn: 17.3581228\ttotal: 892ms\tremaining: 1.31s\n",
      "405:\tlearn: 17.3463516\ttotal: 894ms\tremaining: 1.31s\n",
      "406:\tlearn: 17.3452625\ttotal: 896ms\tremaining: 1.31s\n",
      "407:\tlearn: 17.3369182\ttotal: 899ms\tremaining: 1.3s\n",
      "408:\tlearn: 17.3168407\ttotal: 901ms\tremaining: 1.3s\n",
      "409:\tlearn: 17.3041609\ttotal: 904ms\tremaining: 1.3s\n",
      "410:\tlearn: 17.2889522\ttotal: 906ms\tremaining: 1.3s\n",
      "411:\tlearn: 17.2755421\ttotal: 908ms\tremaining: 1.29s\n",
      "412:\tlearn: 17.2629088\ttotal: 909ms\tremaining: 1.29s\n",
      "413:\tlearn: 17.2523811\ttotal: 911ms\tremaining: 1.29s\n",
      "414:\tlearn: 17.2326723\ttotal: 913ms\tremaining: 1.29s\n",
      "415:\tlearn: 17.2229102\ttotal: 915ms\tremaining: 1.28s\n",
      "416:\tlearn: 17.2160784\ttotal: 917ms\tremaining: 1.28s\n",
      "417:\tlearn: 17.1997866\ttotal: 919ms\tremaining: 1.28s\n",
      "418:\tlearn: 17.1947186\ttotal: 921ms\tremaining: 1.28s\n",
      "419:\tlearn: 17.1870860\ttotal: 922ms\tremaining: 1.27s\n",
      "420:\tlearn: 17.1761144\ttotal: 924ms\tremaining: 1.27s\n",
      "421:\tlearn: 17.1612336\ttotal: 926ms\tremaining: 1.27s\n",
      "422:\tlearn: 17.1503499\ttotal: 928ms\tremaining: 1.27s\n",
      "423:\tlearn: 17.1495425\ttotal: 930ms\tremaining: 1.26s\n",
      "424:\tlearn: 17.1375313\ttotal: 932ms\tremaining: 1.26s\n",
      "425:\tlearn: 17.1218580\ttotal: 934ms\tremaining: 1.26s\n",
      "426:\tlearn: 17.1212715\ttotal: 936ms\tremaining: 1.25s\n",
      "427:\tlearn: 17.1098538\ttotal: 937ms\tremaining: 1.25s\n",
      "428:\tlearn: 17.0983972\ttotal: 939ms\tremaining: 1.25s\n",
      "429:\tlearn: 17.0852516\ttotal: 941ms\tremaining: 1.25s\n",
      "430:\tlearn: 17.0781611\ttotal: 943ms\tremaining: 1.25s\n",
      "431:\tlearn: 17.0716218\ttotal: 945ms\tremaining: 1.24s\n",
      "432:\tlearn: 17.0708182\ttotal: 947ms\tremaining: 1.24s\n",
      "433:\tlearn: 17.0640350\ttotal: 949ms\tremaining: 1.24s\n",
      "434:\tlearn: 17.0534180\ttotal: 951ms\tremaining: 1.23s\n",
      "435:\tlearn: 17.0400700\ttotal: 952ms\tremaining: 1.23s\n",
      "436:\tlearn: 17.0324309\ttotal: 955ms\tremaining: 1.23s\n",
      "437:\tlearn: 17.0233506\ttotal: 957ms\tremaining: 1.23s\n",
      "438:\tlearn: 17.0108101\ttotal: 959ms\tremaining: 1.23s\n",
      "439:\tlearn: 17.0067483\ttotal: 962ms\tremaining: 1.22s\n",
      "440:\tlearn: 16.9888217\ttotal: 965ms\tremaining: 1.22s\n",
      "441:\tlearn: 16.9812561\ttotal: 968ms\tremaining: 1.22s\n",
      "442:\tlearn: 16.9669672\ttotal: 972ms\tremaining: 1.22s\n",
      "443:\tlearn: 16.9527828\ttotal: 975ms\tremaining: 1.22s\n",
      "444:\tlearn: 16.9412306\ttotal: 978ms\tremaining: 1.22s\n",
      "445:\tlearn: 16.9402610\ttotal: 981ms\tremaining: 1.22s\n",
      "446:\tlearn: 16.9275496\ttotal: 984ms\tremaining: 1.22s\n",
      "447:\tlearn: 16.9141417\ttotal: 991ms\tremaining: 1.22s\n",
      "448:\tlearn: 16.9137709\ttotal: 994ms\tremaining: 1.22s\n",
      "449:\tlearn: 16.9033063\ttotal: 997ms\tremaining: 1.22s\n",
      "450:\tlearn: 16.8914521\ttotal: 1000ms\tremaining: 1.22s\n",
      "451:\tlearn: 16.8906639\ttotal: 1s\tremaining: 1.22s\n",
      "452:\tlearn: 16.8823103\ttotal: 1s\tremaining: 1.21s\n",
      "453:\tlearn: 16.8683879\ttotal: 1.01s\tremaining: 1.21s\n",
      "454:\tlearn: 16.8602949\ttotal: 1.01s\tremaining: 1.21s\n",
      "455:\tlearn: 16.8529387\ttotal: 1.01s\tremaining: 1.21s\n",
      "456:\tlearn: 16.8509953\ttotal: 1.01s\tremaining: 1.21s\n",
      "457:\tlearn: 16.8453385\ttotal: 1.02s\tremaining: 1.2s\n",
      "458:\tlearn: 16.8329044\ttotal: 1.02s\tremaining: 1.2s\n",
      "459:\tlearn: 16.8244263\ttotal: 1.02s\tremaining: 1.2s\n",
      "460:\tlearn: 16.8137030\ttotal: 1.02s\tremaining: 1.19s\n",
      "461:\tlearn: 16.7969342\ttotal: 1.02s\tremaining: 1.19s\n",
      "462:\tlearn: 16.7964732\ttotal: 1.02s\tremaining: 1.19s\n",
      "463:\tlearn: 16.7925850\ttotal: 1.03s\tremaining: 1.19s\n",
      "464:\tlearn: 16.7828123\ttotal: 1.03s\tremaining: 1.18s\n",
      "465:\tlearn: 16.7761681\ttotal: 1.03s\tremaining: 1.18s\n",
      "466:\tlearn: 16.7700875\ttotal: 1.03s\tremaining: 1.18s\n",
      "467:\tlearn: 16.7573858\ttotal: 1.03s\tremaining: 1.18s\n",
      "468:\tlearn: 16.7486736\ttotal: 1.04s\tremaining: 1.17s\n",
      "469:\tlearn: 16.7390617\ttotal: 1.04s\tremaining: 1.17s\n",
      "470:\tlearn: 16.7283971\ttotal: 1.04s\tremaining: 1.17s\n",
      "471:\tlearn: 16.7186004\ttotal: 1.04s\tremaining: 1.17s\n",
      "472:\tlearn: 16.7138738\ttotal: 1.04s\tremaining: 1.16s\n",
      "473:\tlearn: 16.7007288\ttotal: 1.05s\tremaining: 1.16s\n",
      "474:\tlearn: 16.6910293\ttotal: 1.05s\tremaining: 1.16s\n",
      "475:\tlearn: 16.6856478\ttotal: 1.05s\tremaining: 1.16s\n",
      "476:\tlearn: 16.6796053\ttotal: 1.05s\tremaining: 1.15s\n",
      "477:\tlearn: 16.6717409\ttotal: 1.05s\tremaining: 1.15s\n",
      "478:\tlearn: 16.6672637\ttotal: 1.06s\tremaining: 1.15s\n",
      "479:\tlearn: 16.6668799\ttotal: 1.06s\tremaining: 1.15s\n",
      "480:\tlearn: 16.6574410\ttotal: 1.06s\tremaining: 1.14s\n",
      "481:\tlearn: 16.6562350\ttotal: 1.06s\tremaining: 1.14s\n",
      "482:\tlearn: 16.6456065\ttotal: 1.06s\tremaining: 1.14s\n",
      "483:\tlearn: 16.6379191\ttotal: 1.07s\tremaining: 1.14s\n",
      "484:\tlearn: 16.6282934\ttotal: 1.07s\tremaining: 1.14s\n",
      "485:\tlearn: 16.6199730\ttotal: 1.07s\tremaining: 1.14s\n",
      "486:\tlearn: 16.6025189\ttotal: 1.07s\tremaining: 1.13s\n",
      "487:\tlearn: 16.5966139\ttotal: 1.08s\tremaining: 1.13s\n",
      "488:\tlearn: 16.5808095\ttotal: 1.08s\tremaining: 1.13s\n",
      "489:\tlearn: 16.5749326\ttotal: 1.08s\tremaining: 1.13s\n",
      "490:\tlearn: 16.5746354\ttotal: 1.08s\tremaining: 1.12s\n",
      "491:\tlearn: 16.5639979\ttotal: 1.08s\tremaining: 1.12s\n",
      "492:\tlearn: 16.5611788\ttotal: 1.09s\tremaining: 1.12s\n",
      "493:\tlearn: 16.5606369\ttotal: 1.09s\tremaining: 1.11s\n",
      "494:\tlearn: 16.5500833\ttotal: 1.09s\tremaining: 1.11s\n",
      "495:\tlearn: 16.5435970\ttotal: 1.09s\tremaining: 1.11s\n",
      "496:\tlearn: 16.5321213\ttotal: 1.09s\tremaining: 1.11s\n",
      "497:\tlearn: 16.5246181\ttotal: 1.1s\tremaining: 1.1s\n",
      "498:\tlearn: 16.5175647\ttotal: 1.1s\tremaining: 1.1s\n",
      "499:\tlearn: 16.5062150\ttotal: 1.1s\tremaining: 1.1s\n",
      "500:\tlearn: 16.4994612\ttotal: 1.1s\tremaining: 1.1s\n",
      "501:\tlearn: 16.4879064\ttotal: 1.1s\tremaining: 1.09s\n",
      "502:\tlearn: 16.4722444\ttotal: 1.11s\tremaining: 1.09s\n",
      "503:\tlearn: 16.4668378\ttotal: 1.11s\tremaining: 1.09s\n",
      "504:\tlearn: 16.4616125\ttotal: 1.11s\tremaining: 1.09s\n",
      "505:\tlearn: 16.4613370\ttotal: 1.11s\tremaining: 1.08s\n",
      "506:\tlearn: 16.4526988\ttotal: 1.11s\tremaining: 1.08s\n",
      "507:\tlearn: 16.4400377\ttotal: 1.12s\tremaining: 1.08s\n",
      "508:\tlearn: 16.4388911\ttotal: 1.12s\tremaining: 1.08s\n",
      "509:\tlearn: 16.4276275\ttotal: 1.12s\tremaining: 1.08s\n",
      "510:\tlearn: 16.4122037\ttotal: 1.12s\tremaining: 1.07s\n",
      "511:\tlearn: 16.3993512\ttotal: 1.12s\tremaining: 1.07s\n",
      "512:\tlearn: 16.3990277\ttotal: 1.13s\tremaining: 1.07s\n",
      "513:\tlearn: 16.3929817\ttotal: 1.13s\tremaining: 1.07s\n",
      "514:\tlearn: 16.3905246\ttotal: 1.13s\tremaining: 1.06s\n",
      "515:\tlearn: 16.3854797\ttotal: 1.13s\tremaining: 1.06s\n",
      "516:\tlearn: 16.3851124\ttotal: 1.13s\tremaining: 1.06s\n",
      "517:\tlearn: 16.3806177\ttotal: 1.14s\tremaining: 1.06s\n",
      "518:\tlearn: 16.3741503\ttotal: 1.14s\tremaining: 1.05s\n",
      "519:\tlearn: 16.3692206\ttotal: 1.14s\tremaining: 1.05s\n",
      "520:\tlearn: 16.3596292\ttotal: 1.14s\tremaining: 1.05s\n",
      "521:\tlearn: 16.3476234\ttotal: 1.14s\tremaining: 1.05s\n",
      "522:\tlearn: 16.3387459\ttotal: 1.15s\tremaining: 1.05s\n",
      "523:\tlearn: 16.3384245\ttotal: 1.15s\tremaining: 1.04s\n",
      "524:\tlearn: 16.3283126\ttotal: 1.15s\tremaining: 1.04s\n",
      "525:\tlearn: 16.3155753\ttotal: 1.16s\tremaining: 1.04s\n",
      "526:\tlearn: 16.3070245\ttotal: 1.16s\tremaining: 1.04s\n",
      "527:\tlearn: 16.3012966\ttotal: 1.16s\tremaining: 1.04s\n",
      "528:\tlearn: 16.2938815\ttotal: 1.17s\tremaining: 1.04s\n",
      "529:\tlearn: 16.2771070\ttotal: 1.17s\tremaining: 1.04s\n",
      "530:\tlearn: 16.2669536\ttotal: 1.17s\tremaining: 1.03s\n",
      "531:\tlearn: 16.2625515\ttotal: 1.17s\tremaining: 1.03s\n",
      "532:\tlearn: 16.2584399\ttotal: 1.18s\tremaining: 1.03s\n",
      "533:\tlearn: 16.2524722\ttotal: 1.18s\tremaining: 1.03s\n",
      "534:\tlearn: 16.2485980\ttotal: 1.18s\tremaining: 1.02s\n",
      "535:\tlearn: 16.2449099\ttotal: 1.18s\tremaining: 1.02s\n",
      "536:\tlearn: 16.2300953\ttotal: 1.18s\tremaining: 1.02s\n",
      "537:\tlearn: 16.2259798\ttotal: 1.19s\tremaining: 1.02s\n",
      "538:\tlearn: 16.2219584\ttotal: 1.19s\tremaining: 1.01s\n",
      "539:\tlearn: 16.2105827\ttotal: 1.19s\tremaining: 1.01s\n",
      "540:\tlearn: 16.2102650\ttotal: 1.19s\tremaining: 1.01s\n",
      "541:\tlearn: 16.2034546\ttotal: 1.19s\tremaining: 1.01s\n",
      "542:\tlearn: 16.1934755\ttotal: 1.2s\tremaining: 1.01s\n",
      "543:\tlearn: 16.1805027\ttotal: 1.2s\tremaining: 1s\n",
      "544:\tlearn: 16.1651974\ttotal: 1.2s\tremaining: 1s\n",
      "545:\tlearn: 16.1594789\ttotal: 1.2s\tremaining: 999ms\n",
      "546:\tlearn: 16.1474723\ttotal: 1.2s\tremaining: 997ms\n",
      "547:\tlearn: 16.1373341\ttotal: 1.21s\tremaining: 994ms\n",
      "548:\tlearn: 16.1303864\ttotal: 1.21s\tremaining: 992ms\n",
      "549:\tlearn: 16.1229749\ttotal: 1.21s\tremaining: 989ms\n",
      "550:\tlearn: 16.1168089\ttotal: 1.21s\tremaining: 987ms\n",
      "551:\tlearn: 16.1043877\ttotal: 1.21s\tremaining: 984ms\n",
      "552:\tlearn: 16.0969856\ttotal: 1.21s\tremaining: 982ms\n",
      "553:\tlearn: 16.0847518\ttotal: 1.22s\tremaining: 980ms\n",
      "554:\tlearn: 16.0792631\ttotal: 1.22s\tremaining: 977ms\n",
      "555:\tlearn: 16.0691703\ttotal: 1.22s\tremaining: 975ms\n",
      "556:\tlearn: 16.0687365\ttotal: 1.22s\tremaining: 973ms\n",
      "557:\tlearn: 16.0559629\ttotal: 1.23s\tremaining: 971ms\n",
      "558:\tlearn: 16.0557515\ttotal: 1.23s\tremaining: 969ms\n",
      "559:\tlearn: 16.0460131\ttotal: 1.23s\tremaining: 966ms\n",
      "560:\tlearn: 16.0411621\ttotal: 1.23s\tremaining: 964ms\n",
      "561:\tlearn: 16.0378541\ttotal: 1.23s\tremaining: 961ms\n",
      "562:\tlearn: 16.0307318\ttotal: 1.24s\tremaining: 959ms\n",
      "563:\tlearn: 16.0183912\ttotal: 1.24s\tremaining: 956ms\n",
      "564:\tlearn: 16.0181515\ttotal: 1.24s\tremaining: 954ms\n",
      "565:\tlearn: 16.0080914\ttotal: 1.24s\tremaining: 951ms\n",
      "566:\tlearn: 16.0036377\ttotal: 1.24s\tremaining: 949ms\n",
      "567:\tlearn: 15.9964445\ttotal: 1.24s\tremaining: 947ms\n",
      "568:\tlearn: 15.9854998\ttotal: 1.25s\tremaining: 944ms\n",
      "569:\tlearn: 15.9733193\ttotal: 1.25s\tremaining: 942ms\n",
      "570:\tlearn: 15.9623431\ttotal: 1.25s\tremaining: 940ms\n",
      "571:\tlearn: 15.9571647\ttotal: 1.25s\tremaining: 937ms\n",
      "572:\tlearn: 15.9519949\ttotal: 1.25s\tremaining: 935ms\n",
      "573:\tlearn: 15.9483337\ttotal: 1.26s\tremaining: 932ms\n",
      "574:\tlearn: 15.9435234\ttotal: 1.26s\tremaining: 930ms\n",
      "575:\tlearn: 15.9392722\ttotal: 1.26s\tremaining: 928ms\n",
      "576:\tlearn: 15.9303464\ttotal: 1.26s\tremaining: 925ms\n",
      "577:\tlearn: 15.9181865\ttotal: 1.26s\tremaining: 923ms\n",
      "578:\tlearn: 15.9079427\ttotal: 1.27s\tremaining: 921ms\n",
      "579:\tlearn: 15.8970608\ttotal: 1.27s\tremaining: 918ms\n",
      "580:\tlearn: 15.8880698\ttotal: 1.27s\tremaining: 916ms\n",
      "581:\tlearn: 15.8772624\ttotal: 1.27s\tremaining: 914ms\n",
      "582:\tlearn: 15.8677921\ttotal: 1.27s\tremaining: 912ms\n",
      "583:\tlearn: 15.8646128\ttotal: 1.28s\tremaining: 909ms\n",
      "584:\tlearn: 15.8598189\ttotal: 1.28s\tremaining: 907ms\n",
      "585:\tlearn: 15.8483597\ttotal: 1.28s\tremaining: 905ms\n",
      "586:\tlearn: 15.8400555\ttotal: 1.28s\tremaining: 902ms\n",
      "587:\tlearn: 15.8264307\ttotal: 1.28s\tremaining: 900ms\n",
      "588:\tlearn: 15.8216082\ttotal: 1.29s\tremaining: 899ms\n",
      "589:\tlearn: 15.8156631\ttotal: 1.29s\tremaining: 897ms\n",
      "590:\tlearn: 15.8086224\ttotal: 1.29s\tremaining: 896ms\n",
      "591:\tlearn: 15.8033703\ttotal: 1.3s\tremaining: 895ms\n",
      "592:\tlearn: 15.7966318\ttotal: 1.3s\tremaining: 894ms\n",
      "593:\tlearn: 15.7918340\ttotal: 1.3s\tremaining: 892ms\n",
      "594:\tlearn: 15.7791854\ttotal: 1.31s\tremaining: 890ms\n",
      "595:\tlearn: 15.7749858\ttotal: 1.31s\tremaining: 887ms\n",
      "596:\tlearn: 15.7664669\ttotal: 1.31s\tremaining: 885ms\n",
      "597:\tlearn: 15.7577828\ttotal: 1.31s\tremaining: 883ms\n",
      "598:\tlearn: 15.7508627\ttotal: 1.31s\tremaining: 880ms\n",
      "599:\tlearn: 15.7388138\ttotal: 1.32s\tremaining: 878ms\n",
      "600:\tlearn: 15.7301016\ttotal: 1.32s\tremaining: 876ms\n",
      "601:\tlearn: 15.7254882\ttotal: 1.32s\tremaining: 873ms\n",
      "602:\tlearn: 15.7183840\ttotal: 1.32s\tremaining: 871ms\n",
      "603:\tlearn: 15.7133768\ttotal: 1.32s\tremaining: 869ms\n",
      "604:\tlearn: 15.7073738\ttotal: 1.33s\tremaining: 866ms\n",
      "605:\tlearn: 15.6997281\ttotal: 1.33s\tremaining: 864ms\n",
      "606:\tlearn: 15.6956408\ttotal: 1.33s\tremaining: 862ms\n",
      "607:\tlearn: 15.6884922\ttotal: 1.33s\tremaining: 859ms\n",
      "608:\tlearn: 15.6777107\ttotal: 1.33s\tremaining: 857ms\n",
      "609:\tlearn: 15.6690979\ttotal: 1.34s\tremaining: 855ms\n",
      "610:\tlearn: 15.6619322\ttotal: 1.34s\tremaining: 852ms\n",
      "611:\tlearn: 15.6521720\ttotal: 1.34s\tremaining: 850ms\n",
      "612:\tlearn: 15.6419854\ttotal: 1.34s\tremaining: 848ms\n",
      "613:\tlearn: 15.6337149\ttotal: 1.34s\tremaining: 845ms\n",
      "614:\tlearn: 15.6193472\ttotal: 1.35s\tremaining: 843ms\n",
      "615:\tlearn: 15.6149173\ttotal: 1.35s\tremaining: 841ms\n",
      "616:\tlearn: 15.6044328\ttotal: 1.35s\tremaining: 838ms\n",
      "617:\tlearn: 15.5960165\ttotal: 1.35s\tremaining: 836ms\n",
      "618:\tlearn: 15.5833736\ttotal: 1.35s\tremaining: 834ms\n",
      "619:\tlearn: 15.5762504\ttotal: 1.36s\tremaining: 831ms\n",
      "620:\tlearn: 15.5685699\ttotal: 1.36s\tremaining: 829ms\n",
      "621:\tlearn: 15.5616991\ttotal: 1.36s\tremaining: 826ms\n",
      "622:\tlearn: 15.5497076\ttotal: 1.36s\tremaining: 824ms\n",
      "623:\tlearn: 15.5413990\ttotal: 1.36s\tremaining: 822ms\n",
      "624:\tlearn: 15.5362342\ttotal: 1.36s\tremaining: 819ms\n",
      "625:\tlearn: 15.5241051\ttotal: 1.37s\tremaining: 817ms\n",
      "626:\tlearn: 15.5140281\ttotal: 1.37s\tremaining: 815ms\n",
      "627:\tlearn: 15.5045771\ttotal: 1.37s\tremaining: 813ms\n",
      "628:\tlearn: 15.4954323\ttotal: 1.38s\tremaining: 813ms\n",
      "629:\tlearn: 15.4833573\ttotal: 1.38s\tremaining: 811ms\n",
      "630:\tlearn: 15.4751677\ttotal: 1.38s\tremaining: 808ms\n",
      "631:\tlearn: 15.4695286\ttotal: 1.38s\tremaining: 806ms\n",
      "632:\tlearn: 15.4563322\ttotal: 1.39s\tremaining: 804ms\n",
      "633:\tlearn: 15.4471674\ttotal: 1.39s\tremaining: 801ms\n",
      "634:\tlearn: 15.4407178\ttotal: 1.39s\tremaining: 799ms\n",
      "635:\tlearn: 15.4310172\ttotal: 1.39s\tremaining: 797ms\n",
      "636:\tlearn: 15.4181349\ttotal: 1.39s\tremaining: 794ms\n",
      "637:\tlearn: 15.4084947\ttotal: 1.4s\tremaining: 792ms\n",
      "638:\tlearn: 15.3953561\ttotal: 1.4s\tremaining: 790ms\n",
      "639:\tlearn: 15.3865277\ttotal: 1.4s\tremaining: 787ms\n",
      "640:\tlearn: 15.3841027\ttotal: 1.4s\tremaining: 785ms\n",
      "641:\tlearn: 15.3771449\ttotal: 1.4s\tremaining: 782ms\n",
      "642:\tlearn: 15.3666383\ttotal: 1.41s\tremaining: 780ms\n",
      "643:\tlearn: 15.3587966\ttotal: 1.41s\tremaining: 778ms\n",
      "644:\tlearn: 15.3527298\ttotal: 1.41s\tremaining: 775ms\n",
      "645:\tlearn: 15.3445525\ttotal: 1.41s\tremaining: 773ms\n",
      "646:\tlearn: 15.3387637\ttotal: 1.41s\tremaining: 771ms\n",
      "647:\tlearn: 15.3313605\ttotal: 1.41s\tremaining: 768ms\n",
      "648:\tlearn: 15.3270059\ttotal: 1.42s\tremaining: 766ms\n",
      "649:\tlearn: 15.3172116\ttotal: 1.42s\tremaining: 764ms\n",
      "650:\tlearn: 15.3159846\ttotal: 1.42s\tremaining: 761ms\n",
      "651:\tlearn: 15.3069717\ttotal: 1.42s\tremaining: 759ms\n",
      "652:\tlearn: 15.2992429\ttotal: 1.42s\tremaining: 757ms\n",
      "653:\tlearn: 15.2931504\ttotal: 1.43s\tremaining: 754ms\n",
      "654:\tlearn: 15.2878131\ttotal: 1.43s\tremaining: 752ms\n",
      "655:\tlearn: 15.2836198\ttotal: 1.43s\tremaining: 749ms\n",
      "656:\tlearn: 15.2790693\ttotal: 1.43s\tremaining: 747ms\n",
      "657:\tlearn: 15.2787770\ttotal: 1.43s\tremaining: 745ms\n",
      "658:\tlearn: 15.2713281\ttotal: 1.43s\tremaining: 742ms\n",
      "659:\tlearn: 15.2710209\ttotal: 1.44s\tremaining: 740ms\n",
      "660:\tlearn: 15.2644162\ttotal: 1.44s\tremaining: 737ms\n",
      "661:\tlearn: 15.2566491\ttotal: 1.44s\tremaining: 735ms\n",
      "662:\tlearn: 15.2449343\ttotal: 1.44s\tremaining: 733ms\n",
      "663:\tlearn: 15.2377251\ttotal: 1.44s\tremaining: 731ms\n",
      "664:\tlearn: 15.2303642\ttotal: 1.45s\tremaining: 729ms\n",
      "665:\tlearn: 15.2300325\ttotal: 1.45s\tremaining: 727ms\n",
      "666:\tlearn: 15.2252529\ttotal: 1.45s\tremaining: 725ms\n",
      "667:\tlearn: 15.2194226\ttotal: 1.45s\tremaining: 722ms\n",
      "668:\tlearn: 15.2121768\ttotal: 1.46s\tremaining: 720ms\n",
      "669:\tlearn: 15.2066300\ttotal: 1.46s\tremaining: 718ms\n",
      "670:\tlearn: 15.2018639\ttotal: 1.46s\tremaining: 715ms\n",
      "671:\tlearn: 15.1901479\ttotal: 1.46s\tremaining: 713ms\n",
      "672:\tlearn: 15.1895878\ttotal: 1.46s\tremaining: 711ms\n",
      "673:\tlearn: 15.1799230\ttotal: 1.47s\tremaining: 709ms\n",
      "674:\tlearn: 15.1695416\ttotal: 1.47s\tremaining: 706ms\n",
      "675:\tlearn: 15.1609317\ttotal: 1.47s\tremaining: 704ms\n",
      "676:\tlearn: 15.1501807\ttotal: 1.47s\tremaining: 702ms\n",
      "677:\tlearn: 15.1498281\ttotal: 1.47s\tremaining: 700ms\n",
      "678:\tlearn: 15.1416484\ttotal: 1.48s\tremaining: 697ms\n",
      "679:\tlearn: 15.1341731\ttotal: 1.48s\tremaining: 695ms\n",
      "680:\tlearn: 15.1335560\ttotal: 1.48s\tremaining: 693ms\n",
      "681:\tlearn: 15.1332570\ttotal: 1.48s\tremaining: 690ms\n",
      "682:\tlearn: 15.1322320\ttotal: 1.48s\tremaining: 688ms\n",
      "683:\tlearn: 15.1236003\ttotal: 1.48s\tremaining: 686ms\n",
      "684:\tlearn: 15.1149168\ttotal: 1.49s\tremaining: 683ms\n",
      "685:\tlearn: 15.1108911\ttotal: 1.49s\tremaining: 681ms\n",
      "686:\tlearn: 15.1011547\ttotal: 1.49s\tremaining: 679ms\n",
      "687:\tlearn: 15.0932327\ttotal: 1.49s\tremaining: 677ms\n",
      "688:\tlearn: 15.0858059\ttotal: 1.49s\tremaining: 674ms\n",
      "689:\tlearn: 15.0770566\ttotal: 1.5s\tremaining: 672ms\n",
      "690:\tlearn: 15.0686179\ttotal: 1.5s\tremaining: 670ms\n",
      "691:\tlearn: 15.0684727\ttotal: 1.5s\tremaining: 668ms\n",
      "692:\tlearn: 15.0603564\ttotal: 1.5s\tremaining: 665ms\n",
      "693:\tlearn: 15.0560460\ttotal: 1.5s\tremaining: 663ms\n",
      "694:\tlearn: 15.0519630\ttotal: 1.5s\tremaining: 661ms\n",
      "695:\tlearn: 15.0474184\ttotal: 1.51s\tremaining: 659ms\n",
      "696:\tlearn: 15.0435631\ttotal: 1.51s\tremaining: 656ms\n",
      "697:\tlearn: 15.0372849\ttotal: 1.51s\tremaining: 654ms\n",
      "698:\tlearn: 15.0329159\ttotal: 1.51s\tremaining: 652ms\n",
      "699:\tlearn: 15.0259981\ttotal: 1.51s\tremaining: 649ms\n",
      "700:\tlearn: 15.0223649\ttotal: 1.52s\tremaining: 647ms\n",
      "701:\tlearn: 15.0220885\ttotal: 1.52s\tremaining: 645ms\n",
      "702:\tlearn: 15.0176426\ttotal: 1.52s\tremaining: 642ms\n",
      "703:\tlearn: 15.0102060\ttotal: 1.52s\tremaining: 640ms\n",
      "704:\tlearn: 15.0048985\ttotal: 1.52s\tremaining: 638ms\n",
      "705:\tlearn: 14.9987919\ttotal: 1.53s\tremaining: 636ms\n",
      "706:\tlearn: 14.9945087\ttotal: 1.53s\tremaining: 634ms\n",
      "707:\tlearn: 14.9850778\ttotal: 1.53s\tremaining: 632ms\n",
      "708:\tlearn: 14.9777593\ttotal: 1.53s\tremaining: 630ms\n",
      "709:\tlearn: 14.9730000\ttotal: 1.54s\tremaining: 628ms\n",
      "710:\tlearn: 14.9698115\ttotal: 1.54s\tremaining: 625ms\n",
      "711:\tlearn: 14.9646327\ttotal: 1.54s\tremaining: 623ms\n",
      "712:\tlearn: 14.9547964\ttotal: 1.54s\tremaining: 621ms\n",
      "713:\tlearn: 14.9503546\ttotal: 1.54s\tremaining: 619ms\n",
      "714:\tlearn: 14.9399084\ttotal: 1.55s\tremaining: 616ms\n",
      "715:\tlearn: 14.9326709\ttotal: 1.55s\tremaining: 614ms\n",
      "716:\tlearn: 14.9269276\ttotal: 1.55s\tremaining: 612ms\n",
      "717:\tlearn: 14.9190168\ttotal: 1.55s\tremaining: 609ms\n",
      "718:\tlearn: 14.9188072\ttotal: 1.55s\tremaining: 607ms\n",
      "719:\tlearn: 14.9093456\ttotal: 1.55s\tremaining: 605ms\n",
      "720:\tlearn: 14.8977166\ttotal: 1.56s\tremaining: 602ms\n",
      "721:\tlearn: 14.8939681\ttotal: 1.56s\tremaining: 600ms\n",
      "722:\tlearn: 14.8880006\ttotal: 1.56s\tremaining: 598ms\n",
      "723:\tlearn: 14.8859291\ttotal: 1.56s\tremaining: 596ms\n",
      "724:\tlearn: 14.8778001\ttotal: 1.56s\tremaining: 593ms\n",
      "725:\tlearn: 14.8679830\ttotal: 1.57s\tremaining: 591ms\n",
      "726:\tlearn: 14.8619685\ttotal: 1.57s\tremaining: 589ms\n",
      "727:\tlearn: 14.8513951\ttotal: 1.57s\tremaining: 587ms\n",
      "728:\tlearn: 14.8377213\ttotal: 1.57s\tremaining: 585ms\n",
      "729:\tlearn: 14.8306145\ttotal: 1.57s\tremaining: 582ms\n",
      "730:\tlearn: 14.8235274\ttotal: 1.58s\tremaining: 580ms\n",
      "731:\tlearn: 14.8123234\ttotal: 1.58s\tremaining: 578ms\n",
      "732:\tlearn: 14.8089200\ttotal: 1.58s\tremaining: 575ms\n",
      "733:\tlearn: 14.8014671\ttotal: 1.58s\tremaining: 573ms\n",
      "734:\tlearn: 14.7971669\ttotal: 1.58s\tremaining: 571ms\n",
      "735:\tlearn: 14.7896499\ttotal: 1.58s\tremaining: 569ms\n",
      "736:\tlearn: 14.7793753\ttotal: 1.59s\tremaining: 566ms\n",
      "737:\tlearn: 14.7716030\ttotal: 1.59s\tremaining: 564ms\n",
      "738:\tlearn: 14.7639927\ttotal: 1.59s\tremaining: 562ms\n",
      "739:\tlearn: 14.7599547\ttotal: 1.59s\tremaining: 560ms\n",
      "740:\tlearn: 14.7541285\ttotal: 1.59s\tremaining: 558ms\n",
      "741:\tlearn: 14.7467896\ttotal: 1.6s\tremaining: 555ms\n",
      "742:\tlearn: 14.7411451\ttotal: 1.6s\tremaining: 554ms\n",
      "743:\tlearn: 14.7360905\ttotal: 1.6s\tremaining: 551ms\n",
      "744:\tlearn: 14.7319334\ttotal: 1.6s\tremaining: 549ms\n",
      "745:\tlearn: 14.7272932\ttotal: 1.61s\tremaining: 547ms\n",
      "746:\tlearn: 14.7228957\ttotal: 1.61s\tremaining: 545ms\n",
      "747:\tlearn: 14.7169031\ttotal: 1.61s\tremaining: 543ms\n",
      "748:\tlearn: 14.7076370\ttotal: 1.61s\tremaining: 541ms\n",
      "749:\tlearn: 14.7024922\ttotal: 1.62s\tremaining: 539ms\n",
      "750:\tlearn: 14.6972377\ttotal: 1.62s\tremaining: 537ms\n",
      "751:\tlearn: 14.6938946\ttotal: 1.62s\tremaining: 535ms\n",
      "752:\tlearn: 14.6842704\ttotal: 1.63s\tremaining: 533ms\n",
      "753:\tlearn: 14.6759928\ttotal: 1.63s\tremaining: 531ms\n",
      "754:\tlearn: 14.6667731\ttotal: 1.63s\tremaining: 529ms\n",
      "755:\tlearn: 14.6644419\ttotal: 1.63s\tremaining: 528ms\n",
      "756:\tlearn: 14.6632199\ttotal: 1.64s\tremaining: 525ms\n",
      "757:\tlearn: 14.6552978\ttotal: 1.64s\tremaining: 523ms\n",
      "758:\tlearn: 14.6493276\ttotal: 1.64s\tremaining: 522ms\n",
      "759:\tlearn: 14.6452479\ttotal: 1.65s\tremaining: 520ms\n",
      "760:\tlearn: 14.6414479\ttotal: 1.65s\tremaining: 518ms\n",
      "761:\tlearn: 14.6371547\ttotal: 1.65s\tremaining: 516ms\n",
      "762:\tlearn: 14.6317171\ttotal: 1.65s\tremaining: 514ms\n",
      "763:\tlearn: 14.6238850\ttotal: 1.66s\tremaining: 511ms\n",
      "764:\tlearn: 14.6185953\ttotal: 1.66s\tremaining: 509ms\n",
      "765:\tlearn: 14.6099518\ttotal: 1.66s\tremaining: 507ms\n",
      "766:\tlearn: 14.6052254\ttotal: 1.66s\tremaining: 506ms\n",
      "767:\tlearn: 14.6014987\ttotal: 1.67s\tremaining: 504ms\n",
      "768:\tlearn: 14.5969273\ttotal: 1.67s\tremaining: 503ms\n",
      "769:\tlearn: 14.5872304\ttotal: 1.68s\tremaining: 500ms\n",
      "770:\tlearn: 14.5870233\ttotal: 1.68s\tremaining: 498ms\n",
      "771:\tlearn: 14.5783381\ttotal: 1.68s\tremaining: 496ms\n",
      "772:\tlearn: 14.5752405\ttotal: 1.68s\tremaining: 494ms\n",
      "773:\tlearn: 14.5744977\ttotal: 1.68s\tremaining: 491ms\n",
      "774:\tlearn: 14.5660509\ttotal: 1.69s\tremaining: 490ms\n",
      "775:\tlearn: 14.5608473\ttotal: 1.69s\tremaining: 488ms\n",
      "776:\tlearn: 14.5565557\ttotal: 1.69s\tremaining: 486ms\n",
      "777:\tlearn: 14.5516726\ttotal: 1.69s\tremaining: 484ms\n",
      "778:\tlearn: 14.5465376\ttotal: 1.7s\tremaining: 481ms\n",
      "779:\tlearn: 14.5416775\ttotal: 1.7s\tremaining: 479ms\n",
      "780:\tlearn: 14.5378306\ttotal: 1.7s\tremaining: 477ms\n",
      "781:\tlearn: 14.5295747\ttotal: 1.7s\tremaining: 475ms\n",
      "782:\tlearn: 14.5176137\ttotal: 1.7s\tremaining: 472ms\n",
      "783:\tlearn: 14.5096044\ttotal: 1.71s\tremaining: 470ms\n",
      "784:\tlearn: 14.4987489\ttotal: 1.71s\tremaining: 468ms\n",
      "785:\tlearn: 14.4933385\ttotal: 1.71s\tremaining: 466ms\n",
      "786:\tlearn: 14.4829504\ttotal: 1.71s\tremaining: 463ms\n",
      "787:\tlearn: 14.4725822\ttotal: 1.71s\tremaining: 461ms\n",
      "788:\tlearn: 14.4631551\ttotal: 1.72s\tremaining: 459ms\n",
      "789:\tlearn: 14.4566222\ttotal: 1.72s\tremaining: 457ms\n",
      "790:\tlearn: 14.4466867\ttotal: 1.72s\tremaining: 454ms\n",
      "791:\tlearn: 14.4398853\ttotal: 1.72s\tremaining: 452ms\n",
      "792:\tlearn: 14.4356545\ttotal: 1.72s\tremaining: 450ms\n",
      "793:\tlearn: 14.4303723\ttotal: 1.72s\tremaining: 448ms\n",
      "794:\tlearn: 14.4236852\ttotal: 1.73s\tremaining: 445ms\n",
      "795:\tlearn: 14.4183504\ttotal: 1.73s\tremaining: 443ms\n",
      "796:\tlearn: 14.4137996\ttotal: 1.73s\tremaining: 441ms\n",
      "797:\tlearn: 14.4077175\ttotal: 1.73s\tremaining: 438ms\n",
      "798:\tlearn: 14.4019943\ttotal: 1.73s\tremaining: 436ms\n",
      "799:\tlearn: 14.3904264\ttotal: 1.74s\tremaining: 434ms\n",
      "800:\tlearn: 14.3866514\ttotal: 1.74s\tremaining: 432ms\n",
      "801:\tlearn: 14.3813086\ttotal: 1.74s\tremaining: 430ms\n",
      "802:\tlearn: 14.3758563\ttotal: 1.75s\tremaining: 428ms\n",
      "803:\tlearn: 14.3699501\ttotal: 1.75s\tremaining: 426ms\n",
      "804:\tlearn: 14.3619242\ttotal: 1.75s\tremaining: 424ms\n",
      "805:\tlearn: 14.3573714\ttotal: 1.75s\tremaining: 421ms\n",
      "806:\tlearn: 14.3519260\ttotal: 1.75s\tremaining: 419ms\n",
      "807:\tlearn: 14.3486814\ttotal: 1.75s\tremaining: 417ms\n",
      "808:\tlearn: 14.3440970\ttotal: 1.76s\tremaining: 415ms\n",
      "809:\tlearn: 14.3356105\ttotal: 1.76s\tremaining: 412ms\n",
      "810:\tlearn: 14.3240623\ttotal: 1.76s\tremaining: 410ms\n",
      "811:\tlearn: 14.3198523\ttotal: 1.76s\tremaining: 408ms\n",
      "812:\tlearn: 14.3146222\ttotal: 1.76s\tremaining: 406ms\n",
      "813:\tlearn: 14.3090310\ttotal: 1.76s\tremaining: 403ms\n",
      "814:\tlearn: 14.3026897\ttotal: 1.77s\tremaining: 401ms\n",
      "815:\tlearn: 14.2993412\ttotal: 1.77s\tremaining: 399ms\n",
      "816:\tlearn: 14.2926709\ttotal: 1.77s\tremaining: 397ms\n",
      "817:\tlearn: 14.2859867\ttotal: 1.77s\tremaining: 395ms\n",
      "818:\tlearn: 14.2782412\ttotal: 1.77s\tremaining: 392ms\n",
      "819:\tlearn: 14.2711134\ttotal: 1.78s\tremaining: 390ms\n",
      "820:\tlearn: 14.2664241\ttotal: 1.78s\tremaining: 388ms\n",
      "821:\tlearn: 14.2606627\ttotal: 1.78s\tremaining: 386ms\n",
      "822:\tlearn: 14.2519069\ttotal: 1.78s\tremaining: 384ms\n",
      "823:\tlearn: 14.2429064\ttotal: 1.78s\tremaining: 381ms\n",
      "824:\tlearn: 14.2356890\ttotal: 1.79s\tremaining: 379ms\n",
      "825:\tlearn: 14.2280232\ttotal: 1.79s\tremaining: 377ms\n",
      "826:\tlearn: 14.2228672\ttotal: 1.79s\tremaining: 375ms\n",
      "827:\tlearn: 14.2149360\ttotal: 1.79s\tremaining: 373ms\n",
      "828:\tlearn: 14.2106994\ttotal: 1.79s\tremaining: 370ms\n",
      "829:\tlearn: 14.2035851\ttotal: 1.8s\tremaining: 368ms\n",
      "830:\tlearn: 14.1977707\ttotal: 1.8s\tremaining: 366ms\n",
      "831:\tlearn: 14.1908346\ttotal: 1.8s\tremaining: 364ms\n",
      "832:\tlearn: 14.1852737\ttotal: 1.8s\tremaining: 362ms\n",
      "833:\tlearn: 14.1838828\ttotal: 1.81s\tremaining: 360ms\n",
      "834:\tlearn: 14.1772251\ttotal: 1.81s\tremaining: 357ms\n",
      "835:\tlearn: 14.1703781\ttotal: 1.81s\tremaining: 355ms\n",
      "836:\tlearn: 14.1629961\ttotal: 1.81s\tremaining: 353ms\n",
      "837:\tlearn: 14.1599742\ttotal: 1.81s\tremaining: 351ms\n",
      "838:\tlearn: 14.1537783\ttotal: 1.82s\tremaining: 349ms\n",
      "839:\tlearn: 14.1488887\ttotal: 1.82s\tremaining: 347ms\n",
      "840:\tlearn: 14.1463057\ttotal: 1.82s\tremaining: 345ms\n",
      "841:\tlearn: 14.1413830\ttotal: 1.82s\tremaining: 342ms\n",
      "842:\tlearn: 14.1277546\ttotal: 1.83s\tremaining: 340ms\n",
      "843:\tlearn: 14.1195491\ttotal: 1.83s\tremaining: 338ms\n",
      "844:\tlearn: 14.1102495\ttotal: 1.83s\tremaining: 336ms\n",
      "845:\tlearn: 14.1030948\ttotal: 1.83s\tremaining: 334ms\n",
      "846:\tlearn: 14.0944866\ttotal: 1.84s\tremaining: 332ms\n",
      "847:\tlearn: 14.0898716\ttotal: 1.84s\tremaining: 330ms\n",
      "848:\tlearn: 14.0854234\ttotal: 1.84s\tremaining: 327ms\n",
      "849:\tlearn: 14.0769075\ttotal: 1.84s\tremaining: 325ms\n",
      "850:\tlearn: 14.0759166\ttotal: 1.84s\tremaining: 323ms\n",
      "851:\tlearn: 14.0721484\ttotal: 1.85s\tremaining: 321ms\n",
      "852:\tlearn: 14.0681494\ttotal: 1.85s\tremaining: 319ms\n",
      "853:\tlearn: 14.0635924\ttotal: 1.85s\tremaining: 317ms\n",
      "854:\tlearn: 14.0592820\ttotal: 1.85s\tremaining: 314ms\n",
      "855:\tlearn: 14.0543709\ttotal: 1.85s\tremaining: 312ms\n",
      "856:\tlearn: 14.0538967\ttotal: 1.86s\tremaining: 310ms\n",
      "857:\tlearn: 14.0491044\ttotal: 1.86s\tremaining: 308ms\n",
      "858:\tlearn: 14.0432158\ttotal: 1.86s\tremaining: 306ms\n",
      "859:\tlearn: 14.0348259\ttotal: 1.86s\tremaining: 303ms\n",
      "860:\tlearn: 14.0289911\ttotal: 1.86s\tremaining: 301ms\n",
      "861:\tlearn: 14.0246139\ttotal: 1.87s\tremaining: 299ms\n",
      "862:\tlearn: 14.0202419\ttotal: 1.87s\tremaining: 297ms\n",
      "863:\tlearn: 14.0143717\ttotal: 1.87s\tremaining: 295ms\n",
      "864:\tlearn: 14.0069463\ttotal: 1.87s\tremaining: 292ms\n",
      "865:\tlearn: 14.0018157\ttotal: 1.88s\tremaining: 290ms\n",
      "866:\tlearn: 13.9975015\ttotal: 1.88s\tremaining: 288ms\n",
      "867:\tlearn: 13.9899675\ttotal: 1.88s\tremaining: 286ms\n",
      "868:\tlearn: 13.9788119\ttotal: 1.88s\tremaining: 284ms\n",
      "869:\tlearn: 13.9742071\ttotal: 1.88s\tremaining: 282ms\n",
      "870:\tlearn: 13.9699444\ttotal: 1.89s\tremaining: 279ms\n",
      "871:\tlearn: 13.9649777\ttotal: 1.89s\tremaining: 277ms\n",
      "872:\tlearn: 13.9605488\ttotal: 1.89s\tremaining: 275ms\n",
      "873:\tlearn: 13.9538364\ttotal: 1.89s\tremaining: 273ms\n",
      "874:\tlearn: 13.9476178\ttotal: 1.89s\tremaining: 271ms\n",
      "875:\tlearn: 13.9431710\ttotal: 1.9s\tremaining: 268ms\n",
      "876:\tlearn: 13.9394433\ttotal: 1.9s\tremaining: 266ms\n",
      "877:\tlearn: 13.9312249\ttotal: 1.9s\tremaining: 264ms\n",
      "878:\tlearn: 13.9237092\ttotal: 1.9s\tremaining: 262ms\n",
      "879:\tlearn: 13.9152662\ttotal: 1.91s\tremaining: 260ms\n",
      "880:\tlearn: 13.9111622\ttotal: 1.91s\tremaining: 258ms\n",
      "881:\tlearn: 13.9080701\ttotal: 1.91s\tremaining: 256ms\n",
      "882:\tlearn: 13.9026815\ttotal: 1.91s\tremaining: 253ms\n",
      "883:\tlearn: 13.8944428\ttotal: 1.91s\tremaining: 251ms\n",
      "884:\tlearn: 13.8892942\ttotal: 1.92s\tremaining: 249ms\n",
      "885:\tlearn: 13.8845437\ttotal: 1.92s\tremaining: 247ms\n",
      "886:\tlearn: 13.8806241\ttotal: 1.92s\tremaining: 245ms\n",
      "887:\tlearn: 13.8733571\ttotal: 1.92s\tremaining: 242ms\n",
      "888:\tlearn: 13.8717216\ttotal: 1.93s\tremaining: 240ms\n",
      "889:\tlearn: 13.8650546\ttotal: 1.93s\tremaining: 238ms\n",
      "890:\tlearn: 13.8602755\ttotal: 1.93s\tremaining: 236ms\n",
      "891:\tlearn: 13.8569799\ttotal: 1.93s\tremaining: 234ms\n",
      "892:\tlearn: 13.8532598\ttotal: 1.93s\tremaining: 232ms\n",
      "893:\tlearn: 13.8484223\ttotal: 1.94s\tremaining: 230ms\n",
      "894:\tlearn: 13.8445688\ttotal: 1.94s\tremaining: 227ms\n",
      "895:\tlearn: 13.8370432\ttotal: 1.94s\tremaining: 225ms\n",
      "896:\tlearn: 13.8340257\ttotal: 1.94s\tremaining: 223ms\n",
      "897:\tlearn: 13.8315426\ttotal: 1.94s\tremaining: 221ms\n",
      "898:\tlearn: 13.8240457\ttotal: 1.95s\tremaining: 219ms\n",
      "899:\tlearn: 13.8201892\ttotal: 1.95s\tremaining: 217ms\n",
      "900:\tlearn: 13.8137941\ttotal: 1.95s\tremaining: 214ms\n",
      "901:\tlearn: 13.8025162\ttotal: 1.95s\tremaining: 212ms\n",
      "902:\tlearn: 13.8005311\ttotal: 1.96s\tremaining: 210ms\n",
      "903:\tlearn: 13.7962225\ttotal: 1.96s\tremaining: 208ms\n",
      "904:\tlearn: 13.7924007\ttotal: 1.96s\tremaining: 206ms\n",
      "905:\tlearn: 13.7854806\ttotal: 1.96s\tremaining: 204ms\n",
      "906:\tlearn: 13.7852443\ttotal: 1.96s\tremaining: 201ms\n",
      "907:\tlearn: 13.7813447\ttotal: 1.97s\tremaining: 199ms\n",
      "908:\tlearn: 13.7783459\ttotal: 1.97s\tremaining: 197ms\n",
      "909:\tlearn: 13.7726508\ttotal: 1.97s\tremaining: 195ms\n",
      "910:\tlearn: 13.7701136\ttotal: 1.97s\tremaining: 193ms\n",
      "911:\tlearn: 13.7644714\ttotal: 1.97s\tremaining: 191ms\n",
      "912:\tlearn: 13.7599690\ttotal: 1.98s\tremaining: 188ms\n",
      "913:\tlearn: 13.7513566\ttotal: 1.98s\tremaining: 186ms\n",
      "914:\tlearn: 13.7442921\ttotal: 1.98s\tremaining: 184ms\n",
      "915:\tlearn: 13.7356902\ttotal: 1.98s\tremaining: 182ms\n",
      "916:\tlearn: 13.7291018\ttotal: 1.99s\tremaining: 180ms\n",
      "917:\tlearn: 13.7257797\ttotal: 1.99s\tremaining: 178ms\n",
      "918:\tlearn: 13.7256874\ttotal: 1.99s\tremaining: 175ms\n",
      "919:\tlearn: 13.7216029\ttotal: 1.99s\tremaining: 173ms\n",
      "920:\tlearn: 13.7171864\ttotal: 1.99s\tremaining: 171ms\n",
      "921:\tlearn: 13.7159824\ttotal: 2s\tremaining: 169ms\n",
      "922:\tlearn: 13.7155876\ttotal: 2s\tremaining: 167ms\n",
      "923:\tlearn: 13.7078238\ttotal: 2s\tremaining: 164ms\n",
      "924:\tlearn: 13.7015203\ttotal: 2s\tremaining: 162ms\n",
      "925:\tlearn: 13.6920600\ttotal: 2s\tremaining: 160ms\n",
      "926:\tlearn: 13.6863222\ttotal: 2s\tremaining: 158ms\n",
      "927:\tlearn: 13.6857379\ttotal: 2.01s\tremaining: 156ms\n",
      "928:\tlearn: 13.6795648\ttotal: 2.01s\tremaining: 154ms\n",
      "929:\tlearn: 13.6765517\ttotal: 2.01s\tremaining: 151ms\n",
      "930:\tlearn: 13.6704471\ttotal: 2.01s\tremaining: 149ms\n",
      "931:\tlearn: 13.6673458\ttotal: 2.01s\tremaining: 147ms\n",
      "932:\tlearn: 13.6657449\ttotal: 2.02s\tremaining: 145ms\n",
      "933:\tlearn: 13.6582375\ttotal: 2.02s\tremaining: 143ms\n",
      "934:\tlearn: 13.6535383\ttotal: 2.02s\tremaining: 140ms\n",
      "935:\tlearn: 13.6483230\ttotal: 2.02s\tremaining: 138ms\n",
      "936:\tlearn: 13.6433297\ttotal: 2.02s\tremaining: 136ms\n",
      "937:\tlearn: 13.6395986\ttotal: 2.03s\tremaining: 134ms\n",
      "938:\tlearn: 13.6340493\ttotal: 2.03s\tremaining: 132ms\n",
      "939:\tlearn: 13.6339315\ttotal: 2.03s\tremaining: 130ms\n",
      "940:\tlearn: 13.6293687\ttotal: 2.03s\tremaining: 127ms\n",
      "941:\tlearn: 13.6231717\ttotal: 2.03s\tremaining: 125ms\n",
      "942:\tlearn: 13.6173089\ttotal: 2.04s\tremaining: 123ms\n",
      "943:\tlearn: 13.6103850\ttotal: 2.04s\tremaining: 121ms\n",
      "944:\tlearn: 13.6033786\ttotal: 2.04s\tremaining: 119ms\n",
      "945:\tlearn: 13.5948641\ttotal: 2.04s\tremaining: 117ms\n",
      "946:\tlearn: 13.5916179\ttotal: 2.04s\tremaining: 114ms\n",
      "947:\tlearn: 13.5845400\ttotal: 2.04s\tremaining: 112ms\n",
      "948:\tlearn: 13.5771172\ttotal: 2.05s\tremaining: 110ms\n",
      "949:\tlearn: 13.5708231\ttotal: 2.05s\tremaining: 108ms\n",
      "950:\tlearn: 13.5706961\ttotal: 2.05s\tremaining: 106ms\n",
      "951:\tlearn: 13.5676349\ttotal: 2.06s\tremaining: 104ms\n",
      "952:\tlearn: 13.5629521\ttotal: 2.06s\tremaining: 101ms\n",
      "953:\tlearn: 13.5592945\ttotal: 2.06s\tremaining: 99.4ms\n",
      "954:\tlearn: 13.5590259\ttotal: 2.06s\tremaining: 97.2ms\n",
      "955:\tlearn: 13.5540725\ttotal: 2.06s\tremaining: 95ms\n",
      "956:\tlearn: 13.5471062\ttotal: 2.07s\tremaining: 92.9ms\n",
      "957:\tlearn: 13.5423187\ttotal: 2.07s\tremaining: 90.7ms\n",
      "958:\tlearn: 13.5365721\ttotal: 2.07s\tremaining: 88.5ms\n",
      "959:\tlearn: 13.5306962\ttotal: 2.07s\tremaining: 86.4ms\n",
      "960:\tlearn: 13.5223558\ttotal: 2.07s\tremaining: 84.2ms\n",
      "961:\tlearn: 13.5177739\ttotal: 2.08s\tremaining: 82ms\n",
      "962:\tlearn: 13.5105068\ttotal: 2.08s\tremaining: 79.9ms\n",
      "963:\tlearn: 13.5056790\ttotal: 2.08s\tremaining: 77.7ms\n",
      "964:\tlearn: 13.5002404\ttotal: 2.08s\tremaining: 75.5ms\n",
      "965:\tlearn: 13.4918865\ttotal: 2.08s\tremaining: 73.4ms\n",
      "966:\tlearn: 13.4875239\ttotal: 2.09s\tremaining: 71.2ms\n",
      "967:\tlearn: 13.4824779\ttotal: 2.09s\tremaining: 69.1ms\n",
      "968:\tlearn: 13.4785235\ttotal: 2.09s\tremaining: 66.9ms\n",
      "969:\tlearn: 13.4739545\ttotal: 2.09s\tremaining: 64.7ms\n",
      "970:\tlearn: 13.4657827\ttotal: 2.1s\tremaining: 62.6ms\n",
      "971:\tlearn: 13.4647331\ttotal: 2.1s\tremaining: 60.4ms\n",
      "972:\tlearn: 13.4645883\ttotal: 2.1s\tremaining: 58.2ms\n",
      "973:\tlearn: 13.4591955\ttotal: 2.1s\tremaining: 56.1ms\n",
      "974:\tlearn: 13.4551204\ttotal: 2.1s\tremaining: 53.9ms\n",
      "975:\tlearn: 13.4495270\ttotal: 2.1s\tremaining: 51.8ms\n",
      "976:\tlearn: 13.4410884\ttotal: 2.11s\tremaining: 49.6ms\n",
      "977:\tlearn: 13.4307334\ttotal: 2.11s\tremaining: 47.4ms\n",
      "978:\tlearn: 13.4288051\ttotal: 2.11s\tremaining: 45.3ms\n",
      "979:\tlearn: 13.4244302\ttotal: 2.11s\tremaining: 43.1ms\n",
      "980:\tlearn: 13.4212443\ttotal: 2.12s\tremaining: 41ms\n",
      "981:\tlearn: 13.4200607\ttotal: 2.12s\tremaining: 38.8ms\n",
      "982:\tlearn: 13.4166631\ttotal: 2.12s\tremaining: 36.6ms\n",
      "983:\tlearn: 13.4124046\ttotal: 2.12s\tremaining: 34.5ms\n",
      "984:\tlearn: 13.4058096\ttotal: 2.12s\tremaining: 32.3ms\n",
      "985:\tlearn: 13.4029674\ttotal: 2.12s\tremaining: 30.2ms\n",
      "986:\tlearn: 13.3955645\ttotal: 2.13s\tremaining: 28ms\n",
      "987:\tlearn: 13.3924466\ttotal: 2.13s\tremaining: 25.9ms\n",
      "988:\tlearn: 13.3839452\ttotal: 2.13s\tremaining: 23.7ms\n",
      "989:\tlearn: 13.3793783\ttotal: 2.13s\tremaining: 21.6ms\n",
      "990:\tlearn: 13.3760121\ttotal: 2.14s\tremaining: 19.4ms\n",
      "991:\tlearn: 13.3724240\ttotal: 2.14s\tremaining: 17.3ms\n",
      "992:\tlearn: 13.3650741\ttotal: 2.14s\tremaining: 15.1ms\n",
      "993:\tlearn: 13.3599859\ttotal: 2.15s\tremaining: 13ms\n",
      "994:\tlearn: 13.3546123\ttotal: 2.15s\tremaining: 10.8ms\n",
      "995:\tlearn: 13.3494354\ttotal: 2.15s\tremaining: 8.64ms\n",
      "996:\tlearn: 13.3390888\ttotal: 2.15s\tremaining: 6.48ms\n",
      "997:\tlearn: 13.3296893\ttotal: 2.15s\tremaining: 4.32ms\n",
      "998:\tlearn: 13.3260434\ttotal: 2.16s\tremaining: 2.16ms\n",
      "999:\tlearn: 13.3167621\ttotal: 2.16s\tremaining: 0us\n"
     ]
    },
    {
     "data": {
      "text/plain": [
       "<catboost.core.CatBoostRegressor at 0x7f6eb1448910>"
      ]
     },
     "execution_count": 45,
     "metadata": {},
     "output_type": "execute_result"
    }
   ],
   "source": [
    "model.fit(features_train, target_train)"
   ]
  },
  {
   "cell_type": "code",
   "execution_count": 46,
   "id": "f837d91f",
   "metadata": {
    "scrolled": true
   },
   "outputs": [
    {
     "data": {
      "text/plain": [
       "43.65704453177096"
      ]
     },
     "execution_count": 46,
     "metadata": {},
     "output_type": "execute_result"
    }
   ],
   "source": [
    "predictions = model.predict(features_test)\n",
    "rmse = mean_squared_error(target_test, predictions, squared=False)\n",
    "rmse"
   ]
  },
  {
   "cell_type": "code",
   "execution_count": 47,
   "id": "3e23bdf3",
   "metadata": {},
   "outputs": [
    {
     "data": {
      "image/png": "[encoded data removed]",
      "text/plain": [
       "<Figure size 1080x576 with 1 Axes>"
      ]
     },
     "metadata": {},
     "output_type": "display_data"
    }
   ],
   "source": [
    "plt.figure(figsize = (15,8))\n",
    "plt.plot(target_test.index, \n",
    "         target_test, \n",
    "         'b-', \n",
    "         target_test.index, \n",
    "         predictions,\n",
    "         'r-')\n",
    "plt.show()"
   ]
  },
  {
   "cell_type": "markdown",
   "id": "ca649b0e",
   "metadata": {},
   "source": [
    "## Общий вывод"
   ]
  },
  {
   "cell_type": "markdown",
   "id": "ffc3bf75",
   "metadata": {},
   "source": [
    "**По результатам исследований моделей для поставленной задачи наиболее оптимальными являются модели:**  \n",
    "\n",
    "- `CatBoostRegressor`\n",
    "- `LGBMRegressor`\n",
    "\n",
    "**`CatBoostRegressor` показывает хорошие показатели метрик и скорости обучения и предсказания. Значение `RMSE` на тестовой выборке не больше `48`.**"
   ]
  },
  {
   "cell_type": "markdown",
   "id": "8b127501",
   "metadata": {},
   "source": [
    "## Чек-лист проверки"
   ]
  },
  {
   "cell_type": "markdown",
   "id": "6cdbf7ad",
   "metadata": {},
   "source": [
    "Поставьте 'x' в выполненных пунктах. Далее нажмите Shift+Enter."
   ]
  },
  {
   "cell_type": "markdown",
   "id": "6c47d8c4",
   "metadata": {},
   "source": [
    "- [x]  Jupyter Notebook открыт\n",
    "- [x]  Весь код выполняется без ошибок\n",
    "- [x]  Ячейки с кодом расположены в порядке исполнения\n",
    "- [x]  Данные загружены и подготовлены\n",
    "- [x]  Данные проанализированы\n",
    "- [x]  Модель обучена, гиперпараметры подобраны\n",
    "- [x]  Качество моделей проверено, выводы сделаны\n",
    "- [x]  Значение *RMSE* на тестовой выборке не больше 48"
   ]
  }
 ],
 "metadata": {
  "ExecuteTimeLog": [
   {
    "duration": 1688,
    "start_time": "2023-03-26T12:35:19.658Z"
   },
   {
    "duration": 3174,
    "start_time": "2023-03-26T12:35:21.348Z"
   },
   {
    "duration": 97,
    "start_time": "2023-03-26T12:35:24.524Z"
   },
   {
    "duration": 5,
    "start_time": "2023-03-26T12:35:24.623Z"
   },
   {
    "duration": 15,
    "start_time": "2023-03-26T12:35:24.630Z"
   },
   {
    "duration": 4,
    "start_time": "2023-03-26T12:35:24.647Z"
   },
   {
    "duration": 35,
    "start_time": "2023-03-26T12:35:24.653Z"
   },
   {
    "duration": 13,
    "start_time": "2023-03-26T12:35:24.690Z"
   },
   {
    "duration": 83,
    "start_time": "2023-03-26T12:35:24.705Z"
   },
   {
    "duration": 14,
    "start_time": "2023-03-26T12:35:24.792Z"
   },
   {
    "duration": 35,
    "start_time": "2023-03-26T12:35:24.808Z"
   },
   {
    "duration": 9,
    "start_time": "2023-03-26T12:35:24.846Z"
   },
   {
    "duration": 22,
    "start_time": "2023-03-26T12:35:24.857Z"
   },
   {
    "duration": 10,
    "start_time": "2023-03-26T12:35:24.881Z"
   },
   {
    "duration": 20,
    "start_time": "2023-03-26T12:35:24.893Z"
   },
   {
    "duration": 460,
    "start_time": "2023-03-26T12:35:24.915Z"
   },
   {
    "duration": 1114,
    "start_time": "2023-03-26T12:35:25.378Z"
   },
   {
    "duration": 306,
    "start_time": "2023-03-26T12:35:26.494Z"
   },
   {
    "duration": 5,
    "start_time": "2023-03-26T12:35:26.802Z"
   },
   {
    "duration": 32,
    "start_time": "2023-03-26T12:35:26.809Z"
   },
   {
    "duration": 5,
    "start_time": "2023-03-26T12:35:26.844Z"
   },
   {
    "duration": 18,
    "start_time": "2023-03-26T12:35:26.850Z"
   },
   {
    "duration": 27,
    "start_time": "2023-03-26T12:35:26.871Z"
   },
   {
    "duration": 21,
    "start_time": "2023-03-26T12:35:26.900Z"
   },
   {
    "duration": 9,
    "start_time": "2023-03-26T12:35:26.926Z"
   },
   {
    "duration": 11,
    "start_time": "2023-03-26T12:35:26.937Z"
   },
   {
    "duration": 19,
    "start_time": "2023-03-26T12:35:26.950Z"
   },
   {
    "duration": 173,
    "start_time": "2023-03-26T12:35:26.974Z"
   },
   {
    "duration": 7,
    "start_time": "2023-03-26T12:35:27.149Z"
   },
   {
    "duration": 11,
    "start_time": "2023-03-26T12:35:27.159Z"
   },
   {
    "duration": 8,
    "start_time": "2023-03-26T12:35:27.172Z"
   },
   {
    "duration": 18,
    "start_time": "2023-03-26T12:35:27.182Z"
   },
   {
    "duration": 144,
    "start_time": "2023-03-26T12:35:27.203Z"
   },
   {
    "duration": 8,
    "start_time": "2023-03-26T12:35:27.350Z"
   },
   {
    "duration": 13,
    "start_time": "2023-03-26T12:35:27.360Z"
   },
   {
    "duration": 31,
    "start_time": "2023-03-26T12:35:27.375Z"
   },
   {
    "duration": 3616,
    "start_time": "2023-03-26T12:35:27.408Z"
   },
   {
    "duration": 5,
    "start_time": "2023-03-26T12:35:31.026Z"
   },
   {
    "duration": 42,
    "start_time": "2023-03-26T12:35:31.034Z"
   },
   {
    "duration": 36,
    "start_time": "2023-03-26T12:35:31.078Z"
   },
   {
    "duration": 3929,
    "start_time": "2023-03-26T12:35:31.116Z"
   },
   {
    "duration": 6,
    "start_time": "2023-03-26T12:35:35.047Z"
   },
   {
    "duration": 16,
    "start_time": "2023-03-26T12:35:35.054Z"
   },
   {
    "duration": 28,
    "start_time": "2023-03-26T12:35:35.073Z"
   },
   {
    "duration": 25,
    "start_time": "2023-03-26T12:35:35.103Z"
   },
   {
    "duration": 11,
    "start_time": "2023-03-26T12:35:35.131Z"
   },
   {
    "duration": 9,
    "start_time": "2023-03-26T12:35:35.144Z"
   },
   {
    "duration": 243,
    "start_time": "2023-03-26T12:35:35.155Z"
   },
   {
    "duration": 6,
    "start_time": "2023-03-26T12:36:16.489Z"
   },
   {
    "duration": 16,
    "start_time": "2023-03-26T12:36:22.211Z"
   },
   {
    "duration": 284,
    "start_time": "2023-03-26T12:36:24.031Z"
   },
   {
    "duration": 5,
    "start_time": "2023-03-26T12:37:02.843Z"
   },
   {
    "duration": 2612,
    "start_time": "2023-03-26T14:37:16.515Z"
   },
   {
    "duration": 4368,
    "start_time": "2023-03-26T14:37:19.137Z"
   },
   {
    "duration": 143,
    "start_time": "2023-03-26T14:37:23.507Z"
   },
   {
    "duration": 4,
    "start_time": "2023-03-26T14:37:23.653Z"
   },
   {
    "duration": 17,
    "start_time": "2023-03-26T14:37:23.660Z"
   },
   {
    "duration": 48,
    "start_time": "2023-03-26T14:37:23.679Z"
   },
   {
    "duration": 34,
    "start_time": "2023-03-26T14:37:23.729Z"
   },
   {
    "duration": 15,
    "start_time": "2023-03-26T14:37:23.764Z"
   },
   {
    "duration": 100,
    "start_time": "2023-03-26T14:37:23.781Z"
   },
   {
    "duration": 17,
    "start_time": "2023-03-26T14:37:23.882Z"
   },
   {
    "duration": 47,
    "start_time": "2023-03-26T14:37:23.901Z"
   },
   {
    "duration": 13,
    "start_time": "2023-03-26T14:37:23.950Z"
   },
   {
    "duration": 11,
    "start_time": "2023-03-26T14:37:23.966Z"
   },
   {
    "duration": 10,
    "start_time": "2023-03-26T14:37:23.982Z"
   },
   {
    "duration": 53,
    "start_time": "2023-03-26T14:37:23.996Z"
   },
   {
    "duration": 467,
    "start_time": "2023-03-26T14:37:24.051Z"
   },
   {
    "duration": 1109,
    "start_time": "2023-03-26T14:37:24.525Z"
   },
   {
    "duration": 312,
    "start_time": "2023-03-26T14:37:25.636Z"
   },
   {
    "duration": 5,
    "start_time": "2023-03-26T14:37:25.951Z"
   },
   {
    "duration": 37,
    "start_time": "2023-03-26T14:37:25.957Z"
   },
   {
    "duration": 4,
    "start_time": "2023-03-26T14:37:25.995Z"
   },
   {
    "duration": 33,
    "start_time": "2023-03-26T14:37:26.001Z"
   },
   {
    "duration": 13,
    "start_time": "2023-03-26T14:37:26.036Z"
   },
   {
    "duration": 13,
    "start_time": "2023-03-26T14:37:26.051Z"
   },
   {
    "duration": 6,
    "start_time": "2023-03-26T14:37:26.066Z"
   },
   {
    "duration": 9,
    "start_time": "2023-03-26T14:37:26.075Z"
   },
   {
    "duration": 43,
    "start_time": "2023-03-26T14:37:26.087Z"
   },
   {
    "duration": 15,
    "start_time": "2023-03-26T14:37:26.132Z"
   },
   {
    "duration": 181,
    "start_time": "2023-03-26T14:37:26.149Z"
   },
   {
    "duration": 9,
    "start_time": "2023-03-26T14:37:26.332Z"
   },
   {
    "duration": 10,
    "start_time": "2023-03-26T14:37:26.343Z"
   },
   {
    "duration": 9,
    "start_time": "2023-03-26T14:37:26.355Z"
   },
   {
    "duration": 8,
    "start_time": "2023-03-26T14:37:26.367Z"
   },
   {
    "duration": 51,
    "start_time": "2023-03-26T14:37:26.377Z"
   },
   {
    "duration": 336,
    "start_time": "2023-03-26T14:37:26.430Z"
   },
   {
    "duration": 19,
    "start_time": "2023-03-26T14:37:26.769Z"
   },
   {
    "duration": 0,
    "start_time": "2023-03-26T14:37:26.798Z"
   },
   {
    "duration": 0,
    "start_time": "2023-03-26T14:37:26.799Z"
   },
   {
    "duration": 0,
    "start_time": "2023-03-26T14:37:26.800Z"
   },
   {
    "duration": 0,
    "start_time": "2023-03-26T14:37:26.800Z"
   },
   {
    "duration": 0,
    "start_time": "2023-03-26T14:37:26.801Z"
   },
   {
    "duration": 0,
    "start_time": "2023-03-26T14:37:26.806Z"
   },
   {
    "duration": 0,
    "start_time": "2023-03-26T14:37:26.812Z"
   },
   {
    "duration": 0,
    "start_time": "2023-03-26T14:37:26.814Z"
   },
   {
    "duration": 0,
    "start_time": "2023-03-26T14:37:26.816Z"
   },
   {
    "duration": 0,
    "start_time": "2023-03-26T14:37:26.820Z"
   },
   {
    "duration": 0,
    "start_time": "2023-03-26T14:37:26.822Z"
   },
   {
    "duration": 0,
    "start_time": "2023-03-26T14:37:26.824Z"
   },
   {
    "duration": 1389,
    "start_time": "2023-03-26T14:37:40.550Z"
   },
   {
    "duration": 3205,
    "start_time": "2023-03-26T14:37:41.942Z"
   },
   {
    "duration": 55,
    "start_time": "2023-03-26T14:37:45.150Z"
   },
   {
    "duration": 5,
    "start_time": "2023-03-26T14:37:45.207Z"
   },
   {
    "duration": 17,
    "start_time": "2023-03-26T14:37:45.215Z"
   },
   {
    "duration": 10,
    "start_time": "2023-03-26T14:37:45.234Z"
   },
   {
    "duration": 53,
    "start_time": "2023-03-26T14:37:45.246Z"
   },
   {
    "duration": 20,
    "start_time": "2023-03-26T14:37:45.308Z"
   },
   {
    "duration": 86,
    "start_time": "2023-03-26T14:37:45.331Z"
   },
   {
    "duration": 19,
    "start_time": "2023-03-26T14:37:45.421Z"
   },
   {
    "duration": 19,
    "start_time": "2023-03-26T14:37:45.443Z"
   },
   {
    "duration": 63,
    "start_time": "2023-03-26T14:37:45.464Z"
   },
   {
    "duration": 19,
    "start_time": "2023-03-26T14:37:45.529Z"
   },
   {
    "duration": 16,
    "start_time": "2023-03-26T14:37:45.553Z"
   },
   {
    "duration": 38,
    "start_time": "2023-03-26T14:37:45.571Z"
   },
   {
    "duration": 573,
    "start_time": "2023-03-26T14:37:45.610Z"
   },
   {
    "duration": 1135,
    "start_time": "2023-03-26T14:37:46.186Z"
   },
   {
    "duration": 331,
    "start_time": "2023-03-26T14:37:47.328Z"
   },
   {
    "duration": 5,
    "start_time": "2023-03-26T14:37:47.661Z"
   },
   {
    "duration": 38,
    "start_time": "2023-03-26T14:37:47.668Z"
   },
   {
    "duration": 8,
    "start_time": "2023-03-26T14:37:47.708Z"
   },
   {
    "duration": 13,
    "start_time": "2023-03-26T14:37:47.724Z"
   },
   {
    "duration": 16,
    "start_time": "2023-03-26T14:37:47.740Z"
   },
   {
    "duration": 6,
    "start_time": "2023-03-26T14:37:47.759Z"
   },
   {
    "duration": 6,
    "start_time": "2023-03-26T14:37:47.769Z"
   },
   {
    "duration": 46,
    "start_time": "2023-03-26T14:37:47.778Z"
   },
   {
    "duration": 15,
    "start_time": "2023-03-26T14:37:47.826Z"
   },
   {
    "duration": 6,
    "start_time": "2023-03-26T14:37:47.843Z"
   },
   {
    "duration": 163,
    "start_time": "2023-03-26T14:37:47.851Z"
   },
   {
    "duration": 11,
    "start_time": "2023-03-26T14:37:48.022Z"
   },
   {
    "duration": 16,
    "start_time": "2023-03-26T14:37:48.035Z"
   },
   {
    "duration": 27,
    "start_time": "2023-03-26T14:37:48.053Z"
   },
   {
    "duration": 22,
    "start_time": "2023-03-26T14:37:48.082Z"
   },
   {
    "duration": 7,
    "start_time": "2023-03-26T14:37:48.106Z"
   },
   {
    "duration": 308,
    "start_time": "2023-03-26T14:37:48.115Z"
   },
   {
    "duration": 21,
    "start_time": "2023-03-26T14:37:48.425Z"
   },
   {
    "duration": 0,
    "start_time": "2023-03-26T14:37:48.449Z"
   },
   {
    "duration": 0,
    "start_time": "2023-03-26T14:37:48.450Z"
   },
   {
    "duration": 0,
    "start_time": "2023-03-26T14:37:48.452Z"
   },
   {
    "duration": 0,
    "start_time": "2023-03-26T14:37:48.454Z"
   },
   {
    "duration": 0,
    "start_time": "2023-03-26T14:37:48.456Z"
   },
   {
    "duration": 0,
    "start_time": "2023-03-26T14:37:48.459Z"
   },
   {
    "duration": 0,
    "start_time": "2023-03-26T14:37:48.460Z"
   },
   {
    "duration": 0,
    "start_time": "2023-03-26T14:37:48.462Z"
   },
   {
    "duration": 0,
    "start_time": "2023-03-26T14:37:48.463Z"
   },
   {
    "duration": 0,
    "start_time": "2023-03-26T14:37:48.464Z"
   },
   {
    "duration": 0,
    "start_time": "2023-03-26T14:37:48.464Z"
   },
   {
    "duration": 1,
    "start_time": "2023-03-26T14:37:48.464Z"
   },
   {
    "duration": 1394,
    "start_time": "2023-03-26T14:38:12.006Z"
   },
   {
    "duration": 3538,
    "start_time": "2023-03-26T14:38:13.403Z"
   },
   {
    "duration": 56,
    "start_time": "2023-03-26T14:38:16.943Z"
   },
   {
    "duration": 6,
    "start_time": "2023-03-26T14:38:17.000Z"
   },
   {
    "duration": 35,
    "start_time": "2023-03-26T14:38:17.009Z"
   },
   {
    "duration": 8,
    "start_time": "2023-03-26T14:38:17.047Z"
   },
   {
    "duration": 71,
    "start_time": "2023-03-26T14:38:17.057Z"
   },
   {
    "duration": 18,
    "start_time": "2023-03-26T14:38:17.130Z"
   },
   {
    "duration": 84,
    "start_time": "2023-03-26T14:38:17.150Z"
   },
   {
    "duration": 18,
    "start_time": "2023-03-26T14:38:17.236Z"
   },
   {
    "duration": 46,
    "start_time": "2023-03-26T14:38:17.256Z"
   },
   {
    "duration": 14,
    "start_time": "2023-03-26T14:38:17.304Z"
   },
   {
    "duration": 38,
    "start_time": "2023-03-26T14:38:17.320Z"
   },
   {
    "duration": 13,
    "start_time": "2023-03-26T14:38:17.363Z"
   },
   {
    "duration": 62,
    "start_time": "2023-03-26T14:38:17.379Z"
   },
   {
    "duration": 477,
    "start_time": "2023-03-26T14:38:17.443Z"
   },
   {
    "duration": 1106,
    "start_time": "2023-03-26T14:38:17.923Z"
   },
   {
    "duration": 315,
    "start_time": "2023-03-26T14:38:19.032Z"
   },
   {
    "duration": 5,
    "start_time": "2023-03-26T14:38:19.349Z"
   },
   {
    "duration": 38,
    "start_time": "2023-03-26T14:38:19.357Z"
   },
   {
    "duration": 7,
    "start_time": "2023-03-26T14:38:19.402Z"
   },
   {
    "duration": 21,
    "start_time": "2023-03-26T14:38:19.413Z"
   },
   {
    "duration": 10,
    "start_time": "2023-03-26T14:38:19.437Z"
   },
   {
    "duration": 3,
    "start_time": "2023-03-26T14:38:19.450Z"
   },
   {
    "duration": 13,
    "start_time": "2023-03-26T14:38:19.455Z"
   },
   {
    "duration": 8,
    "start_time": "2023-03-26T14:38:19.471Z"
   },
   {
    "duration": 12,
    "start_time": "2023-03-26T14:38:19.482Z"
   },
   {
    "duration": 9,
    "start_time": "2023-03-26T14:38:19.499Z"
   },
   {
    "duration": 174,
    "start_time": "2023-03-26T14:38:19.510Z"
   },
   {
    "duration": 22,
    "start_time": "2023-03-26T14:38:19.685Z"
   },
   {
    "duration": 3,
    "start_time": "2023-03-26T14:38:19.709Z"
   },
   {
    "duration": 2,
    "start_time": "2023-03-26T14:38:19.714Z"
   },
   {
    "duration": 15,
    "start_time": "2023-03-26T14:38:19.723Z"
   },
   {
    "duration": 8,
    "start_time": "2023-03-26T14:38:19.740Z"
   },
   {
    "duration": 336,
    "start_time": "2023-03-26T14:38:19.750Z"
   },
   {
    "duration": 22,
    "start_time": "2023-03-26T14:38:20.090Z"
   },
   {
    "duration": 0,
    "start_time": "2023-03-26T14:38:20.115Z"
   },
   {
    "duration": 0,
    "start_time": "2023-03-26T14:38:20.116Z"
   },
   {
    "duration": 0,
    "start_time": "2023-03-26T14:38:20.117Z"
   },
   {
    "duration": 0,
    "start_time": "2023-03-26T14:38:20.118Z"
   },
   {
    "duration": 0,
    "start_time": "2023-03-26T14:38:20.119Z"
   },
   {
    "duration": 0,
    "start_time": "2023-03-26T14:38:20.119Z"
   },
   {
    "duration": 0,
    "start_time": "2023-03-26T14:38:20.121Z"
   },
   {
    "duration": 0,
    "start_time": "2023-03-26T14:38:20.122Z"
   },
   {
    "duration": 0,
    "start_time": "2023-03-26T14:38:20.123Z"
   },
   {
    "duration": 0,
    "start_time": "2023-03-26T14:38:20.124Z"
   },
   {
    "duration": 0,
    "start_time": "2023-03-26T14:38:20.125Z"
   },
   {
    "duration": 0,
    "start_time": "2023-03-26T14:38:20.126Z"
   },
   {
    "duration": 5,
    "start_time": "2023-03-26T14:40:06.118Z"
   },
   {
    "duration": 4,
    "start_time": "2023-03-26T14:40:09.672Z"
   },
   {
    "duration": 5,
    "start_time": "2023-03-26T14:40:10.733Z"
   },
   {
    "duration": 115347,
    "start_time": "2023-03-26T14:40:15.516Z"
   },
   {
    "duration": 5,
    "start_time": "2023-03-26T14:42:12.849Z"
   },
   {
    "duration": 6,
    "start_time": "2023-03-26T14:42:13.389Z"
   },
   {
    "duration": 195528,
    "start_time": "2023-03-26T14:42:13.818Z"
   },
   {
    "duration": 12,
    "start_time": "2023-03-26T14:45:29.348Z"
   },
   {
    "duration": 9,
    "start_time": "2023-03-26T14:45:29.361Z"
   },
   {
    "duration": 7,
    "start_time": "2023-03-26T14:45:29.372Z"
   },
   {
    "duration": 22,
    "start_time": "2023-03-26T14:45:29.381Z"
   },
   {
    "duration": 28,
    "start_time": "2023-03-26T14:45:29.414Z"
   },
   {
    "duration": 1407,
    "start_time": "2023-03-26T18:48:17.355Z"
   },
   {
    "duration": 5167,
    "start_time": "2023-03-26T18:48:18.764Z"
   },
   {
    "duration": 168,
    "start_time": "2023-03-26T18:48:23.932Z"
   },
   {
    "duration": 4,
    "start_time": "2023-03-26T18:48:24.101Z"
   },
   {
    "duration": 13,
    "start_time": "2023-03-26T18:48:24.106Z"
   },
   {
    "duration": 2,
    "start_time": "2023-03-26T18:48:24.121Z"
   },
   {
    "duration": 26,
    "start_time": "2023-03-26T18:48:24.125Z"
   },
   {
    "duration": 12,
    "start_time": "2023-03-26T18:48:24.152Z"
   },
   {
    "duration": 52,
    "start_time": "2023-03-26T18:48:24.166Z"
   },
   {
    "duration": 27,
    "start_time": "2023-03-26T18:48:24.221Z"
   },
   {
    "duration": 13,
    "start_time": "2023-03-26T18:48:24.249Z"
   },
   {
    "duration": 8,
    "start_time": "2023-03-26T18:48:24.263Z"
   },
   {
    "duration": 4,
    "start_time": "2023-03-26T18:48:24.272Z"
   },
   {
    "duration": 4,
    "start_time": "2023-03-26T18:48:24.278Z"
   },
   {
    "duration": 10,
    "start_time": "2023-03-26T18:48:24.283Z"
   },
   {
    "duration": 388,
    "start_time": "2023-03-26T18:48:24.294Z"
   },
   {
    "duration": 917,
    "start_time": "2023-03-26T18:48:24.684Z"
   },
   {
    "duration": 327,
    "start_time": "2023-03-26T18:48:25.603Z"
   },
   {
    "duration": 12,
    "start_time": "2023-03-26T18:48:25.932Z"
   },
   {
    "duration": 14,
    "start_time": "2023-03-26T18:48:25.945Z"
   },
   {
    "duration": 3,
    "start_time": "2023-03-26T18:48:25.961Z"
   },
   {
    "duration": 4,
    "start_time": "2023-03-26T18:48:25.965Z"
   },
   {
    "duration": 5,
    "start_time": "2023-03-26T18:48:25.970Z"
   },
   {
    "duration": 3,
    "start_time": "2023-03-26T18:48:25.976Z"
   },
   {
    "duration": 3,
    "start_time": "2023-03-26T18:48:25.980Z"
   },
   {
    "duration": 4,
    "start_time": "2023-03-26T18:48:25.984Z"
   },
   {
    "duration": 5,
    "start_time": "2023-03-26T18:48:25.989Z"
   },
   {
    "duration": 158,
    "start_time": "2023-03-26T18:48:25.997Z"
   },
   {
    "duration": 4,
    "start_time": "2023-03-26T18:48:26.157Z"
   },
   {
    "duration": 3,
    "start_time": "2023-03-26T18:48:26.162Z"
   },
   {
    "duration": 3,
    "start_time": "2023-03-26T18:48:26.167Z"
   },
   {
    "duration": 3,
    "start_time": "2023-03-26T18:48:26.172Z"
   },
   {
    "duration": 5,
    "start_time": "2023-03-26T18:48:26.176Z"
   },
   {
    "duration": 74741,
    "start_time": "2023-03-26T18:48:26.183Z"
   },
   {
    "duration": 4,
    "start_time": "2023-03-26T18:49:40.926Z"
   },
   {
    "duration": 4,
    "start_time": "2023-03-26T18:49:40.931Z"
   },
   {
    "duration": 4,
    "start_time": "2023-03-26T18:49:40.937Z"
   },
   {
    "duration": 4,
    "start_time": "2023-03-26T18:49:40.943Z"
   },
   {
    "duration": 3,
    "start_time": "2023-03-26T18:49:40.949Z"
   },
   {
    "duration": 1327,
    "start_time": "2023-03-27T05:51:28.869Z"
   },
   {
    "duration": 6030,
    "start_time": "2023-03-27T05:51:30.199Z"
   },
   {
    "duration": 155,
    "start_time": "2023-03-27T05:51:36.231Z"
   },
   {
    "duration": 4,
    "start_time": "2023-03-27T05:51:36.388Z"
   },
   {
    "duration": 21,
    "start_time": "2023-03-27T05:51:36.394Z"
   },
   {
    "duration": 4,
    "start_time": "2023-03-27T05:51:36.416Z"
   },
   {
    "duration": 28,
    "start_time": "2023-03-27T05:51:36.423Z"
   },
   {
    "duration": 11,
    "start_time": "2023-03-27T05:51:36.453Z"
   },
   {
    "duration": 56,
    "start_time": "2023-03-27T05:51:36.465Z"
   },
   {
    "duration": 12,
    "start_time": "2023-03-27T05:51:36.523Z"
   },
   {
    "duration": 13,
    "start_time": "2023-03-27T05:51:36.536Z"
   },
   {
    "duration": 7,
    "start_time": "2023-03-27T05:51:36.575Z"
   },
   {
    "duration": 4,
    "start_time": "2023-03-27T05:51:36.584Z"
   },
   {
    "duration": 3,
    "start_time": "2023-03-27T05:51:36.591Z"
   },
   {
    "duration": 15,
    "start_time": "2023-03-27T05:51:36.596Z"
   },
   {
    "duration": 347,
    "start_time": "2023-03-27T05:51:36.612Z"
   },
   {
    "duration": 917,
    "start_time": "2023-03-27T05:51:36.960Z"
   },
   {
    "duration": 253,
    "start_time": "2023-03-27T05:51:37.879Z"
   },
   {
    "duration": 5,
    "start_time": "2023-03-27T05:51:38.134Z"
   },
   {
    "duration": 34,
    "start_time": "2023-03-27T05:51:38.141Z"
   },
   {
    "duration": 4,
    "start_time": "2023-03-27T05:51:38.177Z"
   },
   {
    "duration": 8,
    "start_time": "2023-03-27T05:51:38.183Z"
   },
   {
    "duration": 6,
    "start_time": "2023-03-27T05:51:38.192Z"
   },
   {
    "duration": 5,
    "start_time": "2023-03-27T05:51:38.200Z"
   },
   {
    "duration": 4,
    "start_time": "2023-03-27T05:51:38.206Z"
   },
   {
    "duration": 9,
    "start_time": "2023-03-27T05:51:38.212Z"
   },
   {
    "duration": 3,
    "start_time": "2023-03-27T05:51:38.223Z"
   },
   {
    "duration": 131,
    "start_time": "2023-03-27T05:51:38.228Z"
   },
   {
    "duration": 4,
    "start_time": "2023-03-27T05:51:38.361Z"
   },
   {
    "duration": 2,
    "start_time": "2023-03-27T05:51:38.376Z"
   },
   {
    "duration": 8,
    "start_time": "2023-03-27T05:51:38.380Z"
   },
   {
    "duration": 13,
    "start_time": "2023-03-27T05:51:38.390Z"
   },
   {
    "duration": 9,
    "start_time": "2023-03-27T05:51:38.405Z"
   },
   {
    "duration": 80269,
    "start_time": "2023-03-27T05:51:38.416Z"
   },
   {
    "duration": 5,
    "start_time": "2023-03-27T05:52:58.687Z"
   },
   {
    "duration": 4,
    "start_time": "2023-03-27T05:52:58.694Z"
   },
   {
    "duration": 4,
    "start_time": "2023-03-27T05:52:58.700Z"
   },
   {
    "duration": 9,
    "start_time": "2023-03-27T05:52:58.708Z"
   },
   {
    "duration": 28,
    "start_time": "2023-03-27T05:52:58.719Z"
   },
   {
    "duration": 35637,
    "start_time": "2023-03-27T05:52:58.749Z"
   },
   {
    "duration": 4,
    "start_time": "2023-03-27T05:53:34.391Z"
   },
   {
    "duration": 82,
    "start_time": "2023-03-27T05:53:34.396Z"
   },
   {
    "duration": 5,
    "start_time": "2023-03-27T05:53:34.479Z"
   },
   {
    "duration": 8,
    "start_time": "2023-03-27T05:53:34.485Z"
   },
   {
    "duration": 4,
    "start_time": "2023-03-27T05:53:34.494Z"
   },
   {
    "duration": 143,
    "start_time": "2023-03-27T05:53:34.500Z"
   },
   {
    "duration": 0,
    "start_time": "2023-03-27T05:53:34.645Z"
   },
   {
    "duration": 1368,
    "start_time": "2023-03-27T07:46:28.625Z"
   },
   {
    "duration": 3,
    "start_time": "2023-03-27T07:46:48.491Z"
   },
   {
    "duration": 2926,
    "start_time": "2023-03-27T07:46:48.691Z"
   },
   {
    "duration": 334,
    "start_time": "2023-03-27T07:46:51.619Z"
   },
   {
    "duration": 4,
    "start_time": "2023-03-27T07:46:51.954Z"
   },
   {
    "duration": 20,
    "start_time": "2023-03-27T07:46:51.959Z"
   },
   {
    "duration": 3,
    "start_time": "2023-03-27T07:46:51.981Z"
   },
   {
    "duration": 30,
    "start_time": "2023-03-27T07:46:51.985Z"
   },
   {
    "duration": 12,
    "start_time": "2023-03-27T07:46:52.016Z"
   },
   {
    "duration": 69,
    "start_time": "2023-03-27T07:46:52.029Z"
   },
   {
    "duration": 12,
    "start_time": "2023-03-27T07:46:52.100Z"
   },
   {
    "duration": 13,
    "start_time": "2023-03-27T07:46:52.122Z"
   },
   {
    "duration": 8,
    "start_time": "2023-03-27T07:46:54.925Z"
   },
   {
    "duration": 8,
    "start_time": "2023-03-27T07:46:54.936Z"
   },
   {
    "duration": 5,
    "start_time": "2023-03-27T07:46:54.945Z"
   },
   {
    "duration": 27,
    "start_time": "2023-03-27T07:46:54.952Z"
   },
   {
    "duration": 414,
    "start_time": "2023-03-27T07:46:55.148Z"
   },
   {
    "duration": 900,
    "start_time": "2023-03-27T07:46:55.794Z"
   },
   {
    "duration": 266,
    "start_time": "2023-03-27T07:46:56.696Z"
   },
   {
    "duration": 6,
    "start_time": "2023-03-27T07:46:59.714Z"
   },
   {
    "duration": 16,
    "start_time": "2023-03-27T07:47:00.114Z"
   },
   {
    "duration": 8,
    "start_time": "2023-03-27T07:47:00.132Z"
   },
   {
    "duration": 5,
    "start_time": "2023-03-27T07:47:02.274Z"
   },
   {
    "duration": 6,
    "start_time": "2023-03-27T07:47:03.924Z"
   },
   {
    "duration": 3,
    "start_time": "2023-03-27T07:47:06.855Z"
   },
   {
    "duration": 3,
    "start_time": "2023-03-27T07:47:07.654Z"
   },
   {
    "duration": 3,
    "start_time": "2023-03-27T07:47:08.324Z"
   },
   {
    "duration": 4,
    "start_time": "2023-03-27T07:47:09.470Z"
   },
   {
    "duration": 126,
    "start_time": "2023-03-27T07:47:11.695Z"
   },
   {
    "duration": 4,
    "start_time": "2023-03-27T07:47:12.712Z"
   },
   {
    "duration": 3,
    "start_time": "2023-03-27T07:47:13.324Z"
   },
   {
    "duration": 4,
    "start_time": "2023-03-27T07:47:15.589Z"
   },
   {
    "duration": 3,
    "start_time": "2023-03-27T07:47:16.523Z"
   },
   {
    "duration": 3,
    "start_time": "2023-03-27T07:47:17.944Z"
   },
   {
    "duration": 90290,
    "start_time": "2023-03-27T07:47:18.943Z"
   },
   {
    "duration": 4,
    "start_time": "2023-03-27T07:48:49.235Z"
   },
   {
    "duration": 7,
    "start_time": "2023-03-27T07:48:49.241Z"
   },
   {
    "duration": 4,
    "start_time": "2023-03-27T07:49:11.713Z"
   },
   {
    "duration": 117,
    "start_time": "2023-03-27T07:49:19.802Z"
   },
   {
    "duration": 14,
    "start_time": "2023-03-27T07:49:43.774Z"
   },
   {
    "duration": 3,
    "start_time": "2023-03-27T07:50:52.855Z"
   },
   {
    "duration": 5,
    "start_time": "2023-03-27T07:51:02.465Z"
   },
   {
    "duration": 18,
    "start_time": "2023-03-27T07:51:04.135Z"
   },
   {
    "duration": 12,
    "start_time": "2023-03-27T07:52:14.346Z"
   },
   {
    "duration": 4,
    "start_time": "2023-03-27T07:52:28.546Z"
   },
   {
    "duration": 9,
    "start_time": "2023-03-27T07:52:33.246Z"
   },
   {
    "duration": 4,
    "start_time": "2023-03-27T07:52:49.726Z"
   },
   {
    "duration": 16,
    "start_time": "2023-03-27T07:52:51.427Z"
   },
   {
    "duration": 3,
    "start_time": "2023-03-27T07:53:06.602Z"
   },
   {
    "duration": 4,
    "start_time": "2023-03-27T07:53:19.167Z"
   },
   {
    "duration": 6,
    "start_time": "2023-03-27T07:53:23.566Z"
   },
   {
    "duration": 4,
    "start_time": "2023-03-27T07:53:32.966Z"
   },
   {
    "duration": 13,
    "start_time": "2023-03-27T07:53:34.747Z"
   },
   {
    "duration": 13,
    "start_time": "2023-03-27T07:53:37.566Z"
   },
   {
    "duration": 3,
    "start_time": "2023-03-27T07:54:42.333Z"
   },
   {
    "duration": 1168,
    "start_time": "2023-03-27T20:02:54.336Z"
   },
   {
    "duration": 6737,
    "start_time": "2023-03-27T20:02:55.507Z"
   },
   {
    "duration": 162,
    "start_time": "2023-03-27T20:03:02.246Z"
   },
   {
    "duration": 7,
    "start_time": "2023-03-27T20:03:02.411Z"
   },
   {
    "duration": 20,
    "start_time": "2023-03-27T20:03:02.419Z"
   },
   {
    "duration": 12,
    "start_time": "2023-03-27T20:03:02.441Z"
   },
   {
    "duration": 61,
    "start_time": "2023-03-27T20:03:02.455Z"
   },
   {
    "duration": 17,
    "start_time": "2023-03-27T20:03:02.518Z"
   },
   {
    "duration": 77,
    "start_time": "2023-03-27T20:03:02.537Z"
   },
   {
    "duration": 12,
    "start_time": "2023-03-27T20:03:02.617Z"
   },
   {
    "duration": 19,
    "start_time": "2023-03-27T20:03:02.631Z"
   },
   {
    "duration": 35,
    "start_time": "2023-03-27T20:03:02.652Z"
   },
   {
    "duration": 14,
    "start_time": "2023-03-27T20:03:02.689Z"
   },
   {
    "duration": 20,
    "start_time": "2023-03-27T20:03:02.705Z"
   },
   {
    "duration": 14,
    "start_time": "2023-03-27T20:03:02.728Z"
   },
   {
    "duration": 372,
    "start_time": "2023-03-27T20:03:02.744Z"
   },
   {
    "duration": 940,
    "start_time": "2023-03-27T20:03:03.117Z"
   },
   {
    "duration": 287,
    "start_time": "2023-03-27T20:03:04.058Z"
   },
   {
    "duration": 6,
    "start_time": "2023-03-27T20:03:04.347Z"
   },
   {
    "duration": 34,
    "start_time": "2023-03-27T20:03:04.355Z"
   },
   {
    "duration": 6,
    "start_time": "2023-03-27T20:03:04.391Z"
   },
   {
    "duration": 10,
    "start_time": "2023-03-27T20:03:04.400Z"
   },
   {
    "duration": 11,
    "start_time": "2023-03-27T20:03:04.413Z"
   },
   {
    "duration": 4,
    "start_time": "2023-03-27T20:03:04.426Z"
   },
   {
    "duration": 21,
    "start_time": "2023-03-27T20:03:04.432Z"
   },
   {
    "duration": 4,
    "start_time": "2023-03-27T20:03:04.456Z"
   },
   {
    "duration": 13,
    "start_time": "2023-03-27T20:03:04.462Z"
   },
   {
    "duration": 172,
    "start_time": "2023-03-27T20:03:04.480Z"
   },
   {
    "duration": 5,
    "start_time": "2023-03-27T20:03:04.655Z"
   },
   {
    "duration": 18,
    "start_time": "2023-03-27T20:03:04.662Z"
   },
   {
    "duration": 8,
    "start_time": "2023-03-27T20:03:04.682Z"
   },
   {
    "duration": 3,
    "start_time": "2023-03-27T20:03:04.696Z"
   },
   {
    "duration": 6,
    "start_time": "2023-03-27T20:03:04.701Z"
   },
   {
    "duration": 98970,
    "start_time": "2023-03-27T20:03:04.710Z"
   },
   {
    "duration": 13,
    "start_time": "2023-03-27T20:04:43.682Z"
   },
   {
    "duration": 3,
    "start_time": "2023-03-27T20:04:43.699Z"
   },
   {
    "duration": 139,
    "start_time": "2023-03-27T20:04:43.705Z"
   },
   {
    "duration": 0,
    "start_time": "2023-03-27T20:04:43.846Z"
   },
   {
    "duration": 0,
    "start_time": "2023-03-27T20:04:43.848Z"
   },
   {
    "duration": 0,
    "start_time": "2023-03-27T20:04:43.851Z"
   },
   {
    "duration": 0,
    "start_time": "2023-03-27T20:04:43.852Z"
   },
   {
    "duration": 4,
    "start_time": "2023-03-27T20:05:46.906Z"
   },
   {
    "duration": 3,
    "start_time": "2023-03-27T20:05:54.553Z"
   },
   {
    "duration": 3,
    "start_time": "2023-03-27T20:05:55.993Z"
   },
   {
    "duration": 4,
    "start_time": "2023-03-27T20:05:56.498Z"
   },
   {
    "duration": 1018534,
    "start_time": "2023-03-27T20:05:56.949Z"
   },
   {
    "duration": 11,
    "start_time": "2023-03-27T20:22:55.485Z"
   },
   {
    "duration": 0,
    "start_time": "2023-03-27T20:22:55.497Z"
   },
   {
    "duration": 0,
    "start_time": "2023-03-27T20:22:55.499Z"
   },
   {
    "duration": 0,
    "start_time": "2023-03-27T20:22:55.500Z"
   },
   {
    "duration": 0,
    "start_time": "2023-03-27T20:22:55.502Z"
   },
   {
    "duration": 0,
    "start_time": "2023-03-27T20:22:55.503Z"
   },
   {
    "duration": 0,
    "start_time": "2023-03-27T20:22:55.505Z"
   },
   {
    "duration": 0,
    "start_time": "2023-03-27T20:22:55.507Z"
   },
   {
    "duration": 0,
    "start_time": "2023-03-27T20:22:55.508Z"
   },
   {
    "duration": 0,
    "start_time": "2023-03-27T20:22:55.509Z"
   },
   {
    "duration": 3,
    "start_time": "2023-03-27T20:22:59.333Z"
   },
   {
    "duration": 3255,
    "start_time": "2023-03-27T20:22:59.930Z"
   },
   {
    "duration": 7,
    "start_time": "2023-03-27T20:23:06.444Z"
   },
   {
    "duration": 235,
    "start_time": "2023-03-27T20:23:08.334Z"
   },
   {
    "duration": 8,
    "start_time": "2023-03-27T20:23:14.237Z"
   },
   {
    "duration": 3,
    "start_time": "2023-03-27T20:23:16.088Z"
   }
  ],
  "kernelspec": {
   "display_name": "Python 3 (ipykernel)",
   "language": "python",
   "name": "python3"
  },
  "language_info": {
   "codemirror_mode": {
    "name": "ipython",
    "version": 3
   },
   "file_extension": ".py",
   "mimetype": "text/x-python",
   "name": "python",
   "nbconvert_exporter": "python",
   "pygments_lexer": "ipython3",
   "version": "3.9.13"
  },
  "toc": {
   "base_numbering": 1,
   "nav_menu": {},
   "number_sections": true,
   "sideBar": true,
   "skip_h1_title": true,
   "title_cell": "Table of Contents",
   "title_sidebar": "Contents",
   "toc_cell": false,
   "toc_position": {},
   "toc_section_display": true,
   "toc_window_display": false
  }
 },
 "nbformat": 4,
 "nbformat_minor": 5
}

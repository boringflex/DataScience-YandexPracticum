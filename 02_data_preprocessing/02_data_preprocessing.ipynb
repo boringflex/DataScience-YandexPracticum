{
 "cells": [
  {
   "cell_type": "markdown",
   "id": "8ff98867",
   "metadata": {
    "deletable": false,
    "editable": false,
    "id": "c81daeeb"
   },
   "source": [
    "# Исследование надежности заемщиков\n"
   ]
  },
  {
   "cell_type": "markdown",
   "id": "6d2b144f",
   "metadata": {},
   "source": [
    "___\n",
    "**Описание проекта**  \n",
    "\n",
    "Заказчик — кредитный отдел банка. Нужно разобраться, влияет ли семейное положение и количество детей клиента на факт погашения кредита в срок. Входные данные от банка — статистика о платёжеспособности клиентов.\n",
    "Результаты исследования будут учтены при построении модели кредитного скоринга — специальной системы, которая оценивает способность потенциального заёмщика вернуть кредит банку.\n",
    "___\n",
    "**Описание данных:**  \n",
    "\n",
    "- `children` — количество детей в семье;\n",
    "- `days_employed` — общий трудовой стаж в днях;\n",
    "- `dob_years` — возраст клиента в годах;\n",
    "- `education` — уровень образования клиента;\n",
    "- `education_id` — идентификатор уровня образования;\n",
    "- `family_status` — семейное положение;\n",
    "- `family_status_id` — идентификатор семейного положения;\n",
    "- `gender` — пол клиента;\n",
    "- `income_type` — тип занятости;\n",
    "- `debt` — имел ли задолженность по возврату кредитов;\n",
    "- `total_income` — ежемесячный доход;\n",
    "- `purpose` — цель получения кредита.\n",
    "___\n",
    "**Что важно учесть:**  \n",
    "\n",
    "На что нужно обратить внимание:\n",
    "\n",
    "- Как вы описываете найденные в данных проблемы?\n",
    "- Какие методы замены типов данных, обработки пропусков и дубликатов применяете?\n",
    "- Категоризируете ли данные?\n",
    "- Соблюдаете ли структуру проекта и поддерживаете аккуратность кода?\n",
    "- Какие выводы делаете?\n",
    "- Оставляете ли комментарии к шагам?"
   ]
  },
  {
   "cell_type": "markdown",
   "id": "4a452955",
   "metadata": {
    "deletable": false,
    "editable": false,
    "id": "827c20bf"
   },
   "source": [
    "Во второй части проекта вы выполните шаги 3 и 4. Их вручную проверит ревьюер.\n",
    "Чтобы вам не пришлось писать код заново для шагов 1 и 2, мы добавили авторские решения в ячейки с кодом. \n",
    "\n"
   ]
  },
  {
   "cell_type": "markdown",
   "id": "ffb5c98e",
   "metadata": {
    "deletable": false,
    "editable": false,
    "id": "744d7639"
   },
   "source": [
    "## Откройте таблицу и изучите общую информацию о данных"
   ]
  },
  {
   "cell_type": "markdown",
   "id": "6d0fe6e5",
   "metadata": {
    "deletable": false,
    "editable": false,
    "id": "e7a14c31"
   },
   "source": [
    "**Задание 1. Импортируйте библиотеку pandas. Считайте данные из csv-файла в датафрейм и сохраните в переменную `data`. Путь к файлу:**\n",
    "\n",
    "`/datasets/data.csv`"
   ]
  },
  {
   "cell_type": "code",
   "execution_count": 1,
   "id": "d743469a",
   "metadata": {
    "deletable": false,
    "id": "7bcf75c9"
   },
   "outputs": [],
   "source": [
    "import pandas as pd\n",
    "import seaborn as sb\n",
    "\n",
    "try:\n",
    "    data = pd.read_csv('./data.csv')\n",
    "except:\n",
    "    print('File_not_found')"
   ]
  },
  {
   "cell_type": "markdown",
   "id": "45438197",
   "metadata": {
    "deletable": false,
    "editable": false,
    "id": "b8038fe3"
   },
   "source": [
    "**Задание 2. Выведите первые 20 строчек датафрейма `data` на экран.**"
   ]
  },
  {
   "cell_type": "code",
   "execution_count": 2,
   "id": "98f53c3e",
   "metadata": {
    "deletable": false,
    "id": "2a7cab99",
    "outputId": "1a8f3ef2-d323-4ec2-ddf7-89670b5944c4"
   },
   "outputs": [
    {
     "data": {
      "text/html": [
       "<div>\n",
       "<style scoped>\n",
       "    .dataframe tbody tr th:only-of-type {\n",
       "        vertical-align: middle;\n",
       "    }\n",
       "\n",
       "    .dataframe tbody tr th {\n",
       "        vertical-align: top;\n",
       "    }\n",
       "\n",
       "    .dataframe thead th {\n",
       "        text-align: right;\n",
       "    }\n",
       "</style>\n",
       "<table border=\"1\" class=\"dataframe\">\n",
       "  <thead>\n",
       "    <tr style=\"text-align: right;\">\n",
       "      <th></th>\n",
       "      <th>children</th>\n",
       "      <th>days_employed</th>\n",
       "      <th>dob_years</th>\n",
       "      <th>education</th>\n",
       "      <th>education_id</th>\n",
       "      <th>family_status</th>\n",
       "      <th>family_status_id</th>\n",
       "      <th>gender</th>\n",
       "      <th>income_type</th>\n",
       "      <th>debt</th>\n",
       "      <th>total_income</th>\n",
       "      <th>purpose</th>\n",
       "    </tr>\n",
       "  </thead>\n",
       "  <tbody>\n",
       "    <tr>\n",
       "      <th>0</th>\n",
       "      <td>1</td>\n",
       "      <td>-8437.673028</td>\n",
       "      <td>42</td>\n",
       "      <td>высшее</td>\n",
       "      <td>0</td>\n",
       "      <td>женат / замужем</td>\n",
       "      <td>0</td>\n",
       "      <td>F</td>\n",
       "      <td>сотрудник</td>\n",
       "      <td>0</td>\n",
       "      <td>253875.639453</td>\n",
       "      <td>покупка жилья</td>\n",
       "    </tr>\n",
       "    <tr>\n",
       "      <th>1</th>\n",
       "      <td>1</td>\n",
       "      <td>-4024.803754</td>\n",
       "      <td>36</td>\n",
       "      <td>среднее</td>\n",
       "      <td>1</td>\n",
       "      <td>женат / замужем</td>\n",
       "      <td>0</td>\n",
       "      <td>F</td>\n",
       "      <td>сотрудник</td>\n",
       "      <td>0</td>\n",
       "      <td>112080.014102</td>\n",
       "      <td>приобретение автомобиля</td>\n",
       "    </tr>\n",
       "    <tr>\n",
       "      <th>2</th>\n",
       "      <td>0</td>\n",
       "      <td>-5623.422610</td>\n",
       "      <td>33</td>\n",
       "      <td>Среднее</td>\n",
       "      <td>1</td>\n",
       "      <td>женат / замужем</td>\n",
       "      <td>0</td>\n",
       "      <td>M</td>\n",
       "      <td>сотрудник</td>\n",
       "      <td>0</td>\n",
       "      <td>145885.952297</td>\n",
       "      <td>покупка жилья</td>\n",
       "    </tr>\n",
       "    <tr>\n",
       "      <th>3</th>\n",
       "      <td>3</td>\n",
       "      <td>-4124.747207</td>\n",
       "      <td>32</td>\n",
       "      <td>среднее</td>\n",
       "      <td>1</td>\n",
       "      <td>женат / замужем</td>\n",
       "      <td>0</td>\n",
       "      <td>M</td>\n",
       "      <td>сотрудник</td>\n",
       "      <td>0</td>\n",
       "      <td>267628.550329</td>\n",
       "      <td>дополнительное образование</td>\n",
       "    </tr>\n",
       "    <tr>\n",
       "      <th>4</th>\n",
       "      <td>0</td>\n",
       "      <td>340266.072047</td>\n",
       "      <td>53</td>\n",
       "      <td>среднее</td>\n",
       "      <td>1</td>\n",
       "      <td>гражданский брак</td>\n",
       "      <td>1</td>\n",
       "      <td>F</td>\n",
       "      <td>пенсионер</td>\n",
       "      <td>0</td>\n",
       "      <td>158616.077870</td>\n",
       "      <td>сыграть свадьбу</td>\n",
       "    </tr>\n",
       "    <tr>\n",
       "      <th>5</th>\n",
       "      <td>0</td>\n",
       "      <td>-926.185831</td>\n",
       "      <td>27</td>\n",
       "      <td>высшее</td>\n",
       "      <td>0</td>\n",
       "      <td>гражданский брак</td>\n",
       "      <td>1</td>\n",
       "      <td>M</td>\n",
       "      <td>компаньон</td>\n",
       "      <td>0</td>\n",
       "      <td>255763.565419</td>\n",
       "      <td>покупка жилья</td>\n",
       "    </tr>\n",
       "    <tr>\n",
       "      <th>6</th>\n",
       "      <td>0</td>\n",
       "      <td>-2879.202052</td>\n",
       "      <td>43</td>\n",
       "      <td>высшее</td>\n",
       "      <td>0</td>\n",
       "      <td>женат / замужем</td>\n",
       "      <td>0</td>\n",
       "      <td>F</td>\n",
       "      <td>компаньон</td>\n",
       "      <td>0</td>\n",
       "      <td>240525.971920</td>\n",
       "      <td>операции с жильем</td>\n",
       "    </tr>\n",
       "    <tr>\n",
       "      <th>7</th>\n",
       "      <td>0</td>\n",
       "      <td>-152.779569</td>\n",
       "      <td>50</td>\n",
       "      <td>СРЕДНЕЕ</td>\n",
       "      <td>1</td>\n",
       "      <td>женат / замужем</td>\n",
       "      <td>0</td>\n",
       "      <td>M</td>\n",
       "      <td>сотрудник</td>\n",
       "      <td>0</td>\n",
       "      <td>135823.934197</td>\n",
       "      <td>образование</td>\n",
       "    </tr>\n",
       "    <tr>\n",
       "      <th>8</th>\n",
       "      <td>2</td>\n",
       "      <td>-6929.865299</td>\n",
       "      <td>35</td>\n",
       "      <td>ВЫСШЕЕ</td>\n",
       "      <td>0</td>\n",
       "      <td>гражданский брак</td>\n",
       "      <td>1</td>\n",
       "      <td>F</td>\n",
       "      <td>сотрудник</td>\n",
       "      <td>0</td>\n",
       "      <td>95856.832424</td>\n",
       "      <td>на проведение свадьбы</td>\n",
       "    </tr>\n",
       "    <tr>\n",
       "      <th>9</th>\n",
       "      <td>0</td>\n",
       "      <td>-2188.756445</td>\n",
       "      <td>41</td>\n",
       "      <td>среднее</td>\n",
       "      <td>1</td>\n",
       "      <td>женат / замужем</td>\n",
       "      <td>0</td>\n",
       "      <td>M</td>\n",
       "      <td>сотрудник</td>\n",
       "      <td>0</td>\n",
       "      <td>144425.938277</td>\n",
       "      <td>покупка жилья для семьи</td>\n",
       "    </tr>\n",
       "    <tr>\n",
       "      <th>10</th>\n",
       "      <td>2</td>\n",
       "      <td>-4171.483647</td>\n",
       "      <td>36</td>\n",
       "      <td>высшее</td>\n",
       "      <td>0</td>\n",
       "      <td>женат / замужем</td>\n",
       "      <td>0</td>\n",
       "      <td>M</td>\n",
       "      <td>компаньон</td>\n",
       "      <td>0</td>\n",
       "      <td>113943.491460</td>\n",
       "      <td>покупка недвижимости</td>\n",
       "    </tr>\n",
       "    <tr>\n",
       "      <th>11</th>\n",
       "      <td>0</td>\n",
       "      <td>-792.701887</td>\n",
       "      <td>40</td>\n",
       "      <td>среднее</td>\n",
       "      <td>1</td>\n",
       "      <td>женат / замужем</td>\n",
       "      <td>0</td>\n",
       "      <td>F</td>\n",
       "      <td>сотрудник</td>\n",
       "      <td>0</td>\n",
       "      <td>77069.234271</td>\n",
       "      <td>покупка коммерческой недвижимости</td>\n",
       "    </tr>\n",
       "    <tr>\n",
       "      <th>12</th>\n",
       "      <td>0</td>\n",
       "      <td>NaN</td>\n",
       "      <td>65</td>\n",
       "      <td>среднее</td>\n",
       "      <td>1</td>\n",
       "      <td>гражданский брак</td>\n",
       "      <td>1</td>\n",
       "      <td>M</td>\n",
       "      <td>пенсионер</td>\n",
       "      <td>0</td>\n",
       "      <td>NaN</td>\n",
       "      <td>сыграть свадьбу</td>\n",
       "    </tr>\n",
       "    <tr>\n",
       "      <th>13</th>\n",
       "      <td>0</td>\n",
       "      <td>-1846.641941</td>\n",
       "      <td>54</td>\n",
       "      <td>неоконченное высшее</td>\n",
       "      <td>2</td>\n",
       "      <td>женат / замужем</td>\n",
       "      <td>0</td>\n",
       "      <td>F</td>\n",
       "      <td>сотрудник</td>\n",
       "      <td>0</td>\n",
       "      <td>130458.228857</td>\n",
       "      <td>приобретение автомобиля</td>\n",
       "    </tr>\n",
       "    <tr>\n",
       "      <th>14</th>\n",
       "      <td>0</td>\n",
       "      <td>-1844.956182</td>\n",
       "      <td>56</td>\n",
       "      <td>высшее</td>\n",
       "      <td>0</td>\n",
       "      <td>гражданский брак</td>\n",
       "      <td>1</td>\n",
       "      <td>F</td>\n",
       "      <td>компаньон</td>\n",
       "      <td>1</td>\n",
       "      <td>165127.911772</td>\n",
       "      <td>покупка жилой недвижимости</td>\n",
       "    </tr>\n",
       "    <tr>\n",
       "      <th>15</th>\n",
       "      <td>1</td>\n",
       "      <td>-972.364419</td>\n",
       "      <td>26</td>\n",
       "      <td>среднее</td>\n",
       "      <td>1</td>\n",
       "      <td>женат / замужем</td>\n",
       "      <td>0</td>\n",
       "      <td>F</td>\n",
       "      <td>сотрудник</td>\n",
       "      <td>0</td>\n",
       "      <td>116820.904450</td>\n",
       "      <td>строительство собственной недвижимости</td>\n",
       "    </tr>\n",
       "    <tr>\n",
       "      <th>16</th>\n",
       "      <td>0</td>\n",
       "      <td>-1719.934226</td>\n",
       "      <td>35</td>\n",
       "      <td>среднее</td>\n",
       "      <td>1</td>\n",
       "      <td>женат / замужем</td>\n",
       "      <td>0</td>\n",
       "      <td>F</td>\n",
       "      <td>сотрудник</td>\n",
       "      <td>0</td>\n",
       "      <td>289202.704229</td>\n",
       "      <td>недвижимость</td>\n",
       "    </tr>\n",
       "    <tr>\n",
       "      <th>17</th>\n",
       "      <td>0</td>\n",
       "      <td>-2369.999720</td>\n",
       "      <td>33</td>\n",
       "      <td>высшее</td>\n",
       "      <td>0</td>\n",
       "      <td>гражданский брак</td>\n",
       "      <td>1</td>\n",
       "      <td>M</td>\n",
       "      <td>сотрудник</td>\n",
       "      <td>0</td>\n",
       "      <td>90410.586745</td>\n",
       "      <td>строительство недвижимости</td>\n",
       "    </tr>\n",
       "    <tr>\n",
       "      <th>18</th>\n",
       "      <td>0</td>\n",
       "      <td>400281.136913</td>\n",
       "      <td>53</td>\n",
       "      <td>среднее</td>\n",
       "      <td>1</td>\n",
       "      <td>вдовец / вдова</td>\n",
       "      <td>2</td>\n",
       "      <td>F</td>\n",
       "      <td>пенсионер</td>\n",
       "      <td>0</td>\n",
       "      <td>56823.777243</td>\n",
       "      <td>на покупку подержанного автомобиля</td>\n",
       "    </tr>\n",
       "    <tr>\n",
       "      <th>19</th>\n",
       "      <td>0</td>\n",
       "      <td>-10038.818549</td>\n",
       "      <td>48</td>\n",
       "      <td>СРЕДНЕЕ</td>\n",
       "      <td>1</td>\n",
       "      <td>в разводе</td>\n",
       "      <td>3</td>\n",
       "      <td>F</td>\n",
       "      <td>сотрудник</td>\n",
       "      <td>0</td>\n",
       "      <td>242831.107982</td>\n",
       "      <td>на покупку своего автомобиля</td>\n",
       "    </tr>\n",
       "  </tbody>\n",
       "</table>\n",
       "</div>"
      ],
      "text/plain": [
       "    children  days_employed  dob_years            education  education_id  \\\n",
       "0          1   -8437.673028         42               высшее             0   \n",
       "1          1   -4024.803754         36              среднее             1   \n",
       "2          0   -5623.422610         33              Среднее             1   \n",
       "3          3   -4124.747207         32              среднее             1   \n",
       "4          0  340266.072047         53              среднее             1   \n",
       "5          0    -926.185831         27               высшее             0   \n",
       "6          0   -2879.202052         43               высшее             0   \n",
       "7          0    -152.779569         50              СРЕДНЕЕ             1   \n",
       "8          2   -6929.865299         35               ВЫСШЕЕ             0   \n",
       "9          0   -2188.756445         41              среднее             1   \n",
       "10         2   -4171.483647         36               высшее             0   \n",
       "11         0    -792.701887         40              среднее             1   \n",
       "12         0            NaN         65              среднее             1   \n",
       "13         0   -1846.641941         54  неоконченное высшее             2   \n",
       "14         0   -1844.956182         56               высшее             0   \n",
       "15         1    -972.364419         26              среднее             1   \n",
       "16         0   -1719.934226         35              среднее             1   \n",
       "17         0   -2369.999720         33               высшее             0   \n",
       "18         0  400281.136913         53              среднее             1   \n",
       "19         0  -10038.818549         48              СРЕДНЕЕ             1   \n",
       "\n",
       "       family_status  family_status_id gender income_type  debt  \\\n",
       "0    женат / замужем                 0      F   сотрудник     0   \n",
       "1    женат / замужем                 0      F   сотрудник     0   \n",
       "2    женат / замужем                 0      M   сотрудник     0   \n",
       "3    женат / замужем                 0      M   сотрудник     0   \n",
       "4   гражданский брак                 1      F   пенсионер     0   \n",
       "5   гражданский брак                 1      M   компаньон     0   \n",
       "6    женат / замужем                 0      F   компаньон     0   \n",
       "7    женат / замужем                 0      M   сотрудник     0   \n",
       "8   гражданский брак                 1      F   сотрудник     0   \n",
       "9    женат / замужем                 0      M   сотрудник     0   \n",
       "10   женат / замужем                 0      M   компаньон     0   \n",
       "11   женат / замужем                 0      F   сотрудник     0   \n",
       "12  гражданский брак                 1      M   пенсионер     0   \n",
       "13   женат / замужем                 0      F   сотрудник     0   \n",
       "14  гражданский брак                 1      F   компаньон     1   \n",
       "15   женат / замужем                 0      F   сотрудник     0   \n",
       "16   женат / замужем                 0      F   сотрудник     0   \n",
       "17  гражданский брак                 1      M   сотрудник     0   \n",
       "18    вдовец / вдова                 2      F   пенсионер     0   \n",
       "19         в разводе                 3      F   сотрудник     0   \n",
       "\n",
       "     total_income                                 purpose  \n",
       "0   253875.639453                           покупка жилья  \n",
       "1   112080.014102                 приобретение автомобиля  \n",
       "2   145885.952297                           покупка жилья  \n",
       "3   267628.550329              дополнительное образование  \n",
       "4   158616.077870                         сыграть свадьбу  \n",
       "5   255763.565419                           покупка жилья  \n",
       "6   240525.971920                       операции с жильем  \n",
       "7   135823.934197                             образование  \n",
       "8    95856.832424                   на проведение свадьбы  \n",
       "9   144425.938277                 покупка жилья для семьи  \n",
       "10  113943.491460                    покупка недвижимости  \n",
       "11   77069.234271       покупка коммерческой недвижимости  \n",
       "12            NaN                         сыграть свадьбу  \n",
       "13  130458.228857                 приобретение автомобиля  \n",
       "14  165127.911772              покупка жилой недвижимости  \n",
       "15  116820.904450  строительство собственной недвижимости  \n",
       "16  289202.704229                            недвижимость  \n",
       "17   90410.586745              строительство недвижимости  \n",
       "18   56823.777243      на покупку подержанного автомобиля  \n",
       "19  242831.107982            на покупку своего автомобиля  "
      ]
     },
     "execution_count": 2,
     "metadata": {},
     "output_type": "execute_result"
    }
   ],
   "source": [
    "data.head(20)"
   ]
  },
  {
   "cell_type": "markdown",
   "id": "0f16dabc",
   "metadata": {
    "deletable": false,
    "editable": false,
    "id": "1c12e233"
   },
   "source": [
    "**Задание 3. Выведите основную информацию о датафрейме с помощью метода `info()`.**"
   ]
  },
  {
   "cell_type": "code",
   "execution_count": 3,
   "id": "911e78b3",
   "metadata": {
    "deletable": false,
    "id": "2b757bca",
    "outputId": "15376089-8dad-46c9-b520-c05248d43158"
   },
   "outputs": [
    {
     "name": "stdout",
     "output_type": "stream",
     "text": [
      "<class 'pandas.core.frame.DataFrame'>\n",
      "RangeIndex: 21525 entries, 0 to 21524\n",
      "Data columns (total 12 columns):\n",
      " #   Column            Non-Null Count  Dtype  \n",
      "---  ------            --------------  -----  \n",
      " 0   children          21525 non-null  int64  \n",
      " 1   days_employed     19351 non-null  float64\n",
      " 2   dob_years         21525 non-null  int64  \n",
      " 3   education         21525 non-null  object \n",
      " 4   education_id      21525 non-null  int64  \n",
      " 5   family_status     21525 non-null  object \n",
      " 6   family_status_id  21525 non-null  int64  \n",
      " 7   gender            21525 non-null  object \n",
      " 8   income_type       21525 non-null  object \n",
      " 9   debt              21525 non-null  int64  \n",
      " 10  total_income      19351 non-null  float64\n",
      " 11  purpose           21525 non-null  object \n",
      "dtypes: float64(2), int64(5), object(5)\n",
      "memory usage: 2.0+ MB\n"
     ]
    }
   ],
   "source": [
    "data.info()"
   ]
  },
  {
   "cell_type": "markdown",
   "id": "e3ce32e2",
   "metadata": {
    "deletable": false,
    "editable": false,
    "id": "333ec665"
   },
   "source": [
    "## Предобработка данных"
   ]
  },
  {
   "cell_type": "markdown",
   "id": "ab4d51ee",
   "metadata": {
    "deletable": false,
    "editable": false,
    "id": "02d92d53"
   },
   "source": [
    "### Удаление пропусков"
   ]
  },
  {
   "cell_type": "markdown",
   "id": "d7ba7b63",
   "metadata": {
    "deletable": false,
    "editable": false,
    "id": "cd84967c"
   },
   "source": [
    "**Задание 4. Выведите количество пропущенных значений для каждого столбца. Используйте комбинацию двух методов.**"
   ]
  },
  {
   "cell_type": "code",
   "execution_count": 4,
   "id": "a7a5ec77",
   "metadata": {
    "deletable": false,
    "id": "7f9b2309",
    "outputId": "81f4d817-781c-465c-ed15-91ce4446810d"
   },
   "outputs": [
    {
     "data": {
      "text/plain": [
       "children               0\n",
       "days_employed       2174\n",
       "dob_years              0\n",
       "education              0\n",
       "education_id           0\n",
       "family_status          0\n",
       "family_status_id       0\n",
       "gender                 0\n",
       "income_type            0\n",
       "debt                   0\n",
       "total_income        2174\n",
       "purpose                0\n",
       "dtype: int64"
      ]
     },
     "execution_count": 4,
     "metadata": {},
     "output_type": "execute_result"
    }
   ],
   "source": [
    "data.isna().sum()"
   ]
  },
  {
   "cell_type": "markdown",
   "id": "32319575",
   "metadata": {
    "deletable": false,
    "editable": false,
    "id": "db86e27b"
   },
   "source": [
    "**Задание 5. В двух столбцах есть пропущенные значения. Один из них — `days_employed`. Пропуски в этом столбце вы обработаете на следующем этапе. Другой столбец с пропущенными значениями — `total_income` — хранит данные о доходах. На сумму дохода сильнее всего влияет тип занятости, поэтому заполнить пропуски в этом столбце нужно медианным значением по каждому типу из столбца `income_type`. Например, у человека с типом занятости `сотрудник` пропуск в столбце `total_income` должен быть заполнен медианным доходом среди всех записей с тем же типом.**"
   ]
  },
  {
   "cell_type": "code",
   "execution_count": 5,
   "id": "296a125b",
   "metadata": {
    "deletable": false,
    "id": "42006a93"
   },
   "outputs": [],
   "source": [
    "for t in data['income_type'].unique():\n",
    "    data.loc[(data['income_type'] == t) & (data['total_income'].isna()), 'total_income'] = \\\n",
    "    data.loc[(data['income_type'] == t), 'total_income'].median()"
   ]
  },
  {
   "cell_type": "markdown",
   "id": "54162b74",
   "metadata": {
    "deletable": false,
    "editable": false,
    "id": "89da5ece"
   },
   "source": [
    "### Обработка аномальных значений"
   ]
  },
  {
   "cell_type": "markdown",
   "id": "6317d64a",
   "metadata": {
    "deletable": false,
    "editable": false,
    "id": "57964554"
   },
   "source": [
    "**Задание 6. В данных могут встречаться артефакты (аномалии) — значения, которые не отражают действительность и появились по какой-то ошибке. таким артефактом будет отрицательное количество дней трудового стажа в столбце `days_employed`. Для реальных данных это нормально. Обработайте значения в этом столбце: замените все отрицательные значения положительными с помощью метода `abs()`.**"
   ]
  },
  {
   "cell_type": "code",
   "execution_count": 6,
   "id": "82481ad6",
   "metadata": {
    "deletable": false,
    "id": "f6f055bf"
   },
   "outputs": [],
   "source": [
    "data['days_employed'] = data['days_employed'].abs()"
   ]
  },
  {
   "cell_type": "markdown",
   "id": "941f528b",
   "metadata": {
    "deletable": false,
    "editable": false,
    "id": "6107dd2f"
   },
   "source": [
    "**Задание 7. Для каждого типа занятости выведите медианное значение трудового стажа `days_employed` в днях.**"
   ]
  },
  {
   "cell_type": "code",
   "execution_count": 7,
   "id": "1f88fdf7",
   "metadata": {
    "deletable": false,
    "id": "85a5faf6",
    "outputId": "801ef80e-522b-4668-f34e-565af7432bcf"
   },
   "outputs": [
    {
     "data": {
      "text/plain": [
       "income_type\n",
       "безработный        366413.652744\n",
       "в декрете            3296.759962\n",
       "госслужащий          2689.368353\n",
       "компаньон            1547.382223\n",
       "пенсионер          365213.306266\n",
       "предприниматель       520.848083\n",
       "сотрудник            1574.202821\n",
       "студент               578.751554\n",
       "Name: days_employed, dtype: float64"
      ]
     },
     "execution_count": 7,
     "metadata": {},
     "output_type": "execute_result"
    }
   ],
   "source": [
    "data.groupby('income_type')['days_employed'].agg('median')"
   ]
  },
  {
   "cell_type": "markdown",
   "id": "7a7948d1",
   "metadata": {
    "deletable": false,
    "editable": false,
    "id": "38d1a030"
   },
   "source": [
    "У двух типов (безработные и пенсионеры) получатся аномально большие значения. Исправить такие значения сложно, поэтому оставьте их как есть. Тем более этот столбец не понадобится вам для исследования."
   ]
  },
  {
   "cell_type": "markdown",
   "id": "add0d12f",
   "metadata": {
    "deletable": false,
    "editable": false,
    "id": "d8a9f147"
   },
   "source": [
    "**Задание 8. Выведите перечень уникальных значений столбца `children`.**"
   ]
  },
  {
   "cell_type": "code",
   "execution_count": 8,
   "id": "ec023a42",
   "metadata": {
    "deletable": false,
    "id": "ef5056eb",
    "outputId": "6975b15c-7f95-4697-d16d-a0c79b657b03"
   },
   "outputs": [
    {
     "data": {
      "text/plain": [
       "array([ 1,  0,  3,  2, -1,  4, 20,  5])"
      ]
     },
     "execution_count": 8,
     "metadata": {},
     "output_type": "execute_result"
    }
   ],
   "source": [
    "data['children'].unique()"
   ]
  },
  {
   "cell_type": "markdown",
   "id": "9a397c23",
   "metadata": {
    "deletable": false,
    "editable": false,
    "id": "40b9ebf2"
   },
   "source": [
    "**Задание 9. В столбце `children` есть два аномальных значения. Удалите строки, в которых встречаются такие аномальные значения из датафрейма `data`.**"
   ]
  },
  {
   "cell_type": "code",
   "execution_count": 9,
   "id": "3a78da84",
   "metadata": {
    "deletable": false,
    "id": "3ff9801d"
   },
   "outputs": [],
   "source": [
    "data = data[(data['children'] != -1) & (data['children'] != 20)]"
   ]
  },
  {
   "cell_type": "markdown",
   "id": "2f8b5f12",
   "metadata": {
    "deletable": false,
    "editable": false,
    "id": "bbc4d0ce"
   },
   "source": [
    "**Задание 10. Ещё раз выведите перечень уникальных значений столбца `children`, чтобы убедиться, что артефакты удалены.**"
   ]
  },
  {
   "cell_type": "code",
   "execution_count": 10,
   "id": "bb8b8e09",
   "metadata": {
    "deletable": false,
    "id": "ad4fa8b7",
    "outputId": "b2097101-d49d-44d9-901b-32a65c9463d1"
   },
   "outputs": [
    {
     "data": {
      "text/plain": [
       "array([1, 0, 3, 2, 4, 5])"
      ]
     },
     "execution_count": 10,
     "metadata": {},
     "output_type": "execute_result"
    }
   ],
   "source": [
    "data['children'].unique()"
   ]
  },
  {
   "cell_type": "markdown",
   "id": "a3a610a8",
   "metadata": {
    "deletable": false,
    "editable": false,
    "id": "75440b63"
   },
   "source": [
    "### Удаление пропусков (продолжение)"
   ]
  },
  {
   "cell_type": "markdown",
   "id": "a4a9c44c",
   "metadata": {
    "deletable": false,
    "editable": false,
    "id": "f4ea573f"
   },
   "source": [
    "**Задание 11. Заполните пропуски в столбце `days_employed` медианными значениями по каждого типа занятости `income_type`.**"
   ]
  },
  {
   "cell_type": "code",
   "execution_count": 11,
   "id": "dc220a58",
   "metadata": {
    "deletable": false,
    "id": "af6b1a7e"
   },
   "outputs": [],
   "source": [
    "for t in data['income_type'].unique():\n",
    "    data.loc[(data['income_type'] == t) & (data['days_employed'].isna()), 'days_employed'] = \\\n",
    "    data.loc[(data['income_type'] == t), 'days_employed'].median()"
   ]
  },
  {
   "cell_type": "markdown",
   "id": "0b07007b",
   "metadata": {
    "deletable": false,
    "editable": false,
    "id": "2753f40d"
   },
   "source": [
    "**Задание 12. Убедитесь, что все пропуски заполнены. Проверьте себя и ещё раз выведите количество пропущенных значений для каждого столбца с помощью двух методов.**"
   ]
  },
  {
   "cell_type": "code",
   "execution_count": 12,
   "id": "f52daa22",
   "metadata": {
    "deletable": false,
    "id": "55f78bc2",
    "outputId": "8da1e4e1-358e-4e87-98c9-f261bce0a7b2"
   },
   "outputs": [
    {
     "data": {
      "text/plain": [
       "children            0\n",
       "days_employed       0\n",
       "dob_years           0\n",
       "education           0\n",
       "education_id        0\n",
       "family_status       0\n",
       "family_status_id    0\n",
       "gender              0\n",
       "income_type         0\n",
       "debt                0\n",
       "total_income        0\n",
       "purpose             0\n",
       "dtype: int64"
      ]
     },
     "execution_count": 12,
     "metadata": {},
     "output_type": "execute_result"
    }
   ],
   "source": [
    "data.isna().sum()"
   ]
  },
  {
   "cell_type": "markdown",
   "id": "1ee1a958",
   "metadata": {
    "deletable": false,
    "editable": false,
    "id": "ddc81e43"
   },
   "source": [
    "### Изменение типов данных"
   ]
  },
  {
   "cell_type": "markdown",
   "id": "3569156f",
   "metadata": {
    "deletable": false,
    "editable": false,
    "id": "42d19d24"
   },
   "source": [
    "**Задание 13. Замените вещественный тип данных в столбце `total_income` на целочисленный с помощью метода `astype()`.**"
   ]
  },
  {
   "cell_type": "code",
   "execution_count": 13,
   "id": "58f5b89e",
   "metadata": {
    "deletable": false,
    "id": "920b65ad"
   },
   "outputs": [],
   "source": [
    "data['total_income'] = data['total_income'].astype(int)"
   ]
  },
  {
   "cell_type": "markdown",
   "id": "2c5b220f",
   "metadata": {
    "deletable": false,
    "editable": false,
    "id": "80c420ba"
   },
   "source": [
    "### Обработка дубликатов"
   ]
  },
  {
   "cell_type": "markdown",
   "id": "baaff342",
   "metadata": {
    "deletable": false,
    "editable": false
   },
   "source": [
    "**Задание 14. Обработайте неявные дубликаты в столбце `education`. В этом столбце есть одни и те же значения, но записанные по-разному: с использованием заглавных и строчных букв. Приведите их к нижнему регистру. Проверьте остальные столбцы.**"
   ]
  },
  {
   "cell_type": "code",
   "execution_count": 14,
   "id": "8aa662e6",
   "metadata": {
    "deletable": false
   },
   "outputs": [],
   "source": [
    "data['education'] = data['education'].str.lower()"
   ]
  },
  {
   "cell_type": "markdown",
   "id": "f00eeff6",
   "metadata": {
    "deletable": false,
    "editable": false,
    "id": "dc587695"
   },
   "source": [
    "**Задание 15. Выведите на экран количество строк-дубликатов в данных. Если такие строки присутствуют, удалите их.**"
   ]
  },
  {
   "cell_type": "code",
   "execution_count": 15,
   "id": "1c4a175f",
   "metadata": {
    "deletable": false,
    "id": "3ee445e4",
    "outputId": "9684deba-1934-42d1-99e1-cda61740f822"
   },
   "outputs": [
    {
     "data": {
      "text/plain": [
       "71"
      ]
     },
     "execution_count": 15,
     "metadata": {},
     "output_type": "execute_result"
    }
   ],
   "source": [
    "data.duplicated().sum()"
   ]
  },
  {
   "cell_type": "code",
   "execution_count": 16,
   "id": "92dfa51a",
   "metadata": {
    "deletable": false,
    "id": "8575fe05"
   },
   "outputs": [],
   "source": [
    "data = data.drop_duplicates()"
   ]
  },
  {
   "cell_type": "markdown",
   "id": "52a800f1",
   "metadata": {
    "deletable": false,
    "editable": false,
    "id": "9904cf55"
   },
   "source": [
    "### Категоризация данных"
   ]
  },
  {
   "cell_type": "markdown",
   "id": "b169a705",
   "metadata": {
    "deletable": false,
    "editable": false,
    "id": "72fcc8a2"
   },
   "source": [
    "**Задание 16. На основании диапазонов, указанных ниже, создайте в датафрейме `data` столбец `total_income_category` с категориями:**\n",
    "\n",
    "- 0–30000 — `'E'`;\n",
    "- 30001–50000 — `'D'`;\n",
    "- 50001–200000 — `'C'`;\n",
    "- 200001–1000000 — `'B'`;\n",
    "- 1000001 и выше — `'A'`.\n",
    "\n",
    "\n",
    "**Например, кредитополучателю с доходом 25000 нужно назначить категорию `'E'`, а клиенту, получающему 235000, — `'B'`. Используйте собственную функцию с именем `categorize_income()` и метод `apply()`.**"
   ]
  },
  {
   "cell_type": "code",
   "execution_count": 17,
   "id": "d559790e",
   "metadata": {
    "deletable": false,
    "id": "e1771346"
   },
   "outputs": [],
   "source": [
    "def categorize_income(income):\n",
    "    try:\n",
    "        if 0 <= income <= 30000:\n",
    "            return 'E'\n",
    "        elif 30001 <= income <= 50000:\n",
    "            return 'D'\n",
    "        elif 50001 <= income <= 200000:\n",
    "            return 'C'\n",
    "        elif 200001 <= income <= 1000000:\n",
    "            return 'B'\n",
    "        elif income >= 1000001:\n",
    "            return 'A'\n",
    "    except:\n",
    "        pass"
   ]
  },
  {
   "cell_type": "code",
   "execution_count": 18,
   "id": "75bbccaf",
   "metadata": {
    "deletable": false,
    "id": "d5f3586d"
   },
   "outputs": [],
   "source": [
    "data['total_income_category'] = data['total_income'].apply(categorize_income)"
   ]
  },
  {
   "cell_type": "markdown",
   "id": "258c0192",
   "metadata": {
    "deletable": false,
    "editable": false,
    "id": "dde49b5c"
   },
   "source": [
    "**Задание 17. Выведите на экран перечень уникальных целей взятия кредита из столбца `purpose`.**"
   ]
  },
  {
   "cell_type": "code",
   "execution_count": 19,
   "id": "bf3964df",
   "metadata": {
    "deletable": false,
    "id": "f67ce9b3",
    "outputId": "673c12d9-7d7e-4ae0-9812-c622c89dd244"
   },
   "outputs": [
    {
     "data": {
      "text/plain": [
       "array(['покупка жилья', 'приобретение автомобиля',\n",
       "       'дополнительное образование', 'сыграть свадьбу',\n",
       "       'операции с жильем', 'образование', 'на проведение свадьбы',\n",
       "       'покупка жилья для семьи', 'покупка недвижимости',\n",
       "       'покупка коммерческой недвижимости', 'покупка жилой недвижимости',\n",
       "       'строительство собственной недвижимости', 'недвижимость',\n",
       "       'строительство недвижимости', 'на покупку подержанного автомобиля',\n",
       "       'на покупку своего автомобиля',\n",
       "       'операции с коммерческой недвижимостью',\n",
       "       'строительство жилой недвижимости', 'жилье',\n",
       "       'операции со своей недвижимостью', 'автомобили',\n",
       "       'заняться образованием', 'сделка с подержанным автомобилем',\n",
       "       'получение образования', 'автомобиль', 'свадьба',\n",
       "       'получение дополнительного образования', 'покупка своего жилья',\n",
       "       'операции с недвижимостью', 'получение высшего образования',\n",
       "       'свой автомобиль', 'сделка с автомобилем',\n",
       "       'профильное образование', 'высшее образование',\n",
       "       'покупка жилья для сдачи', 'на покупку автомобиля', 'ремонт жилью',\n",
       "       'заняться высшим образованием'], dtype=object)"
      ]
     },
     "execution_count": 19,
     "metadata": {},
     "output_type": "execute_result"
    }
   ],
   "source": [
    "data['purpose'].unique()"
   ]
  },
  {
   "cell_type": "markdown",
   "id": "e01cf2ea",
   "metadata": {
    "deletable": false,
    "editable": false,
    "id": "85d0aef0"
   },
   "source": [
    "**Задание 18. Создайте функцию, которая на основании данных из столбца `purpose` сформирует новый столбец `purpose_category`, в который войдут следующие категории:**\n",
    "\n",
    "- `'операции с автомобилем'`,\n",
    "- `'операции с недвижимостью'`,\n",
    "- `'проведение свадьбы'`,\n",
    "- `'получение образования'`.\n",
    "\n",
    "**Например, если в столбце `purpose` находится подстрока `'на покупку автомобиля'`, то в столбце `purpose_category` должна появиться строка `'операции с автомобилем'`.**\n",
    "\n",
    "**Используйте собственную функцию с именем `categorize_purpose()` и метод `apply()`. Изучите данные в столбце `purpose` и определите, какие подстроки помогут вам правильно определить категорию.**"
   ]
  },
  {
   "cell_type": "code",
   "execution_count": 20,
   "id": "7f0230d6",
   "metadata": {
    "deletable": false,
    "id": "e149fab4"
   },
   "outputs": [],
   "source": [
    "def categorize_purpose(row):\n",
    "    try:\n",
    "        if 'автом' in row:\n",
    "            return 'операции с автомобилем'\n",
    "        elif 'жил' in row or 'недвиж' in row:\n",
    "            return 'операции с недвижимостью'\n",
    "        elif 'свад' in row:\n",
    "            return 'проведение свадьбы'\n",
    "        elif 'образов' in row:\n",
    "            return 'получение образования'\n",
    "    except:\n",
    "        return 'нет категории'"
   ]
  },
  {
   "cell_type": "code",
   "execution_count": 21,
   "id": "9ab708b7",
   "metadata": {
    "deletable": false,
    "id": "bf36e69b"
   },
   "outputs": [],
   "source": [
    "data['purpose_category'] = data['purpose'].apply(categorize_purpose)"
   ]
  },
  {
   "cell_type": "markdown",
   "id": "0e6fd88c",
   "metadata": {
    "deletable": false,
    "editable": false,
    "id": "09b242bf"
   },
   "source": [
    "### Шаг 3. Исследуйте данные и ответьте на вопросы"
   ]
  },
  {
   "cell_type": "markdown",
   "id": "a86d199f",
   "metadata": {
    "deletable": false,
    "editable": false,
    "id": "c5d66278"
   },
   "source": [
    "#### 3.1 Есть ли зависимость между количеством детей и возвратом кредита в срок?"
   ]
  },
  {
   "cell_type": "markdown",
   "id": "2e66b5f1",
   "metadata": {},
   "source": [
    "**Первоначально проверим данные на корректность. Посмотрим на слобец `gender` и проверим нет ли в нём ошибоных данных:**"
   ]
  },
  {
   "cell_type": "code",
   "execution_count": 22,
   "id": "0a8dd4a2",
   "metadata": {},
   "outputs": [
    {
     "data": {
      "text/plain": [
       "array(['F', 'M', 'XNA'], dtype=object)"
      ]
     },
     "execution_count": 22,
     "metadata": {},
     "output_type": "execute_result"
    }
   ],
   "source": [
    "# Выведем перечень уникальных значений столбца 'gender'\n",
    "\n",
    "data['gender'].unique()"
   ]
  },
  {
   "cell_type": "markdown",
   "id": "9b52cc5b",
   "metadata": {},
   "source": [
    "**Посчитаем число значенией в каждой категории и найдем строки с аномальными значениями:**"
   ]
  },
  {
   "cell_type": "code",
   "execution_count": 23,
   "id": "fa840564",
   "metadata": {},
   "outputs": [
    {
     "data": {
      "text/plain": [
       "F      14092\n",
       "M       7238\n",
       "XNA        1\n",
       "Name: gender, dtype: int64"
      ]
     },
     "execution_count": 23,
     "metadata": {},
     "output_type": "execute_result"
    }
   ],
   "source": [
    "# Посчитаем число значенией в каждой категории в столбце 'gender'\n",
    "\n",
    "data['gender'].value_counts()"
   ]
  },
  {
   "cell_type": "code",
   "execution_count": 24,
   "id": "31a4d57c",
   "metadata": {
    "scrolled": true
   },
   "outputs": [
    {
     "data": {
      "text/html": [
       "<div>\n",
       "<style scoped>\n",
       "    .dataframe tbody tr th:only-of-type {\n",
       "        vertical-align: middle;\n",
       "    }\n",
       "\n",
       "    .dataframe tbody tr th {\n",
       "        vertical-align: top;\n",
       "    }\n",
       "\n",
       "    .dataframe thead th {\n",
       "        text-align: right;\n",
       "    }\n",
       "</style>\n",
       "<table border=\"1\" class=\"dataframe\">\n",
       "  <thead>\n",
       "    <tr style=\"text-align: right;\">\n",
       "      <th></th>\n",
       "      <th>children</th>\n",
       "      <th>days_employed</th>\n",
       "      <th>dob_years</th>\n",
       "      <th>education</th>\n",
       "      <th>education_id</th>\n",
       "      <th>family_status</th>\n",
       "      <th>family_status_id</th>\n",
       "      <th>gender</th>\n",
       "      <th>income_type</th>\n",
       "      <th>debt</th>\n",
       "      <th>total_income</th>\n",
       "      <th>purpose</th>\n",
       "      <th>total_income_category</th>\n",
       "      <th>purpose_category</th>\n",
       "    </tr>\n",
       "  </thead>\n",
       "  <tbody>\n",
       "    <tr>\n",
       "      <th>10701</th>\n",
       "      <td>0</td>\n",
       "      <td>2358.600502</td>\n",
       "      <td>24</td>\n",
       "      <td>неоконченное высшее</td>\n",
       "      <td>2</td>\n",
       "      <td>гражданский брак</td>\n",
       "      <td>1</td>\n",
       "      <td>XNA</td>\n",
       "      <td>компаньон</td>\n",
       "      <td>0</td>\n",
       "      <td>203905</td>\n",
       "      <td>покупка недвижимости</td>\n",
       "      <td>B</td>\n",
       "      <td>операции с недвижимостью</td>\n",
       "    </tr>\n",
       "  </tbody>\n",
       "</table>\n",
       "</div>"
      ],
      "text/plain": [
       "       children  days_employed  dob_years            education  education_id  \\\n",
       "10701         0    2358.600502         24  неоконченное высшее             2   \n",
       "\n",
       "          family_status  family_status_id gender income_type  debt  \\\n",
       "10701  гражданский брак                 1    XNA   компаньон     0   \n",
       "\n",
       "       total_income               purpose total_income_category  \\\n",
       "10701        203905  покупка недвижимости                     B   \n",
       "\n",
       "               purpose_category  \n",
       "10701  операции с недвижимостью  "
      ]
     },
     "execution_count": 24,
     "metadata": {},
     "output_type": "execute_result"
    }
   ],
   "source": [
    "# Выведем строку со значением 'XNA'\n",
    "\n",
    "data[data['gender'] == 'XNA']"
   ]
  },
  {
   "cell_type": "markdown",
   "id": "dcba03d4",
   "metadata": {},
   "source": [
    "**Строка `10701` содержит одно аномальное значение `XNA`. Вероятнее всего это вызвано технической ошибкой или \n",
    "человеческим фактором. Удалим данную строку из датафрейма `data`.**"
   ]
  },
  {
   "cell_type": "code",
   "execution_count": 25,
   "id": "59153850",
   "metadata": {},
   "outputs": [],
   "source": [
    "data = data[data['gender'] != 'XNA']"
   ]
  },
  {
   "cell_type": "markdown",
   "id": "b0749b44",
   "metadata": {},
   "source": [
    "**Ещё раз выведем перечень уникальных значений столбца `gender`, чтобы убедиться, что артефакты удалены.**"
   ]
  },
  {
   "cell_type": "code",
   "execution_count": 26,
   "id": "f35f36cc",
   "metadata": {},
   "outputs": [
    {
     "data": {
      "text/plain": [
       "array(['F', 'M'], dtype=object)"
      ]
     },
     "execution_count": 26,
     "metadata": {},
     "output_type": "execute_result"
    }
   ],
   "source": [
    "data['gender'].unique()"
   ]
  },
  {
   "cell_type": "markdown",
   "id": "9a7f3c79",
   "metadata": {},
   "source": [
    "**Исследуем слобец `dob_years` и проверим нет ли в нём ошибоных данных:**"
   ]
  },
  {
   "cell_type": "code",
   "execution_count": 27,
   "id": "01480388",
   "metadata": {},
   "outputs": [
    {
     "data": {
      "text/plain": [
       "array([42, 36, 33, 32, 53, 27, 43, 50, 35, 41, 40, 65, 54, 56, 26, 48, 24,\n",
       "       21, 57, 67, 28, 63, 62, 47, 34, 68, 25, 31, 30, 20, 49, 37, 45, 61,\n",
       "       64, 44, 52, 46, 23, 38, 39, 51,  0, 59, 29, 60, 55, 58, 71, 22, 73,\n",
       "       66, 69, 19, 72, 70, 74, 75])"
      ]
     },
     "execution_count": 27,
     "metadata": {},
     "output_type": "execute_result"
    }
   ],
   "source": [
    "# Выведем перечень уникальных значений столбца 'dob_years'\n",
    "\n",
    "data['dob_years'].unique()"
   ]
  },
  {
   "cell_type": "markdown",
   "id": "5ce5ce5c",
   "metadata": {},
   "source": [
    "**Среди перечня есть значение `0`. Посчитаем количество строк с данным значением `0` в стобце `dob_years`.**"
   ]
  },
  {
   "cell_type": "code",
   "execution_count": 28,
   "id": "fad37116",
   "metadata": {},
   "outputs": [
    {
     "data": {
      "text/plain": [
       "100"
      ]
     },
     "execution_count": 28,
     "metadata": {},
     "output_type": "execute_result"
    }
   ],
   "source": [
    "data.loc[data['dob_years'] == 0]['dob_years'].count()"
   ]
  },
  {
   "cell_type": "markdown",
   "id": "9430023d",
   "metadata": {},
   "source": [
    "**Итого `100` строк со значением `0`, что составляет `0.47%` от общего числа всех строк. Удалим все строки со значением `0` из столбца `dob_years` в датафрейме `data`.**"
   ]
  },
  {
   "cell_type": "code",
   "execution_count": 29,
   "id": "33501ae9",
   "metadata": {},
   "outputs": [],
   "source": [
    "data = data[data['dob_years'] != 0]"
   ]
  },
  {
   "cell_type": "markdown",
   "id": "8d4be9ab",
   "metadata": {},
   "source": [
    "**Ещё раз выведем перечень уникальных значений столбца `dob_years`, чтобы убедиться, что артефакты удалены.**"
   ]
  },
  {
   "cell_type": "code",
   "execution_count": 30,
   "id": "6ebc2538",
   "metadata": {},
   "outputs": [
    {
     "data": {
      "text/plain": [
       "array([42, 36, 33, 32, 53, 27, 43, 50, 35, 41, 40, 65, 54, 56, 26, 48, 24,\n",
       "       21, 57, 67, 28, 63, 62, 47, 34, 68, 25, 31, 30, 20, 49, 37, 45, 61,\n",
       "       64, 44, 52, 46, 23, 38, 39, 51, 59, 29, 60, 55, 58, 71, 22, 73, 66,\n",
       "       69, 19, 72, 70, 74, 75])"
      ]
     },
     "execution_count": 30,
     "metadata": {},
     "output_type": "execute_result"
    }
   ],
   "source": [
    "data['dob_years'].unique()"
   ]
  },
  {
   "cell_type": "markdown",
   "id": "69243767",
   "metadata": {},
   "source": [
    "**На основании диапазонов, указанных ниже, создадим в датафрейме `data` столбец `dob_years_category` с категориями:**\n",
    "\n",
    "- 18–25 — `'от 18 до 25'`;\n",
    "- 25–35 — `'от 25 до 35'`;\n",
    "- 35–45 — `'от 35 до 45'`;\n",
    "- 45–55 — `'от 45 до 55'`;\n",
    "- 55–65 — `'от 55 до 65'`;\n",
    "- 65 и выше — `'от 65 и выше'`."
   ]
  },
  {
   "cell_type": "code",
   "execution_count": 31,
   "id": "baf0664a",
   "metadata": {},
   "outputs": [],
   "source": [
    "def categorize_dob_years(dob_years):\n",
    "    try:\n",
    "        if 18 <= dob_years <= 25:\n",
    "            return 'от 18 до 25'\n",
    "        elif 25 <= dob_years <= 35:\n",
    "            return 'от 25 до 35'\n",
    "        elif 35 <= dob_years <= 45:\n",
    "            return 'от 35 до 45'\n",
    "        elif 45 <= dob_years <= 55:\n",
    "            return 'от 45 до 55'\n",
    "        elif 55 <= dob_years <= 65:\n",
    "            return 'от 55 до 65'\n",
    "        elif dob_years >= 65:\n",
    "            return 'от 65 и выше'\n",
    "    except:\n",
    "        pass"
   ]
  },
  {
   "cell_type": "code",
   "execution_count": 32,
   "id": "e14fb89a",
   "metadata": {},
   "outputs": [],
   "source": [
    "data['dob_years_category'] = data['dob_years'].apply(categorize_dob_years)"
   ]
  },
  {
   "cell_type": "markdown",
   "id": "27e74a32",
   "metadata": {},
   "source": [
    "**Исследуем слобец `debt` и проверим нет ли в нём ошибоных данных:**"
   ]
  },
  {
   "cell_type": "code",
   "execution_count": 33,
   "id": "d8b7c950",
   "metadata": {
    "scrolled": true
   },
   "outputs": [
    {
     "data": {
      "text/plain": [
       "array([0, 1])"
      ]
     },
     "execution_count": 33,
     "metadata": {},
     "output_type": "execute_result"
    }
   ],
   "source": [
    "data['debt'].unique()"
   ]
  },
  {
   "cell_type": "markdown",
   "id": "e25cab02",
   "metadata": {},
   "source": [
    "**Для начала посчитаем в процентном соотношении долю просроченных кредитов в зависимости от количества детей:**"
   ]
  },
  {
   "cell_type": "code",
   "execution_count": 34,
   "id": "503f329a",
   "metadata": {
    "scrolled": true
   },
   "outputs": [
    {
     "data": {
      "text/plain": [
       "children\n",
       "0    7.545824\n",
       "1    9.202838\n",
       "2    9.514468\n",
       "3    8.231707\n",
       "4    9.756098\n",
       "5    0.000000\n",
       "Name: debt, dtype: float64"
      ]
     },
     "metadata": {},
     "output_type": "display_data"
    }
   ],
   "source": [
    "display((data.groupby('children')['debt'].sum() / data.groupby('children')['debt'].count()) * 100)"
   ]
  },
  {
   "cell_type": "markdown",
   "id": "a6836c26",
   "metadata": {},
   "source": [
    "**Как видим, в среднем количество просроченных займов составляет 8%. Лишь у категории людей с 5 детьми она составляет 0%, но это вполне закономерно, т.к. количество семей с 5 детьми и более, ничтожно мало.**  \n",
    "**Первоначально можно сделать вывод, что количество детей не влияет на количество просроченных кредитов. У всех категорий в среднем она составляет 8%.**"
   ]
  },
  {
   "cell_type": "markdown",
   "id": "13006a3f",
   "metadata": {},
   "source": [
    "**Отобразим долю просроченных кредитов в зависимости от количества детей с учетом гендера заёмщика, в процентах:**"
   ]
  },
  {
   "cell_type": "code",
   "execution_count": 35,
   "id": "3028ec07",
   "metadata": {},
   "outputs": [
    {
     "data": {
      "text/html": [
       "<div>\n",
       "<style scoped>\n",
       "    .dataframe tbody tr th:only-of-type {\n",
       "        vertical-align: middle;\n",
       "    }\n",
       "\n",
       "    .dataframe tbody tr th {\n",
       "        vertical-align: top;\n",
       "    }\n",
       "\n",
       "    .dataframe thead th {\n",
       "        text-align: right;\n",
       "    }\n",
       "</style>\n",
       "<table border=\"1\" class=\"dataframe\">\n",
       "  <thead>\n",
       "    <tr style=\"text-align: right;\">\n",
       "      <th>gender</th>\n",
       "      <th>F</th>\n",
       "      <th>M</th>\n",
       "    </tr>\n",
       "    <tr>\n",
       "      <th>children</th>\n",
       "      <th></th>\n",
       "      <th></th>\n",
       "    </tr>\n",
       "  </thead>\n",
       "  <tbody>\n",
       "    <tr>\n",
       "      <th>0</th>\n",
       "      <td>6.219641</td>\n",
       "      <td>10.305427</td>\n",
       "    </tr>\n",
       "    <tr>\n",
       "      <th>1</th>\n",
       "      <td>7.905010</td>\n",
       "      <td>11.525029</td>\n",
       "    </tr>\n",
       "    <tr>\n",
       "      <th>2</th>\n",
       "      <td>10.745790</td>\n",
       "      <td>7.575758</td>\n",
       "    </tr>\n",
       "    <tr>\n",
       "      <th>3</th>\n",
       "      <td>8.717949</td>\n",
       "      <td>7.518797</td>\n",
       "    </tr>\n",
       "    <tr>\n",
       "      <th>4</th>\n",
       "      <td>3.571429</td>\n",
       "      <td>23.076923</td>\n",
       "    </tr>\n",
       "    <tr>\n",
       "      <th>5</th>\n",
       "      <td>0.000000</td>\n",
       "      <td>0.000000</td>\n",
       "    </tr>\n",
       "  </tbody>\n",
       "</table>\n",
       "</div>"
      ],
      "text/plain": [
       "gender            F          M\n",
       "children                      \n",
       "0          6.219641  10.305427\n",
       "1          7.905010  11.525029\n",
       "2         10.745790   7.575758\n",
       "3          8.717949   7.518797\n",
       "4          3.571429  23.076923\n",
       "5          0.000000   0.000000"
      ]
     },
     "metadata": {},
     "output_type": "display_data"
    }
   ],
   "source": [
    "display((data.pivot_table(index=['children'], columns='gender', values='debt', aggfunc='sum') / data.pivot_table(index=['children'], columns='gender', values='debt', aggfunc='count')) * 100)"
   ]
  },
  {
   "cell_type": "markdown",
   "id": "e4c63424",
   "metadata": {},
   "source": [
    "**При учёте гендера заёмщика, разница невозврата займа, между мужчинами и женщинами, иногда составляет 50%.**"
   ]
  },
  {
   "cell_type": "markdown",
   "id": "a4e2c6ad",
   "metadata": {
    "deletable": false,
    "id": "2cacfc4a"
   },
   "source": [
    "**Проведем более глубокий анализ.**  \n",
    "**Создадим сводную таблицу и посчитаем процент не погашенных займов от общего числа выданных займов в каждой возрастной категории, учитывая пол заемщика:**"
   ]
  },
  {
   "cell_type": "code",
   "execution_count": 36,
   "id": "3dc8a324",
   "metadata": {},
   "outputs": [
    {
     "data": {
      "text/html": [
       "<div>\n",
       "<style scoped>\n",
       "    .dataframe tbody tr th:only-of-type {\n",
       "        vertical-align: middle;\n",
       "    }\n",
       "\n",
       "    .dataframe tbody tr th {\n",
       "        vertical-align: top;\n",
       "    }\n",
       "\n",
       "    .dataframe thead th {\n",
       "        text-align: right;\n",
       "    }\n",
       "</style>\n",
       "<table border=\"1\" class=\"dataframe\">\n",
       "  <thead>\n",
       "    <tr style=\"text-align: right;\">\n",
       "      <th></th>\n",
       "      <th>dob_years_category</th>\n",
       "      <th>от 18 до 25</th>\n",
       "      <th>от 25 до 35</th>\n",
       "      <th>от 35 до 45</th>\n",
       "      <th>от 45 до 55</th>\n",
       "      <th>от 55 до 65</th>\n",
       "      <th>от 65 и выше</th>\n",
       "    </tr>\n",
       "    <tr>\n",
       "      <th>children</th>\n",
       "      <th>gender</th>\n",
       "      <th></th>\n",
       "      <th></th>\n",
       "      <th></th>\n",
       "      <th></th>\n",
       "      <th></th>\n",
       "      <th></th>\n",
       "    </tr>\n",
       "  </thead>\n",
       "  <tbody>\n",
       "    <tr>\n",
       "      <th rowspan=\"2\" valign=\"top\">0</th>\n",
       "      <th>F</th>\n",
       "      <td>8.387097</td>\n",
       "      <td>9.773260</td>\n",
       "      <td>6.767731</td>\n",
       "      <td>5.408271</td>\n",
       "      <td>4.844427</td>\n",
       "      <td>4.696673</td>\n",
       "    </tr>\n",
       "    <tr>\n",
       "      <th>M</th>\n",
       "      <td>13.176471</td>\n",
       "      <td>11.421099</td>\n",
       "      <td>10.591900</td>\n",
       "      <td>9.990575</td>\n",
       "      <td>8.135169</td>\n",
       "      <td>5.769231</td>\n",
       "    </tr>\n",
       "    <tr>\n",
       "      <th rowspan=\"2\" valign=\"top\">1</th>\n",
       "      <th>F</th>\n",
       "      <td>10.362694</td>\n",
       "      <td>9.488372</td>\n",
       "      <td>7.239057</td>\n",
       "      <td>6.220096</td>\n",
       "      <td>4.651163</td>\n",
       "      <td>3.571429</td>\n",
       "    </tr>\n",
       "    <tr>\n",
       "      <th>M</th>\n",
       "      <td>11.764706</td>\n",
       "      <td>12.878788</td>\n",
       "      <td>11.596639</td>\n",
       "      <td>9.246575</td>\n",
       "      <td>7.407407</td>\n",
       "      <td>20.000000</td>\n",
       "    </tr>\n",
       "    <tr>\n",
       "      <th rowspan=\"2\" valign=\"top\">2</th>\n",
       "      <th>F</th>\n",
       "      <td>15.384615</td>\n",
       "      <td>11.926606</td>\n",
       "      <td>9.297521</td>\n",
       "      <td>5.172414</td>\n",
       "      <td>16.666667</td>\n",
       "      <td>NaN</td>\n",
       "    </tr>\n",
       "    <tr>\n",
       "      <th>M</th>\n",
       "      <td>0.000000</td>\n",
       "      <td>8.750000</td>\n",
       "      <td>6.976744</td>\n",
       "      <td>7.843137</td>\n",
       "      <td>0.000000</td>\n",
       "      <td>NaN</td>\n",
       "    </tr>\n",
       "    <tr>\n",
       "      <th rowspan=\"2\" valign=\"top\">3</th>\n",
       "      <th>F</th>\n",
       "      <td>NaN</td>\n",
       "      <td>9.090909</td>\n",
       "      <td>8.571429</td>\n",
       "      <td>7.142857</td>\n",
       "      <td>0.000000</td>\n",
       "      <td>NaN</td>\n",
       "    </tr>\n",
       "    <tr>\n",
       "      <th>M</th>\n",
       "      <td>0.000000</td>\n",
       "      <td>6.250000</td>\n",
       "      <td>8.333333</td>\n",
       "      <td>10.000000</td>\n",
       "      <td>0.000000</td>\n",
       "      <td>NaN</td>\n",
       "    </tr>\n",
       "    <tr>\n",
       "      <th rowspan=\"2\" valign=\"top\">4</th>\n",
       "      <th>F</th>\n",
       "      <td>0.000000</td>\n",
       "      <td>6.250000</td>\n",
       "      <td>0.000000</td>\n",
       "      <td>0.000000</td>\n",
       "      <td>NaN</td>\n",
       "      <td>NaN</td>\n",
       "    </tr>\n",
       "    <tr>\n",
       "      <th>M</th>\n",
       "      <td>NaN</td>\n",
       "      <td>20.000000</td>\n",
       "      <td>20.000000</td>\n",
       "      <td>33.333333</td>\n",
       "      <td>NaN</td>\n",
       "      <td>NaN</td>\n",
       "    </tr>\n",
       "    <tr>\n",
       "      <th rowspan=\"2\" valign=\"top\">5</th>\n",
       "      <th>F</th>\n",
       "      <td>NaN</td>\n",
       "      <td>0.000000</td>\n",
       "      <td>0.000000</td>\n",
       "      <td>NaN</td>\n",
       "      <td>NaN</td>\n",
       "      <td>NaN</td>\n",
       "    </tr>\n",
       "    <tr>\n",
       "      <th>M</th>\n",
       "      <td>NaN</td>\n",
       "      <td>NaN</td>\n",
       "      <td>0.000000</td>\n",
       "      <td>NaN</td>\n",
       "      <td>0.000000</td>\n",
       "      <td>NaN</td>\n",
       "    </tr>\n",
       "  </tbody>\n",
       "</table>\n",
       "</div>"
      ],
      "text/plain": [
       "dob_years_category  от 18 до 25  от 25 до 35  от 35 до 45  от 45 до 55  \\\n",
       "children gender                                                          \n",
       "0        F             8.387097     9.773260     6.767731     5.408271   \n",
       "         M            13.176471    11.421099    10.591900     9.990575   \n",
       "1        F            10.362694     9.488372     7.239057     6.220096   \n",
       "         M            11.764706    12.878788    11.596639     9.246575   \n",
       "2        F            15.384615    11.926606     9.297521     5.172414   \n",
       "         M             0.000000     8.750000     6.976744     7.843137   \n",
       "3        F                  NaN     9.090909     8.571429     7.142857   \n",
       "         M             0.000000     6.250000     8.333333    10.000000   \n",
       "4        F             0.000000     6.250000     0.000000     0.000000   \n",
       "         M                  NaN    20.000000    20.000000    33.333333   \n",
       "5        F                  NaN     0.000000     0.000000          NaN   \n",
       "         M                  NaN          NaN     0.000000          NaN   \n",
       "\n",
       "dob_years_category  от 55 до 65  от 65 и выше  \n",
       "children gender                                \n",
       "0        F             4.844427      4.696673  \n",
       "         M             8.135169      5.769231  \n",
       "1        F             4.651163      3.571429  \n",
       "         M             7.407407     20.000000  \n",
       "2        F            16.666667           NaN  \n",
       "         M             0.000000           NaN  \n",
       "3        F             0.000000           NaN  \n",
       "         M             0.000000           NaN  \n",
       "4        F                  NaN           NaN  \n",
       "         M                  NaN           NaN  \n",
       "5        F                  NaN           NaN  \n",
       "         M             0.000000           NaN  "
      ]
     },
     "metadata": {},
     "output_type": "display_data"
    },
    {
     "data": {
      "text/plain": [
       "<AxesSubplot:xlabel='dob_years_category', ylabel='children-gender'>"
      ]
     },
     "execution_count": 36,
     "metadata": {},
     "output_type": "execute_result"
    },
    {
     "data": {
      "image/png": "[encoded data removed]",
      "text/plain": [
       "<Figure size 640x480 with 2 Axes>"
      ]
     },
     "metadata": {},
     "output_type": "display_data"
    }
   ],
   "source": [
    "# Посчитаем число просроченных займов в каждой категории и сохраним в таблицу 'debt_pivot'\n",
    "\n",
    "debt_pivot = data.pivot_table(index=['children', 'gender'], columns='dob_years_category', values='debt', aggfunc='sum')\n",
    "\n",
    "# Посчитаем общее число выданных займов в каждой категории  и сохраним в таблицу 'count_pivot'\n",
    "\n",
    "count_pivot = data.pivot_table(index=['children', 'gender'], columns='dob_years_category', values='debt', aggfunc='count')\n",
    "\n",
    "# Отобразим отношение просроченных займов к общему числу выданных займов, в процентах:\n",
    "\n",
    "display((debt_pivot / count_pivot) * 100)\n",
    "\n",
    "# Отобразим тепловую карту, для удобства ознакомления с данными\n",
    "\n",
    "sb.heatmap((debt_pivot / count_pivot) * 100)"
   ]
  },
  {
   "cell_type": "markdown",
   "id": "c8980d39",
   "metadata": {
    "deletable": false,
    "id": "3a6b99ec"
   },
   "source": [
    "**Вывод: Наблюдается прямая зависимость между количеством детей и возвратом кредита в срок.**\n",
    "\n",
    "**Лидерами по числу задолжностей являются категории людей `от 30 до 60 лет`, `обоих полов`, у которых `нет детей`.** \n",
    "\n",
    "**А также категория людей `от 30 до 40 лет`, `обоих полов`, с `1 ребенком`. В редких случаях, `мужчины` в возрасте `от 25 до 60` с `4-мя детьми`, склонны с `высокой вероятностью не возвращать займы`.** "
   ]
  },
  {
   "cell_type": "markdown",
   "id": "9ffd1a78",
   "metadata": {},
   "source": [
    "# Вывод: \n",
    "**Есть ли зависимость между количеством детей и возвратом кредита в срок?**  \n",
    "\n",
    "**Да, данная гипотеза частично подтверждена.**  \n",
    "**В среднем процент невозврата составляет `8%`, но разница между `мужчинами` и `женщинами` может достигать `50%`. Также следует обратить внимание на `мужчин` от `25 до 65` с `4 детьми`, с процентом невозврата `до 33%`. Более полно описывают нижеприведенные данные.**  \n",
    "\n",
    "**Вывод: Общий срез задолженностей в зависимости от количества детей показал следующие цифры, в процентах:**  \n",
    "  \n",
    " - 0 — `7.54`\n",
    " - 1 — `9.23`\n",
    " - 2 — `9.45`\n",
    " - 3 — `8.18`\n",
    " - 4 — `9.75`\n",
    " - 5 — `0`  \n",
    "  \n",
    "**Из полученных выше данных, видим, что `в среднем количество просроченных займов составляет 8%` и разнится от количества детей `в пределах 1-2%`. Первоначально, эти цифры дают на право сделать вывод, что количество детей не влияет на количество просроченных кредитов. У всех категорий в среднем она составляет 8%.**\n",
    "\n",
    "**При учете гендера заёмщика, получили следующие цифры, в процентах:**  \n",
    "\n",
    "**Кол-во детей — `женщины` — `мужчины`**\t\n",
    " - 0 — `6.21` — `10.30`\n",
    " - 1 — `7.90` — `11.52`\n",
    " - 2 — `10.74` — `7.57`\n",
    " - 3 — `8.71` — `7.51`\n",
    " - 4 — `3.57` — `23.07`\n",
    " - 5 — `0.00` — `0.00` \n",
    "  \n",
    "**Здесь мы можем сделать следующие выводы:**\n",
    " - **У `мужчин` `без детей`, а также `мужчин` с `1 ребенком`, процент невозврата составляет `10.30%` и `11.52%` соответственно, что на `4%` выше чем у `женщин` в той же категории `без детей`.**\n",
    " - **У `женщин` с `2 детьми`, процент невозврата составляет `10.74%`, что на `3.17%` выше чем у `мужчин` в той категории с `7.51%`.**\n",
    " - **У `мужчин` и `женщин` `3 детьми`, процент невозврата сопоставим и составляет `7.51%` и `8.71%` соответственно.**\n",
    " - **У `мужчин` с `4 детьми` наблюдается всплеск процента невозврата и составляет `23.07%`. У `женщин` в данной категории с `4 детьми` процент невозврата низкий и составляет `3.57%`.**  \n",
    "  \n",
    "**При более детальном анализе, мы можем увидеть следующее:**  \n",
    "  \n",
    " - **Высокий процент невозврата в `20%` у мужчин `от 25 до 45 лет`, с `4 детьми`.**\n",
    " - **Высокий процент невозврата в `33.3%` у мужчин `от 45 до 55 лет`, с `4 детьми`.**\n",
    " - **Высокий процент невозврата в `20%` у мужчин `от 65 лет и выше`, с `1 ребенком`.**  "
   ]
  },
  {
   "cell_type": "markdown",
   "id": "dacf90bc",
   "metadata": {
    "deletable": false,
    "editable": false,
    "id": "97be82ca"
   },
   "source": [
    "#### 3.2 Есть ли зависимость между семейным положением и возвратом кредита в срок?"
   ]
  },
  {
   "cell_type": "markdown",
   "id": "afbc1f4e",
   "metadata": {
    "deletable": false,
    "id": "dc3f7ee8"
   },
   "source": [
    "**Исследуем слобец `family_status` и проверим нет ли в нём ошибоных данных:**"
   ]
  },
  {
   "cell_type": "code",
   "execution_count": 37,
   "id": "9b52ef10",
   "metadata": {},
   "outputs": [
    {
     "data": {
      "text/plain": [
       "array(['женат / замужем', 'гражданский брак', 'вдовец / вдова',\n",
       "       'в разводе', 'Не женат / не замужем'], dtype=object)"
      ]
     },
     "execution_count": 37,
     "metadata": {},
     "output_type": "execute_result"
    }
   ],
   "source": [
    "data['family_status'].unique()"
   ]
  },
  {
   "cell_type": "code",
   "execution_count": 38,
   "id": "1fcd1d29",
   "metadata": {},
   "outputs": [],
   "source": [
    "# Приведем данные к одному регистру, чтобы не запутаться в дальнейшем\n",
    "\n",
    "data['family_status'] = data['family_status'].str.lower()"
   ]
  },
  {
   "cell_type": "markdown",
   "id": "26ece282",
   "metadata": {},
   "source": [
    "**Для начала посчитаем в процентном соотношении долю просроченных кредитов в зависимости от семейного положения:**"
   ]
  },
  {
   "cell_type": "code",
   "execution_count": 39,
   "id": "8945505f",
   "metadata": {},
   "outputs": [
    {
     "data": {
      "text/plain": [
       "family_status\n",
       "в разводе                7.124682\n",
       "вдовец / вдова           6.553911\n",
       "гражданский брак         9.314202\n",
       "женат / замужем          7.557521\n",
       "не женат / не замужем    9.784173\n",
       "Name: debt, dtype: float64"
      ]
     },
     "metadata": {},
     "output_type": "display_data"
    }
   ],
   "source": [
    "display((data.groupby('family_status')['debt'].sum() / data.groupby('family_status')['debt'].count()) * 100)"
   ]
  },
  {
   "cell_type": "markdown",
   "id": "a75f44a2",
   "metadata": {},
   "source": [
    "**Отметим категории `не женат / не замужем` и `гражданский брак`, количество просроченных займов которых составляет `9%`. У остальных `категорий` количество просроченных займов в среднем составляет `7%`.**"
   ]
  },
  {
   "cell_type": "markdown",
   "id": "013cf247",
   "metadata": {},
   "source": [
    "**Отобразим долю просроченных кредитов в зависимости от семейного статуса с учетом гендера заёмщика, в процентах:**"
   ]
  },
  {
   "cell_type": "code",
   "execution_count": 40,
   "id": "d96a2f5e",
   "metadata": {},
   "outputs": [
    {
     "data": {
      "text/html": [
       "<div>\n",
       "<style scoped>\n",
       "    .dataframe tbody tr th:only-of-type {\n",
       "        vertical-align: middle;\n",
       "    }\n",
       "\n",
       "    .dataframe tbody tr th {\n",
       "        vertical-align: top;\n",
       "    }\n",
       "\n",
       "    .dataframe thead th {\n",
       "        text-align: right;\n",
       "    }\n",
       "</style>\n",
       "<table border=\"1\" class=\"dataframe\">\n",
       "  <thead>\n",
       "    <tr style=\"text-align: right;\">\n",
       "      <th>gender</th>\n",
       "      <th>F</th>\n",
       "      <th>M</th>\n",
       "    </tr>\n",
       "    <tr>\n",
       "      <th>family_status</th>\n",
       "      <th></th>\n",
       "      <th></th>\n",
       "    </tr>\n",
       "  </thead>\n",
       "  <tbody>\n",
       "    <tr>\n",
       "      <th>в разводе</th>\n",
       "      <td>6.616052</td>\n",
       "      <td>8.949416</td>\n",
       "    </tr>\n",
       "    <tr>\n",
       "      <th>вдовец / вдова</th>\n",
       "      <td>5.723906</td>\n",
       "      <td>20.000000</td>\n",
       "    </tr>\n",
       "    <tr>\n",
       "      <th>гражданский брак</th>\n",
       "      <td>8.203125</td>\n",
       "      <td>11.728395</td>\n",
       "    </tr>\n",
       "    <tr>\n",
       "      <th>женат / замужем</th>\n",
       "      <td>6.812557</td>\n",
       "      <td>8.818342</td>\n",
       "    </tr>\n",
       "    <tr>\n",
       "      <th>не женат / не замужем</th>\n",
       "      <td>6.880466</td>\n",
       "      <td>14.460094</td>\n",
       "    </tr>\n",
       "  </tbody>\n",
       "</table>\n",
       "</div>"
      ],
      "text/plain": [
       "gender                        F          M\n",
       "family_status                             \n",
       "в разводе              6.616052   8.949416\n",
       "вдовец / вдова         5.723906  20.000000\n",
       "гражданский брак       8.203125  11.728395\n",
       "женат / замужем        6.812557   8.818342\n",
       "не женат / не замужем  6.880466  14.460094"
      ]
     },
     "metadata": {},
     "output_type": "display_data"
    }
   ],
   "source": [
    "display((data.pivot_table(index=['family_status'], columns='gender', values='debt', aggfunc='sum') / data.pivot_table(index=['family_status'], columns='gender', values='debt', aggfunc='count')) * 100)"
   ]
  },
  {
   "cell_type": "markdown",
   "id": "bec144f8",
   "metadata": {},
   "source": [
    "**В категории `вдовец / вдова`, `мужчины` с количеством просроченных займов в `20%`, в `4` раза превышают процент невозврата по сравненю с `женщинами` с `5.72%`.**  \n",
    "**Также в категории `не женат / не замужем`, `мужчины` с количеством просроченных займов в `14.4%`, в `2` раза превышают процент невозврата по сравненю с `женщинами` с `6.88%`.**  \n",
    "**У остальных `категорий` количество просроченных займов между `мужчинами` и `женщинами` в среднем `одинаково`.**"
   ]
  },
  {
   "cell_type": "markdown",
   "id": "6369247c",
   "metadata": {},
   "source": [
    "**Проведем более глубокий анализ.**  \n",
    "**Создадим сводную таблицу и посчитаем процент не погашенных займов от общего числа выданных займов в зависимости от семейного статуса, учитывая пол заемщика:**"
   ]
  },
  {
   "cell_type": "code",
   "execution_count": 41,
   "id": "4d167a7a",
   "metadata": {},
   "outputs": [
    {
     "data": {
      "text/html": [
       "<div>\n",
       "<style scoped>\n",
       "    .dataframe tbody tr th:only-of-type {\n",
       "        vertical-align: middle;\n",
       "    }\n",
       "\n",
       "    .dataframe tbody tr th {\n",
       "        vertical-align: top;\n",
       "    }\n",
       "\n",
       "    .dataframe thead th {\n",
       "        text-align: right;\n",
       "    }\n",
       "</style>\n",
       "<table border=\"1\" class=\"dataframe\">\n",
       "  <thead>\n",
       "    <tr style=\"text-align: right;\">\n",
       "      <th></th>\n",
       "      <th>family_status</th>\n",
       "      <th>в разводе</th>\n",
       "      <th>вдовец / вдова</th>\n",
       "      <th>гражданский брак</th>\n",
       "      <th>женат / замужем</th>\n",
       "      <th>не женат / не замужем</th>\n",
       "    </tr>\n",
       "    <tr>\n",
       "      <th>children</th>\n",
       "      <th>gender</th>\n",
       "      <th></th>\n",
       "      <th></th>\n",
       "      <th></th>\n",
       "      <th></th>\n",
       "      <th></th>\n",
       "    </tr>\n",
       "  </thead>\n",
       "  <tbody>\n",
       "    <tr>\n",
       "      <th rowspan=\"2\" valign=\"top\">0</th>\n",
       "      <th>F</th>\n",
       "      <td>7.040000</td>\n",
       "      <td>5.276382</td>\n",
       "      <td>7.046799</td>\n",
       "      <td>5.962171</td>\n",
       "      <td>6.184012</td>\n",
       "    </tr>\n",
       "    <tr>\n",
       "      <th>M</th>\n",
       "      <td>7.236842</td>\n",
       "      <td>21.739130</td>\n",
       "      <td>11.201867</td>\n",
       "      <td>8.705791</td>\n",
       "      <td>13.867822</td>\n",
       "    </tr>\n",
       "    <tr>\n",
       "      <th rowspan=\"2\" valign=\"top\">1</th>\n",
       "      <th>F</th>\n",
       "      <td>5.579399</td>\n",
       "      <td>8.333333</td>\n",
       "      <td>10.298507</td>\n",
       "      <td>7.154930</td>\n",
       "      <td>8.641975</td>\n",
       "    </tr>\n",
       "    <tr>\n",
       "      <th>M</th>\n",
       "      <td>10.256410</td>\n",
       "      <td>20.000000</td>\n",
       "      <td>15.360502</td>\n",
       "      <td>9.807209</td>\n",
       "      <td>18.699187</td>\n",
       "    </tr>\n",
       "    <tr>\n",
       "      <th rowspan=\"2\" valign=\"top\">2</th>\n",
       "      <th>F</th>\n",
       "      <td>7.272727</td>\n",
       "      <td>18.750000</td>\n",
       "      <td>9.836066</td>\n",
       "      <td>10.958904</td>\n",
       "      <td>12.500000</td>\n",
       "    </tr>\n",
       "    <tr>\n",
       "      <th>M</th>\n",
       "      <td>12.500000</td>\n",
       "      <td>0.000000</td>\n",
       "      <td>6.185567</td>\n",
       "      <td>7.550077</td>\n",
       "      <td>11.111111</td>\n",
       "    </tr>\n",
       "    <tr>\n",
       "      <th rowspan=\"2\" valign=\"top\">3</th>\n",
       "      <th>F</th>\n",
       "      <td>0.000000</td>\n",
       "      <td>0.000000</td>\n",
       "      <td>19.444444</td>\n",
       "      <td>7.246377</td>\n",
       "      <td>0.000000</td>\n",
       "    </tr>\n",
       "    <tr>\n",
       "      <th>M</th>\n",
       "      <td>33.333333</td>\n",
       "      <td>NaN</td>\n",
       "      <td>5.000000</td>\n",
       "      <td>6.422018</td>\n",
       "      <td>100.000000</td>\n",
       "    </tr>\n",
       "    <tr>\n",
       "      <th rowspan=\"2\" valign=\"top\">4</th>\n",
       "      <th>F</th>\n",
       "      <td>0.000000</td>\n",
       "      <td>0.000000</td>\n",
       "      <td>0.000000</td>\n",
       "      <td>0.000000</td>\n",
       "      <td>50.000000</td>\n",
       "    </tr>\n",
       "    <tr>\n",
       "      <th>M</th>\n",
       "      <td>NaN</td>\n",
       "      <td>NaN</td>\n",
       "      <td>0.000000</td>\n",
       "      <td>27.272727</td>\n",
       "      <td>NaN</td>\n",
       "    </tr>\n",
       "    <tr>\n",
       "      <th rowspan=\"2\" valign=\"top\">5</th>\n",
       "      <th>F</th>\n",
       "      <td>NaN</td>\n",
       "      <td>NaN</td>\n",
       "      <td>0.000000</td>\n",
       "      <td>0.000000</td>\n",
       "      <td>NaN</td>\n",
       "    </tr>\n",
       "    <tr>\n",
       "      <th>M</th>\n",
       "      <td>NaN</td>\n",
       "      <td>NaN</td>\n",
       "      <td>0.000000</td>\n",
       "      <td>0.000000</td>\n",
       "      <td>NaN</td>\n",
       "    </tr>\n",
       "  </tbody>\n",
       "</table>\n",
       "</div>"
      ],
      "text/plain": [
       "family_status    в разводе  вдовец / вдова  гражданский брак  женат / замужем  \\\n",
       "children gender                                                                 \n",
       "0        F        7.040000        5.276382          7.046799         5.962171   \n",
       "         M        7.236842       21.739130         11.201867         8.705791   \n",
       "1        F        5.579399        8.333333         10.298507         7.154930   \n",
       "         M       10.256410       20.000000         15.360502         9.807209   \n",
       "2        F        7.272727       18.750000          9.836066        10.958904   \n",
       "         M       12.500000        0.000000          6.185567         7.550077   \n",
       "3        F        0.000000        0.000000         19.444444         7.246377   \n",
       "         M       33.333333             NaN          5.000000         6.422018   \n",
       "4        F        0.000000        0.000000          0.000000         0.000000   \n",
       "         M             NaN             NaN          0.000000        27.272727   \n",
       "5        F             NaN             NaN          0.000000         0.000000   \n",
       "         M             NaN             NaN          0.000000         0.000000   \n",
       "\n",
       "family_status    не женат / не замужем  \n",
       "children gender                         \n",
       "0        F                    6.184012  \n",
       "         M                   13.867822  \n",
       "1        F                    8.641975  \n",
       "         M                   18.699187  \n",
       "2        F                   12.500000  \n",
       "         M                   11.111111  \n",
       "3        F                    0.000000  \n",
       "         M                  100.000000  \n",
       "4        F                   50.000000  \n",
       "         M                         NaN  \n",
       "5        F                         NaN  \n",
       "         M                         NaN  "
      ]
     },
     "metadata": {},
     "output_type": "display_data"
    },
    {
     "data": {
      "text/plain": [
       "<AxesSubplot:xlabel='family_status', ylabel='children-gender'>"
      ]
     },
     "execution_count": 41,
     "metadata": {},
     "output_type": "execute_result"
    },
    {
     "data": {
      "image/png": "[encoded data removed]",
      "text/plain": [
       "<Figure size 640x480 with 2 Axes>"
      ]
     },
     "metadata": {},
     "output_type": "display_data"
    }
   ],
   "source": [
    "# Посчитаем число просроченных займов займов и сохраним в таблицу 'sum_family_pivot'\n",
    "\n",
    "sum_family_pivot = data.pivot_table(index=['children', 'gender'], columns='family_status', values='debt', aggfunc='sum')\n",
    "\n",
    "# Посчитаем общее число выданных займов и сохраним в таблицу 'count_family_pivot'\n",
    "\n",
    "count_family_pivot = data.pivot_table(index=['children', 'gender'], columns='family_status', values='debt', aggfunc='count')\n",
    "\n",
    "# Отобразим отношение просроченных займов к общему числу выданных займов, в процентах:\n",
    "\n",
    "display((sum_family_pivot / count_family_pivot) * 100)\n",
    "\n",
    "# Отобразим тепловую карту, для удобства ознакомления с данными\n",
    "\n",
    "sb.heatmap((sum_family_pivot / count_family_pivot) * 100)"
   ]
  },
  {
   "cell_type": "markdown",
   "id": "5ff9801a",
   "metadata": {
    "deletable": false,
    "id": "1cef7837"
   },
   "source": [
    "**Вывод: Наблюдается прямая зависимость между семейным статусом и возвратом кредита в срок.**\n",
    "\n",
    "**`Лидерами по числу задолжнностей` являются категории людей с семейным статусом `женат / замужем`, `обоих полов`, у которых `нет детей`.**\n",
    "\n",
    "**Прослеживается общий тренд, что у категории людей `без детей`, `обоих полов`, находятся в `числе лицеров с задолженностями`.**\n",
    "\n",
    "**`Большое количество задолженностей` у категории людей с семейным статусом `гражданский брак, женат / замужем, не женат / не замужем`, `обоих полов`, у которых `1 или 2 ребенка`.** "
   ]
  },
  {
   "cell_type": "markdown",
   "id": "7d503850",
   "metadata": {},
   "source": [
    "# Вывод: \n",
    "**Есть ли зависимость между семейным положением и возвратом кредита в срок?**  \n",
    "\n",
    "**Да, данная гипотеза частично подтверждена.**  \n",
    "**У людей `не состоящих в браке` и `людей в гражданском браке`, вероятность стать должником на `26%` выше, чем у остальных `категорий` семейного статуса. Об этом свидетельствуют ниже приведенные данные.**  \n",
    "\n",
    "**Общий срез задолженностей в зависимости от семейного статуса показал следующие цифры, в процентах:** \n",
    "  \n",
    " - в разводе — `7.124682`\n",
    " - вдовец / вдова — `6.553911`\n",
    " - гражданский брак — `9.314202`\n",
    " - женат / замужем — `7.557521`\n",
    " - не женат / не замужем — `9.784173`\n",
    "  \n",
    "**Из полученных выше данных, видим, что в категории `не женат / не замужем` и `гражданский брак`, количество просроченных займов которых составляет `9%`. У остальных категорий количество просроченных займов в среднем составляет `7%`.**\n",
    "\n",
    "**При учете гендера заёмщика, получили следующие цифры, в процентах:**  \n",
    "\n",
    "**Семейный статус — `женщины` — `мужчины`**\t\n",
    " \n",
    " - в разводе — `6.616052` — `8.949416`\n",
    " - вдовец / вдова — `5.723906` — `20.000000`\n",
    " - гражданский брак — `8.203125` — `11.728395`\n",
    " - женат / замужем — `6.812557` — `8.818342`\n",
    " - не женат / не замужем — `6.880466` — `14.460094`\n",
    "  \n",
    "**Здесь мы можем сделать следующие выводы:**  \n",
    "\n",
    " - **В категории в`довец / вдова`, `мужчины` с количеством просроченных займов в `20%`, в `4 раза` превышают процент невозврата по сравненю с `женщинами` с `5.72%`.**\n",
    " - **В категории `не женат / не замужем`, `мужчины` с количеством просроченных займов в `14.4%`, в `2 раза` превышают процент невозврата по сравненю с `женщинами` с `6.88%`.**\n",
    " - **В остальных `категориях` количество просроченных займов между `мужчинами` и `женщинами` в среднем `одинаково`, с небольшим перекосом в сторону мужчин**\n",
    "  \n",
    "**При более детальном анализе, мы можем увидеть следующее:**  \n",
    "\n",
    " - **Прослеживается общий тренд, что у категории людей `без детей`, `обоих полов`, находятся в `числе лицеров с задолженностями`.**\n",
    "\n",
    " - **`Большое количество задолженностей` у категории людей с семейным статусом `гражданский брак, женат / замужем, не женат / не замужем`, `обоих полов`, у которых `1 или 2 ребенка`.** "
   ]
  },
  {
   "cell_type": "markdown",
   "id": "a205b511",
   "metadata": {
    "deletable": false,
    "editable": false,
    "id": "1e8b2fca"
   },
   "source": [
    "#### 3.3 Есть ли зависимость между уровнем дохода и возвратом кредита в срок?"
   ]
  },
  {
   "cell_type": "markdown",
   "id": "99cb8113",
   "metadata": {},
   "source": [
    "**Для начала посчитаем в процентном соотношении долю просроченных кредитов в зависимости от уровня дохода:**"
   ]
  },
  {
   "cell_type": "code",
   "execution_count": 42,
   "id": "475a30ef",
   "metadata": {},
   "outputs": [
    {
     "data": {
      "text/plain": [
       "total_income_category\n",
       "A    8.000000\n",
       "B    7.078404\n",
       "C    8.492649\n",
       "D    6.051873\n",
       "E    9.090909\n",
       "Name: debt, dtype: float64"
      ]
     },
     "metadata": {},
     "output_type": "display_data"
    }
   ],
   "source": [
    "display((data.groupby('total_income_category')['debt'].sum() / data.groupby('total_income_category')['debt'].count()) * 100)"
   ]
  },
  {
   "cell_type": "markdown",
   "id": "78d9627d",
   "metadata": {},
   "source": [
    "**Категория `E`, с самым низким уровнем дохода, имеет наивысшее количество просроченных займов`9%`. Наименьшее количество просроченных займов составляет `6%` в категории `D` с уровнем дохода от 30 000 до 50 000.**"
   ]
  },
  {
   "cell_type": "markdown",
   "id": "5723548a",
   "metadata": {},
   "source": [
    "**Отобразим долю просроченных кредитов в зависимости от уровня дохода с учетом гендера заёмщика, в процентах:**"
   ]
  },
  {
   "cell_type": "code",
   "execution_count": 43,
   "id": "35204bae",
   "metadata": {},
   "outputs": [
    {
     "data": {
      "text/html": [
       "<div>\n",
       "<style scoped>\n",
       "    .dataframe tbody tr th:only-of-type {\n",
       "        vertical-align: middle;\n",
       "    }\n",
       "\n",
       "    .dataframe tbody tr th {\n",
       "        vertical-align: top;\n",
       "    }\n",
       "\n",
       "    .dataframe thead th {\n",
       "        text-align: right;\n",
       "    }\n",
       "</style>\n",
       "<table border=\"1\" class=\"dataframe\">\n",
       "  <thead>\n",
       "    <tr style=\"text-align: right;\">\n",
       "      <th>gender</th>\n",
       "      <th>F</th>\n",
       "      <th>M</th>\n",
       "    </tr>\n",
       "    <tr>\n",
       "      <th>total_income_category</th>\n",
       "      <th></th>\n",
       "      <th></th>\n",
       "    </tr>\n",
       "  </thead>\n",
       "  <tbody>\n",
       "    <tr>\n",
       "      <th>A</th>\n",
       "      <td>0.000000</td>\n",
       "      <td>13.333333</td>\n",
       "    </tr>\n",
       "    <tr>\n",
       "      <th>B</th>\n",
       "      <td>6.042521</td>\n",
       "      <td>8.282741</td>\n",
       "    </tr>\n",
       "    <tr>\n",
       "      <th>C</th>\n",
       "      <td>7.312863</td>\n",
       "      <td>11.175377</td>\n",
       "    </tr>\n",
       "    <tr>\n",
       "      <th>D</th>\n",
       "      <td>4.901961</td>\n",
       "      <td>14.634146</td>\n",
       "    </tr>\n",
       "    <tr>\n",
       "      <th>E</th>\n",
       "      <td>12.500000</td>\n",
       "      <td>0.000000</td>\n",
       "    </tr>\n",
       "  </tbody>\n",
       "</table>\n",
       "</div>"
      ],
      "text/plain": [
       "gender                         F          M\n",
       "total_income_category                      \n",
       "A                       0.000000  13.333333\n",
       "B                       6.042521   8.282741\n",
       "C                       7.312863  11.175377\n",
       "D                       4.901961  14.634146\n",
       "E                      12.500000   0.000000"
      ]
     },
     "metadata": {},
     "output_type": "display_data"
    }
   ],
   "source": [
    "display((data.pivot_table(index=['total_income_category'], columns='gender', values='debt', aggfunc='sum') / data.pivot_table(index=['total_income_category'], columns='gender', values='debt', aggfunc='count')) * 100)"
   ]
  },
  {
   "cell_type": "markdown",
   "id": "df34c1e9",
   "metadata": {},
   "source": [
    "**В категории `E`, у `женщин` количество просроченных займов`12.5%`, а у `мужчин` с `0%`.**  \n",
    "**Обратные цифры в категории `А`, у `мужчин` количество просроченных займов`13.3%`, а у `женщин` `0%`.**  \n",
    "**Также в категориях `C` и `D`, `мужчины` с количеством просроченных займов в `11,1%` и `14,6%` соответственно, практически в `2` раза превышают процент невозврата по сравненю с `женщинами` в тех же `категориях`.**  \n",
    "**В целом заметен тренд, у всех `категорий` кроме `E`, количество просроченных займов у `мужчин` в среднем `выше` чем у `женщин`.**"
   ]
  },
  {
   "cell_type": "markdown",
   "id": "b974bec0",
   "metadata": {
    "deletable": false,
    "id": "cd7e3720"
   },
   "source": [
    "**Проведем более глубокий анализ.**  \n",
    "**Создадим сводную таблицу и посчитаем процент не погашенных займов от общего числа выданных займов в зависимости от категории дохода, учитывая пол заемщика:**"
   ]
  },
  {
   "cell_type": "code",
   "execution_count": 44,
   "id": "8bba5600",
   "metadata": {},
   "outputs": [
    {
     "data": {
      "text/html": [
       "<div>\n",
       "<style scoped>\n",
       "    .dataframe tbody tr th:only-of-type {\n",
       "        vertical-align: middle;\n",
       "    }\n",
       "\n",
       "    .dataframe tbody tr th {\n",
       "        vertical-align: top;\n",
       "    }\n",
       "\n",
       "    .dataframe thead th {\n",
       "        text-align: right;\n",
       "    }\n",
       "</style>\n",
       "<table border=\"1\" class=\"dataframe\">\n",
       "  <thead>\n",
       "    <tr style=\"text-align: right;\">\n",
       "      <th></th>\n",
       "      <th>total_income_category</th>\n",
       "      <th>A</th>\n",
       "      <th>B</th>\n",
       "      <th>C</th>\n",
       "      <th>D</th>\n",
       "      <th>E</th>\n",
       "    </tr>\n",
       "    <tr>\n",
       "      <th>children</th>\n",
       "      <th>gender</th>\n",
       "      <th></th>\n",
       "      <th></th>\n",
       "      <th></th>\n",
       "      <th></th>\n",
       "      <th></th>\n",
       "    </tr>\n",
       "  </thead>\n",
       "  <tbody>\n",
       "    <tr>\n",
       "      <th rowspan=\"2\" valign=\"top\">0</th>\n",
       "      <th>F</th>\n",
       "      <td>0.000000</td>\n",
       "      <td>5.485464</td>\n",
       "      <td>6.456396</td>\n",
       "      <td>3.809524</td>\n",
       "      <td>16.666667</td>\n",
       "    </tr>\n",
       "    <tr>\n",
       "      <th>M</th>\n",
       "      <td>16.666667</td>\n",
       "      <td>8.475783</td>\n",
       "      <td>11.111111</td>\n",
       "      <td>12.903226</td>\n",
       "      <td>0.000000</td>\n",
       "    </tr>\n",
       "    <tr>\n",
       "      <th rowspan=\"2\" valign=\"top\">1</th>\n",
       "      <th>F</th>\n",
       "      <td>0.000000</td>\n",
       "      <td>6.065858</td>\n",
       "      <td>8.477366</td>\n",
       "      <td>3.333333</td>\n",
       "      <td>0.000000</td>\n",
       "    </tr>\n",
       "    <tr>\n",
       "      <th>M</th>\n",
       "      <td>20.000000</td>\n",
       "      <td>9.028961</td>\n",
       "      <td>12.689902</td>\n",
       "      <td>33.333333</td>\n",
       "      <td>0.000000</td>\n",
       "    </tr>\n",
       "    <tr>\n",
       "      <th rowspan=\"2\" valign=\"top\">2</th>\n",
       "      <th>F</th>\n",
       "      <td>NaN</td>\n",
       "      <td>10.775862</td>\n",
       "      <td>10.670732</td>\n",
       "      <td>13.333333</td>\n",
       "      <td>0.000000</td>\n",
       "    </tr>\n",
       "    <tr>\n",
       "      <th>M</th>\n",
       "      <td>0.000000</td>\n",
       "      <td>6.037736</td>\n",
       "      <td>8.461538</td>\n",
       "      <td>0.000000</td>\n",
       "      <td>NaN</td>\n",
       "    </tr>\n",
       "    <tr>\n",
       "      <th rowspan=\"2\" valign=\"top\">3</th>\n",
       "      <th>F</th>\n",
       "      <td>NaN</td>\n",
       "      <td>5.000000</td>\n",
       "      <td>9.333333</td>\n",
       "      <td>20.000000</td>\n",
       "      <td>NaN</td>\n",
       "    </tr>\n",
       "    <tr>\n",
       "      <th>M</th>\n",
       "      <td>0.000000</td>\n",
       "      <td>4.166667</td>\n",
       "      <td>9.523810</td>\n",
       "      <td>NaN</td>\n",
       "      <td>NaN</td>\n",
       "    </tr>\n",
       "    <tr>\n",
       "      <th rowspan=\"2\" valign=\"top\">4</th>\n",
       "      <th>F</th>\n",
       "      <td>NaN</td>\n",
       "      <td>0.000000</td>\n",
       "      <td>4.545455</td>\n",
       "      <td>NaN</td>\n",
       "      <td>NaN</td>\n",
       "    </tr>\n",
       "    <tr>\n",
       "      <th>M</th>\n",
       "      <td>NaN</td>\n",
       "      <td>100.000000</td>\n",
       "      <td>16.666667</td>\n",
       "      <td>NaN</td>\n",
       "      <td>NaN</td>\n",
       "    </tr>\n",
       "    <tr>\n",
       "      <th rowspan=\"2\" valign=\"top\">5</th>\n",
       "      <th>F</th>\n",
       "      <td>NaN</td>\n",
       "      <td>0.000000</td>\n",
       "      <td>0.000000</td>\n",
       "      <td>0.000000</td>\n",
       "      <td>NaN</td>\n",
       "    </tr>\n",
       "    <tr>\n",
       "      <th>M</th>\n",
       "      <td>NaN</td>\n",
       "      <td>0.000000</td>\n",
       "      <td>0.000000</td>\n",
       "      <td>NaN</td>\n",
       "      <td>NaN</td>\n",
       "    </tr>\n",
       "  </tbody>\n",
       "</table>\n",
       "</div>"
      ],
      "text/plain": [
       "total_income_category          A           B          C          D          E\n",
       "children gender                                                              \n",
       "0        F              0.000000    5.485464   6.456396   3.809524  16.666667\n",
       "         M             16.666667    8.475783  11.111111  12.903226   0.000000\n",
       "1        F              0.000000    6.065858   8.477366   3.333333   0.000000\n",
       "         M             20.000000    9.028961  12.689902  33.333333   0.000000\n",
       "2        F                   NaN   10.775862  10.670732  13.333333   0.000000\n",
       "         M              0.000000    6.037736   8.461538   0.000000        NaN\n",
       "3        F                   NaN    5.000000   9.333333  20.000000        NaN\n",
       "         M              0.000000    4.166667   9.523810        NaN        NaN\n",
       "4        F                   NaN    0.000000   4.545455        NaN        NaN\n",
       "         M                   NaN  100.000000  16.666667        NaN        NaN\n",
       "5        F                   NaN    0.000000   0.000000   0.000000        NaN\n",
       "         M                   NaN    0.000000   0.000000        NaN        NaN"
      ]
     },
     "metadata": {},
     "output_type": "display_data"
    },
    {
     "data": {
      "text/plain": [
       "<AxesSubplot:xlabel='total_income_category', ylabel='children-gender'>"
      ]
     },
     "execution_count": 44,
     "metadata": {},
     "output_type": "execute_result"
    },
    {
     "data": {
      "image/png": "[encoded data removed]",
      "text/plain": [
       "<Figure size 640x480 with 2 Axes>"
      ]
     },
     "metadata": {},
     "output_type": "display_data"
    }
   ],
   "source": [
    "# Посчитаем число просроченных займов займов и сохраним в таблицу 'sum_total_income_category_pivot'\n",
    "\n",
    "sum_total_income_category_pivot = data.pivot_table(index=['children', 'gender'], columns='total_income_category', values='debt', aggfunc='sum')\n",
    "\n",
    "# Посчитаем общее число выданных займов и сохраним в таблицу 'count_family_pivot'\n",
    "\n",
    "count_total_income_category_pivot = data.pivot_table(index=['children', 'gender'], columns='total_income_category', values='debt', aggfunc='count')\n",
    "\n",
    "# Отобразим отношение просроченных займов к общему числу выданных займов, в процентах:\n",
    "\n",
    "display((sum_total_income_category_pivot / count_total_income_category_pivot) * 100)\n",
    "\n",
    "# Отобразим тепловую карту, для удобства ознакомления с данными\n",
    "\n",
    "sb.heatmap((sum_total_income_category_pivot / count_total_income_category_pivot) * 100)"
   ]
  },
  {
   "cell_type": "markdown",
   "id": "89100058",
   "metadata": {
    "deletable": false,
    "id": "e8593def"
   },
   "source": [
    "**Вывод: Наблюдается прямая зависимость от категории дохода и возврата кредита в срок.**  \n",
    "**`Лидерами по числу задолжнностей` являются категории `С`, `обоих полов`, у которых `нет детей`. Далее категории `С` с `1 или 2 детьми`.**  \n",
    "**`Большое количество задолженностей` у категории `В`, `обоих полов`, у которых `нет детей`. Далее категории `В` с `1 или 2 детьми`.**"
   ]
  },
  {
   "cell_type": "markdown",
   "id": "fd191b28",
   "metadata": {},
   "source": [
    "# Вывод: \n",
    "**Есть ли зависимость между уровнем дохода и возвратом кредита в срок?**  \n",
    "\n",
    "**Да, данная гипотеза подтверждена.**  \n",
    "**Категории людей с `низким доходом` имееют `наибольшее число задолженностей`. `Наименьшее` количество просроченных займов в категории `D` с уровнем дохода `от 30 000 до 50 000`. Об этом свидетельствуют ниже приведенные данные.**  \n",
    "\n",
    "**Напомним таблицу с категориями дохода:**  \n",
    "\n",
    "- 0–30000 — `'E'`;\n",
    "- 30001–50000 — `'D'`;\n",
    "- 50001–200000 — `'C'`;\n",
    "- 200001–1000000 — `'B'`;\n",
    "- 1000001 и выше — `'A'`.\n",
    "\n",
    "**Общий срез задолженностей в зависимости от уровня дохода показал следующие цифры, в процентах:**  \n",
    "  \n",
    " - A — `8.000000`\n",
    " - B — `7.078404`\n",
    " - C — `8.492649`\n",
    " - D — `6.051873`\n",
    " - E — `9.090909`\n",
    "  \n",
    "**Из полученных выше данных, видим, что категория `E`, с самым `низким уровнем дохода`, имеет наивысшее количество просроченных займов `9%`. `Наименьшее` количество просроченных займов составляет `6%` в категории `D` с уровнем дохода `от 30 000 до 50 000`.**\n",
    "\n",
    "**При учете гендера заёмщика, получили следующие цифры, в процентах:**  \n",
    "\n",
    "**Уровень дохода — `женщины` — `мужчины`**\t\n",
    " \n",
    " - A — `0.000000` — `13.333333`\n",
    " - B — `6.042521` — `8.282741`\n",
    " - C — `7.312863` — `11.175377`\n",
    " - D — `4.901961` — `14.634146`\n",
    " - E — `12.500000` — `0.000000`\n",
    "  \n",
    "**Здесь мы можем сделать следующие выводы:**  \n",
    "\n",
    " - **В категории `E`, у `женщин` количество просроченных займов`12.5%`, а у `мужчин` с `0%`.**  \n",
    " - **Обратные цифры в категории `А`, у `мужчин` количество просроченных займов`13.3%`, а у `женщин` `0%`.**  \n",
    " - **Также в категориях `C` и `D`, `мужчины` с количеством просроченных займов в `11,1%` и `14,6%` соответственно, практически в `2` раза превышают процент невозврата по сравненю с `женщинами` в тех же `категориях`.**  \n",
    " - **В целом заметен тренд, у всех `категорий` кроме `E`, количество просроченных займов у `мужчин` в среднем `выше` чем у `женщин`.**\n",
    "  \n",
    "**При более детальном анализе, мы можем увидеть следующее:**  \n",
    "\n",
    " - **`Мужчины` с доходом категории `B`, у которых `4 ребенка`, имеют `100%` просроченных займов!.**  \n",
    " - **`Мужчины` с доходом категории `D`, у которых `1 ребенок`, имеют `33%` просроченных займов.**  \n",
    " - **`Женщины` с доходом категории `D`, у которых `3 ребенка`, имеют `20%` просроченных займов.**  \n",
    " - **`Мужчины` с доходом категории `C`, у которых `4 ребенка`, имеют `16.6%` просроченных займов.**  \n",
    " - **`Мужчины` с доходом категории `A`, у которых `1 ребенок`, имеют `16.6%` просроченных займов.**  \n",
    " - **`Женщины` с доходом категории `A`, у которых `1 ребенок`, имеют `16.6%` просроченных займов.**  "
   ]
  },
  {
   "cell_type": "markdown",
   "id": "30557d58",
   "metadata": {
    "deletable": false,
    "editable": false,
    "id": "99ecbd1f"
   },
   "source": [
    "#### 3.4 Как разные цели кредита влияют на его возврат в срок?"
   ]
  },
  {
   "cell_type": "markdown",
   "id": "6f0a9e03",
   "metadata": {},
   "source": [
    "**Для начала посчитаем в процентном соотношении долю просроченных кредитов в зависимости от цели займа:**"
   ]
  },
  {
   "cell_type": "code",
   "execution_count": 45,
   "id": "e4c28c34",
   "metadata": {},
   "outputs": [
    {
     "data": {
      "text/plain": [
       "purpose_category\n",
       "операции с автомобилем      9.323626\n",
       "операции с недвижимостью    7.259647\n",
       "получение образования       9.294710\n",
       "проведение свадьбы          7.872988\n",
       "Name: debt, dtype: float64"
      ]
     },
     "metadata": {},
     "output_type": "display_data"
    }
   ],
   "source": [
    "display((data.groupby('purpose_category')['debt'].sum() / data.groupby('purpose_category')['debt'].count()) * 100)"
   ]
  },
  {
   "cell_type": "markdown",
   "id": "5d3445f6",
   "metadata": {},
   "source": [
    "**Отметим категории `операции с автомобилем` и `получение образования`, количество просроченных займов которых составляет `9.3%`. У остальных `категорий` количество просроченных займов в среднем составляет `7.4%`.**"
   ]
  },
  {
   "cell_type": "markdown",
   "id": "055db611",
   "metadata": {},
   "source": [
    "**Отобразим долю просроченных кредитов в зависимости от цели займи с учетом гендера заёмщика, в процентах:**"
   ]
  },
  {
   "cell_type": "code",
   "execution_count": 46,
   "id": "6b7769c1",
   "metadata": {},
   "outputs": [
    {
     "data": {
      "text/html": [
       "<div>\n",
       "<style scoped>\n",
       "    .dataframe tbody tr th:only-of-type {\n",
       "        vertical-align: middle;\n",
       "    }\n",
       "\n",
       "    .dataframe tbody tr th {\n",
       "        vertical-align: top;\n",
       "    }\n",
       "\n",
       "    .dataframe thead th {\n",
       "        text-align: right;\n",
       "    }\n",
       "</style>\n",
       "<table border=\"1\" class=\"dataframe\">\n",
       "  <thead>\n",
       "    <tr style=\"text-align: right;\">\n",
       "      <th>gender</th>\n",
       "      <th>F</th>\n",
       "      <th>M</th>\n",
       "    </tr>\n",
       "    <tr>\n",
       "      <th>purpose_category</th>\n",
       "      <th></th>\n",
       "      <th></th>\n",
       "    </tr>\n",
       "  </thead>\n",
       "  <tbody>\n",
       "    <tr>\n",
       "      <th>операции с автомобилем</th>\n",
       "      <td>8.103326</td>\n",
       "      <td>11.731844</td>\n",
       "    </tr>\n",
       "    <tr>\n",
       "      <th>операции с недвижимостью</th>\n",
       "      <td>6.313239</td>\n",
       "      <td>9.061313</td>\n",
       "    </tr>\n",
       "    <tr>\n",
       "      <th>получение образования</th>\n",
       "      <td>7.820805</td>\n",
       "      <td>12.200599</td>\n",
       "    </tr>\n",
       "    <tr>\n",
       "      <th>проведение свадьбы</th>\n",
       "      <td>6.865285</td>\n",
       "      <td>9.933775</td>\n",
       "    </tr>\n",
       "  </tbody>\n",
       "</table>\n",
       "</div>"
      ],
      "text/plain": [
       "gender                           F          M\n",
       "purpose_category                             \n",
       "операции с автомобилем    8.103326  11.731844\n",
       "операции с недвижимостью  6.313239   9.061313\n",
       "получение образования     7.820805  12.200599\n",
       "проведение свадьбы        6.865285   9.933775"
      ]
     },
     "metadata": {},
     "output_type": "display_data"
    }
   ],
   "source": [
    "display((data.pivot_table(index=['purpose_category'], columns='gender', values='debt', aggfunc='sum') / data.pivot_table(index=['purpose_category'], columns='gender', values='debt', aggfunc='count')) * 100)"
   ]
  },
  {
   "cell_type": "markdown",
   "id": "8b19fcf3",
   "metadata": {},
   "source": [
    "**В категории `операции с автомобилем`, `мужчины` с количеством просроченных займов в `11.73%`, на `3.63%` превышают процент невозврата по сравненю с `женщинами` с `8.10%`.**  \n",
    "**В категории `получение образования`, `мужчины` с количеством просроченных займов в `12.2%`, на `4.38%` превышают процент невозврата по сравненю с `женщинами` с `7.82%`.**  \n",
    "**В категориях `операции с недвижимостью` и `проведение свадьбы`, `мужчины` с количеством просроченных займов в `9.06%` и `9.93%`, на `2.75%` и `3.07%` превышают процент невозврата по сравненю с `женщинами` с `6.31%` и `6.86%`.**  \n",
    "**Во всех `категориях` количество просроченных займов между `мужчин` в среднем `выше` чем у `женщин`.**"
   ]
  },
  {
   "cell_type": "markdown",
   "id": "8238ed94",
   "metadata": {
    "deletable": false,
    "id": "2b687290"
   },
   "source": [
    "**Проведем более глубокий анализ.**  \n",
    "**Создадим сводную таблицу и посчитаем процент не погашенных займов от общего числа выданных займов в зависимости от цели займа, учитывая пол заемщика:**"
   ]
  },
  {
   "cell_type": "code",
   "execution_count": 47,
   "id": "54b4e016",
   "metadata": {},
   "outputs": [
    {
     "data": {
      "text/html": [
       "<div>\n",
       "<style scoped>\n",
       "    .dataframe tbody tr th:only-of-type {\n",
       "        vertical-align: middle;\n",
       "    }\n",
       "\n",
       "    .dataframe tbody tr th {\n",
       "        vertical-align: top;\n",
       "    }\n",
       "\n",
       "    .dataframe thead th {\n",
       "        text-align: right;\n",
       "    }\n",
       "</style>\n",
       "<table border=\"1\" class=\"dataframe\">\n",
       "  <thead>\n",
       "    <tr style=\"text-align: right;\">\n",
       "      <th></th>\n",
       "      <th>purpose_category</th>\n",
       "      <th>операции с автомобилем</th>\n",
       "      <th>операции с недвижимостью</th>\n",
       "      <th>получение образования</th>\n",
       "      <th>проведение свадьбы</th>\n",
       "    </tr>\n",
       "    <tr>\n",
       "      <th>children</th>\n",
       "      <th>gender</th>\n",
       "      <th></th>\n",
       "      <th></th>\n",
       "      <th></th>\n",
       "      <th></th>\n",
       "    </tr>\n",
       "  </thead>\n",
       "  <tbody>\n",
       "    <tr>\n",
       "      <th rowspan=\"2\" valign=\"top\">0</th>\n",
       "      <th>F</th>\n",
       "      <td>7.128099</td>\n",
       "      <td>5.590986</td>\n",
       "      <td>6.801574</td>\n",
       "      <td>6.374881</td>\n",
       "    </tr>\n",
       "    <tr>\n",
       "      <th>M</th>\n",
       "      <td>11.607143</td>\n",
       "      <td>9.020949</td>\n",
       "      <td>12.735849</td>\n",
       "      <td>9.829060</td>\n",
       "    </tr>\n",
       "    <tr>\n",
       "      <th rowspan=\"2\" valign=\"top\">1</th>\n",
       "      <th>F</th>\n",
       "      <td>9.271523</td>\n",
       "      <td>7.010835</td>\n",
       "      <td>9.059233</td>\n",
       "      <td>7.645260</td>\n",
       "    </tr>\n",
       "    <tr>\n",
       "      <th>M</th>\n",
       "      <td>12.784091</td>\n",
       "      <td>10.194731</td>\n",
       "      <td>13.058419</td>\n",
       "      <td>12.871287</td>\n",
       "    </tr>\n",
       "    <tr>\n",
       "      <th rowspan=\"2\" valign=\"top\">2</th>\n",
       "      <th>F</th>\n",
       "      <td>13.389121</td>\n",
       "      <td>9.904153</td>\n",
       "      <td>12.658228</td>\n",
       "      <td>6.896552</td>\n",
       "    </tr>\n",
       "    <tr>\n",
       "      <th>M</th>\n",
       "      <td>10.062893</td>\n",
       "      <td>6.516291</td>\n",
       "      <td>9.756098</td>\n",
       "      <td>2.857143</td>\n",
       "    </tr>\n",
       "    <tr>\n",
       "      <th rowspan=\"2\" valign=\"top\">3</th>\n",
       "      <th>F</th>\n",
       "      <td>7.894737</td>\n",
       "      <td>6.930693</td>\n",
       "      <td>7.894737</td>\n",
       "      <td>22.222222</td>\n",
       "    </tr>\n",
       "    <tr>\n",
       "      <th>M</th>\n",
       "      <td>9.090909</td>\n",
       "      <td>9.090909</td>\n",
       "      <td>3.225806</td>\n",
       "      <td>7.142857</td>\n",
       "    </tr>\n",
       "    <tr>\n",
       "      <th rowspan=\"2\" valign=\"top\">4</th>\n",
       "      <th>F</th>\n",
       "      <td>0.000000</td>\n",
       "      <td>7.692308</td>\n",
       "      <td>0.000000</td>\n",
       "      <td>0.000000</td>\n",
       "    </tr>\n",
       "    <tr>\n",
       "      <th>M</th>\n",
       "      <td>50.000000</td>\n",
       "      <td>25.000000</td>\n",
       "      <td>0.000000</td>\n",
       "      <td>0.000000</td>\n",
       "    </tr>\n",
       "    <tr>\n",
       "      <th rowspan=\"2\" valign=\"top\">5</th>\n",
       "      <th>F</th>\n",
       "      <td>0.000000</td>\n",
       "      <td>0.000000</td>\n",
       "      <td>0.000000</td>\n",
       "      <td>0.000000</td>\n",
       "    </tr>\n",
       "    <tr>\n",
       "      <th>M</th>\n",
       "      <td>0.000000</td>\n",
       "      <td>0.000000</td>\n",
       "      <td>NaN</td>\n",
       "      <td>NaN</td>\n",
       "    </tr>\n",
       "  </tbody>\n",
       "</table>\n",
       "</div>"
      ],
      "text/plain": [
       "purpose_category  операции с автомобилем  операции с недвижимостью  \\\n",
       "children gender                                                      \n",
       "0        F                      7.128099                  5.590986   \n",
       "         M                     11.607143                  9.020949   \n",
       "1        F                      9.271523                  7.010835   \n",
       "         M                     12.784091                 10.194731   \n",
       "2        F                     13.389121                  9.904153   \n",
       "         M                     10.062893                  6.516291   \n",
       "3        F                      7.894737                  6.930693   \n",
       "         M                      9.090909                  9.090909   \n",
       "4        F                      0.000000                  7.692308   \n",
       "         M                     50.000000                 25.000000   \n",
       "5        F                      0.000000                  0.000000   \n",
       "         M                      0.000000                  0.000000   \n",
       "\n",
       "purpose_category  получение образования  проведение свадьбы  \n",
       "children gender                                              \n",
       "0        F                     6.801574            6.374881  \n",
       "         M                    12.735849            9.829060  \n",
       "1        F                     9.059233            7.645260  \n",
       "         M                    13.058419           12.871287  \n",
       "2        F                    12.658228            6.896552  \n",
       "         M                     9.756098            2.857143  \n",
       "3        F                     7.894737           22.222222  \n",
       "         M                     3.225806            7.142857  \n",
       "4        F                     0.000000            0.000000  \n",
       "         M                     0.000000            0.000000  \n",
       "5        F                     0.000000            0.000000  \n",
       "         M                          NaN                 NaN  "
      ]
     },
     "metadata": {},
     "output_type": "display_data"
    },
    {
     "data": {
      "text/plain": [
       "<AxesSubplot:xlabel='purpose_category', ylabel='children-gender'>"
      ]
     },
     "execution_count": 47,
     "metadata": {},
     "output_type": "execute_result"
    },
    {
     "data": {
      "image/png": "[encoded data removed]",
      "text/plain": [
       "<Figure size 640x480 with 2 Axes>"
      ]
     },
     "metadata": {},
     "output_type": "display_data"
    }
   ],
   "source": [
    "# Посчитаем число просроченных займов займов и сохраним в таблицу 'sum_purpose_category_pivot'\n",
    "\n",
    "sum_purpose_category_pivot = data.pivot_table(index=['children', 'gender'], columns='purpose_category', values='debt', aggfunc='sum')\n",
    "\n",
    "# Посчитаем общее число выданных займов и сохраним в таблицу 'count_purpose_category_pivot'\n",
    "\n",
    "count_purpose_category_pivot = data.pivot_table(index=['children', 'gender'], columns='purpose_category', values='debt', aggfunc='count')\n",
    "\n",
    "# Отобразим отношение просроченных займов к общему числу выданных займов, в процентах:\n",
    "\n",
    "display((sum_purpose_category_pivot / count_purpose_category_pivot) * 100)\n",
    "\n",
    "# Отобразим тепловую карту, для удобства ознакомления с данными\n",
    "\n",
    "sb.heatmap((sum_purpose_category_pivot / count_purpose_category_pivot) * 100)"
   ]
  },
  {
   "cell_type": "markdown",
   "id": "67fc5821",
   "metadata": {
    "deletable": false,
    "id": "b4bb2ce6"
   },
   "source": [
    "**Вывод: Наблюдается прямая зависимость от цели займа и возврата кредита в срок.**  \n",
    "**`Лидерами по числу задолжнностей` являются цели `операции с недвижимостью`, `операции с автомобилем`, `получение образования`, категории людей, `обоих полов`, у которых `нет детей`.**  \n",
    "**`Большое количество задолженностей` у целей `операции с недвижимостью`, `операции с автомобилем`, `получение образования`, категории людей, `обоих полов`, у которых `1 или 2 детей`.**  \n",
    "**Также необходимо отметить цель `проведение свадьбы` категории людей, `обоих полов`, у которых `нет детей` и `1 или 2 детьми` соответсвенно.**"
   ]
  },
  {
   "cell_type": "markdown",
   "id": "54b40e1a",
   "metadata": {},
   "source": [
    "# Вывод: \n",
    "**Есть ли зависимость между семейным положением и возвратом кредита в срок?**  \n",
    "\n",
    "**Да, данная гипотеза подтверждена.**  \n",
    "**Об этом свидетельствуют ниже приведенные данные.**  \n",
    "\n",
    "**Общий срез задолженностей в зависимости от цели займа показал следующие цифры, в процентах:**  \n",
    "  \n",
    " - операции с автомобилем — `9.323626`\n",
    " - операции с недвижимостью — `7.259647`\n",
    " - получение образования — `9.294710`\n",
    " - проведение свадьбы — `7.872988`\n",
    "  \n",
    "**Из полученных выше данных, видим, что в категории `операции с автомобилем` и `получение образования`, количество просроченных займов которых составляет `9.3%`. У остальных `категорий` количество просроченных займов в среднем составляет `7.4%`.**\n",
    "\n",
    "**При учете гендера заёмщика, получили следующие цифры, в процентах:**  \n",
    "\n",
    "**Цели займа — `женщины` — `мужчины`**\t\n",
    " \n",
    " - операции с автомобилем — `8.103326` — `11.731844`\n",
    " - операции с недвижимостью — `6.313239` — `9.061313`\n",
    " - получение образования — `7.820805` — `12.200599`\n",
    " - проведение свадьбы — `6.865285` — `9.933775`\n",
    "  \n",
    "**Здесь мы можем сделать следующие выводы:**  \n",
    "  \n",
    " - **В категории `операции с автомобилем`, `мужчины` с количеством просроченных займов в `11.73%`, на `3.63%` превышают процент невозврата по сравненю с `женщинами` с `8.10%`.**  \n",
    " - **В категории `получение образования`, `мужчины` с количеством просроченных займов в `12.2%`, на `4.38%` превышают процент невозврата по сравненю с `женщинами` с `7.82%`.**  \n",
    " - **В категориях `операции с недвижимостью` и `проведение свадьбы`, `мужчины` с количеством просроченных займов в `9.06%` и `9.93%`, на `2.75%` и `3.07%` превышают процент невозврата по сравненю с `женщинами` с `6.31%` и `6.86%`.**  \n",
    " - **Во всех `категориях` количество просроченных займов между `мужчин` в среднем `выше` чем у `женщин`.**\n",
    "  \n",
    "**При более детальном анализе, мы можем увидеть следующее:**  \n",
    "\n",
    " - **`Мужчины` с целью займа `операции с автомобилем`, у которых `4 ребенка`, имеют `50%` просроченных займов.**  \n",
    " - **`Мужчины` с целью займа `операции с недвижимостью`, у которых `4 ребенка`, имеют `25%` просроченных займов.**  \n",
    " - **`Женщины` с целью займа `проведение свадьбы`, у которых `3 ребенка`, имеют `22%` просроченных займов.**  \n",
    " - **`Женщины` с целью займа `операции с автомобилем` и `получение образования`, у которых `2 ребенка`, имеют `13.3%` и `12.6%` просроченных займов соответственно.**  \n",
    " - **`Мужчины` `независимо от цели займа`, у которых `1 ребенок`, имеют в среднем `12%` просроченных займов.**  \n",
    " - **`Мужчины` с целью займа `операции с автомобилем`, у которых `4 ребенка`, имеют `50%` просроченных займов.**  "
   ]
  },
  {
   "cell_type": "markdown",
   "id": "c3b1d17a",
   "metadata": {
    "deletable": false,
    "editable": false,
    "id": "09c3ac4c"
   },
   "source": [
    "#### 3.5 Приведите возможные причины появления пропусков в исходных данных."
   ]
  },
  {
   "cell_type": "markdown",
   "id": "ce1bb411",
   "metadata": {
    "deletable": false,
    "id": "9da2ceda"
   },
   "source": [
    "*Ответ: На мой взгляд основные причины пропусков могут быть в следствии технических причин, например при получении, переносе, объединении данных и т.п. причин. А также причиной может стать человеческий фактор, например ошибочное заполнение данных.* "
   ]
  },
  {
   "cell_type": "markdown",
   "id": "ca4d276d",
   "metadata": {
    "id": "9da2ceda"
   },
   "source": [
    "*Ответ: Пропуски в колонке `'days_employed'` скорее всего вызваны ошибкой при выгрузке данных. Косвенного это подтверждается тем, что большое количество данных в этой колонке с `отрицательным значением`. Количество пропусков в колонке `'total_income'` равно количеству пропусков в колонке `'days_employed'`. Предполагаю, что `причина` пропусков в этих колонках `одинакова`* "
   ]
  },
  {
   "cell_type": "markdown",
   "id": "911c8081",
   "metadata": {
    "deletable": false,
    "editable": false,
    "id": "7b0487d6"
   },
   "source": [
    "#### 3.6 Объясните, почему заполнить пропуски медианным значением — лучшее решение для количественных переменных."
   ]
  },
  {
   "cell_type": "markdown",
   "id": "a6d2b8f3",
   "metadata": {
    "deletable": false,
    "id": "7ecf2b8e"
   },
   "source": [
    "*Ответ: Я считаю, медианное значение - не является однозначно лучшим решением для заполнения пропущенных значений. Если прослеживается нормальная кривая заполнения данных, лучше использовать среднее значение. Медиана больше подходит, если есть большой разброс данных.* "
   ]
  },
  {
   "cell_type": "markdown",
   "id": "fe27aaf8",
   "metadata": {
    "deletable": false,
    "editable": false,
    "id": "6db5255a"
   },
   "source": [
    "### Шаг 4: общий вывод."
   ]
  },
  {
   "cell_type": "markdown",
   "id": "febcd8e9",
   "metadata": {
    "deletable": false,
    "id": "bad65432"
   },
   "source": [
    "**Учитывая промежуточные выводы по проекту, явно можно проследить закономерность того, что больше всего `имеют задолжности по займам` люди, `не имеющие детей`, в возрасте `от 30 до 60 лет`, состоящие в `официальном браке`, имеющие `доход от 50 000 до 200 000` у.е., целью займа которых является `операции с недвижимостью`.**"
   ]
  },
  {
   "cell_type": "markdown",
   "id": "b31c2210",
   "metadata": {},
   "source": [
    "# Общий вывод:  \n",
    "\n",
    "***Описание проекта***\n",
    "  \n",
    "**Заказчик — кредитный отдел банка. Нужно разобраться, влияет ли семейное положение и количество детей клиента на факт погашения кредита в срок. Входные данные от банка — статистика о платёжеспособности клиентов.\n",
    "Результаты исследования будут учтены при построении модели кредитного скоринга — специальной системы, которая оценивает способность потенциального заёмщика вернуть кредит банку.**  \n",
    "  \n",
    "# Задача 1. Выяснить, есть ли зависимость между количеством детей и возвратом кредита в срок?  \n",
    "\n",
    "# Ответ: Да, данная гипотеза частично подтверждена.  \n",
    "\n",
    "**В среднем процент невозврата составляет `8%`, но разница между `мужчинами` и `женщинами` может достигать `50%`. Также следует обратить внимание на `мужчин` от `25 до 65` с `4 детьми`, с процентом невозврата `до 33%`. Более полно описывают нижеприведенные данные.**  \n",
    "\n",
    "**Вывод: Общий срез задолженностей в зависимости от количества детей показал следующие цифры, в процентах:**  \n",
    "  \n",
    " - 0 — `7.54`\n",
    " - 1 — `9.23`\n",
    " - 2 — `9.45`\n",
    " - 3 — `8.18`\n",
    " - 4 — `9.75`\n",
    " - 5 — `0`  \n",
    "  \n",
    "**Из полученных выше данных, видим, что `в среднем количество просроченных займов составляет 8%` и разнится от количества детей `в пределах 1-2%`. Первоначально, эти цифры дают на право сделать вывод, что количество детей не влияет на количество просроченных кредитов. У всех категорий в среднем она составляет 8%.**\n",
    "\n",
    "**При учете гендера заёмщика, получили следующие цифры, в процентах:**  \n",
    "\n",
    "**Кол-во детей — `женщины` — `мужчины`**\t\n",
    " - 0 — `6.21` — `10.30`\n",
    " - 1 — `7.90` — `11.52`\n",
    " - 2 — `10.74` — `7.57`\n",
    " - 3 — `8.71` — `7.51`\n",
    " - 4 — `3.57` — `23.07`\n",
    " - 5 — `0.00` — `0.00` \n",
    "  \n",
    "**Здесь мы можем сделать следующие выводы:**\n",
    " - **У `мужчин` `без детей`, а также `мужчин` с `1 ребенком`, процент невозврата составляет `10.30%` и `11.52%` соответственно, что на `4%` выше чем у `женщин` в той же категории `без детей`.**\n",
    " - **У `женщин` с `2 детьми`, процент невозврата составляет `10.74%`, что на `3.17%` выше чем у `мужчин` в той категории с `7.51%`.**\n",
    " - **У `мужчин` и `женщин` `3 детьми`, процент невозврата сопоставим и составляет `7.51%` и `8.71%` соответственно.**\n",
    " - **У `мужчин` с `4 детьми` наблюдается всплеск процента невозврата и в среднем составляет `23.07%`. У `женщин` в данной категории с `4 детьми` процент невозврата низкий и составляет `3.57%`.**  \n",
    "  \n",
    "**При более детальном анализе, мы можем увидеть следующее:**  \n",
    "  \n",
    " - **Высокий процент невозврата в `20%` у мужчин `от 25 до 45 лет`, с `4 детьми`.**\n",
    " - **Высокий процент невозврата в `33.3%` у мужчин `от 45 до 55 лет`, с `4 детьми`.**\n",
    " - **Высокий процент невозврата в `20%` у мужчин `от 65 лет и выше`, с `1 ребенком`.**  \n",
    " \n",
    "# Рекомендации:\n",
    "\n",
    " - **Обратить внимание на `мужчин` с `4 детьми`. В данной категории наблюдается всплеск процента невозврата и в среднем составляет `23.07%`. Следует провести дополнительное исследование на большей выборке данных.**\n",
    "  \n",
    "  \n",
    " \n",
    "# Задача 2. Выяснить, есть ли зависимость между семейным положением и возвратом кредита в срок?  \n",
    "\n",
    "# Ответ: Да, данная гипотеза частично подтверждена.  \n",
    "\n",
    "**У людей `не состоящих в браке` и `людей в гражданском браке`, вероятность стать должником на `26%` выше, чем у остальных `категорий` семейного статуса. Об этом свидетельствуют ниже приведенные данные.**  \n",
    "\n",
    "**Общий срез задолженностей в зависимости от семейного статуса показал следующие цифры, в процентах:**  \n",
    "  \n",
    " - в разводе — `7.124682`\n",
    " - вдовец / вдова — `6.553911`\n",
    " - гражданский брак — `9.314202`\n",
    " - женат / замужем — `7.557521`\n",
    " - не женат / не замужем — `9.784173`\n",
    "  \n",
    "**Из полученных выше данных, видим, что в категории `не женат / не замужем` и `гражданский брак`, количество просроченных займов которых составляет `9%`. У остальных категорий количество просроченных займов в среднем составляет `7%`.**\n",
    "\n",
    "**При учете гендера заёмщика, получили следующие цифры, в процентах:**  \n",
    "\n",
    "**Семейный статус — `женщины` — `мужчины`**\t\n",
    " \n",
    " - в разводе — `6.616052` — `8.949416`\n",
    " - вдовец / вдова — `5.723906` — `20.000000`\n",
    " - гражданский брак — `8.203125` — `11.728395`\n",
    " - женат / замужем — `6.812557` — `8.818342`\n",
    " - не женат / не замужем — `6.880466` — `14.460094`\n",
    "  \n",
    "**Здесь мы можем сделать следующие выводы:**  \n",
    "\n",
    " - **В категории в`довец / вдова`, `мужчины` с количеством просроченных займов в `20%`, в `4 раза` превышают процент невозврата по сравненю с `женщинами` с `5.72%`.**\n",
    " - **В категории `не женат / не замужем`, `мужчины` с количеством просроченных займов в `14.4%`, в `2 раза` превышают процент невозврата по сравненю с `женщинами` с `6.88%`.**\n",
    " - **В остальных `категориях` количество просроченных займов между `мужчинами` и `женщинами` в среднем `одинаково`, с небольшим перекосом в сторону мужчин**\n",
    "  \n",
    "**При более детальном анализе, мы можем увидеть следующее:**  \n",
    "\n",
    " - **Прослеживается общий тренд, что у категории людей `без детей`, `обоих полов`, находятся в `числе лицеров с задолженностями`.**\n",
    "\n",
    " - **`Большое количество задолженностей` у категории людей с семейным статусом `гражданский брак, женат / замужем, не женат / не замужем`, `обоих полов`, у которых `1 или 2 ребенка`.**  \n",
    "\n",
    "# Рекомендации:\n",
    "\n",
    " - **Стоит обратить внимание на категории людей`не состоящих в браке` и `людей в гражданском браке`. Вероятность стать должником у данных категорий на `26%` выше, чем у остальных `категорий` семейного статуса.**\n",
    "  \n",
    "  \n",
    "# Задача 3. Выяснить, есть ли зависимость между уровнем дохода и возвратом кредита в срок?**  \n",
    "\n",
    "# Ответ: Да, данная гипотеза подтверждена.  \n",
    "  \n",
    "**Категории людей с `низким доходом` имееют `наибольшее число задолженностей`.**  \n",
    "**`Наименьшее` количество просроченных займов в категории `D` с уровнем дохода `от 30 000 до 50 000`. Об этом свидетельствуют ниже приведенные данные.**  \n",
    "\n",
    "**Напомним таблицу с категориями дохода:**  \n",
    "\n",
    "- 0–30000 — `'E'`;\n",
    "- 30001–50000 — `'D'`;\n",
    "- 50001–200000 — `'C'`;\n",
    "- 200001–1000000 — `'B'`;\n",
    "- 1000001 и выше — `'A'`.\n",
    "\n",
    "**Общий срез задолженностей в зависимости от уровня дохода показал следующие цифры, в процентах:**  \n",
    "  \n",
    " - A — `8.000000`\n",
    " - B — `7.078404`\n",
    " - C — `8.492649`\n",
    " - D — `6.051873`\n",
    " - E — `9.090909`\n",
    "  \n",
    "**Из полученных выше данных, видим, что категория `E`, с самым `низким уровнем дохода`, имеет наивысшее количество просроченных займов `9%`. `Наименьшее` количество просроченных займов составляет `6%` в категории `D` с уровнем дохода `от 30 000 до 50 000`.**\n",
    "\n",
    "**При учете гендера заёмщика, получили следующие цифры, в процентах:**  \n",
    "\n",
    "**Уровень дохода — `женщины` — `мужчины`**\t\n",
    " \n",
    " - A — `0.000000` — `13.333333`\n",
    " - B — `6.042521` — `8.282741`\n",
    " - C — `7.312863` — `11.175377`\n",
    " - D — `4.901961` — `14.634146`\n",
    " - E — `12.500000` — `0.000000`\n",
    "  \n",
    "**Здесь мы можем сделать следующие выводы:**  \n",
    "\n",
    " - **В категории `E`, у `женщин` количество просроченных займов`12.5%`, а у `мужчин` с `0%`.**  \n",
    " - **Обратные цифры в категории `А`, у `мужчин` количество просроченных займов`13.3%`, а у `женщин` `0%`.**  \n",
    " - **Также в категориях `C` и `D`, `мужчины` с количеством просроченных займов в `11,1%` и `14,6%` соответственно, практически в `2` раза превышают процент невозврата по сравненю с `женщинами` в тех же `категориях`.**  \n",
    " - **В целом заметен тренд, у всех `категорий` кроме `E`, количество просроченных займов у `мужчин` в среднем `выше` чем у `женщин`.**\n",
    "  \n",
    "**При более детальном анализе, мы можем увидеть следующее:**  \n",
    "\n",
    " - **`Мужчины` с доходом категории `B`, у которых `4 ребенка`, имеют `100%` просроченных займов!.**  \n",
    " - **`Мужчины` с доходом категории `D`, у которых `1 ребенок`, имеют `33%` просроченных займов.**  \n",
    " - **`Женщины` с доходом категории `D`, у которых `3 ребенка`, имеют `20%` просроченных займов.**  \n",
    " - **`Мужчины` с доходом категории `C`, у которых `4 ребенка`, имеют `16.6%` просроченных займов.**  \n",
    " - **`Мужчины` с доходом категории `A`, у которых `1 ребенок`, имеют `16.6%` просроченных займов.**  \n",
    " - **`Женщины` с доходом категории `A`, у которых `1 ребенок`, имеют `16.6%` просроченных займов.**  \n",
    " \n",
    "# Рекомендации:\n",
    "\n",
    " - **Необходимо обратить внимание на категории людей с `низким доходом`. Они имееют `наибольшее число задолженностей`.**  \n",
    " - **Учесть в дальнейшем, что `наименьшее` количество просроченных займов составляет `6%` в категории `D` с уровнем дохода `от 30 000 до 50 000`**  \n",
    " - **`Мужчины` с доходом категориях `A`, `B`, `C`, `D`, у которых `1, 4 ребенка`, имеют `высокий процент` просроченных займов. Следует провести дополнительное исследование на большей выборке данных.**  \n",
    "  \n",
    "  \n",
    "# Задача 4. Выяснить, есть ли зависимость между семейным положением и возвратом кредита в срок?  \n",
    "\n",
    "# Ответ: Да, данная гипотеза подтверждена.  \n",
    "  \n",
    "**Об этом свидетельствуют ниже приведенные данные.**  \n",
    "\n",
    "**Общий срез задолженностей в зависимости от цели займа показал следующие цифры, в процентах:**  \n",
    "  \n",
    " - операции с автомобилем — `9.323626`\n",
    " - операции с недвижимостью — `7.259647`\n",
    " - получение образования — `9.294710`\n",
    " - проведение свадьбы — `7.872988`\n",
    "  \n",
    "**Из полученных выше данных, видим, что в категории `операции с автомобилем` и `получение образования`, количество просроченных займов которых составляет `9.3%`. У остальных `категорий` количество просроченных займов в среднем составляет `7.4%`.**\n",
    "\n",
    "**При учете гендера заёмщика, получили следующие цифры, в процентах:**  \n",
    "\n",
    "**Цели займа — `женщины` — `мужчины`**\t\n",
    " \n",
    " - операции с автомобилем — `8.103326` — `11.731844`\n",
    " - операции с недвижимостью — `6.313239` — `9.061313`\n",
    " - получение образования — `7.820805` — `12.200599`\n",
    " - проведение свадьбы — `6.865285` — `9.933775`\n",
    "  \n",
    "**Здесь мы можем сделать следующие выводы:**  \n",
    "  \n",
    " - **В категории `операции с автомобилем`, `мужчины` с количеством просроченных займов в `11.73%`, на `3.63%` превышают процент невозврата по сравненю с `женщинами` с `8.10%`.**  \n",
    " - **В категории `получение образования`, `мужчины` с количеством просроченных займов в `12.2%`, на `4.38%` превышают процент невозврата по сравненю с `женщинами` с `7.82%`.**  \n",
    " - **В категориях `операции с недвижимостью` и `проведение свадьбы`, `мужчины` с количеством просроченных займов в `9.06%` и `9.93%`, на `2.75%` и `3.07%` превышают процент невозврата по сравненю с `женщинами` с `6.31%` и `6.86%`.**  \n",
    " - **Во всех `категориях` количество просроченных займов между `мужчин` в среднем `выше` чем у `женщин`.**\n",
    "  \n",
    "**При более детальном анализе, мы можем увидеть следующее:**  \n",
    "\n",
    " - **`Мужчины` с целью займа `операции с автомобилем`, у которых `4 ребенка`, имеют `50%` просроченных займов.**  \n",
    " - **`Мужчины` с целью займа `операции с недвижимостью`, у которых `4 ребенка`, имеют `25%` просроченных займов.**  \n",
    " - **`Женщины` с целью займа `проведение свадьбы`, у которых `3 ребенка`, имеют `22%` просроченных займов.**  \n",
    " - **`Женщины` с целью займа `операции с автомобилем` и `получение образования`, у которых `2 ребенка`, имеют `13.3%` и `12.6%` просроченных займов соответственно.**  \n",
    " - **`Мужчины` `независимо от цели займа`, у которых `1 ребенок`, имеют в среднем `12%` просроченных займов.**  \n",
    " - **`Мужчины` с целью займа `операции с автомобилем`, у которых `4 ребенка`, имеют `50%` просроченных займов.**  \n",
    " \n",
    "# Рекомендации:\n",
    "\n",
    " - **Необходимо обратить внимание, что в категории `операции с автомобилем` и `получение образования`, количество просроченных займов `выше`, чем у остальных `категорий`**  "
   ]
  }
 ],
 "metadata": {
  "ExecuteTimeLog": [
   {
    "duration": 47,
    "start_time": "2022-10-23T05:45:57.181Z"
   },
   {
    "duration": 712,
    "start_time": "2022-10-23T05:46:28.584Z"
   },
   {
    "duration": 22,
    "start_time": "2022-10-23T05:46:34.517Z"
   },
   {
    "duration": 15,
    "start_time": "2022-10-23T05:46:46.415Z"
   },
   {
    "duration": 10,
    "start_time": "2022-10-23T05:46:52.245Z"
   },
   {
    "duration": 32,
    "start_time": "2022-10-23T05:46:53.517Z"
   },
   {
    "duration": 3,
    "start_time": "2022-10-23T05:46:55.649Z"
   },
   {
    "duration": 7,
    "start_time": "2022-10-23T05:47:01.493Z"
   },
   {
    "duration": 5,
    "start_time": "2022-10-23T05:47:04.534Z"
   },
   {
    "duration": 6,
    "start_time": "2022-10-23T05:47:09.169Z"
   },
   {
    "duration": 4,
    "start_time": "2022-10-23T05:47:11.520Z"
   },
   {
    "duration": 33,
    "start_time": "2022-10-23T05:47:14.737Z"
   },
   {
    "duration": 9,
    "start_time": "2022-10-23T05:47:16.922Z"
   },
   {
    "duration": 3,
    "start_time": "2022-10-23T05:47:22.298Z"
   },
   {
    "duration": 12,
    "start_time": "2022-10-23T05:47:25.807Z"
   },
   {
    "duration": 22,
    "start_time": "2022-10-23T05:47:27.628Z"
   },
   {
    "duration": 16,
    "start_time": "2022-10-23T05:47:28.795Z"
   },
   {
    "duration": 4,
    "start_time": "2022-10-23T05:47:33.048Z"
   },
   {
    "duration": 9,
    "start_time": "2022-10-23T05:47:34.604Z"
   },
   {
    "duration": 6,
    "start_time": "2022-10-23T05:47:38.139Z"
   },
   {
    "duration": 4,
    "start_time": "2022-10-23T05:47:41.840Z"
   },
   {
    "duration": 8,
    "start_time": "2022-10-23T05:47:43.275Z"
   },
   {
    "duration": 7,
    "start_time": "2022-10-23T05:47:47.321Z"
   },
   {
    "duration": 6,
    "start_time": "2022-10-23T05:48:02.169Z"
   },
   {
    "duration": 4,
    "start_time": "2022-10-23T05:48:12.087Z"
   },
   {
    "duration": 5,
    "start_time": "2022-10-23T05:48:25.751Z"
   },
   {
    "duration": 6,
    "start_time": "2022-10-23T05:49:22.736Z"
   },
   {
    "duration": 26,
    "start_time": "2022-10-23T05:51:19.915Z"
   },
   {
    "duration": 8,
    "start_time": "2022-10-23T05:51:25.408Z"
   },
   {
    "duration": 7,
    "start_time": "2022-10-23T05:51:30.593Z"
   },
   {
    "duration": 20,
    "start_time": "2022-10-23T06:02:13.342Z"
   },
   {
    "duration": 42,
    "start_time": "2022-10-23T06:06:01.816Z"
   },
   {
    "duration": 17,
    "start_time": "2022-10-23T06:06:35.607Z"
   },
   {
    "duration": 20,
    "start_time": "2022-10-23T06:07:01.356Z"
   },
   {
    "duration": 5,
    "start_time": "2022-10-23T06:09:10.229Z"
   },
   {
    "duration": 9,
    "start_time": "2022-10-23T06:09:36.396Z"
   },
   {
    "duration": 8,
    "start_time": "2022-10-23T06:13:25.251Z"
   },
   {
    "duration": 7,
    "start_time": "2022-10-23T06:14:11.957Z"
   },
   {
    "duration": 8,
    "start_time": "2022-10-23T06:14:26.971Z"
   },
   {
    "duration": 6,
    "start_time": "2022-10-23T06:14:40.327Z"
   },
   {
    "duration": 71,
    "start_time": "2022-10-23T06:24:02.345Z"
   },
   {
    "duration": 46,
    "start_time": "2022-10-23T06:51:39.197Z"
   },
   {
    "duration": 445,
    "start_time": "2022-10-23T06:51:48.217Z"
   },
   {
    "duration": 23,
    "start_time": "2022-10-23T06:51:53.447Z"
   },
   {
    "duration": 17,
    "start_time": "2022-10-23T06:51:56.346Z"
   },
   {
    "duration": 10,
    "start_time": "2022-10-23T06:51:59.464Z"
   },
   {
    "duration": 34,
    "start_time": "2022-10-23T06:52:01.053Z"
   },
   {
    "duration": 4,
    "start_time": "2022-10-23T06:52:03.446Z"
   },
   {
    "duration": 9,
    "start_time": "2022-10-23T06:52:04.507Z"
   },
   {
    "duration": 6,
    "start_time": "2022-10-23T06:52:07.194Z"
   },
   {
    "duration": 9,
    "start_time": "2022-10-23T06:52:07.739Z"
   },
   {
    "duration": 6,
    "start_time": "2022-10-23T06:52:09.548Z"
   },
   {
    "duration": 51,
    "start_time": "2022-10-23T06:52:12.272Z"
   },
   {
    "duration": 9,
    "start_time": "2022-10-23T06:52:14.818Z"
   },
   {
    "duration": 5,
    "start_time": "2022-10-23T06:52:17.655Z"
   },
   {
    "duration": 11,
    "start_time": "2022-10-23T06:52:23.635Z"
   },
   {
    "duration": 22,
    "start_time": "2022-10-23T06:52:23.649Z"
   },
   {
    "duration": 17,
    "start_time": "2022-10-23T06:52:23.673Z"
   },
   {
    "duration": 5,
    "start_time": "2022-10-23T06:52:27.372Z"
   },
   {
    "duration": 11,
    "start_time": "2022-10-23T06:52:27.757Z"
   },
   {
    "duration": 6,
    "start_time": "2022-10-23T06:52:28.989Z"
   },
   {
    "duration": 5,
    "start_time": "2022-10-23T06:52:30.418Z"
   },
   {
    "duration": 14,
    "start_time": "2022-10-23T06:52:31.172Z"
   },
   {
    "duration": 7,
    "start_time": "2022-10-23T06:52:34.975Z"
   },
   {
    "duration": 7,
    "start_time": "2022-10-23T06:52:48.836Z"
   },
   {
    "duration": 71,
    "start_time": "2022-10-23T06:54:08.828Z"
   },
   {
    "duration": 16,
    "start_time": "2022-10-23T06:54:15.209Z"
   },
   {
    "duration": 7,
    "start_time": "2022-10-23T07:04:49.061Z"
   },
   {
    "duration": 5,
    "start_time": "2022-10-23T07:05:42.312Z"
   },
   {
    "duration": 17,
    "start_time": "2022-10-23T07:09:32.494Z"
   },
   {
    "duration": 5,
    "start_time": "2022-10-23T07:13:37.790Z"
   },
   {
    "duration": 4,
    "start_time": "2022-10-23T07:16:32.242Z"
   },
   {
    "duration": 6,
    "start_time": "2022-10-23T07:17:34.609Z"
   },
   {
    "duration": 69,
    "start_time": "2022-10-23T07:21:22.306Z"
   },
   {
    "duration": 22,
    "start_time": "2022-10-23T07:23:01.584Z"
   },
   {
    "duration": 10,
    "start_time": "2022-10-23T07:26:06.814Z"
   },
   {
    "duration": 19,
    "start_time": "2022-10-23T07:26:48.986Z"
   },
   {
    "duration": 8,
    "start_time": "2022-10-23T07:26:58.806Z"
   },
   {
    "duration": 9,
    "start_time": "2022-10-23T07:28:57.377Z"
   },
   {
    "duration": 6,
    "start_time": "2022-10-23T07:29:19.490Z"
   },
   {
    "duration": 7,
    "start_time": "2022-10-23T07:29:30.143Z"
   },
   {
    "duration": 6,
    "start_time": "2022-10-23T07:36:40.188Z"
   },
   {
    "duration": 20,
    "start_time": "2022-10-23T08:24:37.295Z"
   },
   {
    "duration": 7,
    "start_time": "2022-10-23T08:33:24.451Z"
   },
   {
    "duration": 6,
    "start_time": "2022-10-23T08:34:00.222Z"
   },
   {
    "duration": 5,
    "start_time": "2022-10-23T08:47:53.763Z"
   },
   {
    "duration": 6,
    "start_time": "2022-10-23T09:04:45.394Z"
   },
   {
    "duration": 42,
    "start_time": "2022-10-23T09:04:52.490Z"
   },
   {
    "duration": 15,
    "start_time": "2022-10-23T09:06:08.679Z"
   },
   {
    "duration": 10,
    "start_time": "2022-10-23T09:06:28.810Z"
   },
   {
    "duration": 19,
    "start_time": "2022-10-23T09:06:42.167Z"
   },
   {
    "duration": 50,
    "start_time": "2022-10-23T09:12:04.670Z"
   },
   {
    "duration": 7,
    "start_time": "2022-10-23T09:14:17.201Z"
   },
   {
    "duration": 1018,
    "start_time": "2022-10-23T09:27:27.119Z"
   },
   {
    "duration": 61,
    "start_time": "2022-10-23T09:28:34.071Z"
   },
   {
    "duration": 24,
    "start_time": "2022-10-23T09:29:42.378Z"
   },
   {
    "duration": 19,
    "start_time": "2022-10-23T09:30:00.446Z"
   },
   {
    "duration": 23,
    "start_time": "2022-10-23T09:30:23.515Z"
   },
   {
    "duration": 7,
    "start_time": "2022-10-23T09:30:44.324Z"
   },
   {
    "duration": 1353,
    "start_time": "2022-10-23T09:31:15.603Z"
   },
   {
    "duration": 30,
    "start_time": "2022-10-23T09:31:19.008Z"
   },
   {
    "duration": 22,
    "start_time": "2022-10-23T09:31:21.829Z"
   },
   {
    "duration": 21,
    "start_time": "2022-10-23T09:31:26.688Z"
   },
   {
    "duration": 41,
    "start_time": "2022-10-23T09:31:28.864Z"
   },
   {
    "duration": 5,
    "start_time": "2022-10-23T09:31:32.310Z"
   },
   {
    "duration": 8,
    "start_time": "2022-10-23T09:31:34.179Z"
   },
   {
    "duration": 4,
    "start_time": "2022-10-23T09:31:37.221Z"
   },
   {
    "duration": 7,
    "start_time": "2022-10-23T09:31:42.231Z"
   },
   {
    "duration": 5,
    "start_time": "2022-10-23T09:31:42.556Z"
   },
   {
    "duration": 34,
    "start_time": "2022-10-23T09:31:48.632Z"
   },
   {
    "duration": 12,
    "start_time": "2022-10-23T09:31:51.484Z"
   },
   {
    "duration": 4,
    "start_time": "2022-10-23T09:31:55.548Z"
   },
   {
    "duration": 13,
    "start_time": "2022-10-23T09:31:58.334Z"
   },
   {
    "duration": 23,
    "start_time": "2022-10-23T09:32:00.430Z"
   },
   {
    "duration": 20,
    "start_time": "2022-10-23T09:32:04.514Z"
   },
   {
    "duration": 4,
    "start_time": "2022-10-23T09:32:07.480Z"
   },
   {
    "duration": 10,
    "start_time": "2022-10-23T09:32:08.619Z"
   },
   {
    "duration": 9,
    "start_time": "2022-10-23T09:32:11.002Z"
   },
   {
    "duration": 4,
    "start_time": "2022-10-23T09:32:14.039Z"
   },
   {
    "duration": 14,
    "start_time": "2022-10-23T09:32:15.627Z"
   },
   {
    "duration": 6,
    "start_time": "2022-10-23T09:32:19.613Z"
   },
   {
    "duration": 12,
    "start_time": "2022-10-23T09:32:21.836Z"
   },
   {
    "duration": 22,
    "start_time": "2022-10-23T09:32:23.388Z"
   },
   {
    "duration": 8,
    "start_time": "2022-10-23T09:32:26.711Z"
   },
   {
    "duration": 6,
    "start_time": "2022-10-23T09:32:29.037Z"
   },
   {
    "duration": 11,
    "start_time": "2022-10-23T09:32:31.685Z"
   },
   {
    "duration": 6,
    "start_time": "2022-10-23T09:32:33.938Z"
   },
   {
    "duration": 6,
    "start_time": "2022-10-23T09:32:38.158Z"
   },
   {
    "duration": 5,
    "start_time": "2022-10-23T09:32:40.915Z"
   },
   {
    "duration": 5,
    "start_time": "2022-10-23T09:32:47.424Z"
   },
   {
    "duration": 10,
    "start_time": "2022-10-23T09:32:49.174Z"
   },
   {
    "duration": 8,
    "start_time": "2022-10-23T09:32:51.690Z"
   },
   {
    "duration": 34,
    "start_time": "2022-10-23T09:32:54.112Z"
   },
   {
    "duration": 373,
    "start_time": "2022-10-23T09:33:25.407Z"
   },
   {
    "duration": 467,
    "start_time": "2022-10-23T09:34:26.564Z"
   },
   {
    "duration": 29,
    "start_time": "2022-10-23T09:34:31.734Z"
   },
   {
    "duration": 24,
    "start_time": "2022-10-23T10:01:29.587Z"
   },
   {
    "duration": 29,
    "start_time": "2022-10-23T10:01:47.325Z"
   },
   {
    "duration": 29,
    "start_time": "2022-10-23T10:03:20.907Z"
   },
   {
    "duration": 29,
    "start_time": "2022-10-23T10:05:27.755Z"
   },
   {
    "duration": 31,
    "start_time": "2022-10-23T10:06:00.061Z"
   },
   {
    "duration": 401,
    "start_time": "2022-10-23T10:06:10.353Z"
   },
   {
    "duration": 11,
    "start_time": "2022-10-23T10:06:33.629Z"
   },
   {
    "duration": 100,
    "start_time": "2022-10-23T10:07:07.403Z"
   },
   {
    "duration": 4,
    "start_time": "2022-10-23T10:08:23.413Z"
   },
   {
    "duration": 9,
    "start_time": "2022-10-23T10:17:35.719Z"
   },
   {
    "duration": 9,
    "start_time": "2022-10-23T10:18:26.035Z"
   },
   {
    "duration": 30,
    "start_time": "2022-10-23T10:18:41.512Z"
   },
   {
    "duration": 30,
    "start_time": "2022-10-23T10:23:49.887Z"
   },
   {
    "duration": 29,
    "start_time": "2022-10-23T10:24:11.959Z"
   },
   {
    "duration": 25,
    "start_time": "2022-10-23T10:25:12.250Z"
   },
   {
    "duration": 88,
    "start_time": "2022-10-23T10:25:48.963Z"
   },
   {
    "duration": 30,
    "start_time": "2022-10-23T10:26:32.290Z"
   },
   {
    "duration": 29,
    "start_time": "2022-10-23T10:26:48.808Z"
   },
   {
    "duration": 29,
    "start_time": "2022-10-23T11:19:59.029Z"
   },
   {
    "duration": 27,
    "start_time": "2022-10-23T11:20:28.997Z"
   },
   {
    "duration": 97,
    "start_time": "2022-10-23T11:20:54.843Z"
   },
   {
    "duration": 30,
    "start_time": "2022-10-23T11:21:00.952Z"
   },
   {
    "duration": 9,
    "start_time": "2022-10-23T11:21:50.589Z"
   },
   {
    "duration": 334,
    "start_time": "2022-10-23T11:22:17.333Z"
   },
   {
    "duration": 30,
    "start_time": "2022-10-23T11:24:48.170Z"
   },
   {
    "duration": 373,
    "start_time": "2022-10-23T11:24:55.971Z"
   },
   {
    "duration": 6,
    "start_time": "2022-10-23T11:49:55.643Z"
   },
   {
    "duration": 19,
    "start_time": "2022-10-23T11:52:46.816Z"
   },
   {
    "duration": 12,
    "start_time": "2022-10-23T11:52:53.129Z"
   },
   {
    "duration": 29,
    "start_time": "2022-10-23T11:57:40.688Z"
   },
   {
    "duration": 369,
    "start_time": "2022-10-23T11:58:37.748Z"
   },
   {
    "duration": 378,
    "start_time": "2022-10-23T12:02:04.632Z"
   },
   {
    "duration": 385,
    "start_time": "2022-10-23T12:04:43.658Z"
   },
   {
    "duration": 360,
    "start_time": "2022-10-23T12:05:33.372Z"
   },
   {
    "duration": 498,
    "start_time": "2022-10-23T12:06:06.187Z"
   },
   {
    "duration": 374,
    "start_time": "2022-10-23T12:06:22.992Z"
   },
   {
    "duration": 17,
    "start_time": "2022-10-23T13:27:32.542Z"
   },
   {
    "duration": 348,
    "start_time": "2022-10-23T13:31:31.880Z"
   },
   {
    "duration": 355,
    "start_time": "2022-10-23T13:46:24.480Z"
   },
   {
    "duration": 1253,
    "start_time": "2022-10-23T15:27:07.151Z"
   },
   {
    "duration": 22,
    "start_time": "2022-10-23T15:27:08.406Z"
   },
   {
    "duration": 32,
    "start_time": "2022-10-23T15:27:08.429Z"
   },
   {
    "duration": 14,
    "start_time": "2022-10-23T15:27:08.464Z"
   },
   {
    "duration": 36,
    "start_time": "2022-10-23T15:27:08.480Z"
   },
   {
    "duration": 4,
    "start_time": "2022-10-23T15:27:08.518Z"
   },
   {
    "duration": 11,
    "start_time": "2022-10-23T15:27:08.553Z"
   },
   {
    "duration": 6,
    "start_time": "2022-10-23T15:27:08.566Z"
   },
   {
    "duration": 9,
    "start_time": "2022-10-23T15:27:08.573Z"
   },
   {
    "duration": 4,
    "start_time": "2022-10-23T15:27:08.585Z"
   },
   {
    "duration": 70,
    "start_time": "2022-10-23T15:27:08.591Z"
   },
   {
    "duration": 14,
    "start_time": "2022-10-23T15:27:08.663Z"
   },
   {
    "duration": 5,
    "start_time": "2022-10-23T15:27:08.679Z"
   },
   {
    "duration": 15,
    "start_time": "2022-10-23T15:27:08.686Z"
   },
   {
    "duration": 52,
    "start_time": "2022-10-23T15:27:08.703Z"
   },
   {
    "duration": 27,
    "start_time": "2022-10-23T15:27:08.757Z"
   },
   {
    "duration": 3,
    "start_time": "2022-10-23T15:27:08.786Z"
   },
   {
    "duration": 13,
    "start_time": "2022-10-23T15:27:08.791Z"
   },
   {
    "duration": 10,
    "start_time": "2022-10-23T15:27:08.806Z"
   },
   {
    "duration": 8,
    "start_time": "2022-10-23T15:27:08.818Z"
   },
   {
    "duration": 30,
    "start_time": "2022-10-23T15:27:08.827Z"
   },
   {
    "duration": 13,
    "start_time": "2022-10-23T15:27:08.858Z"
   },
   {
    "duration": 9,
    "start_time": "2022-10-23T15:27:08.873Z"
   },
   {
    "duration": 24,
    "start_time": "2022-10-23T15:27:08.884Z"
   },
   {
    "duration": 7,
    "start_time": "2022-10-23T15:27:08.910Z"
   },
   {
    "duration": 8,
    "start_time": "2022-10-23T15:27:08.919Z"
   },
   {
    "duration": 27,
    "start_time": "2022-10-23T15:27:08.929Z"
   },
   {
    "duration": 12,
    "start_time": "2022-10-23T15:27:08.960Z"
   },
   {
    "duration": 9,
    "start_time": "2022-10-23T15:27:08.973Z"
   },
   {
    "duration": 9,
    "start_time": "2022-10-23T15:27:08.984Z"
   },
   {
    "duration": 11,
    "start_time": "2022-10-23T15:27:08.995Z"
   },
   {
    "duration": 13,
    "start_time": "2022-10-23T15:27:09.008Z"
   },
   {
    "duration": 7,
    "start_time": "2022-10-23T15:27:09.022Z"
   },
   {
    "duration": 432,
    "start_time": "2022-10-23T15:27:09.031Z"
   },
   {
    "duration": 422,
    "start_time": "2022-10-23T15:27:09.465Z"
   },
   {
    "duration": 6,
    "start_time": "2022-10-23T15:27:09.888Z"
   },
   {
    "duration": 15,
    "start_time": "2022-10-23T15:27:09.896Z"
   },
   {
    "duration": 406,
    "start_time": "2022-10-23T15:27:09.913Z"
   },
   {
    "duration": 398,
    "start_time": "2022-10-23T15:27:10.321Z"
   },
   {
    "duration": 360,
    "start_time": "2022-10-23T15:27:10.721Z"
   },
   {
    "duration": 449,
    "start_time": "2022-10-23T15:27:11.083Z"
   },
   {
    "duration": 85,
    "start_time": "2022-10-23T16:01:08.519Z"
   },
   {
    "duration": 42,
    "start_time": "2022-10-26T10:10:53.442Z"
   },
   {
    "duration": 1382,
    "start_time": "2022-10-26T10:11:12.910Z"
   },
   {
    "duration": 18,
    "start_time": "2022-10-26T10:11:16.738Z"
   },
   {
    "duration": 15,
    "start_time": "2022-10-26T10:11:18.586Z"
   },
   {
    "duration": 9,
    "start_time": "2022-10-26T10:11:22.689Z"
   },
   {
    "duration": 29,
    "start_time": "2022-10-26T10:11:24.767Z"
   },
   {
    "duration": 3,
    "start_time": "2022-10-26T10:11:28.190Z"
   },
   {
    "duration": 9,
    "start_time": "2022-10-26T10:11:30.159Z"
   },
   {
    "duration": 5,
    "start_time": "2022-10-26T10:11:33.235Z"
   },
   {
    "duration": 7,
    "start_time": "2022-10-26T10:11:35.160Z"
   },
   {
    "duration": 4,
    "start_time": "2022-10-26T10:11:36.841Z"
   },
   {
    "duration": 31,
    "start_time": "2022-10-26T10:11:39.337Z"
   },
   {
    "duration": 12,
    "start_time": "2022-10-26T10:11:41.536Z"
   },
   {
    "duration": 4,
    "start_time": "2022-10-26T10:11:44.852Z"
   },
   {
    "duration": 11,
    "start_time": "2022-10-26T10:11:47.543Z"
   },
   {
    "duration": 21,
    "start_time": "2022-10-26T10:11:49.138Z"
   },
   {
    "duration": 18,
    "start_time": "2022-10-26T10:11:50.537Z"
   },
   {
    "duration": 3,
    "start_time": "2022-10-26T10:11:53.000Z"
   },
   {
    "duration": 10,
    "start_time": "2022-10-26T10:11:54.061Z"
   },
   {
    "duration": 6,
    "start_time": "2022-10-26T10:11:55.791Z"
   },
   {
    "duration": 4,
    "start_time": "2022-10-26T10:11:57.450Z"
   },
   {
    "duration": 8,
    "start_time": "2022-10-26T10:11:58.369Z"
   },
   {
    "duration": 4,
    "start_time": "2022-10-26T10:12:01.440Z"
   },
   {
    "duration": 6,
    "start_time": "2022-10-26T10:12:03.090Z"
   },
   {
    "duration": 15,
    "start_time": "2022-10-26T10:12:08.465Z"
   },
   {
    "duration": 6,
    "start_time": "2022-10-26T10:12:09.737Z"
   },
   {
    "duration": 5,
    "start_time": "2022-10-26T10:12:12.176Z"
   },
   {
    "duration": 4,
    "start_time": "2022-10-26T10:12:15.707Z"
   },
   {
    "duration": 5,
    "start_time": "2022-10-26T10:12:17.651Z"
   },
   {
    "duration": 5,
    "start_time": "2022-10-26T10:12:19.385Z"
   },
   {
    "duration": 4,
    "start_time": "2022-10-26T10:12:21.238Z"
   },
   {
    "duration": 4,
    "start_time": "2022-10-26T10:12:25.357Z"
   },
   {
    "duration": 29,
    "start_time": "2022-10-26T10:12:25.365Z"
   },
   {
    "duration": 4,
    "start_time": "2022-10-26T10:12:27.234Z"
   },
   {
    "duration": 456,
    "start_time": "2022-10-26T10:12:29.072Z"
   },
   {
    "duration": 329,
    "start_time": "2022-10-26T10:12:33.537Z"
   },
   {
    "duration": 5,
    "start_time": "2022-10-26T10:12:39.652Z"
   },
   {
    "duration": 6,
    "start_time": "2022-10-26T10:12:56.974Z"
   },
   {
    "duration": 8,
    "start_time": "2022-10-26T10:17:09.989Z"
   },
   {
    "duration": 8,
    "start_time": "2022-10-26T10:36:23.910Z"
   },
   {
    "duration": 16,
    "start_time": "2022-10-26T10:46:55.594Z"
   },
   {
    "duration": 7,
    "start_time": "2022-10-26T10:56:40.940Z"
   },
   {
    "duration": 1659,
    "start_time": "2022-10-26T15:53:19.549Z"
   },
   {
    "duration": 19,
    "start_time": "2022-10-26T15:53:22.617Z"
   },
   {
    "duration": 16,
    "start_time": "2022-10-26T15:53:23.046Z"
   },
   {
    "duration": 10,
    "start_time": "2022-10-26T15:53:24.078Z"
   },
   {
    "duration": 31,
    "start_time": "2022-10-26T15:53:24.749Z"
   },
   {
    "duration": 4,
    "start_time": "2022-10-26T15:53:28.594Z"
   },
   {
    "duration": 21,
    "start_time": "2022-10-26T15:53:28.600Z"
   },
   {
    "duration": 5,
    "start_time": "2022-10-26T15:53:30.127Z"
   },
   {
    "duration": 8,
    "start_time": "2022-10-26T15:53:30.786Z"
   },
   {
    "duration": 4,
    "start_time": "2022-10-26T15:53:31.157Z"
   },
   {
    "duration": 32,
    "start_time": "2022-10-26T15:53:31.916Z"
   },
   {
    "duration": 9,
    "start_time": "2022-10-26T15:53:32.507Z"
   },
   {
    "duration": 3,
    "start_time": "2022-10-26T15:53:33.157Z"
   },
   {
    "duration": 11,
    "start_time": "2022-10-26T15:53:33.805Z"
   },
   {
    "duration": 25,
    "start_time": "2022-10-26T15:53:34.381Z"
   },
   {
    "duration": 27,
    "start_time": "2022-10-26T15:53:34.437Z"
   },
   {
    "duration": 4,
    "start_time": "2022-10-26T15:53:35.186Z"
   },
   {
    "duration": 10,
    "start_time": "2022-10-26T15:53:35.396Z"
   },
   {
    "duration": 6,
    "start_time": "2022-10-26T15:53:35.686Z"
   },
   {
    "duration": 3,
    "start_time": "2022-10-26T15:53:36.365Z"
   },
   {
    "duration": 12,
    "start_time": "2022-10-26T15:53:36.373Z"
   },
   {
    "duration": 10,
    "start_time": "2022-10-26T15:53:43.293Z"
   },
   {
    "duration": 9,
    "start_time": "2022-10-26T15:56:18.234Z"
   },
   {
    "duration": 5,
    "start_time": "2022-10-26T16:33:58.571Z"
   },
   {
    "duration": 7,
    "start_time": "2022-10-26T16:34:01.304Z"
   },
   {
    "duration": 16,
    "start_time": "2022-10-26T16:34:05.010Z"
   },
   {
    "duration": 7,
    "start_time": "2022-10-26T16:34:07.668Z"
   },
   {
    "duration": 5,
    "start_time": "2022-10-26T16:34:12.552Z"
   },
   {
    "duration": 4,
    "start_time": "2022-10-26T16:34:14.664Z"
   },
   {
    "duration": 6,
    "start_time": "2022-10-26T16:34:21.596Z"
   },
   {
    "duration": 8,
    "start_time": "2022-10-26T16:35:22.636Z"
   },
   {
    "duration": 5,
    "start_time": "2022-10-26T16:35:24.586Z"
   },
   {
    "duration": 4,
    "start_time": "2022-10-26T16:35:27.230Z"
   },
   {
    "duration": 9,
    "start_time": "2022-10-26T16:35:29.841Z"
   },
   {
    "duration": 5,
    "start_time": "2022-10-26T16:35:34.253Z"
   },
   {
    "duration": 4,
    "start_time": "2022-10-26T16:48:04.311Z"
   },
   {
    "duration": 4,
    "start_time": "2022-10-26T16:48:44.199Z"
   },
   {
    "duration": 9,
    "start_time": "2022-10-26T16:48:46.588Z"
   },
   {
    "duration": 4,
    "start_time": "2022-10-26T16:48:50.228Z"
   },
   {
    "duration": 435,
    "start_time": "2022-10-26T16:49:14.663Z"
   },
   {
    "duration": 380,
    "start_time": "2022-10-26T16:49:37.251Z"
   },
   {
    "duration": 59,
    "start_time": "2022-10-26T17:03:29.006Z"
   },
   {
    "duration": 2027,
    "start_time": "2022-10-27T09:49:11.836Z"
   },
   {
    "duration": 20,
    "start_time": "2022-10-27T09:49:15.431Z"
   },
   {
    "duration": 15,
    "start_time": "2022-10-27T09:49:17.032Z"
   },
   {
    "duration": 10,
    "start_time": "2022-10-27T09:49:19.993Z"
   },
   {
    "duration": 31,
    "start_time": "2022-10-27T09:49:21.049Z"
   },
   {
    "duration": 5,
    "start_time": "2022-10-27T09:49:22.653Z"
   },
   {
    "duration": 9,
    "start_time": "2022-10-27T09:49:23.563Z"
   },
   {
    "duration": 4,
    "start_time": "2022-10-27T09:49:25.441Z"
   },
   {
    "duration": 6,
    "start_time": "2022-10-27T09:49:26.989Z"
   },
   {
    "duration": 4,
    "start_time": "2022-10-27T09:49:28.462Z"
   },
   {
    "duration": 31,
    "start_time": "2022-10-27T09:49:30.852Z"
   },
   {
    "duration": 15,
    "start_time": "2022-10-27T09:49:32.520Z"
   },
   {
    "duration": 4,
    "start_time": "2022-10-27T09:49:34.770Z"
   },
   {
    "duration": 11,
    "start_time": "2022-10-27T09:49:36.851Z"
   },
   {
    "duration": 19,
    "start_time": "2022-10-27T09:49:38.179Z"
   },
   {
    "duration": 20,
    "start_time": "2022-10-27T09:49:38.841Z"
   },
   {
    "duration": 4,
    "start_time": "2022-10-27T09:49:41.052Z"
   },
   {
    "duration": 10,
    "start_time": "2022-10-27T09:49:42.052Z"
   },
   {
    "duration": 6,
    "start_time": "2022-10-27T09:49:43.714Z"
   },
   {
    "duration": 4,
    "start_time": "2022-10-27T09:49:45.163Z"
   },
   {
    "duration": 8,
    "start_time": "2022-10-27T09:49:45.952Z"
   },
   {
    "duration": 8,
    "start_time": "2022-10-27T09:49:53.280Z"
   },
   {
    "duration": 5,
    "start_time": "2022-10-27T09:50:01.062Z"
   },
   {
    "duration": 8,
    "start_time": "2022-10-27T09:50:03.110Z"
   },
   {
    "duration": 15,
    "start_time": "2022-10-27T09:50:04.431Z"
   },
   {
    "duration": 6,
    "start_time": "2022-10-27T09:50:05.733Z"
   },
   {
    "duration": 5,
    "start_time": "2022-10-27T09:50:06.800Z"
   },
   {
    "duration": 5,
    "start_time": "2022-10-27T09:50:08.669Z"
   },
   {
    "duration": 5,
    "start_time": "2022-10-27T09:50:10.492Z"
   },
   {
    "duration": 6,
    "start_time": "2022-10-27T09:50:13.292Z"
   },
   {
    "duration": 5,
    "start_time": "2022-10-27T09:50:20.769Z"
   },
   {
    "duration": 9,
    "start_time": "2022-10-27T09:50:20.775Z"
   },
   {
    "duration": 10,
    "start_time": "2022-10-27T09:50:20.786Z"
   },
   {
    "duration": 4,
    "start_time": "2022-10-27T09:50:21.541Z"
   },
   {
    "duration": 403,
    "start_time": "2022-10-27T09:50:36.491Z"
   },
   {
    "duration": 54,
    "start_time": "2022-10-27T11:14:01.787Z"
   },
   {
    "duration": 8,
    "start_time": "2022-10-27T11:14:25.853Z"
   },
   {
    "duration": 48,
    "start_time": "2022-10-27T11:18:44.536Z"
   },
   {
    "duration": 42,
    "start_time": "2022-10-27T11:22:47.707Z"
   },
   {
    "duration": 27,
    "start_time": "2022-10-27T11:25:00.630Z"
   },
   {
    "duration": 75,
    "start_time": "2022-10-27T11:27:40.151Z"
   },
   {
    "duration": 116,
    "start_time": "2022-10-27T11:27:53.751Z"
   },
   {
    "duration": 8,
    "start_time": "2022-10-27T11:28:09.012Z"
   },
   {
    "duration": 27,
    "start_time": "2022-10-27T11:28:46.523Z"
   },
   {
    "duration": 15,
    "start_time": "2022-10-27T11:29:25.238Z"
   },
   {
    "duration": 19,
    "start_time": "2022-10-27T11:29:42.310Z"
   },
   {
    "duration": 22,
    "start_time": "2022-10-27T11:30:41.548Z"
   },
   {
    "duration": 30,
    "start_time": "2022-10-27T11:32:34.593Z"
   },
   {
    "duration": 27,
    "start_time": "2022-10-27T11:33:01.288Z"
   },
   {
    "duration": 22,
    "start_time": "2022-10-27T13:34:05.711Z"
   },
   {
    "duration": 32,
    "start_time": "2022-10-27T13:38:01.366Z"
   },
   {
    "duration": 5,
    "start_time": "2022-10-27T13:39:40.223Z"
   },
   {
    "duration": 13,
    "start_time": "2022-10-27T13:39:41.622Z"
   },
   {
    "duration": 13,
    "start_time": "2022-10-27T13:39:48.574Z"
   },
   {
    "duration": 38,
    "start_time": "2022-10-27T13:42:18.583Z"
   },
   {
    "duration": 410,
    "start_time": "2022-10-27T13:54:59.854Z"
   },
   {
    "duration": 10,
    "start_time": "2022-10-27T14:45:24.144Z"
   },
   {
    "duration": 28,
    "start_time": "2022-10-27T14:45:59.048Z"
   },
   {
    "duration": 353,
    "start_time": "2022-10-27T14:49:08.671Z"
   },
   {
    "duration": 12,
    "start_time": "2022-10-27T14:50:33.368Z"
   },
   {
    "duration": 38,
    "start_time": "2022-10-27T14:52:05.805Z"
   },
   {
    "duration": 411,
    "start_time": "2022-10-27T14:54:10.253Z"
   },
   {
    "duration": 354,
    "start_time": "2022-10-27T16:32:19.122Z"
   }
  ],
  "colab": {
   "name": "dpp_template_part2.ipynb",
   "provenance": []
  },
  "kernelspec": {
   "display_name": "Python 3 (ipykernel)",
   "language": "python",
   "name": "python3"
  },
  "language_info": {
   "codemirror_mode": {
    "name": "ipython",
    "version": 3
   },
   "file_extension": ".py",
   "mimetype": "text/x-python",
   "name": "python",
   "nbconvert_exporter": "python",
   "pygments_lexer": "ipython3",
   "version": "3.9.13"
  },
  "toc": {
   "base_numbering": 1,
   "nav_menu": {},
   "number_sections": true,
   "sideBar": true,
   "skip_h1_title": true,
   "title_cell": "Table of Contents",
   "title_sidebar": "Contents",
   "toc_cell": false,
   "toc_position": {
    "height": "calc(100% - 180px)",
    "left": "10px",
    "top": "150px",
    "width": "555px"
   },
   "toc_section_display": true,
   "toc_window_display": false
  }
 },
 "nbformat": 4,
 "nbformat_minor": 5
}

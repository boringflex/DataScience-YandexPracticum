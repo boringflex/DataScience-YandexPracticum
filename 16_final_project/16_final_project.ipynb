{
 "cells": [
  {
   "cell_type": "markdown",
   "id": "2280afd1",
   "metadata": {},
   "source": [
    "# Проект: Телеком"
   ]
  },
  {
   "cell_type": "markdown",
   "id": "b7e35539",
   "metadata": {},
   "source": [
    "___\n",
    "**Описание проекта**  \n",
    "\n",
    "Оператор связи «Ниединогоразрыва.ком» хочет научиться прогнозировать отток клиентов. Если выяснится, что пользователь планирует уйти, ему будут предложены промокоды и специальные условия. Команда оператора собрала персональные данные о некоторых клиентах, информацию об их тарифах и договорах.\n",
    "\n",
    "Оператор предоставляет два основных типа услуг:  \n",
    "\n",
    "1. Стационарную телефонную связь. Возможно подключение телефонного аппарата к нескольким линиям одновременно.  \n",
    "2. Интернет. Подключение может быть двух типов: через телефонную линию (DSL, от англ. digital subscriber line, «цифровая абонентская линия») или оптоволоконный кабель (Fiber optic).  \n",
    "\n",
    "Также доступны такие услуги:  \n",
    "\n",
    "* Интернет-безопасность: антивирус (DeviceProtection) и блокировка небезопасных сайтов (OnlineSecurity);  \n",
    "* Выделенная линия технической поддержки (*TechSupport*);  \n",
    "* Облачное хранилище файлов для резервного копирования данных (OnlineBackup);  \n",
    "* Стриминговое телевидение (StreamingTV) и каталог фильмов (StreamingMovies).  \n",
    "\n",
    "Стриминговое телевидение (StreamingTV) и каталог фильмов (StreamingMovies).  \n",
    "\n",
    "___\n",
    "**Цель**  \n",
    "\n",
    "Необходимо научиться `прогнозировать отток клиентов`.  \n",
    "\n",
    "Для успешного достижения цели, необходимо выполнить следующие задачи:  \n",
    "\n",
    "1. Загрузить и осмотреть данные;  \n",
    "2. Подготовить данные;  \n",
    "3. Исследовать модели разны алгоритмов;  \n",
    "4. Выбрать и протестировать одну лучшую модель;  \n",
    "5. Подготовить отчёт для заказчика.\n",
    "\n",
    "___\n",
    "**Условия задачи:**\n",
    "\n",
    "1. Основная метрика - `AUC-ROC`;\n",
    "2. Пороговое значение основной метрики - `>= 0.85`;\n",
    "3. Дополнительно (для отчёта) считаем и интерпретируем метрику `Accuracy`.\n",
    " \n",
    "___\n",
    "**Описание данных:**  \n",
    "\n",
    "Данные состоят из файлов, полученных из разных источников:  \n",
    "\n",
    "`/datasets/contract_new.csv` — информация о договоре;  \n",
    "`/datasets/personal_new.csv` — персональные данные клиента;  \n",
    "`/datasets/internet_new.csv` — информация об интернет-услугах;  \n",
    "`/datasets/phone_new.csv` — информация об услугах телефонии.  \n",
    "\n",
    "Во всех файлах столбец `customerID` содержит код клиента.  \n",
    "Информация о договорах актуальна на 1 февраля 2020.\n",
    "\n",
    "*Признаки:*\n",
    "\n",
    "- `BeginDate` – дата начала пользования услугами;  \n",
    "- `EndDate` – дата окончания пользования услугами;  \n",
    "- `Type` – тип оплаты: ежемесячный, годовой и т.д.;  \n",
    "- `PaperlessBilling` – электронный платёжный документ;  \n",
    "- `PaymentMethod` – способ оплаты;  \n",
    "- `MonthlyCharges` – ежемесячные траты на услуги по договору;  \n",
    "- `TotalCharges` – всего потрачено денег на услуги;  \n",
    "- `Dependents` – наличие иждивенцев;  \n",
    "- `Senior Citizen` – наличие пенсионного статуса по возрасту;  \n",
    "- `Partner` – наличие супруга(и);  \n",
    "- `MultipleLines` – наличие возможности ведения параллельных линий во время звонка.  \n",
    "\n",
    "*Целевой признак:*  \n",
    "\n",
    "- Необходимо сформировать самостоятельно с помощью `EndDate`."
   ]
  },
  {
   "cell_type": "markdown",
   "id": "034cb5bc",
   "metadata": {},
   "source": [
    "<h1>Содержание<span class=\"tocSkip\"></span></h1><br>\n",
    "<div class=\"toc\">\n",
    "    <ul class=\"toc-item\">\n",
    "        <li><span><a href=\"#Исследовательский-анализ-данных\" data-toc-modified-id=\"Исследовательский-анализ-данных-1\"><span class=\"toc-item-num\">1.&nbsp;&nbsp;</span>Исследовательский анализ данных</a></span></li>\n",
    "        <li><span><a href=\"#Подготовка-данных\" data-toc-modified-id=\"Подготовка-данных-2\"><span class=\"toc-item-num\">2.&nbsp;&nbsp;</span>Подготовка данных</a></span></li>\n",
    "        <li><span><a href=\"#Исследование-моделей\" data-toc-modified-id=\"Исследование-моделей-3\"><span class=\"toc-item-num\">3.&nbsp;&nbsp;</span>Исследование моделей</a></span></li>\n",
    "        <li><span><a href=\"#Анализ-лучшей-модели\" data-toc-modified-id=\"Анализ-лучшей-модели-4\"><span class=\"toc-item-num\">4.&nbsp;&nbsp;</span>Анализ лучшей модели</a></span></li>\n",
    "        <li><span><a href=\"#Общий-вывод\" data-toc-modified-id=\"Общий-вывод-5\"><span class=\"toc-item-num\">5.&nbsp;&nbsp;</span>Общий вывод</a></span></li>\n",
    "        <li><span><a href=\"#Отчет-о-проделаной-работе\" data-toc-modified-id=\"Отчет-о-проделаной-работе-6\"><span class=\"toc-item-num\">6.&nbsp;&nbsp;</span>Отчет о проделаной работе</a></span></li>\n",
    "    </ul>\n",
    "</div>"
   ]
  },
  {
   "cell_type": "markdown",
   "id": "034efb7d",
   "metadata": {},
   "source": [
    "## Исследовательский анализ данных"
   ]
  },
  {
   "cell_type": "markdown",
   "id": "1ab34db5",
   "metadata": {},
   "source": [
    "### Импортируем необходимые библиотеки"
   ]
  },
  {
   "cell_type": "code",
   "execution_count": 1,
   "id": "5f40c7bf",
   "metadata": {},
   "outputs": [],
   "source": [
    "import os\n",
    "import pandas as pd\n",
    "import numpy as np\n",
    "import matplotlib.pyplot as plt\n",
    "import seaborn as sns\n",
    "\n",
    "from datetime import datetime\n",
    "from scipy import stats as st"
   ]
  },
  {
   "cell_type": "code",
   "execution_count": 2,
   "id": "33970c73",
   "metadata": {},
   "outputs": [
    {
     "name": "stdout",
     "output_type": "stream",
     "text": [
      "Requirement already satisfied: ydata-profiling in /opt/conda/lib/python3.9/site-packages (4.2.0)\n",
      "Requirement already satisfied: tqdm<5,>=4.48.2 in /opt/conda/lib/python3.9/site-packages (from ydata-profiling) (4.61.2)\n",
      "Requirement already satisfied: imagehash==4.3.1 in /opt/conda/lib/python3.9/site-packages (from ydata-profiling) (4.3.1)\n",
      "Requirement already satisfied: jinja2<3.2,>=2.11.1 in /opt/conda/lib/python3.9/site-packages (from ydata-profiling) (3.0.1)\n",
      "Requirement already satisfied: typeguard<3,>=2.13.2 in /opt/conda/lib/python3.9/site-packages (from ydata-profiling) (2.13.3)\n",
      "Requirement already satisfied: visions[type_image_path]==0.7.5 in /opt/conda/lib/python3.9/site-packages (from ydata-profiling) (0.7.5)\n",
      "Requirement already satisfied: multimethod<2,>=1.4 in /opt/conda/lib/python3.9/site-packages (from ydata-profiling) (1.9.1)\n",
      "Requirement already satisfied: wordcloud>=1.9.1 in /opt/conda/lib/python3.9/site-packages (from ydata-profiling) (1.9.2)\n",
      "Requirement already satisfied: PyYAML<6.1,>=5.0.0 in /opt/conda/lib/python3.9/site-packages (from ydata-profiling) (6.0)\n",
      "Requirement already satisfied: statsmodels<1,>=0.13.2 in /opt/conda/lib/python3.9/site-packages (from ydata-profiling) (0.13.2)\n",
      "Requirement already satisfied: dacite>=1.8 in /opt/conda/lib/python3.9/site-packages (from ydata-profiling) (1.8.1)\n",
      "Requirement already satisfied: phik<0.13,>=0.11.1 in /opt/conda/lib/python3.9/site-packages (from ydata-profiling) (0.12.3)\n",
      "Requirement already satisfied: pydantic<2,>=1.8.1 in /opt/conda/lib/python3.9/site-packages (from ydata-profiling) (1.8.2)\n",
      "Requirement already satisfied: numpy<1.24,>=1.16.0 in /opt/conda/lib/python3.9/site-packages (from ydata-profiling) (1.21.1)\n",
      "Requirement already satisfied: htmlmin==0.1.12 in /opt/conda/lib/python3.9/site-packages (from ydata-profiling) (0.1.12)\n",
      "Requirement already satisfied: seaborn<0.13,>=0.10.1 in /opt/conda/lib/python3.9/site-packages (from ydata-profiling) (0.11.1)\n",
      "Requirement already satisfied: pandas!=1.4.0,<2,>1.1 in /opt/conda/lib/python3.9/site-packages (from ydata-profiling) (1.2.4)\n",
      "Requirement already satisfied: scipy<1.11,>=1.4.1 in /opt/conda/lib/python3.9/site-packages (from ydata-profiling) (1.9.1)\n",
      "Requirement already satisfied: matplotlib<4,>=3.2 in /opt/conda/lib/python3.9/site-packages (from ydata-profiling) (3.3.4)\n",
      "Requirement already satisfied: requests<3,>=2.24.0 in /opt/conda/lib/python3.9/site-packages (from ydata-profiling) (2.25.1)\n",
      "Requirement already satisfied: pillow in /opt/conda/lib/python3.9/site-packages (from imagehash==4.3.1->ydata-profiling) (8.4.0)\n",
      "Requirement already satisfied: PyWavelets in /opt/conda/lib/python3.9/site-packages (from imagehash==4.3.1->ydata-profiling) (1.4.1)\n",
      "Requirement already satisfied: networkx>=2.4 in /opt/conda/lib/python3.9/site-packages (from visions[type_image_path]==0.7.5->ydata-profiling) (3.1)\n",
      "Requirement already satisfied: tangled-up-in-unicode>=0.0.4 in /opt/conda/lib/python3.9/site-packages (from visions[type_image_path]==0.7.5->ydata-profiling) (0.2.0)\n",
      "Requirement already satisfied: attrs>=19.3.0 in /opt/conda/lib/python3.9/site-packages (from visions[type_image_path]==0.7.5->ydata-profiling) (21.2.0)\n",
      "Requirement already satisfied: MarkupSafe>=2.0 in /opt/conda/lib/python3.9/site-packages (from jinja2<3.2,>=2.11.1->ydata-profiling) (2.1.1)\n",
      "Requirement already satisfied: cycler>=0.10 in /opt/conda/lib/python3.9/site-packages (from matplotlib<4,>=3.2->ydata-profiling) (0.11.0)\n",
      "Requirement already satisfied: kiwisolver>=1.0.1 in /opt/conda/lib/python3.9/site-packages (from matplotlib<4,>=3.2->ydata-profiling) (1.4.4)\n",
      "Requirement already satisfied: pyparsing!=2.0.4,!=2.1.2,!=2.1.6,>=2.0.3 in /opt/conda/lib/python3.9/site-packages (from matplotlib<4,>=3.2->ydata-profiling) (2.4.7)\n",
      "Requirement already satisfied: python-dateutil>=2.1 in /opt/conda/lib/python3.9/site-packages (from matplotlib<4,>=3.2->ydata-profiling) (2.8.1)\n",
      "Requirement already satisfied: pytz>=2017.3 in /opt/conda/lib/python3.9/site-packages (from pandas!=1.4.0,<2,>1.1->ydata-profiling) (2021.1)\n",
      "Requirement already satisfied: joblib>=0.14.1 in /opt/conda/lib/python3.9/site-packages (from phik<0.13,>=0.11.1->ydata-profiling) (1.1.0)\n",
      "Requirement already satisfied: typing-extensions>=3.7.4.3 in /opt/conda/lib/python3.9/site-packages (from pydantic<2,>=1.8.1->ydata-profiling) (4.3.0)\n",
      "Requirement already satisfied: six>=1.5 in /opt/conda/lib/python3.9/site-packages (from python-dateutil>=2.1->matplotlib<4,>=3.2->ydata-profiling) (1.16.0)\n",
      "Requirement already satisfied: urllib3<1.27,>=1.21.1 in /opt/conda/lib/python3.9/site-packages (from requests<3,>=2.24.0->ydata-profiling) (1.26.6)\n",
      "Requirement already satisfied: chardet<5,>=3.0.2 in /opt/conda/lib/python3.9/site-packages (from requests<3,>=2.24.0->ydata-profiling) (4.0.0)\n",
      "Requirement already satisfied: certifi>=2017.4.17 in /opt/conda/lib/python3.9/site-packages (from requests<3,>=2.24.0->ydata-profiling) (2022.6.15)\n",
      "Requirement already satisfied: idna<3,>=2.5 in /opt/conda/lib/python3.9/site-packages (from requests<3,>=2.24.0->ydata-profiling) (2.10)\n",
      "Requirement already satisfied: patsy>=0.5.2 in /opt/conda/lib/python3.9/site-packages (from statsmodels<1,>=0.13.2->ydata-profiling) (0.5.2)\n",
      "Requirement already satisfied: packaging>=21.3 in /opt/conda/lib/python3.9/site-packages (from statsmodels<1,>=0.13.2->ydata-profiling) (21.3)\n",
      "Requirement already satisfied: phik in /opt/conda/lib/python3.9/site-packages (0.12.3)\n",
      "Requirement already satisfied: pandas>=0.25.1 in /opt/conda/lib/python3.9/site-packages (from phik) (1.2.4)\n",
      "Requirement already satisfied: scipy>=1.5.2 in /opt/conda/lib/python3.9/site-packages (from phik) (1.9.1)\n",
      "Requirement already satisfied: matplotlib>=2.2.3 in /opt/conda/lib/python3.9/site-packages (from phik) (3.3.4)\n",
      "Requirement already satisfied: joblib>=0.14.1 in /opt/conda/lib/python3.9/site-packages (from phik) (1.1.0)\n",
      "Requirement already satisfied: numpy>=1.18.0 in /opt/conda/lib/python3.9/site-packages (from phik) (1.21.1)\n",
      "Requirement already satisfied: cycler>=0.10 in /opt/conda/lib/python3.9/site-packages (from matplotlib>=2.2.3->phik) (0.11.0)\n",
      "Requirement already satisfied: pyparsing!=2.0.4,!=2.1.2,!=2.1.6,>=2.0.3 in /opt/conda/lib/python3.9/site-packages (from matplotlib>=2.2.3->phik) (2.4.7)\n",
      "Requirement already satisfied: kiwisolver>=1.0.1 in /opt/conda/lib/python3.9/site-packages (from matplotlib>=2.2.3->phik) (1.4.4)\n",
      "Requirement already satisfied: python-dateutil>=2.1 in /opt/conda/lib/python3.9/site-packages (from matplotlib>=2.2.3->phik) (2.8.1)\n",
      "Requirement already satisfied: pillow>=6.2.0 in /opt/conda/lib/python3.9/site-packages (from matplotlib>=2.2.3->phik) (8.4.0)\n",
      "Requirement already satisfied: pytz>=2017.3 in /opt/conda/lib/python3.9/site-packages (from pandas>=0.25.1->phik) (2021.1)\n",
      "Requirement already satisfied: six>=1.5 in /opt/conda/lib/python3.9/site-packages (from python-dateutil>=2.1->matplotlib>=2.2.3->phik) (1.16.0)\n",
      "Requirement already satisfied: lightgbm in /opt/conda/lib/python3.9/site-packages (3.3.1)\n",
      "Requirement already satisfied: scipy in /opt/conda/lib/python3.9/site-packages (from lightgbm) (1.9.1)\n",
      "Requirement already satisfied: numpy in /opt/conda/lib/python3.9/site-packages (from lightgbm) (1.21.1)\n",
      "Requirement already satisfied: wheel in /opt/conda/lib/python3.9/site-packages (from lightgbm) (0.36.2)\n",
      "Requirement already satisfied: scikit-learn!=0.22.0 in /opt/conda/lib/python3.9/site-packages (from lightgbm) (0.24.1)\n",
      "Requirement already satisfied: threadpoolctl>=2.0.0 in /opt/conda/lib/python3.9/site-packages (from scikit-learn!=0.22.0->lightgbm) (3.1.0)\n",
      "Requirement already satisfied: joblib>=0.11 in /opt/conda/lib/python3.9/site-packages (from scikit-learn!=0.22.0->lightgbm) (1.1.0)\n"
     ]
    }
   ],
   "source": [
    "pip install ydata-profiling\n",
    "pip install phik\n",
    "pip install lightgbm"
   ]
  },
  {
   "cell_type": "code",
   "execution_count": 3,
   "id": "7177aa3c",
   "metadata": {},
   "outputs": [],
   "source": [
    "from catboost import CatBoostClassifier, Pool, cv\n",
    "import lightgbm as lgb\n",
    "from catboost.utils import get_roc_curve, select_threshold\n",
    "from catboost.utils import get_fpr_curve, get_fnr_curve\n",
    "from sklearn.compose import ColumnTransformer\n",
    "from sklearn.ensemble import RandomForestClassifier\n",
    "from sklearn.metrics import accuracy_score, roc_auc_score, auc, roc_curve\n",
    "from sklearn.metrics import confusion_matrix, ConfusionMatrixDisplay\n",
    "from sklearn.model_selection import train_test_split, GridSearchCV\n",
    "from sklearn.pipeline import Pipeline\n",
    "from sklearn.preprocessing import StandardScaler, OrdinalEncoder\n",
    "from ydata_profiling import ProfileReport\n",
    "import phik"
   ]
  },
  {
   "cell_type": "markdown",
   "id": "5ec5005a",
   "metadata": {},
   "source": [
    "### Считаем данные из csv-файлов в датафреймы и сохраним в переменные. Путь к файлам:\n",
    "\n",
    "- `/datasets/contract_new.csv`;  \n",
    "- `/datasets/personal_new.csv`;  \n",
    "- `/datasets/internet_new.csv`;  \n",
    "- `/datasets/phone_new.csv`."
   ]
  },
  {
   "cell_type": "markdown",
   "id": "23c56b56",
   "metadata": {},
   "source": [
    "**Откроем файлы `/datasets/contract_new.csv`, `/datasets/personal_new.csv`, `/datasets/internet_new.csv`, `/datasets/phone_new.csv`, и сохраним датафреймы в переменные `contract`, `personal`, `internet`, `phone` соответственно.**"
   ]
  },
  {
   "cell_type": "code",
   "execution_count": 6,
   "id": "74e8c8f9",
   "metadata": {},
   "outputs": [],
   "source": [
    "def read_csv_to_df(files_dict):\n",
    "    \"\"\"\n",
    "    Функция для чтения нескольких файлов .csv в датафреймы pandas.\n",
    "\n",
    "    :param files_dict: словарь с именами датафреймов и расположением файлов\n",
    "    :return: словарь с датафреймами pandas\n",
    "    \"\"\"\n",
    "    dataframes = {}\n",
    "    for name, path in files_dict.items():\n",
    "        if os.path.exists(path):\n",
    "            dataframes[name] = pd.read_csv(path)\n",
    "        else:\n",
    "            print(f\"Файл {path} не найден.\")\n",
    "    return dataframes"
   ]
  },
  {
   "cell_type": "code",
   "execution_count": 7,
   "id": "b45e7ebe",
   "metadata": {},
   "outputs": [],
   "source": [
    "#files_dict = {\n",
    "#    'contract': './contract_new.csv',\n",
    "#    'personal': './personal_new.csv',\n",
    "#    'internet': './internet_new.csv',\n",
    "#    'phone': './phone_new.csv'\n",
    "#}\n",
    "#\n",
    "#dataframes = read_csv_to_df(files_dict)"
   ]
  },
  {
   "cell_type": "markdown",
   "id": "ac891018",
   "metadata": {},
   "source": [
    "**Ниже код для считывания файлов в Яндекс Практикуме.**"
   ]
  },
  {
   "cell_type": "code",
   "execution_count": 8,
   "id": "e3869124",
   "metadata": {},
   "outputs": [],
   "source": [
    "files_dict = {\n",
    "    'contract': '/datasets/contract_new.csv',\n",
    "    'personal': '/datasets/personal_new.csv',\n",
    "    'internet': '/datasets/internet_new.csv',\n",
    "    'phone': '/datasets/phone_new.csv'\n",
    "}\n",
    "\n",
    "dataframes = read_csv_to_df(files_dict)"
   ]
  },
  {
   "cell_type": "markdown",
   "id": "b34af2ac",
   "metadata": {},
   "source": [
    "### Изучим общую информацию о полученных датафреймах"
   ]
  },
  {
   "cell_type": "markdown",
   "id": "d4ecd767",
   "metadata": {},
   "source": [
    "**Добавим настройки для удобства отображения данных.**"
   ]
  },
  {
   "cell_type": "code",
   "execution_count": 9,
   "id": "4630c23c",
   "metadata": {},
   "outputs": [],
   "source": [
    "pd.set_option('display.max_columns', None)\n",
    "pd.set_option('display.max_rows', 200)\n",
    "pd.options.display.float_format = '{:,.2f}'.format\n",
    "\n",
    "#Если необходимо вернуть дефолтные настройки, раскомментируй строку ниже\n",
    "#pd.reset_option('all')"
   ]
  },
  {
   "cell_type": "markdown",
   "id": "057283e7",
   "metadata": {},
   "source": [
    "**Выведем первые 5 строчек из полученных датафреймов на экран.**"
   ]
  },
  {
   "cell_type": "code",
   "execution_count": 10,
   "id": "4841dd8a",
   "metadata": {},
   "outputs": [
    {
     "name": "stdout",
     "output_type": "stream",
     "text": [
      "\u001b[1m\u001b[34m\n",
      "Датафрейм: contract\u001b[0m\n"
     ]
    },
    {
     "data": {
      "text/html": [
       "<div>\n",
       "<style scoped>\n",
       "    .dataframe tbody tr th:only-of-type {\n",
       "        vertical-align: middle;\n",
       "    }\n",
       "\n",
       "    .dataframe tbody tr th {\n",
       "        vertical-align: top;\n",
       "    }\n",
       "\n",
       "    .dataframe thead th {\n",
       "        text-align: right;\n",
       "    }\n",
       "</style>\n",
       "<table border=\"1\" class=\"dataframe\">\n",
       "  <thead>\n",
       "    <tr style=\"text-align: right;\">\n",
       "      <th></th>\n",
       "      <th>customerID</th>\n",
       "      <th>BeginDate</th>\n",
       "      <th>EndDate</th>\n",
       "      <th>Type</th>\n",
       "      <th>PaperlessBilling</th>\n",
       "      <th>PaymentMethod</th>\n",
       "      <th>MonthlyCharges</th>\n",
       "      <th>TotalCharges</th>\n",
       "    </tr>\n",
       "  </thead>\n",
       "  <tbody>\n",
       "    <tr>\n",
       "      <th>0</th>\n",
       "      <td>7590-VHVEG</td>\n",
       "      <td>2020-01-01</td>\n",
       "      <td>No</td>\n",
       "      <td>Month-to-month</td>\n",
       "      <td>Yes</td>\n",
       "      <td>Electronic check</td>\n",
       "      <td>29.85</td>\n",
       "      <td>31.04</td>\n",
       "    </tr>\n",
       "    <tr>\n",
       "      <th>1</th>\n",
       "      <td>5575-GNVDE</td>\n",
       "      <td>2017-04-01</td>\n",
       "      <td>No</td>\n",
       "      <td>One year</td>\n",
       "      <td>No</td>\n",
       "      <td>Mailed check</td>\n",
       "      <td>56.95</td>\n",
       "      <td>2071.84</td>\n",
       "    </tr>\n",
       "    <tr>\n",
       "      <th>2</th>\n",
       "      <td>3668-QPYBK</td>\n",
       "      <td>2019-10-01</td>\n",
       "      <td>No</td>\n",
       "      <td>Month-to-month</td>\n",
       "      <td>Yes</td>\n",
       "      <td>Mailed check</td>\n",
       "      <td>53.85</td>\n",
       "      <td>226.17</td>\n",
       "    </tr>\n",
       "    <tr>\n",
       "      <th>3</th>\n",
       "      <td>7795-CFOCW</td>\n",
       "      <td>2016-05-01</td>\n",
       "      <td>No</td>\n",
       "      <td>One year</td>\n",
       "      <td>No</td>\n",
       "      <td>Bank transfer (automatic)</td>\n",
       "      <td>42.30</td>\n",
       "      <td>1960.6</td>\n",
       "    </tr>\n",
       "    <tr>\n",
       "      <th>4</th>\n",
       "      <td>9237-HQITU</td>\n",
       "      <td>2019-09-01</td>\n",
       "      <td>No</td>\n",
       "      <td>Month-to-month</td>\n",
       "      <td>Yes</td>\n",
       "      <td>Electronic check</td>\n",
       "      <td>70.70</td>\n",
       "      <td>353.5</td>\n",
       "    </tr>\n",
       "  </tbody>\n",
       "</table>\n",
       "</div>"
      ],
      "text/plain": [
       "   customerID   BeginDate EndDate            Type PaperlessBilling  \\\n",
       "0  7590-VHVEG  2020-01-01      No  Month-to-month              Yes   \n",
       "1  5575-GNVDE  2017-04-01      No        One year               No   \n",
       "2  3668-QPYBK  2019-10-01      No  Month-to-month              Yes   \n",
       "3  7795-CFOCW  2016-05-01      No        One year               No   \n",
       "4  9237-HQITU  2019-09-01      No  Month-to-month              Yes   \n",
       "\n",
       "               PaymentMethod  MonthlyCharges TotalCharges  \n",
       "0           Electronic check           29.85        31.04  \n",
       "1               Mailed check           56.95      2071.84  \n",
       "2               Mailed check           53.85       226.17  \n",
       "3  Bank transfer (automatic)           42.30       1960.6  \n",
       "4           Electronic check           70.70        353.5  "
      ]
     },
     "metadata": {},
     "output_type": "display_data"
    },
    {
     "name": "stdout",
     "output_type": "stream",
     "text": [
      "\u001b[1m\u001b[34m\n",
      "Датафрейм: personal\u001b[0m\n"
     ]
    },
    {
     "data": {
      "text/html": [
       "<div>\n",
       "<style scoped>\n",
       "    .dataframe tbody tr th:only-of-type {\n",
       "        vertical-align: middle;\n",
       "    }\n",
       "\n",
       "    .dataframe tbody tr th {\n",
       "        vertical-align: top;\n",
       "    }\n",
       "\n",
       "    .dataframe thead th {\n",
       "        text-align: right;\n",
       "    }\n",
       "</style>\n",
       "<table border=\"1\" class=\"dataframe\">\n",
       "  <thead>\n",
       "    <tr style=\"text-align: right;\">\n",
       "      <th></th>\n",
       "      <th>customerID</th>\n",
       "      <th>gender</th>\n",
       "      <th>SeniorCitizen</th>\n",
       "      <th>Partner</th>\n",
       "      <th>Dependents</th>\n",
       "    </tr>\n",
       "  </thead>\n",
       "  <tbody>\n",
       "    <tr>\n",
       "      <th>0</th>\n",
       "      <td>7590-VHVEG</td>\n",
       "      <td>Female</td>\n",
       "      <td>0</td>\n",
       "      <td>Yes</td>\n",
       "      <td>No</td>\n",
       "    </tr>\n",
       "    <tr>\n",
       "      <th>1</th>\n",
       "      <td>5575-GNVDE</td>\n",
       "      <td>Male</td>\n",
       "      <td>0</td>\n",
       "      <td>No</td>\n",
       "      <td>No</td>\n",
       "    </tr>\n",
       "    <tr>\n",
       "      <th>2</th>\n",
       "      <td>3668-QPYBK</td>\n",
       "      <td>Male</td>\n",
       "      <td>0</td>\n",
       "      <td>No</td>\n",
       "      <td>No</td>\n",
       "    </tr>\n",
       "    <tr>\n",
       "      <th>3</th>\n",
       "      <td>7795-CFOCW</td>\n",
       "      <td>Male</td>\n",
       "      <td>0</td>\n",
       "      <td>No</td>\n",
       "      <td>No</td>\n",
       "    </tr>\n",
       "    <tr>\n",
       "      <th>4</th>\n",
       "      <td>9237-HQITU</td>\n",
       "      <td>Female</td>\n",
       "      <td>0</td>\n",
       "      <td>No</td>\n",
       "      <td>No</td>\n",
       "    </tr>\n",
       "  </tbody>\n",
       "</table>\n",
       "</div>"
      ],
      "text/plain": [
       "   customerID  gender  SeniorCitizen Partner Dependents\n",
       "0  7590-VHVEG  Female              0     Yes         No\n",
       "1  5575-GNVDE    Male              0      No         No\n",
       "2  3668-QPYBK    Male              0      No         No\n",
       "3  7795-CFOCW    Male              0      No         No\n",
       "4  9237-HQITU  Female              0      No         No"
      ]
     },
     "metadata": {},
     "output_type": "display_data"
    },
    {
     "name": "stdout",
     "output_type": "stream",
     "text": [
      "\u001b[1m\u001b[34m\n",
      "Датафрейм: internet\u001b[0m\n"
     ]
    },
    {
     "data": {
      "text/html": [
       "<div>\n",
       "<style scoped>\n",
       "    .dataframe tbody tr th:only-of-type {\n",
       "        vertical-align: middle;\n",
       "    }\n",
       "\n",
       "    .dataframe tbody tr th {\n",
       "        vertical-align: top;\n",
       "    }\n",
       "\n",
       "    .dataframe thead th {\n",
       "        text-align: right;\n",
       "    }\n",
       "</style>\n",
       "<table border=\"1\" class=\"dataframe\">\n",
       "  <thead>\n",
       "    <tr style=\"text-align: right;\">\n",
       "      <th></th>\n",
       "      <th>customerID</th>\n",
       "      <th>InternetService</th>\n",
       "      <th>OnlineSecurity</th>\n",
       "      <th>OnlineBackup</th>\n",
       "      <th>DeviceProtection</th>\n",
       "      <th>TechSupport</th>\n",
       "      <th>StreamingTV</th>\n",
       "      <th>StreamingMovies</th>\n",
       "    </tr>\n",
       "  </thead>\n",
       "  <tbody>\n",
       "    <tr>\n",
       "      <th>0</th>\n",
       "      <td>7590-VHVEG</td>\n",
       "      <td>DSL</td>\n",
       "      <td>No</td>\n",
       "      <td>Yes</td>\n",
       "      <td>No</td>\n",
       "      <td>No</td>\n",
       "      <td>No</td>\n",
       "      <td>No</td>\n",
       "    </tr>\n",
       "    <tr>\n",
       "      <th>1</th>\n",
       "      <td>5575-GNVDE</td>\n",
       "      <td>DSL</td>\n",
       "      <td>Yes</td>\n",
       "      <td>No</td>\n",
       "      <td>Yes</td>\n",
       "      <td>No</td>\n",
       "      <td>No</td>\n",
       "      <td>No</td>\n",
       "    </tr>\n",
       "    <tr>\n",
       "      <th>2</th>\n",
       "      <td>3668-QPYBK</td>\n",
       "      <td>DSL</td>\n",
       "      <td>Yes</td>\n",
       "      <td>Yes</td>\n",
       "      <td>No</td>\n",
       "      <td>No</td>\n",
       "      <td>No</td>\n",
       "      <td>No</td>\n",
       "    </tr>\n",
       "    <tr>\n",
       "      <th>3</th>\n",
       "      <td>7795-CFOCW</td>\n",
       "      <td>DSL</td>\n",
       "      <td>Yes</td>\n",
       "      <td>No</td>\n",
       "      <td>Yes</td>\n",
       "      <td>Yes</td>\n",
       "      <td>No</td>\n",
       "      <td>No</td>\n",
       "    </tr>\n",
       "    <tr>\n",
       "      <th>4</th>\n",
       "      <td>9237-HQITU</td>\n",
       "      <td>Fiber optic</td>\n",
       "      <td>No</td>\n",
       "      <td>No</td>\n",
       "      <td>No</td>\n",
       "      <td>No</td>\n",
       "      <td>No</td>\n",
       "      <td>No</td>\n",
       "    </tr>\n",
       "  </tbody>\n",
       "</table>\n",
       "</div>"
      ],
      "text/plain": [
       "   customerID InternetService OnlineSecurity OnlineBackup DeviceProtection  \\\n",
       "0  7590-VHVEG             DSL             No          Yes               No   \n",
       "1  5575-GNVDE             DSL            Yes           No              Yes   \n",
       "2  3668-QPYBK             DSL            Yes          Yes               No   \n",
       "3  7795-CFOCW             DSL            Yes           No              Yes   \n",
       "4  9237-HQITU     Fiber optic             No           No               No   \n",
       "\n",
       "  TechSupport StreamingTV StreamingMovies  \n",
       "0          No          No              No  \n",
       "1          No          No              No  \n",
       "2          No          No              No  \n",
       "3         Yes          No              No  \n",
       "4          No          No              No  "
      ]
     },
     "metadata": {},
     "output_type": "display_data"
    },
    {
     "name": "stdout",
     "output_type": "stream",
     "text": [
      "\u001b[1m\u001b[34m\n",
      "Датафрейм: phone\u001b[0m\n"
     ]
    },
    {
     "data": {
      "text/html": [
       "<div>\n",
       "<style scoped>\n",
       "    .dataframe tbody tr th:only-of-type {\n",
       "        vertical-align: middle;\n",
       "    }\n",
       "\n",
       "    .dataframe tbody tr th {\n",
       "        vertical-align: top;\n",
       "    }\n",
       "\n",
       "    .dataframe thead th {\n",
       "        text-align: right;\n",
       "    }\n",
       "</style>\n",
       "<table border=\"1\" class=\"dataframe\">\n",
       "  <thead>\n",
       "    <tr style=\"text-align: right;\">\n",
       "      <th></th>\n",
       "      <th>customerID</th>\n",
       "      <th>MultipleLines</th>\n",
       "    </tr>\n",
       "  </thead>\n",
       "  <tbody>\n",
       "    <tr>\n",
       "      <th>0</th>\n",
       "      <td>5575-GNVDE</td>\n",
       "      <td>No</td>\n",
       "    </tr>\n",
       "    <tr>\n",
       "      <th>1</th>\n",
       "      <td>3668-QPYBK</td>\n",
       "      <td>No</td>\n",
       "    </tr>\n",
       "    <tr>\n",
       "      <th>2</th>\n",
       "      <td>9237-HQITU</td>\n",
       "      <td>No</td>\n",
       "    </tr>\n",
       "    <tr>\n",
       "      <th>3</th>\n",
       "      <td>9305-CDSKC</td>\n",
       "      <td>Yes</td>\n",
       "    </tr>\n",
       "    <tr>\n",
       "      <th>4</th>\n",
       "      <td>1452-KIOVK</td>\n",
       "      <td>Yes</td>\n",
       "    </tr>\n",
       "  </tbody>\n",
       "</table>\n",
       "</div>"
      ],
      "text/plain": [
       "   customerID MultipleLines\n",
       "0  5575-GNVDE            No\n",
       "1  3668-QPYBK            No\n",
       "2  9237-HQITU            No\n",
       "3  9305-CDSKC           Yes\n",
       "4  1452-KIOVK           Yes"
      ]
     },
     "metadata": {},
     "output_type": "display_data"
    }
   ],
   "source": [
    "for dataframe_name, dataframe in dataframes.items():\n",
    "    print(f'\\033[1m\\33[34m\\nДатафрейм: {dataframe_name}\\33[0m')\n",
    "    display(dataframe.head(5))"
   ]
  },
  {
   "cell_type": "markdown",
   "id": "21d1fb89",
   "metadata": {},
   "source": [
    "**Для удобства, сразу приведем обозначения признаков в датафреймах к \"змеиному\" регистру.**"
   ]
  },
  {
   "cell_type": "code",
   "execution_count": 11,
   "id": "b771ad82",
   "metadata": {},
   "outputs": [],
   "source": [
    "dataframes['contract'].columns = dataframes['contract'].columns.str.lower()"
   ]
  },
  {
   "cell_type": "code",
   "execution_count": 12,
   "id": "6d813d29",
   "metadata": {},
   "outputs": [],
   "source": [
    "dataframes['contract'] = dataframes['contract'].rename(columns={\n",
    "    'customerid': 'customer_id',\n",
    "    'begindate': 'begin_date',\n",
    "    'enddate': 'end_date',\n",
    "    'paperlessbilling': 'paperless_billing',\n",
    "    'paymentmethod': 'payment_method',\n",
    "    'monthlycharges': 'monthly_charges',\n",
    "    'totalcharges': 'total_charges'\n",
    "})"
   ]
  },
  {
   "cell_type": "code",
   "execution_count": 13,
   "id": "5f388fc6",
   "metadata": {},
   "outputs": [],
   "source": [
    "dataframes['personal'].columns = dataframes['personal'].columns.str.lower()"
   ]
  },
  {
   "cell_type": "code",
   "execution_count": 14,
   "id": "04b58117",
   "metadata": {},
   "outputs": [],
   "source": [
    "dataframes['personal'] = dataframes['personal'].rename(columns={\n",
    "    'customerid': 'customer_id',\n",
    "    'seniorcitizen': 'senior_citizen'\n",
    "})"
   ]
  },
  {
   "cell_type": "code",
   "execution_count": 15,
   "id": "bd9bba3d",
   "metadata": {},
   "outputs": [],
   "source": [
    "dataframes['internet'].columns = dataframes['internet'].columns.str.lower()"
   ]
  },
  {
   "cell_type": "code",
   "execution_count": 16,
   "id": "f1087c3a",
   "metadata": {},
   "outputs": [],
   "source": [
    "dataframes['internet'] = dataframes['internet'].rename(columns={\n",
    "    'customerid': 'customer_id',\n",
    "    'internetservice': 'internet_service',\n",
    "    'onlinesecurity': 'online_security',\n",
    "    'onlinebackup': 'online_backup',\n",
    "    'deviceprotection': 'device_protection',\n",
    "    'techsupport': 'tech_support',\n",
    "    'streamingtv': 'streaming_tv',\n",
    "    'streamingmovies': 'streaming_movies'\n",
    "})"
   ]
  },
  {
   "cell_type": "code",
   "execution_count": 17,
   "id": "0eda7d99",
   "metadata": {},
   "outputs": [],
   "source": [
    "dataframes['phone'].columns = dataframes['phone'].columns.str.lower()"
   ]
  },
  {
   "cell_type": "code",
   "execution_count": 18,
   "id": "8dad6118",
   "metadata": {},
   "outputs": [],
   "source": [
    "dataframes['phone'] = dataframes['phone'].rename(columns={\n",
    "    'customerid': 'customer_id',\n",
    "    'multiplelines': 'multiple_lines'\n",
    "})"
   ]
  },
  {
   "cell_type": "markdown",
   "id": "7d8a6ca4",
   "metadata": {},
   "source": [
    "**Посмотрим как выглядят измененные обозначения признаков.**"
   ]
  },
  {
   "cell_type": "code",
   "execution_count": 19,
   "id": "84a20bf7",
   "metadata": {},
   "outputs": [
    {
     "name": "stdout",
     "output_type": "stream",
     "text": [
      "\u001b[1m\u001b[34m\n",
      "Датафрейм: contract\u001b[0m\n",
      "Index(['customer_id', 'begin_date', 'end_date', 'type', 'paperless_billing',\n",
      "       'payment_method', 'monthly_charges', 'total_charges'],\n",
      "      dtype='object')\n",
      "\u001b[1m\u001b[34m\n",
      "Датафрейм: personal\u001b[0m\n",
      "Index(['customer_id', 'gender', 'senior_citizen', 'partner', 'dependents'], dtype='object')\n",
      "\u001b[1m\u001b[34m\n",
      "Датафрейм: internet\u001b[0m\n",
      "Index(['customer_id', 'internet_service', 'online_security', 'online_backup',\n",
      "       'device_protection', 'tech_support', 'streaming_tv',\n",
      "       'streaming_movies'],\n",
      "      dtype='object')\n",
      "\u001b[1m\u001b[34m\n",
      "Датафрейм: phone\u001b[0m\n",
      "Index(['customer_id', 'multiple_lines'], dtype='object')\n"
     ]
    }
   ],
   "source": [
    "for dataframe_name, dataframe in dataframes.items():\n",
    "    print(f'\\033[1m\\33[34m\\nДатафрейм: {dataframe_name}\\33[0m')\n",
    "    print(dataframe.columns)"
   ]
  },
  {
   "cell_type": "markdown",
   "id": "0fb846d2",
   "metadata": {},
   "source": [
    "**Посмотрим на размер данных (количество строк, колонок).**"
   ]
  },
  {
   "cell_type": "code",
   "execution_count": 20,
   "id": "5508b889",
   "metadata": {},
   "outputs": [
    {
     "name": "stdout",
     "output_type": "stream",
     "text": [
      "\u001b[1m\u001b[34m\n",
      "Датафрейм: contract\u001b[0m\n",
      "Количество строк: 7043\n",
      "Количество колонок: 8\n",
      "\n",
      "\u001b[1m\u001b[34m\n",
      "Датафрейм: personal\u001b[0m\n",
      "Количество строк: 7043\n",
      "Количество колонок: 5\n",
      "\n",
      "\u001b[1m\u001b[34m\n",
      "Датафрейм: internet\u001b[0m\n",
      "Количество строк: 5517\n",
      "Количество колонок: 8\n",
      "\n",
      "\u001b[1m\u001b[34m\n",
      "Датафрейм: phone\u001b[0m\n",
      "Количество строк: 6361\n",
      "Количество колонок: 2\n",
      "\n"
     ]
    }
   ],
   "source": [
    "for dataframe_name, dataframe in dataframes.items():\n",
    "    print(f'\\033[1m\\33[34m\\nДатафрейм: {dataframe_name}\\33[0m')\n",
    "    print(f'Количество строк: {dataframe.shape[0]}\\nКоличество колонок: {dataframe.shape[1]}\\n')"
   ]
  },
  {
   "cell_type": "markdown",
   "id": "790b33eb",
   "metadata": {},
   "source": [
    "**Просмотрим статистическую сводку каждой колонки, чтобы узнать распределение данных в каждой колонки. Используем метод `describe()`.**"
   ]
  },
  {
   "cell_type": "code",
   "execution_count": 21,
   "id": "4b73a782",
   "metadata": {},
   "outputs": [
    {
     "name": "stdout",
     "output_type": "stream",
     "text": [
      "\u001b[1m\u001b[34m\n",
      "Датафрейм: contract\u001b[0m\n"
     ]
    },
    {
     "data": {
      "text/html": [
       "<div>\n",
       "<style scoped>\n",
       "    .dataframe tbody tr th:only-of-type {\n",
       "        vertical-align: middle;\n",
       "    }\n",
       "\n",
       "    .dataframe tbody tr th {\n",
       "        vertical-align: top;\n",
       "    }\n",
       "\n",
       "    .dataframe thead th {\n",
       "        text-align: right;\n",
       "    }\n",
       "</style>\n",
       "<table border=\"1\" class=\"dataframe\">\n",
       "  <thead>\n",
       "    <tr style=\"text-align: right;\">\n",
       "      <th></th>\n",
       "      <th>customer_id</th>\n",
       "      <th>begin_date</th>\n",
       "      <th>end_date</th>\n",
       "      <th>type</th>\n",
       "      <th>paperless_billing</th>\n",
       "      <th>payment_method</th>\n",
       "      <th>monthly_charges</th>\n",
       "      <th>total_charges</th>\n",
       "    </tr>\n",
       "  </thead>\n",
       "  <tbody>\n",
       "    <tr>\n",
       "      <th>count</th>\n",
       "      <td>7043</td>\n",
       "      <td>7043</td>\n",
       "      <td>7043</td>\n",
       "      <td>7043</td>\n",
       "      <td>7043</td>\n",
       "      <td>7043</td>\n",
       "      <td>7,043.00</td>\n",
       "      <td>7043</td>\n",
       "    </tr>\n",
       "    <tr>\n",
       "      <th>unique</th>\n",
       "      <td>7043</td>\n",
       "      <td>77</td>\n",
       "      <td>67</td>\n",
       "      <td>3</td>\n",
       "      <td>2</td>\n",
       "      <td>4</td>\n",
       "      <td>NaN</td>\n",
       "      <td>6658</td>\n",
       "    </tr>\n",
       "    <tr>\n",
       "      <th>top</th>\n",
       "      <td>2309-OSFEU</td>\n",
       "      <td>2014-02-01</td>\n",
       "      <td>No</td>\n",
       "      <td>Month-to-month</td>\n",
       "      <td>Yes</td>\n",
       "      <td>Electronic check</td>\n",
       "      <td>NaN</td>\n",
       "      <td></td>\n",
       "    </tr>\n",
       "    <tr>\n",
       "      <th>freq</th>\n",
       "      <td>1</td>\n",
       "      <td>366</td>\n",
       "      <td>5942</td>\n",
       "      <td>3875</td>\n",
       "      <td>4171</td>\n",
       "      <td>2365</td>\n",
       "      <td>NaN</td>\n",
       "      <td>11</td>\n",
       "    </tr>\n",
       "    <tr>\n",
       "      <th>mean</th>\n",
       "      <td>NaN</td>\n",
       "      <td>NaN</td>\n",
       "      <td>NaN</td>\n",
       "      <td>NaN</td>\n",
       "      <td>NaN</td>\n",
       "      <td>NaN</td>\n",
       "      <td>64.76</td>\n",
       "      <td>NaN</td>\n",
       "    </tr>\n",
       "    <tr>\n",
       "      <th>std</th>\n",
       "      <td>NaN</td>\n",
       "      <td>NaN</td>\n",
       "      <td>NaN</td>\n",
       "      <td>NaN</td>\n",
       "      <td>NaN</td>\n",
       "      <td>NaN</td>\n",
       "      <td>30.09</td>\n",
       "      <td>NaN</td>\n",
       "    </tr>\n",
       "    <tr>\n",
       "      <th>min</th>\n",
       "      <td>NaN</td>\n",
       "      <td>NaN</td>\n",
       "      <td>NaN</td>\n",
       "      <td>NaN</td>\n",
       "      <td>NaN</td>\n",
       "      <td>NaN</td>\n",
       "      <td>18.25</td>\n",
       "      <td>NaN</td>\n",
       "    </tr>\n",
       "    <tr>\n",
       "      <th>25%</th>\n",
       "      <td>NaN</td>\n",
       "      <td>NaN</td>\n",
       "      <td>NaN</td>\n",
       "      <td>NaN</td>\n",
       "      <td>NaN</td>\n",
       "      <td>NaN</td>\n",
       "      <td>35.50</td>\n",
       "      <td>NaN</td>\n",
       "    </tr>\n",
       "    <tr>\n",
       "      <th>50%</th>\n",
       "      <td>NaN</td>\n",
       "      <td>NaN</td>\n",
       "      <td>NaN</td>\n",
       "      <td>NaN</td>\n",
       "      <td>NaN</td>\n",
       "      <td>NaN</td>\n",
       "      <td>70.35</td>\n",
       "      <td>NaN</td>\n",
       "    </tr>\n",
       "    <tr>\n",
       "      <th>75%</th>\n",
       "      <td>NaN</td>\n",
       "      <td>NaN</td>\n",
       "      <td>NaN</td>\n",
       "      <td>NaN</td>\n",
       "      <td>NaN</td>\n",
       "      <td>NaN</td>\n",
       "      <td>89.85</td>\n",
       "      <td>NaN</td>\n",
       "    </tr>\n",
       "    <tr>\n",
       "      <th>max</th>\n",
       "      <td>NaN</td>\n",
       "      <td>NaN</td>\n",
       "      <td>NaN</td>\n",
       "      <td>NaN</td>\n",
       "      <td>NaN</td>\n",
       "      <td>NaN</td>\n",
       "      <td>118.75</td>\n",
       "      <td>NaN</td>\n",
       "    </tr>\n",
       "  </tbody>\n",
       "</table>\n",
       "</div>"
      ],
      "text/plain": [
       "       customer_id  begin_date end_date            type paperless_billing  \\\n",
       "count         7043        7043     7043            7043              7043   \n",
       "unique        7043          77       67               3                 2   \n",
       "top     2309-OSFEU  2014-02-01       No  Month-to-month               Yes   \n",
       "freq             1         366     5942            3875              4171   \n",
       "mean           NaN         NaN      NaN             NaN               NaN   \n",
       "std            NaN         NaN      NaN             NaN               NaN   \n",
       "min            NaN         NaN      NaN             NaN               NaN   \n",
       "25%            NaN         NaN      NaN             NaN               NaN   \n",
       "50%            NaN         NaN      NaN             NaN               NaN   \n",
       "75%            NaN         NaN      NaN             NaN               NaN   \n",
       "max            NaN         NaN      NaN             NaN               NaN   \n",
       "\n",
       "          payment_method  monthly_charges total_charges  \n",
       "count               7043         7,043.00          7043  \n",
       "unique                 4              NaN          6658  \n",
       "top     Electronic check              NaN                \n",
       "freq                2365              NaN            11  \n",
       "mean                 NaN            64.76           NaN  \n",
       "std                  NaN            30.09           NaN  \n",
       "min                  NaN            18.25           NaN  \n",
       "25%                  NaN            35.50           NaN  \n",
       "50%                  NaN            70.35           NaN  \n",
       "75%                  NaN            89.85           NaN  \n",
       "max                  NaN           118.75           NaN  "
      ]
     },
     "metadata": {},
     "output_type": "display_data"
    },
    {
     "name": "stdout",
     "output_type": "stream",
     "text": [
      "\u001b[1m\u001b[34m\n",
      "Датафрейм: personal\u001b[0m\n"
     ]
    },
    {
     "data": {
      "text/html": [
       "<div>\n",
       "<style scoped>\n",
       "    .dataframe tbody tr th:only-of-type {\n",
       "        vertical-align: middle;\n",
       "    }\n",
       "\n",
       "    .dataframe tbody tr th {\n",
       "        vertical-align: top;\n",
       "    }\n",
       "\n",
       "    .dataframe thead th {\n",
       "        text-align: right;\n",
       "    }\n",
       "</style>\n",
       "<table border=\"1\" class=\"dataframe\">\n",
       "  <thead>\n",
       "    <tr style=\"text-align: right;\">\n",
       "      <th></th>\n",
       "      <th>customer_id</th>\n",
       "      <th>gender</th>\n",
       "      <th>senior_citizen</th>\n",
       "      <th>partner</th>\n",
       "      <th>dependents</th>\n",
       "    </tr>\n",
       "  </thead>\n",
       "  <tbody>\n",
       "    <tr>\n",
       "      <th>count</th>\n",
       "      <td>7043</td>\n",
       "      <td>7043</td>\n",
       "      <td>7,043.00</td>\n",
       "      <td>7043</td>\n",
       "      <td>7043</td>\n",
       "    </tr>\n",
       "    <tr>\n",
       "      <th>unique</th>\n",
       "      <td>7043</td>\n",
       "      <td>2</td>\n",
       "      <td>NaN</td>\n",
       "      <td>2</td>\n",
       "      <td>2</td>\n",
       "    </tr>\n",
       "    <tr>\n",
       "      <th>top</th>\n",
       "      <td>2309-OSFEU</td>\n",
       "      <td>Male</td>\n",
       "      <td>NaN</td>\n",
       "      <td>No</td>\n",
       "      <td>No</td>\n",
       "    </tr>\n",
       "    <tr>\n",
       "      <th>freq</th>\n",
       "      <td>1</td>\n",
       "      <td>3555</td>\n",
       "      <td>NaN</td>\n",
       "      <td>3641</td>\n",
       "      <td>4933</td>\n",
       "    </tr>\n",
       "    <tr>\n",
       "      <th>mean</th>\n",
       "      <td>NaN</td>\n",
       "      <td>NaN</td>\n",
       "      <td>0.16</td>\n",
       "      <td>NaN</td>\n",
       "      <td>NaN</td>\n",
       "    </tr>\n",
       "    <tr>\n",
       "      <th>std</th>\n",
       "      <td>NaN</td>\n",
       "      <td>NaN</td>\n",
       "      <td>0.37</td>\n",
       "      <td>NaN</td>\n",
       "      <td>NaN</td>\n",
       "    </tr>\n",
       "    <tr>\n",
       "      <th>min</th>\n",
       "      <td>NaN</td>\n",
       "      <td>NaN</td>\n",
       "      <td>0.00</td>\n",
       "      <td>NaN</td>\n",
       "      <td>NaN</td>\n",
       "    </tr>\n",
       "    <tr>\n",
       "      <th>25%</th>\n",
       "      <td>NaN</td>\n",
       "      <td>NaN</td>\n",
       "      <td>0.00</td>\n",
       "      <td>NaN</td>\n",
       "      <td>NaN</td>\n",
       "    </tr>\n",
       "    <tr>\n",
       "      <th>50%</th>\n",
       "      <td>NaN</td>\n",
       "      <td>NaN</td>\n",
       "      <td>0.00</td>\n",
       "      <td>NaN</td>\n",
       "      <td>NaN</td>\n",
       "    </tr>\n",
       "    <tr>\n",
       "      <th>75%</th>\n",
       "      <td>NaN</td>\n",
       "      <td>NaN</td>\n",
       "      <td>0.00</td>\n",
       "      <td>NaN</td>\n",
       "      <td>NaN</td>\n",
       "    </tr>\n",
       "    <tr>\n",
       "      <th>max</th>\n",
       "      <td>NaN</td>\n",
       "      <td>NaN</td>\n",
       "      <td>1.00</td>\n",
       "      <td>NaN</td>\n",
       "      <td>NaN</td>\n",
       "    </tr>\n",
       "  </tbody>\n",
       "</table>\n",
       "</div>"
      ],
      "text/plain": [
       "       customer_id gender  senior_citizen partner dependents\n",
       "count         7043   7043        7,043.00    7043       7043\n",
       "unique        7043      2             NaN       2          2\n",
       "top     2309-OSFEU   Male             NaN      No         No\n",
       "freq             1   3555             NaN    3641       4933\n",
       "mean           NaN    NaN            0.16     NaN        NaN\n",
       "std            NaN    NaN            0.37     NaN        NaN\n",
       "min            NaN    NaN            0.00     NaN        NaN\n",
       "25%            NaN    NaN            0.00     NaN        NaN\n",
       "50%            NaN    NaN            0.00     NaN        NaN\n",
       "75%            NaN    NaN            0.00     NaN        NaN\n",
       "max            NaN    NaN            1.00     NaN        NaN"
      ]
     },
     "metadata": {},
     "output_type": "display_data"
    },
    {
     "name": "stdout",
     "output_type": "stream",
     "text": [
      "\u001b[1m\u001b[34m\n",
      "Датафрейм: internet\u001b[0m\n"
     ]
    },
    {
     "data": {
      "text/html": [
       "<div>\n",
       "<style scoped>\n",
       "    .dataframe tbody tr th:only-of-type {\n",
       "        vertical-align: middle;\n",
       "    }\n",
       "\n",
       "    .dataframe tbody tr th {\n",
       "        vertical-align: top;\n",
       "    }\n",
       "\n",
       "    .dataframe thead th {\n",
       "        text-align: right;\n",
       "    }\n",
       "</style>\n",
       "<table border=\"1\" class=\"dataframe\">\n",
       "  <thead>\n",
       "    <tr style=\"text-align: right;\">\n",
       "      <th></th>\n",
       "      <th>customer_id</th>\n",
       "      <th>internet_service</th>\n",
       "      <th>online_security</th>\n",
       "      <th>online_backup</th>\n",
       "      <th>device_protection</th>\n",
       "      <th>tech_support</th>\n",
       "      <th>streaming_tv</th>\n",
       "      <th>streaming_movies</th>\n",
       "    </tr>\n",
       "  </thead>\n",
       "  <tbody>\n",
       "    <tr>\n",
       "      <th>count</th>\n",
       "      <td>5517</td>\n",
       "      <td>5517</td>\n",
       "      <td>5517</td>\n",
       "      <td>5517</td>\n",
       "      <td>5517</td>\n",
       "      <td>5517</td>\n",
       "      <td>5517</td>\n",
       "      <td>5517</td>\n",
       "    </tr>\n",
       "    <tr>\n",
       "      <th>unique</th>\n",
       "      <td>5517</td>\n",
       "      <td>2</td>\n",
       "      <td>2</td>\n",
       "      <td>2</td>\n",
       "      <td>2</td>\n",
       "      <td>2</td>\n",
       "      <td>2</td>\n",
       "      <td>2</td>\n",
       "    </tr>\n",
       "    <tr>\n",
       "      <th>top</th>\n",
       "      <td>2309-OSFEU</td>\n",
       "      <td>Fiber optic</td>\n",
       "      <td>No</td>\n",
       "      <td>No</td>\n",
       "      <td>No</td>\n",
       "      <td>No</td>\n",
       "      <td>No</td>\n",
       "      <td>No</td>\n",
       "    </tr>\n",
       "    <tr>\n",
       "      <th>freq</th>\n",
       "      <td>1</td>\n",
       "      <td>3096</td>\n",
       "      <td>3498</td>\n",
       "      <td>3088</td>\n",
       "      <td>3095</td>\n",
       "      <td>3473</td>\n",
       "      <td>2810</td>\n",
       "      <td>2785</td>\n",
       "    </tr>\n",
       "  </tbody>\n",
       "</table>\n",
       "</div>"
      ],
      "text/plain": [
       "       customer_id internet_service online_security online_backup  \\\n",
       "count         5517             5517            5517          5517   \n",
       "unique        5517                2               2             2   \n",
       "top     2309-OSFEU      Fiber optic              No            No   \n",
       "freq             1             3096            3498          3088   \n",
       "\n",
       "       device_protection tech_support streaming_tv streaming_movies  \n",
       "count               5517         5517         5517             5517  \n",
       "unique                 2            2            2                2  \n",
       "top                   No           No           No               No  \n",
       "freq                3095         3473         2810             2785  "
      ]
     },
     "metadata": {},
     "output_type": "display_data"
    },
    {
     "name": "stdout",
     "output_type": "stream",
     "text": [
      "\u001b[1m\u001b[34m\n",
      "Датафрейм: phone\u001b[0m\n"
     ]
    },
    {
     "data": {
      "text/html": [
       "<div>\n",
       "<style scoped>\n",
       "    .dataframe tbody tr th:only-of-type {\n",
       "        vertical-align: middle;\n",
       "    }\n",
       "\n",
       "    .dataframe tbody tr th {\n",
       "        vertical-align: top;\n",
       "    }\n",
       "\n",
       "    .dataframe thead th {\n",
       "        text-align: right;\n",
       "    }\n",
       "</style>\n",
       "<table border=\"1\" class=\"dataframe\">\n",
       "  <thead>\n",
       "    <tr style=\"text-align: right;\">\n",
       "      <th></th>\n",
       "      <th>customer_id</th>\n",
       "      <th>multiple_lines</th>\n",
       "    </tr>\n",
       "  </thead>\n",
       "  <tbody>\n",
       "    <tr>\n",
       "      <th>count</th>\n",
       "      <td>6361</td>\n",
       "      <td>6361</td>\n",
       "    </tr>\n",
       "    <tr>\n",
       "      <th>unique</th>\n",
       "      <td>6361</td>\n",
       "      <td>2</td>\n",
       "    </tr>\n",
       "    <tr>\n",
       "      <th>top</th>\n",
       "      <td>0862-PRCBS</td>\n",
       "      <td>No</td>\n",
       "    </tr>\n",
       "    <tr>\n",
       "      <th>freq</th>\n",
       "      <td>1</td>\n",
       "      <td>3390</td>\n",
       "    </tr>\n",
       "  </tbody>\n",
       "</table>\n",
       "</div>"
      ],
      "text/plain": [
       "       customer_id multiple_lines\n",
       "count         6361           6361\n",
       "unique        6361              2\n",
       "top     0862-PRCBS             No\n",
       "freq             1           3390"
      ]
     },
     "metadata": {},
     "output_type": "display_data"
    }
   ],
   "source": [
    "for dataframe_name, dataframe in dataframes.items():\n",
    "    print(f'\\033[1m\\33[34m\\nДатафрейм: {dataframe_name}\\33[0m')\n",
    "    display(dataframe.describe(include = \"all\"))"
   ]
  },
  {
   "cell_type": "markdown",
   "id": "961ea95f",
   "metadata": {},
   "source": [
    "**Выведем основную информацию о датафреймах с помощью метода `info()`.**"
   ]
  },
  {
   "cell_type": "code",
   "execution_count": 22,
   "id": "d7f0595e",
   "metadata": {},
   "outputs": [
    {
     "name": "stdout",
     "output_type": "stream",
     "text": [
      "\u001b[1m\u001b[34m\n",
      "Датафрейм: contract\u001b[0m\n",
      "<class 'pandas.core.frame.DataFrame'>\n",
      "RangeIndex: 7043 entries, 0 to 7042\n",
      "Data columns (total 8 columns):\n",
      " #   Column             Non-Null Count  Dtype  \n",
      "---  ------             --------------  -----  \n",
      " 0   customer_id        7043 non-null   object \n",
      " 1   begin_date         7043 non-null   object \n",
      " 2   end_date           7043 non-null   object \n",
      " 3   type               7043 non-null   object \n",
      " 4   paperless_billing  7043 non-null   object \n",
      " 5   payment_method     7043 non-null   object \n",
      " 6   monthly_charges    7043 non-null   float64\n",
      " 7   total_charges      7043 non-null   object \n",
      "dtypes: float64(1), object(7)\n",
      "memory usage: 440.3+ KB\n",
      "None\n",
      "\u001b[1m\u001b[34m\n",
      "Датафрейм: personal\u001b[0m\n",
      "<class 'pandas.core.frame.DataFrame'>\n",
      "RangeIndex: 7043 entries, 0 to 7042\n",
      "Data columns (total 5 columns):\n",
      " #   Column          Non-Null Count  Dtype \n",
      "---  ------          --------------  ----- \n",
      " 0   customer_id     7043 non-null   object\n",
      " 1   gender          7043 non-null   object\n",
      " 2   senior_citizen  7043 non-null   int64 \n",
      " 3   partner         7043 non-null   object\n",
      " 4   dependents      7043 non-null   object\n",
      "dtypes: int64(1), object(4)\n",
      "memory usage: 275.2+ KB\n",
      "None\n",
      "\u001b[1m\u001b[34m\n",
      "Датафрейм: internet\u001b[0m\n",
      "<class 'pandas.core.frame.DataFrame'>\n",
      "RangeIndex: 5517 entries, 0 to 5516\n",
      "Data columns (total 8 columns):\n",
      " #   Column             Non-Null Count  Dtype \n",
      "---  ------             --------------  ----- \n",
      " 0   customer_id        5517 non-null   object\n",
      " 1   internet_service   5517 non-null   object\n",
      " 2   online_security    5517 non-null   object\n",
      " 3   online_backup      5517 non-null   object\n",
      " 4   device_protection  5517 non-null   object\n",
      " 5   tech_support       5517 non-null   object\n",
      " 6   streaming_tv       5517 non-null   object\n",
      " 7   streaming_movies   5517 non-null   object\n",
      "dtypes: object(8)\n",
      "memory usage: 344.9+ KB\n",
      "None\n",
      "\u001b[1m\u001b[34m\n",
      "Датафрейм: phone\u001b[0m\n",
      "<class 'pandas.core.frame.DataFrame'>\n",
      "RangeIndex: 6361 entries, 0 to 6360\n",
      "Data columns (total 2 columns):\n",
      " #   Column          Non-Null Count  Dtype \n",
      "---  ------          --------------  ----- \n",
      " 0   customer_id     6361 non-null   object\n",
      " 1   multiple_lines  6361 non-null   object\n",
      "dtypes: object(2)\n",
      "memory usage: 99.5+ KB\n",
      "None\n"
     ]
    }
   ],
   "source": [
    "for dataframe_name, dataframe in dataframes.items():\n",
    "    print(f'\\033[1m\\33[34m\\nДатафрейм: {dataframe_name}\\33[0m')\n",
    "    print(dataframe.info())"
   ]
  },
  {
   "cell_type": "markdown",
   "id": "55017025",
   "metadata": {},
   "source": [
    "**Выведем количество пропущенных значений для каждой колонки.**"
   ]
  },
  {
   "cell_type": "code",
   "execution_count": 23,
   "id": "3abde355",
   "metadata": {},
   "outputs": [
    {
     "name": "stdout",
     "output_type": "stream",
     "text": [
      "\u001b[1m\u001b[34m\n",
      "Датафрейм: contract\u001b[0m\n"
     ]
    },
    {
     "data": {
      "text/html": [
       "<style  type=\"text/css\" >\n",
       "#T_2af1a_row0_col0,#T_2af1a_row1_col0,#T_2af1a_row2_col0,#T_2af1a_row3_col0,#T_2af1a_row4_col0,#T_2af1a_row5_col0,#T_2af1a_row6_col0,#T_2af1a_row7_col0{\n",
       "            background-color:  #3b4cc0;\n",
       "            color:  #f1f1f1;\n",
       "        }</style><table id=\"T_2af1a_\" ><thead>    <tr>        <th class=\"blank level0\" ></th>        <th class=\"col_heading level0 col0\" >0</th>    </tr></thead><tbody>\n",
       "                <tr>\n",
       "                        <th id=\"T_2af1a_level0_row0\" class=\"row_heading level0 row0\" >customer_id</th>\n",
       "                        <td id=\"T_2af1a_row0_col0\" class=\"data row0 col0\" >0</td>\n",
       "            </tr>\n",
       "            <tr>\n",
       "                        <th id=\"T_2af1a_level0_row1\" class=\"row_heading level0 row1\" >begin_date</th>\n",
       "                        <td id=\"T_2af1a_row1_col0\" class=\"data row1 col0\" >0</td>\n",
       "            </tr>\n",
       "            <tr>\n",
       "                        <th id=\"T_2af1a_level0_row2\" class=\"row_heading level0 row2\" >end_date</th>\n",
       "                        <td id=\"T_2af1a_row2_col0\" class=\"data row2 col0\" >0</td>\n",
       "            </tr>\n",
       "            <tr>\n",
       "                        <th id=\"T_2af1a_level0_row3\" class=\"row_heading level0 row3\" >type</th>\n",
       "                        <td id=\"T_2af1a_row3_col0\" class=\"data row3 col0\" >0</td>\n",
       "            </tr>\n",
       "            <tr>\n",
       "                        <th id=\"T_2af1a_level0_row4\" class=\"row_heading level0 row4\" >paperless_billing</th>\n",
       "                        <td id=\"T_2af1a_row4_col0\" class=\"data row4 col0\" >0</td>\n",
       "            </tr>\n",
       "            <tr>\n",
       "                        <th id=\"T_2af1a_level0_row5\" class=\"row_heading level0 row5\" >payment_method</th>\n",
       "                        <td id=\"T_2af1a_row5_col0\" class=\"data row5 col0\" >0</td>\n",
       "            </tr>\n",
       "            <tr>\n",
       "                        <th id=\"T_2af1a_level0_row6\" class=\"row_heading level0 row6\" >monthly_charges</th>\n",
       "                        <td id=\"T_2af1a_row6_col0\" class=\"data row6 col0\" >0</td>\n",
       "            </tr>\n",
       "            <tr>\n",
       "                        <th id=\"T_2af1a_level0_row7\" class=\"row_heading level0 row7\" >total_charges</th>\n",
       "                        <td id=\"T_2af1a_row7_col0\" class=\"data row7 col0\" >0</td>\n",
       "            </tr>\n",
       "    </tbody></table>"
      ],
      "text/plain": [
       "<pandas.io.formats.style.Styler at 0x7fd30245fca0>"
      ]
     },
     "metadata": {},
     "output_type": "display_data"
    },
    {
     "name": "stdout",
     "output_type": "stream",
     "text": [
      "\u001b[1m\u001b[34m\n",
      "Датафрейм: personal\u001b[0m\n"
     ]
    },
    {
     "data": {
      "text/html": [
       "<style  type=\"text/css\" >\n",
       "#T_5b387_row0_col0,#T_5b387_row1_col0,#T_5b387_row2_col0,#T_5b387_row3_col0,#T_5b387_row4_col0{\n",
       "            background-color:  #3b4cc0;\n",
       "            color:  #f1f1f1;\n",
       "        }</style><table id=\"T_5b387_\" ><thead>    <tr>        <th class=\"blank level0\" ></th>        <th class=\"col_heading level0 col0\" >0</th>    </tr></thead><tbody>\n",
       "                <tr>\n",
       "                        <th id=\"T_5b387_level0_row0\" class=\"row_heading level0 row0\" >customer_id</th>\n",
       "                        <td id=\"T_5b387_row0_col0\" class=\"data row0 col0\" >0</td>\n",
       "            </tr>\n",
       "            <tr>\n",
       "                        <th id=\"T_5b387_level0_row1\" class=\"row_heading level0 row1\" >gender</th>\n",
       "                        <td id=\"T_5b387_row1_col0\" class=\"data row1 col0\" >0</td>\n",
       "            </tr>\n",
       "            <tr>\n",
       "                        <th id=\"T_5b387_level0_row2\" class=\"row_heading level0 row2\" >senior_citizen</th>\n",
       "                        <td id=\"T_5b387_row2_col0\" class=\"data row2 col0\" >0</td>\n",
       "            </tr>\n",
       "            <tr>\n",
       "                        <th id=\"T_5b387_level0_row3\" class=\"row_heading level0 row3\" >partner</th>\n",
       "                        <td id=\"T_5b387_row3_col0\" class=\"data row3 col0\" >0</td>\n",
       "            </tr>\n",
       "            <tr>\n",
       "                        <th id=\"T_5b387_level0_row4\" class=\"row_heading level0 row4\" >dependents</th>\n",
       "                        <td id=\"T_5b387_row4_col0\" class=\"data row4 col0\" >0</td>\n",
       "            </tr>\n",
       "    </tbody></table>"
      ],
      "text/plain": [
       "<pandas.io.formats.style.Styler at 0x7fd302404c40>"
      ]
     },
     "metadata": {},
     "output_type": "display_data"
    },
    {
     "name": "stdout",
     "output_type": "stream",
     "text": [
      "\u001b[1m\u001b[34m\n",
      "Датафрейм: internet\u001b[0m\n"
     ]
    },
    {
     "data": {
      "text/html": [
       "<style  type=\"text/css\" >\n",
       "#T_43596_row0_col0,#T_43596_row1_col0,#T_43596_row2_col0,#T_43596_row3_col0,#T_43596_row4_col0,#T_43596_row5_col0,#T_43596_row6_col0,#T_43596_row7_col0{\n",
       "            background-color:  #3b4cc0;\n",
       "            color:  #f1f1f1;\n",
       "        }</style><table id=\"T_43596_\" ><thead>    <tr>        <th class=\"blank level0\" ></th>        <th class=\"col_heading level0 col0\" >0</th>    </tr></thead><tbody>\n",
       "                <tr>\n",
       "                        <th id=\"T_43596_level0_row0\" class=\"row_heading level0 row0\" >customer_id</th>\n",
       "                        <td id=\"T_43596_row0_col0\" class=\"data row0 col0\" >0</td>\n",
       "            </tr>\n",
       "            <tr>\n",
       "                        <th id=\"T_43596_level0_row1\" class=\"row_heading level0 row1\" >internet_service</th>\n",
       "                        <td id=\"T_43596_row1_col0\" class=\"data row1 col0\" >0</td>\n",
       "            </tr>\n",
       "            <tr>\n",
       "                        <th id=\"T_43596_level0_row2\" class=\"row_heading level0 row2\" >online_security</th>\n",
       "                        <td id=\"T_43596_row2_col0\" class=\"data row2 col0\" >0</td>\n",
       "            </tr>\n",
       "            <tr>\n",
       "                        <th id=\"T_43596_level0_row3\" class=\"row_heading level0 row3\" >online_backup</th>\n",
       "                        <td id=\"T_43596_row3_col0\" class=\"data row3 col0\" >0</td>\n",
       "            </tr>\n",
       "            <tr>\n",
       "                        <th id=\"T_43596_level0_row4\" class=\"row_heading level0 row4\" >device_protection</th>\n",
       "                        <td id=\"T_43596_row4_col0\" class=\"data row4 col0\" >0</td>\n",
       "            </tr>\n",
       "            <tr>\n",
       "                        <th id=\"T_43596_level0_row5\" class=\"row_heading level0 row5\" >tech_support</th>\n",
       "                        <td id=\"T_43596_row5_col0\" class=\"data row5 col0\" >0</td>\n",
       "            </tr>\n",
       "            <tr>\n",
       "                        <th id=\"T_43596_level0_row6\" class=\"row_heading level0 row6\" >streaming_tv</th>\n",
       "                        <td id=\"T_43596_row6_col0\" class=\"data row6 col0\" >0</td>\n",
       "            </tr>\n",
       "            <tr>\n",
       "                        <th id=\"T_43596_level0_row7\" class=\"row_heading level0 row7\" >streaming_movies</th>\n",
       "                        <td id=\"T_43596_row7_col0\" class=\"data row7 col0\" >0</td>\n",
       "            </tr>\n",
       "    </tbody></table>"
      ],
      "text/plain": [
       "<pandas.io.formats.style.Styler at 0x7fd3023ebcd0>"
      ]
     },
     "metadata": {},
     "output_type": "display_data"
    },
    {
     "name": "stdout",
     "output_type": "stream",
     "text": [
      "\u001b[1m\u001b[34m\n",
      "Датафрейм: phone\u001b[0m\n"
     ]
    },
    {
     "data": {
      "text/html": [
       "<style  type=\"text/css\" >\n",
       "#T_5aa61_row0_col0,#T_5aa61_row1_col0{\n",
       "            background-color:  #3b4cc0;\n",
       "            color:  #f1f1f1;\n",
       "        }</style><table id=\"T_5aa61_\" ><thead>    <tr>        <th class=\"blank level0\" ></th>        <th class=\"col_heading level0 col0\" >0</th>    </tr></thead><tbody>\n",
       "                <tr>\n",
       "                        <th id=\"T_5aa61_level0_row0\" class=\"row_heading level0 row0\" >customer_id</th>\n",
       "                        <td id=\"T_5aa61_row0_col0\" class=\"data row0 col0\" >0</td>\n",
       "            </tr>\n",
       "            <tr>\n",
       "                        <th id=\"T_5aa61_level0_row1\" class=\"row_heading level0 row1\" >multiple_lines</th>\n",
       "                        <td id=\"T_5aa61_row1_col0\" class=\"data row1 col0\" >0</td>\n",
       "            </tr>\n",
       "    </tbody></table>"
      ],
      "text/plain": [
       "<pandas.io.formats.style.Styler at 0x7fd3023ebbb0>"
      ]
     },
     "metadata": {},
     "output_type": "display_data"
    }
   ],
   "source": [
    "for dataframe_name, dataframe in dataframes.items():\n",
    "    print(f'\\033[1m\\33[34m\\nДатафрейм: {dataframe_name}\\33[0m')\n",
    "    display(pd.DataFrame(dataframe.isna().sum()).style.background_gradient('coolwarm'))"
   ]
  },
  {
   "cell_type": "markdown",
   "id": "e0e2a666",
   "metadata": {},
   "source": [
    "**Проверим дубликаты.**"
   ]
  },
  {
   "cell_type": "code",
   "execution_count": 24,
   "id": "46e6b38c",
   "metadata": {},
   "outputs": [
    {
     "name": "stdout",
     "output_type": "stream",
     "text": [
      "\u001b[1m\u001b[34m\n",
      "Датафрейм: contract\u001b[0m\n",
      "0\n",
      "\u001b[1m\u001b[34m\n",
      "Датафрейм: personal\u001b[0m\n",
      "0\n",
      "\u001b[1m\u001b[34m\n",
      "Датафрейм: internet\u001b[0m\n",
      "0\n",
      "\u001b[1m\u001b[34m\n",
      "Датафрейм: phone\u001b[0m\n",
      "0\n"
     ]
    }
   ],
   "source": [
    "for dataframe_name, dataframe in dataframes.items():\n",
    "    print(f'\\033[1m\\33[34m\\nДатафрейм: {dataframe_name}\\33[0m')\n",
    "    print(dataframe.duplicated().sum())"
   ]
  },
  {
   "cell_type": "markdown",
   "id": "f6c3d4c3",
   "metadata": {},
   "source": [
    "### Изучим общую информацию о полученных датафреймах используя бибилиотеку `ydata-profiling`"
   ]
  },
  {
   "cell_type": "markdown",
   "id": "43ca63af",
   "metadata": {},
   "source": [
    "**Для отображения данных, используем словарь и цикл, созданный ранее.**"
   ]
  },
  {
   "cell_type": "raw",
   "id": "ee67070d",
   "metadata": {
    "scrolled": true
   },
   "source": [
    "for dataframe_name, dataframe in dataframes.items():\n",
    "    print(f'\\033[1m\\33[34m\\nДатафрейм: {dataframe_name}\\33[0m')\n",
    "    ProfileReport(dataframe, title=\"Pandas Profiling Report\", explorative=True).to_widgets()"
   ]
  },
  {
   "cell_type": "markdown",
   "id": "5a1b507c",
   "metadata": {},
   "source": [
    "### Выводы исследования данных"
   ]
  },
  {
   "cell_type": "markdown",
   "id": "ce1e3ac1",
   "metadata": {},
   "source": [
    "**Датафрейм: contract**  \n",
    "\n",
    "1. Имеем 7043 уникальных строк;\n",
    "2. В признаке begin_date, видим чередующиеся пики подключений. Возможно они связаны с проведением рекламных акций;\n",
    "3. В признаке end_date, основная масса абонентов - 5942 человек, остаются активными;\n",
    "4. Половина абонентов оплачивают подписку на услуги помесячно. Оставшаяся половина пользуется годовой и двухлетней подпиской 50/50 соответственно. Возможно оплата сразу на год-два выгоднее с финансовой точки зрения;\n",
    "5. В признаке payment_method видим, что почти половина пользователей, подписались на автоматическую оплату. Что говорит о доверии к провайдеру;\n",
    "6. В признаке monthly_charges можем увидеть, что первые абоненты тратили на услуги больше всего, возможно тариф был только с оплатой на год вперед. Также видим, что в послединие месяцы, ежемесячные расходы пользователей уменьшились.\n",
    "\n",
    "**Найденные проблемы в датафрейме contract:**  \n",
    "\n",
    "* В begin_date необходимо сменить тип данных на datetime;\n",
    "* В monthly_charges необходимо сменить тип данных на int;\n",
    "* В total_charges имеются незаполнненные ячейки (пропуски данных), также необходимо сменить тип данных на float, после заполнения пропусков.\n",
    "\n",
    "**Датафрейм: personal**  \n",
    "\n",
    "1. Имеем 7043 уникальных строк;\n",
    "2. Распределение гендеров 50/50;\n",
    "3. 12.5% абонентов имеют пенсионный статус;\n",
    "4. 50% абонентов имеют статус супруга;\n",
    "5. 30% абонентов имеют иждевенца;\n",
    "6. Проблем с данными не выявлено. Признаки распределены нормально. Возможно нужно будет пораборать с дисбалансом в признаке senior_citizen и dependents.\n",
    "\n",
    "**Датафрейм: internet**  \n",
    "\n",
    "1. Имеем 5517 уникальных строк;\n",
    "2. Чуть более половины абонентов пользуется услугой оптоволоконной связи, оставшаяся часть пользуется улугой DSL;\n",
    "3. Примерно 40% абонентов пользуется дополнительными услугами, которые предоставляет оператор;\n",
    "4. Проблем с данными не выявлено.\n",
    "\n",
    "**Датафрейм: phone**  \n",
    "\n",
    "1. Имеем 6361 уникальных строк;\n",
    "2. Чуть менее половины абонентов имеют наличие возможности ведения параллельных линий во время звонка;\n",
    "3. Проблем с данными не выявлено."
   ]
  },
  {
   "cell_type": "markdown",
   "id": "f46bcebc",
   "metadata": {},
   "source": [
    "## Подробный план работ"
   ]
  },
  {
   "cell_type": "markdown",
   "id": "bb899a8b",
   "metadata": {},
   "source": [
    "1. Исправляем найденные проблемы в датафрейме contract;\n",
    "2. Соединяем датафреймы. Следим за тем, чтобы данные не потерялись;\n",
    "3. Исследуем корреляцию, используем библиотеку phik;\n",
    "4. Готовим итоговую таблицу. Выполняем отбор признаков. Выделяем целевой признак EndDate;\n",
    "5. Анализируем распределение признаков;\n",
    "6. Кодируем признаки. Выделяем тестовую выборку;\n",
    "7. Исследуем модели - не менее двух разных алгоритмов. Используем только интерпретируемые модели;\n",
    "8. Подбираем гиперпараметры, оцениваем модели на кросс-валидации.\n",
    "9. Выбираем одну лучшую модель, оцениваем её на test выборке."
   ]
  },
  {
   "cell_type": "markdown",
   "id": "9d3769e3",
   "metadata": {},
   "source": [
    "## Подготовка данных"
   ]
  },
  {
   "cell_type": "markdown",
   "id": "3635addf",
   "metadata": {},
   "source": [
    "### Устранение проблем в датафрейме `contract`"
   ]
  },
  {
   "cell_type": "markdown",
   "id": "3643a450",
   "metadata": {},
   "source": [
    "**В признаке `begin_date` изменим тип данных на `datetime64`.**"
   ]
  },
  {
   "cell_type": "code",
   "execution_count": 25,
   "id": "ebc42e55",
   "metadata": {},
   "outputs": [],
   "source": [
    "dataframes['contract']['begin_date'] = pd.to_datetime(dataframes['contract']['begin_date'], format='%Y-%m-%d')"
   ]
  },
  {
   "cell_type": "markdown",
   "id": "fa0372ed",
   "metadata": {},
   "source": [
    "**В признаке `monthly_charges` изменим тип данных на `int64`.**"
   ]
  },
  {
   "cell_type": "code",
   "execution_count": 26,
   "id": "0c170504",
   "metadata": {},
   "outputs": [],
   "source": [
    "dataframes['contract']['monthly_charges'] = dataframes['contract']['monthly_charges'].astype('int64')"
   ]
  },
  {
   "cell_type": "markdown",
   "id": "8a4ec690",
   "metadata": {},
   "source": [
    "**В признаке `total_charges` имеются незаполнненные ячейки (пропуски данных), отобразим их.**"
   ]
  },
  {
   "cell_type": "code",
   "execution_count": 27,
   "id": "0c75f5f5",
   "metadata": {
    "scrolled": false
   },
   "outputs": [
    {
     "data": {
      "text/html": [
       "<div>\n",
       "<style scoped>\n",
       "    .dataframe tbody tr th:only-of-type {\n",
       "        vertical-align: middle;\n",
       "    }\n",
       "\n",
       "    .dataframe tbody tr th {\n",
       "        vertical-align: top;\n",
       "    }\n",
       "\n",
       "    .dataframe thead th {\n",
       "        text-align: right;\n",
       "    }\n",
       "</style>\n",
       "<table border=\"1\" class=\"dataframe\">\n",
       "  <thead>\n",
       "    <tr style=\"text-align: right;\">\n",
       "      <th></th>\n",
       "      <th>customer_id</th>\n",
       "      <th>begin_date</th>\n",
       "      <th>end_date</th>\n",
       "      <th>type</th>\n",
       "      <th>paperless_billing</th>\n",
       "      <th>payment_method</th>\n",
       "      <th>monthly_charges</th>\n",
       "      <th>total_charges</th>\n",
       "    </tr>\n",
       "  </thead>\n",
       "  <tbody>\n",
       "    <tr>\n",
       "      <th>488</th>\n",
       "      <td>4472-LVYGI</td>\n",
       "      <td>2020-02-01</td>\n",
       "      <td>No</td>\n",
       "      <td>Two year</td>\n",
       "      <td>Yes</td>\n",
       "      <td>Bank transfer (automatic)</td>\n",
       "      <td>52</td>\n",
       "      <td></td>\n",
       "    </tr>\n",
       "    <tr>\n",
       "      <th>753</th>\n",
       "      <td>3115-CZMZD</td>\n",
       "      <td>2020-02-01</td>\n",
       "      <td>No</td>\n",
       "      <td>Two year</td>\n",
       "      <td>No</td>\n",
       "      <td>Mailed check</td>\n",
       "      <td>20</td>\n",
       "      <td></td>\n",
       "    </tr>\n",
       "    <tr>\n",
       "      <th>936</th>\n",
       "      <td>5709-LVOEQ</td>\n",
       "      <td>2020-02-01</td>\n",
       "      <td>No</td>\n",
       "      <td>Two year</td>\n",
       "      <td>No</td>\n",
       "      <td>Mailed check</td>\n",
       "      <td>80</td>\n",
       "      <td></td>\n",
       "    </tr>\n",
       "    <tr>\n",
       "      <th>1082</th>\n",
       "      <td>4367-NUYAO</td>\n",
       "      <td>2020-02-01</td>\n",
       "      <td>No</td>\n",
       "      <td>Two year</td>\n",
       "      <td>No</td>\n",
       "      <td>Mailed check</td>\n",
       "      <td>25</td>\n",
       "      <td></td>\n",
       "    </tr>\n",
       "    <tr>\n",
       "      <th>1340</th>\n",
       "      <td>1371-DWPAZ</td>\n",
       "      <td>2020-02-01</td>\n",
       "      <td>No</td>\n",
       "      <td>Two year</td>\n",
       "      <td>No</td>\n",
       "      <td>Credit card (automatic)</td>\n",
       "      <td>56</td>\n",
       "      <td></td>\n",
       "    </tr>\n",
       "    <tr>\n",
       "      <th>3331</th>\n",
       "      <td>7644-OMVMY</td>\n",
       "      <td>2020-02-01</td>\n",
       "      <td>No</td>\n",
       "      <td>Two year</td>\n",
       "      <td>No</td>\n",
       "      <td>Mailed check</td>\n",
       "      <td>19</td>\n",
       "      <td></td>\n",
       "    </tr>\n",
       "    <tr>\n",
       "      <th>3826</th>\n",
       "      <td>3213-VVOLG</td>\n",
       "      <td>2020-02-01</td>\n",
       "      <td>No</td>\n",
       "      <td>Two year</td>\n",
       "      <td>No</td>\n",
       "      <td>Mailed check</td>\n",
       "      <td>25</td>\n",
       "      <td></td>\n",
       "    </tr>\n",
       "    <tr>\n",
       "      <th>4380</th>\n",
       "      <td>2520-SGTTA</td>\n",
       "      <td>2020-02-01</td>\n",
       "      <td>No</td>\n",
       "      <td>Two year</td>\n",
       "      <td>No</td>\n",
       "      <td>Mailed check</td>\n",
       "      <td>20</td>\n",
       "      <td></td>\n",
       "    </tr>\n",
       "    <tr>\n",
       "      <th>5218</th>\n",
       "      <td>2923-ARZLG</td>\n",
       "      <td>2020-02-01</td>\n",
       "      <td>No</td>\n",
       "      <td>One year</td>\n",
       "      <td>Yes</td>\n",
       "      <td>Mailed check</td>\n",
       "      <td>19</td>\n",
       "      <td></td>\n",
       "    </tr>\n",
       "    <tr>\n",
       "      <th>6670</th>\n",
       "      <td>4075-WKNIU</td>\n",
       "      <td>2020-02-01</td>\n",
       "      <td>No</td>\n",
       "      <td>Two year</td>\n",
       "      <td>No</td>\n",
       "      <td>Mailed check</td>\n",
       "      <td>73</td>\n",
       "      <td></td>\n",
       "    </tr>\n",
       "    <tr>\n",
       "      <th>6754</th>\n",
       "      <td>2775-SEFEE</td>\n",
       "      <td>2020-02-01</td>\n",
       "      <td>No</td>\n",
       "      <td>Two year</td>\n",
       "      <td>Yes</td>\n",
       "      <td>Bank transfer (automatic)</td>\n",
       "      <td>61</td>\n",
       "      <td></td>\n",
       "    </tr>\n",
       "  </tbody>\n",
       "</table>\n",
       "</div>"
      ],
      "text/plain": [
       "     customer_id begin_date end_date      type paperless_billing  \\\n",
       "488   4472-LVYGI 2020-02-01       No  Two year               Yes   \n",
       "753   3115-CZMZD 2020-02-01       No  Two year                No   \n",
       "936   5709-LVOEQ 2020-02-01       No  Two year                No   \n",
       "1082  4367-NUYAO 2020-02-01       No  Two year                No   \n",
       "1340  1371-DWPAZ 2020-02-01       No  Two year                No   \n",
       "3331  7644-OMVMY 2020-02-01       No  Two year                No   \n",
       "3826  3213-VVOLG 2020-02-01       No  Two year                No   \n",
       "4380  2520-SGTTA 2020-02-01       No  Two year                No   \n",
       "5218  2923-ARZLG 2020-02-01       No  One year               Yes   \n",
       "6670  4075-WKNIU 2020-02-01       No  Two year                No   \n",
       "6754  2775-SEFEE 2020-02-01       No  Two year               Yes   \n",
       "\n",
       "                 payment_method  monthly_charges total_charges  \n",
       "488   Bank transfer (automatic)               52                \n",
       "753                Mailed check               20                \n",
       "936                Mailed check               80                \n",
       "1082               Mailed check               25                \n",
       "1340    Credit card (automatic)               56                \n",
       "3331               Mailed check               19                \n",
       "3826               Mailed check               25                \n",
       "4380               Mailed check               20                \n",
       "5218               Mailed check               19                \n",
       "6670               Mailed check               73                \n",
       "6754  Bank transfer (automatic)               61                "
      ]
     },
     "execution_count": 27,
     "metadata": {},
     "output_type": "execute_result"
    }
   ],
   "source": [
    "dataframes['contract'].query('total_charges ==  \" \"')"
   ]
  },
  {
   "cell_type": "code",
   "execution_count": 28,
   "id": "2addc377",
   "metadata": {},
   "outputs": [
    {
     "data": {
      "text/plain": [
       "Timestamp('2020-02-01 00:00:00')"
      ]
     },
     "execution_count": 28,
     "metadata": {},
     "output_type": "execute_result"
    }
   ],
   "source": [
    "dataframes['contract']['begin_date'].max()"
   ]
  },
  {
   "cell_type": "markdown",
   "id": "72149edf",
   "metadata": {},
   "source": [
    "**Видим, что дата начала использования услуги `begin_date` совпадает с датой выгрузки датафрейма. Можем сделать предположить, что биллинговая система оператора, оставляет пустым поле `total_charges`, в случае, если абонент пользуется услугами сутки или меньше суток.**  \n",
    "**Незаполнненные ячейки (пропуски данных) заменим на ноль.**"
   ]
  },
  {
   "cell_type": "code",
   "execution_count": 29,
   "id": "f9c209bb",
   "metadata": {},
   "outputs": [],
   "source": [
    "dataframes['contract'].loc[dataframes['contract']['total_charges'] == \" \", 'total_charges'] = 0"
   ]
  },
  {
   "cell_type": "markdown",
   "id": "1b40861c",
   "metadata": {},
   "source": [
    "**В признаке `total_charges` изменим тип данных на `float64`.**"
   ]
  },
  {
   "cell_type": "code",
   "execution_count": 30,
   "id": "33d6fbf2",
   "metadata": {},
   "outputs": [],
   "source": [
    "dataframes['contract']['total_charges'] = dataframes['contract']['total_charges'].astype('float64')"
   ]
  },
  {
   "cell_type": "markdown",
   "id": "1e41f3e9",
   "metadata": {},
   "source": [
    "### Создание целевого и дополнительных признаков"
   ]
  },
  {
   "cell_type": "markdown",
   "id": "b64d036d",
   "metadata": {},
   "source": [
    "**Добавим целевой признак `target_feature`. Если в признаке `end_date` присутствует дата, запишем `0` = Yes, иначе нет запишем `0` = No.**"
   ]
  },
  {
   "cell_type": "code",
   "execution_count": 31,
   "id": "5943bb35",
   "metadata": {},
   "outputs": [],
   "source": [
    "dataframes['contract']['target_feature'] = dataframes['contract']['end_date'].apply(lambda x: x if x == 'No' else 'Yes')"
   ]
  },
  {
   "cell_type": "markdown",
   "id": "d3561a4f",
   "metadata": {},
   "source": [
    "**Добавим признак, в котором определим длительность контракта абонента. Для этого вычтем начальную дату из конечной и запишем разницу в признак `duration`.**"
   ]
  },
  {
   "cell_type": "markdown",
   "id": "94ea79d5",
   "metadata": {},
   "source": [
    "**В признаке `end_date` значение `No` соответствует дате выгрузке датафрейма `2020-02-01 00:00:00`. Заменим значение `No` на дату выгрузки.**"
   ]
  },
  {
   "cell_type": "code",
   "execution_count": 32,
   "id": "9957d6f9",
   "metadata": {},
   "outputs": [],
   "source": [
    "dataframes['contract']['end_date'] = dataframes['contract']['end_date'].apply(lambda x: '2020-02-01' if x == 'No' else x)"
   ]
  },
  {
   "cell_type": "markdown",
   "id": "19579fd3",
   "metadata": {},
   "source": [
    "**Изменим тип данных на `datetime64`.**"
   ]
  },
  {
   "cell_type": "code",
   "execution_count": 33,
   "id": "a6b048a8",
   "metadata": {},
   "outputs": [],
   "source": [
    "dataframes['contract']['end_date'] = pd.to_datetime(dataframes['contract']['end_date'], format='%Y-%m-%d')"
   ]
  },
  {
   "cell_type": "markdown",
   "id": "4cf7a714",
   "metadata": {},
   "source": [
    "**Найдём разницу и запишем её в признак `duration`.**"
   ]
  },
  {
   "cell_type": "code",
   "execution_count": 34,
   "id": "e647740b",
   "metadata": {},
   "outputs": [],
   "source": [
    "dataframes['contract']['duration'] = (dataframes['contract']['end_date'] - dataframes['contract']['begin_date']).dt.days"
   ]
  },
  {
   "cell_type": "markdown",
   "id": "64cd2ee7",
   "metadata": {},
   "source": [
    "### Объединение датафреймов"
   ]
  },
  {
   "cell_type": "markdown",
   "id": "853cfedb",
   "metadata": {},
   "source": [
    "**Используем метод `.merge`. Объединять будем по признаку `customer_id`.**"
   ]
  },
  {
   "cell_type": "code",
   "execution_count": 35,
   "id": "baea3f3e",
   "metadata": {},
   "outputs": [],
   "source": [
    "df = dataframes['contract'] \\\n",
    "    .merge(dataframes['personal'], how='left', on='customer_id') \\\n",
    "    .merge(dataframes['internet'], how='left', on='customer_id') \\\n",
    "    .merge(dataframes['phone'], how='left', on='customer_id') "
   ]
  },
  {
   "cell_type": "markdown",
   "id": "9822874b",
   "metadata": {},
   "source": [
    "**Выведем основную информацию о датафрейме `df` с помощью метода `info()`.**"
   ]
  },
  {
   "cell_type": "code",
   "execution_count": 36,
   "id": "1c17821c",
   "metadata": {
    "scrolled": false
   },
   "outputs": [
    {
     "name": "stdout",
     "output_type": "stream",
     "text": [
      "<class 'pandas.core.frame.DataFrame'>\n",
      "Int64Index: 7043 entries, 0 to 7042\n",
      "Data columns (total 22 columns):\n",
      " #   Column             Non-Null Count  Dtype         \n",
      "---  ------             --------------  -----         \n",
      " 0   customer_id        7043 non-null   object        \n",
      " 1   begin_date         7043 non-null   datetime64[ns]\n",
      " 2   end_date           7043 non-null   datetime64[ns]\n",
      " 3   type               7043 non-null   object        \n",
      " 4   paperless_billing  7043 non-null   object        \n",
      " 5   payment_method     7043 non-null   object        \n",
      " 6   monthly_charges    7043 non-null   int64         \n",
      " 7   total_charges      7043 non-null   float64       \n",
      " 8   target_feature     7043 non-null   object        \n",
      " 9   duration           7043 non-null   int64         \n",
      " 10  gender             7043 non-null   object        \n",
      " 11  senior_citizen     7043 non-null   int64         \n",
      " 12  partner            7043 non-null   object        \n",
      " 13  dependents         7043 non-null   object        \n",
      " 14  internet_service   5517 non-null   object        \n",
      " 15  online_security    5517 non-null   object        \n",
      " 16  online_backup      5517 non-null   object        \n",
      " 17  device_protection  5517 non-null   object        \n",
      " 18  tech_support       5517 non-null   object        \n",
      " 19  streaming_tv       5517 non-null   object        \n",
      " 20  streaming_movies   5517 non-null   object        \n",
      " 21  multiple_lines     6361 non-null   object        \n",
      "dtypes: datetime64[ns](2), float64(1), int64(3), object(16)\n",
      "memory usage: 1.2+ MB\n"
     ]
    }
   ],
   "source": [
    "df.info()"
   ]
  },
  {
   "cell_type": "markdown",
   "id": "ab5e959e",
   "metadata": {},
   "source": [
    "**Переменную `dataframes` можем удалить.**"
   ]
  },
  {
   "cell_type": "code",
   "execution_count": 37,
   "id": "9d50cd0c",
   "metadata": {},
   "outputs": [],
   "source": [
    "del dataframes"
   ]
  },
  {
   "cell_type": "markdown",
   "id": "17b67185",
   "metadata": {},
   "source": [
    "### Работа с пропусками в датафрейме `df`, после объединения"
   ]
  },
  {
   "cell_type": "markdown",
   "id": "064310ad",
   "metadata": {},
   "source": [
    "**Выведем количество пропущенных значений для каждой колонки.**"
   ]
  },
  {
   "cell_type": "code",
   "execution_count": 38,
   "id": "8aff43ad",
   "metadata": {},
   "outputs": [
    {
     "data": {
      "text/html": [
       "<style  type=\"text/css\" >\n",
       "#T_ca86b_row0_col0,#T_ca86b_row1_col0,#T_ca86b_row2_col0,#T_ca86b_row3_col0,#T_ca86b_row4_col0,#T_ca86b_row5_col0,#T_ca86b_row6_col0,#T_ca86b_row7_col0,#T_ca86b_row8_col0,#T_ca86b_row9_col0,#T_ca86b_row10_col0,#T_ca86b_row11_col0,#T_ca86b_row12_col0,#T_ca86b_row13_col0{\n",
       "            background-color:  #3b4cc0;\n",
       "            color:  #f1f1f1;\n",
       "        }#T_ca86b_row14_col0,#T_ca86b_row15_col0,#T_ca86b_row16_col0,#T_ca86b_row17_col0,#T_ca86b_row18_col0,#T_ca86b_row19_col0,#T_ca86b_row20_col0{\n",
       "            background-color:  #b40426;\n",
       "            color:  #f1f1f1;\n",
       "        }#T_ca86b_row21_col0{\n",
       "            background-color:  #cedaeb;\n",
       "            color:  #000000;\n",
       "        }</style><table id=\"T_ca86b_\" ><thead>    <tr>        <th class=\"blank level0\" ></th>        <th class=\"col_heading level0 col0\" >0</th>    </tr></thead><tbody>\n",
       "                <tr>\n",
       "                        <th id=\"T_ca86b_level0_row0\" class=\"row_heading level0 row0\" >customer_id</th>\n",
       "                        <td id=\"T_ca86b_row0_col0\" class=\"data row0 col0\" >0</td>\n",
       "            </tr>\n",
       "            <tr>\n",
       "                        <th id=\"T_ca86b_level0_row1\" class=\"row_heading level0 row1\" >begin_date</th>\n",
       "                        <td id=\"T_ca86b_row1_col0\" class=\"data row1 col0\" >0</td>\n",
       "            </tr>\n",
       "            <tr>\n",
       "                        <th id=\"T_ca86b_level0_row2\" class=\"row_heading level0 row2\" >end_date</th>\n",
       "                        <td id=\"T_ca86b_row2_col0\" class=\"data row2 col0\" >0</td>\n",
       "            </tr>\n",
       "            <tr>\n",
       "                        <th id=\"T_ca86b_level0_row3\" class=\"row_heading level0 row3\" >type</th>\n",
       "                        <td id=\"T_ca86b_row3_col0\" class=\"data row3 col0\" >0</td>\n",
       "            </tr>\n",
       "            <tr>\n",
       "                        <th id=\"T_ca86b_level0_row4\" class=\"row_heading level0 row4\" >paperless_billing</th>\n",
       "                        <td id=\"T_ca86b_row4_col0\" class=\"data row4 col0\" >0</td>\n",
       "            </tr>\n",
       "            <tr>\n",
       "                        <th id=\"T_ca86b_level0_row5\" class=\"row_heading level0 row5\" >payment_method</th>\n",
       "                        <td id=\"T_ca86b_row5_col0\" class=\"data row5 col0\" >0</td>\n",
       "            </tr>\n",
       "            <tr>\n",
       "                        <th id=\"T_ca86b_level0_row6\" class=\"row_heading level0 row6\" >monthly_charges</th>\n",
       "                        <td id=\"T_ca86b_row6_col0\" class=\"data row6 col0\" >0</td>\n",
       "            </tr>\n",
       "            <tr>\n",
       "                        <th id=\"T_ca86b_level0_row7\" class=\"row_heading level0 row7\" >total_charges</th>\n",
       "                        <td id=\"T_ca86b_row7_col0\" class=\"data row7 col0\" >0</td>\n",
       "            </tr>\n",
       "            <tr>\n",
       "                        <th id=\"T_ca86b_level0_row8\" class=\"row_heading level0 row8\" >target_feature</th>\n",
       "                        <td id=\"T_ca86b_row8_col0\" class=\"data row8 col0\" >0</td>\n",
       "            </tr>\n",
       "            <tr>\n",
       "                        <th id=\"T_ca86b_level0_row9\" class=\"row_heading level0 row9\" >duration</th>\n",
       "                        <td id=\"T_ca86b_row9_col0\" class=\"data row9 col0\" >0</td>\n",
       "            </tr>\n",
       "            <tr>\n",
       "                        <th id=\"T_ca86b_level0_row10\" class=\"row_heading level0 row10\" >gender</th>\n",
       "                        <td id=\"T_ca86b_row10_col0\" class=\"data row10 col0\" >0</td>\n",
       "            </tr>\n",
       "            <tr>\n",
       "                        <th id=\"T_ca86b_level0_row11\" class=\"row_heading level0 row11\" >senior_citizen</th>\n",
       "                        <td id=\"T_ca86b_row11_col0\" class=\"data row11 col0\" >0</td>\n",
       "            </tr>\n",
       "            <tr>\n",
       "                        <th id=\"T_ca86b_level0_row12\" class=\"row_heading level0 row12\" >partner</th>\n",
       "                        <td id=\"T_ca86b_row12_col0\" class=\"data row12 col0\" >0</td>\n",
       "            </tr>\n",
       "            <tr>\n",
       "                        <th id=\"T_ca86b_level0_row13\" class=\"row_heading level0 row13\" >dependents</th>\n",
       "                        <td id=\"T_ca86b_row13_col0\" class=\"data row13 col0\" >0</td>\n",
       "            </tr>\n",
       "            <tr>\n",
       "                        <th id=\"T_ca86b_level0_row14\" class=\"row_heading level0 row14\" >internet_service</th>\n",
       "                        <td id=\"T_ca86b_row14_col0\" class=\"data row14 col0\" >1526</td>\n",
       "            </tr>\n",
       "            <tr>\n",
       "                        <th id=\"T_ca86b_level0_row15\" class=\"row_heading level0 row15\" >online_security</th>\n",
       "                        <td id=\"T_ca86b_row15_col0\" class=\"data row15 col0\" >1526</td>\n",
       "            </tr>\n",
       "            <tr>\n",
       "                        <th id=\"T_ca86b_level0_row16\" class=\"row_heading level0 row16\" >online_backup</th>\n",
       "                        <td id=\"T_ca86b_row16_col0\" class=\"data row16 col0\" >1526</td>\n",
       "            </tr>\n",
       "            <tr>\n",
       "                        <th id=\"T_ca86b_level0_row17\" class=\"row_heading level0 row17\" >device_protection</th>\n",
       "                        <td id=\"T_ca86b_row17_col0\" class=\"data row17 col0\" >1526</td>\n",
       "            </tr>\n",
       "            <tr>\n",
       "                        <th id=\"T_ca86b_level0_row18\" class=\"row_heading level0 row18\" >tech_support</th>\n",
       "                        <td id=\"T_ca86b_row18_col0\" class=\"data row18 col0\" >1526</td>\n",
       "            </tr>\n",
       "            <tr>\n",
       "                        <th id=\"T_ca86b_level0_row19\" class=\"row_heading level0 row19\" >streaming_tv</th>\n",
       "                        <td id=\"T_ca86b_row19_col0\" class=\"data row19 col0\" >1526</td>\n",
       "            </tr>\n",
       "            <tr>\n",
       "                        <th id=\"T_ca86b_level0_row20\" class=\"row_heading level0 row20\" >streaming_movies</th>\n",
       "                        <td id=\"T_ca86b_row20_col0\" class=\"data row20 col0\" >1526</td>\n",
       "            </tr>\n",
       "            <tr>\n",
       "                        <th id=\"T_ca86b_level0_row21\" class=\"row_heading level0 row21\" >multiple_lines</th>\n",
       "                        <td id=\"T_ca86b_row21_col0\" class=\"data row21 col0\" >682</td>\n",
       "            </tr>\n",
       "    </tbody></table>"
      ],
      "text/plain": [
       "<pandas.io.formats.style.Styler at 0x7fd3024b1580>"
      ]
     },
     "execution_count": 38,
     "metadata": {},
     "output_type": "execute_result"
    }
   ],
   "source": [
    "pd.DataFrame(df.isna().sum()).style.background_gradient('coolwarm')"
   ]
  },
  {
   "cell_type": "markdown",
   "id": "40f2b54b",
   "metadata": {},
   "source": [
    "**Пропуски в признаках `internet_service`, `online_security`, `online_backup`, `device_protection`, `tech_support`, `streaming_tv`, `streaming_movies`, `multiple_lines` означают, что услуги не подключены.**"
   ]
  },
  {
   "cell_type": "markdown",
   "id": "3660c429",
   "metadata": {},
   "source": [
    "**Заменим пропуски на значение `No`.**"
   ]
  },
  {
   "cell_type": "code",
   "execution_count": 40,
   "id": "4fbd16e2",
   "metadata": {},
   "outputs": [],
   "source": [
    "df = df.fillna('No')"
   ]
  },
  {
   "cell_type": "markdown",
   "id": "3e9278da",
   "metadata": {},
   "source": [
    "### Исследование корреляции признаков"
   ]
  },
  {
   "cell_type": "markdown",
   "id": "71bd07fd",
   "metadata": {},
   "source": [
    "**В датафрейме присутствуют категориальные признаки. Для исследования корреляции категориальных признаков будем использовать библиотеку `phik`.**"
   ]
  },
  {
   "cell_type": "markdown",
   "id": "68aae016",
   "metadata": {},
   "source": [
    "**Создадим списки с числовыми и категориальными признаками.**"
   ]
  },
  {
   "cell_type": "code",
   "execution_count": 41,
   "id": "d860c061",
   "metadata": {},
   "outputs": [],
   "source": [
    "numerical_cols = ['monthly_charges', 'total_charges', 'duration']\n",
    "\n",
    "categorical_cols = ['type', 'paperless_billing', 'payment_method', 'internet_service', 'online_security', 'online_backup', 'device_protection', 'tech_support', 'streaming_tv', 'streaming_movies', 'gender', 'senior_citizen', 'partner', 'dependents', 'multiple_lines']"
   ]
  },
  {
   "cell_type": "code",
   "execution_count": 42,
   "id": "a696bbe7",
   "metadata": {},
   "outputs": [
    {
     "data": {
      "image/png": "[encoded data removed]",
      "text/plain": [
       "<Figure size 1152x720 with 2 Axes>"
      ]
     },
     "metadata": {
      "needs_background": "light"
     },
     "output_type": "display_data"
    }
   ],
   "source": [
    "plt.figure(figsize=(16, 10))\n",
    "\n",
    "corr_matrix = df.drop(columns=['customer_id', 'begin_date', 'end_date']).phik_matrix(interval_cols=numerical_cols)\n",
    "\n",
    "sns.heatmap(corr_matrix, linewidths=.5, cmap='coolwarm', center=0, annot=True)\n",
    "\n",
    "plt.title('Матрица корреляций phik_matrix')\n",
    "plt.show()"
   ]
  },
  {
   "cell_type": "markdown",
   "id": "67a3dcdc",
   "metadata": {},
   "source": [
    "**Имеется корреляция между месячными, суммарными тратами и дополнительными услугами.**  \n",
    "**Признак `gender` имеет нулевую корреляцию со всеми признаками.**  \n",
    "**Целевой признак не имеет сильно выраженной корреляции с остальными признаками.**"
   ]
  },
  {
   "cell_type": "markdown",
   "id": "4ca7ee48",
   "metadata": {},
   "source": [
    "### Исследование дисбаланса классов"
   ]
  },
  {
   "cell_type": "markdown",
   "id": "cebe7d24",
   "metadata": {},
   "source": [
    "**Распределение целевого признака `target_feature`.**"
   ]
  },
  {
   "cell_type": "code",
   "execution_count": 43,
   "id": "5bc43ff8",
   "metadata": {},
   "outputs": [
    {
     "data": {
      "image/png": "[encoded data removed]",
      "text/plain": [
       "<Figure size 288x288 with 1 Axes>"
      ]
     },
     "metadata": {
      "needs_background": "light"
     },
     "output_type": "display_data"
    }
   ],
   "source": [
    "plt.figure(figsize=(4, 4))\n",
    "plt.style.use('seaborn-white')\n",
    "palette = {'No': 'green', 'Yes': 'red'}\n",
    "total = float(len(df))\n",
    "ax = sns.countplot(data=df, x='target_feature', palette=palette, saturation=1)\n",
    "for p in ax.patches:\n",
    "    percentage = '{:.1f}%'.format(100 * p.get_height()/total)\n",
    "    x = p.get_x() + p.get_width()\n",
    "    y = p.get_height()\n",
    "    ax.annotate(percentage, (x, y),ha='right')\n",
    "plt.xlabel(None)\n",
    "plt.ylabel('Количество клиентов')\n",
    "plt.title('Факт ухода клиента')\n",
    "plt.show()"
   ]
  },
  {
   "cell_type": "markdown",
   "id": "b75cdddc",
   "metadata": {},
   "source": [
    "**Явный дисбаланс классов в признаке `target_feature`, несбалансирован примерно `5:1`.**\n",
    "\n",
    "**В приложенном датасете `84.4%` абонентов продолжают пользоваться услугами оператора и `15.6%` отказавшихся от услуг. В данном признаке `target_feature`, имеем дело с проблемой несбалансированного класса.\n",
    "Модели машинного обучения обычно работают лучше, когда число представителей каждого класса примерно одинаково. Возможно, при использовании линейных моделей обучения, придется устранить этот дисбаланс целевого признака.**"
   ]
  },
  {
   "cell_type": "markdown",
   "id": "bf8a6bb5",
   "metadata": {},
   "source": [
    "**Распределения числовых признаков.**"
   ]
  },
  {
   "cell_type": "code",
   "execution_count": 44,
   "id": "aca26eb8",
   "metadata": {},
   "outputs": [],
   "source": [
    "def countplot_categories(data, x, xlabel=None, ylabel=None, title=None, suptitle=None, nrows=1, ncols=1, hue=None, figsize=(3 , 3)):\n",
    "    \n",
    "    plt.figure(figsize=figsize)\n",
    "    \n",
    "    for i in enumerate(x):\n",
    "        plt.subplot(nrows, ncols, i[0] + 1)\n",
    "        sns.histplot(data=data, x=i[1], hue=hue)\n",
    "        plt.xlabel(i[1])\n",
    "        plt.ylabel(ylabel)\n",
    "\n",
    "    plt.suptitle(suptitle, fontsize=22)\n",
    "    plt.show()"
   ]
  },
  {
   "cell_type": "code",
   "execution_count": 45,
   "id": "ff1b24dc",
   "metadata": {},
   "outputs": [
    {
     "data": {
      "image/png": "[encoded data removed]",
      "text/plain": [
       "<Figure size 1152x360 with 3 Axes>"
      ]
     },
     "metadata": {},
     "output_type": "display_data"
    }
   ],
   "source": [
    "hue='target_feature'\n",
    "\n",
    "countplot_categories(data=df,\n",
    "                     x=numerical_cols,\n",
    "                     xlabel=None,\n",
    "                     ylabel='Количество клиентов',\n",
    "                     hue=hue,\n",
    "                     suptitle=(f'Распределения количественных признаков c учетом признака \\'{hue}\\''),\n",
    "                     nrows=1,\n",
    "                     ncols=3,\n",
    "                     figsize=(16, 5))"
   ]
  },
  {
   "cell_type": "markdown",
   "id": "34392368",
   "metadata": {},
   "source": [
    "**На графике `monthly_charges` видим, что абоненты с большими ежемесячными затратами, склонны разрывать контракт.**  \n",
    "**На графике `duration` видим, что абоненты со средним периодом, склонны разрывать контракт.**  "
   ]
  },
  {
   "cell_type": "markdown",
   "id": "c0f7c2c7",
   "metadata": {},
   "source": [
    "**Распределения категориальных признаков.**"
   ]
  },
  {
   "cell_type": "code",
   "execution_count": 46,
   "id": "40cbf1ee",
   "metadata": {},
   "outputs": [
    {
     "data": {
      "image/png": "[encoded data removed]",
      "text/plain": [
       "<Figure size 1152x1440 with 15 Axes>"
      ]
     },
     "metadata": {},
     "output_type": "display_data"
    }
   ],
   "source": [
    "hue='target_feature'\n",
    "\n",
    "countplot_categories(data=df,\n",
    "                     x=categorical_cols,\n",
    "                     xlabel=None,\n",
    "                     ylabel='Количество клиентов',\n",
    "                     hue=hue,\n",
    "                     suptitle=(f'Распределения категориальных признаков c учетом признака \\'{hue}\\''),\n",
    "                     nrows=5,\n",
    "                     ncols=3,\n",
    "                     figsize=(16, 20))"
   ]
  },
  {
   "cell_type": "markdown",
   "id": "9b71dc25",
   "metadata": {},
   "source": [
    "**В большинстве категориальных признаках наблюдается дисбаланс классов. Внутри классов наблюдается дисбаланс по отношению к целевому признаку.**  \n",
    "**Вывод: решаем задачу классификации с дисбалансом классов.**"
   ]
  },
  {
   "cell_type": "markdown",
   "id": "26d0856d",
   "metadata": {},
   "source": [
    "## Исследование моделей"
   ]
  },
  {
   "cell_type": "code",
   "execution_count": 47,
   "id": "aef3a993",
   "metadata": {},
   "outputs": [],
   "source": [
    "RANDOM_STATE = 50623"
   ]
  },
  {
   "cell_type": "markdown",
   "id": "459c531a",
   "metadata": {},
   "source": [
    "**Для дальнейшего удобства изменим целевой признак на числовой.**"
   ]
  },
  {
   "cell_type": "code",
   "execution_count": 48,
   "id": "db68dc76",
   "metadata": {},
   "outputs": [],
   "source": [
    "df['target_feature'] = df['target_feature'].map({'Yes': 1, 'No': 0}).astype('int64')"
   ]
  },
  {
   "cell_type": "markdown",
   "id": "f9e43fd2",
   "metadata": {},
   "source": [
    "### Разделим данные на `признаки` и `целевой признак`:"
   ]
  },
  {
   "cell_type": "markdown",
   "id": "ea2a3fce",
   "metadata": {},
   "source": [
    "* `X` — «признаки»;\n",
    "* `y` — «целевой признак»."
   ]
  },
  {
   "cell_type": "code",
   "execution_count": 49,
   "id": "db70db90",
   "metadata": {},
   "outputs": [
    {
     "name": "stdout",
     "output_type": "stream",
     "text": [
      "(7043, 18)\n"
     ]
    }
   ],
   "source": [
    "X = df[numerical_cols + categorical_cols]\n",
    "print(X.shape)"
   ]
  },
  {
   "cell_type": "code",
   "execution_count": 50,
   "id": "9a1f862d",
   "metadata": {},
   "outputs": [
    {
     "name": "stdout",
     "output_type": "stream",
     "text": [
      "(7043,)\n"
     ]
    }
   ],
   "source": [
    "y = df['target_feature']\n",
    "print(y.shape)"
   ]
  },
  {
   "cell_type": "markdown",
   "id": "20267437",
   "metadata": {},
   "source": [
    "**Разделим полученные данные в переменных `X`, `y` на `обучающую` и `тестовую` выборки в пропорции `75`:`25`.**\n",
    "\n",
    "**Данные запишем в новые переменные:**  \n",
    "\n",
    "`X_train` - `75%`  \n",
    "`X_test` - `25%`  \n",
    "`y_train` - `75%`  \n",
    "`y_test` - `25%`  "
   ]
  },
  {
   "cell_type": "code",
   "execution_count": 51,
   "id": "c0c94a4b",
   "metadata": {},
   "outputs": [],
   "source": [
    "X_train, X_test, y_train, y_test = train_test_split(\n",
    "    X, y, test_size=0.25, random_state=RANDOM_STATE, shuffle=True, stratify=y)"
   ]
  },
  {
   "cell_type": "markdown",
   "id": "5e61bb35",
   "metadata": {},
   "source": [
    "### Пайплайн для обучения:"
   ]
  },
  {
   "cell_type": "code",
   "execution_count": 52,
   "id": "0cb92eaa",
   "metadata": {},
   "outputs": [],
   "source": [
    "numeric_transformer = Pipeline(\n",
    "    steps=[\n",
    "        (\"scaler\", StandardScaler())\n",
    "    ]\n",
    ")\n",
    "\n",
    "categorical_transformer = Pipeline(\n",
    "    steps=[\n",
    "        (\"encoder\", OrdinalEncoder()),\n",
    "    ]\n",
    ")\n",
    "\n",
    "preprocessor = ColumnTransformer(\n",
    "    transformers=[\n",
    "        (\"num\", numeric_transformer, numerical_cols),\n",
    "        (\"cat\", categorical_transformer, categorical_cols),\n",
    "    ]\n",
    ")"
   ]
  },
  {
   "cell_type": "markdown",
   "id": "2f664e43",
   "metadata": {},
   "source": [
    "### RandomForestClassifier"
   ]
  },
  {
   "cell_type": "markdown",
   "id": "84c6e53a",
   "metadata": {},
   "source": [
    "**Обучим модель RandomForestClassifier.**"
   ]
  },
  {
   "cell_type": "code",
   "execution_count": 53,
   "id": "a483958d",
   "metadata": {},
   "outputs": [],
   "source": [
    "model_RandomForestClassifier = GridSearchCV(\n",
    "    Pipeline(steps=[(\"preprocessor\", preprocessor), (\"clf\", RandomForestClassifier(random_state=RANDOM_STATE))]), \n",
    "    param_grid={\n",
    "        'clf__n_estimators': [500, 1000, 1500],\n",
    "        'clf__criterion': ['gini', 'entropy']\n",
    "    },\n",
    "    cv=3,\n",
    "    scoring='roc_auc',\n",
    "    n_jobs=-1\n",
    ")"
   ]
  },
  {
   "cell_type": "code",
   "execution_count": 54,
   "id": "711fd54d",
   "metadata": {},
   "outputs": [
    {
     "name": "stdout",
     "output_type": "stream",
     "text": [
      "CPU times: user 1min 14s, sys: 512 ms, total: 1min 14s\n",
      "Wall time: 1min 15s\n"
     ]
    },
    {
     "data": {
      "text/plain": [
       "GridSearchCV(cv=3,\n",
       "             estimator=Pipeline(steps=[('preprocessor',\n",
       "                                        ColumnTransformer(transformers=[('num',\n",
       "                                                                         Pipeline(steps=[('scaler',\n",
       "                                                                                          StandardScaler())]),\n",
       "                                                                         ['monthly_charges',\n",
       "                                                                          'total_charges',\n",
       "                                                                          'duration']),\n",
       "                                                                        ('cat',\n",
       "                                                                         Pipeline(steps=[('encoder',\n",
       "                                                                                          OrdinalEncoder())]),\n",
       "                                                                         ['type',\n",
       "                                                                          'paperless_billing',\n",
       "                                                                          'payment_method',\n",
       "                                                                          'internet_service',\n",
       "                                                                          'online_security',\n",
       "                                                                          'online_backup',\n",
       "                                                                          'device_protection',\n",
       "                                                                          'tech_support',\n",
       "                                                                          'streaming_tv',\n",
       "                                                                          'streaming_movies',\n",
       "                                                                          'gender',\n",
       "                                                                          'senior_citizen',\n",
       "                                                                          'partner',\n",
       "                                                                          'dependents',\n",
       "                                                                          'multiple_lines'])])),\n",
       "                                       ('clf',\n",
       "                                        RandomForestClassifier(random_state=50623))]),\n",
       "             n_jobs=-1,\n",
       "             param_grid={'clf__criterion': ['gini', 'entropy'],\n",
       "                         'clf__n_estimators': [500, 1000, 1500]},\n",
       "             scoring='roc_auc')"
      ]
     },
     "execution_count": 54,
     "metadata": {},
     "output_type": "execute_result"
    }
   ],
   "source": [
    "%%time\n",
    "model_RandomForestClassifier.fit(X_train, y_train)"
   ]
  },
  {
   "cell_type": "code",
   "execution_count": 55,
   "id": "1068f83e",
   "metadata": {},
   "outputs": [
    {
     "name": "stdout",
     "output_type": "stream",
     "text": [
      "CPU times: user 1min 13s, sys: 428 ms, total: 1min 14s\n",
      "Wall time: 1min 14s\n"
     ]
    },
    {
     "data": {
      "text/plain": [
       "GridSearchCV(cv=3,\n",
       "             estimator=Pipeline(steps=[('preprocessor',\n",
       "                                        ColumnTransformer(transformers=[('num',\n",
       "                                                                         Pipeline(steps=[('scaler',\n",
       "                                                                                          StandardScaler())]),\n",
       "                                                                         ['monthly_charges',\n",
       "                                                                          'total_charges',\n",
       "                                                                          'duration']),\n",
       "                                                                        ('cat',\n",
       "                                                                         Pipeline(steps=[('encoder',\n",
       "                                                                                          OrdinalEncoder())]),\n",
       "                                                                         ['type',\n",
       "                                                                          'paperless_billing',\n",
       "                                                                          'payment_method',\n",
       "                                                                          'internet_service',\n",
       "                                                                          'online_security',\n",
       "                                                                          'online_backup',\n",
       "                                                                          'device_protection',\n",
       "                                                                          'tech_support',\n",
       "                                                                          'streaming_tv',\n",
       "                                                                          'streaming_movies',\n",
       "                                                                          'gender',\n",
       "                                                                          'senior_citizen',\n",
       "                                                                          'partner',\n",
       "                                                                          'dependents',\n",
       "                                                                          'multiple_lines'])])),\n",
       "                                       ('clf',\n",
       "                                        RandomForestClassifier(random_state=50623))]),\n",
       "             n_jobs=-1,\n",
       "             param_grid={'clf__criterion': ['gini', 'entropy'],\n",
       "                         'clf__n_estimators': [500, 1000, 1500]},\n",
       "             scoring='roc_auc')"
      ]
     },
     "execution_count": 55,
     "metadata": {},
     "output_type": "execute_result"
    }
   ],
   "source": [
    "%%time\n",
    "model_RandomForestClassifier.fit(X_train, y_train)"
   ]
  },
  {
   "cell_type": "code",
   "execution_count": 56,
   "id": "6480c3b3",
   "metadata": {},
   "outputs": [
    {
     "data": {
      "text/plain": [
       "{'clf__criterion': 'entropy', 'clf__n_estimators': 1000}"
      ]
     },
     "execution_count": 56,
     "metadata": {},
     "output_type": "execute_result"
    }
   ],
   "source": [
    "model_RandomForestClassifier.best_params_"
   ]
  },
  {
   "cell_type": "code",
   "execution_count": 57,
   "id": "23b080b6",
   "metadata": {},
   "outputs": [
    {
     "data": {
      "text/plain": [
       "0.8108664342131952"
      ]
     },
     "execution_count": 57,
     "metadata": {},
     "output_type": "execute_result"
    }
   ],
   "source": [
    "model_RandomForestClassifier.best_score_"
   ]
  },
  {
   "cell_type": "markdown",
   "id": "9f931523",
   "metadata": {},
   "source": [
    "### LGBMClassifier"
   ]
  },
  {
   "cell_type": "markdown",
   "id": "c9b77dd5",
   "metadata": {},
   "source": [
    "**Обучим модель LGBMClassifier.**"
   ]
  },
  {
   "cell_type": "code",
   "execution_count": 58,
   "id": "10a6ea53",
   "metadata": {},
   "outputs": [],
   "source": [
    "model_LGBMClassifier = GridSearchCV(\n",
    "    Pipeline(steps=[(\"preprocessor\", preprocessor), (\"clf\", lgb.LGBMClassifier(random_state=RANDOM_STATE))]), \n",
    "    param_grid={\n",
    "        'clf__max_depth': [2, 4, 6],\n",
    "        'clf__learning_rate': [0.03, 0.1],\n",
    "        'clf__n_estimators': [20, 30, 100]\n",
    "    },\n",
    "    cv=3,\n",
    "    scoring='roc_auc',\n",
    "    n_jobs=-1\n",
    ")"
   ]
  },
  {
   "cell_type": "code",
   "execution_count": 59,
   "id": "e32a43e5",
   "metadata": {
    "scrolled": false
   },
   "outputs": [
    {
     "name": "stdout",
     "output_type": "stream",
     "text": [
      "CPU times: user 23min 16s, sys: 14.9 s, total: 23min 31s\n",
      "Wall time: 23min 37s\n"
     ]
    },
    {
     "data": {
      "text/plain": [
       "GridSearchCV(cv=3,\n",
       "             estimator=Pipeline(steps=[('preprocessor',\n",
       "                                        ColumnTransformer(transformers=[('num',\n",
       "                                                                         Pipeline(steps=[('scaler',\n",
       "                                                                                          StandardScaler())]),\n",
       "                                                                         ['monthly_charges',\n",
       "                                                                          'total_charges',\n",
       "                                                                          'duration']),\n",
       "                                                                        ('cat',\n",
       "                                                                         Pipeline(steps=[('encoder',\n",
       "                                                                                          OrdinalEncoder())]),\n",
       "                                                                         ['type',\n",
       "                                                                          'paperless_billing',\n",
       "                                                                          'payment_method',\n",
       "                                                                          'internet_service',\n",
       "                                                                          'online_security',\n",
       "                                                                          'online_backup',\n",
       "                                                                          'device_protection',\n",
       "                                                                          'tech_support',\n",
       "                                                                          'streaming_tv',\n",
       "                                                                          'streaming_movies',\n",
       "                                                                          'gender',\n",
       "                                                                          'senior_citizen',\n",
       "                                                                          'partner',\n",
       "                                                                          'dependents',\n",
       "                                                                          'multiple_lines'])])),\n",
       "                                       ('clf',\n",
       "                                        LGBMClassifier(random_state=50623))]),\n",
       "             n_jobs=-1,\n",
       "             param_grid={'clf__learning_rate': [0.03, 0.1],\n",
       "                         'clf__max_depth': [2, 4, 6],\n",
       "                         'clf__n_estimators': [20, 30, 100]},\n",
       "             scoring='roc_auc')"
      ]
     },
     "execution_count": 59,
     "metadata": {},
     "output_type": "execute_result"
    }
   ],
   "source": [
    "%%time\n",
    "model_LGBMClassifier.fit(X_train, y_train)"
   ]
  },
  {
   "cell_type": "code",
   "execution_count": 60,
   "id": "e804e213",
   "metadata": {},
   "outputs": [
    {
     "data": {
      "text/plain": [
       "{'clf__learning_rate': 0.1, 'clf__max_depth': 6, 'clf__n_estimators': 100}"
      ]
     },
     "execution_count": 60,
     "metadata": {},
     "output_type": "execute_result"
    }
   ],
   "source": [
    "model_LGBMClassifier.best_params_"
   ]
  },
  {
   "cell_type": "code",
   "execution_count": 61,
   "id": "e2e36824",
   "metadata": {},
   "outputs": [
    {
     "data": {
      "text/plain": [
       "0.8447269479781481"
      ]
     },
     "execution_count": 61,
     "metadata": {},
     "output_type": "execute_result"
    }
   ],
   "source": [
    "model_LGBMClassifier.best_score_"
   ]
  },
  {
   "cell_type": "markdown",
   "id": "73efbd85",
   "metadata": {},
   "source": [
    "### CatBoostClassifier"
   ]
  },
  {
   "cell_type": "markdown",
   "id": "0ced96b5",
   "metadata": {},
   "source": [
    "**Обучим модель CatBoostClassifier**"
   ]
  },
  {
   "cell_type": "code",
   "execution_count": 62,
   "id": "e7531bf9",
   "metadata": {},
   "outputs": [],
   "source": [
    "train_data = Pool(\n",
    "    data=X_train,\n",
    "    label=y_train,\n",
    "    cat_features=categorical_cols\n",
    ")\n",
    "\n",
    "test_data = Pool(\n",
    "    data=X_test,\n",
    "    label=y_test,\n",
    "    cat_features=categorical_cols\n",
    ")"
   ]
  },
  {
   "cell_type": "markdown",
   "id": "3e7878a2",
   "metadata": {},
   "source": [
    "**Подберем гиперпараметры через встроенный GridSearch.**"
   ]
  },
  {
   "cell_type": "code",
   "execution_count": 63,
   "id": "8a2a3d89",
   "metadata": {
    "scrolled": true
   },
   "outputs": [
    {
     "data": {
      "application/vnd.jupyter.widget-view+json": {
       "model_id": "ab09b95c931f4d6bbe18e603d9ba7646",
       "version_major": 2,
       "version_minor": 0
      },
      "text/plain": [
       "MetricVisualizer(layout=Layout(align_self='stretch', height='500px'))"
      ]
     },
     "metadata": {},
     "output_type": "display_data"
    },
    {
     "name": "stdout",
     "output_type": "stream",
     "text": [
      "\n",
      "bestTest = 0.8872266812\n",
      "bestIteration = 942\n",
      "\n",
      "0:\tloss: 0.8872267\tbest: 0.8872267 (0)\ttotal: 13.6s\tremaining: 4m 17s\n",
      "\n",
      "bestTest = 0.8796416915\n",
      "bestIteration = 921\n",
      "\n",
      "1:\tloss: 0.8796417\tbest: 0.8872267 (0)\ttotal: 26.6s\tremaining: 3m 59s\n",
      "\n",
      "bestTest = 0.8802790268\n",
      "bestIteration = 1061\n",
      "\n",
      "2:\tloss: 0.8802790\tbest: 0.8872267 (0)\ttotal: 40s\tremaining: 3m 46s\n",
      "\n",
      "bestTest = 0.8763779748\n",
      "bestIteration = 1257\n",
      "\n",
      "3:\tloss: 0.8763780\tbest: 0.8872267 (0)\ttotal: 53s\tremaining: 3m 31s\n",
      "\n",
      "bestTest = 0.8794385847\n",
      "bestIteration = 1121\n",
      "\n",
      "4:\tloss: 0.8794386\tbest: 0.8872267 (0)\ttotal: 1m 5s\tremaining: 3m 17s\n",
      "\n",
      "bestTest = 0.8856018266\n",
      "bestIteration = 1371\n",
      "\n",
      "5:\tloss: 0.8856018\tbest: 0.8872267 (0)\ttotal: 1m 18s\tremaining: 3m 3s\n",
      "\n",
      "bestTest = 0.8768822401\n",
      "bestIteration = 1107\n",
      "\n",
      "6:\tloss: 0.8768822\tbest: 0.8872267 (0)\ttotal: 1m 31s\tremaining: 2m 50s\n",
      "\n",
      "bestTest = 0.8853146755\n",
      "bestIteration = 1536\n",
      "\n",
      "7:\tloss: 0.8853147\tbest: 0.8872267 (0)\ttotal: 1m 44s\tremaining: 2m 37s\n",
      "\n",
      "bestTest = 0.878500091\n",
      "bestIteration = 1920\n",
      "\n",
      "8:\tloss: 0.8785001\tbest: 0.8872267 (0)\ttotal: 1m 58s\tremaining: 2m 24s\n",
      "\n",
      "bestTest = 0.8782059363\n",
      "bestIteration = 1022\n",
      "\n",
      "9:\tloss: 0.8782059\tbest: 0.8872267 (0)\ttotal: 2m 10s\tremaining: 2m 10s\n",
      "\n",
      "bestTest = 0.8787522237\n",
      "bestIteration = 2982\n",
      "\n",
      "10:\tloss: 0.8787522\tbest: 0.8872267 (0)\ttotal: 2m 24s\tremaining: 1m 58s\n",
      "\n",
      "bestTest = 0.8780028295\n",
      "bestIteration = 2152\n",
      "\n",
      "11:\tloss: 0.8780028\tbest: 0.8872267 (0)\ttotal: 2m 37s\tremaining: 1m 45s\n",
      "\n",
      "bestTest = 0.8807132552\n",
      "bestIteration = 1389\n",
      "\n",
      "12:\tloss: 0.8807133\tbest: 0.8872267 (0)\ttotal: 2m 51s\tremaining: 1m 32s\n",
      "\n",
      "bestTest = 0.8769802916\n",
      "bestIteration = 2836\n",
      "\n",
      "13:\tloss: 0.8769803\tbest: 0.8872267 (0)\ttotal: 3m 5s\tremaining: 1m 19s\n",
      "\n",
      "bestTest = 0.8860220476\n",
      "bestIteration = 1685\n",
      "\n",
      "14:\tloss: 0.8860220\tbest: 0.8872267 (0)\ttotal: 3m 18s\tremaining: 1m 6s\n",
      "\n",
      "bestTest = 0.877526579\n",
      "bestIteration = 1317\n",
      "\n",
      "15:\tloss: 0.8775266\tbest: 0.8872267 (0)\ttotal: 3m 31s\tremaining: 52.8s\n",
      "\n",
      "bestTest = 0.8776666527\n",
      "bestIteration = 2975\n",
      "\n",
      "16:\tloss: 0.8776667\tbest: 0.8872267 (0)\ttotal: 3m 44s\tremaining: 39.6s\n",
      "\n",
      "bestTest = 0.881581712\n",
      "bestIteration = 780\n",
      "\n",
      "17:\tloss: 0.8815817\tbest: 0.8872267 (0)\ttotal: 3m 57s\tremaining: 26.4s\n",
      "\n",
      "bestTest = 0.8795576473\n",
      "bestIteration = 984\n",
      "\n",
      "18:\tloss: 0.8795576\tbest: 0.8872267 (0)\ttotal: 4m 10s\tremaining: 13.2s\n",
      "\n",
      "bestTest = 0.8744589654\n",
      "bestIteration = 1155\n",
      "\n",
      "19:\tloss: 0.8744590\tbest: 0.8872267 (0)\ttotal: 4m 23s\tremaining: 0us\n",
      "Estimating final quality...\n",
      "Training on fold [0/3]\n",
      "\n",
      "bestTest = 0.9260854936\n",
      "bestIteration = 739\n",
      "\n",
      "Training on fold [1/3]\n",
      "\n",
      "bestTest = 0.8753743496\n",
      "bestIteration = 642\n",
      "\n",
      "Training on fold [2/3]\n",
      "\n",
      "bestTest = 0.8709470462\n",
      "bestIteration = 2763\n",
      "\n"
     ]
    }
   ],
   "source": [
    "model_CatBoostClassifier = CatBoostClassifier(\n",
    "    n_estimators=3000,\n",
    "    loss_function='Logloss',\n",
    "    verbose=False,\n",
    "    eval_metric='AUC:hints=skip_train~false',\n",
    "    one_hot_max_size=3,\n",
    "    random_seed=RANDOM_STATE\n",
    "    )\n",
    "\n",
    "grid_search_result = model_CatBoostClassifier.grid_search({\n",
    "    'l2_leaf_reg': np.linspace(0.05, 0.25, 10),\n",
    "    'learning_rate': [0.04, 0.05]\n",
    "    },\n",
    "    train_data,\n",
    "    cv=3,\n",
    "    partition_random_seed=RANDOM_STATE,\n",
    "    refit=True,\n",
    "    plot=True\n",
    ")"
   ]
  },
  {
   "cell_type": "markdown",
   "id": "7081ef7e",
   "metadata": {},
   "source": [
    "**Вывод:**  \n",
    "\n",
    "**Максимальную оценку, среди всех моделей, равную `ROC_AUC = 0.87`, получил `CatBoostClassifier`.**  \n",
    "**Выбираем модель `CatBoostClassifier` для дальнейшего тестирования.**"
   ]
  },
  {
   "cell_type": "markdown",
   "id": "4089987c",
   "metadata": {},
   "source": [
    "## Анализ лучшей модели"
   ]
  },
  {
   "cell_type": "markdown",
   "id": "05622e3c",
   "metadata": {},
   "source": [
    "**Выведем `ROC_AUC` на тесте.**"
   ]
  },
  {
   "cell_type": "code",
   "execution_count": 64,
   "id": "07cf0dbc",
   "metadata": {},
   "outputs": [
    {
     "name": "stdout",
     "output_type": "stream",
     "text": [
      "0.9215343203230147\n"
     ]
    }
   ],
   "source": [
    "roc_auc = roc_auc_score(y_test, model_CatBoostClassifier.predict_proba(X_test)[:, 1])\n",
    "print(roc_auc)"
   ]
  },
  {
   "cell_type": "markdown",
   "id": "3b7473b8",
   "metadata": {},
   "source": [
    "**Отличная оценка `roc_auc`.**"
   ]
  },
  {
   "cell_type": "markdown",
   "id": "1d75d208",
   "metadata": {},
   "source": [
    "**Выведем метрику `Accuracy` на тесте.**"
   ]
  },
  {
   "cell_type": "code",
   "execution_count": 65,
   "id": "7caa039b",
   "metadata": {},
   "outputs": [
    {
     "data": {
      "text/plain": [
       "0.9153889835320841"
      ]
     },
     "execution_count": 65,
     "metadata": {},
     "output_type": "execute_result"
    }
   ],
   "source": [
    "accuracy_score(y_test, (model_CatBoostClassifier.predict(X_test)).round())"
   ]
  },
  {
   "cell_type": "markdown",
   "id": "4441fed3",
   "metadata": {},
   "source": [
    "**Отличная оценка `accuracy_score`.**"
   ]
  },
  {
   "cell_type": "markdown",
   "id": "0228aa04",
   "metadata": {},
   "source": [
    "**Выведем график.**"
   ]
  },
  {
   "cell_type": "code",
   "execution_count": 66,
   "id": "b34d9730",
   "metadata": {},
   "outputs": [
    {
     "data": {
      "image/png": "[encoded data removed]",
      "text/plain": [
       "<Figure size 720x720 with 1 Axes>"
      ]
     },
     "metadata": {},
     "output_type": "display_data"
    }
   ],
   "source": [
    "probabilities_test = model_CatBoostClassifier.predict_proba(X_test)\n",
    "probabilities_one_test = probabilities_test[:, 1]\n",
    "\n",
    "fpr, tpr, thresholds = roc_curve(y_test, probabilities_one_test) \n",
    "\n",
    "plt.figure(figsize=(10, 10))\n",
    "plt.plot(fpr, tpr, linestyle='-')\n",
    "plt.plot([0, 1], [0, 1], linestyle='--')\n",
    "plt.xlim([0.0, 1.0])\n",
    "plt.ylim([0.0, 1.0])\n",
    "plt.xlabel('False Positive Rate')\n",
    "plt.ylabel('True Positive Rate')\n",
    "plt.title('ROC-curve')\n",
    "plt.show()"
   ]
  },
  {
   "cell_type": "markdown",
   "id": "b169a5a3",
   "metadata": {},
   "source": [
    "**Отличная оценка `roc_auc` и хороший график.**"
   ]
  },
  {
   "cell_type": "markdown",
   "id": "a8db374b",
   "metadata": {},
   "source": [
    "**Построим матрицу ошибок.**"
   ]
  },
  {
   "cell_type": "code",
   "execution_count": 67,
   "id": "1a1cbf26",
   "metadata": {},
   "outputs": [],
   "source": [
    "cm = confusion_matrix(y_test, model_CatBoostClassifier.predict(X_test))"
   ]
  },
  {
   "cell_type": "code",
   "execution_count": 70,
   "id": "e82f21e9",
   "metadata": {},
   "outputs": [
    {
     "data": {
      "image/png": "[encoded data removed]",
      "text/plain": [
       "<Figure size 432x288 with 2 Axes>"
      ]
     },
     "metadata": {},
     "output_type": "display_data"
    }
   ],
   "source": [
    "cm_display = ConfusionMatrixDisplay(cm).plot()\n",
    "plt.title('Матрица ошибок')\n",
    "plt.savefig('./confusion_matrix.png')\n",
    "plt.show()"
   ]
  },
  {
   "cell_type": "markdown",
   "id": "da0a360e",
   "metadata": {},
   "source": [
    "**Модель достаточно редко ошибается в том, что клиент останется. Но почти в половине случаев ошибается с тем, кто вероятнее всего уйдет.**"
   ]
  },
  {
   "cell_type": "markdown",
   "id": "562bc558",
   "metadata": {},
   "source": [
    "**Оценим важность признаков лучшей модели. Отобразим их на графике.**"
   ]
  },
  {
   "cell_type": "code",
   "execution_count": 71,
   "id": "6d709053",
   "metadata": {},
   "outputs": [
    {
     "data": {
      "image/png": "[encoded data removed]",
      "text/plain": [
       "<Figure size 864x432 with 1 Axes>"
      ]
     },
     "metadata": {},
     "output_type": "display_data"
    }
   ],
   "source": [
    "feature_importance = model_CatBoostClassifier.feature_importances_\n",
    "sorted_idx = np.argsort(feature_importance)\n",
    "fig = plt.figure(figsize=(12, 6))\n",
    "plt.barh(range(len(sorted_idx)), feature_importance[sorted_idx], align='center')\n",
    "plt.yticks(range(len(sorted_idx)), np.array(X_test.columns)[sorted_idx])\n",
    "plt.title('Feature Importance')\n",
    "plt.savefig('./feature_importance.png')\n",
    "plt.show()"
   ]
  },
  {
   "cell_type": "markdown",
   "id": "28f70334",
   "metadata": {},
   "source": [
    "**Самым важным признаком, оказался новый созданный признак `duration`. Также, важными признаками оказались общее количество потраченных денег и размер месячных расходов. Некоторое влияние оказывает то, как человек оплачивает услуги.**"
   ]
  },
  {
   "cell_type": "markdown",
   "id": "ca19dce8",
   "metadata": {},
   "source": [
    "## Общий вывод"
   ]
  },
  {
   "cell_type": "markdown",
   "id": "bf79b355",
   "metadata": {},
   "source": [
    "**Успешно научились прогнозировать отток клиентов для оператора связи «Ниединогоразрыва.ком».**  \n",
    "\n",
    "**Выполнены следующие задачи:**  \n",
    "\n",
    "- Данные загружены и осмотрены, объеденены из разных таблиц по разным видам услуг;\n",
    "- Данные успешно подготовлены для исследования моделей;\n",
    "- Исследованы модели разны алгоритмов;\n",
    "- Выбрана и протестирована одна лучшая модель.\n"
   ]
  },
  {
   "cell_type": "markdown",
   "id": "2317b771",
   "metadata": {},
   "source": [
    "## Отчет о проделаной работе"
   ]
  },
  {
   "cell_type": "markdown",
   "id": "6d79e222",
   "metadata": {},
   "source": [
    "**1. Выполненные ключевые шаги в ходе проекта:**\n",
    "\n",
    "   - Первичный анализ данных (EDA);\n",
    "   - Предобработка данных (исправление найденных проблем, преобразование и выбор признаков);\n",
    "   - Составление новых признаков;\n",
    "   - Оценка корреляции и выбор наилучших признаков;\n",
    "   - Подготовка итогового датафрейма;\n",
    "   - Разделение на тренировочную и тестовую выборки в соотношении 75% на 25%;\n",
    "   - Создание пайплайна для моделей (кодирование и масштабирование признаков);\n",
    "   - Исследование моделей;\n",
    "   - Подбор лучших гиперпараметров, оценка моделей на кроссвалидации;\n",
    "   - Выбор лучшей модели и оценка на тестовой выборке.  \n",
    "\n",
    "\n",
    "**2. Ход фактической работы, соответствовал запланированным шагам, определенные в плане работ.**  \n",
    "\n",
    "\n",
    "**3. В процессе работы возникли следующие трудности:**  \n",
    "\n",
    " - В признаке `total_charges` оказались ячейки с пропущенными данными, которые было сложно интерпритировать;\n",
    " - Оценка мультиколлинеарности признаков;\n",
    " - Выбор подходящих гиперпараметров.  \n",
    "\n",
    " С оценкой корреляции помогла библиотека phik и корреляционная матрица. С выбором гиперпараметров помог GridSearchCV и несколько тестовых запусков моделей.  \n",
    "\n",
    "\n",
    "**4. Итоговый список отобранных признаков, для обучения моделей:**  \n",
    "\n",
    "*Признаки:*\n",
    "\n",
    "- `duration` – новый признак, который хранит иформацию о разнице начала пользования услугами и окончания пользования услугами в днях;  \n",
    "- `type` – тип оплаты: ежемесячный, годовой и т.д.;  \n",
    "- `paperless_billing` – электронный платёжный документ;  \n",
    "- `payment_method` – способ оплаты;  \n",
    "- `monthly_charges` – ежемесячные траты на услуги по договору;  \n",
    "- `total_charges` – всего потрачено денег на услуги;  \n",
    "- `dependents` – наличие иждивенцев;  \n",
    "- `senior_citizen` – наличие пенсионного статуса по возрасту;  \n",
    "- `partner` – наличие супруга(и);  \n",
    "- `multiple_lines` – наличие возможности ведения параллельных линий во время звонка;  \n",
    "- `gender` - пол абонента;  \n",
    "- `internet_service`, `online_security`, `online_backup`, `device_protection`, `tech_support`, `streaming_tv`, `streaming_movies` - дополнительные услуги, предоставляемые оператором.  \n",
    "\n",
    "*Целевой признак:*  \n",
    "\n",
    "- `target_feature` - формирован самостоятельно с помощью `EndDate`.  \n",
    "\n",
    "    Для обучения моделей, признаки были стандартизированы с помощью `StandardScaler()` и кодированы с помощью `OrdinalEncoder()` в пайплайне.  \n",
    "\n",
    "\n",
    "**5. Краткое описание предобработки данных:**  \n",
    "\n",
    " - В признаке `begin_date` изменен тип данных на `datetime64`;\n",
    " - В признаке `monthly_charges` изменен тип данных на `int64`;\n",
    " - В признаке `total_charges` имелись незаполнненные ячейки (пропуски данных), они были заполнены нулевым значением. Далее изменен тип данных на `float64`;\n",
    " - В признаке `end_date` значение `No` соответствовало дате выгрузке датафрейма `2020-02-01`, соответственно значение `No` было заменено на дату выгрузки. Далее изменен тип данных на `datetime64`.  \n",
    "\n",
    "\n",
    "**6. Сводная таблица исследованных моделей и их метрика на кросс-валидации:**  \n",
    "\n",
    "| Исследованная модель   | AUC-ROC |\n",
    "|------------------------|---------|\n",
    "| RandomForestClassifier | 0.81    |\n",
    "| LGBMClassifier         | 0.87    |\n",
    " CatBoostClassifier     | 0.89    |  \n",
    "\n",
    "\n",
    "**7. Лучшая модель: `CatBoostClassifier`.**  \n",
    "\n",
    "**Гиперпараметры модели:**  \n",
    "\n",
    "{'loss_function': 'Logloss',  \n",
    " 'random_seed': 50623,  \n",
    " 'verbose': False,  \n",
    " 'one_hot_max_size': 3,  \n",
    " 'eval_metric': 'AUC:hints=skip_train~false',  \n",
    " 'n_estimators': 3000,  \n",
    " 'learning_rate': 0.04,  \n",
    " 'l2_leaf_reg': 0.05}  \n",
    "\n",
    "**Метрика модели на кросс-валидации равна `0.89`.**  \n",
    "\n",
    "\n",
    "**8. Итоговая метрика на `test`:**  \n",
    "\n",
    "AUC-ROC равен `0.92`;\n",
    "Accuracy равен `0.91`.  \n",
    "\n",
    "\n",
    "**9. Матрица ошибок.**\n",
    "\n",
    "![Матрица ошибок]('./confusion_matrix.png')  \n",
    "\n",
    "|  TP  |  FP |\n",
    "|------|-----|\n",
    "| 1459 |  27 |\n",
    "\n",
    "|  FP  |  TN |\n",
    "|------|-----|\n",
    "| 122  | 153 |\n",
    "\n",
    "Модель достаточно редко ошибается в том, что клиент останется. Но почти в половине случаев ошибается с тем, кто вероятнее всего уйдет.  \n",
    "\n",
    "\n",
    "**10. Важность признаков.**\n",
    "\n",
    "![Оценка важности признаков]('./feature_importance.png')\n",
    "\n",
    "|  Признак         |Вес признака|\n",
    "|------------------|------------|\n",
    "|duration          | 35.06986095|    \n",
    "|total_charges     | 15.98440847|         \n",
    "|monthly_charges   | 12.72311712|           \n",
    "|payment_method    | 6.99665945 |          \n",
    "|type              | 5.58286723 |\n",
    "|partner           | 3.4697725  |   \n",
    "|dependents        | 2.58805055 |      \n",
    "|senior_citizen    | 2.24138074 |          \n",
    "|multiple_lines    | 2.06252282 |          \n",
    "|gender            | 1.99605962 |  \n",
    "|device_protection | 1.8609439  |             \n",
    "|online_backup     | 1.8609439  |         \n",
    "|paperless_billing | 1.75391001 |             \n",
    "|internet_service  | 1.32639507 |            \n",
    "|streaming_movies  | 1.24260316 |            \n",
    "|online_security   | 1.12386409 |           \n",
    "|tech_support      | 1.07409801 |        \n",
    "|streaming_tv      | 1.07163143 |  \n",
    "\n",
    "Самым важным признаком, оказался новый созданный признак duration. Также, важными признаками оказались общее количество потраченных денег и размер месячных расходов. Некоторое влияние оказывает то, как человек оплачивает услуги.\n",
    "\n",
    "Итого:  \n",
    "Персональные данные, предоставленные оператором о некоторых клиентах, были успешно проанализированы. Дополнительно была учтена информация об тарифах и договорах абонентов. На основе подготовленных данных, была обучена и подготовлена модель прогнозирования для оттока клиентов. Задача поставленная оператором связи «Ниединогоразрыва.ком» выполнена."
   ]
  }
 ],
 "metadata": {
  "ExecuteTimeLog": [
   {
    "duration": 1302,
    "start_time": "2023-06-16T10:13:50.004Z"
   },
   {
    "duration": 10,
    "start_time": "2023-06-16T10:13:51.308Z"
   },
   {
    "duration": 2406,
    "start_time": "2023-06-16T10:13:51.321Z"
   },
   {
    "duration": 0,
    "start_time": "2023-06-16T10:13:53.730Z"
   },
   {
    "duration": 0,
    "start_time": "2023-06-16T10:13:53.731Z"
   },
   {
    "duration": 0,
    "start_time": "2023-06-16T10:13:53.732Z"
   },
   {
    "duration": 0,
    "start_time": "2023-06-16T10:13:53.733Z"
   },
   {
    "duration": 0,
    "start_time": "2023-06-16T10:13:53.734Z"
   },
   {
    "duration": 0,
    "start_time": "2023-06-16T10:13:53.735Z"
   },
   {
    "duration": 0,
    "start_time": "2023-06-16T10:13:53.739Z"
   },
   {
    "duration": 0,
    "start_time": "2023-06-16T10:13:53.740Z"
   },
   {
    "duration": 0,
    "start_time": "2023-06-16T10:13:53.741Z"
   },
   {
    "duration": 0,
    "start_time": "2023-06-16T10:13:53.742Z"
   },
   {
    "duration": 0,
    "start_time": "2023-06-16T10:13:53.743Z"
   },
   {
    "duration": 0,
    "start_time": "2023-06-16T10:13:53.779Z"
   },
   {
    "duration": 0,
    "start_time": "2023-06-16T10:13:53.785Z"
   },
   {
    "duration": 0,
    "start_time": "2023-06-16T10:13:53.786Z"
   },
   {
    "duration": 0,
    "start_time": "2023-06-16T10:13:53.788Z"
   },
   {
    "duration": 0,
    "start_time": "2023-06-16T10:13:53.792Z"
   },
   {
    "duration": 0,
    "start_time": "2023-06-16T10:13:53.793Z"
   },
   {
    "duration": 0,
    "start_time": "2023-06-16T10:13:53.794Z"
   },
   {
    "duration": 0,
    "start_time": "2023-06-16T10:13:53.796Z"
   },
   {
    "duration": 0,
    "start_time": "2023-06-16T10:13:53.797Z"
   },
   {
    "duration": 0,
    "start_time": "2023-06-16T10:13:53.799Z"
   },
   {
    "duration": 0,
    "start_time": "2023-06-16T10:13:53.799Z"
   },
   {
    "duration": 0,
    "start_time": "2023-06-16T10:13:53.800Z"
   },
   {
    "duration": 1,
    "start_time": "2023-06-16T10:13:53.801Z"
   },
   {
    "duration": 0,
    "start_time": "2023-06-16T10:13:53.803Z"
   },
   {
    "duration": 0,
    "start_time": "2023-06-16T10:13:53.804Z"
   },
   {
    "duration": 0,
    "start_time": "2023-06-16T10:13:53.805Z"
   },
   {
    "duration": 0,
    "start_time": "2023-06-16T10:13:53.806Z"
   },
   {
    "duration": 0,
    "start_time": "2023-06-16T10:13:53.808Z"
   },
   {
    "duration": 0,
    "start_time": "2023-06-16T10:13:53.809Z"
   },
   {
    "duration": 0,
    "start_time": "2023-06-16T10:13:53.810Z"
   },
   {
    "duration": 0,
    "start_time": "2023-06-16T10:13:53.811Z"
   },
   {
    "duration": 0,
    "start_time": "2023-06-16T10:13:53.813Z"
   },
   {
    "duration": 0,
    "start_time": "2023-06-16T10:13:53.814Z"
   },
   {
    "duration": 0,
    "start_time": "2023-06-16T10:13:53.815Z"
   },
   {
    "duration": 0,
    "start_time": "2023-06-16T10:13:53.816Z"
   },
   {
    "duration": 0,
    "start_time": "2023-06-16T10:13:53.819Z"
   },
   {
    "duration": 0,
    "start_time": "2023-06-16T10:13:53.822Z"
   },
   {
    "duration": 0,
    "start_time": "2023-06-16T10:13:53.823Z"
   },
   {
    "duration": 0,
    "start_time": "2023-06-16T10:13:53.825Z"
   },
   {
    "duration": 0,
    "start_time": "2023-06-16T10:13:53.827Z"
   },
   {
    "duration": 0,
    "start_time": "2023-06-16T10:13:53.829Z"
   },
   {
    "duration": 0,
    "start_time": "2023-06-16T10:13:53.832Z"
   },
   {
    "duration": 0,
    "start_time": "2023-06-16T10:13:53.833Z"
   },
   {
    "duration": 0,
    "start_time": "2023-06-16T10:13:53.835Z"
   },
   {
    "duration": 0,
    "start_time": "2023-06-16T10:13:53.875Z"
   },
   {
    "duration": 0,
    "start_time": "2023-06-16T10:13:53.877Z"
   },
   {
    "duration": 0,
    "start_time": "2023-06-16T10:13:53.878Z"
   },
   {
    "duration": 0,
    "start_time": "2023-06-16T10:13:53.882Z"
   },
   {
    "duration": 0,
    "start_time": "2023-06-16T10:13:53.883Z"
   },
   {
    "duration": 4,
    "start_time": "2023-06-16T10:15:50.954Z"
   },
   {
    "duration": 55,
    "start_time": "2023-06-16T10:15:50.960Z"
   },
   {
    "duration": 35,
    "start_time": "2023-06-16T10:15:51.017Z"
   },
   {
    "duration": 29,
    "start_time": "2023-06-16T10:15:51.054Z"
   },
   {
    "duration": 48,
    "start_time": "2023-06-16T10:15:51.087Z"
   },
   {
    "duration": 27,
    "start_time": "2023-06-16T10:15:51.137Z"
   },
   {
    "duration": 272,
    "start_time": "2023-06-16T10:15:51.166Z"
   },
   {
    "duration": 3,
    "start_time": "2023-06-16T10:15:51.441Z"
   },
   {
    "duration": 30,
    "start_time": "2023-06-16T10:15:51.446Z"
   },
   {
    "duration": 56,
    "start_time": "2023-06-16T10:15:51.478Z"
   },
   {
    "duration": 29,
    "start_time": "2023-06-16T10:15:51.535Z"
   },
   {
    "duration": 0,
    "start_time": "2023-06-16T10:15:51.568Z"
   },
   {
    "duration": 0,
    "start_time": "2023-06-16T10:15:51.570Z"
   },
   {
    "duration": 0,
    "start_time": "2023-06-16T10:15:51.571Z"
   },
   {
    "duration": 0,
    "start_time": "2023-06-16T10:15:51.572Z"
   },
   {
    "duration": 0,
    "start_time": "2023-06-16T10:15:51.574Z"
   },
   {
    "duration": 0,
    "start_time": "2023-06-16T10:15:51.584Z"
   },
   {
    "duration": 0,
    "start_time": "2023-06-16T10:15:51.585Z"
   },
   {
    "duration": 0,
    "start_time": "2023-06-16T10:15:51.586Z"
   },
   {
    "duration": 0,
    "start_time": "2023-06-16T10:15:51.586Z"
   },
   {
    "duration": 0,
    "start_time": "2023-06-16T10:15:51.587Z"
   },
   {
    "duration": 0,
    "start_time": "2023-06-16T10:15:51.589Z"
   },
   {
    "duration": 1,
    "start_time": "2023-06-16T10:15:51.590Z"
   },
   {
    "duration": 0,
    "start_time": "2023-06-16T10:15:51.592Z"
   },
   {
    "duration": 0,
    "start_time": "2023-06-16T10:15:51.593Z"
   },
   {
    "duration": 0,
    "start_time": "2023-06-16T10:15:51.594Z"
   },
   {
    "duration": 0,
    "start_time": "2023-06-16T10:15:51.599Z"
   },
   {
    "duration": 1,
    "start_time": "2023-06-16T10:15:51.600Z"
   },
   {
    "duration": 0,
    "start_time": "2023-06-16T10:15:51.601Z"
   },
   {
    "duration": 0,
    "start_time": "2023-06-16T10:15:51.606Z"
   },
   {
    "duration": 0,
    "start_time": "2023-06-16T10:15:51.610Z"
   },
   {
    "duration": 0,
    "start_time": "2023-06-16T10:15:51.612Z"
   },
   {
    "duration": 0,
    "start_time": "2023-06-16T10:15:51.613Z"
   },
   {
    "duration": 0,
    "start_time": "2023-06-16T10:15:51.614Z"
   },
   {
    "duration": 0,
    "start_time": "2023-06-16T10:15:51.619Z"
   },
   {
    "duration": 0,
    "start_time": "2023-06-16T10:15:51.621Z"
   },
   {
    "duration": 0,
    "start_time": "2023-06-16T10:15:51.624Z"
   },
   {
    "duration": 0,
    "start_time": "2023-06-16T10:15:51.626Z"
   },
   {
    "duration": 0,
    "start_time": "2023-06-16T10:15:51.627Z"
   },
   {
    "duration": 0,
    "start_time": "2023-06-16T10:15:51.631Z"
   },
   {
    "duration": 0,
    "start_time": "2023-06-16T10:15:51.633Z"
   },
   {
    "duration": 0,
    "start_time": "2023-06-16T10:15:51.634Z"
   },
   {
    "duration": 0,
    "start_time": "2023-06-16T10:15:51.636Z"
   },
   {
    "duration": 0,
    "start_time": "2023-06-16T10:15:51.637Z"
   },
   {
    "duration": 0,
    "start_time": "2023-06-16T10:15:51.639Z"
   },
   {
    "duration": 0,
    "start_time": "2023-06-16T10:15:51.680Z"
   },
   {
    "duration": 0,
    "start_time": "2023-06-16T10:15:51.681Z"
   },
   {
    "duration": 0,
    "start_time": "2023-06-16T10:15:51.687Z"
   },
   {
    "duration": 0,
    "start_time": "2023-06-16T10:15:51.688Z"
   },
   {
    "duration": 1,
    "start_time": "2023-06-16T10:15:51.689Z"
   },
   {
    "duration": 0,
    "start_time": "2023-06-16T10:15:51.691Z"
   },
   {
    "duration": 0,
    "start_time": "2023-06-16T10:15:51.692Z"
   },
   {
    "duration": 1432,
    "start_time": "2023-06-16T10:16:26.704Z"
   },
   {
    "duration": 3,
    "start_time": "2023-06-16T10:16:28.139Z"
   },
   {
    "duration": 1790,
    "start_time": "2023-06-16T10:16:28.144Z"
   },
   {
    "duration": 2,
    "start_time": "2023-06-16T10:16:29.936Z"
   },
   {
    "duration": 7,
    "start_time": "2023-06-16T10:16:29.941Z"
   },
   {
    "duration": 23,
    "start_time": "2023-06-16T10:16:29.950Z"
   },
   {
    "duration": 449,
    "start_time": "2023-06-16T10:16:29.977Z"
   },
   {
    "duration": 126,
    "start_time": "2023-06-16T10:16:30.428Z"
   },
   {
    "duration": 4,
    "start_time": "2023-06-16T10:16:30.556Z"
   },
   {
    "duration": 135,
    "start_time": "2023-06-16T10:16:30.562Z"
   },
   {
    "duration": 28,
    "start_time": "2023-06-16T10:16:30.699Z"
   },
   {
    "duration": 115,
    "start_time": "2023-06-16T10:16:30.729Z"
   },
   {
    "duration": 96,
    "start_time": "2023-06-16T10:16:30.845Z"
   },
   {
    "duration": 105,
    "start_time": "2023-06-16T10:16:30.946Z"
   },
   {
    "duration": 80,
    "start_time": "2023-06-16T10:16:31.053Z"
   },
   {
    "duration": 46,
    "start_time": "2023-06-16T10:16:31.136Z"
   },
   {
    "duration": 116,
    "start_time": "2023-06-16T10:16:31.189Z"
   },
   {
    "duration": 158,
    "start_time": "2023-06-16T10:16:31.309Z"
   },
   {
    "duration": 174,
    "start_time": "2023-06-16T10:16:31.470Z"
   },
   {
    "duration": 86,
    "start_time": "2023-06-16T10:16:31.646Z"
   },
   {
    "duration": 207,
    "start_time": "2023-06-16T10:16:31.734Z"
   },
   {
    "duration": 62,
    "start_time": "2023-06-16T10:16:31.944Z"
   },
   {
    "duration": 126,
    "start_time": "2023-06-16T10:16:32.007Z"
   },
   {
    "duration": 42,
    "start_time": "2023-06-16T10:16:32.135Z"
   },
   {
    "duration": 39,
    "start_time": "2023-06-16T10:16:32.181Z"
   },
   {
    "duration": 15,
    "start_time": "2023-06-16T10:16:32.222Z"
   },
   {
    "duration": 33,
    "start_time": "2023-06-16T10:16:32.239Z"
   },
   {
    "duration": 68,
    "start_time": "2023-06-16T10:16:32.274Z"
   },
   {
    "duration": 17,
    "start_time": "2023-06-16T10:16:32.345Z"
   },
   {
    "duration": 27,
    "start_time": "2023-06-16T10:16:32.363Z"
   },
   {
    "duration": 47,
    "start_time": "2023-06-16T10:16:32.393Z"
   },
   {
    "duration": 10,
    "start_time": "2023-06-16T10:16:32.442Z"
   },
   {
    "duration": 26,
    "start_time": "2023-06-16T10:16:32.454Z"
   },
   {
    "duration": 57,
    "start_time": "2023-06-16T10:16:32.487Z"
   },
   {
    "duration": 46,
    "start_time": "2023-06-16T10:16:32.547Z"
   },
   {
    "duration": 51,
    "start_time": "2023-06-16T10:16:32.600Z"
   },
   {
    "duration": 4,
    "start_time": "2023-06-16T10:16:32.653Z"
   },
   {
    "duration": 75,
    "start_time": "2023-06-16T10:16:32.658Z"
   },
   {
    "duration": 3,
    "start_time": "2023-06-16T10:16:32.734Z"
   },
   {
    "duration": 35,
    "start_time": "2023-06-16T10:16:32.739Z"
   },
   {
    "duration": 3,
    "start_time": "2023-06-16T10:16:32.782Z"
   },
   {
    "duration": 4278,
    "start_time": "2023-06-16T10:16:32.787Z"
   },
   {
    "duration": 158,
    "start_time": "2023-06-16T10:16:37.067Z"
   },
   {
    "duration": 5,
    "start_time": "2023-06-16T10:16:37.227Z"
   },
   {
    "duration": 803,
    "start_time": "2023-06-16T10:16:37.234Z"
   },
   {
    "duration": 2602,
    "start_time": "2023-06-16T10:16:38.039Z"
   },
   {
    "duration": 2,
    "start_time": "2023-06-16T10:16:40.643Z"
   },
   {
    "duration": 9,
    "start_time": "2023-06-16T10:16:40.647Z"
   },
   {
    "duration": 15,
    "start_time": "2023-06-16T10:16:40.683Z"
   },
   {
    "duration": 28,
    "start_time": "2023-06-16T10:16:40.699Z"
   },
   {
    "duration": 16,
    "start_time": "2023-06-16T10:16:40.729Z"
   },
   {
    "duration": 4,
    "start_time": "2023-06-16T10:16:40.747Z"
   },
   {
    "duration": 8,
    "start_time": "2023-06-16T10:16:50.601Z"
   },
   {
    "duration": 91315,
    "start_time": "2023-06-16T10:16:59.888Z"
   },
   {
    "duration": 1326,
    "start_time": "2023-06-16T12:19:19.331Z"
   },
   {
    "duration": 3,
    "start_time": "2023-06-16T12:19:20.659Z"
   },
   {
    "duration": 546,
    "start_time": "2023-06-16T12:19:20.663Z"
   },
   {
    "duration": 0,
    "start_time": "2023-06-16T12:19:21.215Z"
   },
   {
    "duration": 0,
    "start_time": "2023-06-16T12:19:21.216Z"
   },
   {
    "duration": 0,
    "start_time": "2023-06-16T12:19:21.218Z"
   },
   {
    "duration": 0,
    "start_time": "2023-06-16T12:19:21.219Z"
   },
   {
    "duration": 0,
    "start_time": "2023-06-16T12:19:21.220Z"
   },
   {
    "duration": 0,
    "start_time": "2023-06-16T12:19:21.221Z"
   },
   {
    "duration": 0,
    "start_time": "2023-06-16T12:19:21.224Z"
   },
   {
    "duration": 0,
    "start_time": "2023-06-16T12:19:21.225Z"
   },
   {
    "duration": 0,
    "start_time": "2023-06-16T12:19:21.226Z"
   },
   {
    "duration": 0,
    "start_time": "2023-06-16T12:19:21.227Z"
   },
   {
    "duration": 0,
    "start_time": "2023-06-16T12:19:21.229Z"
   },
   {
    "duration": 0,
    "start_time": "2023-06-16T12:19:21.230Z"
   },
   {
    "duration": 0,
    "start_time": "2023-06-16T12:19:21.231Z"
   },
   {
    "duration": 0,
    "start_time": "2023-06-16T12:19:21.232Z"
   },
   {
    "duration": 0,
    "start_time": "2023-06-16T12:19:21.234Z"
   },
   {
    "duration": 0,
    "start_time": "2023-06-16T12:19:21.235Z"
   },
   {
    "duration": 0,
    "start_time": "2023-06-16T12:19:21.236Z"
   },
   {
    "duration": 0,
    "start_time": "2023-06-16T12:19:21.238Z"
   },
   {
    "duration": 0,
    "start_time": "2023-06-16T12:19:21.239Z"
   },
   {
    "duration": 0,
    "start_time": "2023-06-16T12:19:21.240Z"
   },
   {
    "duration": 0,
    "start_time": "2023-06-16T12:19:21.241Z"
   },
   {
    "duration": 0,
    "start_time": "2023-06-16T12:19:21.242Z"
   },
   {
    "duration": 0,
    "start_time": "2023-06-16T12:19:21.243Z"
   },
   {
    "duration": 0,
    "start_time": "2023-06-16T12:19:21.244Z"
   },
   {
    "duration": 0,
    "start_time": "2023-06-16T12:19:21.246Z"
   },
   {
    "duration": 0,
    "start_time": "2023-06-16T12:19:21.248Z"
   },
   {
    "duration": 0,
    "start_time": "2023-06-16T12:19:21.249Z"
   },
   {
    "duration": 0,
    "start_time": "2023-06-16T12:19:21.250Z"
   },
   {
    "duration": 0,
    "start_time": "2023-06-16T12:19:21.251Z"
   },
   {
    "duration": 0,
    "start_time": "2023-06-16T12:19:21.253Z"
   },
   {
    "duration": 0,
    "start_time": "2023-06-16T12:19:21.254Z"
   },
   {
    "duration": 0,
    "start_time": "2023-06-16T12:19:21.255Z"
   },
   {
    "duration": 0,
    "start_time": "2023-06-16T12:19:21.257Z"
   },
   {
    "duration": 0,
    "start_time": "2023-06-16T12:19:21.258Z"
   },
   {
    "duration": 0,
    "start_time": "2023-06-16T12:19:21.259Z"
   },
   {
    "duration": 0,
    "start_time": "2023-06-16T12:19:21.260Z"
   },
   {
    "duration": 0,
    "start_time": "2023-06-16T12:19:21.261Z"
   },
   {
    "duration": 0,
    "start_time": "2023-06-16T12:19:21.263Z"
   },
   {
    "duration": 0,
    "start_time": "2023-06-16T12:19:21.264Z"
   },
   {
    "duration": 0,
    "start_time": "2023-06-16T12:19:21.264Z"
   },
   {
    "duration": 0,
    "start_time": "2023-06-16T12:19:21.264Z"
   },
   {
    "duration": 0,
    "start_time": "2023-06-16T12:19:21.265Z"
   },
   {
    "duration": 0,
    "start_time": "2023-06-16T12:19:21.265Z"
   },
   {
    "duration": 0,
    "start_time": "2023-06-16T12:19:21.266Z"
   },
   {
    "duration": 0,
    "start_time": "2023-06-16T12:19:21.266Z"
   },
   {
    "duration": 0,
    "start_time": "2023-06-16T12:19:21.267Z"
   },
   {
    "duration": 0,
    "start_time": "2023-06-16T12:19:21.308Z"
   },
   {
    "duration": 0,
    "start_time": "2023-06-16T12:19:21.309Z"
   },
   {
    "duration": 0,
    "start_time": "2023-06-16T12:19:21.310Z"
   },
   {
    "duration": 0,
    "start_time": "2023-06-16T12:19:21.311Z"
   },
   {
    "duration": 0,
    "start_time": "2023-06-16T12:19:21.312Z"
   },
   {
    "duration": 0,
    "start_time": "2023-06-16T12:19:21.313Z"
   },
   {
    "duration": 0,
    "start_time": "2023-06-16T12:19:21.314Z"
   },
   {
    "duration": 0,
    "start_time": "2023-06-16T12:19:21.316Z"
   },
   {
    "duration": 0,
    "start_time": "2023-06-16T12:19:21.317Z"
   },
   {
    "duration": 0,
    "start_time": "2023-06-16T12:19:21.318Z"
   },
   {
    "duration": 0,
    "start_time": "2023-06-16T12:19:21.319Z"
   },
   {
    "duration": 0,
    "start_time": "2023-06-16T12:19:21.320Z"
   },
   {
    "duration": 0,
    "start_time": "2023-06-16T12:19:21.321Z"
   },
   {
    "duration": 0,
    "start_time": "2023-06-16T12:19:21.322Z"
   },
   {
    "duration": 0,
    "start_time": "2023-06-16T12:19:21.324Z"
   },
   {
    "duration": 0,
    "start_time": "2023-06-16T12:19:21.325Z"
   },
   {
    "duration": 0,
    "start_time": "2023-06-16T12:19:21.327Z"
   },
   {
    "duration": 0,
    "start_time": "2023-06-16T12:19:21.328Z"
   },
   {
    "duration": 0,
    "start_time": "2023-06-16T12:19:21.329Z"
   },
   {
    "duration": 3468,
    "start_time": "2023-06-16T12:19:49.148Z"
   },
   {
    "duration": 1129,
    "start_time": "2023-06-16T12:20:15.950Z"
   },
   {
    "duration": 19753,
    "start_time": "2023-06-16T12:20:17.081Z"
   },
   {
    "duration": 1113,
    "start_time": "2023-06-16T12:20:36.836Z"
   },
   {
    "duration": 2,
    "start_time": "2023-06-16T12:20:37.951Z"
   },
   {
    "duration": 14,
    "start_time": "2023-06-16T12:20:37.956Z"
   },
   {
    "duration": 38,
    "start_time": "2023-06-16T12:20:37.973Z"
   },
   {
    "duration": 149,
    "start_time": "2023-06-16T12:20:38.014Z"
   },
   {
    "duration": 3,
    "start_time": "2023-06-16T12:20:38.165Z"
   },
   {
    "duration": 12,
    "start_time": "2023-06-16T12:20:38.170Z"
   },
   {
    "duration": 166,
    "start_time": "2023-06-16T12:20:38.183Z"
   },
   {
    "duration": 0,
    "start_time": "2023-06-16T12:20:38.353Z"
   },
   {
    "duration": 0,
    "start_time": "2023-06-16T12:20:38.354Z"
   },
   {
    "duration": 0,
    "start_time": "2023-06-16T12:20:38.356Z"
   },
   {
    "duration": 0,
    "start_time": "2023-06-16T12:20:38.357Z"
   },
   {
    "duration": 0,
    "start_time": "2023-06-16T12:20:38.358Z"
   },
   {
    "duration": 0,
    "start_time": "2023-06-16T12:20:38.359Z"
   },
   {
    "duration": 0,
    "start_time": "2023-06-16T12:20:38.360Z"
   },
   {
    "duration": 0,
    "start_time": "2023-06-16T12:20:38.361Z"
   },
   {
    "duration": 0,
    "start_time": "2023-06-16T12:20:38.362Z"
   },
   {
    "duration": 0,
    "start_time": "2023-06-16T12:20:38.363Z"
   },
   {
    "duration": 0,
    "start_time": "2023-06-16T12:20:38.365Z"
   },
   {
    "duration": 0,
    "start_time": "2023-06-16T12:20:38.366Z"
   },
   {
    "duration": 0,
    "start_time": "2023-06-16T12:20:38.367Z"
   },
   {
    "duration": 0,
    "start_time": "2023-06-16T12:20:38.368Z"
   },
   {
    "duration": 0,
    "start_time": "2023-06-16T12:20:38.369Z"
   },
   {
    "duration": 0,
    "start_time": "2023-06-16T12:20:38.370Z"
   },
   {
    "duration": 0,
    "start_time": "2023-06-16T12:20:38.372Z"
   },
   {
    "duration": 0,
    "start_time": "2023-06-16T12:20:38.407Z"
   },
   {
    "duration": 0,
    "start_time": "2023-06-16T12:20:38.411Z"
   },
   {
    "duration": 0,
    "start_time": "2023-06-16T12:20:38.412Z"
   },
   {
    "duration": 0,
    "start_time": "2023-06-16T12:20:38.414Z"
   },
   {
    "duration": 0,
    "start_time": "2023-06-16T12:20:38.414Z"
   },
   {
    "duration": 0,
    "start_time": "2023-06-16T12:20:38.415Z"
   },
   {
    "duration": 0,
    "start_time": "2023-06-16T12:20:38.416Z"
   },
   {
    "duration": 0,
    "start_time": "2023-06-16T12:20:38.416Z"
   },
   {
    "duration": 0,
    "start_time": "2023-06-16T12:20:38.417Z"
   },
   {
    "duration": 0,
    "start_time": "2023-06-16T12:20:38.418Z"
   },
   {
    "duration": 0,
    "start_time": "2023-06-16T12:20:38.421Z"
   },
   {
    "duration": 0,
    "start_time": "2023-06-16T12:20:38.422Z"
   },
   {
    "duration": 0,
    "start_time": "2023-06-16T12:20:38.424Z"
   },
   {
    "duration": 0,
    "start_time": "2023-06-16T12:20:38.424Z"
   },
   {
    "duration": 0,
    "start_time": "2023-06-16T12:20:38.426Z"
   },
   {
    "duration": 0,
    "start_time": "2023-06-16T12:20:38.426Z"
   },
   {
    "duration": 0,
    "start_time": "2023-06-16T12:20:38.427Z"
   },
   {
    "duration": 0,
    "start_time": "2023-06-16T12:20:38.428Z"
   },
   {
    "duration": 0,
    "start_time": "2023-06-16T12:20:38.429Z"
   },
   {
    "duration": 0,
    "start_time": "2023-06-16T12:20:38.429Z"
   },
   {
    "duration": 0,
    "start_time": "2023-06-16T12:20:38.430Z"
   },
   {
    "duration": 0,
    "start_time": "2023-06-16T12:20:38.433Z"
   },
   {
    "duration": 0,
    "start_time": "2023-06-16T12:20:38.434Z"
   },
   {
    "duration": 0,
    "start_time": "2023-06-16T12:20:38.436Z"
   },
   {
    "duration": 0,
    "start_time": "2023-06-16T12:20:38.437Z"
   },
   {
    "duration": 0,
    "start_time": "2023-06-16T12:20:38.439Z"
   },
   {
    "duration": 0,
    "start_time": "2023-06-16T12:20:38.440Z"
   },
   {
    "duration": 0,
    "start_time": "2023-06-16T12:20:38.441Z"
   },
   {
    "duration": 0,
    "start_time": "2023-06-16T12:20:38.442Z"
   },
   {
    "duration": 0,
    "start_time": "2023-06-16T12:20:38.443Z"
   },
   {
    "duration": 0,
    "start_time": "2023-06-16T12:20:38.445Z"
   },
   {
    "duration": 0,
    "start_time": "2023-06-16T12:20:38.446Z"
   },
   {
    "duration": 0,
    "start_time": "2023-06-16T12:20:38.447Z"
   },
   {
    "duration": 0,
    "start_time": "2023-06-16T12:20:38.448Z"
   },
   {
    "duration": 0,
    "start_time": "2023-06-16T12:20:38.449Z"
   },
   {
    "duration": 0,
    "start_time": "2023-06-16T12:20:38.452Z"
   },
   {
    "duration": 0,
    "start_time": "2023-06-16T12:20:38.452Z"
   },
   {
    "duration": 0,
    "start_time": "2023-06-16T12:20:38.506Z"
   },
   {
    "duration": 0,
    "start_time": "2023-06-16T12:20:38.507Z"
   },
   {
    "duration": 0,
    "start_time": "2023-06-16T12:20:38.509Z"
   },
   {
    "duration": 0,
    "start_time": "2023-06-16T12:20:38.510Z"
   },
   {
    "duration": 1320,
    "start_time": "2023-06-16T12:21:54.498Z"
   },
   {
    "duration": 6392,
    "start_time": "2023-06-16T12:21:55.820Z"
   },
   {
    "duration": 1436,
    "start_time": "2023-06-16T12:22:02.216Z"
   },
   {
    "duration": 2,
    "start_time": "2023-06-16T12:22:03.657Z"
   },
   {
    "duration": 26,
    "start_time": "2023-06-16T12:22:03.661Z"
   },
   {
    "duration": 17,
    "start_time": "2023-06-16T12:22:03.688Z"
   },
   {
    "duration": 8,
    "start_time": "2023-06-16T12:22:03.709Z"
   },
   {
    "duration": 543,
    "start_time": "2023-06-16T12:22:03.721Z"
   },
   {
    "duration": 4,
    "start_time": "2023-06-16T12:22:04.266Z"
   },
   {
    "duration": 42,
    "start_time": "2023-06-16T12:22:04.273Z"
   },
   {
    "duration": 5,
    "start_time": "2023-06-16T12:22:04.318Z"
   },
   {
    "duration": 11,
    "start_time": "2023-06-16T12:22:04.325Z"
   },
   {
    "duration": 4,
    "start_time": "2023-06-16T12:22:04.338Z"
   },
   {
    "duration": 8,
    "start_time": "2023-06-16T12:22:04.343Z"
   },
   {
    "duration": 4,
    "start_time": "2023-06-16T12:22:04.353Z"
   },
   {
    "duration": 11,
    "start_time": "2023-06-16T12:22:04.358Z"
   },
   {
    "duration": 8,
    "start_time": "2023-06-16T12:22:04.371Z"
   },
   {
    "duration": 12,
    "start_time": "2023-06-16T12:22:04.380Z"
   },
   {
    "duration": 15,
    "start_time": "2023-06-16T12:22:04.394Z"
   },
   {
    "duration": 15,
    "start_time": "2023-06-16T12:22:04.410Z"
   },
   {
    "duration": 126,
    "start_time": "2023-06-16T12:22:04.428Z"
   },
   {
    "duration": 76,
    "start_time": "2023-06-16T12:22:04.556Z"
   },
   {
    "duration": 62,
    "start_time": "2023-06-16T12:22:04.637Z"
   },
   {
    "duration": 30,
    "start_time": "2023-06-16T12:22:04.700Z"
   },
   {
    "duration": 18,
    "start_time": "2023-06-16T12:22:04.731Z"
   },
   {
    "duration": 34,
    "start_time": "2023-06-16T12:22:04.751Z"
   },
   {
    "duration": 43,
    "start_time": "2023-06-16T12:22:04.786Z"
   },
   {
    "duration": 22,
    "start_time": "2023-06-16T12:22:04.834Z"
   },
   {
    "duration": 10,
    "start_time": "2023-06-16T12:22:04.857Z"
   },
   {
    "duration": 6,
    "start_time": "2023-06-16T12:22:04.868Z"
   },
   {
    "duration": 17,
    "start_time": "2023-06-16T12:22:04.876Z"
   },
   {
    "duration": 34,
    "start_time": "2023-06-16T12:22:04.894Z"
   },
   {
    "duration": 47,
    "start_time": "2023-06-16T12:22:04.930Z"
   },
   {
    "duration": 13,
    "start_time": "2023-06-16T12:22:04.979Z"
   },
   {
    "duration": 33,
    "start_time": "2023-06-16T12:22:04.994Z"
   },
   {
    "duration": 16,
    "start_time": "2023-06-16T12:22:05.028Z"
   },
   {
    "duration": 33,
    "start_time": "2023-06-16T12:22:05.046Z"
   },
   {
    "duration": 57,
    "start_time": "2023-06-16T12:22:05.080Z"
   },
   {
    "duration": 18,
    "start_time": "2023-06-16T12:22:05.140Z"
   },
   {
    "duration": 42,
    "start_time": "2023-06-16T12:22:05.160Z"
   },
   {
    "duration": 21,
    "start_time": "2023-06-16T12:22:05.204Z"
   },
   {
    "duration": 3258,
    "start_time": "2023-06-16T12:22:05.227Z"
   },
   {
    "duration": 105,
    "start_time": "2023-06-16T12:22:08.487Z"
   },
   {
    "duration": 5,
    "start_time": "2023-06-16T12:22:08.594Z"
   },
   {
    "duration": 715,
    "start_time": "2023-06-16T12:22:08.612Z"
   },
   {
    "duration": 2236,
    "start_time": "2023-06-16T12:22:09.330Z"
   },
   {
    "duration": 3,
    "start_time": "2023-06-16T12:22:11.568Z"
   },
   {
    "duration": 7,
    "start_time": "2023-06-16T12:22:11.577Z"
   },
   {
    "duration": 23,
    "start_time": "2023-06-16T12:22:11.585Z"
   },
   {
    "duration": 5,
    "start_time": "2023-06-16T12:22:11.612Z"
   },
   {
    "duration": 20,
    "start_time": "2023-06-16T12:22:11.624Z"
   },
   {
    "duration": 4,
    "start_time": "2023-06-16T12:22:11.650Z"
   },
   {
    "duration": 15,
    "start_time": "2023-06-16T12:22:11.656Z"
   },
   {
    "duration": 75203,
    "start_time": "2023-06-16T12:22:11.674Z"
   },
   {
    "duration": 74449,
    "start_time": "2023-06-16T12:23:26.878Z"
   },
   {
    "duration": 6,
    "start_time": "2023-06-16T12:24:41.330Z"
   },
   {
    "duration": 104,
    "start_time": "2023-06-16T12:24:41.338Z"
   },
   {
    "duration": 82,
    "start_time": "2023-06-16T12:24:41.443Z"
   },
   {
    "duration": 1417889,
    "start_time": "2023-06-16T12:24:41.527Z"
   },
   {
    "duration": 3,
    "start_time": "2023-06-16T12:48:19.417Z"
   },
   {
    "duration": 6,
    "start_time": "2023-06-16T12:48:19.424Z"
   },
   {
    "duration": 28,
    "start_time": "2023-06-16T12:48:19.431Z"
   },
   {
    "duration": 316860,
    "start_time": "2023-06-16T12:48:19.461Z"
   },
   {
    "duration": 16,
    "start_time": "2023-06-16T12:53:36.322Z"
   },
   {
    "duration": 16,
    "start_time": "2023-06-16T12:53:36.340Z"
   },
   {
    "duration": 146,
    "start_time": "2023-06-16T12:53:36.357Z"
   },
   {
    "duration": 24,
    "start_time": "2023-06-16T12:53:36.505Z"
   },
   {
    "duration": 137,
    "start_time": "2023-06-16T12:53:36.530Z"
   },
   {
    "duration": 186,
    "start_time": "2023-06-16T12:53:36.668Z"
   },
   {
    "duration": 297,
    "start_time": "2023-06-16T12:55:13.718Z"
   },
   {
    "duration": 503,
    "start_time": "2023-06-16T12:55:21.289Z"
   },
   {
    "duration": 87,
    "start_time": "2023-06-16T12:56:06.954Z"
   },
   {
    "duration": 4,
    "start_time": "2023-06-16T13:06:20.064Z"
   },
   {
    "duration": 5,
    "start_time": "2023-06-16T13:07:05.826Z"
   },
   {
    "duration": 6,
    "start_time": "2023-06-16T13:07:30.740Z"
   },
   {
    "duration": 4,
    "start_time": "2023-06-16T13:12:09.676Z"
   }
  ],
  "kernelspec": {
   "display_name": "Python 3 (ipykernel)",
   "language": "python",
   "name": "python3"
  },
  "language_info": {
   "codemirror_mode": {
    "name": "ipython",
    "version": 3
   },
   "file_extension": ".py",
   "mimetype": "text/x-python",
   "name": "python",
   "nbconvert_exporter": "python",
   "pygments_lexer": "ipython3",
   "version": "3.9.16"
  },
  "toc": {
   "base_numbering": 1,
   "nav_menu": {},
   "number_sections": true,
   "sideBar": true,
   "skip_h1_title": true,
   "title_cell": "Table of Contents",
   "title_sidebar": "Contents",
   "toc_cell": false,
   "toc_position": {
    "height": "calc(100% - 180px)",
    "left": "10px",
    "top": "150px",
    "width": "512px"
   },
   "toc_section_display": true,
   "toc_window_display": false
  },
  "varInspector": {
   "cols": {
    "lenName": 16,
    "lenType": 16,
    "lenVar": 40
   },
   "kernels_config": {
    "python": {
     "delete_cmd_postfix": "",
     "delete_cmd_prefix": "del ",
     "library": "var_list.py",
     "varRefreshCmd": "print(var_dic_list())"
    },
    "r": {
     "delete_cmd_postfix": ") ",
     "delete_cmd_prefix": "rm(",
     "library": "var_list.r",
     "varRefreshCmd": "cat(var_dic_list()) "
    }
   },
   "types_to_exclude": [
    "module",
    "function",
    "builtin_function_or_method",
    "instance",
    "_Feature"
   ],
   "window_display": false
  }
 },
 "nbformat": 4,
 "nbformat_minor": 5
}

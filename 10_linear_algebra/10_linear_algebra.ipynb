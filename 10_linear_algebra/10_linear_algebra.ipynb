{
 "cells": [
  {
   "cell_type": "markdown",
   "id": "1a8eeb7a",
   "metadata": {},
   "source": [
    "# Защита персональных данных клиентов"
   ]
  },
  {
   "cell_type": "markdown",
   "id": "dca7d658",
   "metadata": {},
   "source": [
    "___\n",
    "**Описание проекта**  \n",
    "\n",
    "Вам нужно защитить данные клиентов страховой компании «Хоть потоп». Разработайте такой метод преобразования данных, чтобы по ним было сложно восстановить персональную информацию. Обоснуйте корректность его работы.\n",
    "___\n",
    "**Цель**  \n",
    "\n",
    "Нужно защитить данные, чтобы при преобразовании качество моделей машинного обучения не ухудшилось. Подбирать наилучшую модель не требуется.\n",
    "___\n",
    "**Описание данных:**  \n",
    "\n",
    "Набор данных находится в файле `/datasets/insurance.csv`.\n",
    "\n",
    "*Признаки:*\n",
    "\n",
    " - пол, возраст и зарплата застрахованного, количество членов его семьи.  \n",
    "\n",
    "*Целевой признак:*\n",
    "\n",
    " - количество страховых выплат клиенту за последние 5 лет."
   ]
  },
  {
   "cell_type": "markdown",
   "id": "0f18a5fd",
   "metadata": {},
   "source": [
    "<h1>Содержание<span class=\"tocSkip\"></span></h1><br>\n",
    "<div class=\"toc\">\n",
    "    <ul class=\"toc-item\">\n",
    "        <li><span><a href=\"#Загрузка-данных\" data-toc-modified-id=\"Загрузка-данных-1\"><span class=\"toc-item-num\">1&nbsp;&nbsp;</span>Загрузка данных</a></span></li>\n",
    "        <li><span><a href=\"#Умножение-матриц\" data-toc-modified-id=\"Умножение-матриц-2\"><span class=\"toc-item-num\">2&nbsp;&nbsp;</span>Умножение матриц</a></span></li>\n",
    "        <li><span><a href=\"#Алгоритм-преобразования\" data-toc-modified-id=\"Алгоритм-преобразования-3\"><span class=\"toc-item-num\">3&nbsp;&nbsp;</span>Алгоритм преобразования</a></span></li><li><span><a href=\"#Проверка-алгоритма\" data-toc-modified-id=\"Проверка-алгоритма-4\"><span class=\"toc-item-num\">4&nbsp;&nbsp;</span>Проверка алгоритма</a></span></li>\n",
    "        <li><span><a href=\"#Чек-лист-проверки\" data-toc-modified-id=\"Чек-лист-проверки-5\"><span class=\"toc-item-num\">5&nbsp;&nbsp;</span>Чек-лист проверки</a></span></li>\n",
    "    </ul>\n",
    "</div>"
   ]
  },
  {
   "cell_type": "markdown",
   "id": "de9bc3ea",
   "metadata": {},
   "source": [
    "## Загрузка данных"
   ]
  },
  {
   "cell_type": "markdown",
   "id": "9ce7853f",
   "metadata": {},
   "source": [
    "### Считаем данные из csv-файла в датафрейм и сохраним в переменную `df`. Путь к файлу:\n",
    "\n",
    "`/datasets/insurance.csv`"
   ]
  },
  {
   "cell_type": "code",
   "execution_count": 1,
   "id": "8dc09816",
   "metadata": {},
   "outputs": [],
   "source": [
    "import pandas as pd\n",
    "import numpy as np\n",
    "import matplotlib.pyplot as plt\n",
    "import seaborn as sns\n",
    "\n",
    "from datetime import datetime\n",
    "from scipy import stats"
   ]
  },
  {
   "cell_type": "code",
   "execution_count": 2,
   "id": "4a9238a4",
   "metadata": {},
   "outputs": [],
   "source": [
    "#Инициализация модели логистической регрессии\n",
    "from sklearn.linear_model import LinearRegression\n",
    "\n",
    "#Разделение выборки в заданных пропорциях\n",
    "from sklearn.model_selection import train_test_split\n",
    "\n",
    "#Преобразователь масштаба методом стандартизации\n",
    "from sklearn.preprocessing import StandardScaler\n",
    "\n",
    "#Метрика r2_score\n",
    "from sklearn.metrics import r2_score"
   ]
  },
  {
   "cell_type": "code",
   "execution_count": 3,
   "id": "3a1c9479",
   "metadata": {},
   "outputs": [],
   "source": [
    "try:\n",
    "    df = pd.read_csv('/datasets/insurance.csv')\n",
    "except:\n",
    "    print('File_not_found')"
   ]
  },
  {
   "cell_type": "markdown",
   "id": "c5f9d3e1",
   "metadata": {},
   "source": [
    "### Изучим общую информацию о полученном датафрейме"
   ]
  },
  {
   "cell_type": "markdown",
   "id": "7073e3c7",
   "metadata": {},
   "source": [
    "**Добавим настройки для удобства отображения данных**"
   ]
  },
  {
   "cell_type": "code",
   "execution_count": 4,
   "id": "b89bf628",
   "metadata": {},
   "outputs": [],
   "source": [
    "pd.set_option('display.max_columns', None)\n",
    "pd.set_option('display.max_rows', 200)\n",
    "pd.options.display.float_format = '{:,.2f}'.format\n",
    "np.set_printoptions(suppress=True)\n",
    "\n",
    "#Если необходимо вернуть дефолтные настройки, раскомментируй строку ниже\n",
    "#pd.reset_option('all')"
   ]
  },
  {
   "cell_type": "markdown",
   "id": "afda8b1a",
   "metadata": {},
   "source": [
    "**Выведем первые 10 строчек датафрейма `df` на экран.**"
   ]
  },
  {
   "cell_type": "code",
   "execution_count": 5,
   "id": "a02d5e85",
   "metadata": {},
   "outputs": [
    {
     "data": {
      "text/html": [
       "<div>\n",
       "<style scoped>\n",
       "    .dataframe tbody tr th:only-of-type {\n",
       "        vertical-align: middle;\n",
       "    }\n",
       "\n",
       "    .dataframe tbody tr th {\n",
       "        vertical-align: top;\n",
       "    }\n",
       "\n",
       "    .dataframe thead th {\n",
       "        text-align: right;\n",
       "    }\n",
       "</style>\n",
       "<table border=\"1\" class=\"dataframe\">\n",
       "  <thead>\n",
       "    <tr style=\"text-align: right;\">\n",
       "      <th></th>\n",
       "      <th>Пол</th>\n",
       "      <th>Возраст</th>\n",
       "      <th>Зарплата</th>\n",
       "      <th>Члены семьи</th>\n",
       "      <th>Страховые выплаты</th>\n",
       "    </tr>\n",
       "  </thead>\n",
       "  <tbody>\n",
       "    <tr>\n",
       "      <th>0</th>\n",
       "      <td>1</td>\n",
       "      <td>41.00</td>\n",
       "      <td>49,600.00</td>\n",
       "      <td>1</td>\n",
       "      <td>0</td>\n",
       "    </tr>\n",
       "    <tr>\n",
       "      <th>1</th>\n",
       "      <td>0</td>\n",
       "      <td>46.00</td>\n",
       "      <td>38,000.00</td>\n",
       "      <td>1</td>\n",
       "      <td>1</td>\n",
       "    </tr>\n",
       "    <tr>\n",
       "      <th>2</th>\n",
       "      <td>0</td>\n",
       "      <td>29.00</td>\n",
       "      <td>21,000.00</td>\n",
       "      <td>0</td>\n",
       "      <td>0</td>\n",
       "    </tr>\n",
       "    <tr>\n",
       "      <th>3</th>\n",
       "      <td>0</td>\n",
       "      <td>21.00</td>\n",
       "      <td>41,700.00</td>\n",
       "      <td>2</td>\n",
       "      <td>0</td>\n",
       "    </tr>\n",
       "    <tr>\n",
       "      <th>4</th>\n",
       "      <td>1</td>\n",
       "      <td>28.00</td>\n",
       "      <td>26,100.00</td>\n",
       "      <td>0</td>\n",
       "      <td>0</td>\n",
       "    </tr>\n",
       "    <tr>\n",
       "      <th>5</th>\n",
       "      <td>1</td>\n",
       "      <td>43.00</td>\n",
       "      <td>41,000.00</td>\n",
       "      <td>2</td>\n",
       "      <td>1</td>\n",
       "    </tr>\n",
       "    <tr>\n",
       "      <th>6</th>\n",
       "      <td>1</td>\n",
       "      <td>39.00</td>\n",
       "      <td>39,700.00</td>\n",
       "      <td>2</td>\n",
       "      <td>0</td>\n",
       "    </tr>\n",
       "    <tr>\n",
       "      <th>7</th>\n",
       "      <td>1</td>\n",
       "      <td>25.00</td>\n",
       "      <td>38,600.00</td>\n",
       "      <td>4</td>\n",
       "      <td>0</td>\n",
       "    </tr>\n",
       "    <tr>\n",
       "      <th>8</th>\n",
       "      <td>1</td>\n",
       "      <td>36.00</td>\n",
       "      <td>49,700.00</td>\n",
       "      <td>1</td>\n",
       "      <td>0</td>\n",
       "    </tr>\n",
       "    <tr>\n",
       "      <th>9</th>\n",
       "      <td>1</td>\n",
       "      <td>32.00</td>\n",
       "      <td>51,700.00</td>\n",
       "      <td>1</td>\n",
       "      <td>0</td>\n",
       "    </tr>\n",
       "  </tbody>\n",
       "</table>\n",
       "</div>"
      ],
      "text/plain": [
       "   Пол  Возраст  Зарплата  Члены семьи  Страховые выплаты\n",
       "0    1    41.00 49,600.00            1                  0\n",
       "1    0    46.00 38,000.00            1                  1\n",
       "2    0    29.00 21,000.00            0                  0\n",
       "3    0    21.00 41,700.00            2                  0\n",
       "4    1    28.00 26,100.00            0                  0\n",
       "5    1    43.00 41,000.00            2                  1\n",
       "6    1    39.00 39,700.00            2                  0\n",
       "7    1    25.00 38,600.00            4                  0\n",
       "8    1    36.00 49,700.00            1                  0\n",
       "9    1    32.00 51,700.00            1                  0"
      ]
     },
     "execution_count": 5,
     "metadata": {},
     "output_type": "execute_result"
    }
   ],
   "source": [
    "df.head(10)"
   ]
  },
  {
   "cell_type": "markdown",
   "id": "45670367",
   "metadata": {},
   "source": [
    "**Посмотрим на размер данных (количество строк, колонок).**"
   ]
  },
  {
   "cell_type": "code",
   "execution_count": 6,
   "id": "494a9eff",
   "metadata": {},
   "outputs": [
    {
     "name": "stdout",
     "output_type": "stream",
     "text": [
      "\n",
      "Количество строк: 5000\n",
      "Количество колонок: 5\n",
      "\n"
     ]
    }
   ],
   "source": [
    "print(f'\\nКоличество строк: {df.shape[0]}\\nКоличество колонок: {df.shape[1]}\\n')"
   ]
  },
  {
   "cell_type": "markdown",
   "id": "44902b18",
   "metadata": {},
   "source": [
    "**Для удобства, сразу приведем обозначения признаков на латиницу и к \"змеиному\" регистру.**"
   ]
  },
  {
   "cell_type": "code",
   "execution_count": 7,
   "id": "bd53c2ba",
   "metadata": {},
   "outputs": [],
   "source": [
    "df = df.rename(columns={\n",
    "    'Пол': 'gender',\n",
    "    'Возраст': 'age',\n",
    "    'Зарплата': 'salary',\n",
    "    'Члены семьи': 'family_members',\n",
    "    'Страховые выплаты': 'insurance_payments'\n",
    "})"
   ]
  },
  {
   "cell_type": "code",
   "execution_count": 8,
   "id": "955ed2e2",
   "metadata": {},
   "outputs": [
    {
     "data": {
      "text/plain": [
       "Index(['gender', 'age', 'salary', 'family_members', 'insurance_payments'], dtype='object')"
      ]
     },
     "execution_count": 8,
     "metadata": {},
     "output_type": "execute_result"
    }
   ],
   "source": [
    "df.columns"
   ]
  },
  {
   "cell_type": "markdown",
   "id": "007bb311",
   "metadata": {},
   "source": [
    "**Просмотрим статистическую сводку каждой колонки, чтобы узнать распределение данных в каждой колонки. Используем метод `describe()`.**"
   ]
  },
  {
   "cell_type": "code",
   "execution_count": 9,
   "id": "a5638433",
   "metadata": {
    "scrolled": true
   },
   "outputs": [
    {
     "data": {
      "text/html": [
       "<div>\n",
       "<style scoped>\n",
       "    .dataframe tbody tr th:only-of-type {\n",
       "        vertical-align: middle;\n",
       "    }\n",
       "\n",
       "    .dataframe tbody tr th {\n",
       "        vertical-align: top;\n",
       "    }\n",
       "\n",
       "    .dataframe thead th {\n",
       "        text-align: right;\n",
       "    }\n",
       "</style>\n",
       "<table border=\"1\" class=\"dataframe\">\n",
       "  <thead>\n",
       "    <tr style=\"text-align: right;\">\n",
       "      <th></th>\n",
       "      <th>gender</th>\n",
       "      <th>age</th>\n",
       "      <th>salary</th>\n",
       "      <th>family_members</th>\n",
       "      <th>insurance_payments</th>\n",
       "    </tr>\n",
       "  </thead>\n",
       "  <tbody>\n",
       "    <tr>\n",
       "      <th>count</th>\n",
       "      <td>5,000.00</td>\n",
       "      <td>5,000.00</td>\n",
       "      <td>5,000.00</td>\n",
       "      <td>5,000.00</td>\n",
       "      <td>5,000.00</td>\n",
       "    </tr>\n",
       "    <tr>\n",
       "      <th>mean</th>\n",
       "      <td>0.50</td>\n",
       "      <td>30.95</td>\n",
       "      <td>39,916.36</td>\n",
       "      <td>1.19</td>\n",
       "      <td>0.15</td>\n",
       "    </tr>\n",
       "    <tr>\n",
       "      <th>std</th>\n",
       "      <td>0.50</td>\n",
       "      <td>8.44</td>\n",
       "      <td>9,900.08</td>\n",
       "      <td>1.09</td>\n",
       "      <td>0.46</td>\n",
       "    </tr>\n",
       "    <tr>\n",
       "      <th>min</th>\n",
       "      <td>0.00</td>\n",
       "      <td>18.00</td>\n",
       "      <td>5,300.00</td>\n",
       "      <td>0.00</td>\n",
       "      <td>0.00</td>\n",
       "    </tr>\n",
       "    <tr>\n",
       "      <th>25%</th>\n",
       "      <td>0.00</td>\n",
       "      <td>24.00</td>\n",
       "      <td>33,300.00</td>\n",
       "      <td>0.00</td>\n",
       "      <td>0.00</td>\n",
       "    </tr>\n",
       "    <tr>\n",
       "      <th>50%</th>\n",
       "      <td>0.00</td>\n",
       "      <td>30.00</td>\n",
       "      <td>40,200.00</td>\n",
       "      <td>1.00</td>\n",
       "      <td>0.00</td>\n",
       "    </tr>\n",
       "    <tr>\n",
       "      <th>75%</th>\n",
       "      <td>1.00</td>\n",
       "      <td>37.00</td>\n",
       "      <td>46,600.00</td>\n",
       "      <td>2.00</td>\n",
       "      <td>0.00</td>\n",
       "    </tr>\n",
       "    <tr>\n",
       "      <th>max</th>\n",
       "      <td>1.00</td>\n",
       "      <td>65.00</td>\n",
       "      <td>79,000.00</td>\n",
       "      <td>6.00</td>\n",
       "      <td>5.00</td>\n",
       "    </tr>\n",
       "  </tbody>\n",
       "</table>\n",
       "</div>"
      ],
      "text/plain": [
       "        gender      age    salary  family_members  insurance_payments\n",
       "count 5,000.00 5,000.00  5,000.00        5,000.00            5,000.00\n",
       "mean      0.50    30.95 39,916.36            1.19                0.15\n",
       "std       0.50     8.44  9,900.08            1.09                0.46\n",
       "min       0.00    18.00  5,300.00            0.00                0.00\n",
       "25%       0.00    24.00 33,300.00            0.00                0.00\n",
       "50%       0.00    30.00 40,200.00            1.00                0.00\n",
       "75%       1.00    37.00 46,600.00            2.00                0.00\n",
       "max       1.00    65.00 79,000.00            6.00                5.00"
      ]
     },
     "execution_count": 9,
     "metadata": {},
     "output_type": "execute_result"
    }
   ],
   "source": [
    "df.describe(include = \"all\")"
   ]
  },
  {
   "cell_type": "markdown",
   "id": "049bc3e7",
   "metadata": {},
   "source": [
    "*Признаки:*\n",
    "\n",
    "- `gender` — пол\n",
    "- `age` — возраст\n",
    "- `salary` — зарплата\n",
    "- `family_members` — члены семьи\n",
    "\n",
    "*Целевой признак:*\n",
    "\n",
    "- `insurance_payments` — страховые выплаты"
   ]
  },
  {
   "cell_type": "markdown",
   "id": "1b8e6182",
   "metadata": {},
   "source": [
    "**Выведем основную информацию о датафрейме с помощью метода `info()`.**"
   ]
  },
  {
   "cell_type": "code",
   "execution_count": 10,
   "id": "d17de93c",
   "metadata": {},
   "outputs": [
    {
     "name": "stdout",
     "output_type": "stream",
     "text": [
      "<class 'pandas.core.frame.DataFrame'>\n",
      "RangeIndex: 5000 entries, 0 to 4999\n",
      "Data columns (total 5 columns):\n",
      " #   Column              Non-Null Count  Dtype  \n",
      "---  ------              --------------  -----  \n",
      " 0   gender              5000 non-null   int64  \n",
      " 1   age                 5000 non-null   float64\n",
      " 2   salary              5000 non-null   float64\n",
      " 3   family_members      5000 non-null   int64  \n",
      " 4   insurance_payments  5000 non-null   int64  \n",
      "dtypes: float64(2), int64(3)\n",
      "memory usage: 195.4 KB\n"
     ]
    }
   ],
   "source": [
    "df.info()"
   ]
  },
  {
   "cell_type": "markdown",
   "id": "174f5e39",
   "metadata": {},
   "source": [
    "**Выведем количество пропущенных значений для каждой колонки.**"
   ]
  },
  {
   "cell_type": "code",
   "execution_count": 11,
   "id": "65916e32",
   "metadata": {},
   "outputs": [
    {
     "data": {
      "text/html": [
       "<style  type=\"text/css\" >\n",
       "#T_93d89_row0_col0,#T_93d89_row1_col0,#T_93d89_row2_col0,#T_93d89_row3_col0,#T_93d89_row4_col0{\n",
       "            background-color:  #3b4cc0;\n",
       "            color:  #f1f1f1;\n",
       "        }</style><table id=\"T_93d89_\" ><thead>    <tr>        <th class=\"blank level0\" ></th>        <th class=\"col_heading level0 col0\" >0</th>    </tr></thead><tbody>\n",
       "                <tr>\n",
       "                        <th id=\"T_93d89_level0_row0\" class=\"row_heading level0 row0\" >gender</th>\n",
       "                        <td id=\"T_93d89_row0_col0\" class=\"data row0 col0\" >0</td>\n",
       "            </tr>\n",
       "            <tr>\n",
       "                        <th id=\"T_93d89_level0_row1\" class=\"row_heading level0 row1\" >age</th>\n",
       "                        <td id=\"T_93d89_row1_col0\" class=\"data row1 col0\" >0</td>\n",
       "            </tr>\n",
       "            <tr>\n",
       "                        <th id=\"T_93d89_level0_row2\" class=\"row_heading level0 row2\" >salary</th>\n",
       "                        <td id=\"T_93d89_row2_col0\" class=\"data row2 col0\" >0</td>\n",
       "            </tr>\n",
       "            <tr>\n",
       "                        <th id=\"T_93d89_level0_row3\" class=\"row_heading level0 row3\" >family_members</th>\n",
       "                        <td id=\"T_93d89_row3_col0\" class=\"data row3 col0\" >0</td>\n",
       "            </tr>\n",
       "            <tr>\n",
       "                        <th id=\"T_93d89_level0_row4\" class=\"row_heading level0 row4\" >insurance_payments</th>\n",
       "                        <td id=\"T_93d89_row4_col0\" class=\"data row4 col0\" >0</td>\n",
       "            </tr>\n",
       "    </tbody></table>"
      ],
      "text/plain": [
       "<pandas.io.formats.style.Styler at 0x7f9801fd5730>"
      ]
     },
     "execution_count": 11,
     "metadata": {},
     "output_type": "execute_result"
    }
   ],
   "source": [
    "pd.DataFrame(df.isna().sum()).style.background_gradient('coolwarm')"
   ]
  },
  {
   "cell_type": "markdown",
   "id": "9ed03915",
   "metadata": {},
   "source": [
    "**Выведем пропущенные значения в процентном соотношении.**"
   ]
  },
  {
   "cell_type": "code",
   "execution_count": 12,
   "id": "c0d09458",
   "metadata": {},
   "outputs": [
    {
     "data": {
      "text/html": [
       "<style  type=\"text/css\" >\n",
       "#T_8df1a_row0_col0,#T_8df1a_row1_col0,#T_8df1a_row2_col0,#T_8df1a_row3_col0,#T_8df1a_row4_col0{\n",
       "            background-color:  #3b4cc0;\n",
       "            color:  #f1f1f1;\n",
       "        }</style><table id=\"T_8df1a_\" ><thead>    <tr>        <th class=\"blank level0\" ></th>        <th class=\"col_heading level0 col0\" >0</th>    </tr></thead><tbody>\n",
       "                <tr>\n",
       "                        <th id=\"T_8df1a_level0_row0\" class=\"row_heading level0 row0\" >gender</th>\n",
       "                        <td id=\"T_8df1a_row0_col0\" class=\"data row0 col0\" >0.00%</td>\n",
       "            </tr>\n",
       "            <tr>\n",
       "                        <th id=\"T_8df1a_level0_row1\" class=\"row_heading level0 row1\" >age</th>\n",
       "                        <td id=\"T_8df1a_row1_col0\" class=\"data row1 col0\" >0.00%</td>\n",
       "            </tr>\n",
       "            <tr>\n",
       "                        <th id=\"T_8df1a_level0_row2\" class=\"row_heading level0 row2\" >salary</th>\n",
       "                        <td id=\"T_8df1a_row2_col0\" class=\"data row2 col0\" >0.00%</td>\n",
       "            </tr>\n",
       "            <tr>\n",
       "                        <th id=\"T_8df1a_level0_row3\" class=\"row_heading level0 row3\" >family_members</th>\n",
       "                        <td id=\"T_8df1a_row3_col0\" class=\"data row3 col0\" >0.00%</td>\n",
       "            </tr>\n",
       "            <tr>\n",
       "                        <th id=\"T_8df1a_level0_row4\" class=\"row_heading level0 row4\" >insurance_payments</th>\n",
       "                        <td id=\"T_8df1a_row4_col0\" class=\"data row4 col0\" >0.00%</td>\n",
       "            </tr>\n",
       "    </tbody></table>"
      ],
      "text/plain": [
       "<pandas.io.formats.style.Styler at 0x7f9801fd5820>"
      ]
     },
     "execution_count": 12,
     "metadata": {},
     "output_type": "execute_result"
    }
   ],
   "source": [
    "pd.DataFrame(df.isna().mean()).style.format(\"{:.2%}\").background_gradient('coolwarm')"
   ]
  },
  {
   "cell_type": "markdown",
   "id": "23e0534b",
   "metadata": {},
   "source": [
    "**Проверим дубликаты.**"
   ]
  },
  {
   "cell_type": "code",
   "execution_count": 13,
   "id": "6352fba1",
   "metadata": {},
   "outputs": [
    {
     "data": {
      "text/plain": [
       "153"
      ]
     },
     "execution_count": 13,
     "metadata": {},
     "output_type": "execute_result"
    }
   ],
   "source": [
    "df.duplicated().sum()"
   ]
  },
  {
   "cell_type": "markdown",
   "id": "4891b982",
   "metadata": {},
   "source": [
    "**Выявлены следующие проблемы:**\n",
    "\n",
    ">1. Привести обозначения признаков на латиницу и к \"змеиному\" регистру;\n",
    ">2. В признаках `age`, `salary`, тип значений `float64` следует изменить на `int64`;\n",
    ">3. Избавится от дубликатов."
   ]
  },
  {
   "cell_type": "markdown",
   "id": "fdb42559",
   "metadata": {},
   "source": [
    "**Изменим тип значений `float64` в признаке `age` на `int64`.**"
   ]
  },
  {
   "cell_type": "code",
   "execution_count": 14,
   "id": "05186d2d",
   "metadata": {},
   "outputs": [],
   "source": [
    "df['age'] = df['age'].astype('int64')"
   ]
  },
  {
   "cell_type": "markdown",
   "id": "a3b7ad75",
   "metadata": {},
   "source": [
    "**Изменим тип значений `float64` в признаке `salary` на `int64`.**"
   ]
  },
  {
   "cell_type": "code",
   "execution_count": 15,
   "id": "3feaa56a",
   "metadata": {},
   "outputs": [],
   "source": [
    "df['salary'] = df['salary'].astype('int64')"
   ]
  },
  {
   "cell_type": "markdown",
   "id": "c9fb2ef8",
   "metadata": {},
   "source": [
    "**Удалим дубликаты.**"
   ]
  },
  {
   "cell_type": "code",
   "execution_count": 16,
   "id": "dc56aab0",
   "metadata": {},
   "outputs": [],
   "source": [
    "df = df.drop_duplicates()"
   ]
  },
  {
   "cell_type": "markdown",
   "id": "5e43d2ca",
   "metadata": {},
   "source": [
    "**Посмотрим на распределения числовых признаков `age`, `salary`, `family_members`, `insurance_payments`.**"
   ]
  },
  {
   "cell_type": "code",
   "execution_count": 17,
   "id": "f81eb361",
   "metadata": {},
   "outputs": [],
   "source": [
    "def plots_numerics(data, x, xlabel=None, ylabel=None, title=None, suptitle=None, nrows=1, ncols=1, figsize=(3 , 3)):\n",
    "\n",
    "    fig, axes = plt.subplots(nrows=nrows, ncols=ncols, figsize=figsize)\n",
    "\n",
    "    for index in range(len(x)):\n",
    "        \n",
    "        plot = sns.histplot(data[x[index]],\n",
    "                            color='purple',\n",
    "                            stat='density',\n",
    "                            ax=axes[0, index])\n",
    "        sns.kdeplot(data[x[index]],\n",
    "                    color='yellow',\n",
    "                    alpha=0.5,\n",
    "                    linewidth=3.5,\n",
    "                    ax=axes[0, index])\n",
    "        plot.axvline(data[x[index]].mean(), label='mean', c='k', ls='-', lw=2.5)\n",
    "        plot.axvline(data[x[index]].median(), label='median', c='orange', ls='--', lw=2.5)\n",
    "        axes[0, index].set(xlabel=xlabel)\n",
    "        axes[0, index].set(ylabel=ylabel)\n",
    "        \n",
    "        sns.boxplot(data=data, x=x[index], color='yellow', ax=axes[1, index])\n",
    "        sns.stripplot(data=data, x=x[index], color='purple', jitter=0.4, size=1.3, alpha=0.5, ax=axes[1, index])\n",
    "        axes[1, index].set(xlabel=xlabel)\n",
    "        axes[1, index].set(ylabel=ylabel)\n",
    "        \n",
    "        sns.violinplot(data=data, x=x[index],color='yellow', ax=axes[2, index])\n",
    "        axes[2, index].set(xlabel=xlabel)\n",
    "        axes[2, index].set(ylabel=ylabel)\n",
    "\n",
    "        axes[0, index].set_title(title[x[index]], fontsize=18, pad=15)\n",
    "    \n",
    "    fig.suptitle(suptitle, fontsize=22)\n",
    "    plt.show()"
   ]
  },
  {
   "cell_type": "code",
   "execution_count": 18,
   "id": "fb539596",
   "metadata": {},
   "outputs": [
    {
     "data": {
      "image/png": "[encoded data removed]",
      "text/plain": [
       "<Figure size 1440x1080 with 6 Axes>"
      ]
     },
     "metadata": {
      "needs_background": "light"
     },
     "output_type": "display_data"
    }
   ],
   "source": [
    "numerical = ['age', 'salary']\n",
    "\n",
    "plots_numerics(data=df,\n",
    "               x=numerical,\n",
    "               xlabel=None,\n",
    "               ylabel=None,\n",
    "               title={'age': 'Возраст',\n",
    "                      'salary': 'Зарплата'},\n",
    "               suptitle=(f'Распределения признаков: {numerical}'),\n",
    "               nrows=3,\n",
    "               ncols=2,\n",
    "               figsize=(20, 15))"
   ]
  },
  {
   "cell_type": "markdown",
   "id": "b2986d4e",
   "metadata": {},
   "source": [
    "**Посчитаем процент выбросов в признаке `age` методом \"z оценки\".**"
   ]
  },
  {
   "cell_type": "code",
   "execution_count": 19,
   "id": "acaa06c0",
   "metadata": {},
   "outputs": [],
   "source": [
    "z = np.abs(stats.zscore(df['age']))"
   ]
  },
  {
   "cell_type": "code",
   "execution_count": 20,
   "id": "abb3964f",
   "metadata": {},
   "outputs": [
    {
     "name": "stdout",
     "output_type": "stream",
     "text": [
      "Процент выбросов равен: 0.25%\n"
     ]
    }
   ],
   "source": [
    "outliners = df['age'].iloc[np.where(z > 3)].count() / df['age'].shape[0]\n",
    "print(f'Процент выбросов равен: {outliners:.2%}')"
   ]
  },
  {
   "cell_type": "markdown",
   "id": "2920dfac",
   "metadata": {},
   "source": [
    "**Посчитаем процент выбросов в признаке `salary` методом \"z оценки\".**"
   ]
  },
  {
   "cell_type": "code",
   "execution_count": 21,
   "id": "e15bab64",
   "metadata": {},
   "outputs": [],
   "source": [
    "z = np.abs(stats.zscore(df['salary']))"
   ]
  },
  {
   "cell_type": "code",
   "execution_count": 22,
   "id": "a99ae7a7",
   "metadata": {},
   "outputs": [
    {
     "name": "stdout",
     "output_type": "stream",
     "text": [
      "Процент выбросов равен: 0.27%\n"
     ]
    }
   ],
   "source": [
    "outliners = df['salary'].iloc[np.where(z > 3)].count() / df['salary'].shape[0]\n",
    "print(f'Процент выбросов равен: {outliners:.2%}')"
   ]
  },
  {
   "cell_type": "markdown",
   "id": "007ce78c",
   "metadata": {},
   "source": [
    "**Промежуточный вывод:**  \n",
    "> На графике возраста видим, что клиентами являются совершеннолетние от 18 лет. Данные на обоих графиках распределены нормально. Количество выбросов меньше одного процента."
   ]
  },
  {
   "cell_type": "code",
   "execution_count": 23,
   "id": "d2a037a6",
   "metadata": {},
   "outputs": [
    {
     "data": {
      "image/png": "[encoded data removed]",
      "text/plain": [
       "<Figure size 1440x1080 with 6 Axes>"
      ]
     },
     "metadata": {
      "needs_background": "light"
     },
     "output_type": "display_data"
    }
   ],
   "source": [
    "numerical = ['family_members', 'insurance_payments']\n",
    "\n",
    "plots_numerics(data=df,\n",
    "               x=numerical,\n",
    "               xlabel=None,\n",
    "               ylabel=None,\n",
    "               title={'family_members': 'Члены семьи',\n",
    "                      'insurance_payments': 'Страховые выплаты'},\n",
    "               suptitle=(f'Распределения признаков: {numerical}'),\n",
    "               nrows=3,\n",
    "               ncols=2,\n",
    "               figsize=(20, 15))"
   ]
  },
  {
   "cell_type": "markdown",
   "id": "b46f4e6a",
   "metadata": {},
   "source": [
    "**Посчитаем процент выбросов в признаке `family_members` методом \"z оценки\".**"
   ]
  },
  {
   "cell_type": "code",
   "execution_count": 24,
   "id": "e0623a22",
   "metadata": {},
   "outputs": [],
   "source": [
    "z = np.abs(stats.zscore(df['family_members']))"
   ]
  },
  {
   "cell_type": "code",
   "execution_count": 25,
   "id": "7f24b6b3",
   "metadata": {},
   "outputs": [
    {
     "name": "stdout",
     "output_type": "stream",
     "text": [
      "Процент выбросов равен: 0.80%\n"
     ]
    }
   ],
   "source": [
    "outliners = df['family_members'].iloc[np.where(z > 3)].count() / df['family_members'].shape[0]\n",
    "print(f'Процент выбросов равен: {outliners:.2%}')"
   ]
  },
  {
   "cell_type": "markdown",
   "id": "91b3da8c",
   "metadata": {},
   "source": [
    "**Посчитаем процент выбросов в признаке `insurance_payments` методом \"z оценки\".**"
   ]
  },
  {
   "cell_type": "code",
   "execution_count": 26,
   "id": "cad03a2e",
   "metadata": {},
   "outputs": [],
   "source": [
    "z = np.abs(stats.zscore(df['insurance_payments']))"
   ]
  },
  {
   "cell_type": "code",
   "execution_count": 27,
   "id": "e512b462",
   "metadata": {},
   "outputs": [
    {
     "name": "stdout",
     "output_type": "stream",
     "text": [
      "Процент выбросов равен: 2.89%\n"
     ]
    }
   ],
   "source": [
    "outliners = df['insurance_payments'].iloc[np.where(z > 3)].count() / df['insurance_payments'].shape[0]\n",
    "print(f'Процент выбросов равен: {outliners:.2%}')"
   ]
  },
  {
   "cell_type": "markdown",
   "id": "2f42015b",
   "metadata": {},
   "source": [
    "**Промежуточный вывод:**  \n",
    "> Данные на обоих графиках распределены нормально. Количество выбросов минимальное."
   ]
  },
  {
   "cell_type": "markdown",
   "id": "02734075",
   "metadata": {},
   "source": [
    "**Посмотрим на распределение категориального признака `gender`.**"
   ]
  },
  {
   "cell_type": "code",
   "execution_count": 28,
   "id": "28ed9b76",
   "metadata": {},
   "outputs": [
    {
     "data": {
      "image/png": "[encoded data removed]",
      "text/plain": [
       "<Figure size 288x288 with 1 Axes>"
      ]
     },
     "metadata": {
      "needs_background": "light"
     },
     "output_type": "display_data"
    }
   ],
   "source": [
    "plt.figure(figsize=(4, 4))\n",
    "palette = {0: 'purple', 1: 'yellow'}\n",
    "sns.countplot(data=df, x='gender', palette=palette, saturation=1)\n",
    "plt.xlabel(None)\n",
    "plt.ylabel('Количество клиентов')\n",
    "plt.title('Пол клиента')\n",
    "plt.show()"
   ]
  },
  {
   "cell_type": "markdown",
   "id": "5a9facbf",
   "metadata": {},
   "source": [
    "**Промежуточный вывод:**  \n",
    "> В текущей выборке пол клиента распределен 50/50."
   ]
  },
  {
   "cell_type": "markdown",
   "id": "2c1ac5fb",
   "metadata": {},
   "source": [
    "**Матрица корреляций:**"
   ]
  },
  {
   "cell_type": "code",
   "execution_count": 29,
   "id": "f10a8e5f",
   "metadata": {},
   "outputs": [
    {
     "data": {
      "image/png": "[encoded data removed]",
      "text/plain": [
       "<Figure size 432x360 with 2 Axes>"
      ]
     },
     "metadata": {
      "needs_background": "light"
     },
     "output_type": "display_data"
    }
   ],
   "source": [
    "plt.figure(figsize=(6, 5))\n",
    "\n",
    "sns.set(font_scale=1.4)\n",
    "\n",
    "corr_matrix = df.corr()\n",
    "corr_matrix = np.round(corr_matrix, 2)\n",
    "corr_matrix[np.abs(corr_matrix) < 0.3] = 0\n",
    "\n",
    "sns.heatmap(corr_matrix, annot=True, linewidths=.5, cmap='viridis')\n",
    "\n",
    "plt.title('Матрица корреляций')\n",
    "plt.show()"
   ]
  },
  {
   "cell_type": "markdown",
   "id": "b2844e6f",
   "metadata": {},
   "source": [
    "**Видим `сильную положительную корреляцию` признаков `age` и `insurance_payments`.**  "
   ]
  },
  {
   "cell_type": "markdown",
   "id": "417ba17b",
   "metadata": {},
   "source": [
    "**Выводы изучения графиков:**\n",
    "\n",
    "> Данные графиков распределены нормально. Дополнительных действий с данными, на текущий момент не требуется."
   ]
  },
  {
   "cell_type": "markdown",
   "id": "22c88ed2",
   "metadata": {},
   "source": [
    "## Умножение матриц"
   ]
  },
  {
   "cell_type": "markdown",
   "id": "df7e360a",
   "metadata": {},
   "source": [
    "В этом задании вы можете записывать формулы в *Jupyter Notebook.*\n",
    "\n",
    "Чтобы записать формулу внутри текста, окружите её символами доллара \\\\$; если снаружи —  двойными символами \\\\$\\\\$. Эти формулы записываются на языке вёрстки *LaTeX.* \n",
    "\n",
    "Для примера мы записали формулы линейной регрессии. Можете их скопировать и отредактировать, чтобы решить задачу.\n",
    "\n",
    "Работать в *LaTeX* необязательно."
   ]
  },
  {
   "cell_type": "markdown",
   "id": "39bc2800",
   "metadata": {},
   "source": [
    "Обозначения:\n",
    "\n",
    "- $X$ — матрица признаков (нулевой столбец состоит из единиц)\n",
    "\n",
    "- $y$ — вектор целевого признака\n",
    "\n",
    "- $P$ — матрица, на которую умножаются признаки\n",
    "\n",
    "- $w$ — вектор весов линейной регрессии (нулевой элемент равен сдвигу)"
   ]
  },
  {
   "cell_type": "markdown",
   "id": "84951e19",
   "metadata": {},
   "source": [
    "Предсказания:\n",
    "\n",
    "$$\n",
    "a = Xw\n",
    "$$\n",
    "\n",
    "Задача обучения:\n",
    "\n",
    "$$\n",
    "w = \\arg\\min_w MSE(Xw, y)\n",
    "$$\n",
    "\n",
    "Формула обучения:\n",
    "\n",
    "$$\n",
    "w = (X^T X)^{-1} X^T y\n",
    "$$"
   ]
  },
  {
   "cell_type": "markdown",
   "id": "c8d8431a",
   "metadata": {},
   "source": [
    "**Ответ: Если умножить признаки на обратимую матрицу, качество линейной регрессии не изменяется.**"
   ]
  },
  {
   "cell_type": "markdown",
   "id": "8fddbc8f",
   "metadata": {},
   "source": [
    "**Обоснование:**  \n",
    "\n"
   ]
  },
  {
   "cell_type": "markdown",
   "id": "020ba3f5",
   "metadata": {},
   "source": [
    "Представим искомую матрицу $X'$ признаков как произведение исходной матрицы $X$ и обратимой матрицы $P$:\n",
    "\n",
    "$\n",
    "X' = X\\cdot P\n",
    "$\n",
    "\n",
    "Подставим новое значение $X'$ в формулу обучения:\n",
    "\n",
    "$\n",
    "w' = ((X\\cdot P)^T \\cdot (X\\cdot P))^{-1}\\cdot (X\\cdot P)^T\\cdot Y \n",
    "$\n",
    "\n",
    "Раскроем скобки:\n",
    "\n",
    "$\n",
    "w' = ((X\\cdot P)^T\\cdot X\\cdot P)^{-1}\\cdot (X\\cdot P)^T\\cdot y = (P^T\\cdot (X^T\\cdot X)\\cdot P)^{-1}\\cdot P^T\\cdot X^T\\cdot y = P^{-1}\\cdot (X^T\\cdot X)^{-1}\\cdot ((P^T)^{-1}\\cdot P^T)\\cdot X^T\\cdot y\n",
    "$\n",
    "\n",
    "Матрица $P$ по условию обратима, следовательно, произведение $(P^T)^{-1}\\cdot P^T$ равно единичной матрице $E$:\n",
    "\n",
    "$\n",
    "w' = P^{-1}\\cdot (X^T\\cdot X)^{-1}\\cdot ((P^T)^{-1}\\cdot P^T)\\cdot X^T\\cdot y = P^{-1}\\cdot (X^T\\cdot X)^{-1}\\cdot X^T\\cdot y\n",
    "$\n",
    "\n",
    "Часть полученного выражения совпадает с формулой обучения:\n",
    "\n",
    "$\n",
    "w' = P^{-1}\\cdot (X^T\\cdot X)^{-1}\\cdot X^T\\cdot y\n",
    "$\n",
    "\n",
    "Следовательно:\n",
    "\n",
    "$\n",
    "w' = P^{-1}\\cdot w\n",
    "$\n",
    "\n",
    "Подставим полученное значение весов $w'$ в формулу предсказаний линейной регрессии $a = X\\cdot w$:\n",
    "\n",
    "$\n",
    "a' = X'\\cdot w' = X\\cdot P\\cdot P^{-1}\\cdot w\n",
    "$\n",
    "\n",
    "Так как матрица $P$ по условию обратима, то произведение $P\\cdot P^{-1}$ равно $E$:\n",
    "\n",
    "$\n",
    "a' = X\\cdot P\\cdot P^{-1}\\cdot w = X\\cdot E\\cdot w = X\\cdot w = a\n",
    "$\n",
    "\n",
    "Таким образом, предсказания $a'$ для матрицы признаков, умноженной на обратимую матрицу $P$, равны предсказаниям $a$, то есть качество линейной регрессии при умножении признаков на обратимую матрицу не меняется. Т.к., изменяются веса для новых признаков, модель необходимо переобучать на новых признаках.\n",
    "\n",
    "Параметры линейной регрессии в задачах $w$ и $w'$ связаны следующим образом:\n",
    "\n",
    "$\n",
    "w' = P^{-1}\\cdot w\n",
    "$"
   ]
  },
  {
   "cell_type": "markdown",
   "id": "bc1badb3",
   "metadata": {},
   "source": [
    "**Практическое обоснование:**"
   ]
  },
  {
   "cell_type": "markdown",
   "id": "707f24e8",
   "metadata": {},
   "source": [
    "**Разделим данные на `признаки` и `целевой признак`:**  \n",
    "* `X` — «признаки»;\n",
    "* `y` — «целевой признак»."
   ]
  },
  {
   "cell_type": "code",
   "execution_count": 30,
   "id": "d1d7c695",
   "metadata": {},
   "outputs": [
    {
     "name": "stdout",
     "output_type": "stream",
     "text": [
      "(4847, 4)\n"
     ]
    }
   ],
   "source": [
    "X = df.drop(['insurance_payments'], axis=1)\n",
    "print(X.shape)"
   ]
  },
  {
   "cell_type": "code",
   "execution_count": 31,
   "id": "eb466d4f",
   "metadata": {},
   "outputs": [
    {
     "name": "stdout",
     "output_type": "stream",
     "text": [
      "(4847,)\n"
     ]
    }
   ],
   "source": [
    "y = df['insurance_payments']\n",
    "print(y.shape)"
   ]
  },
  {
   "cell_type": "markdown",
   "id": "8b856966",
   "metadata": {},
   "source": [
    "**Разделим полученные данные в переменных `X`, `y` на `обучающую` и `тестовую` выборки в пропорции `80`:`20`.**\n",
    "\n",
    "**Данные запишем в новые переменные:**  \n",
    "\n",
    "`X_train` - `80%`  \n",
    "`X_test` - `20%`  \n",
    "`y_train` - `80%`  \n",
    "`y_test` - `20%`  "
   ]
  },
  {
   "cell_type": "code",
   "execution_count": 32,
   "id": "f2d6e58d",
   "metadata": {},
   "outputs": [],
   "source": [
    "X_train, X_test, y_train, y_test = train_test_split(\n",
    "    X, y, test_size=0.2, random_state=42, shuffle=True)"
   ]
  },
  {
   "cell_type": "markdown",
   "id": "0d0fc4e9",
   "metadata": {},
   "source": [
    "**Посмотрим на полученные данные.**"
   ]
  },
  {
   "cell_type": "code",
   "execution_count": 33,
   "id": "f9771a26",
   "metadata": {},
   "outputs": [
    {
     "name": "stdout",
     "output_type": "stream",
     "text": [
      "(3877, 4) (970, 4)\n"
     ]
    }
   ],
   "source": [
    "print(X_train.shape, X_test.shape)"
   ]
  },
  {
   "cell_type": "code",
   "execution_count": 34,
   "id": "af1091f3",
   "metadata": {},
   "outputs": [
    {
     "name": "stdout",
     "output_type": "stream",
     "text": [
      "(3877,) (970,)\n"
     ]
    }
   ],
   "source": [
    "print(y_train.shape, y_test.shape)"
   ]
  },
  {
   "cell_type": "markdown",
   "id": "1892a1ac",
   "metadata": {},
   "source": [
    "**Для `линейных моделей ML обучения` преобразуем масштаб количественных признаков `age`, `salary`, `family_members` методом стандартизации `StandardScaler()`.**  \n",
    "**Данные запишем в новые переменные `X_train_scaled` и `X_test_scaled`.**"
   ]
  },
  {
   "cell_type": "code",
   "execution_count": 35,
   "id": "96472239",
   "metadata": {},
   "outputs": [],
   "source": [
    "X_train_scaled, X_test_scaled = X_train.copy(), X_test.copy()"
   ]
  },
  {
   "cell_type": "code",
   "execution_count": 36,
   "id": "2a2736a7",
   "metadata": {},
   "outputs": [],
   "source": [
    "features = ['age', 'salary', 'family_members']"
   ]
  },
  {
   "cell_type": "code",
   "execution_count": 37,
   "id": "261fc28f",
   "metadata": {},
   "outputs": [],
   "source": [
    "scaler = StandardScaler()"
   ]
  },
  {
   "cell_type": "code",
   "execution_count": 38,
   "id": "5f4ccde2",
   "metadata": {},
   "outputs": [
    {
     "data": {
      "text/plain": [
       "StandardScaler()"
      ]
     },
     "execution_count": 38,
     "metadata": {},
     "output_type": "execute_result"
    }
   ],
   "source": [
    "scaler.fit(X_train[features])"
   ]
  },
  {
   "cell_type": "code",
   "execution_count": 39,
   "id": "10ec8b2a",
   "metadata": {},
   "outputs": [],
   "source": [
    "X_train_scaled[features] = scaler.transform(X_train_scaled[features])"
   ]
  },
  {
   "cell_type": "code",
   "execution_count": 40,
   "id": "12a85648",
   "metadata": {},
   "outputs": [],
   "source": [
    "X_test_scaled[features] = scaler.transform(X_test_scaled[features])"
   ]
  },
  {
   "cell_type": "code",
   "execution_count": 41,
   "id": "6653e82e",
   "metadata": {
    "scrolled": true
   },
   "outputs": [
    {
     "data": {
      "text/html": [
       "<div>\n",
       "<style scoped>\n",
       "    .dataframe tbody tr th:only-of-type {\n",
       "        vertical-align: middle;\n",
       "    }\n",
       "\n",
       "    .dataframe tbody tr th {\n",
       "        vertical-align: top;\n",
       "    }\n",
       "\n",
       "    .dataframe thead th {\n",
       "        text-align: right;\n",
       "    }\n",
       "</style>\n",
       "<table border=\"1\" class=\"dataframe\">\n",
       "  <thead>\n",
       "    <tr style=\"text-align: right;\">\n",
       "      <th></th>\n",
       "      <th>gender</th>\n",
       "      <th>age</th>\n",
       "      <th>salary</th>\n",
       "      <th>family_members</th>\n",
       "    </tr>\n",
       "  </thead>\n",
       "  <tbody>\n",
       "    <tr>\n",
       "      <th>433</th>\n",
       "      <td>1</td>\n",
       "      <td>-0.13</td>\n",
       "      <td>0.53</td>\n",
       "      <td>1.62</td>\n",
       "    </tr>\n",
       "    <tr>\n",
       "      <th>4206</th>\n",
       "      <td>1</td>\n",
       "      <td>-0.37</td>\n",
       "      <td>0.52</td>\n",
       "      <td>-1.09</td>\n",
       "    </tr>\n",
       "    <tr>\n",
       "      <th>290</th>\n",
       "      <td>1</td>\n",
       "      <td>-1.08</td>\n",
       "      <td>-1.18</td>\n",
       "      <td>-1.09</td>\n",
       "    </tr>\n",
       "  </tbody>\n",
       "</table>\n",
       "</div>"
      ],
      "text/plain": [
       "      gender   age  salary  family_members\n",
       "433        1 -0.13    0.53            1.62\n",
       "4206       1 -0.37    0.52           -1.09\n",
       "290        1 -1.08   -1.18           -1.09"
      ]
     },
     "execution_count": 41,
     "metadata": {},
     "output_type": "execute_result"
    }
   ],
   "source": [
    "X_train_scaled.head(3)"
   ]
  },
  {
   "cell_type": "code",
   "execution_count": 42,
   "id": "75ba9b5d",
   "metadata": {},
   "outputs": [
    {
     "data": {
      "text/html": [
       "<div>\n",
       "<style scoped>\n",
       "    .dataframe tbody tr th:only-of-type {\n",
       "        vertical-align: middle;\n",
       "    }\n",
       "\n",
       "    .dataframe tbody tr th {\n",
       "        vertical-align: top;\n",
       "    }\n",
       "\n",
       "    .dataframe thead th {\n",
       "        text-align: right;\n",
       "    }\n",
       "</style>\n",
       "<table border=\"1\" class=\"dataframe\">\n",
       "  <thead>\n",
       "    <tr style=\"text-align: right;\">\n",
       "      <th></th>\n",
       "      <th>gender</th>\n",
       "      <th>age</th>\n",
       "      <th>salary</th>\n",
       "      <th>family_members</th>\n",
       "    </tr>\n",
       "  </thead>\n",
       "  <tbody>\n",
       "    <tr>\n",
       "      <th>3991</th>\n",
       "      <td>0</td>\n",
       "      <td>-1.43</td>\n",
       "      <td>-0.60</td>\n",
       "      <td>-1.09</td>\n",
       "    </tr>\n",
       "    <tr>\n",
       "      <th>1706</th>\n",
       "      <td>0</td>\n",
       "      <td>-0.25</td>\n",
       "      <td>0.82</td>\n",
       "      <td>1.62</td>\n",
       "    </tr>\n",
       "    <tr>\n",
       "      <th>1052</th>\n",
       "      <td>0</td>\n",
       "      <td>-0.25</td>\n",
       "      <td>0.03</td>\n",
       "      <td>-1.09</td>\n",
       "    </tr>\n",
       "  </tbody>\n",
       "</table>\n",
       "</div>"
      ],
      "text/plain": [
       "      gender   age  salary  family_members\n",
       "3991       0 -1.43   -0.60           -1.09\n",
       "1706       0 -0.25    0.82            1.62\n",
       "1052       0 -0.25    0.03           -1.09"
      ]
     },
     "execution_count": 42,
     "metadata": {},
     "output_type": "execute_result"
    }
   ],
   "source": [
    "X_test_scaled.head(3)"
   ]
  },
  {
   "cell_type": "code",
   "execution_count": 43,
   "id": "bcd7bdaa",
   "metadata": {},
   "outputs": [
    {
     "name": "stdout",
     "output_type": "stream",
     "text": [
      "(3877, 4) (970, 4)\n"
     ]
    }
   ],
   "source": [
    "print(X_train_scaled.shape, X_test_scaled.shape)"
   ]
  },
  {
   "cell_type": "markdown",
   "id": "ad8738b5",
   "metadata": {},
   "source": [
    "**Создадим класс модели линейной регресии `self_LinearRegression`**"
   ]
  },
  {
   "cell_type": "code",
   "execution_count": 44,
   "id": "8f88d823",
   "metadata": {},
   "outputs": [],
   "source": [
    "class self_LinearRegression:\n",
    "    def fit(self, X_train, y_train):\n",
    "        X = np.concatenate((np.ones((X_train.shape[0], 1)), X_train), axis=1)\n",
    "        y = y_train\n",
    "        w = np.linalg.inv(X.T.dot(X)).dot(X.T).dot(y)\n",
    "        self.w = w[1:]\n",
    "        self.w0 = w[0]\n",
    "        print(f'Веса при признаках: {self.w}')\n",
    "        print(f'Свободный вес: {self.w0}')\n",
    "\n",
    "    def predict(self, X_test):\n",
    "        return X_test.dot(self.w) + self.w0"
   ]
  },
  {
   "cell_type": "markdown",
   "id": "93fcee15",
   "metadata": {},
   "source": [
    "**Обучим класс `self_LinearRegression` на подготовленных данных, получим метрику `r2_score` и `веса` обученной модели.**"
   ]
  },
  {
   "cell_type": "code",
   "execution_count": 45,
   "id": "e9f2b1ba",
   "metadata": {},
   "outputs": [
    {
     "name": "stdout",
     "output_type": "stream",
     "text": [
      "Веса при признаках: [ 0.00206417  0.30251068  0.0026045  -0.01684114]\n",
      "Свободный вес: 0.15166196575329802\n",
      "r2_score: 0.4392664194820831\n"
     ]
    }
   ],
   "source": [
    "model = self_LinearRegression()\n",
    "model.fit(X_train_scaled, y_train)\n",
    "predictions = model.predict(X_test_scaled)\n",
    "print(f'r2_score: {r2_score(y_test, predictions)}')"
   ]
  },
  {
   "cell_type": "markdown",
   "id": "43152258",
   "metadata": {},
   "source": [
    "**Проделаем предыдущий шаг для модели `LinearRegression` из библиотеки `scikit-learn`**"
   ]
  },
  {
   "cell_type": "code",
   "execution_count": 46,
   "id": "14ce399a",
   "metadata": {},
   "outputs": [
    {
     "name": "stdout",
     "output_type": "stream",
     "text": [
      "Веса при признаках: [ 0.00206417  0.30251068  0.0026045  -0.01684114]\n",
      "Свободный вес: 0.15166196575329804\n",
      "r2_score: 0.4392664194820831\n"
     ]
    }
   ],
   "source": [
    "model = LinearRegression()\n",
    "model.fit(X_train_scaled, y_train)\n",
    "predictions = model.predict(X_test_scaled)\n",
    "print(f'Веса при признаках: {model.coef_}')\n",
    "print(f'Свободный вес: {model.intercept_}')\n",
    "print(f'r2_score: {r2_score(y_test, predictions)}')"
   ]
  },
  {
   "cell_type": "markdown",
   "id": "24536bb5",
   "metadata": {},
   "source": [
    "**Видим, что наша модель `self_LinearRegression` работает так же, как и модель `LinearRegression` из библиотеки `scikit-learn`**"
   ]
  },
  {
   "cell_type": "markdown",
   "id": "940f95c0",
   "metadata": {},
   "source": [
    "**Умножим наши признаки `X_train_scaled` и `X_test_scaled` на обратимую матрицу.**"
   ]
  },
  {
   "cell_type": "markdown",
   "id": "e52eb744",
   "metadata": {},
   "source": [
    "**Создадим случайную квадратную матрицу, размером по количеству столбцов `X_train_scaled`**"
   ]
  },
  {
   "cell_type": "code",
   "execution_count": 47,
   "id": "ce5a3dfc",
   "metadata": {},
   "outputs": [],
   "source": [
    "random_matrix = np.random.normal(0, 1, size=(X_train_scaled.shape[1], X_train_scaled.shape[1]))"
   ]
  },
  {
   "cell_type": "code",
   "execution_count": 48,
   "id": "927c1a8c",
   "metadata": {
    "scrolled": true
   },
   "outputs": [
    {
     "name": "stdout",
     "output_type": "stream",
     "text": [
      "[[ 1.88744178  1.52164746  0.92352886  0.30521715]\n",
      " [-0.34430641 -0.38415538 -0.73734793 -0.36629561]\n",
      " [ 0.1908242   0.2981351   0.32811025 -0.83234895]\n",
      " [ 0.23805075  0.90754304  0.62115711 -0.26253882]]\n"
     ]
    }
   ],
   "source": [
    "print(random_matrix)"
   ]
  },
  {
   "cell_type": "markdown",
   "id": "3326ec82",
   "metadata": {},
   "source": [
    "**Проверим полученную `random_matrix` матрицу на обратимость.**"
   ]
  },
  {
   "cell_type": "code",
   "execution_count": 49,
   "id": "39baa87a",
   "metadata": {},
   "outputs": [
    {
     "data": {
      "text/plain": [
       "True"
      ]
     },
     "execution_count": 49,
     "metadata": {},
     "output_type": "execute_result"
    }
   ],
   "source": [
    "np.linalg.det(random_matrix) != 0"
   ]
  },
  {
   "cell_type": "markdown",
   "id": "c9672306",
   "metadata": {},
   "source": [
    "**Умножим наши признаки на обратимую матрицу `random_matrix`.**"
   ]
  },
  {
   "cell_type": "code",
   "execution_count": 50,
   "id": "60aef3ef",
   "metadata": {},
   "outputs": [],
   "source": [
    "encoded_X_train_scaled = X_train_scaled.dot(random_matrix)"
   ]
  },
  {
   "cell_type": "code",
   "execution_count": 51,
   "id": "4add42a8",
   "metadata": {},
   "outputs": [
    {
     "name": "stdout",
     "output_type": "stream",
     "text": [
      "        0    1    2     3\n",
      "433  2.42 3.20 2.20 -0.51\n",
      "4206 1.85 0.83 0.69  0.29\n",
      "290  1.77 0.59 0.65  1.97\n",
      "2644 1.77 1.27 0.65  0.26\n",
      "4251 0.43 0.82 1.12  1.56\n",
      "...   ...  ...  ...   ...\n",
      "4563 2.60 2.37 2.27 -0.95\n",
      "467  1.80 1.19 0.82  1.68\n",
      "3166 2.23 2.87 1.91  0.76\n",
      "3880 1.80 1.68 1.01  2.37\n",
      "865  2.65 2.87 2.59  0.22\n",
      "\n",
      "[3877 rows x 4 columns]\n"
     ]
    }
   ],
   "source": [
    "print(encoded_X_train_scaled)"
   ]
  },
  {
   "cell_type": "code",
   "execution_count": 52,
   "id": "f76fa2de",
   "metadata": {},
   "outputs": [],
   "source": [
    "encoded_X_test_scaled = X_test_scaled.dot(random_matrix)"
   ]
  },
  {
   "cell_type": "code",
   "execution_count": 53,
   "id": "97c0653d",
   "metadata": {},
   "outputs": [
    {
     "name": "stdout",
     "output_type": "stream",
     "text": [
      "         0     1     2     3\n",
      "3991  0.12 -0.62  0.18  1.31\n",
      "1706  0.63  1.81  1.46 -1.01\n",
      "1052 -0.17 -0.88 -0.48  0.36\n",
      "4959  0.02  1.59  0.36 -0.73\n",
      "1554  0.13  0.10  0.19 -0.68\n",
      "...    ...   ...   ...   ...\n",
      "2613  1.75  0.57  0.59  1.87\n",
      "1523  1.55  0.89  0.30  1.67\n",
      "1136 -0.36 -0.59 -0.72  0.57\n",
      "180   0.74  0.83  1.44 -0.69\n",
      "1226 -0.23 -0.46 -0.43  0.89\n",
      "\n",
      "[970 rows x 4 columns]\n"
     ]
    }
   ],
   "source": [
    "print(encoded_X_test_scaled)"
   ]
  },
  {
   "cell_type": "markdown",
   "id": "f78bc51b",
   "metadata": {},
   "source": [
    "**Обучим нашу модель на новых признаках `encoded_X_train_scaled` и `encoded_X_test_scaled`. Cверим результаты.**"
   ]
  },
  {
   "cell_type": "code",
   "execution_count": 54,
   "id": "a7b03afd",
   "metadata": {},
   "outputs": [
    {
     "name": "stdout",
     "output_type": "stream",
     "text": [
      "Веса при признаках: [ 0.02602436  0.31545936 -0.53880286 -0.09656485]\n",
      "Свободный вес: 0.15166196575329738\n",
      "r2_score: 0.43926641948208345\n"
     ]
    }
   ],
   "source": [
    "model = self_LinearRegression()\n",
    "model.fit(encoded_X_train_scaled, y_train)\n",
    "predictions = model.predict(encoded_X_test_scaled)\n",
    "print(f'r2_score: {r2_score(y_test, predictions)}')"
   ]
  },
  {
   "cell_type": "markdown",
   "id": "57dd7f6c",
   "metadata": {},
   "source": [
    "**Вывод:**  \n",
    "> Качество линейной регресии на новых признаках `encoded_X_scaled` не изменилось."
   ]
  },
  {
   "cell_type": "markdown",
   "id": "7a5709e6",
   "metadata": {},
   "source": [
    "## Алгоритм преобразования"
   ]
  },
  {
   "cell_type": "markdown",
   "id": "9b44c101",
   "metadata": {},
   "source": [
    "**Алгоритм**"
   ]
  },
  {
   "cell_type": "markdown",
   "id": "5fb9f53c",
   "metadata": {},
   "source": [
    "* 1. Функция на вход получает матрицу признаков (X);\n",
    "* 2. Определяется количество признаков (X.shape[1]) в матрице признаков;\n",
    "* 3. В цикле while:\n",
    "  * 3.1 Генерируется случаяная (random_matrix) квадратная матрица (np.random.randint), исходя из количества признаков в матрице признаков;\n",
    "  * 3.2 Детерминантом не равным нулю (np.linalg.det(random_matrix) != 0), проверяется, является ли сгенерированная матрица обратимой;\n",
    "* 4. Матрица признаков (X), умножается на случаяную квадратную матрицу (random_matrix);\n",
    "* 5. Функция на выходе возвращает преобразованную матрицу признаков (encoded_X)."
   ]
  },
  {
   "cell_type": "markdown",
   "id": "29c9d407",
   "metadata": {},
   "source": [
    "**Обоснование**"
   ]
  },
  {
   "cell_type": "markdown",
   "id": "1ef38e38",
   "metadata": {},
   "source": [
    "Предсказания вычисляются по формуле:\n",
    "\n",
    "$\n",
    "a = X\\cdot w\n",
    "$\n",
    "\n",
    "После умножения матрицы признаков $X$ на обратимую матрицу $M$, формула будет выглядеть:\n",
    "\n",
    "$\n",
    "a^{1} = X\\cdot M\\cdot w^{1}\n",
    "$\n",
    "\n",
    "Подставим вычисленное значение весов $w^{1} = M^{-1}\\cdot w$:\n",
    "\n",
    "$\n",
    "a^{1} = X\\cdot M\\cdot M^{-1}\\cdot w\n",
    "$\n",
    "\n",
    "$M\\cdot M^{-1}$ равно единичной матрице $E$, следовательно $M\\cdot M^{-1}$ можно сократить:\n",
    "\n",
    "$\n",
    "a^{1} = X\\cdot w = a\n",
    "$"
   ]
  },
  {
   "cell_type": "markdown",
   "id": "a6b05aa6",
   "metadata": {},
   "source": [
    "**Следовательно, предсказания исходной матрицы и преобразованной - равны.**"
   ]
  },
  {
   "cell_type": "markdown",
   "id": "04b9aadc",
   "metadata": {},
   "source": [
    "## Проверка алгоритма"
   ]
  },
  {
   "cell_type": "markdown",
   "id": "9b33a977",
   "metadata": {},
   "source": [
    "### Реализация алгоритма"
   ]
  },
  {
   "cell_type": "markdown",
   "id": "3230cdb6",
   "metadata": {},
   "source": [
    "**Алгоритм преобразования признаков реализуем в функции `encode`.**"
   ]
  },
  {
   "cell_type": "code",
   "execution_count": 56,
   "id": "c1ed02ed",
   "metadata": {},
   "outputs": [],
   "source": [
    "def encode(X_train, X_test):\n",
    "    \n",
    "    size = X_train.shape[1]\n",
    "\n",
    "    while True:\n",
    "        random_matrix = np.random.randint(100, size=(size, size))\n",
    "\n",
    "        if np.linalg.det(random_matrix) != 0:\n",
    "            break\n",
    "    \n",
    "    encoded_X_train = X_train.dot(random_matrix)\n",
    "    encoded_X_test = X_test.dot(random_matrix)\n",
    "    \n",
    "    return encoded_X_train, encoded_X_test"
   ]
  },
  {
   "cell_type": "code",
   "execution_count": 57,
   "id": "c82a20c6",
   "metadata": {},
   "outputs": [],
   "source": [
    "encoded_X_train_scaled, encoded_X_test_scaled = encode(X_train_scaled, X_test_scaled)"
   ]
  },
  {
   "cell_type": "markdown",
   "id": "6b9652fc",
   "metadata": {},
   "source": [
    "### Сравнение качества моделей до и после преобразования"
   ]
  },
  {
   "cell_type": "markdown",
   "id": "e3c529e3",
   "metadata": {},
   "source": [
    "**До преобразования:**"
   ]
  },
  {
   "cell_type": "code",
   "execution_count": 58,
   "id": "61d88b0f",
   "metadata": {},
   "outputs": [
    {
     "name": "stdout",
     "output_type": "stream",
     "text": [
      "Веса при признаках: [ 0.00206417  0.30251068  0.0026045  -0.01684114]\n",
      "Свободный вес: 0.15166196575329802\n",
      "r2_score: 0.4392664194820831\n"
     ]
    }
   ],
   "source": [
    "model = self_LinearRegression()\n",
    "model.fit(X_train_scaled, y_train)\n",
    "predictions = model.predict(X_test_scaled)\n",
    "print(f'r2_score: {r2_score(y_test, predictions)}')"
   ]
  },
  {
   "cell_type": "markdown",
   "id": "eadcf35e",
   "metadata": {},
   "source": [
    "**После преобразования:**"
   ]
  },
  {
   "cell_type": "code",
   "execution_count": 59,
   "id": "55a259ed",
   "metadata": {},
   "outputs": [
    {
     "name": "stdout",
     "output_type": "stream",
     "text": [
      "Веса при признаках: [ 0.00636962 -0.00728743  0.00868925 -0.00308943]\n",
      "Свободный вес: 0.1516619657532982\n",
      "r2_score: 0.43926641948208334\n"
     ]
    }
   ],
   "source": [
    "model = self_LinearRegression()\n",
    "model.fit(encoded_X_train_scaled, y_train)\n",
    "predictions = model.predict(encoded_X_test_scaled)\n",
    "print(f'r2_score: {r2_score(y_test, predictions)}')"
   ]
  },
  {
   "cell_type": "markdown",
   "id": "2bfaed32",
   "metadata": {},
   "source": [
    "**Вывод:**  \n",
    "> Качество `метрики R2` на новых признаках `encoded_X_train_scaled` и `encoded_X_test_scaled` не изменилось."
   ]
  },
  {
   "cell_type": "markdown",
   "id": "fd82800a",
   "metadata": {},
   "source": [
    "## Общий вывод"
   ]
  },
  {
   "cell_type": "markdown",
   "id": "649bf405",
   "metadata": {},
   "source": [
    "**В ходе проекта было проделано:**\n",
    "\n",
    "* Данные загружены и изучены;\n",
    "* Выяснено, что при умножении матрицы на обратимую матрицу, качество линейной регрессии не меняется;\n",
    "* Описан алгоритм преобразования матрицы;\n",
    "* Алгоритм преобразования признаков реализован и проверен;\n",
    "\n",
    "**Умножив признаки на обратимую матрицу, качество линейной регрессии не меняется.**"
   ]
  },
  {
   "cell_type": "markdown",
   "id": "f5eb5aea",
   "metadata": {},
   "source": [
    "## Чек-лист проверки"
   ]
  },
  {
   "cell_type": "markdown",
   "id": "5fe1922d",
   "metadata": {},
   "source": [
    "Поставьте 'x' в выполненных пунктах. Далее нажмите Shift+Enter."
   ]
  },
  {
   "cell_type": "markdown",
   "id": "009d4213",
   "metadata": {},
   "source": [
    "- [x]  Jupyter Notebook открыт\n",
    "- [x]  Весь код выполняется без ошибок\n",
    "- [x]  Ячейки с кодом расположены в порядке исполнения\n",
    "- [x]  Выполнен шаг 1: данные загружены\n",
    "- [x]  Выполнен шаг 2: получен ответ на вопрос об умножении матриц\n",
    "    - [x]  Указан правильный вариант ответа\n",
    "    - [x]  Вариант обоснован\n",
    "- [x]  Выполнен шаг 3: предложен алгоритм преобразования\n",
    "    - [x]  Алгоритм описан\n",
    "    - [x]  Алгоритм обоснован\n",
    "- [x]  Выполнен шаг 4: алгоритм проверен\n",
    "    - [x]  Алгоритм реализован\n",
    "    - [x]  Проведено сравнение качества моделей до и после преобразования"
   ]
  }
 ],
 "metadata": {
  "ExecuteTimeLog": [
   {
    "duration": 1059,
    "start_time": "2023-03-12T20:15:42.597Z"
   },
   {
    "duration": 1142,
    "start_time": "2023-03-12T20:15:43.658Z"
   },
   {
    "duration": 28,
    "start_time": "2023-03-12T20:15:44.801Z"
   },
   {
    "duration": 4,
    "start_time": "2023-03-12T20:15:44.831Z"
   },
   {
    "duration": 104,
    "start_time": "2023-03-12T20:15:44.836Z"
   },
   {
    "duration": 0,
    "start_time": "2023-03-12T20:15:44.943Z"
   },
   {
    "duration": 0,
    "start_time": "2023-03-12T20:15:44.944Z"
   },
   {
    "duration": 0,
    "start_time": "2023-03-12T20:15:44.944Z"
   },
   {
    "duration": 0,
    "start_time": "2023-03-12T20:15:44.945Z"
   },
   {
    "duration": 0,
    "start_time": "2023-03-12T20:15:44.946Z"
   },
   {
    "duration": 0,
    "start_time": "2023-03-12T20:15:44.947Z"
   },
   {
    "duration": 0,
    "start_time": "2023-03-12T20:15:44.948Z"
   },
   {
    "duration": 0,
    "start_time": "2023-03-12T20:15:44.949Z"
   },
   {
    "duration": 0,
    "start_time": "2023-03-12T20:15:44.950Z"
   },
   {
    "duration": 0,
    "start_time": "2023-03-12T20:15:44.951Z"
   },
   {
    "duration": 0,
    "start_time": "2023-03-12T20:15:44.952Z"
   },
   {
    "duration": 0,
    "start_time": "2023-03-12T20:15:44.952Z"
   },
   {
    "duration": 0,
    "start_time": "2023-03-12T20:15:44.953Z"
   },
   {
    "duration": 0,
    "start_time": "2023-03-12T20:15:44.954Z"
   },
   {
    "duration": 0,
    "start_time": "2023-03-12T20:15:44.955Z"
   },
   {
    "duration": 0,
    "start_time": "2023-03-12T20:15:44.956Z"
   },
   {
    "duration": 0,
    "start_time": "2023-03-12T20:15:44.956Z"
   },
   {
    "duration": 0,
    "start_time": "2023-03-12T20:15:44.980Z"
   },
   {
    "duration": 0,
    "start_time": "2023-03-12T20:15:44.980Z"
   },
   {
    "duration": 0,
    "start_time": "2023-03-12T20:15:44.982Z"
   },
   {
    "duration": 0,
    "start_time": "2023-03-12T20:15:44.982Z"
   },
   {
    "duration": 0,
    "start_time": "2023-03-12T20:15:44.983Z"
   },
   {
    "duration": 0,
    "start_time": "2023-03-12T20:15:44.984Z"
   },
   {
    "duration": 0,
    "start_time": "2023-03-12T20:15:44.985Z"
   },
   {
    "duration": 0,
    "start_time": "2023-03-12T20:15:44.986Z"
   },
   {
    "duration": 0,
    "start_time": "2023-03-12T20:15:44.987Z"
   },
   {
    "duration": 0,
    "start_time": "2023-03-12T20:15:44.988Z"
   },
   {
    "duration": 0,
    "start_time": "2023-03-12T20:15:44.989Z"
   },
   {
    "duration": 0,
    "start_time": "2023-03-12T20:15:44.990Z"
   },
   {
    "duration": 0,
    "start_time": "2023-03-12T20:15:44.991Z"
   },
   {
    "duration": 0,
    "start_time": "2023-03-12T20:15:44.991Z"
   },
   {
    "duration": 0,
    "start_time": "2023-03-12T20:15:44.993Z"
   },
   {
    "duration": 0,
    "start_time": "2023-03-12T20:15:44.993Z"
   },
   {
    "duration": 0,
    "start_time": "2023-03-12T20:15:44.994Z"
   },
   {
    "duration": 0,
    "start_time": "2023-03-12T20:15:44.995Z"
   },
   {
    "duration": 0,
    "start_time": "2023-03-12T20:15:44.996Z"
   },
   {
    "duration": 0,
    "start_time": "2023-03-12T20:15:44.996Z"
   },
   {
    "duration": 0,
    "start_time": "2023-03-12T20:15:44.997Z"
   },
   {
    "duration": 0,
    "start_time": "2023-03-12T20:15:44.998Z"
   },
   {
    "duration": 0,
    "start_time": "2023-03-12T20:15:44.999Z"
   },
   {
    "duration": 0,
    "start_time": "2023-03-12T20:15:45.000Z"
   },
   {
    "duration": 0,
    "start_time": "2023-03-12T20:15:45.000Z"
   },
   {
    "duration": 0,
    "start_time": "2023-03-12T20:15:45.001Z"
   },
   {
    "duration": 0,
    "start_time": "2023-03-12T20:15:45.002Z"
   },
   {
    "duration": 0,
    "start_time": "2023-03-12T20:15:45.003Z"
   },
   {
    "duration": 0,
    "start_time": "2023-03-12T20:15:45.003Z"
   },
   {
    "duration": 1103,
    "start_time": "2023-03-12T20:16:28.869Z"
   },
   {
    "duration": 1272,
    "start_time": "2023-03-12T20:16:29.974Z"
   },
   {
    "duration": 29,
    "start_time": "2023-03-12T20:16:31.248Z"
   },
   {
    "duration": 22,
    "start_time": "2023-03-12T20:16:31.278Z"
   },
   {
    "duration": 57,
    "start_time": "2023-03-12T20:16:31.301Z"
   },
   {
    "duration": 26,
    "start_time": "2023-03-12T20:16:31.359Z"
   },
   {
    "duration": 17,
    "start_time": "2023-03-12T20:16:31.387Z"
   },
   {
    "duration": 27,
    "start_time": "2023-03-12T20:16:31.406Z"
   },
   {
    "duration": 46,
    "start_time": "2023-03-12T20:16:31.434Z"
   },
   {
    "duration": 15,
    "start_time": "2023-03-12T20:16:31.482Z"
   },
   {
    "duration": 57,
    "start_time": "2023-03-12T20:16:31.499Z"
   },
   {
    "duration": 11,
    "start_time": "2023-03-12T20:16:31.557Z"
   },
   {
    "duration": 18,
    "start_time": "2023-03-12T20:16:31.569Z"
   },
   {
    "duration": 3,
    "start_time": "2023-03-12T20:16:31.589Z"
   },
   {
    "duration": 9,
    "start_time": "2023-03-12T20:16:31.594Z"
   },
   {
    "duration": 55,
    "start_time": "2023-03-12T20:16:31.604Z"
   },
   {
    "duration": 19,
    "start_time": "2023-03-12T20:16:31.660Z"
   },
   {
    "duration": 1005,
    "start_time": "2023-03-12T20:16:31.681Z"
   },
   {
    "duration": 5,
    "start_time": "2023-03-12T20:16:32.688Z"
   },
   {
    "duration": 6,
    "start_time": "2023-03-12T20:16:32.694Z"
   },
   {
    "duration": 6,
    "start_time": "2023-03-12T20:16:32.701Z"
   },
   {
    "duration": 8,
    "start_time": "2023-03-12T20:16:32.708Z"
   },
   {
    "duration": 973,
    "start_time": "2023-03-12T20:16:32.717Z"
   },
   {
    "duration": 6,
    "start_time": "2023-03-12T20:16:33.692Z"
   },
   {
    "duration": 5,
    "start_time": "2023-03-12T20:16:33.700Z"
   },
   {
    "duration": 4,
    "start_time": "2023-03-12T20:16:33.707Z"
   },
   {
    "duration": 9,
    "start_time": "2023-03-12T20:16:33.713Z"
   },
   {
    "duration": 104,
    "start_time": "2023-03-12T20:16:33.726Z"
   },
   {
    "duration": 350,
    "start_time": "2023-03-12T20:16:33.832Z"
   },
   {
    "duration": 4,
    "start_time": "2023-03-12T20:16:34.184Z"
   },
   {
    "duration": 12,
    "start_time": "2023-03-12T20:16:34.190Z"
   },
   {
    "duration": 5,
    "start_time": "2023-03-12T20:16:34.204Z"
   },
   {
    "duration": 5,
    "start_time": "2023-03-12T20:16:34.210Z"
   },
   {
    "duration": 4,
    "start_time": "2023-03-12T20:16:34.217Z"
   },
   {
    "duration": 35,
    "start_time": "2023-03-12T20:16:34.223Z"
   },
   {
    "duration": 9,
    "start_time": "2023-03-12T20:16:34.260Z"
   },
   {
    "duration": 22,
    "start_time": "2023-03-12T20:16:34.270Z"
   },
   {
    "duration": 7,
    "start_time": "2023-03-12T20:16:34.294Z"
   },
   {
    "duration": 11,
    "start_time": "2023-03-12T20:16:34.303Z"
   },
   {
    "duration": 65,
    "start_time": "2023-03-12T20:16:34.315Z"
   },
   {
    "duration": 102,
    "start_time": "2023-03-12T20:16:34.381Z"
   },
   {
    "duration": 5,
    "start_time": "2023-03-12T20:16:34.484Z"
   },
   {
    "duration": 17,
    "start_time": "2023-03-12T20:16:34.580Z"
   },
   {
    "duration": 9,
    "start_time": "2023-03-12T20:16:34.599Z"
   },
   {
    "duration": 72,
    "start_time": "2023-03-12T20:16:34.609Z"
   },
   {
    "duration": 12,
    "start_time": "2023-03-12T20:16:34.683Z"
   },
   {
    "duration": 88,
    "start_time": "2023-03-12T20:16:34.696Z"
   },
   {
    "duration": 96,
    "start_time": "2023-03-12T20:16:34.785Z"
   },
   {
    "duration": 109,
    "start_time": "2023-03-12T20:16:34.882Z"
   },
   {
    "duration": 13,
    "start_time": "2023-03-12T20:16:34.993Z"
   },
   {
    "duration": 105,
    "start_time": "2023-03-12T20:16:35.085Z"
   },
   {
    "duration": 1109,
    "start_time": "2023-03-12T20:18:01.270Z"
   },
   {
    "duration": 1070,
    "start_time": "2023-03-12T20:18:02.381Z"
   },
   {
    "duration": 29,
    "start_time": "2023-03-12T20:18:03.453Z"
   },
   {
    "duration": 3,
    "start_time": "2023-03-12T20:18:03.483Z"
   },
   {
    "duration": 112,
    "start_time": "2023-03-12T20:18:03.489Z"
   },
   {
    "duration": 0,
    "start_time": "2023-03-12T20:18:03.604Z"
   },
   {
    "duration": 0,
    "start_time": "2023-03-12T20:18:03.605Z"
   },
   {
    "duration": 0,
    "start_time": "2023-03-12T20:18:03.606Z"
   },
   {
    "duration": 0,
    "start_time": "2023-03-12T20:18:03.607Z"
   },
   {
    "duration": 0,
    "start_time": "2023-03-12T20:18:03.608Z"
   },
   {
    "duration": 0,
    "start_time": "2023-03-12T20:18:03.608Z"
   },
   {
    "duration": 0,
    "start_time": "2023-03-12T20:18:03.609Z"
   },
   {
    "duration": 0,
    "start_time": "2023-03-12T20:18:03.610Z"
   },
   {
    "duration": 0,
    "start_time": "2023-03-12T20:18:03.610Z"
   },
   {
    "duration": 0,
    "start_time": "2023-03-12T20:18:03.611Z"
   },
   {
    "duration": 0,
    "start_time": "2023-03-12T20:18:03.612Z"
   },
   {
    "duration": 0,
    "start_time": "2023-03-12T20:18:03.613Z"
   },
   {
    "duration": 0,
    "start_time": "2023-03-12T20:18:03.614Z"
   },
   {
    "duration": 0,
    "start_time": "2023-03-12T20:18:03.614Z"
   },
   {
    "duration": 0,
    "start_time": "2023-03-12T20:18:03.615Z"
   },
   {
    "duration": 0,
    "start_time": "2023-03-12T20:18:03.616Z"
   },
   {
    "duration": 0,
    "start_time": "2023-03-12T20:18:03.617Z"
   },
   {
    "duration": 0,
    "start_time": "2023-03-12T20:18:03.618Z"
   },
   {
    "duration": 0,
    "start_time": "2023-03-12T20:18:03.619Z"
   },
   {
    "duration": 0,
    "start_time": "2023-03-12T20:18:03.620Z"
   },
   {
    "duration": 0,
    "start_time": "2023-03-12T20:18:03.620Z"
   },
   {
    "duration": 0,
    "start_time": "2023-03-12T20:18:03.621Z"
   },
   {
    "duration": 0,
    "start_time": "2023-03-12T20:18:03.622Z"
   },
   {
    "duration": 0,
    "start_time": "2023-03-12T20:18:03.623Z"
   },
   {
    "duration": 0,
    "start_time": "2023-03-12T20:18:03.624Z"
   },
   {
    "duration": 0,
    "start_time": "2023-03-12T20:18:03.625Z"
   },
   {
    "duration": 1,
    "start_time": "2023-03-12T20:18:03.625Z"
   },
   {
    "duration": 0,
    "start_time": "2023-03-12T20:18:03.626Z"
   },
   {
    "duration": 0,
    "start_time": "2023-03-12T20:18:03.627Z"
   },
   {
    "duration": 0,
    "start_time": "2023-03-12T20:18:03.628Z"
   },
   {
    "duration": 0,
    "start_time": "2023-03-12T20:18:03.629Z"
   },
   {
    "duration": 0,
    "start_time": "2023-03-12T20:18:03.630Z"
   },
   {
    "duration": 0,
    "start_time": "2023-03-12T20:18:03.630Z"
   },
   {
    "duration": 0,
    "start_time": "2023-03-12T20:18:03.632Z"
   },
   {
    "duration": 0,
    "start_time": "2023-03-12T20:18:03.633Z"
   },
   {
    "duration": 0,
    "start_time": "2023-03-12T20:18:03.680Z"
   },
   {
    "duration": 0,
    "start_time": "2023-03-12T20:18:03.681Z"
   },
   {
    "duration": 0,
    "start_time": "2023-03-12T20:18:03.682Z"
   },
   {
    "duration": 0,
    "start_time": "2023-03-12T20:18:03.683Z"
   },
   {
    "duration": 0,
    "start_time": "2023-03-12T20:18:03.684Z"
   },
   {
    "duration": 0,
    "start_time": "2023-03-12T20:18:03.685Z"
   },
   {
    "duration": 0,
    "start_time": "2023-03-12T20:18:03.686Z"
   },
   {
    "duration": 0,
    "start_time": "2023-03-12T20:18:03.687Z"
   },
   {
    "duration": 0,
    "start_time": "2023-03-12T20:18:03.688Z"
   },
   {
    "duration": 0,
    "start_time": "2023-03-12T20:18:03.689Z"
   },
   {
    "duration": 0,
    "start_time": "2023-03-12T20:18:03.690Z"
   },
   {
    "duration": 1354,
    "start_time": "2023-03-13T01:05:34.781Z"
   },
   {
    "duration": 254,
    "start_time": "2023-03-13T01:05:36.137Z"
   },
   {
    "duration": 143,
    "start_time": "2023-03-13T01:05:36.553Z"
   },
   {
    "duration": 1089,
    "start_time": "2023-03-13T01:06:08.102Z"
   },
   {
    "duration": 260,
    "start_time": "2023-03-13T01:06:09.194Z"
   },
   {
    "duration": 36,
    "start_time": "2023-03-13T01:06:09.463Z"
   },
   {
    "duration": 3,
    "start_time": "2023-03-13T01:06:09.501Z"
   },
   {
    "duration": 12,
    "start_time": "2023-03-13T01:06:09.506Z"
   },
   {
    "duration": 3,
    "start_time": "2023-03-13T01:06:09.519Z"
   },
   {
    "duration": 4,
    "start_time": "2023-03-13T01:06:09.524Z"
   },
   {
    "duration": 4,
    "start_time": "2023-03-13T01:06:09.530Z"
   },
   {
    "duration": 45,
    "start_time": "2023-03-13T01:06:09.536Z"
   },
   {
    "duration": 11,
    "start_time": "2023-03-13T01:06:09.584Z"
   },
   {
    "duration": 47,
    "start_time": "2023-03-13T01:06:09.597Z"
   },
   {
    "duration": 22,
    "start_time": "2023-03-13T01:06:09.646Z"
   },
   {
    "duration": 16,
    "start_time": "2023-03-13T01:06:09.669Z"
   },
   {
    "duration": 4,
    "start_time": "2023-03-13T01:06:09.686Z"
   },
   {
    "duration": 4,
    "start_time": "2023-03-13T01:06:09.691Z"
   },
   {
    "duration": 5,
    "start_time": "2023-03-13T01:06:09.696Z"
   },
   {
    "duration": 8,
    "start_time": "2023-03-13T01:06:09.703Z"
   },
   {
    "duration": 1041,
    "start_time": "2023-03-13T01:06:09.712Z"
   },
   {
    "duration": 13,
    "start_time": "2023-03-13T01:06:10.755Z"
   },
   {
    "duration": 6,
    "start_time": "2023-03-13T01:06:10.770Z"
   },
   {
    "duration": 4,
    "start_time": "2023-03-13T01:06:10.777Z"
   },
   {
    "duration": 4,
    "start_time": "2023-03-13T01:06:10.783Z"
   },
   {
    "duration": 1039,
    "start_time": "2023-03-13T01:06:10.788Z"
   },
   {
    "duration": 5,
    "start_time": "2023-03-13T01:06:11.828Z"
   },
   {
    "duration": 5,
    "start_time": "2023-03-13T01:06:11.834Z"
   },
   {
    "duration": 26,
    "start_time": "2023-03-13T01:06:11.840Z"
   },
   {
    "duration": 5,
    "start_time": "2023-03-13T01:06:11.877Z"
   },
   {
    "duration": 94,
    "start_time": "2023-03-13T01:06:11.886Z"
   },
   {
    "duration": 351,
    "start_time": "2023-03-13T01:06:11.982Z"
   },
   {
    "duration": 3,
    "start_time": "2023-03-13T01:06:12.335Z"
   },
   {
    "duration": 6,
    "start_time": "2023-03-13T01:06:12.340Z"
   },
   {
    "duration": 3,
    "start_time": "2023-03-13T01:06:12.347Z"
   },
   {
    "duration": 16,
    "start_time": "2023-03-13T01:06:12.355Z"
   },
   {
    "duration": 2,
    "start_time": "2023-03-13T01:06:12.381Z"
   },
   {
    "duration": 8,
    "start_time": "2023-03-13T01:06:12.385Z"
   },
   {
    "duration": 9,
    "start_time": "2023-03-13T01:06:12.395Z"
   },
   {
    "duration": 7,
    "start_time": "2023-03-13T01:06:12.405Z"
   },
   {
    "duration": 3,
    "start_time": "2023-03-13T01:06:12.414Z"
   },
   {
    "duration": 5,
    "start_time": "2023-03-13T01:06:12.419Z"
   },
   {
    "duration": 54,
    "start_time": "2023-03-13T01:06:12.426Z"
   },
   {
    "duration": 88,
    "start_time": "2023-03-13T01:06:12.484Z"
   },
   {
    "duration": 3,
    "start_time": "2023-03-13T01:06:12.574Z"
   },
   {
    "duration": 7,
    "start_time": "2023-03-13T01:06:12.578Z"
   },
   {
    "duration": 21,
    "start_time": "2023-03-13T01:06:12.656Z"
   },
   {
    "duration": 3,
    "start_time": "2023-03-13T01:06:12.679Z"
   },
   {
    "duration": 78,
    "start_time": "2023-03-13T01:06:12.684Z"
   },
   {
    "duration": 20,
    "start_time": "2023-03-13T01:06:12.763Z"
   },
   {
    "duration": 83,
    "start_time": "2023-03-13T01:06:12.785Z"
   },
   {
    "duration": 15,
    "start_time": "2023-03-13T01:06:12.870Z"
   },
   {
    "duration": 90,
    "start_time": "2023-03-13T01:06:12.887Z"
   },
   {
    "duration": 86,
    "start_time": "2023-03-13T01:06:12.979Z"
   },
   {
    "duration": 5,
    "start_time": "2023-03-13T02:33:49.971Z"
   },
   {
    "duration": 4,
    "start_time": "2023-03-13T02:33:55.328Z"
   },
   {
    "duration": 33,
    "start_time": "2023-03-13T02:33:58.256Z"
   },
   {
    "duration": 8,
    "start_time": "2023-03-13T02:34:00.941Z"
   },
   {
    "duration": 3,
    "start_time": "2023-03-13T02:42:10.906Z"
   },
   {
    "duration": 5,
    "start_time": "2023-03-13T02:43:34.328Z"
   },
   {
    "duration": 3,
    "start_time": "2023-03-13T02:44:10.578Z"
   },
   {
    "duration": 3,
    "start_time": "2023-03-13T02:44:11.539Z"
   },
   {
    "duration": 4,
    "start_time": "2023-03-13T02:44:52.574Z"
   },
   {
    "duration": 2,
    "start_time": "2023-03-13T02:44:57.093Z"
   },
   {
    "duration": 2,
    "start_time": "2023-03-13T02:44:57.697Z"
   },
   {
    "duration": 15,
    "start_time": "2023-03-13T02:45:31.653Z"
   },
   {
    "duration": 8,
    "start_time": "2023-03-13T02:47:39.513Z"
   },
   {
    "duration": 8,
    "start_time": "2023-03-13T02:47:40.378Z"
   },
   {
    "duration": 7,
    "start_time": "2023-03-13T02:47:45.992Z"
   },
   {
    "duration": 8,
    "start_time": "2023-03-13T02:47:48.542Z"
   },
   {
    "duration": 4,
    "start_time": "2023-03-13T02:47:50.252Z"
   },
   {
    "duration": 7,
    "start_time": "2023-03-13T02:52:56.543Z"
   },
   {
    "duration": 8,
    "start_time": "2023-03-13T02:53:05.187Z"
   },
   {
    "duration": 3,
    "start_time": "2023-03-13T02:53:40.285Z"
   },
   {
    "duration": 4,
    "start_time": "2023-03-13T02:53:41.637Z"
   },
   {
    "duration": 6,
    "start_time": "2023-03-13T02:53:45.278Z"
   },
   {
    "duration": 3,
    "start_time": "2023-03-13T02:54:08.995Z"
   },
   {
    "duration": 6,
    "start_time": "2023-03-13T02:54:09.996Z"
   },
   {
    "duration": 8,
    "start_time": "2023-03-13T02:54:12.526Z"
   },
   {
    "duration": 3,
    "start_time": "2023-03-13T02:55:12.647Z"
   },
   {
    "duration": 3,
    "start_time": "2023-03-13T02:55:52.790Z"
   },
   {
    "duration": 7,
    "start_time": "2023-03-13T02:56:04.880Z"
   },
   {
    "duration": 5,
    "start_time": "2023-03-13T02:57:16.879Z"
   },
   {
    "duration": 9,
    "start_time": "2023-03-13T02:58:06.051Z"
   },
   {
    "duration": 9,
    "start_time": "2023-03-13T02:59:29.072Z"
   },
   {
    "duration": 132,
    "start_time": "2023-03-13T02:59:31.794Z"
   },
   {
    "duration": 4,
    "start_time": "2023-03-13T03:23:19.926Z"
   },
   {
    "duration": 4,
    "start_time": "2023-03-13T03:25:13.897Z"
   },
   {
    "duration": 15,
    "start_time": "2023-03-13T03:25:16.789Z"
   },
   {
    "duration": 9,
    "start_time": "2023-03-13T03:25:41.588Z"
   },
   {
    "duration": 4,
    "start_time": "2023-03-13T03:26:00.029Z"
   },
   {
    "duration": 6,
    "start_time": "2023-03-13T03:26:04.085Z"
   },
   {
    "duration": 10,
    "start_time": "2023-03-13T03:26:06.732Z"
   },
   {
    "duration": 7,
    "start_time": "2023-03-13T03:26:08.531Z"
   },
   {
    "duration": 6,
    "start_time": "2023-03-13T03:26:49.005Z"
   },
   {
    "duration": 9,
    "start_time": "2023-03-13T03:26:51.797Z"
   },
   {
    "duration": 4,
    "start_time": "2023-03-13T03:29:20.727Z"
   },
   {
    "duration": 9,
    "start_time": "2023-03-13T03:30:00.795Z"
   },
   {
    "duration": 6,
    "start_time": "2023-03-13T03:33:43.405Z"
   },
   {
    "duration": 1121,
    "start_time": "2023-03-13T05:23:38.786Z"
   },
   {
    "duration": 262,
    "start_time": "2023-03-13T05:23:39.909Z"
   },
   {
    "duration": 42,
    "start_time": "2023-03-13T05:23:40.172Z"
   },
   {
    "duration": 4,
    "start_time": "2023-03-13T05:23:40.217Z"
   },
   {
    "duration": 17,
    "start_time": "2023-03-13T05:23:40.223Z"
   },
   {
    "duration": 3,
    "start_time": "2023-03-13T05:23:40.241Z"
   },
   {
    "duration": 5,
    "start_time": "2023-03-13T05:23:40.245Z"
   },
   {
    "duration": 34,
    "start_time": "2023-03-13T05:23:40.251Z"
   },
   {
    "duration": 19,
    "start_time": "2023-03-13T05:23:40.295Z"
   },
   {
    "duration": 8,
    "start_time": "2023-03-13T05:23:40.317Z"
   },
   {
    "duration": 79,
    "start_time": "2023-03-13T05:23:40.326Z"
   },
   {
    "duration": 11,
    "start_time": "2023-03-13T05:23:40.407Z"
   },
   {
    "duration": 6,
    "start_time": "2023-03-13T05:23:40.420Z"
   },
   {
    "duration": 4,
    "start_time": "2023-03-13T05:23:40.427Z"
   },
   {
    "duration": 4,
    "start_time": "2023-03-13T05:23:40.432Z"
   },
   {
    "duration": 5,
    "start_time": "2023-03-13T05:23:40.437Z"
   },
   {
    "duration": 29,
    "start_time": "2023-03-13T05:23:40.443Z"
   },
   {
    "duration": 1097,
    "start_time": "2023-03-13T05:23:40.483Z"
   },
   {
    "duration": 8,
    "start_time": "2023-03-13T05:23:41.587Z"
   },
   {
    "duration": 7,
    "start_time": "2023-03-13T05:23:41.597Z"
   },
   {
    "duration": 5,
    "start_time": "2023-03-13T05:23:41.606Z"
   },
   {
    "duration": 6,
    "start_time": "2023-03-13T05:23:41.612Z"
   },
   {
    "duration": 1073,
    "start_time": "2023-03-13T05:23:41.619Z"
   },
   {
    "duration": 5,
    "start_time": "2023-03-13T05:23:42.694Z"
   },
   {
    "duration": 6,
    "start_time": "2023-03-13T05:23:42.700Z"
   },
   {
    "duration": 6,
    "start_time": "2023-03-13T05:23:42.707Z"
   },
   {
    "duration": 4,
    "start_time": "2023-03-13T05:23:42.715Z"
   },
   {
    "duration": 131,
    "start_time": "2023-03-13T05:23:42.723Z"
   },
   {
    "duration": 393,
    "start_time": "2023-03-13T05:23:42.855Z"
   },
   {
    "duration": 4,
    "start_time": "2023-03-13T05:23:43.249Z"
   },
   {
    "duration": 10,
    "start_time": "2023-03-13T05:23:43.258Z"
   },
   {
    "duration": 15,
    "start_time": "2023-03-13T05:23:43.269Z"
   },
   {
    "duration": 6,
    "start_time": "2023-03-13T05:23:43.285Z"
   },
   {
    "duration": 7,
    "start_time": "2023-03-13T05:23:43.293Z"
   },
   {
    "duration": 3,
    "start_time": "2023-03-13T05:23:43.303Z"
   },
   {
    "duration": 7,
    "start_time": "2023-03-13T05:23:43.307Z"
   },
   {
    "duration": 8,
    "start_time": "2023-03-13T05:23:43.316Z"
   },
   {
    "duration": 18,
    "start_time": "2023-03-13T05:23:43.326Z"
   },
   {
    "duration": 8,
    "start_time": "2023-03-13T05:23:43.345Z"
   },
   {
    "duration": 34,
    "start_time": "2023-03-13T05:23:43.354Z"
   },
   {
    "duration": 10,
    "start_time": "2023-03-13T05:23:43.390Z"
   },
   {
    "duration": 11,
    "start_time": "2023-03-13T05:23:43.401Z"
   },
   {
    "duration": 7,
    "start_time": "2023-03-13T05:23:43.413Z"
   },
   {
    "duration": 4,
    "start_time": "2023-03-13T05:23:43.421Z"
   },
   {
    "duration": 11,
    "start_time": "2023-03-13T05:23:43.426Z"
   },
   {
    "duration": 120,
    "start_time": "2023-03-13T05:23:43.439Z"
   },
   {
    "duration": 10,
    "start_time": "2023-03-13T05:23:43.560Z"
   },
   {
    "duration": 28,
    "start_time": "2023-03-13T05:23:43.571Z"
   },
   {
    "duration": 7,
    "start_time": "2023-03-13T05:23:43.600Z"
   },
   {
    "duration": 3,
    "start_time": "2023-03-13T05:23:43.608Z"
   },
   {
    "duration": 8,
    "start_time": "2023-03-13T05:23:43.613Z"
   },
   {
    "duration": 3,
    "start_time": "2023-03-13T05:23:43.623Z"
   },
   {
    "duration": 5,
    "start_time": "2023-03-13T05:23:43.627Z"
   },
   {
    "duration": 47,
    "start_time": "2023-03-13T05:23:43.633Z"
   },
   {
    "duration": 15,
    "start_time": "2023-03-13T05:23:43.681Z"
   },
   {
    "duration": 10,
    "start_time": "2023-03-13T05:23:43.754Z"
   },
   {
    "duration": 11,
    "start_time": "2023-03-13T05:23:43.765Z"
   },
   {
    "duration": 18,
    "start_time": "2023-03-13T05:23:43.778Z"
   },
   {
    "duration": 8,
    "start_time": "2023-03-13T05:23:43.797Z"
   },
   {
    "duration": 1319,
    "start_time": "2023-03-13T06:51:35.458Z"
   },
   {
    "duration": 1104,
    "start_time": "2023-03-13T06:51:36.779Z"
   },
   {
    "duration": 107,
    "start_time": "2023-03-13T06:51:37.884Z"
   },
   {
    "duration": 4,
    "start_time": "2023-03-13T06:51:37.993Z"
   },
   {
    "duration": 21,
    "start_time": "2023-03-13T06:51:37.998Z"
   },
   {
    "duration": 4,
    "start_time": "2023-03-13T06:51:38.021Z"
   },
   {
    "duration": 9,
    "start_time": "2023-03-13T06:51:38.027Z"
   },
   {
    "duration": 16,
    "start_time": "2023-03-13T06:51:38.038Z"
   },
   {
    "duration": 24,
    "start_time": "2023-03-13T06:51:38.057Z"
   },
   {
    "duration": 12,
    "start_time": "2023-03-13T06:51:38.085Z"
   },
   {
    "duration": 68,
    "start_time": "2023-03-13T06:51:38.099Z"
   },
   {
    "duration": 12,
    "start_time": "2023-03-13T06:51:38.169Z"
   },
   {
    "duration": 21,
    "start_time": "2023-03-13T06:51:38.182Z"
   },
   {
    "duration": 26,
    "start_time": "2023-03-13T06:51:38.205Z"
   },
   {
    "duration": 13,
    "start_time": "2023-03-13T06:51:38.233Z"
   },
   {
    "duration": 11,
    "start_time": "2023-03-13T06:51:38.248Z"
   },
   {
    "duration": 25,
    "start_time": "2023-03-13T06:51:38.261Z"
   },
   {
    "duration": 1083,
    "start_time": "2023-03-13T06:51:38.287Z"
   },
   {
    "duration": 5,
    "start_time": "2023-03-13T06:51:39.372Z"
   },
   {
    "duration": 9,
    "start_time": "2023-03-13T06:51:39.379Z"
   },
   {
    "duration": 19,
    "start_time": "2023-03-13T06:51:39.390Z"
   },
   {
    "duration": 23,
    "start_time": "2023-03-13T06:51:39.410Z"
   },
   {
    "duration": 1071,
    "start_time": "2023-03-13T06:51:39.435Z"
   },
   {
    "duration": 5,
    "start_time": "2023-03-13T06:51:40.508Z"
   },
   {
    "duration": 6,
    "start_time": "2023-03-13T06:51:40.514Z"
   },
   {
    "duration": 19,
    "start_time": "2023-03-13T06:51:40.522Z"
   },
   {
    "duration": 4,
    "start_time": "2023-03-13T06:51:40.543Z"
   },
   {
    "duration": 100,
    "start_time": "2023-03-13T06:51:40.550Z"
   },
   {
    "duration": 403,
    "start_time": "2023-03-13T06:51:40.652Z"
   },
   {
    "duration": 5,
    "start_time": "2023-03-13T06:51:41.057Z"
   },
   {
    "duration": 5,
    "start_time": "2023-03-13T06:51:41.064Z"
   },
   {
    "duration": 6,
    "start_time": "2023-03-13T06:51:41.070Z"
   },
   {
    "duration": 5,
    "start_time": "2023-03-13T06:51:41.078Z"
   },
   {
    "duration": 4,
    "start_time": "2023-03-13T06:51:41.085Z"
   },
   {
    "duration": 5,
    "start_time": "2023-03-13T06:51:41.091Z"
   },
   {
    "duration": 44,
    "start_time": "2023-03-13T06:51:41.097Z"
   },
   {
    "duration": 5,
    "start_time": "2023-03-13T06:51:41.143Z"
   },
   {
    "duration": 12,
    "start_time": "2023-03-13T06:51:41.149Z"
   },
   {
    "duration": 8,
    "start_time": "2023-03-13T06:51:41.163Z"
   },
   {
    "duration": 7,
    "start_time": "2023-03-13T06:51:41.173Z"
   },
   {
    "duration": 7,
    "start_time": "2023-03-13T06:51:41.182Z"
   },
   {
    "duration": 9,
    "start_time": "2023-03-13T06:51:41.191Z"
   },
   {
    "duration": 3,
    "start_time": "2023-03-13T06:51:41.201Z"
   },
   {
    "duration": 35,
    "start_time": "2023-03-13T06:51:41.206Z"
   },
   {
    "duration": 9,
    "start_time": "2023-03-13T06:51:41.243Z"
   },
   {
    "duration": 87,
    "start_time": "2023-03-13T06:51:41.254Z"
   },
   {
    "duration": 6,
    "start_time": "2023-03-13T06:51:41.343Z"
   },
   {
    "duration": 4,
    "start_time": "2023-03-13T06:51:41.351Z"
   },
   {
    "duration": 87,
    "start_time": "2023-03-13T06:51:41.357Z"
   },
   {
    "duration": 7,
    "start_time": "2023-03-13T06:51:41.446Z"
   },
   {
    "duration": 16,
    "start_time": "2023-03-13T06:51:41.455Z"
   },
   {
    "duration": 11,
    "start_time": "2023-03-13T06:51:41.473Z"
   },
   {
    "duration": 7,
    "start_time": "2023-03-13T06:51:41.486Z"
   },
   {
    "duration": 15,
    "start_time": "2023-03-13T06:51:41.495Z"
   },
   {
    "duration": 6,
    "start_time": "2023-03-13T06:51:41.541Z"
   },
   {
    "duration": 9,
    "start_time": "2023-03-13T06:51:41.549Z"
   },
   {
    "duration": 5,
    "start_time": "2023-03-13T06:51:41.642Z"
   },
   {
    "duration": 9,
    "start_time": "2023-03-13T06:51:41.649Z"
   },
   {
    "duration": 85,
    "start_time": "2023-03-13T06:51:41.659Z"
   }
  ],
  "kernelspec": {
   "display_name": "Python 3 (ipykernel)",
   "language": "python",
   "name": "python3"
  },
  "language_info": {
   "codemirror_mode": {
    "name": "ipython",
    "version": 3
   },
   "file_extension": ".py",
   "mimetype": "text/x-python",
   "name": "python",
   "nbconvert_exporter": "python",
   "pygments_lexer": "ipython3",
   "version": "3.9.13"
  },
  "toc": {
   "base_numbering": 1,
   "nav_menu": {},
   "number_sections": true,
   "sideBar": true,
   "skip_h1_title": true,
   "title_cell": "Table of Contents",
   "title_sidebar": "Contents",
   "toc_cell": false,
   "toc_position": {},
   "toc_section_display": true,
   "toc_window_display": false
  }
 },
 "nbformat": 4,
 "nbformat_minor": 5
}
